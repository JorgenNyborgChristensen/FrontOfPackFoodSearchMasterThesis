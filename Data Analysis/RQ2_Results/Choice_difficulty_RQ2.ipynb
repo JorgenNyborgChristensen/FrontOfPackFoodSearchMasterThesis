{
 "cells": [
  {
   "cell_type": "code",
   "execution_count": 293,
   "id": "determined-finger",
   "metadata": {},
   "outputs": [],
   "source": [
    "import matplotlib.pyplot as plt\n",
    "import numpy as np\n",
    "import pandas as pd\n",
    "import seaborn as sns\n",
    "import warnings\n",
    "from pylab import rcParams\n",
    "from scipy import stats\n",
    "\n",
    "from scipy.stats import f_oneway\n",
    "from scipy.stats import ttest_ind\n",
    "import statsmodels.api as sm\n",
    "from statsmodels.formula.api import ols\n",
    "pd.set_option('display.max_columns', 1000)\n",
    "pd.set_option('display.max_rows', 1000)"
   ]
  },
  {
   "cell_type": "code",
   "execution_count": 294,
   "id": "interesting-trash",
   "metadata": {},
   "outputs": [],
   "source": [
    "%matplotlib inline\n",
    "warnings.filterwarnings(\"ignore\")\n",
    "rcParams['figure.figsize'] = 20,10\n",
    "rcParams['font.size'] = 30\n",
    "sns.set()\n",
    "np.random.seed(8)"
   ]
  },
  {
   "cell_type": "code",
   "execution_count": 295,
   "id": "synthetic-attribute",
   "metadata": {},
   "outputs": [],
   "source": [
    "# Selected recipes\n",
    "s1 = pd.read_csv(\"./Pro_1/selectedrecipes.csv\")\n",
    "s2 = pd.read_csv(\"./Pro_2/selectedrecipes.csv\")\n",
    "s3 = pd.read_csv(\"./Pro_3/selectedrecipes.csv\")\n",
    "\n",
    "\n",
    "# Demographic\n",
    "demo1 = pd.read_csv(\"./Pro_1/demographics.csv\")\n",
    "demo2 = pd.read_csv(\"./Pro_2/demographics.csv\")\n",
    "demo3 = pd.read_csv(\"./Pro_3/demographics.csv\")\n",
    "md = pd.concat([demo1, demo2, demo3])"
   ]
  },
  {
   "cell_type": "code",
   "execution_count": 296,
   "id": "conventional-sharp",
   "metadata": {},
   "outputs": [],
   "source": [
    "# Add all data to one DF\n",
    "ms = pd.concat([s1, s2, s3])"
   ]
  },
  {
   "cell_type": "markdown",
   "id": "signed-discrimination",
   "metadata": {},
   "source": [
    "# Factoral analysis\n",
    "* Determine if we can use the mean of the 3 questions\n",
    "\n",
    "http://www.let.rug.nl/nerbonne/teach/rema-stats-meth-seminar/student-papers/MHof-QuestionnaireEvaluation-2012-Cronbach-FactAnalysis.pdf"
   ]
  },
  {
   "cell_type": "code",
   "execution_count": 362,
   "id": "sought-intranet",
   "metadata": {},
   "outputs": [
    {
     "name": "stdout",
     "output_type": "stream",
     "text": [
      "[0.74894639 0.57924798 0.69096371 0.73417146 0.67318925 0.66434595]\n",
      "Factor Loadings \n",
      "               Factor 1  Factor 2  Factor 3  Factor 4  Factor 5\n",
      "choice_sat_q1  0.683589  0.043961  0.084034  0.023783  0.253381\n",
      "choice_sat_q2  0.044861 -0.619727  0.294584  0.166537 -0.038164\n",
      "choice_sat_q3  0.847218  0.029235  0.058127  0.008558 -0.054717\n",
      "choice_sat_q4  0.635115 -0.089592 -0.191284  0.279430  0.026966\n",
      "choice_sat_q5  0.027076  0.838350  0.095314  0.057938 -0.014752\n",
      "choice_sat_q6 -0.025320 -0.125525  0.560802 -0.042232  0.020536\n"
     ]
    }
   ],
   "source": [
    "from factor_analyzer import FactorAnalyzer\n",
    "from factor_analyzer.factor_analyzer import calculate_kmo\n",
    "\n",
    "choice_sat = ms[[\"choice_sat_q1\",\"choice_sat_q2\", \"choice_sat_q3\",\"choice_sat_q4\",\"choice_sat_q5\", \"choice_sat_q6\"]]\n",
    "\n",
    "kmo_all,kmo_model=calculate_kmo(choice_sat)\n",
    "\n",
    "fa = FactorAnalyzer(5)\n",
    "fa.fit(choice_sat)\n",
    "\n",
    "loadings = pd.DataFrame(fa.loadings_, columns=['Factor 1', 'Factor 2', 'Factor 3', 'Factor 4', 'Factor 5'], index=choice_sat.columns)\n",
    "print(kmo_all)\n",
    "print('Factor Loadings \\n%s' %loadings)\n"
   ]
  },
  {
   "cell_type": "code",
   "execution_count": 378,
   "id": "legitimate-teens",
   "metadata": {},
   "outputs": [
    {
     "name": "stdout",
     "output_type": "stream",
     "text": [
      "[0.50427198 0.70218281 0.50436666]\n",
      "0.5070495257807768\n",
      "Factor Loadings \n",
      "               Factor 1  Factor 2\n",
      "choice_sat_q1  0.736774 -0.134843\n",
      "choice_sat_q2  0.003396  0.217475\n",
      "choice_sat_q3  0.842712  0.094095\n"
     ]
    }
   ],
   "source": [
    "choice_sat = ms[[\"choice_sat_q1\",\"choice_sat_q2\", \"choice_sat_q3\"]]\n",
    "\n",
    "kmo_all,kmo_model=calculate_kmo(choice_sat)\n",
    "\n",
    "fa = FactorAnalyzer(2)\n",
    "fa.fit(choice_sat)\n",
    "\n",
    "loadings = pd.DataFrame(fa.loadings_, columns=['Factor 1', 'Factor 2'], index=choice_sat.columns)\n",
    "print(kmo_all)\n",
    "print(kmo_model)\n",
    "print('Factor Loadings \\n%s' %loadings)\n"
   ]
  },
  {
   "cell_type": "code",
   "execution_count": 377,
   "id": "reduced-portugal",
   "metadata": {},
   "outputs": [
    {
     "name": "stdout",
     "output_type": "stream",
     "text": [
      "[0.624015   0.55059786 0.56700716]\n",
      "0.5706138944871872\n",
      "Factor Loadings \n",
      "               Factor 1  Factor 2\n",
      "choice_sat_q4  0.021641  0.451533\n",
      "choice_sat_q5 -0.423644  0.245897\n",
      "choice_sat_q6  0.588209  0.059159\n"
     ]
    }
   ],
   "source": [
    "choice_sat = ms[[\"choice_sat_q4\",\"choice_sat_q5\", \"choice_sat_q6\"]]\n",
    "\n",
    "kmo_all,kmo_model=calculate_kmo(choice_sat)\n",
    "\n",
    "fa = FactorAnalyzer(2)\n",
    "fa.fit(choice_sat)\n",
    "\n",
    "loadings = pd.DataFrame(fa.loadings_, columns=['Factor 1', 'Factor 2'], index=choice_sat.columns)\n",
    "print(kmo_all)\n",
    "print(kmo_model)\n",
    "print('Factor Loadings \\n%s' %loadings)\n"
   ]
  },
  {
   "cell_type": "markdown",
   "id": "minute-skiing",
   "metadata": {},
   "source": [
    "## Cronbach’s Alpha\n",
    "http://www.let.rug.nl/nerbonne/teach/rema-stats-meth-seminar/student-papers/MHof-QuestionnaireEvaluation-2012-Cronbach-FactAnalysis.pdf"
   ]
  },
  {
   "cell_type": "code",
   "execution_count": 368,
   "id": "devoted-headline",
   "metadata": {},
   "outputs": [
    {
     "data": {
      "text/plain": [
       "(0.27887282008534137, array([0.23 , 0.325]))"
      ]
     },
     "execution_count": 368,
     "metadata": {},
     "output_type": "execute_result"
    }
   ],
   "source": [
    "import pingouin as pg\n",
    "\n",
    "choice_sat = ms[[\"choice_sat_q1\",\"choice_sat_q2\", \"choice_sat_q3\",\"choice_sat_q4\",\"choice_sat_q5\", \"choice_sat_q6\"]]\n",
    "\n",
    "pg.cronbach_alpha(data=choice_sat)"
   ]
  },
  {
   "cell_type": "code",
   "execution_count": 369,
   "id": "realistic-context",
   "metadata": {},
   "outputs": [
    {
     "data": {
      "text/plain": [
       "(-0.4068228560536902, array([-0.514, -0.306]))"
      ]
     },
     "execution_count": 369,
     "metadata": {},
     "output_type": "execute_result"
    }
   ],
   "source": [
    "# Choice difficulty questions\n",
    "choice_sat = ms[[\"choice_sat_q4\",\"choice_sat_q5\", \"choice_sat_q6\"]]\n",
    "\n",
    "pg.cronbach_alpha(data=choice_sat)"
   ]
  },
  {
   "cell_type": "code",
   "execution_count": 370,
   "id": "expressed-think",
   "metadata": {},
   "outputs": [
    {
     "data": {
      "text/plain": [
       "(0.22938496356041177, array([0.171, 0.284]))"
      ]
     },
     "execution_count": 370,
     "metadata": {},
     "output_type": "execute_result"
    }
   ],
   "source": [
    "# Choice satisfaction questions\n",
    "choice_sat = ms[[\"choice_sat_q1\",\"choice_sat_q2\", \"choice_sat_q3\"]]\n",
    "pg.cronbach_alpha(data=choice_sat)"
   ]
  },
  {
   "cell_type": "markdown",
   "id": "occasional-measure",
   "metadata": {},
   "source": [
    "# Get the variables"
   ]
  },
  {
   "cell_type": "code",
   "execution_count": 298,
   "id": "first-resistance",
   "metadata": {},
   "outputs": [],
   "source": [
    "# Calculate mean for choice difficulty for each participant (DROP QUESTION 5: \"5. It was easy to make this choice\")\n",
    "choice_dif1 = s1[[\"choice_sat_q4\", \"choice_sat_q6\"]]\n",
    "s1['choice_dif_mean'] = choice_dif1.mean(axis=1)\n",
    "\n",
    "choice_dif2 = s2[[\"choice_sat_q4\", \"choice_sat_q6\"]]\n",
    "s2['choice_dif_mean'] = choice_dif2.mean(axis=1)\n",
    "\n",
    "choice_dif3 = s3[[\"choice_sat_q4\", \"choice_sat_q6\"]]\n",
    "s3['choice_dif_mean'] = choice_dif3.mean(axis=1)"
   ]
  },
  {
   "cell_type": "code",
   "execution_count": 299,
   "id": "arranged-helping",
   "metadata": {},
   "outputs": [],
   "source": [
    "shown1 = s1\n",
    "shown2 = s2\n",
    "shown3 = s3 \n",
    "\n",
    "# Condition 1 variants\n",
    "s1v1 = shown1.loc[shown1['variant'] == 1]\n",
    "s1v2 = shown1.loc[shown1['variant'] == 2] \n",
    "s1v3 = shown1.loc[shown1['variant'] == 3]\n",
    "\n",
    "# Condition 2 variants\n",
    "s2v1 = shown2.loc[shown2['variant'] == 1]\n",
    "s2v2 = shown2.loc[shown2['variant'] == 2]\n",
    "s2v3 = shown2.loc[shown2['variant'] == 3]\n",
    "\n",
    "# Condition 3 variants\n",
    "s3v1 = shown3.loc[shown3['variant'] == 1]\n",
    "s3v2 = shown3.loc[shown3['variant'] == 2]\n",
    "s3v3 = shown3.loc[shown3['variant'] == 3]\n"
   ]
  },
  {
   "cell_type": "code",
   "execution_count": 300,
   "id": "victorian-plymouth",
   "metadata": {},
   "outputs": [],
   "source": [
    "# Take the mean of the 3 choice difficulty questions for each participant\n",
    "h1 = s1v3['choice_dif_mean'].to_numpy()\n",
    "h2 = s2v3['choice_dif_mean'].to_numpy()\n",
    "h3 = s3v3['choice_dif_mean'].to_numpy()\n",
    "\n",
    "r1 = s1v2['choice_dif_mean'].to_numpy()\n",
    "r2 = s2v2['choice_dif_mean'].to_numpy()\n",
    "r3 = s3v2['choice_dif_mean'].to_numpy()\n",
    "\n",
    "p1 = s1v1['choice_dif_mean'].to_numpy()\n",
    "p2 = s2v1['choice_dif_mean'].to_numpy()\n",
    "p3 = s3v1['choice_dif_mean'].to_numpy()"
   ]
  },
  {
   "cell_type": "code",
   "execution_count": 301,
   "id": "fluid-merchant",
   "metadata": {},
   "outputs": [],
   "source": [
    "# EXCLUDE VEGANS\n",
    "no_veg_id = md['user_id'].loc[md['restrictions'] != \"vegan\"].values\n",
    "\n",
    "s1_no_veg = s1[s1['user_id'].isin(no_veg_id)]\n",
    "s2_no_veg = s2[s2['user_id'].isin(no_veg_id)]\n",
    "s3_no_veg = s3[s3['user_id'].isin(no_veg_id)]\n",
    "\n",
    "s1_fsa_no_veg = s1_no_veg['choice_dif_mean'].to_numpy()\n",
    "s2_fsa_no_veg = s2_no_veg['choice_dif_mean'].to_numpy()\n",
    "s3_fsa_no_veg = s3_no_veg['choice_dif_mean'].to_numpy()\n",
    "\n",
    "# Condition 1 variants \n",
    "s1v1_no_veg = s1_no_veg.loc[s1_no_veg['variant'] == 1]\n",
    "s1v2_no_veg = s1_no_veg.loc[s1_no_veg['variant'] == 2]\n",
    "s1v3_no_veg = s1_no_veg.loc[s1_no_veg['variant'] == 3]\n",
    "\n",
    "# Condition 2 variants\n",
    "s2v1_no_veg = s2_no_veg.loc[s2_no_veg['variant'] == 1]\n",
    "s2v2_no_veg = s2_no_veg.loc[s2_no_veg['variant'] == 2]\n",
    "s2v3_no_veg = s2_no_veg.loc[s2_no_veg['variant'] == 3]\n",
    "\n",
    "# Condition 3 variants\n",
    "s3v1_no_veg = s3_no_veg.loc[s3_no_veg['variant'] == 1]\n",
    "s3v2_no_veg = s3_no_veg.loc[s3_no_veg['variant'] == 2]\n",
    "s3v3_no_veg = s3_no_veg.loc[s3_no_veg['variant'] == 3]\n",
    "\n",
    "# Choice difficulty for each variant\n",
    "s1v1_fsa_no_veg = s1v1_no_veg['choice_dif_mean'].to_numpy()\n",
    "s1v2_fsa_no_veg = s1v2_no_veg['choice_dif_mean'].to_numpy()\n",
    "s1v3_fsa_no_veg = s1v3_no_veg['choice_dif_mean'].to_numpy()\n",
    "\n",
    "s2v1_fsa_no_veg = s2v1_no_veg['choice_dif_mean'].to_numpy()\n",
    "s2v2_fsa_no_veg = s2v2_no_veg['choice_dif_mean'].to_numpy()\n",
    "s2v3_fsa_no_veg = s2v3_no_veg['choice_dif_mean'].to_numpy()\n",
    "\n",
    "s3v1_fsa_no_veg = s3v1_no_veg['choice_dif_mean'].to_numpy()\n",
    "s3v2_fsa_no_veg = s3v2_no_veg['choice_dif_mean'].to_numpy()\n",
    "s3v3_fsa_no_veg = s3v3_no_veg['choice_dif_mean'].to_numpy()"
   ]
  },
  {
   "cell_type": "code",
   "execution_count": 302,
   "id": "embedded-buying",
   "metadata": {},
   "outputs": [],
   "source": [
    "# EXCLUDE ALLERGIES\n",
    "no_allerg_id = md['user_id'].loc[md['restrictions'] != \"allergies\"].values\n",
    "\n",
    "s1_no_allerg = s1[s1['user_id'].isin(no_allerg_id)]\n",
    "s2_no_allerg = s2[s2['user_id'].isin(no_allerg_id)]\n",
    "s3_no_allerg = s3[s3['user_id'].isin(no_allerg_id)]\n",
    "\n",
    "s1_fsa_no_allerg = s1_no_allerg['choice_dif_mean'].to_numpy()\n",
    "s2_fsa_no_allerg = s2_no_allerg['choice_dif_mean'].to_numpy()\n",
    "s3_fsa_no_allerg = s3_no_allerg['choice_dif_mean'].to_numpy()\n",
    "\n",
    "# Condition 1 variants \n",
    "s1v1_no_allerg = s1_no_allerg.loc[s1_no_allerg['variant'] == 1]\n",
    "s1v2_no_allerg = s1_no_allerg.loc[s1_no_allerg['variant'] == 2]\n",
    "s1v3_no_allerg = s1_no_allerg.loc[s1_no_allerg['variant'] == 3]\n",
    "\n",
    "# Condition 2 variants\n",
    "s2v1_no_allerg = s2_no_allerg.loc[s2_no_allerg['variant'] == 1]\n",
    "s2v2_no_allerg = s2_no_allerg.loc[s2_no_allerg['variant'] == 2]\n",
    "s2v3_no_allerg = s2_no_allerg.loc[s2_no_allerg['variant'] == 3]\n",
    "\n",
    "# Condition 3 variants\n",
    "s3v1_no_allerg = s3_no_allerg.loc[s3_no_allerg['variant'] == 1]\n",
    "s3v2_no_allerg = s3_no_allerg.loc[s3_no_allerg['variant'] == 2]\n",
    "s3v3_no_allerg = s3_no_allerg.loc[s3_no_allerg['variant'] == 3]\n",
    "\n",
    "# Chice difficulty for each variant\n",
    "s1v1_fsa_no_allerg = s1v1_no_allerg['choice_dif_mean'].to_numpy()\n",
    "s1v2_fsa_no_allerg = s1v2_no_allerg['choice_dif_mean'].to_numpy()\n",
    "s1v3_fsa_no_allerg = s1v3_no_allerg['choice_dif_mean'].to_numpy()\n",
    "\n",
    "s2v1_fsa_no_allerg = s2v1_no_allerg['choice_dif_mean'].to_numpy()\n",
    "s2v2_fsa_no_allerg = s2v2_no_allerg['choice_dif_mean'].to_numpy()\n",
    "s2v3_fsa_no_allerg = s2v3_no_allerg['choice_dif_mean'].to_numpy()\n",
    "\n",
    "s3v1_fsa_no_allerg = s3v1_no_allerg['choice_dif_mean'].to_numpy()\n",
    "s3v2_fsa_no_allerg = s3v2_no_allerg['choice_dif_mean'].to_numpy()\n",
    "s3v3_fsa_no_allerg = s3v3_no_allerg['choice_dif_mean'].to_numpy()"
   ]
  },
  {
   "cell_type": "code",
   "execution_count": 303,
   "id": "refined-trademark",
   "metadata": {},
   "outputs": [],
   "source": [
    "# Add all data to one DF\n",
    "ms = pd.concat([s1, s2, s3])"
   ]
  },
  {
   "cell_type": "code",
   "execution_count": 304,
   "id": "public-species",
   "metadata": {},
   "outputs": [
    {
     "data": {
      "text/plain": [
       "<matplotlib.lines.Line2D at 0x28dcf85ddc8>"
      ]
     },
     "execution_count": 304,
     "metadata": {},
     "output_type": "execute_result"
    },
    {
     "data": {
      "image/png": "[encoded data removed]",
      "text/plain": [
       "<Figure size 1440x720 with 1 Axes>"
      ]
     },
     "metadata": {},
     "output_type": "display_data"
    }
   ],
   "source": [
    "# Compare\n",
    "plt.figure()\n",
    "ax1 = sns.distplot(h1)\n",
    "ax2 = sns.distplot(h2)\n",
    "ax3 = sns.distplot(h3)\n",
    "plt.axvline(np.mean(h1), color='blue', linestyle='dashed', linewidth=5)    # Nutri-score health rank\n",
    "plt.axvline(np.mean(h2), color='orange', linestyle='dashed', linewidth=5)  # MTL health rank\n",
    "plt.axvline(np.mean(h3), color='green', linestyle='dashed', linewidth=5)   # No-label health rank"
   ]
  },
  {
   "cell_type": "markdown",
   "id": "julian-airline",
   "metadata": {},
   "source": [
    "# RQ2: Can the presence of a front-of-pack nutrition label in combination with a health ranking decrease choice difficulty?\n",
    "\n",
    "Summary: \n",
    "1. \n",
    "\n",
    "\n",
    "\n",
    "\n",
    "Questions: \n",
    "* 4. I changed my mind several times before making a decision\n",
    "* 5. It was easy to make this choice (this questions was not included) \n",
    "* 6. Making a choice was overwhelming\n",
    "\n",
    "Answers:\n",
    "Strongly disagree = -2\n",
    "Disagree = 1\n",
    "Neither disagree/agree = 0\n",
    "Agree = 1\n",
    "Strongly agree = 2\n",
    "\n",
    "Choice difficulty: \n",
    "* -2 = Easy to make a choice\n",
    "* 2 = Hard to make a choice"
   ]
  },
  {
   "cell_type": "markdown",
   "id": "documentary-florida",
   "metadata": {},
   "source": [
    "## Compare choice difficulty between conditions"
   ]
  },
  {
   "cell_type": "code",
   "execution_count": 255,
   "id": "discrete-preservation",
   "metadata": {},
   "outputs": [
    {
     "data": {
      "text/plain": [
       "F_onewayResult(statistic=5.219591308452267, pvalue=0.005479111237107037)"
      ]
     },
     "execution_count": 255,
     "metadata": {},
     "output_type": "execute_result"
    }
   ],
   "source": [
    "f_oneway(s1['choice_dif_mean'], s2['choice_dif_mean'], s3['choice_dif_mean'])"
   ]
  },
  {
   "cell_type": "code",
   "execution_count": 256,
   "id": "adopted-clerk",
   "metadata": {},
   "outputs": [
    {
     "name": "stdout",
     "output_type": "stream",
     "text": [
      "0.3236953455571227\n",
      "0.23980309423347398\n",
      "0.23022598870056496\n"
     ]
    }
   ],
   "source": [
    "print(s1['choice_dif_mean'].mean()) # Nutriscore\n",
    "print(s2['choice_dif_mean'].mean()) # MTL\n",
    "print(s3['choice_dif_mean'].mean()) # No-label"
   ]
  },
  {
   "cell_type": "code",
   "execution_count": 257,
   "id": "accepting-windows",
   "metadata": {},
   "outputs": [
    {
     "name": "stdout",
     "output_type": "stream",
     "text": [
      "DescribeResult(nobs=239, minmax=(-1.5, 2.0), mean=0.27824267782426776, variance=0.4170036215322949, skewness=0.3734251386600908, kurtosis=0.37448071132364946)\n",
      "DescribeResult(nobs=237, minmax=(-2.0, 2.0), mean=0.24050632911392406, variance=0.3677590645784167, skewness=0.35854649479633915, kurtosis=0.8256883146730698)\n",
      "DescribeResult(nobs=237, minmax=(-2.0, 2.0), mean=0.229957805907173, variance=0.3801580490595724, skewness=0.02444609405388088, kurtosis=0.9658839244785424)\n"
     ]
    }
   ],
   "source": [
    "# Health ranking\n",
    "print(stats.describe(h1))\n",
    "print(stats.describe(h2))\n",
    "print(stats.describe(h3))"
   ]
  },
  {
   "cell_type": "code",
   "execution_count": 260,
   "id": "numerical-wesley",
   "metadata": {},
   "outputs": [
    {
     "name": "stdout",
     "output_type": "stream",
     "text": [
      "DescribeResult(nobs=236, minmax=(-1.0, 2.0), mean=0.3559322033898305, variance=0.38341146772448603, skewness=0.37088000157185874, kurtosis=-0.28699212055432755)\n",
      "DescribeResult(nobs=237, minmax=(-2.0, 2.0), mean=0.22784810126582278, variance=0.3800686547951084, skewness=0.44191703385903847, kurtosis=1.159362786886068)\n",
      "DescribeResult(nobs=234, minmax=(-1.0, 2.0), mean=0.2564102564102564, variance=0.34813469792010565, skewness=0.6681334905721634, kurtosis=0.5079659280452882)\n"
     ]
    }
   ],
   "source": [
    "# Random ranking\n",
    "print(stats.describe(r1))\n",
    "print(stats.describe(r2))\n",
    "print(stats.describe(r3))"
   ]
  },
  {
   "cell_type": "code",
   "execution_count": 261,
   "id": "similar-welcome",
   "metadata": {},
   "outputs": [
    {
     "name": "stdout",
     "output_type": "stream",
     "text": [
      "DescribeResult(nobs=234, minmax=(-0.5, 2.0), mean=0.33760683760683763, variance=0.3404680679358791, skewness=0.7014540697911607, kurtosis=0.0846008521050714)\n",
      "DescribeResult(nobs=237, minmax=(-1.0, 2.0), mean=0.2510548523206751, variance=0.29157727240220277, skewness=0.662047853955256, kurtosis=0.4571436536563005)\n",
      "DescribeResult(nobs=237, minmax=(-1.5, 2.0), mean=0.20464135021097046, variance=0.3276478581134234, skewness=0.6140753903808303, kurtosis=1.0734260894539691)\n"
     ]
    }
   ],
   "source": [
    "# Popularity ranking\n",
    "print(stats.describe(p1))\n",
    "print(stats.describe(p2))\n",
    "print(stats.describe(p3))"
   ]
  },
  {
   "cell_type": "markdown",
   "id": "clean-vessel",
   "metadata": {},
   "source": [
    "* There is a statisticaly significant difference in choice difficulty between the different conditions. \n",
    "* Overall choice difficulty is highest in the nutriscore condition and lowest in the No-label condition.\n",
    "* This means that adding a Nutriscore labels increases choice difficulty, maybe because you have to process more information in order to make a choice? Or maybe you would like to select a certain recipe based on image/ingredients/title but nutriscore is really low so you reconsider. \n",
    "\n",
    "\n",
    "#### Condition 1: Nutriscore\n",
    "* It looks like the Nutriscore label performed best when we combined a health ranking with the Nutriscore label. However there was no statistical significant difference in choice difficulty between health, popular and random ranking. \n",
    "\n",
    "#### Condition 2: MTL\n",
    "* The MTL performed well overall, and there was not much of a difference in choice difficulty when combined with different ranking. However there was no statistical significant difference in choice difficulty between health, popular and random ranking.\n",
    "\n",
    "#### Condition 3: No-label\n",
    "* Choice difficulty was the lowest for no-label combined with popularity ranking! However there was no statistical significant difference in choice difficulty between health, popular and random ranking.\n",
    "* \n"
   ]
  },
  {
   "cell_type": "code",
   "execution_count": 269,
   "id": "angry-meeting",
   "metadata": {},
   "outputs": [
    {
     "data": {
      "text/plain": [
       "F_onewayResult(statistic=1.0304484682548989, pvalue=0.357382947979928)"
      ]
     },
     "execution_count": 269,
     "metadata": {},
     "output_type": "execute_result"
    }
   ],
   "source": [
    "f_oneway(h1, r1, p1)"
   ]
  },
  {
   "cell_type": "code",
   "execution_count": 268,
   "id": "handy-decade",
   "metadata": {},
   "outputs": [
    {
     "data": {
      "text/plain": [
       "F_onewayResult(statistic=0.09235241502683346, pvalue=0.9117947486370213)"
      ]
     },
     "execution_count": 268,
     "metadata": {},
     "output_type": "execute_result"
    }
   ],
   "source": [
    "f_oneway(h2, r2, p2)"
   ]
  },
  {
   "cell_type": "code",
   "execution_count": 267,
   "id": "manufactured-brisbane",
   "metadata": {},
   "outputs": [
    {
     "data": {
      "text/plain": [
       "F_onewayResult(statistic=0.4482787113404853, pvalue=0.6389085737498679)"
      ]
     },
     "execution_count": 267,
     "metadata": {},
     "output_type": "execute_result"
    }
   ],
   "source": [
    "f_oneway(h3, r3, p3)"
   ]
  },
  {
   "cell_type": "markdown",
   "id": "statutory-causing",
   "metadata": {},
   "source": [
    "# Compare Health ranking scenario"
   ]
  },
  {
   "cell_type": "code",
   "execution_count": 262,
   "id": "extended-victory",
   "metadata": {},
   "outputs": [],
   "source": [
    "# Compare NS/ MTL with No-label \n",
    "# H1 = Condition 1 Nutriscore Health ranking\n",
    "# H2 = Condition 2 MTL Health ranking\n",
    "# H3 = Condition 3 No-label Health ranking"
   ]
  },
  {
   "cell_type": "code",
   "execution_count": 270,
   "id": "gross-holiday",
   "metadata": {},
   "outputs": [
    {
     "name": "stdout",
     "output_type": "stream",
     "text": [
      "DescribeResult(nobs=239, minmax=(-1.5, 2.0), mean=0.27824267782426776, variance=0.4170036215322949, skewness=0.3734251386600908, kurtosis=0.37448071132364946)\n",
      "DescribeResult(nobs=237, minmax=(-2.0, 2.0), mean=0.24050632911392406, variance=0.3677590645784167, skewness=0.35854649479633915, kurtosis=0.8256883146730698)\n",
      "DescribeResult(nobs=237, minmax=(-2.0, 2.0), mean=0.229957805907173, variance=0.3801580490595724, skewness=0.02444609405388088, kurtosis=0.9658839244785424)\n"
     ]
    }
   ],
   "source": [
    "print(stats.describe(h1))\n",
    "print(stats.describe(h2))\n",
    "print(stats.describe(h3))"
   ]
  },
  {
   "cell_type": "code",
   "execution_count": 271,
   "id": "determined-consent",
   "metadata": {},
   "outputs": [
    {
     "data": {
      "text/plain": [
       "F_onewayResult(statistic=0.3953672598078912, pvalue=0.6735808399024461)"
      ]
     },
     "execution_count": 271,
     "metadata": {},
     "output_type": "execute_result"
    }
   ],
   "source": [
    "f_oneway(h1, h2, h3)"
   ]
  },
  {
   "cell_type": "code",
   "execution_count": 272,
   "id": "rough-moral",
   "metadata": {},
   "outputs": [
    {
     "data": {
      "text/plain": [
       "F_onewayResult(statistic=0.04538205014189114, pvalue=0.9556353034653796)"
      ]
     },
     "execution_count": 272,
     "metadata": {},
     "output_type": "execute_result"
    }
   ],
   "source": [
    "# Without vegetarians \n",
    "f_oneway(s1v3_fsa_no_veg, s2v3_fsa_no_veg, s3v3_fsa_no_veg)"
   ]
  },
  {
   "cell_type": "code",
   "execution_count": 273,
   "id": "bridal-increase",
   "metadata": {},
   "outputs": [
    {
     "data": {
      "text/plain": [
       "F_onewayResult(statistic=0.3034659509664052, pvalue=0.7383514121202615)"
      ]
     },
     "execution_count": 273,
     "metadata": {},
     "output_type": "execute_result"
    }
   ],
   "source": [
    "# Without allergies \n",
    "f_oneway(s1v3_fsa_no_allerg, s2v3_fsa_no_allerg, s3v3_fsa_no_allerg)"
   ]
  },
  {
   "cell_type": "code",
   "execution_count": 274,
   "id": "initial-august",
   "metadata": {},
   "outputs": [
    {
     "data": {
      "text/plain": [
       "Ttest_indResult(statistic=0.6570794153475852, pvalue=0.5114487636074279)"
      ]
     },
     "execution_count": 274,
     "metadata": {},
     "output_type": "execute_result"
    }
   ],
   "source": [
    "stats.ttest_ind(h1, h2)"
   ]
  },
  {
   "cell_type": "code",
   "execution_count": 275,
   "id": "revolutionary-unknown",
   "metadata": {},
   "outputs": [
    {
     "data": {
      "text/plain": [
       "Ttest_indResult(statistic=0.8342191964755581, pvalue=0.40457768973189745)"
      ]
     },
     "execution_count": 275,
     "metadata": {},
     "output_type": "execute_result"
    }
   ],
   "source": [
    "stats.ttest_ind(h1, h3)"
   ]
  },
  {
   "cell_type": "code",
   "execution_count": 276,
   "id": "parliamentary-natural",
   "metadata": {},
   "outputs": [
    {
     "data": {
      "text/plain": [
       "Ttest_indResult(statistic=0.18777557489519695, pvalue=0.8511332795085053)"
      ]
     },
     "execution_count": 276,
     "metadata": {},
     "output_type": "execute_result"
    }
   ],
   "source": [
    "stats.ttest_ind(h2, h3)"
   ]
  },
  {
   "cell_type": "code",
   "execution_count": 280,
   "id": "aboriginal-collectible",
   "metadata": {},
   "outputs": [
    {
     "name": "stdout",
     "output_type": "stream",
     "text": [
      "0.27824267782426776\n",
      "0.24050632911392406\n",
      "0.229957805907173\n"
     ]
    }
   ],
   "source": [
    "print(h1.mean())\n",
    "print(h2.mean())\n",
    "print(h3.mean())"
   ]
  },
  {
   "cell_type": "markdown",
   "id": "velvet-parent",
   "metadata": {},
   "source": [
    "* No significant statistical difference in Choice difficulty when front-of-pack nutrition label is presented in combination with a health ranking. \n",
    "* Choice difficulty is lowest with No-label. "
   ]
  },
  {
   "cell_type": "markdown",
   "id": "affecting-graphics",
   "metadata": {},
   "source": [
    "# What about random ranking? "
   ]
  },
  {
   "cell_type": "code",
   "execution_count": 24,
   "id": "coated-preservation",
   "metadata": {},
   "outputs": [
    {
     "data": {
      "text/plain": [
       "F_onewayResult(statistic=2.2278508498454945, pvalue=0.10850834380018827)"
      ]
     },
     "execution_count": 24,
     "metadata": {},
     "output_type": "execute_result"
    }
   ],
   "source": [
    "f_oneway(r1, r2, r3)"
   ]
  },
  {
   "cell_type": "code",
   "execution_count": 25,
   "id": "satisfactory-tuner",
   "metadata": {},
   "outputs": [
    {
     "data": {
      "text/plain": [
       "F_onewayResult(statistic=0.7828605085218985, pvalue=0.45751931375013444)"
      ]
     },
     "execution_count": 25,
     "metadata": {},
     "output_type": "execute_result"
    }
   ],
   "source": [
    "# Without vegetarians \n",
    "f_oneway(s1v2_fsa_no_veg, s2v2_fsa_no_veg, s3v2_fsa_no_veg)"
   ]
  },
  {
   "cell_type": "code",
   "execution_count": 26,
   "id": "induced-links",
   "metadata": {},
   "outputs": [
    {
     "data": {
      "text/plain": [
       "F_onewayResult(statistic=2.322283162183532, pvalue=0.09879485677649076)"
      ]
     },
     "execution_count": 26,
     "metadata": {},
     "output_type": "execute_result"
    }
   ],
   "source": [
    "# Without allergies \n",
    "f_oneway(s1v2_fsa_no_allerg, s2v2_fsa_no_allerg, s3v2_fsa_no_allerg)"
   ]
  },
  {
   "cell_type": "code",
   "execution_count": null,
   "id": "duplicate-azerbaijan",
   "metadata": {},
   "outputs": [],
   "source": [
    "# All"
   ]
  },
  {
   "cell_type": "code",
   "execution_count": 36,
   "id": "freelance-chain",
   "metadata": {},
   "outputs": [
    {
     "data": {
      "text/plain": [
       "Ttest_indResult(statistic=1.739629577644562, pvalue=0.08255846960784041)"
      ]
     },
     "execution_count": 36,
     "metadata": {},
     "output_type": "execute_result"
    }
   ],
   "source": [
    "stats.ttest_ind(r1, r2)"
   ]
  },
  {
   "cell_type": "code",
   "execution_count": 37,
   "id": "internal-input",
   "metadata": {},
   "outputs": [
    {
     "data": {
      "text/plain": [
       "Ttest_indResult(statistic=1.829555498268259, pvalue=0.06793525958378162)"
      ]
     },
     "execution_count": 37,
     "metadata": {},
     "output_type": "execute_result"
    }
   ],
   "source": [
    "stats.ttest_ind(r1, r3)"
   ]
  },
  {
   "cell_type": "code",
   "execution_count": 38,
   "id": "exposed-danish",
   "metadata": {},
   "outputs": [
    {
     "data": {
      "text/plain": [
       "Ttest_indResult(statistic=0.05548791539128661, pvalue=0.9557726546797095)"
      ]
     },
     "execution_count": 38,
     "metadata": {},
     "output_type": "execute_result"
    }
   ],
   "source": [
    "stats.ttest_ind(r2, r3)"
   ]
  },
  {
   "cell_type": "code",
   "execution_count": null,
   "id": "rough-balloon",
   "metadata": {},
   "outputs": [],
   "source": [
    "# Without vegans"
   ]
  },
  {
   "cell_type": "code",
   "execution_count": 27,
   "id": "sudden-powder",
   "metadata": {},
   "outputs": [
    {
     "data": {
      "text/plain": [
       "Ttest_indResult(statistic=0.9765109428296359, pvalue=0.32934911824536894)"
      ]
     },
     "execution_count": 27,
     "metadata": {},
     "output_type": "execute_result"
    }
   ],
   "source": [
    "stats.ttest_ind(s1v2_fsa_no_veg, s2v2_fsa_no_veg)"
   ]
  },
  {
   "cell_type": "code",
   "execution_count": 28,
   "id": "everyday-jungle",
   "metadata": {},
   "outputs": [
    {
     "data": {
      "text/plain": [
       "Ttest_indResult(statistic=1.1647046473617992, pvalue=0.24477689620409274)"
      ]
     },
     "execution_count": 28,
     "metadata": {},
     "output_type": "execute_result"
    }
   ],
   "source": [
    "stats.ttest_ind(s1v2_fsa_no_veg, s3v2_fsa_no_veg)"
   ]
  },
  {
   "cell_type": "code",
   "execution_count": 31,
   "id": "angry-dakota",
   "metadata": {},
   "outputs": [
    {
     "data": {
      "text/plain": [
       "Ttest_indResult(statistic=0.1584915281971691, pvalue=0.8741405959362882)"
      ]
     },
     "execution_count": 31,
     "metadata": {},
     "output_type": "execute_result"
    }
   ],
   "source": [
    "stats.ttest_ind(s2v2_fsa_no_veg, s3v2_fsa_no_veg)"
   ]
  },
  {
   "cell_type": "code",
   "execution_count": null,
   "id": "combined-image",
   "metadata": {},
   "outputs": [],
   "source": [
    "# Without allergies"
   ]
  },
  {
   "cell_type": "code",
   "execution_count": 34,
   "id": "productive-vault",
   "metadata": {},
   "outputs": [
    {
     "data": {
      "text/plain": [
       "Ttest_indResult(statistic=1.8132687594293928, pvalue=0.07042005489762634)"
      ]
     },
     "execution_count": 34,
     "metadata": {},
     "output_type": "execute_result"
    }
   ],
   "source": [
    "stats.ttest_ind(s1v2_fsa_no_allerg, s2v2_fsa_no_allerg)"
   ]
  },
  {
   "cell_type": "code",
   "execution_count": 35,
   "id": "solved-peoples",
   "metadata": {},
   "outputs": [
    {
     "data": {
      "text/plain": [
       "Ttest_indResult(statistic=1.8627586183044353, pvalue=0.06312120949012462)"
      ]
     },
     "execution_count": 35,
     "metadata": {},
     "output_type": "execute_result"
    }
   ],
   "source": [
    "stats.ttest_ind(s1v2_fsa_no_allerg, s3v2_fsa_no_allerg)"
   ]
  },
  {
   "cell_type": "code",
   "execution_count": 36,
   "id": "careful-developer",
   "metadata": {},
   "outputs": [
    {
     "data": {
      "text/plain": [
       "Ttest_indResult(statistic=0.017289622852268934, pvalue=0.9862128545799282)"
      ]
     },
     "execution_count": 36,
     "metadata": {},
     "output_type": "execute_result"
    }
   ],
   "source": [
    "stats.ttest_ind(s2v2_fsa_no_allerg, s3v2_fsa_no_allerg)"
   ]
  },
  {
   "cell_type": "code",
   "execution_count": 281,
   "id": "sufficient-survival",
   "metadata": {},
   "outputs": [
    {
     "name": "stdout",
     "output_type": "stream",
     "text": [
      "0.3559322033898305\n",
      "0.22784810126582278\n",
      "0.2564102564102564\n"
     ]
    }
   ],
   "source": [
    "print(r1.mean())\n",
    "print(r2.mean())\n",
    "print(r3.mean())"
   ]
  },
  {
   "cell_type": "markdown",
   "id": "controversial-routine",
   "metadata": {},
   "source": [
    "* No significant statistical difference in Choice difficulty when front-of-pack nutrition label is presented in combination with a random ranking. \n",
    "* Choice difficulty is lowest with MTL combined with random ranking. \n",
    "* Choice difficulty is highest with Nutriscore combined with random ranking. "
   ]
  },
  {
   "cell_type": "markdown",
   "id": "accepting-runner",
   "metadata": {},
   "source": [
    "# What about popular ranking? "
   ]
  },
  {
   "cell_type": "code",
   "execution_count": 44,
   "id": "confirmed-major",
   "metadata": {},
   "outputs": [],
   "source": [
    "# P1 = Condition 1 Popularity ranking\n",
    "# P2 = Condition 2 Popularity ranking\n",
    "# P3 = Condition 3 Popularity ranking"
   ]
  },
  {
   "cell_type": "code",
   "execution_count": 282,
   "id": "accepting-planner",
   "metadata": {},
   "outputs": [
    {
     "data": {
      "text/plain": [
       "F_onewayResult(statistic=3.34974687315827, pvalue=0.035652680083403006)"
      ]
     },
     "execution_count": 282,
     "metadata": {},
     "output_type": "execute_result"
    }
   ],
   "source": [
    "f_oneway(p1, p2, p3)"
   ]
  },
  {
   "cell_type": "code",
   "execution_count": 283,
   "id": "genetic-supervision",
   "metadata": {},
   "outputs": [
    {
     "data": {
      "text/plain": [
       "F_onewayResult(statistic=0.9244100153262855, pvalue=0.3972840144386749)"
      ]
     },
     "execution_count": 283,
     "metadata": {},
     "output_type": "execute_result"
    }
   ],
   "source": [
    "# Without vegetarians \n",
    "f_oneway(s1v1_fsa_no_veg, s2v1_fsa_no_veg, s3v1_fsa_no_veg)"
   ]
  },
  {
   "cell_type": "code",
   "execution_count": 284,
   "id": "similar-ethics",
   "metadata": {},
   "outputs": [
    {
     "data": {
      "text/plain": [
       "F_onewayResult(statistic=3.3551948619561887, pvalue=0.03546478658483199)"
      ]
     },
     "execution_count": 284,
     "metadata": {},
     "output_type": "execute_result"
    }
   ],
   "source": [
    "# Without allergies \n",
    "f_oneway(s1v1_fsa_no_allerg, s2v1_fsa_no_allerg, s3v1_fsa_no_allerg)"
   ]
  },
  {
   "cell_type": "code",
   "execution_count": 285,
   "id": "distributed-angel",
   "metadata": {},
   "outputs": [
    {
     "data": {
      "text/plain": [
       "Ttest_indResult(statistic=1.6710791994996108, pvalue=0.09537312062415527)"
      ]
     },
     "execution_count": 285,
     "metadata": {},
     "output_type": "execute_result"
    }
   ],
   "source": [
    "stats.ttest_ind(p1, p2)"
   ]
  },
  {
   "cell_type": "code",
   "execution_count": 286,
   "id": "smaller-binding",
   "metadata": {},
   "outputs": [
    {
     "data": {
      "text/plain": [
       "Ttest_indResult(statistic=2.4964698091974356, pvalue=0.012885770945648025)"
      ]
     },
     "execution_count": 286,
     "metadata": {},
     "output_type": "execute_result"
    }
   ],
   "source": [
    "stats.ttest_ind(p1, p3)"
   ]
  },
  {
   "cell_type": "markdown",
   "id": "according-syndication",
   "metadata": {},
   "source": [
    "* Statistically significant difference in choice difficulty between Nutriscore and No-label when there is a popular ranking of recipes. \n"
   ]
  },
  {
   "cell_type": "code",
   "execution_count": 287,
   "id": "commercial-april",
   "metadata": {},
   "outputs": [
    {
     "data": {
      "text/plain": [
       "Ttest_indResult(statistic=0.9080175142610386, pvalue=0.36433233380926233)"
      ]
     },
     "execution_count": 287,
     "metadata": {},
     "output_type": "execute_result"
    }
   ],
   "source": [
    "stats.ttest_ind(p2, p3)"
   ]
  },
  {
   "cell_type": "code",
   "execution_count": null,
   "id": "existing-transparency",
   "metadata": {},
   "outputs": [],
   "source": [
    "# Without vegetarians"
   ]
  },
  {
   "cell_type": "code",
   "execution_count": 39,
   "id": "daily-deviation",
   "metadata": {},
   "outputs": [
    {
     "data": {
      "text/plain": [
       "Ttest_indResult(statistic=1.4511535365515569, pvalue=0.14745951927326076)"
      ]
     },
     "execution_count": 39,
     "metadata": {},
     "output_type": "execute_result"
    }
   ],
   "source": [
    "stats.ttest_ind(s1v1_fsa_no_veg, s2v1_fsa_no_veg)"
   ]
  },
  {
   "cell_type": "code",
   "execution_count": 40,
   "id": "automated-excuse",
   "metadata": {},
   "outputs": [
    {
     "data": {
      "text/plain": [
       "Ttest_indResult(statistic=2.406015359429429, pvalue=0.01654577497690133)"
      ]
     },
     "execution_count": 40,
     "metadata": {},
     "output_type": "execute_result"
    }
   ],
   "source": [
    "stats.ttest_ind(s1v1_fsa_no_veg, s3v1_fsa_no_veg)"
   ]
  },
  {
   "cell_type": "code",
   "execution_count": 41,
   "id": "interesting-supply",
   "metadata": {},
   "outputs": [
    {
     "data": {
      "text/plain": [
       "Ttest_indResult(statistic=1.0493431892855523, pvalue=0.2945846738581241)"
      ]
     },
     "execution_count": 41,
     "metadata": {},
     "output_type": "execute_result"
    }
   ],
   "source": [
    "stats.ttest_ind(s2v1_fsa_no_veg, s3v1_fsa_no_veg)"
   ]
  },
  {
   "cell_type": "code",
   "execution_count": null,
   "id": "provincial-czech",
   "metadata": {},
   "outputs": [],
   "source": [
    "# Without allergies"
   ]
  },
  {
   "cell_type": "code",
   "execution_count": 42,
   "id": "square-austin",
   "metadata": {},
   "outputs": [
    {
     "data": {
      "text/plain": [
       "Ttest_indResult(statistic=2.6108092149452022, pvalue=0.009320190791578694)"
      ]
     },
     "execution_count": 42,
     "metadata": {},
     "output_type": "execute_result"
    }
   ],
   "source": [
    "stats.ttest_ind(s1v1_fsa_no_allerg, s2v1_fsa_no_allerg)"
   ]
  },
  {
   "cell_type": "code",
   "execution_count": 43,
   "id": "bearing-exception",
   "metadata": {},
   "outputs": [
    {
     "data": {
      "text/plain": [
       "Ttest_indResult(statistic=3.602482639479584, pvalue=0.00034900651983781544)"
      ]
     },
     "execution_count": 43,
     "metadata": {},
     "output_type": "execute_result"
    }
   ],
   "source": [
    "stats.ttest_ind(s1v1_fsa_no_allerg, s3v1_fsa_no_allerg)"
   ]
  },
  {
   "cell_type": "code",
   "execution_count": 44,
   "id": "electrical-surge",
   "metadata": {},
   "outputs": [
    {
     "data": {
      "text/plain": [
       "Ttest_indResult(statistic=1.1816800789096829, pvalue=0.23792642157024468)"
      ]
     },
     "execution_count": 44,
     "metadata": {},
     "output_type": "execute_result"
    }
   ],
   "source": [
    "stats.ttest_ind(s2v1_fsa_no_allerg, s3v1_fsa_no_allerg)"
   ]
  },
  {
   "cell_type": "code",
   "execution_count": 289,
   "id": "extra-garage",
   "metadata": {},
   "outputs": [
    {
     "name": "stdout",
     "output_type": "stream",
     "text": [
      "0.33760683760683763\n",
      "0.2510548523206751\n",
      "0.20464135021097046\n"
     ]
    }
   ],
   "source": [
    "print(p1.mean())\n",
    "print(p2.mean())\n",
    "print(p3.mean())"
   ]
  },
  {
   "cell_type": "markdown",
   "id": "egyptian-insight",
   "metadata": {},
   "source": [
    "* Statistically significant difference in choice difficulty between Nutriscore and No-label when there is a popular ranking of recipes.\n",
    "* When recipes are sorted by popularity (most popular first) choice difficulty is lowest when there is No-label. This is probably because you can just select the most popular recipe without having to worry about its healthiness. Adding a health label might make you reconsider popular recipes. \n",
    "* For popular ranking Nutriscore performed the worst, making it harder to select recipes. However this might be an indication that Nutriscore works well, because people have to stop and think about the choices they are making. Choice difficulty is hardest in the Nutriscore condition, which might be a good thing and an indicator that nutriscore label is working well. \n"
   ]
  },
  {
   "cell_type": "markdown",
   "id": "emerging-acoustic",
   "metadata": {},
   "source": [
    "# PERSONAL FACTORS\n",
    "Does personal factors (goals, experience, nationality etc.) influence the results? "
   ]
  },
  {
   "cell_type": "markdown",
   "id": "addressed-barrel",
   "metadata": {},
   "source": [
    "# Any difference in choice difficulty for participants with different cooking experience? "
   ]
  },
  {
   "cell_type": "code",
   "execution_count": 317,
   "id": "wanted-distributor",
   "metadata": {},
   "outputs": [],
   "source": [
    "# Cooking experience\n",
    "c1 = md['user_id'].loc[md['experience'] == \"cverylow\"].values\n",
    "c2 = md['user_id'].loc[md['experience'] == \"clow\"].values\n",
    "c3 = md['user_id'].loc[md['experience'] == \"cmedium\"].values\n",
    "c4 = md['user_id'].loc[md['experience'] == \"chigh\"].values\n",
    "c5 = md['user_id'].loc[md['experience'] == \"cveryhigh\"].values"
   ]
  },
  {
   "cell_type": "code",
   "execution_count": 320,
   "id": "domestic-billy",
   "metadata": {},
   "outputs": [],
   "source": [
    "pr = ms[ms['user_id'].isin(c1)]\n",
    "sa = ms[ms['user_id'].isin(c2)]\n",
    "fr = ms[ms['user_id'].isin(c3)]\n",
    "vg = ms[ms['user_id'].isin(c4)]\n",
    "lwe = ms[ms['user_id'].isin(c5)]\n",
    "\n",
    "\n",
    "pr1 = pr.loc[pr['condition'] == 1] # Very low\n",
    "pr2 = pr.loc[pr['condition'] == 2]\n",
    "pr3 = pr.loc[pr['condition'] == 3]\n",
    "\n",
    "sa1 = sa.loc[sa['condition'] == 1] # Low\n",
    "sa2 = sa.loc[sa['condition'] == 2]\n",
    "sa3 = sa.loc[sa['condition'] == 3]\n",
    "\n",
    "vg1 = vg.loc[vg['condition'] == 1] # Medium\n",
    "vg2 = vg.loc[vg['condition'] == 2]\n",
    "vg3 = vg.loc[vg['condition'] == 3]\n",
    "\n",
    "fr1 = fr.loc[fr['condition'] == 1] # High\n",
    "fr2 = fr.loc[fr['condition'] == 2]\n",
    "fr3 = fr.loc[fr['condition'] == 3]\n",
    "\n",
    "lwe1 = lwe.loc[lwe['condition'] == 1] # Very high\n",
    "lwe2 = lwe.loc[lwe['condition'] == 2]\n",
    "lwe3 = lwe.loc[lwe['condition'] == 3]\n",
    "\n",
    "# Condition 1: Nutriscore variants \n",
    "c1v1_pr1 = pr1['choice_dif_mean'][pr1['variant'] == 1].to_numpy() # Very low\n",
    "c1v2_pr1 = pr1['choice_dif_mean'][pr1['variant'] == 2].to_numpy()\n",
    "c1v3_pr1 = pr1['choice_dif_mean'][pr1['variant'] == 3].to_numpy()\n",
    "\n",
    "c1v1_sa1 = sa1['choice_dif_mean'][sa1['variant'] == 1].to_numpy() # Low\n",
    "c1v2_sa1 = sa1['choice_dif_mean'][sa1['variant'] == 2].to_numpy()\n",
    "c1v3_sa1 = sa1['choice_dif_mean'][sa1['variant'] == 3].to_numpy()\n",
    "\n",
    "c1v1_vg1 = vg1['choice_dif_mean'][vg1['variant'] == 1].to_numpy() # Medium\n",
    "c1v2_vg1 = vg1['choice_dif_mean'][vg1['variant'] == 2].to_numpy()\n",
    "c1v3_vg1 = vg1['choice_dif_mean'][vg1['variant'] == 3].to_numpy()\n",
    "\n",
    "c1v1_fr1 = fr1['choice_dif_mean'][fr1['variant'] == 1].to_numpy() # High\n",
    "c1v2_fr1 = fr1['choice_dif_mean'][fr1['variant'] == 2].to_numpy()\n",
    "c1v3_fr1 = fr1['choice_dif_mean'][fr1['variant'] == 3].to_numpy()\n",
    "\n",
    "c1v1_lwe1 = lwe1['choice_dif_mean'][lwe1['variant'] == 1].to_numpy() # Very high\n",
    "c1v2_lwe1 = lwe1['choice_dif_mean'][lwe1['variant'] == 2].to_numpy()\n",
    "c1v3_lwe1 = lwe1['choice_dif_mean'][lwe1['variant'] == 3].to_numpy()\n",
    "\n",
    "# Condition 2: MTL variants \n",
    "c2v1_pr2 = pr2['choice_dif_mean'][pr2['variant'] == 1].to_numpy()\n",
    "c2v2_pr2 = pr2['choice_dif_mean'][pr2['variant'] == 2].to_numpy()\n",
    "c2v3_pr2 = pr2['choice_dif_mean'][pr2['variant'] == 3].to_numpy()\n",
    "\n",
    "c2v1_sa2 = sa2['choice_dif_mean'][sa2['variant'] == 1].to_numpy()\n",
    "c2v2_sa2 = sa2['choice_dif_mean'][sa2['variant'] == 2].to_numpy()\n",
    "c2v3_sa2 = sa2['choice_dif_mean'][sa2['variant'] == 3].to_numpy()\n",
    "\n",
    "c2v1_vg2 = vg2['choice_dif_mean'][vg2['variant'] == 1].to_numpy()\n",
    "c2v2_vg2 = vg2['choice_dif_mean'][vg2['variant'] == 2].to_numpy()\n",
    "c2v3_vg2 = vg2['choice_dif_mean'][vg2['variant'] == 3].to_numpy()\n",
    "\n",
    "c2v1_fr2 = fr2['choice_dif_mean'][fr2['variant'] == 1].to_numpy()\n",
    "c2v2_fr2 = fr2['choice_dif_mean'][fr2['variant'] == 2].to_numpy()\n",
    "c2v3_fr2 = fr2['choice_dif_mean'][fr2['variant'] == 3].to_numpy()\n",
    "\n",
    "c2v1_lwe2 = lwe2['choice_dif_mean'][lwe2['variant'] == 1].to_numpy()\n",
    "c2v2_lwe2 = lwe2['choice_dif_mean'][lwe2['variant'] == 2].to_numpy()\n",
    "c2v3_lwe2 = lwe2['choice_dif_mean'][lwe2['variant'] == 3].to_numpy()\n",
    "\n",
    "# Condition 3: No-label variants \n",
    "c3v1_pr3 = pr3['choice_dif_mean'][pr3['variant'] == 1].to_numpy()\n",
    "c3v2_pr3 = pr3['choice_dif_mean'][pr3['variant'] == 2].to_numpy()\n",
    "c3v3_pr3 = pr3['choice_dif_mean'][pr3['variant'] == 3].to_numpy()\n",
    "\n",
    "c3v1_sa3 = sa3['choice_dif_mean'][sa3['variant'] == 1].to_numpy()\n",
    "c3v2_sa3 = sa3['choice_dif_mean'][sa3['variant'] == 2].to_numpy()\n",
    "c3v3_sa3 = sa3['choice_dif_mean'][sa3['variant'] == 3].to_numpy()\n",
    "\n",
    "c3v1_vg3 = vg3['choice_dif_mean'][vg3['variant'] == 1].to_numpy()\n",
    "c3v2_vg3 = vg3['choice_dif_mean'][vg3['variant'] == 2].to_numpy()\n",
    "c3v3_vg3 = vg3['choice_dif_mean'][vg3['variant'] == 3].to_numpy()\n",
    "\n",
    "c3v1_fr3 = fr3['choice_dif_mean'][fr3['variant'] == 1].to_numpy()\n",
    "c3v2_fr3 = fr3['choice_dif_mean'][fr3['variant'] == 2].to_numpy()\n",
    "c3v3_fr3 = fr3['choice_dif_mean'][fr3['variant'] == 3].to_numpy()\n",
    "\n",
    "c3v1_lwe3 = lwe3['choice_dif_mean'][lwe3['variant'] == 1].to_numpy()\n",
    "c3v2_lwe3 = lwe3['choice_dif_mean'][lwe3['variant'] == 3].to_numpy()\n",
    "c3v3_lwe3 = lwe3['choice_dif_mean'][lwe3['variant'] == 3].to_numpy()"
   ]
  },
  {
   "cell_type": "markdown",
   "id": "ambient-hacker",
   "metadata": {},
   "source": [
    "### Compare choice difficulty between conditions for participants with different cooking exp"
   ]
  },
  {
   "cell_type": "code",
   "execution_count": 323,
   "id": "fewer-engineer",
   "metadata": {},
   "outputs": [
    {
     "data": {
      "text/plain": [
       "F_onewayResult(statistic=3.2089473164452356, pvalue=0.04481549478315535)"
      ]
     },
     "execution_count": 323,
     "metadata": {},
     "output_type": "execute_result"
    }
   ],
   "source": [
    "f_oneway(pr1['choice_dif_mean'],pr2['choice_dif_mean'],pr3['choice_dif_mean'] )"
   ]
  },
  {
   "cell_type": "code",
   "execution_count": 325,
   "id": "tutorial-christianity",
   "metadata": {},
   "outputs": [
    {
     "data": {
      "text/plain": [
       "F_onewayResult(statistic=1.6212868428532, pvalue=0.19912496122391504)"
      ]
     },
     "execution_count": 325,
     "metadata": {},
     "output_type": "execute_result"
    }
   ],
   "source": [
    "f_oneway(sa1['choice_dif_mean'],sa2['choice_dif_mean'],sa3['choice_dif_mean'] )"
   ]
  },
  {
   "cell_type": "code",
   "execution_count": 324,
   "id": "published-representative",
   "metadata": {},
   "outputs": [
    {
     "data": {
      "text/plain": [
       "F_onewayResult(statistic=2.0081003851573267, pvalue=0.13537673867263525)"
      ]
     },
     "execution_count": 324,
     "metadata": {},
     "output_type": "execute_result"
    }
   ],
   "source": [
    "f_oneway(vg1['choice_dif_mean'],vg2['choice_dif_mean'],vg3['choice_dif_mean'] )"
   ]
  },
  {
   "cell_type": "code",
   "execution_count": 327,
   "id": "scheduled-chest",
   "metadata": {},
   "outputs": [
    {
     "data": {
      "text/plain": [
       "F_onewayResult(statistic=1.6322947062430915, pvalue=0.1959566401960063)"
      ]
     },
     "execution_count": 327,
     "metadata": {},
     "output_type": "execute_result"
    }
   ],
   "source": [
    "f_oneway(fr1['choice_dif_mean'],fr2['choice_dif_mean'],fr3['choice_dif_mean'] )"
   ]
  },
  {
   "cell_type": "code",
   "execution_count": 326,
   "id": "secure-integer",
   "metadata": {},
   "outputs": [
    {
     "data": {
      "text/plain": [
       "F_onewayResult(statistic=12.792583839029062, pvalue=1.1580478437533907e-05)"
      ]
     },
     "execution_count": 326,
     "metadata": {},
     "output_type": "execute_result"
    }
   ],
   "source": [
    "f_oneway(lwe1['choice_dif_mean'],lwe2['choice_dif_mean'],lwe3['choice_dif_mean'] )"
   ]
  },
  {
   "cell_type": "code",
   "execution_count": 328,
   "id": "identified-germany",
   "metadata": {},
   "outputs": [
    {
     "name": "stdout",
     "output_type": "stream",
     "text": [
      "0.10416666666666667\n",
      "0.4146341463414634\n",
      "0.12121212121212122\n"
     ]
    }
   ],
   "source": [
    "# Very low\n",
    "print(pr1['choice_dif_mean'].mean()) # Low nutriscore\n",
    "print(pr2['choice_dif_mean'].mean()) # MTL\n",
    "print(pr3['choice_dif_mean'].mean()) # No-label"
   ]
  },
  {
   "cell_type": "markdown",
   "id": "legitimate-sarah",
   "metadata": {},
   "source": [
    "* For participants with \"Very low\" cooking experience the overall choice difficulty was lowest in the Nutriscore condition and highest in the MTL condition. "
   ]
  },
  {
   "cell_type": "code",
   "execution_count": 330,
   "id": "married-plenty",
   "metadata": {},
   "outputs": [
    {
     "name": "stdout",
     "output_type": "stream",
     "text": [
      "0.6666666666666666\n",
      "0.0\n",
      "0.07142857142857142\n"
     ]
    }
   ],
   "source": [
    "# Very high\n",
    "print(lwe1['choice_dif_mean'].mean()) # Nutriscore\n",
    "print(lwe2['choice_dif_mean'].mean()) # MTL\n",
    "print(lwe3['choice_dif_mean'].mean()) # No-label"
   ]
  },
  {
   "cell_type": "markdown",
   "id": "defined-import",
   "metadata": {},
   "source": [
    "* For participants with \"Very high\" cooking experience the overall choice difficulty was lowest(easy) in the MTL condition and highest(hard) in the Nutriscore condition. "
   ]
  },
  {
   "cell_type": "markdown",
   "id": "front-notebook",
   "metadata": {},
   "source": [
    "## Cooking experience and choice difficulty Condition 1: Nutriscore"
   ]
  },
  {
   "cell_type": "code",
   "execution_count": null,
   "id": "exclusive-roots",
   "metadata": {},
   "outputs": [],
   "source": [
    "# Look at different variants in Condition 1"
   ]
  },
  {
   "cell_type": "code",
   "execution_count": 342,
   "id": "local-township",
   "metadata": {},
   "outputs": [
    {
     "name": "stdout",
     "output_type": "stream",
     "text": [
      "0.0625\n",
      "0.0625\n",
      "0.1875\n"
     ]
    }
   ],
   "source": [
    "# Very low\n",
    "print(c1v1_pr1.mean()) # Popular \n",
    "print(c1v2_pr1.mean()) # Random\n",
    "print(c1v3_pr1.mean()) # Health"
   ]
  },
  {
   "cell_type": "code",
   "execution_count": 341,
   "id": "capable-report",
   "metadata": {},
   "outputs": [
    {
     "name": "stdout",
     "output_type": "stream",
     "text": [
      "0.2682926829268293\n",
      "0.17045454545454544\n",
      "0.06818181818181818\n"
     ]
    }
   ],
   "source": [
    "# Low\n",
    "print(c1v1_sa1.mean()) # Popular \n",
    "print(c1v2_sa1.mean()) # Random\n",
    "print(c1v3_sa1.mean()) # Health"
   ]
  },
  {
   "cell_type": "code",
   "execution_count": 340,
   "id": "needed-facial",
   "metadata": {},
   "outputs": [
    {
     "name": "stdout",
     "output_type": "stream",
     "text": [
      "0.3879310344827586\n",
      "0.5258620689655172\n",
      "0.4152542372881356\n"
     ]
    }
   ],
   "source": [
    "# Medium \n",
    "print(c1v1_vg1.mean()) # Popular \n",
    "print(c1v2_vg1.mean()) # Random\n",
    "print(c1v3_vg1.mean()) # Health"
   ]
  },
  {
   "cell_type": "code",
   "execution_count": 339,
   "id": "tropical-lesbian",
   "metadata": {},
   "outputs": [
    {
     "name": "stdout",
     "output_type": "stream",
     "text": [
      "0.3008849557522124\n",
      "0.33482142857142855\n",
      "0.25\n"
     ]
    }
   ],
   "source": [
    "# High\n",
    "print(c1v1_fr1.mean()) # Popular \n",
    "print(c1v2_fr1.mean()) # Random\n",
    "print(c1v3_fr1.mean()) # Health"
   ]
  },
  {
   "cell_type": "code",
   "execution_count": 338,
   "id": "capital-coating",
   "metadata": {},
   "outputs": [
    {
     "name": "stdout",
     "output_type": "stream",
     "text": [
      "0.7857142857142857\n",
      "0.5714285714285714\n",
      "0.6428571428571429\n"
     ]
    }
   ],
   "source": [
    "# Very high\n",
    "print(c1v1_lwe1.mean()) # Popular \n",
    "print(c1v2_lwe1.mean()) # Random\n",
    "print(c1v3_lwe1.mean()) # Health"
   ]
  },
  {
   "cell_type": "code",
   "execution_count": 345,
   "id": "verbal-advisory",
   "metadata": {},
   "outputs": [
    {
     "data": {
      "text/plain": [
       "F_onewayResult(statistic=2.9703836149422482, pvalue=0.02029246517739106)"
      ]
     },
     "execution_count": 345,
     "metadata": {},
     "output_type": "execute_result"
    }
   ],
   "source": [
    "# ANOVA for Popular ranking condition 1 Nutriscore\n",
    "f_oneway(c1v1_pr1, c1v1_sa1, c1v1_vg1, c1v1_fr1, c1v1_lwe1 )"
   ]
  },
  {
   "cell_type": "code",
   "execution_count": 346,
   "id": "forced-minute",
   "metadata": {},
   "outputs": [
    {
     "data": {
      "text/plain": [
       "F_onewayResult(statistic=3.090859596846737, pvalue=0.01665337917164027)"
      ]
     },
     "execution_count": 346,
     "metadata": {},
     "output_type": "execute_result"
    }
   ],
   "source": [
    "# ANOVA for Random ranking condition 1 Nutriscore\n",
    "f_oneway(c1v2_pr1, c1v2_sa1, c1v2_vg1, c1v2_fr1, c1v2_lwe1 )"
   ]
  },
  {
   "cell_type": "code",
   "execution_count": 347,
   "id": "drawn-magnitude",
   "metadata": {},
   "outputs": [
    {
     "data": {
      "text/plain": [
       "F_onewayResult(statistic=3.1474424381712827, pvalue=0.01515739056203036)"
      ]
     },
     "execution_count": 347,
     "metadata": {},
     "output_type": "execute_result"
    }
   ],
   "source": [
    "# ANOVA for Health ranking condition 1 Nutriscore\n",
    "f_oneway(c1v3_pr1, c1v3_sa1, c1v3_vg1, c1v3_fr1, c1v3_lwe1 )"
   ]
  },
  {
   "cell_type": "code",
   "execution_count": 348,
   "id": "hawaiian-moses",
   "metadata": {},
   "outputs": [
    {
     "name": "stdout",
     "output_type": "stream",
     "text": [
      "0.0625\n",
      "0.2682926829268293\n",
      "0.3879310344827586\n",
      "0.3008849557522124\n",
      "0.7857142857142857\n"
     ]
    }
   ],
   "source": [
    "# Very low\n",
    "print(c1v1_pr1.mean()) # Popular \n",
    "# Low\n",
    "print(c1v1_sa1.mean()) # Popular \n",
    "# Medium \n",
    "print(c1v1_vg1.mean()) # Popular \n",
    "# High\n",
    "print(c1v1_fr1.mean()) # Popular \n",
    "# Very high\n",
    "print(c1v1_lwe1.mean()) # Popular "
   ]
  },
  {
   "cell_type": "code",
   "execution_count": 349,
   "id": "common-marker",
   "metadata": {},
   "outputs": [
    {
     "name": "stdout",
     "output_type": "stream",
     "text": [
      "0.0625\n",
      "0.17045454545454544\n",
      "0.5258620689655172\n",
      "0.33482142857142855\n",
      "0.5714285714285714\n"
     ]
    }
   ],
   "source": [
    "# Very low\n",
    "print(c1v2_pr1.mean()) # Random \n",
    "# Low\n",
    "print(c1v2_sa1.mean()) # Random \n",
    "# Medium \n",
    "print(c1v2_vg1.mean()) # Random \n",
    "# High\n",
    "print(c1v2_fr1.mean()) # Random \n",
    "# Very high\n",
    "print(c1v2_lwe1.mean()) # Random "
   ]
  },
  {
   "cell_type": "code",
   "execution_count": 350,
   "id": "naked-dollar",
   "metadata": {},
   "outputs": [
    {
     "name": "stdout",
     "output_type": "stream",
     "text": [
      "0.1875\n",
      "0.06818181818181818\n",
      "0.4152542372881356\n",
      "0.25\n",
      "0.6428571428571429\n"
     ]
    }
   ],
   "source": [
    "# Very low\n",
    "print(c1v3_pr1.mean()) # Health\n",
    "# Low\n",
    "print(c1v3_sa1.mean()) # Health\n",
    "# Medium \n",
    "print(c1v3_vg1.mean()) # Health\n",
    "# High\n",
    "print(c1v3_fr1.mean()) # Health\n",
    "# Very high\n",
    "print(c1v3_lwe1.mean()) # Health"
   ]
  },
  {
   "cell_type": "markdown",
   "id": "corresponding-pacific",
   "metadata": {},
   "source": [
    "# Any difference between Americans and Europeans?  \n",
    "* Would expect Europeans to be more familiar with Nutri score and MTL labels. "
   ]
  },
  {
   "cell_type": "code",
   "execution_count": 305,
   "id": "thousand-married",
   "metadata": {},
   "outputs": [],
   "source": [
    "# American vs. europeans\n",
    "n1 = md['user_id'].loc[md['american'] == \"American\"].values\n",
    "n2 = md['user_id'].loc[md['european'] == \"European\"].values\n",
    "\n",
    "ame = ms[ms['user_id'].isin(n1)]\n",
    "eur = ms[ms['user_id'].isin(n2)]\n",
    "\n",
    "# Conditions\n",
    "c1_ame = ame.loc[ame['condition'] == 1]\n",
    "c2_ame = ame.loc[ame['condition'] == 2]\n",
    "c3_ame = ame.loc[ame['condition'] == 3]\n",
    "\n",
    "c1_eur = eur.loc[eur['condition'] == 1]\n",
    "c2_eur = eur.loc[eur['condition'] == 2]\n",
    "c3_eur = eur.loc[eur['condition'] == 3]\n",
    "\n",
    "# Choice difficulty score per condition \n",
    "c1_ame_fsa = c1_ame['choice_dif_mean'].to_numpy()\n",
    "c2_ame_fsa = c2_ame['choice_dif_mean'].to_numpy()\n",
    "c3_ame_fsa = c3_ame['choice_dif_mean'].to_numpy()\n",
    "\n",
    "c1_eur_fsa = c1_eur['choice_dif_mean'].to_numpy()\n",
    "c2_eur_fsa = c2_eur['choice_dif_mean'].to_numpy()\n",
    "c3_eur_fsa = c3_eur['choice_dif_mean'].to_numpy()\n",
    "\n",
    "# Get FSA score for different within-subjects variables\n",
    "# Condition 1 variants choice difficulty\n",
    "c1v1_ame_fsa = c1_ame['choice_dif_mean'][c1_ame['variant'] == 1].to_numpy()\n",
    "c1v2_ame_fsa = c1_ame['choice_dif_mean'][c1_ame['variant'] == 2].to_numpy()\n",
    "c1v3_ame_fsa = c1_ame['choice_dif_mean'][c1_ame['variant'] == 3].to_numpy()\n",
    "\n",
    "c1v1_eur_fsa = c1_eur['choice_dif_mean'][c1_eur['variant'] == 1].to_numpy()\n",
    "c1v2_eur_fsa = c1_eur['choice_dif_mean'][c1_eur['variant'] == 2].to_numpy()\n",
    "c1v3_eur_fsa = c1_eur['choice_dif_mean'][c1_eur['variant'] == 3].to_numpy()\n",
    "\n",
    "# Condition 2 variants choice difficulty\n",
    "c2v1_ame_fsa = c2_ame['choice_dif_mean'][c2_ame['variant'] == 1].to_numpy()\n",
    "c2v2_ame_fsa = c2_ame['choice_dif_mean'][c2_ame['variant'] == 2].to_numpy()\n",
    "c2v3_ame_fsa = c2_ame['choice_dif_mean'][c2_ame['variant'] == 3].to_numpy()\n",
    "\n",
    "c2v1_eur_fsa = c2_eur['choice_dif_mean'][c2_eur['variant'] == 1].to_numpy()\n",
    "c2v2_eur_fsa = c2_eur['choice_dif_mean'][c2_eur['variant'] == 2].to_numpy()\n",
    "c2v3_eur_fsa = c2_eur['choice_dif_mean'][c2_eur['variant'] == 3].to_numpy()\n",
    "\n",
    "# Condition 3 variants choice difficulty\n",
    "c3v1_ame_fsa = c3_ame['choice_dif_mean'][c3_ame['variant'] == 1].to_numpy()\n",
    "c3v2_ame_fsa = c3_ame['choice_dif_mean'][c3_ame['variant'] == 2].to_numpy()\n",
    "c3v3_ame_fsa = c3_ame['choice_dif_mean'][c3_ame['variant'] == 3].to_numpy()\n",
    "\n",
    "c3v1_eur_fsa = c3_eur['choice_dif_mean'][c3_eur['variant'] == 1].to_numpy()\n",
    "c3v2_eur_fsa = c3_eur['choice_dif_mean'][c3_eur['variant'] == 2].to_numpy()\n",
    "c3v3_eur_fsa = c3_eur['choice_dif_mean'][c3_eur['variant'] == 3].to_numpy()\n"
   ]
  },
  {
   "cell_type": "code",
   "execution_count": 306,
   "id": "cubic-verification",
   "metadata": {},
   "outputs": [
    {
     "data": {
      "text/plain": [
       "<matplotlib.lines.Line2D at 0x28dd02ac108>"
      ]
     },
     "execution_count": 306,
     "metadata": {},
     "output_type": "execute_result"
    },
    {
     "data": {
      "image/png": "[encoded data removed]",
      "text/plain": [
       "<Figure size 1440x720 with 1 Axes>"
      ]
     },
     "metadata": {},
     "output_type": "display_data"
    }
   ],
   "source": [
    "ame_fsa = ame['choice_dif_mean'].to_numpy()\n",
    "eur_fsa = eur['choice_dif_mean'].to_numpy()\n",
    "\n",
    "# Strongly disagree = -2\n",
    "# Disagree = -1\n",
    "# Neither disagree/agree = 0\n",
    "# Agree = 1\n",
    "# Strongly agree = 2\n",
    "\n",
    "# Compare choice difficulty overall\n",
    "plt.figure()\n",
    "ax1 = sns.distplot(ame_fsa)\n",
    "ax2 = sns.distplot(eur_fsa)\n",
    "plt.axvline(np.mean(ame_fsa), color='blue', linestyle='dashed', linewidth=5) # American\n",
    "plt.axvline(np.mean(eur_fsa), color='orange', linestyle='dashed', linewidth=5) # European"
   ]
  },
  {
   "cell_type": "markdown",
   "id": "trained-retailer",
   "metadata": {},
   "source": [
    "* As expected it was harder for americans to make recipe choices. "
   ]
  },
  {
   "cell_type": "markdown",
   "id": "framed-tours",
   "metadata": {},
   "source": [
    "## Compare variants"
   ]
  },
  {
   "cell_type": "code",
   "execution_count": null,
   "id": "desperate-pendant",
   "metadata": {},
   "outputs": [],
   "source": [
    "# Condition 1: Nutriscore"
   ]
  },
  {
   "cell_type": "code",
   "execution_count": 70,
   "id": "strategic-northern",
   "metadata": {},
   "outputs": [
    {
     "data": {
      "text/plain": [
       "Ttest_indResult(statistic=4.559321148117638, pvalue=8.461497901792122e-06)"
      ]
     },
     "execution_count": 70,
     "metadata": {},
     "output_type": "execute_result"
    }
   ],
   "source": [
    "stats.ttest_ind(c1v1_ame_fsa, c1v1_eur_fsa )"
   ]
  },
  {
   "cell_type": "code",
   "execution_count": 63,
   "id": "transparent-drinking",
   "metadata": {},
   "outputs": [
    {
     "data": {
      "text/plain": [
       "Ttest_indResult(statistic=3.176272548431752, pvalue=0.0016999080586637238)"
      ]
     },
     "execution_count": 63,
     "metadata": {},
     "output_type": "execute_result"
    }
   ],
   "source": [
    "stats.ttest_ind(c1v2_ame_fsa, c1v2_eur_fsa )"
   ]
  },
  {
   "cell_type": "code",
   "execution_count": 62,
   "id": "stuck-keeping",
   "metadata": {},
   "outputs": [
    {
     "data": {
      "text/plain": [
       "Ttest_indResult(statistic=3.3902852916678605, pvalue=0.0008210356601818176)"
      ]
     },
     "execution_count": 62,
     "metadata": {},
     "output_type": "execute_result"
    }
   ],
   "source": [
    "stats.ttest_ind(c1v3_ame_fsa, c1v3_eur_fsa )"
   ]
  },
  {
   "cell_type": "markdown",
   "id": "binding-router",
   "metadata": {},
   "source": [
    "* There is a statistically significant difference in choice difficulty between Americans and Europeans in the Nutriscore conditions. The difference is significant for all different rankings (health, random, popular). "
   ]
  },
  {
   "cell_type": "code",
   "execution_count": null,
   "id": "clear-block",
   "metadata": {},
   "outputs": [],
   "source": [
    "# Condition 2: MTL"
   ]
  },
  {
   "cell_type": "code",
   "execution_count": 61,
   "id": "fifteen-boating",
   "metadata": {},
   "outputs": [
    {
     "data": {
      "text/plain": [
       "Ttest_indResult(statistic=-0.42030680186151675, pvalue=0.6746994304786516)"
      ]
     },
     "execution_count": 61,
     "metadata": {},
     "output_type": "execute_result"
    }
   ],
   "source": [
    "stats.ttest_ind(c2v1_ame_fsa, c2v1_eur_fsa )"
   ]
  },
  {
   "cell_type": "code",
   "execution_count": 64,
   "id": "driven-handle",
   "metadata": {},
   "outputs": [
    {
     "data": {
      "text/plain": [
       "Ttest_indResult(statistic=-0.42030680186151675, pvalue=0.6746994304786516)"
      ]
     },
     "execution_count": 64,
     "metadata": {},
     "output_type": "execute_result"
    }
   ],
   "source": [
    "stats.ttest_ind(c2v2_ame_fsa, c2v2_eur_fsa )"
   ]
  },
  {
   "cell_type": "code",
   "execution_count": 65,
   "id": "respiratory-wisdom",
   "metadata": {},
   "outputs": [
    {
     "data": {
      "text/plain": [
       "Ttest_indResult(statistic=1.2516930655747047, pvalue=0.21210116072804808)"
      ]
     },
     "execution_count": 65,
     "metadata": {},
     "output_type": "execute_result"
    }
   ],
   "source": [
    "stats.ttest_ind(c2v3_ame_fsa, c2v3_eur_fsa )"
   ]
  },
  {
   "cell_type": "code",
   "execution_count": 66,
   "id": "assigned-uncertainty",
   "metadata": {},
   "outputs": [],
   "source": [
    "# Condition 3: No-label"
   ]
  },
  {
   "cell_type": "code",
   "execution_count": 67,
   "id": "vocational-digest",
   "metadata": {},
   "outputs": [
    {
     "data": {
      "text/plain": [
       "Ttest_indResult(statistic=-0.017955268340575033, pvalue=0.985691425184847)"
      ]
     },
     "execution_count": 67,
     "metadata": {},
     "output_type": "execute_result"
    }
   ],
   "source": [
    "stats.ttest_ind(c3v1_ame_fsa, c3v1_eur_fsa )"
   ]
  },
  {
   "cell_type": "code",
   "execution_count": 68,
   "id": "subsequent-outdoors",
   "metadata": {},
   "outputs": [
    {
     "data": {
      "text/plain": [
       "Ttest_indResult(statistic=1.2841936968391805, pvalue=0.2004824429612249)"
      ]
     },
     "execution_count": 68,
     "metadata": {},
     "output_type": "execute_result"
    }
   ],
   "source": [
    "stats.ttest_ind(c3v2_ame_fsa, c3v2_eur_fsa )"
   ]
  },
  {
   "cell_type": "code",
   "execution_count": 69,
   "id": "shared-street",
   "metadata": {},
   "outputs": [
    {
     "data": {
      "text/plain": [
       "Ttest_indResult(statistic=1.375144742749468, pvalue=0.1705178052525819)"
      ]
     },
     "execution_count": 69,
     "metadata": {},
     "output_type": "execute_result"
    }
   ],
   "source": [
    "stats.ttest_ind(c3v3_ame_fsa, c3v3_eur_fsa )"
   ]
  },
  {
   "cell_type": "markdown",
   "id": "south-costume",
   "metadata": {},
   "source": [
    "## Closer look at Condition 1 Nutriscore"
   ]
  },
  {
   "cell_type": "code",
   "execution_count": 307,
   "id": "loaded-conservation",
   "metadata": {},
   "outputs": [
    {
     "name": "stdout",
     "output_type": "stream",
     "text": [
      "0.45\n",
      "0.21359223300970873\n"
     ]
    }
   ],
   "source": [
    "# Popular ranking\n",
    "print(c1v1_ame_fsa.mean())\n",
    "print(c1v1_eur_fsa.mean())"
   ]
  },
  {
   "cell_type": "code",
   "execution_count": 308,
   "id": "tired-statistics",
   "metadata": {},
   "outputs": [
    {
     "name": "stdout",
     "output_type": "stream",
     "text": [
      "0.4669421487603306\n",
      "0.22596153846153846\n"
     ]
    }
   ],
   "source": [
    "# Random ranking\n",
    "print(c1v2_ame_fsa.mean())\n",
    "print(c1v2_eur_fsa.mean())"
   ]
  },
  {
   "cell_type": "code",
   "execution_count": 309,
   "id": "harmful-facility",
   "metadata": {},
   "outputs": [
    {
     "name": "stdout",
     "output_type": "stream",
     "text": [
      "0.4146341463414634\n",
      "0.12380952380952381\n"
     ]
    }
   ],
   "source": [
    "# Health ranking\n",
    "print(c1v3_ame_fsa.mean())\n",
    "print(c1v3_eur_fsa.mean())"
   ]
  },
  {
   "cell_type": "markdown",
   "id": "local-tackle",
   "metadata": {},
   "source": [
    "Americans found it harder to choose recipes in Condition 1 Nutriscore. \n",
    "\n",
    "* This might be because Americans have never seen the Nutriscore label before and are less accustomed to FoP labels\n",
    "* The study did not include an explanation of what the Nutriscore label is, or how to interpret it. \n",
    "\n",
    "* The difference is largest with Health ranking! \n",
    "\n",
    "But why is the difference so big?... Look at respons in end survey, maybe they are more influenced by labels?\n",
    "* More americans answered \"Healthiness\" on this questions: \"3. Which factors influenced your recipe choices the most?\"\n",
    "\n",
    "So more Americans said they were influenced by the healthiness of the recipes while at the same time finding it harder to select recipes. Maybe this can be interpreted as the Nutriscore label making Americans more concoius of the healthiness of recipes thus making it harder for them to choose recipes, they have to break their automatic recipe selection patterns. "
   ]
  },
  {
   "cell_type": "code",
   "execution_count": 136,
   "id": "suspected-universal",
   "metadata": {},
   "outputs": [],
   "source": [
    "# End survey\n",
    "e1 = pd.read_csv(\"./Pro_1/endsurvey.csv\")\n",
    "e2 = pd.read_csv(\"./Pro_2/endsurvey.csv\")\n",
    "e3 = pd.read_csv(\"./Pro_3/endsurvey.csv\")\n",
    "\n",
    "# Clean label_q3 column\n",
    "e1['label_q3'] = e1['label_q3'].str.strip('[]').astype(str)\n",
    "e1['label_q3'] = e1['label_q3'].str.replace('\"', '')\n",
    "e1['label_q3'] = e1['label_q3'].astype(str)\n",
    "\n",
    "e2['label_q3'] = e2['label_q3'].str.strip('[]').astype(str)\n",
    "e2['label_q3'] = e2['label_q3'].str.replace('\"', '')\n",
    "e2['label_q3'] = e2['label_q3'].astype(str)\n",
    "\n",
    "e3['label_q3'] = e3['label_q3'].str.strip('[]').astype(str)\n",
    "e3['label_q3'] = e3['label_q3'].str.replace('\"', '')\n",
    "e3['label_q3'] = e3['label_q3'].astype(str)\n",
    "\n",
    "# Condition 1\n",
    "ame_end_1 = e1[e1['user_id'].isin(n1)]\n",
    "eur_end_1 = e1[e1['user_id'].isin(n2)]\n",
    "\n",
    "# Condition 2\n",
    "ame_end_2 = e2[e2['user_id'].isin(n1)]\n",
    "eur_end_2 = e2[e2['user_id'].isin(n2)]\n",
    "\n",
    "# Condition 3\n",
    "ame_end_3 = e3[e3['user_id'].isin(n1)]\n",
    "eur_end_3 = e3[e3['user_id'].isin(n2)]\n"
   ]
  },
  {
   "cell_type": "code",
   "execution_count": 359,
   "id": "concrete-israel",
   "metadata": {},
   "outputs": [
    {
     "data": {
      "text/plain": [
       "<AxesSubplot:>"
      ]
     },
     "execution_count": 359,
     "metadata": {},
     "output_type": "execute_result"
    },
    {
     "data": {
      "image/png": "[encoded data removed]",
      "text/plain": [
       "<Figure size 1440x720 with 1 Axes>"
      ]
     },
     "metadata": {},
     "output_type": "display_data"
    }
   ],
   "source": [
    "# Get end survey answers for americans and europeans \n",
    "ame_end['label_q3'].str.split(\",\",expand=True).stack().value_counts().nlargest(8).plot(kind='bar')\n",
    "\n",
    "# American seem to be more influenced by the nutriscore label in Condition 1. "
   ]
  },
  {
   "cell_type": "code",
   "execution_count": 356,
   "id": "challenging-snake",
   "metadata": {},
   "outputs": [
    {
     "data": {
      "text/plain": [
       "<AxesSubplot:>"
      ]
     },
     "execution_count": 356,
     "metadata": {},
     "output_type": "execute_result"
    },
    {
     "data": {
      "image/png": "[encoded data removed]",
      "text/plain": [
       "<Figure size 1440x720 with 1 Axes>"
      ]
     },
     "metadata": {},
     "output_type": "display_data"
    }
   ],
   "source": [
    "# Get end survey answers for americans and europeans \n",
    "eur_end['label_q3'].str.split(\",\",expand=True).stack().value_counts().nlargest(8).plot(kind='bar')"
   ]
  },
  {
   "cell_type": "markdown",
   "id": "institutional-summer",
   "metadata": {},
   "source": [
    "# Look at answers to q1 and q2 in end survey\n",
    "1. It was easy to judge the healthiness of the recipes\n",
    "2. The information provided was sufficient for me to make a decision\n"
   ]
  },
  {
   "cell_type": "markdown",
   "id": "hindu-carolina",
   "metadata": {},
   "source": [
    "### Condition 1: Nutriscore"
   ]
  },
  {
   "cell_type": "code",
   "execution_count": 141,
   "id": "fiscal-quantum",
   "metadata": {},
   "outputs": [
    {
     "name": "stdout",
     "output_type": "stream",
     "text": [
      "0.872\n",
      "0.6074766355140186\n"
     ]
    }
   ],
   "source": [
    "print(ame_end_1[\"label_q1\"].to_numpy().mean())\n",
    "print(eur_end_1[\"label_q1\"].to_numpy().mean())"
   ]
  },
  {
   "cell_type": "code",
   "execution_count": 137,
   "id": "sufficient-liverpool",
   "metadata": {},
   "outputs": [
    {
     "data": {
      "text/plain": [
       "Ttest_indResult(statistic=2.5792691109675094, pvalue=0.010523695335576705)"
      ]
     },
     "execution_count": 137,
     "metadata": {},
     "output_type": "execute_result"
    }
   ],
   "source": [
    "stats.ttest_ind(ame_end_1[\"label_q1\"], eur_end_1[\"label_q1\"])"
   ]
  },
  {
   "cell_type": "markdown",
   "id": "caring-breed",
   "metadata": {},
   "source": [
    "* Overall Americans found it easier to judge the healthiness of the recipes in Condition 1: Nutriscore\n",
    "* So they found it harder to select recipes, but at the same time they found the easier to judge the healthiness of the recipes. "
   ]
  },
  {
   "cell_type": "code",
   "execution_count": 310,
   "id": "stretch-gothic",
   "metadata": {},
   "outputs": [
    {
     "name": "stdout",
     "output_type": "stream",
     "text": [
      "0.872\n",
      "0.6074766355140186\n"
     ]
    }
   ],
   "source": [
    "print(ame_end_1[\"label_q2\"].to_numpy().mean())\n",
    "print(eur_end_1[\"label_q2\"].to_numpy().mean())"
   ]
  },
  {
   "cell_type": "code",
   "execution_count": 139,
   "id": "yellow-spouse",
   "metadata": {},
   "outputs": [
    {
     "data": {
      "text/plain": [
       "Ttest_indResult(statistic=2.5792691109675094, pvalue=0.010523695335576705)"
      ]
     },
     "execution_count": 139,
     "metadata": {},
     "output_type": "execute_result"
    }
   ],
   "source": [
    "stats.ttest_ind(ame_end_1[\"label_q2\"], eur_end_1[\"label_q2\"])"
   ]
  },
  {
   "cell_type": "markdown",
   "id": "industrial-jimmy",
   "metadata": {},
   "source": [
    "* More americans found the information provided sufficient to make a decision. There was a SS difference between Americans and Europeans. "
   ]
  },
  {
   "cell_type": "markdown",
   "id": "ranking-compact",
   "metadata": {},
   "source": [
    "### Condition 2: MTL"
   ]
  },
  {
   "cell_type": "code",
   "execution_count": 312,
   "id": "robust-concrete",
   "metadata": {},
   "outputs": [
    {
     "name": "stdout",
     "output_type": "stream",
     "text": [
      "0.9912280701754386\n",
      "0.865979381443299\n"
     ]
    }
   ],
   "source": [
    "print(ame_end_2[\"label_q1\"].to_numpy().mean())\n",
    "print(eur_end_2[\"label_q1\"].to_numpy().mean())"
   ]
  },
  {
   "cell_type": "code",
   "execution_count": 313,
   "id": "enabling-touch",
   "metadata": {},
   "outputs": [
    {
     "data": {
      "text/plain": [
       "Ttest_indResult(statistic=1.3091923472163551, pvalue=0.19190672271060819)"
      ]
     },
     "execution_count": 313,
     "metadata": {},
     "output_type": "execute_result"
    }
   ],
   "source": [
    "stats.ttest_ind(ame_end_2[\"label_q1\"], eur_end_2[\"label_q1\"])"
   ]
  },
  {
   "cell_type": "code",
   "execution_count": 314,
   "id": "distinguished-offset",
   "metadata": {},
   "outputs": [
    {
     "name": "stdout",
     "output_type": "stream",
     "text": [
      "0.9912280701754386\n",
      "0.865979381443299\n"
     ]
    }
   ],
   "source": [
    "print(ame_end_2[\"label_q2\"].to_numpy().mean())\n",
    "print(eur_end_2[\"label_q2\"].to_numpy().mean())"
   ]
  },
  {
   "cell_type": "markdown",
   "id": "conditional-quick",
   "metadata": {},
   "source": [
    "* It was easiest to judge the healthiness of the recipes in condition 2: MTL. "
   ]
  },
  {
   "cell_type": "markdown",
   "id": "bright-addiction",
   "metadata": {},
   "source": [
    "### Condition 3: No-label"
   ]
  },
  {
   "cell_type": "code",
   "execution_count": 145,
   "id": "aquatic-interpretation",
   "metadata": {},
   "outputs": [
    {
     "name": "stdout",
     "output_type": "stream",
     "text": [
      "0.5213675213675214\n",
      "0.45544554455445546\n"
     ]
    }
   ],
   "source": [
    "print(ame_end_3[\"label_q1\"].to_numpy().mean())\n",
    "print(eur_end_3[\"label_q1\"].to_numpy().mean())"
   ]
  },
  {
   "cell_type": "markdown",
   "id": "fabulous-tracker",
   "metadata": {},
   "source": [
    "* It was hardest to judge the healthiness of the recipes in condition 3: No-label"
   ]
  },
  {
   "cell_type": "markdown",
   "id": "moving-nitrogen",
   "metadata": {},
   "source": [
    "### Compare end survey answers between conditions"
   ]
  },
  {
   "cell_type": "code",
   "execution_count": 316,
   "id": "afraid-contemporary",
   "metadata": {},
   "outputs": [
    {
     "data": {
      "text/plain": [
       "F_onewayResult(statistic=17.620978681695192, pvalue=3.368894457935565e-08)"
      ]
     },
     "execution_count": 316,
     "metadata": {},
     "output_type": "execute_result"
    }
   ],
   "source": [
    "f_oneway(e1[\"label_q2\"], e2[\"label_q2\"], e3[\"label_q2\"])"
   ]
  },
  {
   "cell_type": "code",
   "execution_count": 146,
   "id": "legitimate-mandate",
   "metadata": {},
   "outputs": [
    {
     "data": {
      "text/plain": [
       "Ttest_indResult(statistic=-2.862685709219892, pvalue=0.004382442100359467)"
      ]
     },
     "execution_count": 146,
     "metadata": {},
     "output_type": "execute_result"
    }
   ],
   "source": [
    "stats.ttest_ind(e1[\"label_q2\"], e2[\"label_q2\"])"
   ]
  },
  {
   "cell_type": "code",
   "execution_count": 147,
   "id": "official-photography",
   "metadata": {},
   "outputs": [
    {
     "data": {
      "text/plain": [
       "Ttest_indResult(statistic=6.0052996649116785, pvalue=3.7584875468036454e-09)"
      ]
     },
     "execution_count": 147,
     "metadata": {},
     "output_type": "execute_result"
    }
   ],
   "source": [
    "stats.ttest_ind(e2[\"label_q2\"], e3[\"label_q2\"])"
   ]
  },
  {
   "cell_type": "code",
   "execution_count": 148,
   "id": "independent-provincial",
   "metadata": {},
   "outputs": [
    {
     "data": {
      "text/plain": [
       "Ttest_indResult(statistic=3.0329758906240873, pvalue=0.002552142507624364)"
      ]
     },
     "execution_count": 148,
     "metadata": {},
     "output_type": "execute_result"
    }
   ],
   "source": [
    "stats.ttest_ind(e1[\"label_q2\"], e3[\"label_q2\"])"
   ]
  },
  {
   "cell_type": "markdown",
   "id": "touched-renewal",
   "metadata": {},
   "source": [
    "## Account for personal factors in the end survey questions\n",
    "* Did cooking experience influence results? "
   ]
  },
  {
   "cell_type": "markdown",
   "id": "restricted-plenty",
   "metadata": {},
   "source": []
  },
  {
   "cell_type": "code",
   "execution_count": null,
   "id": "utility-chick",
   "metadata": {},
   "outputs": [],
   "source": []
  },
  {
   "cell_type": "markdown",
   "id": "featured-pillow",
   "metadata": {},
   "source": [
    "# Repeated measure ANOVA, control for bias"
   ]
  },
  {
   "cell_type": "code",
   "execution_count": null,
   "id": "raised-wildlife",
   "metadata": {},
   "outputs": [],
   "source": []
  },
  {
   "cell_type": "code",
   "execution_count": 117,
   "id": "cellular-correspondence",
   "metadata": {},
   "outputs": [
    {
     "name": "stdout",
     "output_type": "stream",
     "text": [
      "                Anova\n",
      "======================================\n",
      "        F Value Num DF  Den DF  Pr > F\n",
      "--------------------------------------\n",
      "variant  5.7941 2.0000 476.0000 0.0033\n",
      "======================================\n",
      "\n"
     ]
    }
   ],
   "source": [
    "from statsmodels.stats.anova import AnovaRM\n",
    "\n",
    "#perform the repeated measures ANOVA Nutriscore\n",
    "print(AnovaRM(data=s1, depvar='choice_dif_mean', subject='user_id', within=['variant'], aggregate_func=np.mean).fit())"
   ]
  },
  {
   "cell_type": "code",
   "execution_count": 119,
   "id": "verbal-vocabulary",
   "metadata": {},
   "outputs": [
    {
     "name": "stdout",
     "output_type": "stream",
     "text": [
      "                Anova\n",
      "======================================\n",
      "        F Value Num DF  Den DF  Pr > F\n",
      "--------------------------------------\n",
      "variant  0.0905 2.0000 469.0000 0.9135\n",
      "======================================\n",
      "\n"
     ]
    }
   ],
   "source": [
    "#perform the repeated measures ANOVA MTL\n",
    "print(AnovaRM(data=s2, depvar='choice_dif_mean', subject='user_id', within=['variant'], aggregate_func=np.mean).fit())"
   ]
  },
  {
   "cell_type": "code",
   "execution_count": 120,
   "id": "infinite-recording",
   "metadata": {},
   "outputs": [
    {
     "name": "stdout",
     "output_type": "stream",
     "text": [
      "                Anova\n",
      "======================================\n",
      "        F Value Num DF  Den DF  Pr > F\n",
      "--------------------------------------\n",
      "variant  1.6818 2.0000 476.0000 0.1871\n",
      "======================================\n",
      "\n"
     ]
    }
   ],
   "source": [
    "#perform the repeated measures ANOVA No-label\n",
    "print(AnovaRM(data=s3, depvar='choice_dif_mean', subject='user_id', within=['variant'], aggregate_func=np.mean).fit())"
   ]
  },
  {
   "cell_type": "code",
   "execution_count": null,
   "id": "strong-perspective",
   "metadata": {},
   "outputs": [],
   "source": []
  }
 ],
 "metadata": {
  "kernelspec": {
   "display_name": "Python 3",
   "language": "python",
   "name": "python3"
  },
  "language_info": {
   "codemirror_mode": {
    "name": "ipython",
    "version": 3
   },
   "file_extension": ".py",
   "mimetype": "text/x-python",
   "name": "python",
   "nbconvert_exporter": "python",
   "pygments_lexer": "ipython3",
   "version": "3.7.9"
  }
 },
 "nbformat": 4,
 "nbformat_minor": 5
}
