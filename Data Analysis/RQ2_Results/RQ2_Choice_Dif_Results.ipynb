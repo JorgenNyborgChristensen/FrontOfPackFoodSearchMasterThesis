{
 "cells": [
  {
   "cell_type": "code",
   "execution_count": 1,
   "id": "determined-finger",
   "metadata": {},
   "outputs": [
    {
     "name": "stderr",
     "output_type": "stream",
     "text": [
      "C:\\ProgramData\\Anaconda3\\lib\\site-packages\\outdated\\utils.py:18: OutdatedPackageWarning: The package pingouin is out of date. Your version is 0.3.11, the latest is 0.3.12.\n",
      "Set the environment variable OUTDATED_IGNORE=1 to disable these warnings.\n",
      "  **kwargs\n"
     ]
    }
   ],
   "source": [
    "import matplotlib.pyplot as plt\n",
    "import numpy as np\n",
    "import pandas as pd\n",
    "import seaborn as sns\n",
    "import warnings\n",
    "from pylab import rcParams\n",
    "from scipy import stats\n",
    "\n",
    "import pingouin as pg\n",
    "\n",
    "from factor_analyzer import FactorAnalyzer\n",
    "from factor_analyzer.factor_analyzer import calculate_kmo\n",
    "\n",
    "from scipy.stats import f_oneway\n",
    "from scipy.stats import ttest_ind\n",
    "import statsmodels.api as sm\n",
    "from statsmodels.formula.api import ols\n",
    "pd.set_option('display.max_columns', 1000)\n",
    "pd.set_option('display.max_rows', 1000)"
   ]
  },
  {
   "cell_type": "code",
   "execution_count": 2,
   "id": "interesting-trash",
   "metadata": {},
   "outputs": [],
   "source": [
    "%matplotlib inline\n",
    "warnings.filterwarnings(\"ignore\")\n",
    "rcParams['figure.figsize'] = 20,10\n",
    "rcParams['font.size'] = 30\n",
    "sns.set()\n",
    "np.random.seed(8)"
   ]
  },
  {
   "cell_type": "code",
   "execution_count": 16,
   "id": "synthetic-attribute",
   "metadata": {},
   "outputs": [],
   "source": [
    "# Selected recipes\n",
    "s1 = pd.read_csv(\"./Pro_1/selectedrecipes.csv\")\n",
    "s2 = pd.read_csv(\"./Pro_2/selectedrecipes.csv\")\n",
    "s3 = pd.read_csv(\"./Pro_3/selectedrecipes.csv\")\n",
    "\n",
    "\n",
    "# Demographic\n",
    "demo1 = pd.read_csv(\"./Pro_1/demographics.csv\")\n",
    "demo2 = pd.read_csv(\"./Pro_2/demographics.csv\")\n",
    "demo3 = pd.read_csv(\"./Pro_3/demographics.csv\")\n",
    "md = pd.concat([demo1, demo2, demo3])"
   ]
  },
  {
   "cell_type": "code",
   "execution_count": 17,
   "id": "specific-enemy",
   "metadata": {},
   "outputs": [],
   "source": [
    "# Calculate mean for choice difficulty for each participant (DROP QUESTION 5: \"5. It was easy to make this choice\")\n",
    "choice_dif1 = s1[[\"choice_sat_q4\", \"choice_sat_q6\"]]\n",
    "s1['choice_dif_mean'] = choice_dif1.mean(axis=1)\n",
    "\n",
    "choice_dif2 = s2[[\"choice_sat_q4\", \"choice_sat_q6\"]]\n",
    "s2['choice_dif_mean'] = choice_dif2.mean(axis=1)\n",
    "\n",
    "choice_dif3 = s3[[\"choice_sat_q4\", \"choice_sat_q6\"]]\n",
    "s3['choice_dif_mean'] = choice_dif3.mean(axis=1)"
   ]
  },
  {
   "cell_type": "code",
   "execution_count": 18,
   "id": "worst-decade",
   "metadata": {},
   "outputs": [],
   "source": [
    "# Add all data to one DF\n",
    "ms = pd.concat([s1, s2, s3])\n",
    "\n",
    "# Balance data (remove where user_id only selected 2 recipes)\n",
    "ms = ms[ms['user_id'].map(ms['user_id'].value_counts()) > 2]"
   ]
  },
  {
   "cell_type": "code",
   "execution_count": 19,
   "id": "overhead-funds",
   "metadata": {},
   "outputs": [],
   "source": [
    "# Create a new column with names for each label\n",
    "def label_name (row):\n",
    "    if row['condition'] == 1 :\n",
    "        return 'Nutriscore'\n",
    "    if row['condition'] == 2 :\n",
    "        return 'MTL'\n",
    "    if row['condition'] == 3 :\n",
    "        return 'No-label'\n",
    "\n",
    "def rank_name (row):\n",
    "    if row['variant'] == 1 :\n",
    "        return 'Popular'\n",
    "    if row['variant'] == 2 :\n",
    "        return 'Random'\n",
    "    if row['variant'] == 3 :\n",
    "        return 'Health'\n",
    "\n",
    "def numeric_nutriscore (row):\n",
    "    if row['nutri_score'] == 'A' :\n",
    "        return 1\n",
    "    if row['nutri_score'] == 'B' :\n",
    "        return 2\n",
    "    if row['nutri_score'] == 'C' :\n",
    "        return 3\n",
    "    if row['nutri_score'] == 'D' :\n",
    "        return 4\n",
    "    if row['nutri_score'] == 'E' :\n",
    "        return 5\n",
    "\n",
    "\n",
    "ms['Label'] = ms.apply(lambda row: label_name(row), axis=1)\n",
    "ms['Rank'] = ms.apply(lambda row: rank_name(row), axis=1)\n",
    "ms['num_nutriscore'] = ms.apply(lambda row: numeric_nutriscore(row), axis=1)"
   ]
  },
  {
   "cell_type": "code",
   "execution_count": 20,
   "id": "systematic-jefferson",
   "metadata": {},
   "outputs": [],
   "source": [
    "# Take the mean of the 3 choice difficulty questions for each participant\n",
    "shown1 = s1\n",
    "shown2 = s2\n",
    "shown3 = s3 \n",
    "\n",
    "# Condition 1 variants\n",
    "s1v1 = shown1.loc[shown1['variant'] == 1]\n",
    "s1v2 = shown1.loc[shown1['variant'] == 2] \n",
    "s1v3 = shown1.loc[shown1['variant'] == 3]\n",
    "\n",
    "# Condition 2 variants\n",
    "s2v1 = shown2.loc[shown2['variant'] == 1]\n",
    "s2v2 = shown2.loc[shown2['variant'] == 2]\n",
    "s2v3 = shown2.loc[shown2['variant'] == 3]\n",
    "\n",
    "# Condition 3 variants\n",
    "s3v1 = shown3.loc[shown3['variant'] == 1]\n",
    "s3v2 = shown3.loc[shown3['variant'] == 2]\n",
    "s3v3 = shown3.loc[shown3['variant'] == 3]\n",
    "\n",
    "h1 = s1v3['choice_dif_mean'].to_numpy()\n",
    "h2 = s2v3['choice_dif_mean'].to_numpy()\n",
    "h3 = s3v3['choice_dif_mean'].to_numpy()\n",
    "\n",
    "r1 = s1v2['choice_dif_mean'].to_numpy()\n",
    "r2 = s2v2['choice_dif_mean'].to_numpy()\n",
    "r3 = s3v2['choice_dif_mean'].to_numpy()\n",
    "\n",
    "p1 = s1v1['choice_dif_mean'].to_numpy()\n",
    "p2 = s2v1['choice_dif_mean'].to_numpy()\n",
    "p3 = s3v1['choice_dif_mean'].to_numpy()"
   ]
  },
  {
   "cell_type": "code",
   "execution_count": 21,
   "id": "fixed-lender",
   "metadata": {},
   "outputs": [],
   "source": [
    "# Get FSA score for different within-subjects variable EXCLUDE VEGANS\n",
    "no_veg_id = md['user_id'].loc[md['restrictions'] != \"vegan\"].values\n",
    "\n",
    "s1_no_veg = s1[s1['user_id'].isin(no_veg_id)]\n",
    "s2_no_veg = s2[s2['user_id'].isin(no_veg_id)]\n",
    "s3_no_veg = s3[s3['user_id'].isin(no_veg_id)]\n",
    "\n",
    "# Add all data to one DF\n",
    "ms_no_veg = pd.concat([s1_no_veg, s2_no_veg, s3_no_veg])\n",
    "df_no_veg = ms_no_veg[['user_id', 'fsa_score', 'variant', 'condition', 'who_score', 'nutri_score', 'choice_dif_mean']]\n"
   ]
  },
  {
   "cell_type": "code",
   "execution_count": 22,
   "id": "buried-stable",
   "metadata": {},
   "outputs": [],
   "source": [
    "# Get FSA score for different within-subjects variable EXCLUDE ALLERGIES\n",
    "no_allerg_id = md['user_id'].loc[md['restrictions'] != \"allergies\"].values\n",
    "\n",
    "s1_no_allerg = s1[s1['user_id'].isin(no_allerg_id)]\n",
    "s2_no_allerg = s2[s2['user_id'].isin(no_allerg_id)]\n",
    "s3_no_allerg = s3[s3['user_id'].isin(no_allerg_id)]\n",
    "\n",
    "# Add all data to one DF\n",
    "ms_no_allerg = pd.concat([s1_no_allerg, s2_no_allerg, s3_no_allerg])\n",
    "df_no_allerg = ms_no_allerg[['user_id', 'fsa_score', 'variant', 'condition', 'who_score', 'nutri_score', 'choice_dif_mean']]\n"
   ]
  },
  {
   "cell_type": "code",
   "execution_count": 23,
   "id": "combined-paste",
   "metadata": {},
   "outputs": [],
   "source": [
    "# Divide dataset by cooking experience (Low, Medium, High)\n",
    "c1 = md['user_id'].loc[md['experience'] == \"cverylow\"].values\n",
    "c2 = md['user_id'].loc[md['experience'] == \"clow\"].values\n",
    "c3 = md['user_id'].loc[md['experience'] == \"cmedium\"].values\n",
    "c4 = md['user_id'].loc[md['experience'] == \"chigh\"].values\n",
    "c5 = md['user_id'].loc[md['experience'] == \"cveryhigh\"].values\n",
    "\n",
    "low = np.concatenate((c1, c2))\n",
    "medium = c3\n",
    "high = np.concatenate((c4, c5))\n",
    "\n",
    "low_cooking = ms[ms['user_id'].isin(low)]\n",
    "medium_cooking = ms[ms['user_id'].isin(medium)]\n",
    "high_cooking = ms[ms['user_id'].isin(high)]"
   ]
  },
  {
   "cell_type": "code",
   "execution_count": 24,
   "id": "swedish-laptop",
   "metadata": {},
   "outputs": [],
   "source": [
    "e1 = md['user_id'].loc[md['education'] == 1].values\n",
    "e2 = md['user_id'].loc[md['education'] == 2].values\n",
    "e3 = md['user_id'].loc[md['education'] == 3].values\n",
    "e4 = md['user_id'].loc[md['education'] == 4].values\n",
    "e5 = md['user_id'].loc[md['education'] == 5].values\n",
    "# Prefer not say: e6 = md['user_id'].loc[md['education'] == 6].values\n",
    "\n",
    "less_high = ms[ms['user_id'].isin(e1)] # \n",
    "high = ms[ms['user_id'].isin(e2)]\n",
    "bachelor = ms[ms['user_id'].isin(e3)]\n",
    "master = ms[ms['user_id'].isin(e4)]\n",
    "doc = ms[ms['user_id'].isin(e5)]\n",
    "\n",
    "low = np.concatenate((e1,e2))\n",
    "medium = e3\n",
    "high = np.concatenate((e4,e5))\n",
    "\n",
    "low_edu = ms[ms['user_id'].isin(low)]\n",
    "bach_edu = ms[ms['user_id'].isin(medium)]\n",
    "high_edu = ms[ms['user_id'].isin(high)]"
   ]
  },
  {
   "cell_type": "code",
   "execution_count": 25,
   "id": "virtual-wallet",
   "metadata": {},
   "outputs": [],
   "source": [
    "# Eating habits\n",
    "h1 = md['user_id'].loc[md['eating_habits'] == \"vunhealthy\"].values\n",
    "h2 = md['user_id'].loc[md['eating_habits'] == \"unhealthy\"].values\n",
    "h3 = md['user_id'].loc[md['eating_habits'] == \"neutral\"].values\n",
    "h4 = md['user_id'].loc[md['eating_habits'] == \"healthy\"].values\n",
    "h5 = md['user_id'].loc[md['eating_habits'] == \"vhealhty\"].values\n",
    "\n",
    "pr = ms[ms['user_id'].isin(h1)]\n",
    "sa = ms[ms['user_id'].isin(h2)]\n",
    "fr = ms[ms['user_id'].isin(h3)]\n",
    "vg = ms[ms['user_id'].isin(h4)]\n",
    "lwe = ms[ms['user_id'].isin(h5)]\n",
    "\n",
    "\n",
    "unhealthy = np.concatenate((h1, h2))\n",
    "neutral = h3\n",
    "healthy = np.concatenate((h4,h5))\n",
    "\n",
    "unhealthy = ms[ms['user_id'].isin(unhealthy)]\n",
    "neutral = ms[ms['user_id'].isin(neutral)]\n",
    "healthy = ms[ms['user_id'].isin(healthy)]"
   ]
  },
  {
   "cell_type": "code",
   "execution_count": 26,
   "id": "wooden-treasury",
   "metadata": {},
   "outputs": [],
   "source": [
    "# Dietary goals\n",
    "\"\"\"\n",
    "6. Do you have any dietary goals? *\n",
    " Eat more protein\n",
    "\n",
    " Eat less salt\n",
    "\n",
    " Eat more fruit\n",
    "\n",
    " Eat more vegetables\n",
    "\n",
    " Lose weight\n",
    "\n",
    " Gain weight\n",
    "\n",
    " No goals\n",
    " \"\"\"\n",
    "g1 = md['user_id'].loc[md['goal'] == \"protein\"].values\n",
    "g2 = md['user_id'].loc[md['goal'] == \"salt\"].values\n",
    "g3 = md['user_id'].loc[md['goal'] == \"fruit\"].values\n",
    "g4 = md['user_id'].loc[md['goal'] == \"vegetables\"].values\n",
    "g5 = md['user_id'].loc[md['goal'] == \"lweight\"].values\n",
    "g6 = md['user_id'].loc[md['goal'] == \"gweight\"].values\n",
    "g7 = md['user_id'].loc[md['goal'] == \"none\"].values\n",
    "\n",
    "pr = ms[ms['user_id'].isin(g1)]\n",
    "sa = ms[ms['user_id'].isin(g1)]\n",
    "fr = ms[ms['user_id'].isin(g3)]\n",
    "vg = ms[ms['user_id'].isin(g4)]\n",
    "lwe = ms[ms['user_id'].isin(g5)]\n",
    "gwe = ms[ms['user_id'].isin(g6)]\n",
    "none = ms[ms['user_id'].isin(g7)]\n",
    "\n",
    "\n",
    "more = np.concatenate((g1, g3,g4,g6)) \n",
    "no_goal = g7\n",
    "reduce = np.concatenate((g2,g5))\n",
    "\n",
    "more = ms[ms['user_id'].isin(more)]\n",
    "no_goal = ms[ms['user_id'].isin(no_goal)]\n",
    "reduce = ms[ms['user_id'].isin(reduce)]"
   ]
  },
  {
   "cell_type": "code",
   "execution_count": 27,
   "id": "operational-offer",
   "metadata": {},
   "outputs": [],
   "source": [
    "# Divide dataset by cooking experience (Low, Medium, High)\n",
    "c1 = md['user_id'].loc[md['experience'] == \"cverylow\"].values\n",
    "c2 = md['user_id'].loc[md['experience'] == \"clow\"].values\n",
    "c3 = md['user_id'].loc[md['experience'] == \"cmedium\"].values\n",
    "c4 = md['user_id'].loc[md['experience'] == \"chigh\"].values\n",
    "c5 = md['user_id'].loc[md['experience'] == \"cveryhigh\"].values\n",
    "\n",
    "low = np.concatenate((c1, c2))\n",
    "medium = c3\n",
    "high = np.concatenate((c4, c5))\n",
    "\n",
    "low_cooking = ms[ms['user_id'].isin(low)]\n",
    "medium_cooking = ms[ms['user_id'].isin(medium)]\n",
    "high_cooking = ms[ms['user_id'].isin(high)]\n",
    "\n",
    "e1 = md['user_id'].loc[md['education'] == 1].values\n",
    "e2 = md['user_id'].loc[md['education'] == 2].values\n",
    "e3 = md['user_id'].loc[md['education'] == 3].values\n",
    "e4 = md['user_id'].loc[md['education'] == 4].values\n",
    "e5 = md['user_id'].loc[md['education'] == 5].values\n",
    "# Prefer not say: e6 = md['user_id'].loc[md['education'] == 6].values\n",
    "\n",
    "less_high = ms[ms['user_id'].isin(e1)] # \n",
    "high = ms[ms['user_id'].isin(e2)]\n",
    "bachelor = ms[ms['user_id'].isin(e3)]\n",
    "master = ms[ms['user_id'].isin(e4)]\n",
    "doc = ms[ms['user_id'].isin(e5)]\n",
    "\n",
    "low = np.concatenate((e1,e2))\n",
    "medium = e3\n",
    "high = np.concatenate((e4,e5))\n",
    "\n",
    "low_edu = ms[ms['user_id'].isin(low)]\n",
    "bach_edu = ms[ms['user_id'].isin(medium)]\n",
    "high_edu = ms[ms['user_id'].isin(high)]\n",
    "\n",
    "# Eating habits\n",
    "h1 = md['user_id'].loc[md['eating_habits'] == \"vunhealthy\"].values\n",
    "h2 = md['user_id'].loc[md['eating_habits'] == \"unhealthy\"].values\n",
    "h3 = md['user_id'].loc[md['eating_habits'] == \"neutral\"].values\n",
    "h4 = md['user_id'].loc[md['eating_habits'] == \"healthy\"].values\n",
    "h5 = md['user_id'].loc[md['eating_habits'] == \"vhealhty\"].values\n",
    "\n",
    "pr = ms[ms['user_id'].isin(h1)]\n",
    "sa = ms[ms['user_id'].isin(h2)]\n",
    "fr = ms[ms['user_id'].isin(h3)]\n",
    "vg = ms[ms['user_id'].isin(h4)]\n",
    "lwe = ms[ms['user_id'].isin(h5)]\n",
    "\n",
    "\n",
    "unhealthy = np.concatenate((h1, h2))\n",
    "neutral = h3\n",
    "healthy = np.concatenate((h4,h5))\n",
    "\n",
    "unhealthy = ms[ms['user_id'].isin(unhealthy)]\n",
    "neutral = ms[ms['user_id'].isin(neutral)]\n",
    "healthy = ms[ms['user_id'].isin(healthy)]\n",
    "\n",
    "# Dietary goals\n",
    "\"\"\"\n",
    "6. Do you have any dietary goals? *\n",
    " Eat more protein\n",
    "\n",
    " Eat less salt\n",
    "\n",
    " Eat more fruit\n",
    "\n",
    " Eat more vegetables\n",
    "\n",
    " Lose weight\n",
    "\n",
    " Gain weight\n",
    "\n",
    " No goals\n",
    " \"\"\"\n",
    "g1 = md['user_id'].loc[md['goal'] == \"protein\"].values\n",
    "g2 = md['user_id'].loc[md['goal'] == \"salt\"].values\n",
    "g3 = md['user_id'].loc[md['goal'] == \"fruit\"].values\n",
    "g4 = md['user_id'].loc[md['goal'] == \"vegetables\"].values\n",
    "g5 = md['user_id'].loc[md['goal'] == \"lweight\"].values\n",
    "g6 = md['user_id'].loc[md['goal'] == \"gweight\"].values\n",
    "g7 = md['user_id'].loc[md['goal'] == \"none\"].values\n",
    "\n",
    "pr = ms[ms['user_id'].isin(g1)]\n",
    "sa = ms[ms['user_id'].isin(g1)]\n",
    "fr = ms[ms['user_id'].isin(g3)]\n",
    "vg = ms[ms['user_id'].isin(g4)]\n",
    "lwe = ms[ms['user_id'].isin(g5)]\n",
    "gwe = ms[ms['user_id'].isin(g6)]\n",
    "none = ms[ms['user_id'].isin(g7)]\n",
    "\n",
    "\n",
    "more = np.concatenate((g1, g3,g4,g6)) \n",
    "no_goal = g7\n",
    "reduce = np.concatenate((g2,g5))\n",
    "\n",
    "more = ms[ms['user_id'].isin(more)]\n",
    "no_goal = ms[ms['user_id'].isin(no_goal)]\n",
    "reduce = ms[ms['user_id'].isin(reduce)]"
   ]
  },
  {
   "cell_type": "markdown",
   "id": "innovative-table",
   "metadata": {},
   "source": [
    "# Factoral analysis\n",
    "* Determine if we can use the mean of the 3 questions\n",
    "\n",
    "http://www.let.rug.nl/nerbonne/teach/rema-stats-meth-seminar/student-papers/MHof-QuestionnaireEvaluation-2012-Cronbach-FactAnalysis.pdf"
   ]
  },
  {
   "cell_type": "code",
   "execution_count": 29,
   "id": "decimal-salon",
   "metadata": {},
   "outputs": [
    {
     "name": "stdout",
     "output_type": "stream",
     "text": [
      "[0.57668675 0.61013569 0.69981919]\n",
      "0.613377709097379\n",
      "Factor Loadings \n",
      "               Factor 1\n",
      "choice_sat_q4  0.935733\n",
      "choice_sat_q5 -0.634133\n",
      "choice_sat_q6  0.492727\n",
      "\\begin{tabular}{r}\n",
      "\\toprule\n",
      " Factor 1 \\\\\n",
      "\\midrule\n",
      " 0.935733 \\\\\n",
      "-0.634133 \\\\\n",
      " 0.492727 \\\\\n",
      "\\bottomrule\n",
      "\\end{tabular}\n",
      "\n"
     ]
    }
   ],
   "source": [
    "choice_dif = ms[[\"choice_sat_q4\",\"choice_sat_q5\", \"choice_sat_q6\"]]\n",
    "\n",
    "kmo_all,kmo_model=calculate_kmo(choice_dif)\n",
    "\n",
    "fa = FactorAnalyzer(1)\n",
    "fa.fit(choice_dif)\n",
    "\n",
    "loadings = pd.DataFrame(fa.loadings_, columns=['Factor 1'], index=choice_dif.columns)\n",
    "print(kmo_all)\n",
    "print(kmo_model)\n",
    "print('Factor Loadings \\n%s' %loadings)\n",
    "\n",
    "loadings = pd.DataFrame(loadings)\n",
    "loadings\n",
    "print(loadings.to_latex(index=False))"
   ]
  },
  {
   "cell_type": "code",
   "execution_count": null,
   "id": "traditional-lyric",
   "metadata": {},
   "outputs": [],
   "source": []
  },
  {
   "cell_type": "markdown",
   "id": "judicial-document",
   "metadata": {},
   "source": [
    "## Cronbach’s Alpha\n",
    "http://www.let.rug.nl/nerbonne/teach/rema-stats-meth-seminar/student-papers/MHof-QuestionnaireEvaluation-2012-Cronbach-FactAnalysis.pdf"
   ]
  },
  {
   "cell_type": "code",
   "execution_count": 48,
   "id": "stopped-promotion",
   "metadata": {},
   "outputs": [
    {
     "data": {
      "text/plain": [
       "(-0.6049579165145919, array([-0.727, -0.49 ]))"
      ]
     },
     "execution_count": 48,
     "metadata": {},
     "output_type": "execute_result"
    }
   ],
   "source": [
    "# Choice difficulty questions\n",
    "choice_dif = ms[[\"choice_sat_q4\",\"choice_sat_q5\", \"choice_sat_q6\"]]\n",
    "\n",
    "pg.cronbach_alpha(data=choice_dif)"
   ]
  },
  {
   "cell_type": "code",
   "execution_count": 30,
   "id": "pointed-airplane",
   "metadata": {},
   "outputs": [
    {
     "data": {
      "text/plain": [
       "(0.6293225219719272, array([0.596, 0.66 ]))"
      ]
     },
     "execution_count": 30,
     "metadata": {},
     "output_type": "execute_result"
    }
   ],
   "source": [
    "# Choice difficulty questions -- Remove q5\n",
    "choice_dif = ms[[\"choice_sat_q4\", \"choice_sat_q6\"]]\n",
    "pg.cronbach_alpha(data=choice_dif)"
   ]
  },
  {
   "cell_type": "code",
   "execution_count": 31,
   "id": "modular-ordinary",
   "metadata": {},
   "outputs": [
    {
     "name": "stdout",
     "output_type": "stream",
     "text": [
      "[0.49975979 0.49975979]\n",
      "0.4997597886278453\n",
      "Factor Loadings \n",
      "               Factor 1\n",
      "choice_sat_q4  0.679015\n",
      "choice_sat_q6  0.679015\n",
      "\\begin{tabular}{r}\n",
      "\\toprule\n",
      " Factor 1 \\\\\n",
      "\\midrule\n",
      " 0.679015 \\\\\n",
      " 0.679015 \\\\\n",
      "\\bottomrule\n",
      "\\end{tabular}\n",
      "\n"
     ]
    }
   ],
   "source": [
    "kmo_all,kmo_model=calculate_kmo(choice_dif)\n",
    "\n",
    "fa = FactorAnalyzer(1)\n",
    "fa.fit(choice_dif)\n",
    "\n",
    "loadings = pd.DataFrame(fa.loadings_, columns=['Factor 1'], index=choice_dif.columns)\n",
    "print(kmo_all)\n",
    "print(kmo_model)\n",
    "print('Factor Loadings \\n%s' %loadings)\n",
    "\n",
    "loadings = pd.DataFrame(loadings)\n",
    "loadings\n",
    "print(loadings.to_latex(index=False))"
   ]
  },
  {
   "cell_type": "markdown",
   "id": "individual-excitement",
   "metadata": {},
   "source": [
    "* The alpha coefficient for the two items is .626, suggesting that the items have relatively high internal consistency.  (Note that a reliability coefficient of .70 or higher is considered “acceptable” in most social science research situations.)\n",
    "    * https://stats.idre.ucla.edu/spss/faq/what-does-cronbachs-alpha-mean/\n",
    "* The alpha coefficient for the two items is .626, which is not perfect but better than when also including q5. "
   ]
  },
  {
   "cell_type": "code",
   "execution_count": 163,
   "id": "manufactured-round",
   "metadata": {},
   "outputs": [
    {
     "name": "stdout",
     "output_type": "stream",
     "text": [
      "<class 'pandas.core.frame.DataFrame'>\n",
      "Int64Index: 2082 entries, 0 to 707\n",
      "Data columns (total 72 columns):\n",
      " #   Column                   Non-Null Count  Dtype  \n",
      "---  ------                   --------------  -----  \n",
      " 0   Unnamed: 0               2082 non-null   int64  \n",
      " 1   Unnamed: 0_x             2082 non-null   int64  \n",
      " 2   user_id                  2082 non-null   int64  \n",
      " 3   recipe_id                2082 non-null   object \n",
      " 4   load_more                420 non-null    object \n",
      " 5   recipe_order             2082 non-null   object \n",
      " 6   choice_num               2082 non-null   int64  \n",
      " 7   condition                2082 non-null   int64  \n",
      " 8   submitted_at             2082 non-null   object \n",
      " 9   query_term               2082 non-null   object \n",
      " 10  choice_sat_q1            2082 non-null   int64  \n",
      " 11  choice_sat_q4            2082 non-null   int64  \n",
      " 12  choice_sat_q2            2082 non-null   int64  \n",
      " 13  choice_sat_q3            2082 non-null   int64  \n",
      " 14  choice_sat_q5            2082 non-null   int64  \n",
      " 15  choice_sat_q6            2082 non-null   int64  \n",
      " 16  choice_sat_q7            2082 non-null   int64  \n",
      " 17  variant                  2082 non-null   int64  \n",
      " 18  Unnamed: 0_y             2082 non-null   int64  \n",
      " 19  Unnamed: 0.1             2082 non-null   int64  \n",
      " 20  Unnamed: 0.1.1           2082 non-null   int64  \n",
      " 21  recipe_image_link        2082 non-null   object \n",
      " 22  recipe_name              2082 non-null   object \n",
      " 23  recipe_description       2082 non-null   object \n",
      " 24  recipe_servings          2082 non-null   object \n",
      " 25  recipe_directions        2082 non-null   object \n",
      " 26  recipe_directions_cnt    2082 non-null   int64  \n",
      " 27  recipe_serving           2082 non-null   int64  \n",
      " 28  recipe_calories          2082 non-null   float64\n",
      " 29  total_gram_weight        2082 non-null   float64\n",
      " 30  avg_rating               2082 non-null   float64\n",
      " 31  number_of_ratings        2082 non-null   int64  \n",
      " 32  kcal_per_100g            2082 non-null   float64\n",
      " 33  protein_per_100g         2082 non-null   float64\n",
      " 34  carbohydrates_per_100g   2082 non-null   float64\n",
      " 35  fat_per_100g             2082 non-null   float64\n",
      " 36  weight_per_serving       2082 non-null   float64\n",
      " 37  weight_per_100           2082 non-null   float64\n",
      " 38  sugar_per_100g           2082 non-null   float64\n",
      " 39  saturated_fat_per_100g   2082 non-null   float64\n",
      " 40  sodium_per_100g          2082 non-null   float64\n",
      " 41  fiber_per_100g           2082 non-null   float64\n",
      " 42  nutri_score              2082 non-null   object \n",
      " 43  fat_mtl_score            2082 non-null   object \n",
      " 44  saturated_fat_mtl_score  2082 non-null   object \n",
      " 45  sugar_mtl                2082 non-null   object \n",
      " 46  sodium_mtl               2082 non-null   object \n",
      " 47  fsa_score                2082 non-null   int64  \n",
      " 48  ingredients              2082 non-null   object \n",
      " 49  keyword                  2082 non-null   object \n",
      " 50  name                     2082 non-null   object \n",
      " 51  fiberg                   2082 non-null   float64\n",
      " 52  sodiumg                  2082 non-null   float64\n",
      " 53  carbohydratesg           2082 non-null   float64\n",
      " 54  fatg                     2082 non-null   float64\n",
      " 55  proteing                 2082 non-null   float64\n",
      " 56  sugarg                   2082 non-null   float64\n",
      " 57  saturatedfatg            2082 non-null   float64\n",
      " 58  sizeg                    2082 non-null   float64\n",
      " 59  servings                 2082 non-null   int64  \n",
      " 60  calorieskcal             2082 non-null   int64  \n",
      " 61  averagerating            2082 non-null   float64\n",
      " 62  averagesentiment         2082 non-null   float64\n",
      " 63  numberofratings          2082 non-null   int64  \n",
      " 64  numberofbookmarks        2082 non-null   int64  \n",
      " 65  yearofpublishing         2082 non-null   int64  \n",
      " 66  _merge                   2082 non-null   object \n",
      " 67  who_score                2082 non-null   int64  \n",
      " 68  choice_dif_mean          2082 non-null   float64\n",
      " 69  Label                    2082 non-null   object \n",
      " 70  Rank                     2082 non-null   object \n",
      " 71  num_nutriscore           2082 non-null   int64  \n",
      "dtypes: float64(24), int64(27), object(21)\n",
      "memory usage: 1.2+ MB\n"
     ]
    }
   ],
   "source": [
    "ms.info()"
   ]
  },
  {
   "cell_type": "code",
   "execution_count": 162,
   "id": "realistic-output",
   "metadata": {},
   "outputs": [],
   "source": [
    "ms.to_csv(\"ms_choice_dif.csv\")"
   ]
  },
  {
   "cell_type": "markdown",
   "id": "offshore-composite",
   "metadata": {},
   "source": [
    "## Desc data"
   ]
  },
  {
   "cell_type": "code",
   "execution_count": 57,
   "id": "buried-category",
   "metadata": {},
   "outputs": [
    {
     "data": {
      "text/plain": [
       "<matplotlib.lines.Line2D at 0x23b994a01c8>"
      ]
     },
     "execution_count": 57,
     "metadata": {},
     "output_type": "execute_result"
    },
    {
     "data": {
      "image/png": "[encoded data removed]",
      "text/plain": [
       "<Figure size 1440x720 with 1 Axes>"
      ]
     },
     "metadata": {},
     "output_type": "display_data"
    }
   ],
   "source": [
    "# Compare\n",
    "plt.figure()\n",
    "ax1 = sns.distplot(h1)\n",
    "ax2 = sns.distplot(h2)\n",
    "ax3 = sns.distplot(h3)\n",
    "plt.axvline(np.mean(h1), color='blue', linestyle='dashed', linewidth=5)    # Nutri-score health rank\n",
    "plt.axvline(np.mean(h2), color='orange', linestyle='dashed', linewidth=5)  # MTL health rank\n",
    "plt.axvline(np.mean(h3), color='green', linestyle='dashed', linewidth=5)   # No-label health rank"
   ]
  },
  {
   "cell_type": "code",
   "execution_count": 59,
   "id": "contemporary-kennedy",
   "metadata": {},
   "outputs": [
    {
     "name": "stdout",
     "output_type": "stream",
     "text": [
      "Nutriscore: DescribeResult(nobs=707, minmax=(-2.0, 2.0), mean=-0.46463932107496464, variance=1.0114957266669604, skewness=0.3639592806640144, kurtosis=-0.5971357472103014) \n",
      "\n",
      "MTL: DescribeResult(nobs=717, minmax=(-2.0, 2.0), mean=-0.596931659693166, variance=0.9169179464403979, skewness=0.44322477423287265, kurtosis=-0.5264107970730363) \n",
      "\n",
      "No-label: DescribeResult(nobs=708, minmax=(-2.0, 2.0), mean=-0.5635593220338984, variance=0.8417819384844053, skewness=0.39661499221703195, kurtosis=-0.3922441373262431) \n",
      "\n"
     ]
    }
   ],
   "source": [
    "# Get mean choice difficulty for different conditions\n",
    "print(\"Nutriscore:\", stats.describe(s1['choice_dif_mean']), \"\\n\")\n",
    "print(\"MTL:\", stats.describe(s2['choice_dif_mean']), \"\\n\")\n",
    "print(\"No-label:\", stats.describe(s3['choice_dif_mean']), \"\\n\")"
   ]
  },
  {
   "cell_type": "code",
   "execution_count": 74,
   "id": "boolean-report",
   "metadata": {},
   "outputs": [
    {
     "data": {
      "image/png": "[encoded data removed]",
      "text/plain": [
       "<Figure size 1440x720 with 1 Axes>"
      ]
     },
     "metadata": {},
     "output_type": "display_data"
    }
   ],
   "source": [
    "sns.pointplot(data=ms, x='Rank', y='choice_dif_mean', hue='Label', dodge=True, capsize=.1, ci='sd')\n",
    "#plt.ylim(1, 7)\n",
    "_ = plt.title('Mean choice difficulty for different variants')\n",
    "\n",
    "# -2 = low choice dif\n",
    "# 2 = high choice dif"
   ]
  },
  {
   "cell_type": "markdown",
   "id": "right-sunday",
   "metadata": {},
   "source": [
    "* High values = high choice difficulty\n",
    "* Overall choice difficulty was lowest in the MTL condition, and highest in the nutriscore condition."
   ]
  },
  {
   "cell_type": "markdown",
   "id": "unavailable-insulation",
   "metadata": {},
   "source": [
    "# RQ2: Can the presence of a front-of-pack nutrition label in combination with a health ranking decrease choice difficulty?\n",
    "\n",
    "Questions: \n",
    "* 4. I changed my mind several times before making a decision\n",
    "* 5. It was easy to make this choice (this questions was not included) \n",
    "* 6. Making a choice was overwhelming\n",
    "\n",
    "Answers:\n",
    "* Strongly disagree = -2lowest\n",
    "* Disagree = 1\n",
    "* Neither disagree/agree = 0\n",
    "* Agree = 1\n",
    "* Strongly agree = 2\n",
    "\n",
    "Choice difficulty: \n",
    "* -2 = Easy to make a choice\n",
    "* 2 = Hard to make a choice\n",
    "\n",
    "## Summary: \n",
    "* There is a statisticaly significant difference in choice difficulty between the different conditions (pvalue=0.0263)\n",
    "* Overall choice difficulty is highest in the nutriscore condition and lowest in the No-label condition.\n",
    "* This means that adding a Nutriscore labels increases choice difficulty, maybe because you have to process more information in order to make a choice? Or maybe you would like to select a certain recipe based on image/ingredients/title but nutriscore is really low so you reconsider. \n",
    "\n",
    "### Condtions\n",
    "#### Condition 1: Nutriscore\n",
    "* It looks like the Nutriscore label performed best when we combined a health ranking with the Nutriscore label. However there was no statistical significant difference in choice difficulty between health, popular and random ranking. \n",
    "\n",
    "#### Condition 2: MTL\n",
    "* The MTL performed well overall, and there was not much of a difference in choice difficulty when combined with different ranking. However there was no statistical significant difference in choice difficulty between health, popular and random ranking.\n",
    "\n",
    "#### Condition 3: No-label\n",
    "* Choice difficulty was the lowest for no-label combined with popularity ranking! However there was no statistical significant difference in choice difficulty between health, popular and random ranking.\n",
    "\n",
    "### Variants\n",
    "#### Variant 1: Popular ranking compare between conditions\n",
    "* Statistically significant difference in choice difficulty between Nutriscore and No-label when there is a popular ranking of recipes. \n",
    "\n",
    "#### Variant 2: Random ranking compare between conditions\n",
    "* No significant statistical difference in Choice difficulty when front-of-pack nutrition label is presented in combination with a random ranking. \n",
    "* Choice difficulty is lowest with MTL combined with random ranking. \n",
    "* Choice difficulty is highest with Nutriscore combined with random ranking. \n",
    "\n",
    "#### Variant 3: Health ranking compare between conditions\n",
    "* No significant statistical difference in Choice difficulty when front-of-pack nutrition label is presented in combination with a health ranking. \n",
    "* Choice difficulty is lowest with No-label."
   ]
  },
  {
   "cell_type": "markdown",
   "id": "specialized-england",
   "metadata": {},
   "source": [
    "# Compare choice difficulty between conditions"
   ]
  },
  {
   "cell_type": "markdown",
   "id": "twenty-vermont",
   "metadata": {},
   "source": [
    "# One-way ANOVA (compare conditions - between variable)\n",
    "* The one-way ANOVA tests the null hypothesis that two or more groups have the same population mean. The test is applied to samples from two or more groups, possibly with differing sizes.\n",
    "* https://docs.scipy.org/doc/scipy/reference/generated/scipy.stats.f_oneway.html\n",
    "\n",
    "\n",
    "* We used one-way ANOVA to determine if there is a difference in FSA score between the different conditions. This can be interpreted as which condition made it easiest for the participant to make the healthiest choices. \n",
    "* FSA score = dependent variable"
   ]
  },
  {
   "cell_type": "code",
   "execution_count": 164,
   "id": "suspended-holmes",
   "metadata": {},
   "outputs": [
    {
     "data": {
      "text/html": [
       "<div>\n",
       "<style scoped>\n",
       "    .dataframe tbody tr th:only-of-type {\n",
       "        vertical-align: middle;\n",
       "    }\n",
       "\n",
       "    .dataframe tbody tr th {\n",
       "        vertical-align: top;\n",
       "    }\n",
       "\n",
       "    .dataframe thead th {\n",
       "        text-align: right;\n",
       "    }\n",
       "</style>\n",
       "<table border=\"1\" class=\"dataframe\">\n",
       "  <thead>\n",
       "    <tr style=\"text-align: right;\">\n",
       "      <th></th>\n",
       "      <th>W</th>\n",
       "      <th>pval</th>\n",
       "      <th>equal_var</th>\n",
       "    </tr>\n",
       "  </thead>\n",
       "  <tbody>\n",
       "    <tr>\n",
       "      <th>levene</th>\n",
       "      <td>3.949651</td>\n",
       "      <td>0.019406</td>\n",
       "      <td>False</td>\n",
       "    </tr>\n",
       "  </tbody>\n",
       "</table>\n",
       "</div>"
      ],
      "text/plain": [
       "               W      pval  equal_var\n",
       "levene  3.949651  0.019406      False"
      ]
     },
     "execution_count": 164,
     "metadata": {},
     "output_type": "execute_result"
    }
   ],
   "source": [
    "# 1. This is a between subject design, so the first step is to test for equality of variances\n",
    "pg.homoscedasticity(data=ms, dv='choice_dif_mean', group='condition')"
   ]
  },
  {
   "cell_type": "code",
   "execution_count": 172,
   "id": "faced-bicycle",
   "metadata": {},
   "outputs": [
    {
     "data": {
      "text/html": [
       "<div>\n",
       "<style scoped>\n",
       "    .dataframe tbody tr th:only-of-type {\n",
       "        vertical-align: middle;\n",
       "    }\n",
       "\n",
       "    .dataframe tbody tr th {\n",
       "        vertical-align: top;\n",
       "    }\n",
       "\n",
       "    .dataframe thead th {\n",
       "        text-align: right;\n",
       "    }\n",
       "</style>\n",
       "<table border=\"1\" class=\"dataframe\">\n",
       "  <thead>\n",
       "    <tr style=\"text-align: right;\">\n",
       "      <th></th>\n",
       "      <th>Source</th>\n",
       "      <th>ddof1</th>\n",
       "      <th>ddof2</th>\n",
       "      <th>F</th>\n",
       "      <th>p-unc</th>\n",
       "      <th>np2</th>\n",
       "    </tr>\n",
       "  </thead>\n",
       "  <tbody>\n",
       "    <tr>\n",
       "      <th>0</th>\n",
       "      <td>condition</td>\n",
       "      <td>2</td>\n",
       "      <td>2079</td>\n",
       "      <td>3.178885</td>\n",
       "      <td>0.041834</td>\n",
       "      <td>0.003049</td>\n",
       "    </tr>\n",
       "  </tbody>\n",
       "</table>\n",
       "</div>"
      ],
      "text/plain": [
       "      Source  ddof1  ddof2         F     p-unc       np2\n",
       "0  condition      2   2079  3.178885  0.041834  0.003049"
      ]
     },
     "execution_count": 172,
     "metadata": {},
     "output_type": "execute_result"
    }
   ],
   "source": [
    "# 2. If the groups have equal variances, we can use a regular one-way ANOVA\n",
    "pg.anova(data=ms, dv='choice_dif_mean', between='condition')"
   ]
  },
  {
   "cell_type": "code",
   "execution_count": 173,
   "id": "worst-intersection",
   "metadata": {},
   "outputs": [
    {
     "data": {
      "text/html": [
       "<div>\n",
       "<style scoped>\n",
       "    .dataframe tbody tr th:only-of-type {\n",
       "        vertical-align: middle;\n",
       "    }\n",
       "\n",
       "    .dataframe tbody tr th {\n",
       "        vertical-align: top;\n",
       "    }\n",
       "\n",
       "    .dataframe thead th {\n",
       "        text-align: right;\n",
       "    }\n",
       "</style>\n",
       "<table border=\"1\" class=\"dataframe\">\n",
       "  <thead>\n",
       "    <tr style=\"text-align: right;\">\n",
       "      <th></th>\n",
       "      <th>Source</th>\n",
       "      <th>ddof1</th>\n",
       "      <th>ddof2</th>\n",
       "      <th>F</th>\n",
       "      <th>p-unc</th>\n",
       "      <th>np2</th>\n",
       "    </tr>\n",
       "  </thead>\n",
       "  <tbody>\n",
       "    <tr>\n",
       "      <th>0</th>\n",
       "      <td>condition</td>\n",
       "      <td>2</td>\n",
       "      <td>2096</td>\n",
       "      <td>3.636905</td>\n",
       "      <td>0.0265</td>\n",
       "      <td>0.003458</td>\n",
       "    </tr>\n",
       "  </tbody>\n",
       "</table>\n",
       "</div>"
      ],
      "text/plain": [
       "      Source  ddof1  ddof2         F   p-unc       np2\n",
       "0  condition      2   2096  3.636905  0.0265  0.003458"
      ]
     },
     "execution_count": 173,
     "metadata": {},
     "output_type": "execute_result"
    }
   ],
   "source": [
    "### Remove vegans \n",
    "pg.anova(data=df_no_allerg, dv='choice_dif_mean', between='condition')"
   ]
  },
  {
   "cell_type": "code",
   "execution_count": 174,
   "id": "sorted-bikini",
   "metadata": {},
   "outputs": [
    {
     "data": {
      "text/html": [
       "<div>\n",
       "<style scoped>\n",
       "    .dataframe tbody tr th:only-of-type {\n",
       "        vertical-align: middle;\n",
       "    }\n",
       "\n",
       "    .dataframe tbody tr th {\n",
       "        vertical-align: top;\n",
       "    }\n",
       "\n",
       "    .dataframe thead th {\n",
       "        text-align: right;\n",
       "    }\n",
       "</style>\n",
       "<table border=\"1\" class=\"dataframe\">\n",
       "  <thead>\n",
       "    <tr style=\"text-align: right;\">\n",
       "      <th></th>\n",
       "      <th>Source</th>\n",
       "      <th>ddof1</th>\n",
       "      <th>ddof2</th>\n",
       "      <th>F</th>\n",
       "      <th>p-unc</th>\n",
       "      <th>np2</th>\n",
       "    </tr>\n",
       "  </thead>\n",
       "  <tbody>\n",
       "    <tr>\n",
       "      <th>0</th>\n",
       "      <td>condition</td>\n",
       "      <td>2</td>\n",
       "      <td>1956</td>\n",
       "      <td>0.762719</td>\n",
       "      <td>0.466535</td>\n",
       "      <td>0.000779</td>\n",
       "    </tr>\n",
       "  </tbody>\n",
       "</table>\n",
       "</div>"
      ],
      "text/plain": [
       "      Source  ddof1  ddof2         F     p-unc       np2\n",
       "0  condition      2   1956  0.762719  0.466535  0.000779"
      ]
     },
     "execution_count": 174,
     "metadata": {},
     "output_type": "execute_result"
    }
   ],
   "source": [
    "### Remove people with alergies \n",
    "pg.anova(data=df_no_veg, dv='choice_dif_mean', between='condition')"
   ]
  },
  {
   "cell_type": "code",
   "execution_count": 175,
   "id": "first-event",
   "metadata": {},
   "outputs": [
    {
     "data": {
      "text/html": [
       "<div>\n",
       "<style scoped>\n",
       "    .dataframe tbody tr th:only-of-type {\n",
       "        vertical-align: middle;\n",
       "    }\n",
       "\n",
       "    .dataframe tbody tr th {\n",
       "        vertical-align: top;\n",
       "    }\n",
       "\n",
       "    .dataframe thead th {\n",
       "        text-align: right;\n",
       "    }\n",
       "</style>\n",
       "<table border=\"1\" class=\"dataframe\">\n",
       "  <thead>\n",
       "    <tr style=\"text-align: right;\">\n",
       "      <th></th>\n",
       "      <th>A</th>\n",
       "      <th>B</th>\n",
       "      <th>mean(A)</th>\n",
       "      <th>mean(B)</th>\n",
       "      <th>diff</th>\n",
       "      <th>se</th>\n",
       "      <th>T</th>\n",
       "      <th>p-tukey</th>\n",
       "      <th>hedges</th>\n",
       "    </tr>\n",
       "  </thead>\n",
       "  <tbody>\n",
       "    <tr>\n",
       "      <th>0</th>\n",
       "      <td>MTL</td>\n",
       "      <td>No-label</td>\n",
       "      <td>-0.587268</td>\n",
       "      <td>-0.559420</td>\n",
       "      <td>-0.027847</td>\n",
       "      <td>0.051639</td>\n",
       "      <td>-0.539262</td>\n",
       "      <td>0.835140</td>\n",
       "      <td>-0.028924</td>\n",
       "    </tr>\n",
       "    <tr>\n",
       "      <th>1</th>\n",
       "      <td>MTL</td>\n",
       "      <td>Nutriscore</td>\n",
       "      <td>-0.587268</td>\n",
       "      <td>-0.463203</td>\n",
       "      <td>-0.124064</td>\n",
       "      <td>0.051583</td>\n",
       "      <td>-2.405125</td>\n",
       "      <td>0.042931</td>\n",
       "      <td>-0.128860</td>\n",
       "    </tr>\n",
       "    <tr>\n",
       "      <th>2</th>\n",
       "      <td>No-label</td>\n",
       "      <td>Nutriscore</td>\n",
       "      <td>-0.559420</td>\n",
       "      <td>-0.463203</td>\n",
       "      <td>-0.096217</td>\n",
       "      <td>0.051750</td>\n",
       "      <td>-1.859247</td>\n",
       "      <td>0.151082</td>\n",
       "      <td>-0.099936</td>\n",
       "    </tr>\n",
       "  </tbody>\n",
       "</table>\n",
       "</div>"
      ],
      "text/plain": [
       "          A           B   mean(A)   mean(B)      diff        se         T  \\\n",
       "0       MTL    No-label -0.587268 -0.559420 -0.027847  0.051639 -0.539262   \n",
       "1       MTL  Nutriscore -0.587268 -0.463203 -0.124064  0.051583 -2.405125   \n",
       "2  No-label  Nutriscore -0.559420 -0.463203 -0.096217  0.051750 -1.859247   \n",
       "\n",
       "    p-tukey    hedges  \n",
       "0  0.835140 -0.028924  \n",
       "1  0.042931 -0.128860  \n",
       "2  0.151082 -0.099936  "
      ]
     },
     "execution_count": 175,
     "metadata": {},
     "output_type": "execute_result"
    }
   ],
   "source": [
    "# 3. If there is a main effect, we can proceed to post-hoc Tukey test\n",
    "pg.pairwise_tukey(data=ms, dv='choice_dif_mean', between='Label')"
   ]
  },
  {
   "cell_type": "markdown",
   "id": "accepted-runner",
   "metadata": {},
   "source": [
    "* "
   ]
  },
  {
   "cell_type": "markdown",
   "id": "sapphire-headset",
   "metadata": {},
   "source": [
    "# Compare choice difficulty between conditions"
   ]
  },
  {
   "cell_type": "code",
   "execution_count": 103,
   "id": "behind-burning",
   "metadata": {},
   "outputs": [
    {
     "data": {
      "text/plain": [
       "F_onewayResult(statistic=3.641052299167403, pvalue=0.02638817008450447)"
      ]
     },
     "execution_count": 103,
     "metadata": {},
     "output_type": "execute_result"
    }
   ],
   "source": [
    "f_oneway(s1['choice_dif_mean'], s2['choice_dif_mean'], s3['choice_dif_mean'])"
   ]
  },
  {
   "cell_type": "markdown",
   "id": "architectural-queen",
   "metadata": {},
   "source": [
    "# Pairwise T-test (compare different variants and conditions)\n",
    "* https://pingouin-stats.org/generated/pingouin.pairwise_ttests.html\n",
    "\n",
    "**Warning:**\n",
    "Note that Pingouin gives slightly different T and p-values compared to JASP posthoc tests for 2-way factorial design, because Pingouin does not pool the standard error for each factor, but rather calculate each pairwise T-test completely independent of others."
   ]
  },
  {
   "cell_type": "code",
   "execution_count": 100,
   "id": "demanding-folder",
   "metadata": {},
   "outputs": [
    {
     "data": {
      "text/html": [
       "<div>\n",
       "<style scoped>\n",
       "    .dataframe tbody tr th:only-of-type {\n",
       "        vertical-align: middle;\n",
       "    }\n",
       "\n",
       "    .dataframe tbody tr th {\n",
       "        vertical-align: top;\n",
       "    }\n",
       "\n",
       "    .dataframe thead th {\n",
       "        text-align: right;\n",
       "    }\n",
       "</style>\n",
       "<table border=\"1\" class=\"dataframe\">\n",
       "  <thead>\n",
       "    <tr style=\"text-align: right;\">\n",
       "      <th></th>\n",
       "      <th>Contrast</th>\n",
       "      <th>Rank</th>\n",
       "      <th>A</th>\n",
       "      <th>B</th>\n",
       "      <th>Paired</th>\n",
       "      <th>Parametric</th>\n",
       "      <th>T</th>\n",
       "      <th>dof</th>\n",
       "      <th>Tail</th>\n",
       "      <th>p-unc</th>\n",
       "      <th>BF10</th>\n",
       "      <th>hedges</th>\n",
       "    </tr>\n",
       "  </thead>\n",
       "  <tbody>\n",
       "    <tr>\n",
       "      <th>0</th>\n",
       "      <td>Rank</td>\n",
       "      <td>-</td>\n",
       "      <td>Health</td>\n",
       "      <td>Popular</td>\n",
       "      <td>True</td>\n",
       "      <td>True</td>\n",
       "      <td>1.210826</td>\n",
       "      <td>693.000000</td>\n",
       "      <td>two-sided</td>\n",
       "      <td>0.226375</td>\n",
       "      <td>0.089</td>\n",
       "      <td>0.048511</td>\n",
       "    </tr>\n",
       "    <tr>\n",
       "      <th>1</th>\n",
       "      <td>Rank</td>\n",
       "      <td>-</td>\n",
       "      <td>Health</td>\n",
       "      <td>Random</td>\n",
       "      <td>True</td>\n",
       "      <td>True</td>\n",
       "      <td>-0.437923</td>\n",
       "      <td>693.000000</td>\n",
       "      <td>two-sided</td>\n",
       "      <td>0.661579</td>\n",
       "      <td>0.047</td>\n",
       "      <td>-0.017251</td>\n",
       "    </tr>\n",
       "    <tr>\n",
       "      <th>2</th>\n",
       "      <td>Rank</td>\n",
       "      <td>-</td>\n",
       "      <td>Popular</td>\n",
       "      <td>Random</td>\n",
       "      <td>True</td>\n",
       "      <td>True</td>\n",
       "      <td>-1.735938</td>\n",
       "      <td>693.000000</td>\n",
       "      <td>two-sided</td>\n",
       "      <td>0.083019</td>\n",
       "      <td>0.191</td>\n",
       "      <td>-0.065808</td>\n",
       "    </tr>\n",
       "    <tr>\n",
       "      <th>3</th>\n",
       "      <td>Label</td>\n",
       "      <td>-</td>\n",
       "      <td>MTL</td>\n",
       "      <td>No-label</td>\n",
       "      <td>False</td>\n",
       "      <td>True</td>\n",
       "      <td>-0.403529</td>\n",
       "      <td>460.613488</td>\n",
       "      <td>two-sided</td>\n",
       "      <td>0.686747</td>\n",
       "      <td>0.112</td>\n",
       "      <td>-0.037437</td>\n",
       "    </tr>\n",
       "    <tr>\n",
       "      <th>4</th>\n",
       "      <td>Label</td>\n",
       "      <td>-</td>\n",
       "      <td>MTL</td>\n",
       "      <td>Nutriscore</td>\n",
       "      <td>False</td>\n",
       "      <td>True</td>\n",
       "      <td>-1.679605</td>\n",
       "      <td>457.378468</td>\n",
       "      <td>two-sided</td>\n",
       "      <td>0.093717</td>\n",
       "      <td>0.404</td>\n",
       "      <td>-0.155757</td>\n",
       "    </tr>\n",
       "    <tr>\n",
       "      <th>5</th>\n",
       "      <td>Label</td>\n",
       "      <td>-</td>\n",
       "      <td>No-label</td>\n",
       "      <td>Nutriscore</td>\n",
       "      <td>False</td>\n",
       "      <td>True</td>\n",
       "      <td>-1.323251</td>\n",
       "      <td>451.482319</td>\n",
       "      <td>two-sided</td>\n",
       "      <td>0.186422</td>\n",
       "      <td>0.241</td>\n",
       "      <td>-0.123023</td>\n",
       "    </tr>\n",
       "    <tr>\n",
       "      <th>6</th>\n",
       "      <td>Rank * Label</td>\n",
       "      <td>Health</td>\n",
       "      <td>MTL</td>\n",
       "      <td>No-label</td>\n",
       "      <td>False</td>\n",
       "      <td>True</td>\n",
       "      <td>-0.755596</td>\n",
       "      <td>460.986542</td>\n",
       "      <td>two-sided</td>\n",
       "      <td>0.450277</td>\n",
       "      <td>0.136</td>\n",
       "      <td>-0.070115</td>\n",
       "    </tr>\n",
       "    <tr>\n",
       "      <th>7</th>\n",
       "      <td>Rank * Label</td>\n",
       "      <td>Health</td>\n",
       "      <td>MTL</td>\n",
       "      <td>Nutriscore</td>\n",
       "      <td>False</td>\n",
       "      <td>True</td>\n",
       "      <td>-0.814192</td>\n",
       "      <td>461.433555</td>\n",
       "      <td>two-sided</td>\n",
       "      <td>0.415955</td>\n",
       "      <td>0.142</td>\n",
       "      <td>-0.075482</td>\n",
       "    </tr>\n",
       "    <tr>\n",
       "      <th>8</th>\n",
       "      <td>Rank * Label</td>\n",
       "      <td>Health</td>\n",
       "      <td>No-label</td>\n",
       "      <td>Nutriscore</td>\n",
       "      <td>False</td>\n",
       "      <td>True</td>\n",
       "      <td>-0.070736</td>\n",
       "      <td>458.597318</td>\n",
       "      <td>two-sided</td>\n",
       "      <td>0.943639</td>\n",
       "      <td>0.104</td>\n",
       "      <td>-0.006578</td>\n",
       "    </tr>\n",
       "    <tr>\n",
       "      <th>9</th>\n",
       "      <td>Rank * Label</td>\n",
       "      <td>Popular</td>\n",
       "      <td>MTL</td>\n",
       "      <td>No-label</td>\n",
       "      <td>False</td>\n",
       "      <td>True</td>\n",
       "      <td>0.152412</td>\n",
       "      <td>460.743074</td>\n",
       "      <td>two-sided</td>\n",
       "      <td>0.878929</td>\n",
       "      <td>0.104</td>\n",
       "      <td>0.014140</td>\n",
       "    </tr>\n",
       "    <tr>\n",
       "      <th>10</th>\n",
       "      <td>Rank * Label</td>\n",
       "      <td>Popular</td>\n",
       "      <td>MTL</td>\n",
       "      <td>Nutriscore</td>\n",
       "      <td>False</td>\n",
       "      <td>True</td>\n",
       "      <td>-0.607825</td>\n",
       "      <td>456.852466</td>\n",
       "      <td>two-sided</td>\n",
       "      <td>0.543605</td>\n",
       "      <td>0.123</td>\n",
       "      <td>-0.056368</td>\n",
       "    </tr>\n",
       "    <tr>\n",
       "      <th>11</th>\n",
       "      <td>Rank * Label</td>\n",
       "      <td>Popular</td>\n",
       "      <td>No-label</td>\n",
       "      <td>Nutriscore</td>\n",
       "      <td>False</td>\n",
       "      <td>True</td>\n",
       "      <td>-0.760192</td>\n",
       "      <td>451.445788</td>\n",
       "      <td>two-sided</td>\n",
       "      <td>0.447537</td>\n",
       "      <td>0.137</td>\n",
       "      <td>-0.070675</td>\n",
       "    </tr>\n",
       "    <tr>\n",
       "      <th>12</th>\n",
       "      <td>Rank * Label</td>\n",
       "      <td>Random</td>\n",
       "      <td>MTL</td>\n",
       "      <td>No-label</td>\n",
       "      <td>False</td>\n",
       "      <td>True</td>\n",
       "      <td>-0.294277</td>\n",
       "      <td>460.521929</td>\n",
       "      <td>two-sided</td>\n",
       "      <td>0.768679</td>\n",
       "      <td>0.108</td>\n",
       "      <td>-0.027300</td>\n",
       "    </tr>\n",
       "    <tr>\n",
       "      <th>13</th>\n",
       "      <td>Rank * Label</td>\n",
       "      <td>Random</td>\n",
       "      <td>MTL</td>\n",
       "      <td>Nutriscore</td>\n",
       "      <td>False</td>\n",
       "      <td>True</td>\n",
       "      <td>-2.553198</td>\n",
       "      <td>460.038163</td>\n",
       "      <td>two-sided</td>\n",
       "      <td>0.010996</td>\n",
       "      <td>2.391</td>\n",
       "      <td>-0.236734</td>\n",
       "    </tr>\n",
       "    <tr>\n",
       "      <th>14</th>\n",
       "      <td>Rank * Label</td>\n",
       "      <td>Random</td>\n",
       "      <td>No-label</td>\n",
       "      <td>Nutriscore</td>\n",
       "      <td>False</td>\n",
       "      <td>True</td>\n",
       "      <td>-2.314271</td>\n",
       "      <td>454.696419</td>\n",
       "      <td>two-sided</td>\n",
       "      <td>0.021098</td>\n",
       "      <td>1.372</td>\n",
       "      <td>-0.215173</td>\n",
       "    </tr>\n",
       "  </tbody>\n",
       "</table>\n",
       "</div>"
      ],
      "text/plain": [
       "        Contrast     Rank         A           B Paired  Parametric         T  \\\n",
       "0           Rank        -    Health     Popular   True        True  1.210826   \n",
       "1           Rank        -    Health      Random   True        True -0.437923   \n",
       "2           Rank        -   Popular      Random   True        True -1.735938   \n",
       "3          Label        -       MTL    No-label  False        True -0.403529   \n",
       "4          Label        -       MTL  Nutriscore  False        True -1.679605   \n",
       "5          Label        -  No-label  Nutriscore  False        True -1.323251   \n",
       "6   Rank * Label   Health       MTL    No-label  False        True -0.755596   \n",
       "7   Rank * Label   Health       MTL  Nutriscore  False        True -0.814192   \n",
       "8   Rank * Label   Health  No-label  Nutriscore  False        True -0.070736   \n",
       "9   Rank * Label  Popular       MTL    No-label  False        True  0.152412   \n",
       "10  Rank * Label  Popular       MTL  Nutriscore  False        True -0.607825   \n",
       "11  Rank * Label  Popular  No-label  Nutriscore  False        True -0.760192   \n",
       "12  Rank * Label   Random       MTL    No-label  False        True -0.294277   \n",
       "13  Rank * Label   Random       MTL  Nutriscore  False        True -2.553198   \n",
       "14  Rank * Label   Random  No-label  Nutriscore  False        True -2.314271   \n",
       "\n",
       "           dof       Tail     p-unc   BF10    hedges  \n",
       "0   693.000000  two-sided  0.226375  0.089  0.048511  \n",
       "1   693.000000  two-sided  0.661579  0.047 -0.017251  \n",
       "2   693.000000  two-sided  0.083019  0.191 -0.065808  \n",
       "3   460.613488  two-sided  0.686747  0.112 -0.037437  \n",
       "4   457.378468  two-sided  0.093717  0.404 -0.155757  \n",
       "5   451.482319  two-sided  0.186422  0.241 -0.123023  \n",
       "6   460.986542  two-sided  0.450277  0.136 -0.070115  \n",
       "7   461.433555  two-sided  0.415955  0.142 -0.075482  \n",
       "8   458.597318  two-sided  0.943639  0.104 -0.006578  \n",
       "9   460.743074  two-sided  0.878929  0.104  0.014140  \n",
       "10  456.852466  two-sided  0.543605  0.123 -0.056368  \n",
       "11  451.445788  two-sided  0.447537  0.137 -0.070675  \n",
       "12  460.521929  two-sided  0.768679  0.108 -0.027300  \n",
       "13  460.038163  two-sided  0.010996  2.391 -0.236734  \n",
       "14  454.696419  two-sided  0.021098  1.372 -0.215173  "
      ]
     },
     "execution_count": 100,
     "metadata": {},
     "output_type": "execute_result"
    }
   ],
   "source": [
    "# Balance data (remove where user_id only selected 2 recipes)\n",
    "anova_df = ms[ms['user_id'].map(ms['user_id'].value_counts()) > 2]\n",
    "\n",
    "pg.pairwise_ttests(data=anova_df, dv='choice_dif_mean', between='Label', within='Rank', subject='user_id')"
   ]
  },
  {
   "cell_type": "markdown",
   "id": "recognized-occupation",
   "metadata": {},
   "source": [
    "### Nutriscore - MTL\n",
    "* Rank * Label\tRandom\tMTL\tNutriscore 0.010996\t\n"
   ]
  },
  {
   "cell_type": "markdown",
   "id": "behind-pilot",
   "metadata": {},
   "source": [
    "###  Nutriscore - No label\n",
    "* No statistical significant difference in choice difficulty. "
   ]
  },
  {
   "cell_type": "markdown",
   "id": "detailed-guard",
   "metadata": {},
   "source": [
    "###  MTL - No label\n",
    "* Rank * Label\tRandom\tNo-label\tNutriscore\t0.021098\t"
   ]
  },
  {
   "cell_type": "markdown",
   "id": "institutional-satin",
   "metadata": {},
   "source": [
    "# COMPARE VARIANT"
   ]
  },
  {
   "cell_type": "markdown",
   "id": "approximate-switzerland",
   "metadata": {},
   "source": [
    "### Variant 1: Popular ranking compare between conditions"
   ]
  },
  {
   "cell_type": "code",
   "execution_count": 115,
   "id": "abstract-expense",
   "metadata": {},
   "outputs": [
    {
     "data": {
      "text/plain": [
       "F_onewayResult(statistic=0.33401522619620205, pvalue=0.7161584238964609)"
      ]
     },
     "execution_count": 115,
     "metadata": {},
     "output_type": "execute_result"
    }
   ],
   "source": [
    "f_oneway(anova_df['choice_dif_mean'][(anova_df['condition'] == 1)&(anova_df['variant'] == 1)], anova_df['choice_dif_mean'][(anova_df['condition'] == 2)&(anova_df['variant'] == 1)], anova_df['choice_dif_mean'][(anova_df['condition'] == 3)&(anova_df['variant'] == 1)])"
   ]
  },
  {
   "cell_type": "markdown",
   "id": "satisfied-mailing",
   "metadata": {},
   "source": [
    "* Statistically significant difference in choice difficulty between Nutriscore and No-label when there is a popular ranking of recipes. "
   ]
  },
  {
   "cell_type": "markdown",
   "id": "young-graduate",
   "metadata": {},
   "source": [
    "### Variant 2: Random ranking compare between conditions"
   ]
  },
  {
   "cell_type": "code",
   "execution_count": 116,
   "id": "ranking-barrier",
   "metadata": {},
   "outputs": [
    {
     "data": {
      "text/plain": [
       "F_onewayResult(statistic=4.100258700821253, pvalue=0.016973204828695163)"
      ]
     },
     "execution_count": 116,
     "metadata": {},
     "output_type": "execute_result"
    }
   ],
   "source": [
    "# One-way ANOVA\n",
    "f_oneway(anova_df['choice_dif_mean'][(anova_df['condition'] == 1)&(anova_df['variant'] == 2)], anova_df['choice_dif_mean'][(anova_df['condition'] == 2)&(anova_df['variant'] == 2)], anova_df['choice_dif_mean'][(anova_df['condition'] == 3)&(anova_df['variant'] == 2)])"
   ]
  },
  {
   "cell_type": "markdown",
   "id": "polish-award",
   "metadata": {},
   "source": [
    "* No significant statistical difference in Choice difficulty when front-of-pack nutrition label is presented in combination with a random ranking. \n",
    "* Choice difficulty is lowest with MTL combined with random ranking. \n",
    "* Choice difficulty is highest with Nutriscore combined with random ranking. "
   ]
  },
  {
   "cell_type": "markdown",
   "id": "finnish-clarity",
   "metadata": {},
   "source": [
    "### Variant 3: Health ranking compare between conditions"
   ]
  },
  {
   "cell_type": "code",
   "execution_count": 117,
   "id": "amended-aviation",
   "metadata": {},
   "outputs": [
    {
     "data": {
      "text/plain": [
       "F_onewayResult(statistic=0.412944279462952, pvalue=0.6618623343547834)"
      ]
     },
     "execution_count": 117,
     "metadata": {},
     "output_type": "execute_result"
    }
   ],
   "source": [
    "# One-way ANOVA\n",
    "f_oneway(anova_df['choice_dif_mean'][(anova_df['condition'] == 1)&(anova_df['variant'] == 3)], anova_df['choice_dif_mean'][(anova_df['condition'] == 2)&(anova_df['variant'] == 3)], anova_df['choice_dif_mean'][(anova_df['condition'] == 3)&(anova_df['variant'] == 3)])"
   ]
  },
  {
   "cell_type": "markdown",
   "id": "senior-berlin",
   "metadata": {},
   "source": [
    "* No significant statistical difference in Choice difficulty when front-of-pack nutrition label is presented in combination with a health ranking. \n",
    "* Choice difficulty is lowest with No-label. "
   ]
  },
  {
   "cell_type": "markdown",
   "id": "induced-effect",
   "metadata": {},
   "source": [
    "# Repeated Measure ANOVA - For each condition\n",
    "* An ANOVA with repeated measures is used to compare three or more group means where the participants are the same in each group. This usually occurs in two situations: (1) when participants are measured multiple times to see changes to an intervention; or (2) when participants are subjected to more than one condition/trial and the response to each of these conditions wants to be compared.\n",
    "    * https://statistics.laerd.com/spss-tutorials/one-way-anova-repeated-measures-using-spss-statistics.php\n",
    "    \n",
    "* "
   ]
  },
  {
   "cell_type": "code",
   "execution_count": 181,
   "id": "silver-spouse",
   "metadata": {},
   "outputs": [
    {
     "name": "stdout",
     "output_type": "stream",
     "text": [
      "\n",
      "=============\n",
      "ANOVA SUMMARY\n",
      "=============\n",
      "\n",
      "Source         SS    DF     MS        F    p-unc      np2      eps\n",
      "--------  -------  ----  -----  -------  -------  -------  -------\n",
      "Rank        2.343     2  1.172    0.642    0.527    0.003    0.998\n",
      "Error     846.990   464  1.825  nan      nan      nan      nan\n",
      "\n",
      "\n",
      "==============\n",
      "POST HOC TESTS\n",
      "==============\n",
      "\n",
      "Contrast    A        B        Paired    Parametric         T      dof  Tail         p-unc    p-corr  p-adjust      BF10    hedges\n",
      "----------  -------  -------  --------  ------------  ------  -------  ---------  -------  --------  ----------  ------  --------\n",
      "Rank        Health   Popular  True      True           1.211  693.000  two-sided    0.226     0.340  fdr_bh       0.089     0.049\n",
      "Rank        Health   Random   True      True          -0.438  693.000  two-sided    0.662     0.662  fdr_bh       0.047    -0.017\n",
      "Rank        Popular  Random   True      True          -1.736  693.000  two-sided    0.083     0.249  fdr_bh       0.191    -0.066\n",
      "\n"
     ]
    }
   ],
   "source": [
    "# Do RM ANOVA for each condition \n",
    "pg.print_table(pg.rm_anova(data=s2_df, dv='fsa_score', within='Rank', subject='user_id', detailed=True))\n",
    "\n",
    "# FDR-corrected post hocs with Hedges'g effect size\n",
    "posthoc = pg.pairwise_ttests(data=anova_df, dv='choice_dif_mean', within='Rank', subject='user_id',\n",
    "                             parametric=True, padjust='fdr_bh', effsize='hedges')\n",
    "pg.print_table(posthoc, floatfmt='.3f')"
   ]
  },
  {
   "cell_type": "markdown",
   "id": "infectious-rough",
   "metadata": {},
   "source": [
    "### Condition 1: Nutriscore RM ANOVA"
   ]
  },
  {
   "cell_type": "code",
   "execution_count": 176,
   "id": "sudden-event",
   "metadata": {},
   "outputs": [
    {
     "ename": "KeyError",
     "evalue": "'choice_dif_mean'",
     "output_type": "error",
     "traceback": [
      "\u001b[1;31m---------------------------------------------------------------------------\u001b[0m",
      "\u001b[1;31mKeyError\u001b[0m                                  Traceback (most recent call last)",
      "\u001b[1;32mC:\\ProgramData\\Anaconda3\\lib\\site-packages\\pandas\\core\\indexes\\base.py\u001b[0m in \u001b[0;36mget_loc\u001b[1;34m(self, key, method, tolerance)\u001b[0m\n\u001b[0;32m   3079\u001b[0m             \u001b[1;32mtry\u001b[0m\u001b[1;33m:\u001b[0m\u001b[1;33m\u001b[0m\u001b[1;33m\u001b[0m\u001b[0m\n\u001b[1;32m-> 3080\u001b[1;33m                 \u001b[1;32mreturn\u001b[0m \u001b[0mself\u001b[0m\u001b[1;33m.\u001b[0m\u001b[0m_engine\u001b[0m\u001b[1;33m.\u001b[0m\u001b[0mget_loc\u001b[0m\u001b[1;33m(\u001b[0m\u001b[0mcasted_key\u001b[0m\u001b[1;33m)\u001b[0m\u001b[1;33m\u001b[0m\u001b[1;33m\u001b[0m\u001b[0m\n\u001b[0m\u001b[0;32m   3081\u001b[0m             \u001b[1;32mexcept\u001b[0m \u001b[0mKeyError\u001b[0m \u001b[1;32mas\u001b[0m \u001b[0merr\u001b[0m\u001b[1;33m:\u001b[0m\u001b[1;33m\u001b[0m\u001b[1;33m\u001b[0m\u001b[0m\n",
      "\u001b[1;32mpandas\\_libs\\index.pyx\u001b[0m in \u001b[0;36mpandas._libs.index.IndexEngine.get_loc\u001b[1;34m()\u001b[0m\n",
      "\u001b[1;32mpandas\\_libs\\index.pyx\u001b[0m in \u001b[0;36mpandas._libs.index.IndexEngine.get_loc\u001b[1;34m()\u001b[0m\n",
      "\u001b[1;32mpandas\\_libs\\hashtable_class_helper.pxi\u001b[0m in \u001b[0;36mpandas._libs.hashtable.PyObjectHashTable.get_item\u001b[1;34m()\u001b[0m\n",
      "\u001b[1;32mpandas\\_libs\\hashtable_class_helper.pxi\u001b[0m in \u001b[0;36mpandas._libs.hashtable.PyObjectHashTable.get_item\u001b[1;34m()\u001b[0m\n",
      "\u001b[1;31mKeyError\u001b[0m: 'choice_dif_mean'",
      "\nThe above exception was the direct cause of the following exception:\n",
      "\u001b[1;31mKeyError\u001b[0m                                  Traceback (most recent call last)",
      "\u001b[1;32m<ipython-input-176-41751a4505d9>\u001b[0m in \u001b[0;36m<module>\u001b[1;34m\u001b[0m\n\u001b[0;32m      7\u001b[0m \u001b[1;33m\u001b[0m\u001b[0m\n\u001b[0;32m      8\u001b[0m \u001b[1;31m# Do RM ANOVA for each condition\u001b[0m\u001b[1;33m\u001b[0m\u001b[1;33m\u001b[0m\u001b[1;33m\u001b[0m\u001b[0m\n\u001b[1;32m----> 9\u001b[1;33m \u001b[0mpg\u001b[0m\u001b[1;33m.\u001b[0m\u001b[0mprint_table\u001b[0m\u001b[1;33m(\u001b[0m\u001b[0mpg\u001b[0m\u001b[1;33m.\u001b[0m\u001b[0mrm_anova\u001b[0m\u001b[1;33m(\u001b[0m\u001b[0mdata\u001b[0m\u001b[1;33m=\u001b[0m\u001b[0ms1_df\u001b[0m\u001b[1;33m,\u001b[0m \u001b[0mdv\u001b[0m\u001b[1;33m=\u001b[0m\u001b[1;34m'choice_dif_mean'\u001b[0m\u001b[1;33m,\u001b[0m \u001b[0mwithin\u001b[0m\u001b[1;33m=\u001b[0m\u001b[1;34m'Rank'\u001b[0m\u001b[1;33m,\u001b[0m \u001b[0msubject\u001b[0m\u001b[1;33m=\u001b[0m\u001b[1;34m'user_id'\u001b[0m\u001b[1;33m,\u001b[0m \u001b[0mdetailed\u001b[0m\u001b[1;33m=\u001b[0m\u001b[1;32mTrue\u001b[0m\u001b[1;33m)\u001b[0m\u001b[1;33m)\u001b[0m\u001b[1;33m\u001b[0m\u001b[1;33m\u001b[0m\u001b[0m\n\u001b[0m\u001b[0;32m     10\u001b[0m \u001b[1;33m\u001b[0m\u001b[0m\n\u001b[0;32m     11\u001b[0m \u001b[1;31m# FDR-corrected post hocs with Hedges'g effect size\u001b[0m\u001b[1;33m\u001b[0m\u001b[1;33m\u001b[0m\u001b[1;33m\u001b[0m\u001b[0m\n",
      "\u001b[1;32mC:\\ProgramData\\Anaconda3\\lib\\site-packages\\pingouin\\parametric.py\u001b[0m in \u001b[0;36mrm_anova\u001b[1;34m(data, dv, within, subject, correction, detailed, effsize)\u001b[0m\n\u001b[0;32m    525\u001b[0m     \u001b[1;31m# Check dataframe\u001b[0m\u001b[1;33m\u001b[0m\u001b[1;33m\u001b[0m\u001b[1;33m\u001b[0m\u001b[0m\n\u001b[0;32m    526\u001b[0m     _check_dataframe(dv=dv, within=within, data=data, subject=subject,\n\u001b[1;32m--> 527\u001b[1;33m                      effects='within')\n\u001b[0m\u001b[0;32m    528\u001b[0m \u001b[1;33m\u001b[0m\u001b[0m\n\u001b[0;32m    529\u001b[0m     \u001b[1;31m# Convert Categorical columns to string\u001b[0m\u001b[1;33m\u001b[0m\u001b[1;33m\u001b[0m\u001b[1;33m\u001b[0m\u001b[0m\n",
      "\u001b[1;32mC:\\ProgramData\\Anaconda3\\lib\\site-packages\\pingouin\\utils.py\u001b[0m in \u001b[0;36m_check_dataframe\u001b[1;34m(data, dv, between, within, subject, effects)\u001b[0m\n\u001b[0;32m    407\u001b[0m         \u001b[1;32mraise\u001b[0m \u001b[0mValueError\u001b[0m\u001b[1;33m(\u001b[0m\u001b[1;34m'DV and data must be specified'\u001b[0m\u001b[1;33m)\u001b[0m\u001b[1;33m\u001b[0m\u001b[1;33m\u001b[0m\u001b[0m\n\u001b[0;32m    408\u001b[0m     \u001b[1;31m# Check that dv is a numeric variable\u001b[0m\u001b[1;33m\u001b[0m\u001b[1;33m\u001b[0m\u001b[1;33m\u001b[0m\u001b[0m\n\u001b[1;32m--> 409\u001b[1;33m     \u001b[1;32mif\u001b[0m \u001b[0mdata\u001b[0m\u001b[1;33m[\u001b[0m\u001b[0mdv\u001b[0m\u001b[1;33m]\u001b[0m\u001b[1;33m.\u001b[0m\u001b[0mdtype\u001b[0m\u001b[1;33m.\u001b[0m\u001b[0mkind\u001b[0m \u001b[1;32mnot\u001b[0m \u001b[1;32min\u001b[0m \u001b[1;34m'fi'\u001b[0m\u001b[1;33m:\u001b[0m\u001b[1;33m\u001b[0m\u001b[1;33m\u001b[0m\u001b[0m\n\u001b[0m\u001b[0;32m    410\u001b[0m         \u001b[1;32mraise\u001b[0m \u001b[0mValueError\u001b[0m\u001b[1;33m(\u001b[0m\u001b[1;34m'DV must be numeric.'\u001b[0m\u001b[1;33m)\u001b[0m\u001b[1;33m\u001b[0m\u001b[1;33m\u001b[0m\u001b[0m\n\u001b[0;32m    411\u001b[0m     \u001b[1;31m# Check that effects is provided\u001b[0m\u001b[1;33m\u001b[0m\u001b[1;33m\u001b[0m\u001b[1;33m\u001b[0m\u001b[0m\n",
      "\u001b[1;32mC:\\ProgramData\\Anaconda3\\lib\\site-packages\\pandas\\core\\frame.py\u001b[0m in \u001b[0;36m__getitem__\u001b[1;34m(self, key)\u001b[0m\n\u001b[0;32m   3022\u001b[0m             \u001b[1;32mif\u001b[0m \u001b[0mself\u001b[0m\u001b[1;33m.\u001b[0m\u001b[0mcolumns\u001b[0m\u001b[1;33m.\u001b[0m\u001b[0mnlevels\u001b[0m \u001b[1;33m>\u001b[0m \u001b[1;36m1\u001b[0m\u001b[1;33m:\u001b[0m\u001b[1;33m\u001b[0m\u001b[1;33m\u001b[0m\u001b[0m\n\u001b[0;32m   3023\u001b[0m                 \u001b[1;32mreturn\u001b[0m \u001b[0mself\u001b[0m\u001b[1;33m.\u001b[0m\u001b[0m_getitem_multilevel\u001b[0m\u001b[1;33m(\u001b[0m\u001b[0mkey\u001b[0m\u001b[1;33m)\u001b[0m\u001b[1;33m\u001b[0m\u001b[1;33m\u001b[0m\u001b[0m\n\u001b[1;32m-> 3024\u001b[1;33m             \u001b[0mindexer\u001b[0m \u001b[1;33m=\u001b[0m \u001b[0mself\u001b[0m\u001b[1;33m.\u001b[0m\u001b[0mcolumns\u001b[0m\u001b[1;33m.\u001b[0m\u001b[0mget_loc\u001b[0m\u001b[1;33m(\u001b[0m\u001b[0mkey\u001b[0m\u001b[1;33m)\u001b[0m\u001b[1;33m\u001b[0m\u001b[1;33m\u001b[0m\u001b[0m\n\u001b[0m\u001b[0;32m   3025\u001b[0m             \u001b[1;32mif\u001b[0m \u001b[0mis_integer\u001b[0m\u001b[1;33m(\u001b[0m\u001b[0mindexer\u001b[0m\u001b[1;33m)\u001b[0m\u001b[1;33m:\u001b[0m\u001b[1;33m\u001b[0m\u001b[1;33m\u001b[0m\u001b[0m\n\u001b[0;32m   3026\u001b[0m                 \u001b[0mindexer\u001b[0m \u001b[1;33m=\u001b[0m \u001b[1;33m[\u001b[0m\u001b[0mindexer\u001b[0m\u001b[1;33m]\u001b[0m\u001b[1;33m\u001b[0m\u001b[1;33m\u001b[0m\u001b[0m\n",
      "\u001b[1;32mC:\\ProgramData\\Anaconda3\\lib\\site-packages\\pandas\\core\\indexes\\base.py\u001b[0m in \u001b[0;36mget_loc\u001b[1;34m(self, key, method, tolerance)\u001b[0m\n\u001b[0;32m   3080\u001b[0m                 \u001b[1;32mreturn\u001b[0m \u001b[0mself\u001b[0m\u001b[1;33m.\u001b[0m\u001b[0m_engine\u001b[0m\u001b[1;33m.\u001b[0m\u001b[0mget_loc\u001b[0m\u001b[1;33m(\u001b[0m\u001b[0mcasted_key\u001b[0m\u001b[1;33m)\u001b[0m\u001b[1;33m\u001b[0m\u001b[1;33m\u001b[0m\u001b[0m\n\u001b[0;32m   3081\u001b[0m             \u001b[1;32mexcept\u001b[0m \u001b[0mKeyError\u001b[0m \u001b[1;32mas\u001b[0m \u001b[0merr\u001b[0m\u001b[1;33m:\u001b[0m\u001b[1;33m\u001b[0m\u001b[1;33m\u001b[0m\u001b[0m\n\u001b[1;32m-> 3082\u001b[1;33m                 \u001b[1;32mraise\u001b[0m \u001b[0mKeyError\u001b[0m\u001b[1;33m(\u001b[0m\u001b[0mkey\u001b[0m\u001b[1;33m)\u001b[0m \u001b[1;32mfrom\u001b[0m \u001b[0merr\u001b[0m\u001b[1;33m\u001b[0m\u001b[1;33m\u001b[0m\u001b[0m\n\u001b[0m\u001b[0;32m   3083\u001b[0m \u001b[1;33m\u001b[0m\u001b[0m\n\u001b[0;32m   3084\u001b[0m         \u001b[1;32mif\u001b[0m \u001b[0mtolerance\u001b[0m \u001b[1;32mis\u001b[0m \u001b[1;32mnot\u001b[0m \u001b[1;32mNone\u001b[0m\u001b[1;33m:\u001b[0m\u001b[1;33m\u001b[0m\u001b[1;33m\u001b[0m\u001b[0m\n",
      "\u001b[1;31mKeyError\u001b[0m: 'choice_dif_mean'"
     ]
    }
   ],
   "source": [
    "# Get data\n",
    "s1_df = s1[['fsa_score', 'variant', 'condition', 'user_id']]\n",
    "s1_df['Label'] = s1_df.apply (lambda row: label_name(row), axis=1)\n",
    "s1_df['Rank'] = s1_df.apply (lambda row: rank_name(row), axis=1)\n",
    "# Balance data \n",
    "s1_df = s1_df[s1_df['user_id'].map(s1_df['user_id'].value_counts()) > 2]\n",
    "\n",
    "# Do RM ANOVA for each condition \n",
    "pg.print_table(pg.rm_anova(data=s1_df, dv='choice_dif_mean', within='Rank', subject='user_id', detailed=True))\n",
    "\n",
    "# FDR-corrected post hocs with Hedges'g effect size\n",
    "posthoc = pg.pairwise_ttests(data=s1_df, dv='fsa_score', within='Rank', subject='user_id',\n",
    "                             parametric=True, padjust='fdr_bh', effsize='hedges')\n",
    "pg.print_table(posthoc, floatfmt='.3f')"
   ]
  },
  {
   "cell_type": "markdown",
   "id": "dominant-reynolds",
   "metadata": {},
   "source": [
    "### Condition 2: Nutriscore RM ANOVA"
   ]
  },
  {
   "cell_type": "code",
   "execution_count": 177,
   "id": "activated-fusion",
   "metadata": {},
   "outputs": [
    {
     "name": "stdout",
     "output_type": "stream",
     "text": [
      "\n",
      "=============\n",
      "ANOVA SUMMARY\n",
      "=============\n",
      "\n",
      "Source         SS    DF     MS        F    p-unc      np2      eps\n",
      "--------  -------  ----  -----  -------  -------  -------  -------\n",
      "Rank        2.343     2  1.172    0.642    0.527    0.003    0.998\n",
      "Error     846.990   464  1.825  nan      nan      nan      nan\n",
      "\n",
      "\n",
      "==============\n",
      "POST HOC TESTS\n",
      "==============\n",
      "\n",
      "Contrast    A        B        Paired    Parametric        T      dof  Tail         p-unc    p-corr  p-adjust      BF10    hedges\n",
      "----------  -------  -------  --------  ------------  -----  -------  ---------  -------  --------  ----------  ------  --------\n",
      "Rank        Health   Popular  True      True          0.942  232.000  two-sided    0.347     0.521  fdr_bh       0.114     0.086\n",
      "Rank        Health   Random   True      True          1.006  232.000  two-sided    0.316     0.521  fdr_bh       0.121     0.093\n",
      "Rank        Popular  Random   True      True          0.103  232.000  two-sided    0.918     0.918  fdr_bh       0.074     0.010\n",
      "\n"
     ]
    }
   ],
   "source": [
    "# Get data\n",
    "s2_df = s2[['fsa_score', 'variant', 'condition', 'user_id']]\n",
    "s2_df['Label'] = s2_df.apply (lambda row: label_name(row), axis=1)\n",
    "s2_df['Rank'] = s2_df.apply (lambda row: rank_name(row), axis=1)\n",
    "# Balance data \n",
    "s2_df = s2_df[s2_df['user_id'].map(s2_df['user_id'].value_counts()) > 2]\n",
    "\n",
    "# Do RM ANOVA for each condition \n",
    "pg.print_table(pg.rm_anova(data=s2_df, dv='fsa_score', within='Rank', subject='user_id', detailed=True))\n",
    "\n",
    "# FDR-corrected post hocs with Hedges'g effect size\n",
    "posthoc = pg.pairwise_ttests(data=s2_df, dv='fsa_score', within='Rank', subject='user_id',\n",
    "                             parametric=True, padjust='fdr_bh', effsize='hedges')\n",
    "pg.print_table(posthoc, floatfmt='.3f')"
   ]
  },
  {
   "cell_type": "markdown",
   "id": "fancy-metallic",
   "metadata": {},
   "source": [
    "### Condition 3: Nutriscore RM ANOVA"
   ]
  },
  {
   "cell_type": "code",
   "execution_count": 299,
   "id": "controversial-packaging",
   "metadata": {},
   "outputs": [
    {
     "name": "stdout",
     "output_type": "stream",
     "text": [
      "\n",
      "=============\n",
      "ANOVA SUMMARY\n",
      "=============\n",
      "\n",
      "Source         SS    DF     MS        F    p-unc      np2      eps\n",
      "--------  -------  ----  -----  -------  -------  -------  -------\n",
      "Rank        3.907     2  1.954    1.048    0.352    0.005    0.989\n",
      "Error     854.093   458  1.865  nan      nan      nan      nan\n",
      "\n",
      "\n",
      "==============\n",
      "POST HOC TESTS\n",
      "==============\n",
      "\n",
      "Contrast    A        B        Paired    Parametric        T      dof  Tail         p-unc    p-corr  p-adjust      BF10    hedges\n",
      "----------  -------  -------  --------  ------------  -----  -------  ---------  -------  --------  ----------  ------  --------\n",
      "Rank        Health   Popular  True      True          0.914  229.000  two-sided    0.361     0.542  fdr_bh       0.111     0.081\n",
      "Rank        Health   Random   True      True          1.469  229.000  two-sided    0.143     0.430  fdr_bh       0.213     0.134\n",
      "Rank        Popular  Random   True      True          0.520  229.000  two-sided    0.604     0.604  fdr_bh       0.084     0.050\n",
      "\n"
     ]
    }
   ],
   "source": [
    "# Get data\n",
    "s3_df = s3[['fsa_score', 'variant', 'condition', 'user_id']]\n",
    "s3_df['Label'] = s3_df.apply (lambda row: label_name(row), axis=1)\n",
    "s3_df['Rank'] = s3_df.apply (lambda row: rank_name(row), axis=1)\n",
    "# Balance data \n",
    "s3_df = s3_df[s3_df['user_id'].map(s3_df['user_id'].value_counts()) > 2]\n",
    "\n",
    "# Do RM ANOVA for each condition \n",
    "pg.print_table(pg.rm_anova(data=s3_df, dv='fsa_score', within='Rank', subject='user_id', detailed=True))\n",
    "\n",
    "# FDR-corrected post hocs with Hedges'g effect size\n",
    "posthoc = pg.pairwise_ttests(data=s3_df, dv='fsa_score', within='Rank', subject='user_id',\n",
    "                             parametric=True, padjust='fdr_bh', effsize='hedges')\n",
    "pg.print_table(posthoc, floatfmt='.3f')"
   ]
  },
  {
   "cell_type": "code",
   "execution_count": null,
   "id": "statistical-smart",
   "metadata": {},
   "outputs": [],
   "source": []
  },
  {
   "cell_type": "markdown",
   "id": "round-species",
   "metadata": {},
   "source": [
    "# DOES PERSONAL FACTORS INFLUENCE CHOICE DIFFICULTY?"
   ]
  },
  {
   "cell_type": "markdown",
   "id": "leading-ethnic",
   "metadata": {},
   "source": [
    "## Cooking experience "
   ]
  },
  {
   "cell_type": "markdown",
   "id": "tamil-miller",
   "metadata": {},
   "source": [
    "### One-way ANOVA to check if cooking experience affected the FSA score for different variant within the different conditions. "
   ]
  },
  {
   "cell_type": "code",
   "execution_count": 138,
   "id": "related-infection",
   "metadata": {},
   "outputs": [
    {
     "data": {
      "text/plain": [
       "F_onewayResult(statistic=0.33959955227337235, pvalue=0.7120943556194848)"
      ]
     },
     "execution_count": 138,
     "metadata": {},
     "output_type": "execute_result"
    }
   ],
   "source": [
    "# One-way ANOVA\n",
    "f_oneway(low_cooking['fsa_score'], medium_cooking['fsa_score'],high_cooking['fsa_score'])"
   ]
  },
  {
   "cell_type": "markdown",
   "id": "developmental-automation",
   "metadata": {},
   "source": [
    "####  Condition 1: Variants"
   ]
  },
  {
   "cell_type": "code",
   "execution_count": 269,
   "id": "amazing-violence",
   "metadata": {},
   "outputs": [
    {
     "data": {
      "text/plain": [
       "F_onewayResult(statistic=0.9462263497986607, pvalue=0.3897356355065783)"
      ]
     },
     "execution_count": 269,
     "metadata": {},
     "output_type": "execute_result"
    }
   ],
   "source": [
    "# One-way ANOVA Compare variant 1: fsa -- cooking experience\n",
    "f_oneway(low_cooking['fsa_score'][(low_cooking['condition'] == 1)&(low_cooking['variant'] == 1)], medium_cooking['fsa_score'][(medium_cooking['condition'] == 1)&(medium_cooking['variant'] == 1)],high_cooking['fsa_score'][(high_cooking['condition'] == 1)&(high_cooking['variant'] == 1)])"
   ]
  },
  {
   "cell_type": "code",
   "execution_count": 270,
   "id": "amateur-toilet",
   "metadata": {},
   "outputs": [
    {
     "data": {
      "text/plain": [
       "F_onewayResult(statistic=0.6708575517867373, pvalue=0.5122850721262476)"
      ]
     },
     "execution_count": 270,
     "metadata": {},
     "output_type": "execute_result"
    }
   ],
   "source": [
    "# One-way ANOVA Compare variant 2: fsa -- cooking experience\n",
    "f_oneway(low_cooking['fsa_score'][(low_cooking['condition'] == 1)&(low_cooking['variant'] == 2)], medium_cooking['fsa_score'][(medium_cooking['condition'] == 1)&(medium_cooking['variant'] == 2)],high_cooking['fsa_score'][(high_cooking['condition'] == 1)&(high_cooking['variant'] == 2)])"
   ]
  },
  {
   "cell_type": "code",
   "execution_count": 271,
   "id": "alleged-visitor",
   "metadata": {},
   "outputs": [
    {
     "data": {
      "text/plain": [
       "F_onewayResult(statistic=0.5911703781902876, pvalue=0.5545327741817698)"
      ]
     },
     "execution_count": 271,
     "metadata": {},
     "output_type": "execute_result"
    }
   ],
   "source": [
    "# One-way ANOVA Compare variant 3: fsa -- cooking experience\n",
    "f_oneway(low_cooking['fsa_score'][(low_cooking['condition'] == 1)&(low_cooking['variant'] == 3)], medium_cooking['fsa_score'][(medium_cooking['condition'] == 1)&(medium_cooking['variant'] == 3)],high_cooking['fsa_score'][(high_cooking['condition'] == 1)&(high_cooking['variant'] == 3)])"
   ]
  },
  {
   "cell_type": "markdown",
   "id": "continental-liechtenstein",
   "metadata": {},
   "source": [
    "* No statistical differences between participants with Low, Medium or High cooking experience with Nutriscore"
   ]
  },
  {
   "cell_type": "markdown",
   "id": "constant-polish",
   "metadata": {},
   "source": [
    "####  Condition 2: Variants"
   ]
  },
  {
   "cell_type": "code",
   "execution_count": 272,
   "id": "super-threshold",
   "metadata": {},
   "outputs": [
    {
     "data": {
      "text/plain": [
       "F_onewayResult(statistic=2.63051479442231, pvalue=0.07423683013874392)"
      ]
     },
     "execution_count": 272,
     "metadata": {},
     "output_type": "execute_result"
    }
   ],
   "source": [
    "# One-way ANOVA Compare variant 1: fsa -- cooking experience\n",
    "f_oneway(low_cooking['fsa_score'][(low_cooking['condition'] == 2)&(low_cooking['variant'] == 1)], medium_cooking['fsa_score'][(medium_cooking['condition'] == 2)&(medium_cooking['variant'] == 1)],high_cooking['fsa_score'][(high_cooking['condition'] == 2)&(high_cooking['variant'] == 1)])"
   ]
  },
  {
   "cell_type": "code",
   "execution_count": 273,
   "id": "precious-works",
   "metadata": {},
   "outputs": [
    {
     "data": {
      "text/plain": [
       "F_onewayResult(statistic=2.032366652337374, pvalue=0.1334024346116056)"
      ]
     },
     "execution_count": 273,
     "metadata": {},
     "output_type": "execute_result"
    }
   ],
   "source": [
    "# One-way ANOVA Compare variant 1: fsa -- cooking experience\n",
    "f_oneway(low_cooking['fsa_score'][(low_cooking['condition'] == 2)&(low_cooking['variant'] == 2)], medium_cooking['fsa_score'][(medium_cooking['condition'] == 2)&(medium_cooking['variant'] == 2)],high_cooking['fsa_score'][(high_cooking['condition'] == 2)&(high_cooking['variant'] == 2)])"
   ]
  },
  {
   "cell_type": "code",
   "execution_count": 274,
   "id": "chubby-perfume",
   "metadata": {},
   "outputs": [
    {
     "data": {
      "text/plain": [
       "F_onewayResult(statistic=2.4669448672608505, pvalue=0.08711577016921662)"
      ]
     },
     "execution_count": 274,
     "metadata": {},
     "output_type": "execute_result"
    }
   ],
   "source": [
    "# One-way ANOVA Compare variant 1: fsa -- cooking experience\n",
    "f_oneway(low_cooking['fsa_score'][(low_cooking['condition'] == 2)&(low_cooking['variant'] == 3)], medium_cooking['fsa_score'][(medium_cooking['condition'] == 2)&(medium_cooking['variant'] == 3)],high_cooking['fsa_score'][(high_cooking['condition'] == 2)&(high_cooking['variant'] == 3)])"
   ]
  },
  {
   "cell_type": "markdown",
   "id": "excess-baker",
   "metadata": {},
   "source": [
    "* "
   ]
  },
  {
   "cell_type": "markdown",
   "id": "based-robinson",
   "metadata": {},
   "source": [
    "#### Condition 3: Variant"
   ]
  },
  {
   "cell_type": "code",
   "execution_count": 275,
   "id": "aging-fireplace",
   "metadata": {},
   "outputs": [
    {
     "data": {
      "text/plain": [
       "F_onewayResult(statistic=0.049318968757184785, pvalue=0.9518877494125018)"
      ]
     },
     "execution_count": 275,
     "metadata": {},
     "output_type": "execute_result"
    }
   ],
   "source": [
    "# One-way ANOVA Compare variant 1: fsa -- cooking experience\n",
    "f_oneway(low_cooking['fsa_score'][(low_cooking['condition'] == 3)&(low_cooking['variant'] == 1)], medium_cooking['fsa_score'][(medium_cooking['condition'] == 3)&(medium_cooking['variant'] == 1)],high_cooking['fsa_score'][(high_cooking['condition'] == 3)&(high_cooking['variant'] == 1)])"
   ]
  },
  {
   "cell_type": "code",
   "execution_count": 276,
   "id": "dynamic-specification",
   "metadata": {},
   "outputs": [
    {
     "data": {
      "text/plain": [
       "F_onewayResult(statistic=1.4496413411878597, pvalue=0.2368375099923825)"
      ]
     },
     "execution_count": 276,
     "metadata": {},
     "output_type": "execute_result"
    }
   ],
   "source": [
    "# One-way ANOVA Compare variant 2: fsa -- cooking experience\n",
    "f_oneway(low_cooking['fsa_score'][(low_cooking['condition'] == 3)&(low_cooking['variant'] == 2)], medium_cooking['fsa_score'][(medium_cooking['condition'] == 3)&(medium_cooking['variant'] == 2)],high_cooking['fsa_score'][(high_cooking['condition'] == 3)&(high_cooking['variant'] == 2)])"
   ]
  },
  {
   "cell_type": "code",
   "execution_count": 277,
   "id": "retired-ghost",
   "metadata": {},
   "outputs": [
    {
     "data": {
      "text/plain": [
       "F_onewayResult(statistic=0.050944845228358654, pvalue=0.9503420432144184)"
      ]
     },
     "execution_count": 277,
     "metadata": {},
     "output_type": "execute_result"
    }
   ],
   "source": [
    "# One-way ANOVA Compare variant 2: fsa -- cooking experience\n",
    "f_oneway(low_cooking['fsa_score'][(low_cooking['condition'] == 3)&(low_cooking['variant'] == 3)], medium_cooking['fsa_score'][(medium_cooking['condition'] == 3)&(medium_cooking['variant'] == 3)],high_cooking['fsa_score'][(high_cooking['condition'] == 3)&(high_cooking['variant'] == 3)])"
   ]
  },
  {
   "cell_type": "markdown",
   "id": "crucial-oracle",
   "metadata": {},
   "source": [
    "* No statistical differences between participants with Low, Medium or High cooking experience with No-label"
   ]
  },
  {
   "cell_type": "markdown",
   "id": "bearing-curve",
   "metadata": {},
   "source": [
    "## Education\n",
    "low_edu\n",
    "bach_edu\n",
    "high_edu "
   ]
  },
  {
   "cell_type": "markdown",
   "id": "passive-royalty",
   "metadata": {},
   "source": [
    "### One-way ANOVA to check if cooking experience affected the FSA score for different variant within the different conditions. "
   ]
  },
  {
   "cell_type": "code",
   "execution_count": 278,
   "id": "induced-jason",
   "metadata": {},
   "outputs": [
    {
     "data": {
      "text/plain": [
       "F_onewayResult(statistic=1.721711077891976, pvalue=0.1790196633389674)"
      ]
     },
     "execution_count": 278,
     "metadata": {},
     "output_type": "execute_result"
    }
   ],
   "source": [
    "# One-way ANOVA\n",
    "f_oneway(low_edu['fsa_score'], bach_edu['fsa_score'],high_edu['fsa_score'])"
   ]
  },
  {
   "cell_type": "markdown",
   "id": "dangerous-truck",
   "metadata": {},
   "source": [
    "####  Condition 1: Variants"
   ]
  },
  {
   "cell_type": "code",
   "execution_count": 279,
   "id": "historical-implementation",
   "metadata": {},
   "outputs": [
    {
     "data": {
      "text/plain": [
       "F_onewayResult(statistic=1.7658746690643075, pvalue=0.17339919780049312)"
      ]
     },
     "execution_count": 279,
     "metadata": {},
     "output_type": "execute_result"
    }
   ],
   "source": [
    "# One-way ANOVA Compare variant 1: fsa -- cooking experience\n",
    "f_oneway(low_edu['fsa_score'][(low_edu['condition'] == 1)&(low_edu['variant'] == 1)], bach_edu['fsa_score'][(bach_edu['condition'] == 1)&(bach_edu['variant'] == 1)],high_edu['fsa_score'][(high_edu['condition'] == 1)&(high_edu['variant'] == 1)])"
   ]
  },
  {
   "cell_type": "code",
   "execution_count": 280,
   "id": "essential-casino",
   "metadata": {},
   "outputs": [
    {
     "data": {
      "text/plain": [
       "F_onewayResult(statistic=1.1958872114531065, pvalue=0.30435037415267435)"
      ]
     },
     "execution_count": 280,
     "metadata": {},
     "output_type": "execute_result"
    }
   ],
   "source": [
    "# One-way ANOVA Compare variant 2: fsa -- cooking experience\n",
    "f_oneway(low_edu['fsa_score'][(low_edu['condition'] == 1)&(low_edu['variant'] == 2)], bach_edu['fsa_score'][(bach_edu['condition'] == 1)&(bach_edu['variant'] == 2)],high_edu['fsa_score'][(high_edu['condition'] == 1)&(high_edu['variant'] == 2)])"
   ]
  },
  {
   "cell_type": "code",
   "execution_count": 281,
   "id": "previous-impossible",
   "metadata": {},
   "outputs": [
    {
     "data": {
      "text/plain": [
       "F_onewayResult(statistic=2.0798954375653764, pvalue=0.1273389740806354)"
      ]
     },
     "execution_count": 281,
     "metadata": {},
     "output_type": "execute_result"
    }
   ],
   "source": [
    "# One-way ANOVA Compare variant 3: fsa -- cooking experience\n",
    "f_oneway(low_edu['fsa_score'][(low_edu['condition'] == 1)&(low_edu['variant'] == 3)], bach_edu['fsa_score'][(bach_edu['condition'] == 1)&(bach_edu['variant'] == 3)],high_edu['fsa_score'][(high_edu['condition'] == 1)&(high_edu['variant'] == 3)])"
   ]
  },
  {
   "cell_type": "markdown",
   "id": "facial-trademark",
   "metadata": {},
   "source": [
    "* No statistical differences between participants with Low, Medium or High cooking experience with Nutriscore"
   ]
  },
  {
   "cell_type": "markdown",
   "id": "forward-watson",
   "metadata": {},
   "source": [
    "####  Condition 2: Variants"
   ]
  },
  {
   "cell_type": "code",
   "execution_count": 282,
   "id": "improving-spray",
   "metadata": {},
   "outputs": [
    {
     "data": {
      "text/plain": [
       "F_onewayResult(statistic=2.1053760059945823, pvalue=0.12418250756811688)"
      ]
     },
     "execution_count": 282,
     "metadata": {},
     "output_type": "execute_result"
    }
   ],
   "source": [
    "# One-way ANOVA Compare variant 1: fsa -- cooking experience\n",
    "f_oneway(low_edu['fsa_score'][(low_edu['condition'] == 2)&(low_edu['variant'] == 1)], bach_edu['fsa_score'][(bach_edu['condition'] == 2)&(bach_edu['variant'] == 1)],high_edu['fsa_score'][(high_edu['condition'] == 2)&(high_edu['variant'] == 1)])"
   ]
  },
  {
   "cell_type": "code",
   "execution_count": 283,
   "id": "based-geneva",
   "metadata": {},
   "outputs": [
    {
     "data": {
      "text/plain": [
       "F_onewayResult(statistic=0.009983728938211237, pvalue=0.9900663796744424)"
      ]
     },
     "execution_count": 283,
     "metadata": {},
     "output_type": "execute_result"
    }
   ],
   "source": [
    "# One-way ANOVA Compare variant 1: fsa -- cooking experience\n",
    "f_oneway(low_edu['fsa_score'][(low_edu['condition'] == 2)&(low_edu['variant'] == 2)], bach_edu['fsa_score'][(bach_edu['condition'] == 2)&(bach_edu['variant'] == 2)],high_edu['fsa_score'][(high_edu['condition'] == 2)&(high_edu['variant'] == 2)])"
   ]
  },
  {
   "cell_type": "code",
   "execution_count": 284,
   "id": "hired-voltage",
   "metadata": {},
   "outputs": [
    {
     "data": {
      "text/plain": [
       "F_onewayResult(statistic=0.7023071445694904, pvalue=0.4965189206141365)"
      ]
     },
     "execution_count": 284,
     "metadata": {},
     "output_type": "execute_result"
    }
   ],
   "source": [
    "# One-way ANOVA Compare variant 1: fsa -- cooking experience\n",
    "f_oneway(low_edu['fsa_score'][(low_edu['condition'] == 2)&(low_edu['variant'] == 3)], bach_edu['fsa_score'][(bach_edu['condition'] == 2)&(bach_edu['variant'] == 3)],high_edu['fsa_score'][(high_edu['condition'] == 2)&(high_edu['variant'] == 3)])"
   ]
  },
  {
   "cell_type": "markdown",
   "id": "tamil-banking",
   "metadata": {},
   "source": [
    "* No SS"
   ]
  },
  {
   "cell_type": "markdown",
   "id": "inclusive-pioneer",
   "metadata": {},
   "source": [
    "#### Condition 3: Variant"
   ]
  },
  {
   "cell_type": "code",
   "execution_count": 285,
   "id": "surprised-junction",
   "metadata": {},
   "outputs": [
    {
     "data": {
      "text/plain": [
       "F_onewayResult(statistic=0.7019444640454016, pvalue=0.49672221548601714)"
      ]
     },
     "execution_count": 285,
     "metadata": {},
     "output_type": "execute_result"
    }
   ],
   "source": [
    "# One-way ANOVA Compare variant 1: fsa -- cooking experience\n",
    "f_oneway(low_edu['fsa_score'][(low_edu['condition'] == 3)&(low_edu['variant'] == 1)], bach_edu['fsa_score'][(bach_edu['condition'] == 3)&(bach_edu['variant'] == 1)],high_edu['fsa_score'][(high_edu['condition'] == 3)&(high_edu['variant'] == 1)])"
   ]
  },
  {
   "cell_type": "code",
   "execution_count": 286,
   "id": "extreme-franchise",
   "metadata": {},
   "outputs": [
    {
     "data": {
      "text/plain": [
       "F_onewayResult(statistic=0.7832129833859697, pvalue=0.4581996091125138)"
      ]
     },
     "execution_count": 286,
     "metadata": {},
     "output_type": "execute_result"
    }
   ],
   "source": [
    "# One-way ANOVA Compare variant 2: fsa -- cooking experience\n",
    "f_oneway(low_edu['fsa_score'][(low_edu['condition'] == 3)&(low_edu['variant'] == 2)], bach_edu['fsa_score'][(bach_edu['condition'] == 3)&(bach_edu['variant'] == 2)],high_edu['fsa_score'][(high_edu['condition'] == 3)&(high_edu['variant'] == 2)])"
   ]
  },
  {
   "cell_type": "code",
   "execution_count": 287,
   "id": "guilty-excerpt",
   "metadata": {},
   "outputs": [
    {
     "data": {
      "text/plain": [
       "F_onewayResult(statistic=2.5031794693417324, pvalue=0.08414212166598463)"
      ]
     },
     "execution_count": 287,
     "metadata": {},
     "output_type": "execute_result"
    }
   ],
   "source": [
    "# One-way ANOVA Compare variant 2: fsa -- cooking experience\n",
    "f_oneway(low_edu['fsa_score'][(low_edu['condition'] == 3)&(low_edu['variant'] == 3)], bach_edu['fsa_score'][(bach_edu['condition'] == 3)&(bach_edu['variant'] == 3)],high_edu['fsa_score'][(high_edu['condition'] == 3)&(high_edu['variant'] == 3)])"
   ]
  },
  {
   "cell_type": "markdown",
   "id": "supported-zealand",
   "metadata": {},
   "source": [
    "* No statistical differences between participants with Low, Medium or High education with No-label"
   ]
  },
  {
   "cell_type": "markdown",
   "id": "reflected-behalf",
   "metadata": {},
   "source": [
    "## Goals\n",
    "* Would expect people with lose weight, or eat healthier to ...\n",
    "\n",
    "* Put participants with different goals into groups: \n",
    "    * more (participants who want to eat more protein, fruit, vegetables or gain weight)\n",
    "    * no_goal\n",
    "    * reduce (participants who want to reduce their intake of food/nutrient, in this case lose weight/ eat less salt)"
   ]
  },
  {
   "cell_type": "code",
   "execution_count": 329,
   "id": "australian-cartridge",
   "metadata": {},
   "outputs": [],
   "source": [
    "more = ms[ms['user_id'].isin(more)]\n",
    "no_goal = ms[ms['user_id'].isin(no_goal)]\n",
    "reduce = ms[ms['user_id'].isin(reduce)]"
   ]
  },
  {
   "cell_type": "markdown",
   "id": "metric-official",
   "metadata": {},
   "source": [
    "### One-way ANOVA to check if goals affected the FSA score for different variant within the different conditions. "
   ]
  },
  {
   "cell_type": "code",
   "execution_count": 348,
   "id": "lined-transcription",
   "metadata": {},
   "outputs": [
    {
     "data": {
      "text/plain": [
       "F_onewayResult(statistic=0.9889529783431308, pvalue=0.37225311177817244)"
      ]
     },
     "execution_count": 348,
     "metadata": {},
     "output_type": "execute_result"
    }
   ],
   "source": [
    "# One-way ANOVA\n",
    "f_oneway(more['fsa_score'], no_goal['fsa_score'],reduce['fsa_score'])"
   ]
  },
  {
   "cell_type": "markdown",
   "id": "searching-portland",
   "metadata": {},
   "source": [
    "####  Condition 1: Variants"
   ]
  },
  {
   "cell_type": "code",
   "execution_count": 349,
   "id": "premier-defendant",
   "metadata": {},
   "outputs": [
    {
     "data": {
      "text/plain": [
       "F_onewayResult(statistic=1.4098290755117537, pvalue=0.2479217545845923)"
      ]
     },
     "execution_count": 349,
     "metadata": {},
     "output_type": "execute_result"
    }
   ],
   "source": [
    "# One-way ANOVA Compare variant 1: fsa -- goal\n",
    "f_oneway(more['fsa_score'][(more['condition'] == 1)&(more['variant'] == 1)], no_goal['fsa_score'][(no_goal['condition'] == 1)&(no_goal['variant'] == 1)],reduce['fsa_score'][(reduce['condition'] == 1)&(reduce['variant'] == 1)])"
   ]
  },
  {
   "cell_type": "code",
   "execution_count": 350,
   "id": "floppy-johnson",
   "metadata": {},
   "outputs": [
    {
     "data": {
      "text/plain": [
       "F_onewayResult(statistic=0.5315169654412201, pvalue=0.5889942129371795)"
      ]
     },
     "execution_count": 350,
     "metadata": {},
     "output_type": "execute_result"
    }
   ],
   "source": [
    "# One-way ANOVA Compare variant 2: fsa -- goal\n",
    "f_oneway(more['fsa_score'][(more['condition'] == 1)&(more['variant'] == 2)], no_goal['fsa_score'][(no_goal['condition'] == 1)&(no_goal['variant'] == 2)],reduce['fsa_score'][(reduce['condition'] == 1)&(reduce['variant'] == 2)])"
   ]
  },
  {
   "cell_type": "code",
   "execution_count": 351,
   "id": "described-eligibility",
   "metadata": {},
   "outputs": [
    {
     "data": {
      "text/plain": [
       "F_onewayResult(statistic=2.351636798045147, pvalue=0.09928295408477635)"
      ]
     },
     "execution_count": 351,
     "metadata": {},
     "output_type": "execute_result"
    }
   ],
   "source": [
    "# One-way ANOVA Compare variant 3: fsa -- goal\n",
    "f_oneway(more['fsa_score'][(more['condition'] == 1)&(more['variant'] == 3)], no_goal['fsa_score'][(no_goal['condition'] == 1)&(no_goal['variant'] == 3)],reduce['fsa_score'][(reduce['condition'] == 1)&(reduce['variant'] == 3)])"
   ]
  },
  {
   "cell_type": "markdown",
   "id": "critical-ground",
   "metadata": {},
   "source": [
    "* No statistical differences between participants with Low, Medium or High goal with Nutriscore"
   ]
  },
  {
   "cell_type": "markdown",
   "id": "municipal-republican",
   "metadata": {},
   "source": [
    "####  Condition 2: Variants"
   ]
  },
  {
   "cell_type": "code",
   "execution_count": 352,
   "id": "noble-travel",
   "metadata": {},
   "outputs": [
    {
     "data": {
      "text/plain": [
       "F_onewayResult(statistic=3.198687583198422, pvalue=0.04375266613207514)"
      ]
     },
     "execution_count": 352,
     "metadata": {},
     "output_type": "execute_result"
    }
   ],
   "source": [
    "# One-way ANOVA Compare variant 1: fsa -- goal\n",
    "f_oneway(more['fsa_score'][(more['condition'] == 2)&(more['variant'] == 1)], no_goal['fsa_score'][(no_goal['condition'] == 2)&(no_goal['variant'] == 1)],reduce['fsa_score'][(reduce['condition'] == 2)&(reduce['variant'] == 1)])"
   ]
  },
  {
   "cell_type": "code",
   "execution_count": 353,
   "id": "knowing-jimmy",
   "metadata": {},
   "outputs": [
    {
     "data": {
      "text/plain": [
       "F_onewayResult(statistic=0.05806613902557674, pvalue=0.9436097736921513)"
      ]
     },
     "execution_count": 353,
     "metadata": {},
     "output_type": "execute_result"
    }
   ],
   "source": [
    "# One-way ANOVA Compare variant 1: fsa -- goal\n",
    "f_oneway(more['fsa_score'][(more['condition'] == 2)&(more['variant'] == 2)], no_goal['fsa_score'][(no_goal['condition'] == 2)&(no_goal['variant'] == 2)],reduce['fsa_score'][(reduce['condition'] == 2)&(reduce['variant'] == 2)])"
   ]
  },
  {
   "cell_type": "code",
   "execution_count": 354,
   "id": "earned-phase",
   "metadata": {},
   "outputs": [
    {
     "data": {
      "text/plain": [
       "F_onewayResult(statistic=0.5189637442835437, pvalue=0.596253463430595)"
      ]
     },
     "execution_count": 354,
     "metadata": {},
     "output_type": "execute_result"
    }
   ],
   "source": [
    "# One-way ANOVA Compare variant 1: fsa -- goal\n",
    "f_oneway(more['fsa_score'][(more['condition'] == 2)&(more['variant'] == 3)], no_goal['fsa_score'][(no_goal['condition'] == 2)&(no_goal['variant'] == 3)],reduce['fsa_score'][(reduce['condition'] == 2)&(reduce['variant'] == 3)])"
   ]
  },
  {
   "cell_type": "code",
   "execution_count": 360,
   "id": "blocked-picking",
   "metadata": {},
   "outputs": [
    {
     "name": "stdout",
     "output_type": "stream",
     "text": [
      "5.870967741935484\n",
      "6.571428571428571\n",
      "6.271186440677966\n"
     ]
    }
   ],
   "source": [
    "m = more['fsa_score'][(more['condition'] == 2)&(more['variant'] == 1)]\n",
    "n = no_goal['fsa_score'][(no_goal['condition'] == 2)&(no_goal['variant'] == 1)]\n",
    "r = reduce['fsa_score'][(reduce['condition'] == 2)&(reduce['variant'] == 1)]\n",
    "print(m.mean())\n",
    "print(n.mean())\n",
    "print(r.mean())"
   ]
  },
  {
   "cell_type": "markdown",
   "id": "indonesian-surprise",
   "metadata": {},
   "source": [
    "* Significant statistical difference in Condition 2 MTL Variant 1 Popular ranking (pvalue=0.04375266613207514). \n",
    "* The differene is largest between More goals (participants who want to eat more protein, fruit, vegetables or gain weight) and no goal. "
   ]
  },
  {
   "cell_type": "markdown",
   "id": "dirty-rover",
   "metadata": {},
   "source": [
    "#### Condition 3: Variant"
   ]
  },
  {
   "cell_type": "code",
   "execution_count": 355,
   "id": "classical-theater",
   "metadata": {},
   "outputs": [
    {
     "data": {
      "text/plain": [
       "F_onewayResult(statistic=0.40746597064660434, pvalue=0.6661094983939156)"
      ]
     },
     "execution_count": 355,
     "metadata": {},
     "output_type": "execute_result"
    }
   ],
   "source": [
    "# One-way ANOVA Compare variant 1: fsa -- goal\n",
    "f_oneway(more['fsa_score'][(more['condition'] == 3)&(more['variant'] == 1)], no_goal['fsa_score'][(no_goal['condition'] == 3)&(no_goal['variant'] == 1)],reduce['fsa_score'][(reduce['condition'] == 3)&(reduce['variant'] == 1)])"
   ]
  },
  {
   "cell_type": "code",
   "execution_count": 356,
   "id": "laughing-experience",
   "metadata": {},
   "outputs": [
    {
     "data": {
      "text/plain": [
       "F_onewayResult(statistic=1.9873598531267693, pvalue=0.14085079425758637)"
      ]
     },
     "execution_count": 356,
     "metadata": {},
     "output_type": "execute_result"
    }
   ],
   "source": [
    "# One-way ANOVA Compare variant 2: fsa -- goal\n",
    "f_oneway(more['fsa_score'][(more['condition'] == 3)&(more['variant'] == 2)], no_goal['fsa_score'][(no_goal['condition'] == 3)&(no_goal['variant'] == 2)],reduce['fsa_score'][(reduce['condition'] == 3)&(reduce['variant'] == 2)])"
   ]
  },
  {
   "cell_type": "code",
   "execution_count": 357,
   "id": "colored-salmon",
   "metadata": {},
   "outputs": [
    {
     "data": {
      "text/plain": [
       "F_onewayResult(statistic=0.46401638057510175, pvalue=0.6297032019292872)"
      ]
     },
     "execution_count": 357,
     "metadata": {},
     "output_type": "execute_result"
    }
   ],
   "source": [
    "# One-way ANOVA Compare variant 2: fsa -- goal\n",
    "f_oneway(more['fsa_score'][(more['condition'] == 3)&(more['variant'] == 3)], no_goal['fsa_score'][(no_goal['condition'] == 3)&(no_goal['variant'] == 3)],reduce['fsa_score'][(reduce['condition'] == 3)&(reduce['variant'] == 3)])"
   ]
  },
  {
   "cell_type": "markdown",
   "id": "joined-hamilton",
   "metadata": {},
   "source": [
    "* No statistical differences between participants with Low, Medium or High education with No-label"
   ]
  },
  {
   "cell_type": "code",
   "execution_count": null,
   "id": "physical-tower",
   "metadata": {},
   "outputs": [],
   "source": []
  },
  {
   "cell_type": "markdown",
   "id": "returning-theory",
   "metadata": {},
   "source": [
    "# Americans vs. Europeans\n",
    "* Biggest difference is for the MTL label (condition 2) (pvalue=0.07061497660278497), however not statistically significant difference. Europeans choose slightly healthier recipes overall. \n",
    "* mean FSA Americans MTL 6.44213649851632\n",
    "* mean FSA Europeans MTL 6.246527777777778"
   ]
  },
  {
   "cell_type": "code",
   "execution_count": null,
   "id": "hungarian-diploma",
   "metadata": {},
   "outputs": [],
   "source": []
  }
 ],
 "metadata": {
  "kernelspec": {
   "display_name": "Python 3",
   "language": "python",
   "name": "python3"
  },
  "language_info": {
   "codemirror_mode": {
    "name": "ipython",
    "version": 3
   },
   "file_extension": ".py",
   "mimetype": "text/x-python",
   "name": "python",
   "nbconvert_exporter": "python",
   "pygments_lexer": "ipython3",
   "version": "3.7.9"
  }
 },
 "nbformat": 4,
 "nbformat_minor": 5
}
