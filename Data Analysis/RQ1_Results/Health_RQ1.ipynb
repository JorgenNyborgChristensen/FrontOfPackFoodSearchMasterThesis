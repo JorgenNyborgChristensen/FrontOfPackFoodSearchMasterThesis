{
 "cells": [
  {
   "cell_type": "code",
   "execution_count": 4,
   "id": "tired-physics",
   "metadata": {},
   "outputs": [],
   "source": [
    "import matplotlib.pyplot as plt\n",
    "import numpy as np\n",
    "import pandas as pd\n",
    "import seaborn as sns\n",
    "import warnings\n",
    "from pylab import rcParams\n",
    "from scipy import stats\n",
    "\n",
    "from scipy.stats import f_oneway\n",
    "from scipy.stats import ttest_ind\n",
    "import statsmodels.api as sm\n",
    "from statsmodels.formula.api import ols\n",
    "pd.set_option('display.max_columns', 1000)\n",
    "pd.set_option('display.max_rows', 1000)"
   ]
  },
  {
   "cell_type": "code",
   "execution_count": 5,
   "id": "floating-landscape",
   "metadata": {},
   "outputs": [],
   "source": [
    "%matplotlib inline\n",
    "warnings.filterwarnings(\"ignore\")\n",
    "rcParams['figure.figsize'] = 20,10\n",
    "rcParams['font.size'] = 30\n",
    "sns.set()\n",
    "np.random.seed(8)"
   ]
  },
  {
   "cell_type": "code",
   "execution_count": 11,
   "id": "according-authority",
   "metadata": {},
   "outputs": [],
   "source": [
    "# Selected recipes\n",
    "s1 = pd.read_csv(\"./Pro_1/selectedrecipes.csv\")\n",
    "s2 = pd.read_csv(\"./Pro_2/selectedrecipes.csv\")\n",
    "s3 = pd.read_csv(\"./Pro_3/selectedrecipes.csv\")"
   ]
  },
  {
   "cell_type": "code",
   "execution_count": 12,
   "id": "representative-reason",
   "metadata": {},
   "outputs": [],
   "source": [
    "s1.rename(columns={'who_score_x': 'who_score', 'fsa_score_x': 'fsa_score'}, inplace=True)\n",
    "s2.rename(columns={'who_score_x': 'who_score', 'fsa_score_x': 'fsa_score'}, inplace=True)\n",
    "s3.rename(columns={'who_score_x': 'who_score', 'fsa_score_x': 'fsa_score'}, inplace=True)"
   ]
  },
  {
   "cell_type": "code",
   "execution_count": 13,
   "id": "electronic-roller",
   "metadata": {},
   "outputs": [
    {
     "name": "stdout",
     "output_type": "stream",
     "text": [
      "<class 'pandas.core.frame.DataFrame'>\n",
      "RangeIndex: 707 entries, 0 to 706\n",
      "Data columns (total 69 columns):\n",
      " #   Column                   Non-Null Count  Dtype  \n",
      "---  ------                   --------------  -----  \n",
      " 0   Unnamed: 0               707 non-null    int64  \n",
      " 1   Unnamed: 0_x             707 non-null    int64  \n",
      " 2   user_id                  707 non-null    int64  \n",
      " 3   recipe_id                707 non-null    object \n",
      " 4   load_more                433 non-null    object \n",
      " 5   recipe_order             707 non-null    object \n",
      " 6   choice_num               707 non-null    int64  \n",
      " 7   condition                707 non-null    int64  \n",
      " 8   submitted_at             707 non-null    object \n",
      " 9   query_term               707 non-null    object \n",
      " 10  choice_sat_q1            707 non-null    int64  \n",
      " 11  choice_sat_q4            707 non-null    int64  \n",
      " 12  choice_sat_q2            707 non-null    int64  \n",
      " 13  choice_sat_q3            707 non-null    int64  \n",
      " 14  choice_sat_q5            707 non-null    int64  \n",
      " 15  choice_sat_q6            707 non-null    int64  \n",
      " 16  choice_sat_q7            707 non-null    int64  \n",
      " 17  variant                  707 non-null    int64  \n",
      " 18  Unnamed: 0_y             707 non-null    int64  \n",
      " 19  Unnamed: 0.1             707 non-null    int64  \n",
      " 20  Unnamed: 0.1.1           707 non-null    int64  \n",
      " 21  Unnamed: 0.1.1.1         707 non-null    int64  \n",
      " 22  recipe_image_link        707 non-null    object \n",
      " 23  recipe_name              707 non-null    object \n",
      " 24  recipe_description       707 non-null    object \n",
      " 25  recipe_servings          707 non-null    object \n",
      " 26  recipe_directions        707 non-null    object \n",
      " 27  recipe_directions_cnt    707 non-null    int64  \n",
      " 28  recipe_serving           707 non-null    int64  \n",
      " 29  recipe_calories          707 non-null    float64\n",
      " 30  total_gram_weight        707 non-null    float64\n",
      " 31  avg_rating               707 non-null    float64\n",
      " 32  number_of_ratings        707 non-null    int64  \n",
      " 33  kcal_per_100g            707 non-null    float64\n",
      " 34  protein_per_100g         707 non-null    float64\n",
      " 35  carbohydrates_per_100g   707 non-null    float64\n",
      " 36  fat_per_100g             707 non-null    float64\n",
      " 37  weight_per_serving       707 non-null    float64\n",
      " 38  weight_per_100           707 non-null    float64\n",
      " 39  sugar_per_100g           707 non-null    float64\n",
      " 40  saturated_fat_per_100g   707 non-null    float64\n",
      " 41  sodium_per_100g          707 non-null    float64\n",
      " 42  fiber_per_100g           707 non-null    float64\n",
      " 43  nutri_score              707 non-null    object \n",
      " 44  fat_mtl_score            707 non-null    object \n",
      " 45  saturated_fat_mtl_score  707 non-null    object \n",
      " 46  sugar_mtl                707 non-null    object \n",
      " 47  sodium_mtl               707 non-null    object \n",
      " 48  fsa_score                707 non-null    int64  \n",
      " 49  ingredients              707 non-null    object \n",
      " 50  keyword                  707 non-null    object \n",
      " 51  name                     707 non-null    object \n",
      " 52  fiberg                   707 non-null    float64\n",
      " 53  sodiumg                  707 non-null    float64\n",
      " 54  carbohydratesg           707 non-null    float64\n",
      " 55  fatg                     707 non-null    float64\n",
      " 56  proteing                 707 non-null    float64\n",
      " 57  sugarg                   707 non-null    float64\n",
      " 58  saturatedfatg            707 non-null    float64\n",
      " 59  sizeg                    707 non-null    float64\n",
      " 60  servings                 707 non-null    int64  \n",
      " 61  calorieskcal             707 non-null    int64  \n",
      " 62  averagerating            707 non-null    float64\n",
      " 63  averagesentiment         707 non-null    float64\n",
      " 64  numberofratings          707 non-null    int64  \n",
      " 65  numberofbookmarks        707 non-null    int64  \n",
      " 66  yearofpublishing         707 non-null    int64  \n",
      " 67  _merge                   707 non-null    object \n",
      " 68  who_score                707 non-null    int64  \n",
      "dtypes: float64(23), int64(27), object(19)\n",
      "memory usage: 381.2+ KB\n"
     ]
    }
   ],
   "source": [
    "s1.info()"
   ]
  },
  {
   "cell_type": "code",
   "execution_count": 8,
   "id": "monthly-criticism",
   "metadata": {},
   "outputs": [],
   "source": [
    "recipes = pd.read_csv(\"recipes_correct_fsa.csv\")"
   ]
  },
  {
   "cell_type": "code",
   "execution_count": 9,
   "id": "selective-aside",
   "metadata": {},
   "outputs": [],
   "source": [
    "# Add all data to one DF\n",
    "ms = pd.concat([s1, s2, s3])"
   ]
  },
  {
   "cell_type": "code",
   "execution_count": 749,
   "id": "prostate-premises",
   "metadata": {},
   "outputs": [],
   "source": [
    "# Calculate mean FSA score for each condition\n",
    "s1_fsa = s1[\"fsa_score\"].mean()\n",
    "s2_fsa = s2[\"fsa_score\"].mean()\n",
    "s3_fsa = s3[\"fsa_score\"].mean()\n",
    "s1_fsa = s1['fsa_score'].to_numpy()\n",
    "s2_fsa = s2['fsa_score'].to_numpy()\n",
    "s3_fsa = s3['fsa_score'].to_numpy()"
   ]
  },
  {
   "cell_type": "code",
   "execution_count": 750,
   "id": "psychological-turning",
   "metadata": {},
   "outputs": [],
   "source": [
    "# Ranking FSA\n",
    "v1_rank = ms.loc[ms['variant'] == 1]\n",
    "v2_rank = ms.loc[ms['variant'] == 2]\n",
    "v3_rank = ms.loc[ms['variant'] == 3]\n",
    "\n",
    "v1_rank_mean = v1_rank[\"fsa_score\"].to_numpy()\n",
    "v2_rank_mean = v2_rank[\"fsa_score\"].to_numpy()\n",
    "v3_rank_mean = v3_rank[\"fsa_score\"].to_numpy()\n"
   ]
  },
  {
   "cell_type": "code",
   "execution_count": 751,
   "id": "sufficient-wallace",
   "metadata": {},
   "outputs": [],
   "source": [
    "# Get data for each within-subjects variable\n",
    "# Condition 1 variants\n",
    "\n",
    "shown1 = s1\n",
    "shown2 = s2\n",
    "shown3 = s3 \n",
    "\n",
    "s1v1 = shown1.loc[shown1['variant'] == 1]\n",
    "s1v2 = shown1.loc[shown1['variant'] == 2]\n",
    "s1v3 = shown1.loc[shown1['variant'] == 3]\n",
    "\n",
    "# Condition 2 variants\n",
    "s2v1 = shown2.loc[shown2['variant'] == 1]\n",
    "s2v2 = shown2.loc[shown2['variant'] == 2]\n",
    "s2v3 = shown2.loc[shown2['variant'] == 3]\n",
    "\n",
    "# Condition 3 variants\n",
    "s3v1 = shown3.loc[shown3['variant'] == 1]\n",
    "s3v2 = shown3.loc[shown3['variant'] == 2]\n",
    "s3v3 = shown3.loc[shown3['variant'] == 3]\n",
    "\n",
    "# Get FSA score for different within-subjects variable\n",
    "s1v1_fsa = s1v1['fsa_score'].to_numpy()\n",
    "s1v2_fsa = s1v2['fsa_score'].to_numpy()\n",
    "s1v3_fsa = s1v3['fsa_score'].to_numpy()\n",
    "\n",
    "s2v1_fsa = s2v1['fsa_score'].to_numpy()\n",
    "s2v2_fsa = s2v2['fsa_score'].to_numpy()\n",
    "s2v3_fsa = s2v3['fsa_score'].to_numpy()\n",
    "\n",
    "s3v1_fsa = s3v1['fsa_score'].to_numpy()\n",
    "s3v2_fsa = s3v2['fsa_score'].to_numpy()\n",
    "s3v3_fsa = s3v3['fsa_score'].to_numpy()\n",
    "\n",
    "\n",
    "# Get Nutriscore  for different within-subjects variable\n",
    "s1v1_ns = s1v1['nutri_score'].to_numpy()\n",
    "s1v2_ns = s1v2['nutri_score'].to_numpy()\n",
    "s1v3_ns = s1v3['nutri_score'].to_numpy()\n",
    "\n",
    "s1v1_ns = s1v1['nutri_score'].to_numpy()\n",
    "s1v2_ns = s1v2['nutri_score'].to_numpy()\n",
    "s1v3_ns = s1v3['nutri_score'].to_numpy()\n",
    "\n",
    "s1v1_ns = s1v1['nutri_score'].to_numpy()\n",
    "s1v2_ns = s1v2['nutri_score'].to_numpy()\n",
    "s1v3_ns = s1v3['nutri_score'].to_numpy()"
   ]
  },
  {
   "cell_type": "code",
   "execution_count": 752,
   "id": "dedicated-leader",
   "metadata": {},
   "outputs": [],
   "source": [
    "# Get FSA score for different within-subjects variable EXCLUDE PARTICIPANTS WITH DIETARY RESTRICTIONS\n",
    "no_res_id = md['user_id'].loc[md['restrictions'] == \"none\"].values\n",
    "\n",
    "s1_no_res = s1[s1['user_id'].isin(no_res_id)]\n",
    "s2_no_res = s2[s2['user_id'].isin(no_res_id)]\n",
    "s3_no_res = s3[s3['user_id'].isin(no_res_id)]\n",
    "\n",
    "s1_fsa_no_res = s1_no_res['fsa_score'].to_numpy()\n",
    "s2_fsa_no_res = s2_no_res['fsa_score'].to_numpy()\n",
    "s3_fsa_no_res = s3_no_res['fsa_score'].to_numpy()\n",
    "\n",
    "s1v1_no_res = s1_no_res.loc[s1_no_res['variant'] == 1]\n",
    "s1v2_no_res = s1_no_res.loc[s1_no_res['variant'] == 2]\n",
    "s1v3_no_res = s1_no_res.loc[s1_no_res['variant'] == 3]\n",
    "\n",
    "# Condition 2 variants\n",
    "s2v1_no_res = s2_no_res.loc[s2_no_res['variant'] == 1]\n",
    "s2v2_no_res = s2_no_res.loc[s2_no_res['variant'] == 2]\n",
    "s2v3_no_res = s2_no_res.loc[s2_no_res['variant'] == 3]\n",
    "\n",
    "# Condition 3 variants\n",
    "s3v1_no_res = s3_no_res.loc[s3_no_res['variant'] == 1]\n",
    "s3v2_no_res = s3_no_res.loc[s3_no_res['variant'] == 2]\n",
    "s3v3_no_res = s3_no_res.loc[s3_no_res['variant'] == 3]\n",
    "\n",
    "s1v1_fsa_no_res = s1v1_no_res['fsa_score'].to_numpy()\n",
    "s1v2_fsa_no_res = s1v2_no_res['fsa_score'].to_numpy()\n",
    "s1v3_fsa_no_res = s1v3_no_res['fsa_score'].to_numpy()\n",
    "\n",
    "s2v1_fsa_no_res = s2v1_no_res['fsa_score'].to_numpy()\n",
    "s2v2_fsa_no_res = s2v2_no_res['fsa_score'].to_numpy()\n",
    "s2v3_fsa_no_res = s2v3_no_res['fsa_score'].to_numpy()\n",
    "\n",
    "s3v1_fsa_no_res = s3v1_no_res['fsa_score'].to_numpy()\n",
    "s3v2_fsa_no_res = s3v2_no_res['fsa_score'].to_numpy()\n",
    "s3v3_fsa_no_res = s3v3_no_res['fsa_score'].to_numpy()"
   ]
  },
  {
   "cell_type": "code",
   "execution_count": 753,
   "id": "above-funeral",
   "metadata": {},
   "outputs": [],
   "source": [
    "# Get FSA score for different within-subjects variable EXCLUDE VEGANS\n",
    "no_veg_id = md['user_id'].loc[md['restrictions'] != \"vegan\"].values\n",
    "\n",
    "s1_no_veg = s1[s1['user_id'].isin(no_veg_id)]\n",
    "s2_no_veg = s2[s2['user_id'].isin(no_veg_id)]\n",
    "s3_no_veg = s3[s3['user_id'].isin(no_veg_id)]\n",
    "\n",
    "s1v1_no_veg = s1_no_veg.loc[s1_no_veg['variant'] == 1]\n",
    "s1v2_no_veg = s1_no_veg.loc[s1_no_veg['variant'] == 2]\n",
    "s1v3_no_veg = s1_no_veg.loc[s1_no_veg['variant'] == 3]\n",
    "\n",
    "s1_fsa_no_veg = s1_no_veg['fsa_score'].to_numpy()\n",
    "s2_fsa_no_veg = s2_no_veg['fsa_score'].to_numpy()\n",
    "s3_fsa_no_veg = s3_no_veg['fsa_score'].to_numpy()\n",
    "\n",
    "# Condition 2 variants\n",
    "s2v1_no_veg = s2_no_veg.loc[s2_no_veg['variant'] == 1]\n",
    "s2v2_no_veg = s2_no_veg.loc[s2_no_veg['variant'] == 2]\n",
    "s2v3_no_veg = s2_no_veg.loc[s2_no_veg['variant'] == 3]\n",
    "\n",
    "# Condition 3 variants\n",
    "s3v1_no_veg = s3_no_veg.loc[s3_no_veg['variant'] == 1]\n",
    "s3v2_no_veg = s3_no_veg.loc[s3_no_veg['variant'] == 2]\n",
    "s3v3_no_veg = s3_no_veg.loc[s3_no_veg['variant'] == 3]\n",
    "\n",
    "s1v1_fsa_no_veg = s1v1_no_veg['fsa_score'].to_numpy()\n",
    "s1v2_fsa_no_veg = s1v2_no_veg['fsa_score'].to_numpy()\n",
    "s1v3_fsa_no_veg = s1v3_no_veg['fsa_score'].to_numpy()\n",
    "\n",
    "s2v1_fsa_no_veg = s2v1_no_veg['fsa_score'].to_numpy()\n",
    "s2v2_fsa_no_veg = s2v2_no_veg['fsa_score'].to_numpy()\n",
    "s2v3_fsa_no_veg = s2v3_no_veg['fsa_score'].to_numpy()\n",
    "\n",
    "s3v1_fsa_no_veg = s3v1_no_veg['fsa_score'].to_numpy()\n",
    "s3v2_fsa_no_veg = s3v2_no_veg['fsa_score'].to_numpy()\n",
    "s3v3_fsa_no_veg = s3v3_no_veg['fsa_score'].to_numpy()"
   ]
  },
  {
   "cell_type": "code",
   "execution_count": 754,
   "id": "compatible-plant",
   "metadata": {},
   "outputs": [],
   "source": [
    "# Get FSA score for different within-subjects variable EXCLUDE ALLERGIES\n",
    "no_allerg_id = md['user_id'].loc[md['restrictions'] != \"allergies\"].values\n",
    "\n",
    "s1_no_allerg = s1[s1['user_id'].isin(no_allerg_id)]\n",
    "s2_no_allerg = s2[s2['user_id'].isin(no_allerg_id)]\n",
    "s3_no_allerg = s3[s3['user_id'].isin(no_allerg_id)]\n",
    "\n",
    "s1v1_no_allerg = s1_no_allerg.loc[s1_no_allerg['variant'] == 1]\n",
    "s1v2_no_allerg = s1_no_allerg.loc[s1_no_allerg['variant'] == 2]\n",
    "s1v3_no_allerg = s1_no_allerg.loc[s1_no_allerg['variant'] == 3]\n",
    "\n",
    "s1_fsa_no_allerg = s1_no_allerg['fsa_score'].to_numpy()\n",
    "s2_fsa_no_allerg = s2_no_allerg['fsa_score'].to_numpy()\n",
    "s3_fsa_no_allerg = s3_no_allerg['fsa_score'].to_numpy()\n",
    "\n",
    "# Condition 2 variants\n",
    "s2v1_no_allerg = s2_no_allerg.loc[s2_no_allerg['variant'] == 1]\n",
    "s2v2_no_allerg = s2_no_allerg.loc[s2_no_allerg['variant'] == 2]\n",
    "s2v3_no_allerg = s2_no_allerg.loc[s2_no_allerg['variant'] == 3]\n",
    "\n",
    "# Condition 3 variants\n",
    "s3v1_no_allerg = s3_no_allerg.loc[s3_no_allerg['variant'] == 1]\n",
    "s3v2_no_allerg = s3_no_allerg.loc[s3_no_allerg['variant'] == 2]\n",
    "s3v3_no_allerg = s3_no_allerg.loc[s3_no_allerg['variant'] == 3]\n",
    "\n",
    "s1v1_fsa_no_allerg = s1v1_no_allerg['fsa_score'].to_numpy()\n",
    "s1v2_fsa_no_allerg = s1v2_no_allerg['fsa_score'].to_numpy()\n",
    "s1v3_fsa_no_allerg = s1v3_no_allerg['fsa_score'].to_numpy()\n",
    "\n",
    "s2v1_fsa_no_allerg = s2v1_no_allerg['fsa_score'].to_numpy()\n",
    "s2v2_fsa_no_allerg = s2v2_no_allerg['fsa_score'].to_numpy()\n",
    "s2v3_fsa_no_allerg = s2v3_no_allerg['fsa_score'].to_numpy()\n",
    "\n",
    "s3v1_fsa_no_allerg = s3v1_no_allerg['fsa_score'].to_numpy()\n",
    "s3v2_fsa_no_allerg = s3v2_no_allerg['fsa_score'].to_numpy()\n",
    "s3v3_fsa_no_allerg = s3v3_no_allerg['fsa_score'].to_numpy()"
   ]
  },
  {
   "cell_type": "code",
   "execution_count": 903,
   "id": "dated-slave",
   "metadata": {},
   "outputs": [],
   "source": [
    "# Plot mean FSA distibution\n",
    "def plot_distribution(inp):\n",
    "    plt.figure()\n",
    "    ax = sns.distplot(inp)\n",
    "    plt.axvline(np.mean(inp), color=\"k\", linestyle=\"dashed\", linewidth=5)\n",
    "    _, max_ = plt.ylim()\n",
    "    plt.text(\n",
    "        inp.mean() + inp.mean() / 10,\n",
    "        max_ - max_ / 10,\n",
    "        \"Mean: {:.2f}\".format(inp.mean()),\n",
    "    )\n",
    "    return plt.figure"
   ]
  },
  {
   "cell_type": "markdown",
   "id": "fitted-forward",
   "metadata": {},
   "source": [
    "# RQ1: To what extent can front-of-pack nutrition labels be used to nudge users towards healthier recipes online? \n",
    "Summary of findings: \n",
    "1. Labels work \n",
    "2. MTL is the superior label as compared to Nutriscore in Popular, Health and Random ranking scenarios. \n",
    "3. No significant difference when comparing Americans and Europeans with regards to different variants"
   ]
  },
  {
   "cell_type": "markdown",
   "id": "grateful-flesh",
   "metadata": {},
   "source": [
    "# Two-way ANOVA\n",
    "To examine RQ1, a two-way repeated measures ANOVA was conducted to compare the influence of labels and ranking on the healthiness of recipes chosen across three different trials.\n"
   ]
  },
  {
   "cell_type": "code",
   "execution_count": 908,
   "id": "compliant-bulletin",
   "metadata": {},
   "outputs": [],
   "source": [
    "anova_df = ms[['user_id', 'fsa_score', 'variant', 'condition']]\n",
    "anova_df\n",
    "\n",
    "# Create a new column with names for each label\n",
    "def label_name (row):\n",
    "    if row['condition'] == 1 :\n",
    "        return 'Nutriscore'\n",
    "    if row['condition'] == 2 :\n",
    "        return 'MTL'\n",
    "    if row['condition'] == 3 :\n",
    "        return 'No-label'\n",
    "\n",
    "def rank_name (row):\n",
    "    if row['variant'] == 1 :\n",
    "        return 'Popular'\n",
    "    if row['variant'] == 2 :\n",
    "        return 'Random'\n",
    "    if row['variant'] == 3 :\n",
    "        return 'Health'\n",
    "\n",
    "anova_df['Label'] = anova_df.apply (lambda row: label_name(row), axis=1)\n",
    "anova_df['Rank'] = anova_df.apply (lambda row: rank_name(row), axis=1)"
   ]
  },
  {
   "cell_type": "code",
   "execution_count": 912,
   "id": "continuous-frame",
   "metadata": {},
   "outputs": [
    {
     "data": {
      "text/html": [
       "<div>\n",
       "<style scoped>\n",
       "    .dataframe tbody tr th:only-of-type {\n",
       "        vertical-align: middle;\n",
       "    }\n",
       "\n",
       "    .dataframe tbody tr th {\n",
       "        vertical-align: top;\n",
       "    }\n",
       "\n",
       "    .dataframe thead th {\n",
       "        text-align: right;\n",
       "    }\n",
       "</style>\n",
       "<table border=\"1\" class=\"dataframe\">\n",
       "  <thead>\n",
       "    <tr style=\"text-align: right;\">\n",
       "      <th></th>\n",
       "      <th>sum_sq</th>\n",
       "      <th>df</th>\n",
       "      <th>F</th>\n",
       "      <th>PR(&gt;F)</th>\n",
       "    </tr>\n",
       "  </thead>\n",
       "  <tbody>\n",
       "    <tr>\n",
       "      <th>C(Label, Treatment(reference=\"No-label\"))</th>\n",
       "      <td>665.768816</td>\n",
       "      <td>2.0</td>\n",
       "      <td>178.212781</td>\n",
       "      <td>2.908774e-72</td>\n",
       "    </tr>\n",
       "    <tr>\n",
       "      <th>C(Rank, Treatment(reference=\"Random\"))</th>\n",
       "      <td>2836.912342</td>\n",
       "      <td>2.0</td>\n",
       "      <td>759.383778</td>\n",
       "      <td>2.143503e-249</td>\n",
       "    </tr>\n",
       "    <tr>\n",
       "      <th>C(Label):C(Rank)</th>\n",
       "      <td>12619.521355</td>\n",
       "      <td>8.0</td>\n",
       "      <td>844.497349</td>\n",
       "      <td>0.000000e+00</td>\n",
       "    </tr>\n",
       "    <tr>\n",
       "      <th>Residual</th>\n",
       "      <td>3958.089062</td>\n",
       "      <td>2119.0</td>\n",
       "      <td>NaN</td>\n",
       "      <td>NaN</td>\n",
       "    </tr>\n",
       "  </tbody>\n",
       "</table>\n",
       "</div>"
      ],
      "text/plain": [
       "                                                 sum_sq      df           F  \\\n",
       "C(Label, Treatment(reference=\"No-label\"))    665.768816     2.0  178.212781   \n",
       "C(Rank, Treatment(reference=\"Random\"))      2836.912342     2.0  759.383778   \n",
       "C(Label):C(Rank)                           12619.521355     8.0  844.497349   \n",
       "Residual                                    3958.089062  2119.0         NaN   \n",
       "\n",
       "                                                  PR(>F)  \n",
       "C(Label, Treatment(reference=\"No-label\"))   2.908774e-72  \n",
       "C(Rank, Treatment(reference=\"Random\"))     2.143503e-249  \n",
       "C(Label):C(Rank)                            0.000000e+00  \n",
       "Residual                                             NaN  "
      ]
     },
     "execution_count": 912,
     "metadata": {},
     "output_type": "execute_result"
    }
   ],
   "source": [
    "import statsmodels.api as sm\n",
    "from statsmodels.formula.api import ols\n",
    "\n",
    "#perform two-way ANOVA\n",
    "\n",
    "# Condition = Label\n",
    "# Variant = Ranking\n",
    "model = ols('fsa_score ~ C(Label, Treatment(reference=\"No-label\")) + C(Rank, Treatment(reference=\"Random\")) + C(Label):C(Rank)', data=anova_df).fit()\n",
    "sm = sm.stats.anova_lm(model, typ=2)\n",
    "sm\n",
    "#print(model.summary())\n",
    "#print(model.summary(xname=['Fred', 'Mary', 'Ethel', 'Bob', 'Fred', 'Mary', 'Ethel', 'Bob', \"jj\"]))"
   ]
  },
  {
   "cell_type": "code",
   "execution_count": 916,
   "id": "announced-engine",
   "metadata": {},
   "outputs": [
    {
     "ename": "AttributeError",
     "evalue": "'DataFrame' object has no attribute 'stats'",
     "output_type": "error",
     "traceback": [
      "\u001b[1;31m---------------------------------------------------------------------------\u001b[0m",
      "\u001b[1;31mAttributeError\u001b[0m                            Traceback (most recent call last)",
      "\u001b[1;32m<ipython-input-916-547497ece103>\u001b[0m in \u001b[0;36m<module>\u001b[1;34m\u001b[0m\n\u001b[0;32m      1\u001b[0m \u001b[0mmodel\u001b[0m \u001b[1;33m=\u001b[0m \u001b[0mols\u001b[0m\u001b[1;33m(\u001b[0m\u001b[1;34m'fsa_score ~ C(Label) + C(Rank) + C(Label):C(Rank)'\u001b[0m\u001b[1;33m,\u001b[0m \u001b[0mdata\u001b[0m\u001b[1;33m=\u001b[0m\u001b[0manova_df\u001b[0m\u001b[1;33m)\u001b[0m\u001b[1;33m.\u001b[0m\u001b[0mfit\u001b[0m\u001b[1;33m(\u001b[0m\u001b[1;33m)\u001b[0m\u001b[1;33m\u001b[0m\u001b[1;33m\u001b[0m\u001b[0m\n\u001b[1;32m----> 2\u001b[1;33m \u001b[0msm\u001b[0m\u001b[1;33m.\u001b[0m\u001b[0mstats\u001b[0m\u001b[1;33m.\u001b[0m\u001b[0manova_lm\u001b[0m\u001b[1;33m(\u001b[0m\u001b[0mmodel\u001b[0m\u001b[1;33m,\u001b[0m \u001b[0mtyp\u001b[0m\u001b[1;33m=\u001b[0m\u001b[1;36m2\u001b[0m\u001b[1;33m)\u001b[0m\u001b[1;33m\u001b[0m\u001b[1;33m\u001b[0m\u001b[0m\n\u001b[0m",
      "\u001b[1;32mC:\\ProgramData\\Anaconda3\\lib\\site-packages\\pandas\\core\\generic.py\u001b[0m in \u001b[0;36m__getattr__\u001b[1;34m(self, name)\u001b[0m\n\u001b[0;32m   5460\u001b[0m             \u001b[1;32mif\u001b[0m \u001b[0mself\u001b[0m\u001b[1;33m.\u001b[0m\u001b[0m_info_axis\u001b[0m\u001b[1;33m.\u001b[0m\u001b[0m_can_hold_identifiers_and_holds_name\u001b[0m\u001b[1;33m(\u001b[0m\u001b[0mname\u001b[0m\u001b[1;33m)\u001b[0m\u001b[1;33m:\u001b[0m\u001b[1;33m\u001b[0m\u001b[1;33m\u001b[0m\u001b[0m\n\u001b[0;32m   5461\u001b[0m                 \u001b[1;32mreturn\u001b[0m \u001b[0mself\u001b[0m\u001b[1;33m[\u001b[0m\u001b[0mname\u001b[0m\u001b[1;33m]\u001b[0m\u001b[1;33m\u001b[0m\u001b[1;33m\u001b[0m\u001b[0m\n\u001b[1;32m-> 5462\u001b[1;33m             \u001b[1;32mreturn\u001b[0m \u001b[0mobject\u001b[0m\u001b[1;33m.\u001b[0m\u001b[0m__getattribute__\u001b[0m\u001b[1;33m(\u001b[0m\u001b[0mself\u001b[0m\u001b[1;33m,\u001b[0m \u001b[0mname\u001b[0m\u001b[1;33m)\u001b[0m\u001b[1;33m\u001b[0m\u001b[1;33m\u001b[0m\u001b[0m\n\u001b[0m\u001b[0;32m   5463\u001b[0m \u001b[1;33m\u001b[0m\u001b[0m\n\u001b[0;32m   5464\u001b[0m     \u001b[1;32mdef\u001b[0m \u001b[0m__setattr__\u001b[0m\u001b[1;33m(\u001b[0m\u001b[0mself\u001b[0m\u001b[1;33m,\u001b[0m \u001b[0mname\u001b[0m\u001b[1;33m:\u001b[0m \u001b[0mstr\u001b[0m\u001b[1;33m,\u001b[0m \u001b[0mvalue\u001b[0m\u001b[1;33m)\u001b[0m \u001b[1;33m->\u001b[0m \u001b[1;32mNone\u001b[0m\u001b[1;33m:\u001b[0m\u001b[1;33m\u001b[0m\u001b[1;33m\u001b[0m\u001b[0m\n",
      "\u001b[1;31mAttributeError\u001b[0m: 'DataFrame' object has no attribute 'stats'"
     ]
    }
   ],
   "source": [
    "model = ols('fsa_score ~ C(Label) + C(Rank) + C(Label):C(Rank)', data=anova_df).fit()\n",
    "sm.stats.anova_lm(model, typ=2)\n"
   ]
  },
  {
   "cell_type": "code",
   "execution_count": 889,
   "id": "south-techno",
   "metadata": {},
   "outputs": [
    {
     "data": {
      "text/html": [
       "<div>\n",
       "<style scoped>\n",
       "    .dataframe tbody tr th:only-of-type {\n",
       "        vertical-align: middle;\n",
       "    }\n",
       "\n",
       "    .dataframe tbody tr th {\n",
       "        vertical-align: top;\n",
       "    }\n",
       "\n",
       "    .dataframe thead th {\n",
       "        text-align: right;\n",
       "    }\n",
       "</style>\n",
       "<table border=\"1\" class=\"dataframe\">\n",
       "  <thead>\n",
       "    <tr style=\"text-align: right;\">\n",
       "      <th></th>\n",
       "      <th>Source</th>\n",
       "      <th>SS</th>\n",
       "      <th>DF1</th>\n",
       "      <th>DF2</th>\n",
       "      <th>MS</th>\n",
       "      <th>F</th>\n",
       "      <th>p-unc</th>\n",
       "      <th>np2</th>\n",
       "      <th>eps</th>\n",
       "    </tr>\n",
       "  </thead>\n",
       "  <tbody>\n",
       "    <tr>\n",
       "      <th>0</th>\n",
       "      <td>Label</td>\n",
       "      <td>31.547183</td>\n",
       "      <td>2</td>\n",
       "      <td>710</td>\n",
       "      <td>15.773592</td>\n",
       "      <td>7.927632</td>\n",
       "      <td>0.000394</td>\n",
       "      <td>0.021844</td>\n",
       "      <td>NaN</td>\n",
       "    </tr>\n",
       "    <tr>\n",
       "      <th>1</th>\n",
       "      <td>Rank</td>\n",
       "      <td>5.832846</td>\n",
       "      <td>2</td>\n",
       "      <td>1420</td>\n",
       "      <td>2.916423</td>\n",
       "      <td>1.626980</td>\n",
       "      <td>0.196888</td>\n",
       "      <td>0.002286</td>\n",
       "      <td>0.997709</td>\n",
       "    </tr>\n",
       "    <tr>\n",
       "      <th>2</th>\n",
       "      <td>Interaction</td>\n",
       "      <td>1.662018</td>\n",
       "      <td>4</td>\n",
       "      <td>1420</td>\n",
       "      <td>0.415505</td>\n",
       "      <td>0.231797</td>\n",
       "      <td>0.920577</td>\n",
       "      <td>0.000653</td>\n",
       "      <td>NaN</td>\n",
       "    </tr>\n",
       "  </tbody>\n",
       "</table>\n",
       "</div>"
      ],
      "text/plain": [
       "        Source         SS  DF1   DF2         MS         F     p-unc       np2  \\\n",
       "0        Label  31.547183    2   710  15.773592  7.927632  0.000394  0.021844   \n",
       "1         Rank   5.832846    2  1420   2.916423  1.626980  0.196888  0.002286   \n",
       "2  Interaction   1.662018    4  1420   0.415505  0.231797  0.920577  0.000653   \n",
       "\n",
       "        eps  \n",
       "0       NaN  \n",
       "1  0.997709  \n",
       "2       NaN  "
      ]
     },
     "execution_count": 889,
     "metadata": {},
     "output_type": "execute_result"
    }
   ],
   "source": [
    "aov = pg.mixed_anova(dv='fsa_score',\n",
    "                  within='Rank',\n",
    "                  between='Label',\n",
    "                  subject='user_id', data=anova_df)\n",
    "aov"
   ]
  },
  {
   "cell_type": "code",
   "execution_count": 890,
   "id": "dependent-carrier",
   "metadata": {},
   "outputs": [
    {
     "data": {
      "text/html": [
       "<div>\n",
       "<style scoped>\n",
       "    .dataframe tbody tr th:only-of-type {\n",
       "        vertical-align: middle;\n",
       "    }\n",
       "\n",
       "    .dataframe tbody tr th {\n",
       "        vertical-align: top;\n",
       "    }\n",
       "\n",
       "    .dataframe thead th {\n",
       "        text-align: right;\n",
       "    }\n",
       "</style>\n",
       "<table border=\"1\" class=\"dataframe\">\n",
       "  <thead>\n",
       "    <tr style=\"text-align: right;\">\n",
       "      <th></th>\n",
       "      <th>Contrast</th>\n",
       "      <th>Rank</th>\n",
       "      <th>A</th>\n",
       "      <th>B</th>\n",
       "      <th>Paired</th>\n",
       "      <th>Parametric</th>\n",
       "      <th>T</th>\n",
       "      <th>dof</th>\n",
       "      <th>Tail</th>\n",
       "      <th>p-unc</th>\n",
       "      <th>BF10</th>\n",
       "      <th>hedges</th>\n",
       "    </tr>\n",
       "  </thead>\n",
       "  <tbody>\n",
       "    <tr>\n",
       "      <th>0</th>\n",
       "      <td>Rank</td>\n",
       "      <td>-</td>\n",
       "      <td>Health</td>\n",
       "      <td>Popular</td>\n",
       "      <td>True</td>\n",
       "      <td>True</td>\n",
       "      <td>1.396878</td>\n",
       "      <td>691.000000</td>\n",
       "      <td>two-sided</td>\n",
       "      <td>0.162899</td>\n",
       "      <td>0.113</td>\n",
       "      <td>0.074162</td>\n",
       "    </tr>\n",
       "    <tr>\n",
       "      <th>1</th>\n",
       "      <td>Rank</td>\n",
       "      <td>-</td>\n",
       "      <td>Health</td>\n",
       "      <td>Random</td>\n",
       "      <td>True</td>\n",
       "      <td>True</td>\n",
       "      <td>1.616148</td>\n",
       "      <td>691.000000</td>\n",
       "      <td>two-sided</td>\n",
       "      <td>0.106519</td>\n",
       "      <td>0.157</td>\n",
       "      <td>0.084674</td>\n",
       "    </tr>\n",
       "    <tr>\n",
       "      <th>2</th>\n",
       "      <td>Rank</td>\n",
       "      <td>-</td>\n",
       "      <td>Popular</td>\n",
       "      <td>Random</td>\n",
       "      <td>True</td>\n",
       "      <td>True</td>\n",
       "      <td>0.174479</td>\n",
       "      <td>691.000000</td>\n",
       "      <td>two-sided</td>\n",
       "      <td>0.861540</td>\n",
       "      <td>0.043</td>\n",
       "      <td>0.009637</td>\n",
       "    </tr>\n",
       "    <tr>\n",
       "      <th>3</th>\n",
       "      <td>Label</td>\n",
       "      <td>-</td>\n",
       "      <td>MTL</td>\n",
       "      <td>No-label</td>\n",
       "      <td>False</td>\n",
       "      <td>True</td>\n",
       "      <td>-3.980833</td>\n",
       "      <td>457.913022</td>\n",
       "      <td>two-sided</td>\n",
       "      <td>0.000080</td>\n",
       "      <td>202.062</td>\n",
       "      <td>-0.370242</td>\n",
       "    </tr>\n",
       "    <tr>\n",
       "      <th>4</th>\n",
       "      <td>Label</td>\n",
       "      <td>-</td>\n",
       "      <td>MTL</td>\n",
       "      <td>Nutriscore</td>\n",
       "      <td>False</td>\n",
       "      <td>True</td>\n",
       "      <td>-1.243363</td>\n",
       "      <td>460.000000</td>\n",
       "      <td>two-sided</td>\n",
       "      <td>0.214368</td>\n",
       "      <td>0.218</td>\n",
       "      <td>-0.115504</td>\n",
       "    </tr>\n",
       "    <tr>\n",
       "      <th>5</th>\n",
       "      <td>Label</td>\n",
       "      <td>-</td>\n",
       "      <td>No-label</td>\n",
       "      <td>Nutriscore</td>\n",
       "      <td>False</td>\n",
       "      <td>True</td>\n",
       "      <td>2.760338</td>\n",
       "      <td>458.055782</td>\n",
       "      <td>two-sided</td>\n",
       "      <td>0.006006</td>\n",
       "      <td>4.061</td>\n",
       "      <td>0.256727</td>\n",
       "    </tr>\n",
       "    <tr>\n",
       "      <th>6</th>\n",
       "      <td>Rank * Label</td>\n",
       "      <td>Health</td>\n",
       "      <td>MTL</td>\n",
       "      <td>No-label</td>\n",
       "      <td>False</td>\n",
       "      <td>True</td>\n",
       "      <td>-2.363636</td>\n",
       "      <td>458.255864</td>\n",
       "      <td>two-sided</td>\n",
       "      <td>0.018513</td>\n",
       "      <td>1.533</td>\n",
       "      <td>-0.219790</td>\n",
       "    </tr>\n",
       "    <tr>\n",
       "      <th>7</th>\n",
       "      <td>Rank * Label</td>\n",
       "      <td>Health</td>\n",
       "      <td>MTL</td>\n",
       "      <td>Nutriscore</td>\n",
       "      <td>False</td>\n",
       "      <td>True</td>\n",
       "      <td>-0.329935</td>\n",
       "      <td>460.000000</td>\n",
       "      <td>two-sided</td>\n",
       "      <td>0.741599</td>\n",
       "      <td>0.109</td>\n",
       "      <td>-0.030650</td>\n",
       "    </tr>\n",
       "    <tr>\n",
       "      <th>8</th>\n",
       "      <td>Rank * Label</td>\n",
       "      <td>Health</td>\n",
       "      <td>No-label</td>\n",
       "      <td>Nutriscore</td>\n",
       "      <td>False</td>\n",
       "      <td>True</td>\n",
       "      <td>2.047134</td>\n",
       "      <td>458.743915</td>\n",
       "      <td>two-sided</td>\n",
       "      <td>0.041214</td>\n",
       "      <td>0.783</td>\n",
       "      <td>0.190366</td>\n",
       "    </tr>\n",
       "    <tr>\n",
       "      <th>9</th>\n",
       "      <td>Rank * Label</td>\n",
       "      <td>Popular</td>\n",
       "      <td>MTL</td>\n",
       "      <td>No-label</td>\n",
       "      <td>False</td>\n",
       "      <td>True</td>\n",
       "      <td>-2.533285</td>\n",
       "      <td>452.936296</td>\n",
       "      <td>two-sided</td>\n",
       "      <td>0.011636</td>\n",
       "      <td>2.283</td>\n",
       "      <td>-0.235646</td>\n",
       "    </tr>\n",
       "    <tr>\n",
       "      <th>10</th>\n",
       "      <td>Rank * Label</td>\n",
       "      <td>Popular</td>\n",
       "      <td>MTL</td>\n",
       "      <td>Nutriscore</td>\n",
       "      <td>False</td>\n",
       "      <td>True</td>\n",
       "      <td>-0.489657</td>\n",
       "      <td>460.000000</td>\n",
       "      <td>two-sided</td>\n",
       "      <td>0.624610</td>\n",
       "      <td>0.116</td>\n",
       "      <td>-0.045488</td>\n",
       "    </tr>\n",
       "    <tr>\n",
       "      <th>11</th>\n",
       "      <td>Rank * Label</td>\n",
       "      <td>Popular</td>\n",
       "      <td>No-label</td>\n",
       "      <td>Nutriscore</td>\n",
       "      <td>False</td>\n",
       "      <td>True</td>\n",
       "      <td>1.973601</td>\n",
       "      <td>458.515063</td>\n",
       "      <td>two-sided</td>\n",
       "      <td>0.049027</td>\n",
       "      <td>0.679</td>\n",
       "      <td>0.183551</td>\n",
       "    </tr>\n",
       "    <tr>\n",
       "      <th>12</th>\n",
       "      <td>Rank * Label</td>\n",
       "      <td>Random</td>\n",
       "      <td>MTL</td>\n",
       "      <td>No-label</td>\n",
       "      <td>False</td>\n",
       "      <td>True</td>\n",
       "      <td>-2.024254</td>\n",
       "      <td>458.980613</td>\n",
       "      <td>two-sided</td>\n",
       "      <td>0.043523</td>\n",
       "      <td>0.749</td>\n",
       "      <td>-0.188251</td>\n",
       "    </tr>\n",
       "    <tr>\n",
       "      <th>13</th>\n",
       "      <td>Rank * Label</td>\n",
       "      <td>Random</td>\n",
       "      <td>MTL</td>\n",
       "      <td>Nutriscore</td>\n",
       "      <td>False</td>\n",
       "      <td>True</td>\n",
       "      <td>-1.340345</td>\n",
       "      <td>460.000000</td>\n",
       "      <td>two-sided</td>\n",
       "      <td>0.180795</td>\n",
       "      <td>0.247</td>\n",
       "      <td>-0.124514</td>\n",
       "    </tr>\n",
       "    <tr>\n",
       "      <th>14</th>\n",
       "      <td>Rank * Label</td>\n",
       "      <td>Random</td>\n",
       "      <td>No-label</td>\n",
       "      <td>Nutriscore</td>\n",
       "      <td>False</td>\n",
       "      <td>True</td>\n",
       "      <td>0.723449</td>\n",
       "      <td>458.149684</td>\n",
       "      <td>two-sided</td>\n",
       "      <td>0.469773</td>\n",
       "      <td>0.133</td>\n",
       "      <td>0.067284</td>\n",
       "    </tr>\n",
       "  </tbody>\n",
       "</table>\n",
       "</div>"
      ],
      "text/plain": [
       "        Contrast     Rank         A           B Paired  Parametric         T  \\\n",
       "0           Rank        -    Health     Popular   True        True  1.396878   \n",
       "1           Rank        -    Health      Random   True        True  1.616148   \n",
       "2           Rank        -   Popular      Random   True        True  0.174479   \n",
       "3          Label        -       MTL    No-label  False        True -3.980833   \n",
       "4          Label        -       MTL  Nutriscore  False        True -1.243363   \n",
       "5          Label        -  No-label  Nutriscore  False        True  2.760338   \n",
       "6   Rank * Label   Health       MTL    No-label  False        True -2.363636   \n",
       "7   Rank * Label   Health       MTL  Nutriscore  False        True -0.329935   \n",
       "8   Rank * Label   Health  No-label  Nutriscore  False        True  2.047134   \n",
       "9   Rank * Label  Popular       MTL    No-label  False        True -2.533285   \n",
       "10  Rank * Label  Popular       MTL  Nutriscore  False        True -0.489657   \n",
       "11  Rank * Label  Popular  No-label  Nutriscore  False        True  1.973601   \n",
       "12  Rank * Label   Random       MTL    No-label  False        True -2.024254   \n",
       "13  Rank * Label   Random       MTL  Nutriscore  False        True -1.340345   \n",
       "14  Rank * Label   Random  No-label  Nutriscore  False        True  0.723449   \n",
       "\n",
       "           dof       Tail     p-unc     BF10    hedges  \n",
       "0   691.000000  two-sided  0.162899    0.113  0.074162  \n",
       "1   691.000000  two-sided  0.106519    0.157  0.084674  \n",
       "2   691.000000  two-sided  0.861540    0.043  0.009637  \n",
       "3   457.913022  two-sided  0.000080  202.062 -0.370242  \n",
       "4   460.000000  two-sided  0.214368    0.218 -0.115504  \n",
       "5   458.055782  two-sided  0.006006    4.061  0.256727  \n",
       "6   458.255864  two-sided  0.018513    1.533 -0.219790  \n",
       "7   460.000000  two-sided  0.741599    0.109 -0.030650  \n",
       "8   458.743915  two-sided  0.041214    0.783  0.190366  \n",
       "9   452.936296  two-sided  0.011636    2.283 -0.235646  \n",
       "10  460.000000  two-sided  0.624610    0.116 -0.045488  \n",
       "11  458.515063  two-sided  0.049027    0.679  0.183551  \n",
       "12  458.980613  two-sided  0.043523    0.749 -0.188251  \n",
       "13  460.000000  two-sided  0.180795    0.247 -0.124514  \n",
       "14  458.149684  two-sided  0.469773    0.133  0.067284  "
      ]
     },
     "execution_count": 890,
     "metadata": {},
     "output_type": "execute_result"
    }
   ],
   "source": [
    "# Balance data (remove where user_id only selected 2 recipes)\n",
    "anova_df = anova_df[anova_df['user_id'].map(anova_df['user_id'].value_counts()) > 2]\n",
    "\n",
    "pg.pairwise_ttests(data=anova_df, dv='fsa_score', between='Label', within='Rank', subject='user_id')"
   ]
  },
  {
   "cell_type": "code",
   "execution_count": 826,
   "id": "complete-unemployment",
   "metadata": {},
   "outputs": [
    {
     "name": "stdout",
     "output_type": "stream",
     "text": [
      "                            OLS Regression Results                            \n",
      "==============================================================================\n",
      "Dep. Variable:              fsa_score   R-squared:                       0.010\n",
      "Model:                            OLS   Adj. R-squared:                  0.006\n",
      "Method:                 Least Squares   F-statistic:                     2.613\n",
      "Date:                Tue, 27 Apr 2021   Prob (F-statistic):            0.00762\n",
      "Time:                        12:30:04   Log-Likelihood:                -3679.8\n",
      "No. Observations:                2128   AIC:                             7378.\n",
      "Df Residuals:                    2119   BIC:                             7429.\n",
      "Df Model:                           8                                         \n",
      "Covariance Type:            nonrobust                                         \n",
      "===========================================================================================================================\n",
      "                                                              coef    std err          t      P>|t|      [0.025      0.975]\n",
      "---------------------------------------------------------------------------------------------------------------------------\n",
      "Intercept                                                   4.0694      0.024    172.428      0.000       4.023       4.116\n",
      "C(Label, Treatment(reference=\"No-label\"))[T.MTL]            0.6530      0.051     12.802      0.000       0.553       0.753\n",
      "C(Label, Treatment(reference=\"No-label\"))[T.Nutriscore]     0.5728      0.040     14.310      0.000       0.494       0.651\n",
      "C(Rank, Treatment(reference=\"Random\"))[T.Health]            1.7079      0.068     25.021      0.000       1.574       1.842\n",
      "C(Rank, Treatment(reference=\"Random\"))[T.Popular]           0.7970      0.042     19.013      0.000       0.715       0.879\n",
      "C(Rank)[T.Popular]                                          0.7970      0.042     19.013      0.000       0.715       0.879\n",
      "C(Rank)[T.Random]                                           1.5645      0.068     22.920      0.000       1.431       1.698\n",
      "C(Label)[T.No-label]:C(Rank)[Health]                        0.9526      0.105      9.062      0.000       0.746       1.159\n",
      "C(Label)[T.Nutriscore]:C(Rank)[Health]                      0.1478      0.103      1.434      0.152      -0.054       0.350\n",
      "C(Label)[T.No-label]:C(Rank)[Popular]                       0.9737      0.107      9.095      0.000       0.764       1.184\n",
      "C(Label)[T.Nutriscore]:C(Rank)[Popular]                     0.1698      0.104      1.633      0.103      -0.034       0.374\n",
      "C(Label)[T.No-label]:C(Rank)[Random]                        0.9174      0.105      8.702      0.000       0.711       1.124\n",
      "C(Label)[T.Nutriscore]:C(Rank)[Random]                      0.2552      0.103      2.470      0.014       0.053       0.458\n",
      "==============================================================================\n",
      "Omnibus:                       84.423   Durbin-Watson:                   0.189\n",
      "Prob(Omnibus):                  0.000   Jarque-Bera (JB):               59.440\n",
      "Skew:                           0.301   Prob(JB):                     1.24e-13\n",
      "Kurtosis:                       2.446   Cond. No.                     4.38e+16\n",
      "==============================================================================\n",
      "\n",
      "Notes:\n",
      "[1] Standard Errors assume that the covariance matrix of the errors is correctly specified.\n",
      "[2] The smallest eigenvalue is 1.96e-30. This might indicate that there are\n",
      "strong multicollinearity problems or that the design matrix is singular.\n"
     ]
    }
   ],
   "source": [
    "print(model.summary())"
   ]
  },
  {
   "cell_type": "code",
   "execution_count": 827,
   "id": "domestic-attribute",
   "metadata": {},
   "outputs": [
    {
     "data": {
      "text/plain": [
       "Intercept                                                   0.000000e+00\n",
       "C(Label, Treatment(reference=\"No-label\"))[T.MTL]            3.396930e-36\n",
       "C(Label, Treatment(reference=\"No-label\"))[T.Nutriscore]     2.072140e-44\n",
       "C(Rank, Treatment(reference=\"Random\"))[T.Health]           2.804405e-121\n",
       "C(Rank, Treatment(reference=\"Random\"))[T.Popular]           1.510375e-74\n",
       "C(Rank)[T.Popular]                                          1.510375e-74\n",
       "C(Rank)[T.Random]                                          4.837386e-104\n",
       "C(Label)[T.No-label]:C(Rank)[Health]                        2.835863e-19\n",
       "C(Label)[T.Nutriscore]:C(Rank)[Health]                      1.518104e-01\n",
       "C(Label)[T.No-label]:C(Rank)[Popular]                       2.124546e-19\n",
       "C(Label)[T.Nutriscore]:C(Rank)[Popular]                     1.025919e-01\n",
       "C(Label)[T.No-label]:C(Rank)[Random]                        6.438016e-18\n",
       "C(Label)[T.Nutriscore]:C(Rank)[Random]                      1.357953e-02\n",
       "dtype: float64"
      ]
     },
     "execution_count": 827,
     "metadata": {},
     "output_type": "execute_result"
    }
   ],
   "source": [
    "# estimate the p-values\n",
    "model.pvalues"
   ]
  },
  {
   "cell_type": "code",
   "execution_count": 829,
   "id": "endless-calvin",
   "metadata": {},
   "outputs": [
    {
     "name": "stdout",
     "output_type": "stream",
     "text": [
      "                       sum_sq      df            F    PR(>F)\n",
      "Intercept         9799.898734     1.0  5246.467448  0.000000\n",
      "C(Label)            11.710180     2.0     3.134577  0.043720\n",
      "C(Rank)              2.720113     2.0     0.728119  0.482937\n",
      "C(Label):C(Rank)     1.693526     4.0     0.226661  0.923572\n",
      "Residual          3958.089062  2119.0          NaN       NaN\n",
      "                            OLS Regression Results                            \n",
      "==============================================================================\n",
      "Dep. Variable:              fsa_score   R-squared:                       0.010\n",
      "Model:                            OLS   Adj. R-squared:                  0.006\n",
      "Method:                 Least Squares   F-statistic:                     2.613\n",
      "Date:                Tue, 27 Apr 2021   Prob (F-statistic):            0.00762\n",
      "Time:                        12:38:08   Log-Likelihood:                -3679.8\n",
      "No. Observations:                2128   AIC:                             7378.\n",
      "Df Residuals:                    2119   BIC:                             7429.\n",
      "Df Model:                           8                                         \n",
      "Covariance Type:            nonrobust                                         \n",
      "=============================================================================================================\n",
      "                                                coef    std err          t      P>|t|      [0.025      0.975]\n",
      "-------------------------------------------------------------------------------------------------------------\n",
      "Intercept                                     6.4304      0.089     72.433      0.000       6.256       6.604\n",
      "C(Label)[T.No-label]                          0.2996      0.126      2.386      0.017       0.053       0.546\n",
      "C(Label)[T.Nutriscore]                        0.0675      0.125      0.539      0.590      -0.178       0.313\n",
      "C(Rank)[T.Popular]                           -0.1139      0.126     -0.907      0.364      -0.360       0.132\n",
      "C(Rank)[T.Random]                            -0.1435      0.126     -1.143      0.253      -0.390       0.103\n",
      "C(Label)[T.No-label]:C(Rank)[T.Popular]       0.0211      0.178      0.119      0.905      -0.327       0.369\n",
      "C(Label)[T.Nutriscore]:C(Rank)[T.Popular]     0.0220      0.178      0.124      0.901      -0.326       0.370\n",
      "C(Label)[T.No-label]:C(Rank)[T.Random]       -0.0352      0.178     -0.198      0.843      -0.384       0.314\n",
      "C(Label)[T.Nutriscore]:C(Rank)[T.Random]      0.1074      0.177      0.605      0.545      -0.241       0.455\n",
      "==============================================================================\n",
      "Omnibus:                       84.423   Durbin-Watson:                   0.189\n",
      "Prob(Omnibus):                  0.000   Jarque-Bera (JB):               59.440\n",
      "Skew:                           0.301   Prob(JB):                     1.24e-13\n",
      "Kurtosis:                       2.446   Cond. No.                         13.9\n",
      "==============================================================================\n",
      "\n",
      "Notes:\n",
      "[1] Standard Errors assume that the covariance matrix of the errors is correctly specified.\n"
     ]
    }
   ],
   "source": [
    "import statsmodels.api as sm\n",
    "from statsmodels.formula.api import ols\n",
    "\n",
    "#perform two-way ANOVA\n",
    "\n",
    "# Condition = Label\n",
    "# Variant = Ranking\n",
    "model = ols('fsa_score ~ C(Label) + C(Rank) + C(Label):C(Rank)', data=anova_df).fit()\n",
    "sm = sm.stats.anova_lm(model, typ=3)\n",
    "print(sm)\n",
    "print(model.summary())\n",
    "#print(model.summary(xname=['Fred', 'Mary', 'Ethel', 'Bob', 'Fred', 'Mary', 'Ethel', 'Bob', \"jj\"]))"
   ]
  },
  {
   "cell_type": "markdown",
   "id": "white-uruguay",
   "metadata": {},
   "source": [
    "\n",
    "* Since the p-values for label is less than .05, this means that label have a statistically significant effect on FSA score. The p-value for ranking is greater than .05, and ranking does not have a statistically significant effect on FSA score. \n",
    "\n",
    "* And since the p-value for the interaction effect (.923572) is not less than .05, this tells us that there is no significant interaction effect between label and ranking. "
   ]
  },
  {
   "cell_type": "markdown",
   "id": "intended-particular",
   "metadata": {},
   "source": [
    "## Describe data"
   ]
  },
  {
   "cell_type": "markdown",
   "id": "nuclear-white",
   "metadata": {},
   "source": [
    "### Condition 1 FSA"
   ]
  },
  {
   "cell_type": "code",
   "execution_count": 925,
   "id": "large-curtis",
   "metadata": {},
   "outputs": [
    {
     "name": "stdout",
     "output_type": "stream",
     "text": [
      "Nutriscore: DescribeResult(nobs=709, minmax=(4, 10), mean=6.455571227080395, variance=1.8754950475325316, skewness=0.3671443279486478, kurtosis=-0.5185018012557832) \n",
      "\n",
      "MTL: DescribeResult(nobs=711, minmax=(4, 10), mean=6.344585091420535, variance=1.8092628909886885, skewness=0.35674269473784875, kurtosis=-0.4859481199041844) \n",
      "\n",
      "No-label: DescribeResult(nobs=708, minmax=(4, 10), mean=6.639830508474576, variance=1.9139416968331213, skewness=0.19467328727118807, kurtosis=-0.673602518333642) \n",
      "\n"
     ]
    }
   ],
   "source": [
    "print(\"Nutriscore:\", stats.describe(s1_fsa), \"\\n\")\n",
    "print(\"MTL:\", stats.describe(s2_fsa), \"\\n\")\n",
    "print(\"No-label:\", stats.describe(s3_fsa), \"\\n\")"
   ]
  },
  {
   "cell_type": "code",
   "execution_count": 492,
   "id": "compatible-overhead",
   "metadata": {},
   "outputs": [
    {
     "data": {
      "text/plain": [
       "DescribeResult(nobs=711, minmax=(4, 10), mean=6.344585091420535, variance=1.8092628909886885, skewness=0.35674269473784875, kurtosis=-0.4859481199041844)"
      ]
     },
     "execution_count": 492,
     "metadata": {},
     "output_type": "execute_result"
    }
   ],
   "source": [
    "stats.describe(s2_fsa)"
   ]
  },
  {
   "cell_type": "code",
   "execution_count": 493,
   "id": "strategic-portland",
   "metadata": {},
   "outputs": [
    {
     "data": {
      "text/plain": [
       "DescribeResult(nobs=708, minmax=(4, 10), mean=6.639830508474576, variance=1.9139416968331213, skewness=0.19467328727118807, kurtosis=-0.673602518333642)"
      ]
     },
     "execution_count": 493,
     "metadata": {},
     "output_type": "execute_result"
    }
   ],
   "source": [
    "stats.describe(s3_fsa)"
   ]
  },
  {
   "cell_type": "markdown",
   "id": "supreme-mobility",
   "metadata": {},
   "source": [
    "### Nutriscore FSA for different variants (Popular, random, health)"
   ]
  },
  {
   "cell_type": "code",
   "execution_count": 495,
   "id": "prostate-mention",
   "metadata": {},
   "outputs": [
    {
     "data": {
      "text/plain": [
       "DescribeResult(nobs=236, minmax=(4, 10), mean=6.398305084745763, variance=1.9087630724846731, skewness=0.5903834999525028, kurtosis=-0.25604072037938197)"
      ]
     },
     "execution_count": 495,
     "metadata": {},
     "output_type": "execute_result"
    }
   ],
   "source": [
    "stats.describe(s1v1_fsa)"
   ]
  },
  {
   "cell_type": "code",
   "execution_count": 498,
   "id": "fossil-beast",
   "metadata": {},
   "outputs": [
    {
     "data": {
      "text/plain": [
       "DescribeResult(nobs=239, minmax=(4, 10), mean=6.451882845188284, variance=1.7193136668893498, skewness=0.2674876825379554, kurtosis=-0.5680382463574736)"
      ]
     },
     "execution_count": 498,
     "metadata": {},
     "output_type": "execute_result"
    }
   ],
   "source": [
    "stats.describe(s1v2_fsa)"
   ]
  },
  {
   "cell_type": "code",
   "execution_count": 499,
   "id": "sticky-suspension",
   "metadata": {},
   "outputs": [
    {
     "data": {
      "text/plain": [
       "DescribeResult(nobs=244, minmax=(4, 10), mean=6.483606557377049, variance=1.9873844700802805, skewness=0.2586799768438279, kurtosis=-0.6638461659869201)"
      ]
     },
     "execution_count": 499,
     "metadata": {},
     "output_type": "execute_result"
    }
   ],
   "source": [
    "stats.describe(s1v3_fsa)"
   ]
  },
  {
   "cell_type": "markdown",
   "id": "greek-trademark",
   "metadata": {},
   "source": [
    "### MTL FSA for different variants (Popular, random, health)"
   ]
  },
  {
   "cell_type": "code",
   "execution_count": 501,
   "id": "organic-duration",
   "metadata": {},
   "outputs": [
    {
     "data": {
      "text/plain": [
       "DescribeResult(nobs=241, minmax=(4, 10), mean=6.327800829875518, variance=1.6295988934993086, skewness=0.4534031095030632, kurtosis=-0.22408674821556795)"
      ]
     },
     "execution_count": 501,
     "metadata": {},
     "output_type": "execute_result"
    }
   ],
   "source": [
    "stats.describe(s2v1_fsa)"
   ]
  },
  {
   "cell_type": "code",
   "execution_count": 503,
   "id": "isolated-judge",
   "metadata": {},
   "outputs": [
    {
     "data": {
      "text/plain": [
       "DescribeResult(nobs=242, minmax=(4, 10), mean=6.293388429752066, variance=1.801532869243167, skewness=0.32112497492850983, kurtosis=-0.5533146498315538)"
      ]
     },
     "execution_count": 503,
     "metadata": {},
     "output_type": "execute_result"
    }
   ],
   "source": [
    "stats.describe(s2v2_fsa)"
   ]
  },
  {
   "cell_type": "code",
   "execution_count": 502,
   "id": "expanded-generator",
   "metadata": {},
   "outputs": [
    {
     "data": {
      "text/plain": [
       "DescribeResult(nobs=244, minmax=(4, 10), mean=6.418032786885246, variance=1.9809080483033124, skewness=0.2610586188287066, kurtosis=-0.6699139915866557)"
      ]
     },
     "execution_count": 502,
     "metadata": {},
     "output_type": "execute_result"
    }
   ],
   "source": [
    "stats.describe(s2v3_fsa)"
   ]
  },
  {
   "cell_type": "markdown",
   "id": "understanding-circuit",
   "metadata": {},
   "source": [
    "### No-label FSA for different variants (Popular, random, health)"
   ]
  },
  {
   "cell_type": "code",
   "execution_count": 506,
   "id": "presidential-switch",
   "metadata": {},
   "outputs": [
    {
     "data": {
      "text/plain": [
       "DescribeResult(nobs=237, minmax=(4, 10), mean=6.637130801687764, variance=2.0711578345133375, skewness=0.2584584384867445, kurtosis=-0.8007448935984973)"
      ]
     },
     "execution_count": 506,
     "metadata": {},
     "output_type": "execute_result"
    }
   ],
   "source": [
    "stats.describe(s3v1_fsa)"
   ]
  },
  {
   "cell_type": "code",
   "execution_count": 505,
   "id": "objective-active",
   "metadata": {},
   "outputs": [
    {
     "data": {
      "text/plain": [
       "DescribeResult(nobs=236, minmax=(4, 10), mean=6.555084745762712, variance=1.7969527587450411, skewness=0.19017789636331284, kurtosis=-0.5153950336646007)"
      ]
     },
     "execution_count": 505,
     "metadata": {},
     "output_type": "execute_result"
    }
   ],
   "source": [
    "stats.describe(s3v2_fsa)"
   ]
  },
  {
   "cell_type": "code",
   "execution_count": 504,
   "id": "comparable-cloud",
   "metadata": {},
   "outputs": [
    {
     "data": {
      "text/plain": [
       "DescribeResult(nobs=239, minmax=(4, 10), mean=6.7322175732217575, variance=1.8607643894377843, skewness=0.1133981845230343, kurtosis=-0.6828856892853268)"
      ]
     },
     "execution_count": 504,
     "metadata": {},
     "output_type": "execute_result"
    }
   ],
   "source": [
    "stats.describe(s3v3_fsa)"
   ]
  },
  {
   "cell_type": "markdown",
   "id": "living-bargain",
   "metadata": {},
   "source": [
    "## FSA score distibution"
   ]
  },
  {
   "cell_type": "code",
   "execution_count": 513,
   "id": "statewide-opening",
   "metadata": {},
   "outputs": [
    {
     "data": {
      "text/plain": [
       "<matplotlib.lines.Line2D at 0x1746eeb3208>"
      ]
     },
     "execution_count": 513,
     "metadata": {},
     "output_type": "execute_result"
    },
    {
     "data": {
      "image/png": "[encoded data removed]",
      "text/plain": [
       "<Figure size 1440x720 with 1 Axes>"
      ]
     },
     "metadata": {},
     "output_type": "display_data"
    }
   ],
   "source": [
    "# Compare all conditions\n",
    "plt.figure()\n",
    "ax1 = sns.distplot(s1_fsa)\n",
    "ax2 = sns.distplot(s2_fsa)\n",
    "ax3 = sns.distplot(s3_fsa)\n",
    "plt.axvline(np.mean(s1_fsa), color='blue', linestyle='dashed', linewidth=5)    # Nutri-score\n",
    "plt.axvline(np.mean(s2_fsa), color='orange', linestyle='dashed', linewidth=5)  # MTL\n",
    "plt.axvline(np.mean(s3_fsa), color='green', linestyle='dashed', linewidth=5)   # No-label"
   ]
  },
  {
   "cell_type": "markdown",
   "id": "working-dollar",
   "metadata": {},
   "source": [
    "* In the MTL condition participants choose the healthiest recipes overall \n",
    "* As expected participants in the No-label condition choose the least healthy recipes"
   ]
  },
  {
   "cell_type": "markdown",
   "id": "intensive-bracket",
   "metadata": {},
   "source": [
    "# Compare FSA between conditions (between subjects variable = Label)\n",
    "* Compare the means between groups and determine whether any of those means are statistically significantly different from each other.\n",
    "* FSA score = dependent variable"
   ]
  },
  {
   "cell_type": "code",
   "execution_count": 896,
   "id": "documentary-atlas",
   "metadata": {},
   "outputs": [
    {
     "data": {
      "text/plain": [
       "F_onewayResult(statistic=8.45244551039327, pvalue=0.00022063470737275636)"
      ]
     },
     "execution_count": 896,
     "metadata": {},
     "output_type": "execute_result"
    }
   ],
   "source": [
    "# ANOVA\n",
    "f_oneway(s1_fsa, s2_fsa, s3_fsa)"
   ]
  },
  {
   "cell_type": "code",
   "execution_count": 902,
   "id": "painful-apollo",
   "metadata": {},
   "outputs": [
    {
     "data": {
      "text/html": [
       "<div>\n",
       "<style scoped>\n",
       "    .dataframe tbody tr th:only-of-type {\n",
       "        vertical-align: middle;\n",
       "    }\n",
       "\n",
       "    .dataframe tbody tr th {\n",
       "        vertical-align: top;\n",
       "    }\n",
       "\n",
       "    .dataframe thead th {\n",
       "        text-align: right;\n",
       "    }\n",
       "</style>\n",
       "<table border=\"1\" class=\"dataframe\">\n",
       "  <thead>\n",
       "    <tr style=\"text-align: right;\">\n",
       "      <th></th>\n",
       "      <th>Source</th>\n",
       "      <th>SS</th>\n",
       "      <th>DF</th>\n",
       "      <th>MS</th>\n",
       "      <th>F</th>\n",
       "      <th>p-unc</th>\n",
       "      <th>np2</th>\n",
       "    </tr>\n",
       "  </thead>\n",
       "  <tbody>\n",
       "    <tr>\n",
       "      <th>0</th>\n",
       "      <td>condition</td>\n",
       "      <td>31.547183</td>\n",
       "      <td>2</td>\n",
       "      <td>15.773592</td>\n",
       "      <td>8.452446</td>\n",
       "      <td>0.000221</td>\n",
       "      <td>0.007892</td>\n",
       "    </tr>\n",
       "    <tr>\n",
       "      <th>1</th>\n",
       "      <td>Within</td>\n",
       "      <td>3965.583926</td>\n",
       "      <td>2125</td>\n",
       "      <td>1.866157</td>\n",
       "      <td>NaN</td>\n",
       "      <td>NaN</td>\n",
       "      <td>NaN</td>\n",
       "    </tr>\n",
       "  </tbody>\n",
       "</table>\n",
       "</div>"
      ],
      "text/plain": [
       "      Source           SS    DF         MS         F     p-unc       np2\n",
       "0  condition    31.547183     2  15.773592  8.452446  0.000221  0.007892\n",
       "1     Within  3965.583926  2125   1.866157       NaN       NaN       NaN"
      ]
     },
     "execution_count": 902,
     "metadata": {},
     "output_type": "execute_result"
    }
   ],
   "source": [
    "# Run the ANOVA\n",
    "import pingouin as pg\n",
    "\n",
    "aov = pg.anova(data=ms, dv='fsa_score', between='condition', detailed=True)\n",
    "aov"
   ]
  },
  {
   "cell_type": "code",
   "execution_count": 416,
   "id": "raised-democracy",
   "metadata": {},
   "outputs": [
    {
     "data": {
      "text/plain": [
       "F_onewayResult(statistic=7.977573001172848, pvalue=0.0003541373746782644)"
      ]
     },
     "execution_count": 416,
     "metadata": {},
     "output_type": "execute_result"
    }
   ],
   "source": [
    "# Same as above but exclude vegans\n",
    "f_oneway(s1_fsa_no_veg, s2_fsa_no_veg, s3_fsa_no_veg)"
   ]
  },
  {
   "cell_type": "code",
   "execution_count": 419,
   "id": "interstate-foundation",
   "metadata": {},
   "outputs": [
    {
     "data": {
      "text/plain": [
       "F_onewayResult(statistic=8.283978746109065, pvalue=0.0002607167808299456)"
      ]
     },
     "execution_count": 419,
     "metadata": {},
     "output_type": "execute_result"
    }
   ],
   "source": [
    "# Same as above but exclude allergies\n",
    "f_oneway(s1_fsa_no_allerg, s2_fsa_no_allerg, s3_fsa_no_allerg)"
   ]
  },
  {
   "cell_type": "markdown",
   "id": "pointed-telescope",
   "metadata": {},
   "source": [
    "* There is a statistically significantly difference in the mean FSA score between the different between subjects variables (labels)"
   ]
  },
  {
   "cell_type": "markdown",
   "id": "hazardous-training",
   "metadata": {},
   "source": [
    "## Compare the specific between subjects variables using T-tests (Nutriscore, MTL, No-label)"
   ]
  },
  {
   "cell_type": "markdown",
   "id": "checked-middle",
   "metadata": {},
   "source": [
    "### Nutriscore - MTL"
   ]
  },
  {
   "cell_type": "code",
   "execution_count": 26,
   "id": "recreational-hospital",
   "metadata": {
    "scrolled": true
   },
   "outputs": [
    {
     "data": {
      "text/plain": [
       "Ttest_indResult(statistic=1.3814282781137508, pvalue=0.1673610243954001)"
      ]
     },
     "execution_count": 26,
     "metadata": {},
     "output_type": "execute_result"
    }
   ],
   "source": [
    "stats.ttest_ind(s1_fsa, s2_fsa)"
   ]
  },
  {
   "cell_type": "code",
   "execution_count": 421,
   "id": "valued-chart",
   "metadata": {},
   "outputs": [
    {
     "data": {
      "text/plain": [
       "Ttest_indResult(statistic=1.3319912649967725, pvalue=0.1830745668157754)"
      ]
     },
     "execution_count": 421,
     "metadata": {},
     "output_type": "execute_result"
    }
   ],
   "source": [
    "# Same as above but exclude allergies \n",
    "stats.ttest_ind(s1_fsa_no_allerg, s2_fsa_no_allerg)"
   ]
  },
  {
   "cell_type": "code",
   "execution_count": 422,
   "id": "stylish-craps",
   "metadata": {},
   "outputs": [
    {
     "data": {
      "text/plain": [
       "Ttest_indResult(statistic=1.3047090655284854, pvalue=0.19221952086941382)"
      ]
     },
     "execution_count": 422,
     "metadata": {},
     "output_type": "execute_result"
    }
   ],
   "source": [
    "# Same as above but exclude vegans\n",
    "stats.ttest_ind(s1_fsa_no_veg, s2_fsa_no_veg)"
   ]
  },
  {
   "cell_type": "markdown",
   "id": "pregnant-cocktail",
   "metadata": {},
   "source": [
    "* There is no statistically significantly difference in the dependent variable (FSA score) between Nutriscore and MTL \n",
    "* We expected the MTL label to perform better for people with higher food knowledge/trying to avoid certain nutrients\n",
    "* We expected Nutriscore to perform better for people with lower food knowledge, because it makes it easier to determine the healthiness of a recipe without any prior knowledge of spcefic nutrients. "
   ]
  },
  {
   "cell_type": "markdown",
   "id": "african-vegetarian",
   "metadata": {},
   "source": [
    "###  Nutriscore - No label\n"
   ]
  },
  {
   "cell_type": "code",
   "execution_count": 27,
   "id": "indie-people",
   "metadata": {},
   "outputs": [
    {
     "data": {
      "text/plain": [
       "Ttest_indResult(statistic=-2.7082263589271407, pvalue=0.0068450937847506655)"
      ]
     },
     "execution_count": 27,
     "metadata": {},
     "output_type": "execute_result"
    }
   ],
   "source": [
    "stats.ttest_ind(s1_fsa, s3_fsa)"
   ]
  },
  {
   "cell_type": "code",
   "execution_count": 423,
   "id": "signed-entertainment",
   "metadata": {},
   "outputs": [
    {
     "data": {
      "text/plain": [
       "Ttest_indResult(statistic=-2.6516625752904215, pvalue=0.008098990809798813)"
      ]
     },
     "execution_count": 423,
     "metadata": {},
     "output_type": "execute_result"
    }
   ],
   "source": [
    "# Same as above but exclude allergies \n",
    "stats.ttest_ind(s1_fsa_no_allerg, s3_fsa_no_allerg)"
   ]
  },
  {
   "cell_type": "code",
   "execution_count": 424,
   "id": "tough-collapse",
   "metadata": {},
   "outputs": [
    {
     "data": {
      "text/plain": [
       "Ttest_indResult(statistic=-2.5497390265036204, pvalue=0.010893018418846977)"
      ]
     },
     "execution_count": 424,
     "metadata": {},
     "output_type": "execute_result"
    }
   ],
   "source": [
    "# Same as above but exclude vegans\n",
    "stats.ttest_ind(s1_fsa_no_veg, s3_fsa_no_veg)"
   ]
  },
  {
   "cell_type": "markdown",
   "id": "future-papua",
   "metadata": {},
   "source": [
    "* As expected there is a statistically significantly difference in the dependent variable FSA score between Nutriscore and No-label. "
   ]
  },
  {
   "cell_type": "markdown",
   "id": "political-killing",
   "metadata": {},
   "source": [
    "###  MTL - No label"
   ]
  },
  {
   "cell_type": "code",
   "execution_count": 427,
   "id": "temporal-plate",
   "metadata": {},
   "outputs": [
    {
     "data": {
      "text/plain": [
       "Ttest_indResult(statistic=-4.110555088579151, pvalue=4.170307723970711e-05)"
      ]
     },
     "execution_count": 427,
     "metadata": {},
     "output_type": "execute_result"
    }
   ],
   "source": [
    "stats.ttest_ind(s2_fsa, s3_fsa)"
   ]
  },
  {
   "cell_type": "code",
   "execution_count": 425,
   "id": "adverse-coupon",
   "metadata": {},
   "outputs": [
    {
     "data": {
      "text/plain": [
       "Ttest_indResult(statistic=-4.004024415714614, pvalue=6.547538649877777e-05)"
      ]
     },
     "execution_count": 425,
     "metadata": {},
     "output_type": "execute_result"
    }
   ],
   "source": [
    "# Same as above but exclude allergies \n",
    "stats.ttest_ind(s2_fsa_no_allerg, s3_fsa_no_allerg)"
   ]
  },
  {
   "cell_type": "code",
   "execution_count": 426,
   "id": "unnecessary-market",
   "metadata": {},
   "outputs": [
    {
     "data": {
      "text/plain": [
       "Ttest_indResult(statistic=-3.9372440708010745, pvalue=8.66145378054762e-05)"
      ]
     },
     "execution_count": 426,
     "metadata": {},
     "output_type": "execute_result"
    }
   ],
   "source": [
    "# Same as above but exclude vegans\n",
    "stats.ttest_ind(s2_fsa_no_veg, s3_fsa_no_veg)"
   ]
  },
  {
   "cell_type": "markdown",
   "id": "wrong-title",
   "metadata": {},
   "source": [
    "* As expected there is a statistically significantly difference in the dependent variable FSA score between Nutriscore and No-label. \n",
    "* The difference is greater than between Nutriscore and No-label, indicating that MTL is the superior label. Taking a closer look at this in cell XX. "
   ]
  },
  {
   "cell_type": "markdown",
   "id": "equivalent-detail",
   "metadata": {},
   "source": [
    "# Compare the within-subjects variable \"Ranking\" between conditions using T-tests (Popular, Random, Health)\n",
    "* Compare the different rankings to see if there are any significant differences in ranking overall"
   ]
  },
  {
   "cell_type": "code",
   "execution_count": 29,
   "id": "flush-webster",
   "metadata": {},
   "outputs": [
    {
     "data": {
      "text/plain": [
       "F_onewayResult(statistic=1.3383591509371504, pvalue=0.26249358040295084)"
      ]
     },
     "execution_count": 29,
     "metadata": {},
     "output_type": "execute_result"
    }
   ],
   "source": [
    "f_oneway(v1_rank_mean, v2_rank_mean, v3_rank_mean)"
   ]
  },
  {
   "cell_type": "code",
   "execution_count": 926,
   "id": "unavailable-throat",
   "metadata": {},
   "outputs": [
    {
     "data": {
      "text/plain": [
       "Ttest_indResult(statistic=0.28555592883713743, pvalue=0.7752601149584006)"
      ]
     },
     "execution_count": 926,
     "metadata": {},
     "output_type": "execute_result"
    }
   ],
   "source": [
    "# Popular rank - Random rank\n",
    "stats.ttest_ind(v1_rank_mean, v2_rank_mean)"
   ]
  },
  {
   "cell_type": "code",
   "execution_count": 31,
   "id": "daily-segment",
   "metadata": {},
   "outputs": [
    {
     "data": {
      "text/plain": [
       "Ttest_indResult(statistic=-1.2268893370030742, pvalue=0.22006488037094113)"
      ]
     },
     "execution_count": 31,
     "metadata": {},
     "output_type": "execute_result"
    }
   ],
   "source": [
    "# Popular rank - Health rank\n",
    "stats.ttest_ind(v1_rank_mean, v3_rank_mean)"
   ]
  },
  {
   "cell_type": "code",
   "execution_count": 515,
   "id": "worth-reality",
   "metadata": {},
   "outputs": [
    {
     "data": {
      "text/plain": [
       "Ttest_indResult(statistic=1.5424486363966807, pvalue=0.12318401962991636)"
      ]
     },
     "execution_count": 515,
     "metadata": {},
     "output_type": "execute_result"
    }
   ],
   "source": [
    "# Health - Random rank\n",
    "stats.ttest_ind(v3_rank_mean, v2_rank_mean)"
   ]
  },
  {
   "cell_type": "code",
   "execution_count": null,
   "id": "bronze-gathering",
   "metadata": {},
   "outputs": [],
   "source": [
    "f_oneway(s1_fsa, s2_fsa, s3_fsa)"
   ]
  },
  {
   "cell_type": "markdown",
   "id": "compact-explanation",
   "metadata": {},
   "source": [
    "* No significant difference in FSA score when looking only at the ranking. \n",
    "* Need to look at ranking in combination with labels -->"
   ]
  },
  {
   "cell_type": "markdown",
   "id": "effective-outdoors",
   "metadata": {},
   "source": [
    "# Compare FSA between conditions for specific within-subjects variables (ranking - Popular/Random/Health)"
   ]
  },
  {
   "cell_type": "markdown",
   "id": "another-manual",
   "metadata": {},
   "source": [
    "## Variant 1: Popular ranking compare between conditions"
   ]
  },
  {
   "cell_type": "code",
   "execution_count": 34,
   "id": "working-trauma",
   "metadata": {},
   "outputs": [
    {
     "data": {
      "text/plain": [
       "F_onewayResult(statistic=3.3499944413384086, pvalue=0.035639209734317875)"
      ]
     },
     "execution_count": 34,
     "metadata": {},
     "output_type": "execute_result"
    }
   ],
   "source": [
    "f_oneway(s1v1_fsa, s2v1_fsa, s3v1_fsa)"
   ]
  },
  {
   "cell_type": "code",
   "execution_count": 428,
   "id": "hawaiian-tracker",
   "metadata": {},
   "outputs": [
    {
     "data": {
      "text/plain": [
       "F_onewayResult(statistic=3.228176521486356, pvalue=0.0402154068504066)"
      ]
     },
     "execution_count": 428,
     "metadata": {},
     "output_type": "execute_result"
    }
   ],
   "source": [
    "# Same as above but exclude allergies \n",
    "f_oneway(s1v1_fsa_no_allerg, s2v1_fsa_no_allerg, s3v1_fsa_no_allerg)"
   ]
  },
  {
   "cell_type": "code",
   "execution_count": 429,
   "id": "physical-generic",
   "metadata": {},
   "outputs": [
    {
     "data": {
      "text/plain": [
       "F_onewayResult(statistic=2.8999723876708923, pvalue=0.055728360973759876)"
      ]
     },
     "execution_count": 429,
     "metadata": {},
     "output_type": "execute_result"
    }
   ],
   "source": [
    "# Same as above but exclude allergies \n",
    "f_oneway(s1v1_fsa_no_veg, s2v1_fsa_no_veg, s3v1_fsa_no_veg)"
   ]
  },
  {
   "cell_type": "code",
   "execution_count": 522,
   "id": "digital-while",
   "metadata": {},
   "outputs": [
    {
     "name": "stdout",
     "output_type": "stream",
     "text": [
      "DescribeResult(nobs=236, minmax=(4, 10), mean=6.398305084745763, variance=1.9087630724846731, skewness=0.5903834999525028, kurtosis=-0.25604072037938197)\n",
      "DescribeResult(nobs=241, minmax=(4, 10), mean=6.327800829875518, variance=1.6295988934993086, skewness=0.4534031095030632, kurtosis=-0.22408674821556795)\n",
      "DescribeResult(nobs=237, minmax=(4, 10), mean=6.637130801687764, variance=2.0711578345133375, skewness=0.2584584384867445, kurtosis=-0.8007448935984973)\n"
     ]
    }
   ],
   "source": [
    "print(stats.describe(s1v1_fsa))\n",
    "print(stats.describe(s2v1_fsa))\n",
    "print(stats.describe(s3v1_fsa))"
   ]
  },
  {
   "cell_type": "markdown",
   "id": "contemporary-capability",
   "metadata": {},
   "source": [
    "* There is a significant difference in FSA score between the different conditions when looking at the within-subjects variable \"Popular ranking\".\n",
    "* Participants in the No-label condition choose less healthier recipes. \n",
    "* Participants in the MTL condition choose the healthiest recipes.\n",
    "* This indicates that adding a health label might be beneficial since a lot of recipe sites rank recipes by popularity. \n",
    "* **Should also look at if the most popular recipes are healther than the less popular recipes**"
   ]
  },
  {
   "cell_type": "code",
   "execution_count": null,
   "id": "close-premises",
   "metadata": {},
   "outputs": [],
   "source": [
    "# get recipe dataset\n",
    "# sort by popularity \n",
    "# Check if top n recipes have higher FSA score than bottom n"
   ]
  },
  {
   "cell_type": "markdown",
   "id": "bridal-uncle",
   "metadata": {},
   "source": [
    "### Cond 1 - Cond 2 popular ranking FSA"
   ]
  },
  {
   "cell_type": "code",
   "execution_count": 35,
   "id": "human-proxy",
   "metadata": {},
   "outputs": [
    {
     "data": {
      "text/plain": [
       "Ttest_indResult(statistic=0.57904850194586, pvalue=0.5628309312520248)"
      ]
     },
     "execution_count": 35,
     "metadata": {},
     "output_type": "execute_result"
    }
   ],
   "source": [
    "stats.ttest_ind(s1v1_fsa, s2v1_fsa)"
   ]
  },
  {
   "cell_type": "code",
   "execution_count": 430,
   "id": "certain-millennium",
   "metadata": {},
   "outputs": [
    {
     "data": {
      "text/plain": [
       "Ttest_indResult(statistic=0.491346377062891, pvalue=0.6234098749015834)"
      ]
     },
     "execution_count": 430,
     "metadata": {},
     "output_type": "execute_result"
    }
   ],
   "source": [
    "# Same as above but exclude allergies \n",
    "stats.ttest_ind(s1v1_fsa_no_allerg, s2v1_fsa_no_allerg)"
   ]
  },
  {
   "cell_type": "code",
   "execution_count": 431,
   "id": "horizontal-headline",
   "metadata": {},
   "outputs": [
    {
     "data": {
      "text/plain": [
       "Ttest_indResult(statistic=1.091583464113852, pvalue=0.2756218385065663)"
      ]
     },
     "execution_count": 431,
     "metadata": {},
     "output_type": "execute_result"
    }
   ],
   "source": [
    "# Same as above but exclude allergies \n",
    "stats.ttest_ind(s1v1_fsa_no_veg, s2v1_fsa_no_veg)"
   ]
  },
  {
   "cell_type": "markdown",
   "id": "reliable-cream",
   "metadata": {},
   "source": [
    "* As expected there is no significant difference between MTL and Nutriscore with popular ranking."
   ]
  },
  {
   "cell_type": "markdown",
   "id": "environmental-better",
   "metadata": {},
   "source": [
    "### Cond 1 - Cond 3 popular ranking FSA"
   ]
  },
  {
   "cell_type": "code",
   "execution_count": 36,
   "id": "bearing-pollution",
   "metadata": {},
   "outputs": [
    {
     "data": {
      "text/plain": [
       "Ttest_indResult(statistic=-1.840940111013845, pvalue=0.06625909878446001)"
      ]
     },
     "execution_count": 36,
     "metadata": {},
     "output_type": "execute_result"
    }
   ],
   "source": [
    "stats.ttest_ind(s1v1_fsa, s3v1_fsa)"
   ]
  },
  {
   "cell_type": "code",
   "execution_count": 432,
   "id": "objective-insight",
   "metadata": {},
   "outputs": [
    {
     "data": {
      "text/plain": [
       "Ttest_indResult(statistic=-1.8579619519434631, pvalue=0.06380353227552085)"
      ]
     },
     "execution_count": 432,
     "metadata": {},
     "output_type": "execute_result"
    }
   ],
   "source": [
    "# Same as above but exclude allergies \n",
    "stats.ttest_ind(s1v1_fsa_no_allerg, s3v1_fsa_no_allerg)"
   ]
  },
  {
   "cell_type": "code",
   "execution_count": 433,
   "id": "distinct-inquiry",
   "metadata": {},
   "outputs": [
    {
     "data": {
      "text/plain": [
       "Ttest_indResult(statistic=-1.2560380228291081, pvalue=0.20977946639358183)"
      ]
     },
     "execution_count": 433,
     "metadata": {},
     "output_type": "execute_result"
    }
   ],
   "source": [
    "# Same as above but exclude allergies \n",
    "stats.ttest_ind(s1v1_fsa_no_veg, s3v1_fsa_no_veg)"
   ]
  },
  {
   "cell_type": "markdown",
   "id": "endless-balance",
   "metadata": {},
   "source": [
    "* There is a difference between Nutriscore and No-label, but it is not statistically significant. "
   ]
  },
  {
   "cell_type": "markdown",
   "id": "indirect-nylon",
   "metadata": {},
   "source": [
    "### Cond 2 - Cond 3 popular ranking FSA"
   ]
  },
  {
   "cell_type": "code",
   "execution_count": 37,
   "id": "moderate-monroe",
   "metadata": {},
   "outputs": [
    {
     "data": {
      "text/plain": [
       "Ttest_indResult(statistic=-2.487014457744045, pvalue=0.013223546627327845)"
      ]
     },
     "execution_count": 37,
     "metadata": {},
     "output_type": "execute_result"
    }
   ],
   "source": [
    "stats.ttest_ind(s2v1_fsa, s3v1_fsa)"
   ]
  },
  {
   "cell_type": "code",
   "execution_count": 434,
   "id": "hearing-stress",
   "metadata": {},
   "outputs": [
    {
     "data": {
      "text/plain": [
       "Ttest_indResult(statistic=-2.416268172643868, pvalue=0.016058206858452866)"
      ]
     },
     "execution_count": 434,
     "metadata": {},
     "output_type": "execute_result"
    }
   ],
   "source": [
    "# Same as above but exclude allergies \n",
    "stats.ttest_ind(s2v1_fsa_no_allerg, s3v1_fsa_no_allerg)"
   ]
  },
  {
   "cell_type": "code",
   "execution_count": 435,
   "id": "opening-packet",
   "metadata": {},
   "outputs": [
    {
     "data": {
      "text/plain": [
       "Ttest_indResult(statistic=-2.424097185063065, pvalue=0.015740475297824543)"
      ]
     },
     "execution_count": 435,
     "metadata": {},
     "output_type": "execute_result"
    }
   ],
   "source": [
    "# Same as above but exclude allergies \n",
    "stats.ttest_ind(s2v1_fsa_no_veg, s3v1_fsa_no_veg)"
   ]
  },
  {
   "cell_type": "code",
   "execution_count": 528,
   "id": "joined-notice",
   "metadata": {},
   "outputs": [
    {
     "name": "stdout",
     "output_type": "stream",
     "text": [
      "DescribeResult(nobs=241, minmax=(4, 10), mean=6.327800829875518, variance=1.6295988934993086, skewness=0.4534031095030632, kurtosis=-0.22408674821556795)\n",
      "DescribeResult(nobs=236, minmax=(4, 10), mean=6.398305084745763, variance=1.9087630724846731, skewness=0.5903834999525028, kurtosis=-0.25604072037938197)\n"
     ]
    }
   ],
   "source": [
    "# FSA score for \n",
    "print(stats.describe(s2v1_fsa))\n",
    "print(stats.describe(s1v1_fsa))"
   ]
  },
  {
   "cell_type": "markdown",
   "id": "improving-trunk",
   "metadata": {},
   "source": [
    "* The biggest difference is between MTL and No-label, indicating that MTL is more effective than nutriscore in a popular ranking scenario. "
   ]
  },
  {
   "cell_type": "markdown",
   "id": "fallen-practitioner",
   "metadata": {},
   "source": [
    "## Variant 2: Random ranking compare between conditions"
   ]
  },
  {
   "cell_type": "markdown",
   "id": "civic-lodge",
   "metadata": {},
   "source": [
    "### One-way ANOVA"
   ]
  },
  {
   "cell_type": "code",
   "execution_count": 927,
   "id": "timely-giant",
   "metadata": {},
   "outputs": [
    {
     "data": {
      "text/plain": [
       "F_onewayResult(statistic=2.403306519109075, pvalue=0.09115997992995416)"
      ]
     },
     "execution_count": 927,
     "metadata": {},
     "output_type": "execute_result"
    }
   ],
   "source": [
    "f_oneway(s1v2_fsa, s2v2_fsa, s3v2_fsa)"
   ]
  },
  {
   "cell_type": "code",
   "execution_count": 439,
   "id": "electoral-maria",
   "metadata": {},
   "outputs": [
    {
     "data": {
      "text/plain": [
       "F_onewayResult(statistic=2.374612631106752, pvalue=0.09379020833809346)"
      ]
     },
     "execution_count": 439,
     "metadata": {},
     "output_type": "execute_result"
    }
   ],
   "source": [
    "# Same as above but exclude allergies \n",
    "f_oneway(s1v2_fsa_no_allerg, s2v2_fsa_no_allerg, s3v2_fsa_no_allerg)"
   ]
  },
  {
   "cell_type": "code",
   "execution_count": 440,
   "id": "presidential-header",
   "metadata": {},
   "outputs": [
    {
     "data": {
      "text/plain": [
       "F_onewayResult(statistic=2.5684150930653478, pvalue=0.07742067189137807)"
      ]
     },
     "execution_count": 440,
     "metadata": {},
     "output_type": "execute_result"
    }
   ],
   "source": [
    "# Same as above but exclude vegans\n",
    "f_oneway(s1v2_fsa_no_veg, s2v2_fsa_no_veg, s3v2_fsa_no_veg)"
   ]
  },
  {
   "cell_type": "markdown",
   "id": "appropriate-helena",
   "metadata": {},
   "source": [
    "* No significant difference between conditions in a random ranking scenario. "
   ]
  },
  {
   "cell_type": "markdown",
   "id": "alive-classroom",
   "metadata": {},
   "source": [
    "### Cond 1 - Cond 2 random ranking FSA"
   ]
  },
  {
   "cell_type": "code",
   "execution_count": 41,
   "id": "radio-property",
   "metadata": {},
   "outputs": [
    {
     "data": {
      "text/plain": [
       "Ttest_indResult(statistic=1.3098083448058286, pvalue=0.1908885112613517)"
      ]
     },
     "execution_count": 41,
     "metadata": {},
     "output_type": "execute_result"
    }
   ],
   "source": [
    "stats.ttest_ind(s1v2_fsa, s2v2_fsa)"
   ]
  },
  {
   "cell_type": "code",
   "execution_count": 441,
   "id": "retained-bible",
   "metadata": {},
   "outputs": [
    {
     "data": {
      "text/plain": [
       "Ttest_indResult(statistic=1.2209977199865756, pvalue=0.22269132805911082)"
      ]
     },
     "execution_count": 441,
     "metadata": {},
     "output_type": "execute_result"
    }
   ],
   "source": [
    "# Same as above but exclude allergies \n",
    "stats.ttest_ind(s1v2_fsa_no_allerg, s2v2_fsa_no_allerg)"
   ]
  },
  {
   "cell_type": "code",
   "execution_count": 442,
   "id": "judicial-order",
   "metadata": {},
   "outputs": [
    {
     "data": {
      "text/plain": [
       "Ttest_indResult(statistic=1.4376305755160013, pvalue=0.15125130143829882)"
      ]
     },
     "execution_count": 442,
     "metadata": {},
     "output_type": "execute_result"
    }
   ],
   "source": [
    "# Same as above but exclude vegans\n",
    "stats.ttest_ind(s1v2_fsa_no_veg, s2v2_fsa_no_veg)"
   ]
  },
  {
   "cell_type": "markdown",
   "id": "removable-ready",
   "metadata": {},
   "source": [
    "* No significant difference between Nutriscore and MTL."
   ]
  },
  {
   "cell_type": "markdown",
   "id": "opened-niagara",
   "metadata": {},
   "source": [
    "### Cond 1 - Cond 3 random ranking FSA"
   ]
  },
  {
   "cell_type": "code",
   "execution_count": 42,
   "id": "fallen-mitchell",
   "metadata": {},
   "outputs": [
    {
     "data": {
      "text/plain": [
       "Ttest_indResult(statistic=-0.848204095881309, pvalue=0.39675333856851347)"
      ]
     },
     "execution_count": 42,
     "metadata": {},
     "output_type": "execute_result"
    }
   ],
   "source": [
    "stats.ttest_ind(s1v2_fsa, s3v2_fsa)"
   ]
  },
  {
   "cell_type": "code",
   "execution_count": 443,
   "id": "daily-purple",
   "metadata": {},
   "outputs": [
    {
     "data": {
      "text/plain": [
       "Ttest_indResult(statistic=-0.9583471693830188, pvalue=0.33838148664392076)"
      ]
     },
     "execution_count": 443,
     "metadata": {},
     "output_type": "execute_result"
    }
   ],
   "source": [
    "# Same as above but exclude allergies \n",
    "stats.ttest_ind(s1v2_fsa_no_allerg, s3v2_fsa_no_allerg)"
   ]
  },
  {
   "cell_type": "code",
   "execution_count": 444,
   "id": "automatic-porcelain",
   "metadata": {},
   "outputs": [
    {
     "data": {
      "text/plain": [
       "Ttest_indResult(statistic=-0.769565356386232, pvalue=0.4419754356361365)"
      ]
     },
     "execution_count": 444,
     "metadata": {},
     "output_type": "execute_result"
    }
   ],
   "source": [
    "# Same as above but exclude vegans\n",
    "stats.ttest_ind(s1v2_fsa_no_veg, s3v2_fsa_no_veg)"
   ]
  },
  {
   "cell_type": "markdown",
   "id": "tutorial-talent",
   "metadata": {},
   "source": [
    "* No significant difference between Nutriscore and No-label.\n",
    "* Would expect the Nutriscore label to make it easier for participants to select healthier recipes in a random ranking scenario. \n",
    "* However using nutriscore without ranking might lessen the effect of the nutriscore label. In a health ranking scenario the differences in healthiness becomes more apparent, and seeing the recipes become increasingly more unhealthy might make you more health aware.."
   ]
  },
  {
   "cell_type": "markdown",
   "id": "assured-relief",
   "metadata": {},
   "source": [
    "### Cond 2 - Cond 3 random ranking FSA"
   ]
  },
  {
   "cell_type": "code",
   "execution_count": 43,
   "id": "controversial-complexity",
   "metadata": {},
   "outputs": [
    {
     "data": {
      "text/plain": [
       "Ttest_indResult(statistic=-2.132548774681423, pvalue=0.033472870352432814)"
      ]
     },
     "execution_count": 43,
     "metadata": {},
     "output_type": "execute_result"
    }
   ],
   "source": [
    "stats.ttest_ind(s2v2_fsa, s3v2_fsa)"
   ]
  },
  {
   "cell_type": "code",
   "execution_count": 445,
   "id": "guilty-freedom",
   "metadata": {},
   "outputs": [
    {
     "data": {
      "text/plain": [
       "Ttest_indResult(statistic=-2.1586343975605042, pvalue=0.031380873664829896)"
      ]
     },
     "execution_count": 445,
     "metadata": {},
     "output_type": "execute_result"
    }
   ],
   "source": [
    "# Same as above but exclude allergies \n",
    "stats.ttest_ind(s2v2_fsa_no_allerg, s3v2_fsa_no_allerg)"
   ]
  },
  {
   "cell_type": "code",
   "execution_count": 446,
   "id": "assigned-affect",
   "metadata": {},
   "outputs": [
    {
     "data": {
      "text/plain": [
       "Ttest_indResult(statistic=-2.226349629737368, pvalue=0.026485141587677116)"
      ]
     },
     "execution_count": 446,
     "metadata": {},
     "output_type": "execute_result"
    }
   ],
   "source": [
    "# Same as above but exclude vegans\n",
    "stats.ttest_ind(s2v2_fsa_no_veg, s3v2_fsa_no_veg)"
   ]
  },
  {
   "cell_type": "markdown",
   "id": "local-genome",
   "metadata": {},
   "source": [
    "* There is a significant difference in FSA score between MTL and No-label in the random ranking scenario. \n",
    "* This might be because there is more information to be considered in the MTL label vs. the Nutriscore label?? Maybe there is an advantage in having more information to consider -- Colour + HIGH, MED, LOW + Amount of sugar/fat/satfat/salt? For some reason its easier to ignore the nutriscore in a random ranking scenario, while there is more information in the MTL label making it more natural to consider this information as well"
   ]
  },
  {
   "cell_type": "markdown",
   "id": "documented-israel",
   "metadata": {},
   "source": [
    "# Variant 3: Health ranking compare between conditions"
   ]
  },
  {
   "cell_type": "markdown",
   "id": "civic-appendix",
   "metadata": {},
   "source": [
    "### One-way ANOVA"
   ]
  },
  {
   "cell_type": "code",
   "execution_count": 44,
   "id": "mathematical-large",
   "metadata": {},
   "outputs": [
    {
     "data": {
      "text/plain": [
       "F_onewayResult(statistic=3.403021732601091, pvalue=0.033805693965767346)"
      ]
     },
     "execution_count": 44,
     "metadata": {},
     "output_type": "execute_result"
    }
   ],
   "source": [
    "f_oneway(s1v3_fsa, s2v3_fsa, s3v3_fsa)"
   ]
  },
  {
   "cell_type": "code",
   "execution_count": 448,
   "id": "advisory-edinburgh",
   "metadata": {},
   "outputs": [
    {
     "data": {
      "text/plain": [
       "F_onewayResult(statistic=2.9479467806271447, pvalue=0.05308156008695292)"
      ]
     },
     "execution_count": 448,
     "metadata": {},
     "output_type": "execute_result"
    }
   ],
   "source": [
    "# Same as above but exclude allergies \n",
    "f_oneway(s1v3_fsa_no_allerg, s2v3_fsa_no_allerg, s3v3_fsa_no_allerg)"
   ]
  },
  {
   "cell_type": "code",
   "execution_count": 449,
   "id": "accepting-montana",
   "metadata": {},
   "outputs": [
    {
     "data": {
      "text/plain": [
       "F_onewayResult(statistic=3.4048644091097473, pvalue=0.03378877883977377)"
      ]
     },
     "execution_count": 449,
     "metadata": {},
     "output_type": "execute_result"
    }
   ],
   "source": [
    "# Same as above but exclude vegans\n",
    "f_oneway(s1v3_fsa_no_veg, s2v3_fsa_no_veg, s3v3_fsa_no_veg)"
   ]
  },
  {
   "cell_type": "markdown",
   "id": "fifth-grenada",
   "metadata": {},
   "source": [
    "* Significant difference between conditions in a health ranking scenario."
   ]
  },
  {
   "cell_type": "markdown",
   "id": "intimate-chemistry",
   "metadata": {},
   "source": [
    "### Cond 1 - Cond 2 health ranking FSA"
   ]
  },
  {
   "cell_type": "code",
   "execution_count": 45,
   "id": "rising-hunter",
   "metadata": {},
   "outputs": [
    {
     "data": {
      "text/plain": [
       "Ttest_indResult(statistic=0.514189531362443, pvalue=0.607353206433612)"
      ]
     },
     "execution_count": 45,
     "metadata": {},
     "output_type": "execute_result"
    }
   ],
   "source": [
    "stats.ttest_ind(s1v3_fsa, s2v3_fsa)"
   ]
  },
  {
   "cell_type": "code",
   "execution_count": 450,
   "id": "organized-confidence",
   "metadata": {},
   "outputs": [
    {
     "data": {
      "text/plain": [
       "Ttest_indResult(statistic=0.5952117644173314, pvalue=0.5519806863742355)"
      ]
     },
     "execution_count": 450,
     "metadata": {},
     "output_type": "execute_result"
    }
   ],
   "source": [
    "# Same as above but exclude allergies \n",
    "stats.ttest_ind(s1v3_fsa_no_allerg, s2v3_fsa_no_allerg)"
   ]
  },
  {
   "cell_type": "code",
   "execution_count": 451,
   "id": "engaging-assignment",
   "metadata": {},
   "outputs": [
    {
     "data": {
      "text/plain": [
       "Ttest_indResult(statistic=-0.21717732038667126, pvalue=0.8281703702830272)"
      ]
     },
     "execution_count": 451,
     "metadata": {},
     "output_type": "execute_result"
    }
   ],
   "source": [
    "# Same as above but exclude vegans\n",
    "stats.ttest_ind(s1v3_fsa_no_veg, s2v3_fsa_no_veg)"
   ]
  },
  {
   "cell_type": "markdown",
   "id": "changing-andorra",
   "metadata": {},
   "source": [
    "* No significant difference between MTL and nutriscore in a health ranking scenario"
   ]
  },
  {
   "cell_type": "markdown",
   "id": "effective-lease",
   "metadata": {},
   "source": [
    "### Cond 1 - Cond 3 health ranking FSA"
   ]
  },
  {
   "cell_type": "code",
   "execution_count": 46,
   "id": "necessary-increase",
   "metadata": {},
   "outputs": [
    {
     "data": {
      "text/plain": [
       "Ttest_indResult(statistic=-1.9690442326974582, pvalue=0.049521609522912895)"
      ]
     },
     "execution_count": 46,
     "metadata": {},
     "output_type": "execute_result"
    }
   ],
   "source": [
    "stats.ttest_ind(s1v3_fsa, s3v3_fsa)"
   ]
  },
  {
   "cell_type": "code",
   "execution_count": 453,
   "id": "broke-villa",
   "metadata": {},
   "outputs": [
    {
     "data": {
      "text/plain": [
       "Ttest_indResult(statistic=-1.7517970379464076, pvalue=0.0804513312500057)"
      ]
     },
     "execution_count": 453,
     "metadata": {},
     "output_type": "execute_result"
    }
   ],
   "source": [
    "# Same as above but exclude allergies \n",
    "stats.ttest_ind(s1v3_fsa_no_allerg, s3v3_fsa_no_allerg)"
   ]
  },
  {
   "cell_type": "code",
   "execution_count": 452,
   "id": "hazardous-august",
   "metadata": {},
   "outputs": [
    {
     "data": {
      "text/plain": [
       "Ttest_indResult(statistic=-2.360267656488106, pvalue=0.018694299426139864)"
      ]
     },
     "execution_count": 452,
     "metadata": {},
     "output_type": "execute_result"
    }
   ],
   "source": [
    "# Same as above but exclude vegans\n",
    "stats.ttest_ind(s1v3_fsa_no_veg, s3v3_fsa_no_veg)"
   ]
  },
  {
   "cell_type": "markdown",
   "id": "supreme-ultimate",
   "metadata": {},
   "source": [
    "* There is a significant difference between Nutriscore and No-label in the health ranking scenario"
   ]
  },
  {
   "cell_type": "markdown",
   "id": "important-advocacy",
   "metadata": {},
   "source": [
    "### Cond 2 - Cond 3 health ranking FSA"
   ]
  },
  {
   "cell_type": "code",
   "execution_count": 47,
   "id": "approved-meeting",
   "metadata": {},
   "outputs": [
    {
     "data": {
      "text/plain": [
       "Ttest_indResult(statistic=-2.4905180895370953, pvalue=0.013092028967063912)"
      ]
     },
     "execution_count": 47,
     "metadata": {},
     "output_type": "execute_result"
    }
   ],
   "source": [
    "stats.ttest_ind(s2v3_fsa, s3v3_fsa)"
   ]
  },
  {
   "cell_type": "code",
   "execution_count": 454,
   "id": "worse-export",
   "metadata": {},
   "outputs": [
    {
     "data": {
      "text/plain": [
       "Ttest_indResult(statistic=-2.3527889547556136, pvalue=0.019037591151716483)"
      ]
     },
     "execution_count": 454,
     "metadata": {},
     "output_type": "execute_result"
    }
   ],
   "source": [
    "# Same as above but exclude allergies \n",
    "stats.ttest_ind(s2v3_fsa_no_allerg, s3v3_fsa_no_allerg)"
   ]
  },
  {
   "cell_type": "code",
   "execution_count": 455,
   "id": "offshore-wilderness",
   "metadata": {},
   "outputs": [
    {
     "data": {
      "text/plain": [
       "Ttest_indResult(statistic=-2.1577403933892896, pvalue=0.031475342345217594)"
      ]
     },
     "execution_count": 455,
     "metadata": {},
     "output_type": "execute_result"
    }
   ],
   "source": [
    "# Same as above but exclude vegans\n",
    "stats.ttest_ind(s2v3_fsa_no_veg, s3v3_fsa_no_veg)"
   ]
  },
  {
   "cell_type": "code",
   "execution_count": 526,
   "id": "refined-character",
   "metadata": {},
   "outputs": [
    {
     "name": "stdout",
     "output_type": "stream",
     "text": [
      "DescribeResult(nobs=244, minmax=(4, 10), mean=6.418032786885246, variance=1.9809080483033124, skewness=0.2610586188287066, kurtosis=-0.6699139915866557)\n",
      "DescribeResult(nobs=239, minmax=(4, 10), mean=6.7322175732217575, variance=1.8607643894377843, skewness=0.1133981845230343, kurtosis=-0.6828856892853268)\n"
     ]
    }
   ],
   "source": [
    "print(stats.describe(s2v3_fsa))\n",
    "print(stats.describe(s3v3_fsa))"
   ]
  },
  {
   "cell_type": "code",
   "execution_count": 527,
   "id": "stretch-chester",
   "metadata": {},
   "outputs": [
    {
     "name": "stdout",
     "output_type": "stream",
     "text": [
      "DescribeResult(nobs=237, minmax=(4, 10), mean=6.637130801687764, variance=2.0711578345133375, skewness=0.2584584384867445, kurtosis=-0.8007448935984973)\n",
      "DescribeResult(nobs=236, minmax=(4, 10), mean=6.555084745762712, variance=1.7969527587450411, skewness=0.19017789636331284, kurtosis=-0.5153950336646007)\n",
      "DescribeResult(nobs=239, minmax=(4, 10), mean=6.7322175732217575, variance=1.8607643894377843, skewness=0.1133981845230343, kurtosis=-0.6828856892853268)\n"
     ]
    }
   ],
   "source": [
    "# FSA scores for participants in No-label condition\n",
    "print(stats.describe(s3v1_fsa))\n",
    "print(stats.describe(s3v2_fsa))\n",
    "print(stats.describe(s3v3_fsa))"
   ]
  },
  {
   "cell_type": "markdown",
   "id": "banned-shareware",
   "metadata": {},
   "source": [
    "* There is a significant difference between MTL and No-label in the health ranking scenario. \n",
    "* The biggest difference is between MTL and No-label, indicating that MTL is more effective than nutriscore in a health ranking scenario.\n",
    "* Participants in the No-label condition choose the least healthy recipes in the health ranking condition! And the most healthy recipes in the random condition."
   ]
  },
  {
   "cell_type": "markdown",
   "id": "celtic-tumor",
   "metadata": {},
   "source": [
    "# Which label is the best? Nutriscore or MTL? "
   ]
  },
  {
   "cell_type": "markdown",
   "id": "waiting-couple",
   "metadata": {},
   "source": [
    "* As we have already seen MTL is the superior lable in Health, random and popular ranking\n",
    "* **We need to look closer at this because in the Health ranking scenario the recipes are ordered slightly different because MTL is ranked by FSA (4-12), while Nutriscore is ranked by the nutriscore (A-E)**"
   ]
  },
  {
   "cell_type": "markdown",
   "id": "broken-criticism",
   "metadata": {},
   "source": [
    "## Problem: Nutriscore and MTL is calulated differently. How to account for this difference when comparing them? \n",
    "* Use WHO score"
   ]
  },
  {
   "cell_type": "markdown",
   "id": "lightweight-adobe",
   "metadata": {},
   "source": [
    "## Comparing MTL and Nutriscroe using WHO health score\n",
    "* We need to have the same score to compare the two conditions to figure out which label works best (if any)"
   ]
  },
  {
   "cell_type": "markdown",
   "id": "legislative-broadcasting",
   "metadata": {},
   "source": [
    "* A recipe or meal plan with a WHO score of 7 is interpreted as being very healthy whereas a score of 0 is seen as very unhealthy \n",
    "* FSA score: range from 4 (very healthy recipe) to 12 (very unhealthy recipe)"
   ]
  },
  {
   "cell_type": "code",
   "execution_count": 715,
   "id": "fossil-briefs",
   "metadata": {},
   "outputs": [
    {
     "data": {
      "text/html": [
       "<div>\n",
       "<style scoped>\n",
       "    .dataframe tbody tr th:only-of-type {\n",
       "        vertical-align: middle;\n",
       "    }\n",
       "\n",
       "    .dataframe tbody tr th {\n",
       "        vertical-align: top;\n",
       "    }\n",
       "\n",
       "    .dataframe thead th {\n",
       "        text-align: right;\n",
       "    }\n",
       "</style>\n",
       "<table border=\"1\" class=\"dataframe\">\n",
       "  <thead>\n",
       "    <tr style=\"text-align: right;\">\n",
       "      <th></th>\n",
       "      <th>recipe_name</th>\n",
       "      <th>fsa_score</th>\n",
       "      <th>nutri_score</th>\n",
       "      <th>who_score</th>\n",
       "    </tr>\n",
       "  </thead>\n",
       "  <tbody>\n",
       "    <tr>\n",
       "      <th>57</th>\n",
       "      <td>Tomato and Garlic Pasta</td>\n",
       "      <td>4</td>\n",
       "      <td>C</td>\n",
       "      <td>4</td>\n",
       "    </tr>\n",
       "    <tr>\n",
       "      <th>23</th>\n",
       "      <td>Easy Chicken Rice Casserole</td>\n",
       "      <td>4</td>\n",
       "      <td>A</td>\n",
       "      <td>3</td>\n",
       "    </tr>\n",
       "    <tr>\n",
       "      <th>0</th>\n",
       "      <td>Amazing Brown Rice Salad</td>\n",
       "      <td>5</td>\n",
       "      <td>C</td>\n",
       "      <td>2</td>\n",
       "    </tr>\n",
       "    <tr>\n",
       "      <th>41</th>\n",
       "      <td>Pasta Chickpea Salad</td>\n",
       "      <td>5</td>\n",
       "      <td>A</td>\n",
       "      <td>6</td>\n",
       "    </tr>\n",
       "    <tr>\n",
       "      <th>35</th>\n",
       "      <td>Lemon Pepper Pasta</td>\n",
       "      <td>5</td>\n",
       "      <td>B</td>\n",
       "      <td>6</td>\n",
       "    </tr>\n",
       "    <tr>\n",
       "      <th>28</th>\n",
       "      <td>Fruit Salad in Seconds</td>\n",
       "      <td>5</td>\n",
       "      <td>D</td>\n",
       "      <td>3</td>\n",
       "    </tr>\n",
       "    <tr>\n",
       "      <th>49</th>\n",
       "      <td>Scrumptious Chicken Vegetable Stew</td>\n",
       "      <td>5</td>\n",
       "      <td>B</td>\n",
       "      <td>5</td>\n",
       "    </tr>\n",
       "    <tr>\n",
       "      <th>52</th>\n",
       "      <td>Spinach and Pasta Shells</td>\n",
       "      <td>5</td>\n",
       "      <td>B</td>\n",
       "      <td>6</td>\n",
       "    </tr>\n",
       "    <tr>\n",
       "      <th>14</th>\n",
       "      <td>Caribbean Sweet Potato Salad</td>\n",
       "      <td>5</td>\n",
       "      <td>C</td>\n",
       "      <td>2</td>\n",
       "    </tr>\n",
       "    <tr>\n",
       "      <th>21</th>\n",
       "      <td>Chickpea and Quinoa Salad with Lemon and Tahini</td>\n",
       "      <td>5</td>\n",
       "      <td>B</td>\n",
       "      <td>5</td>\n",
       "    </tr>\n",
       "  </tbody>\n",
       "</table>\n",
       "</div>"
      ],
      "text/plain": [
       "                                        recipe_name  fsa_score nutri_score  \\\n",
       "57                          Tomato and Garlic Pasta          4           C   \n",
       "23                      Easy Chicken Rice Casserole          4           A   \n",
       "0                          Amazing Brown Rice Salad          5           C   \n",
       "41                             Pasta Chickpea Salad          5           A   \n",
       "35                               Lemon Pepper Pasta          5           B   \n",
       "28                           Fruit Salad in Seconds          5           D   \n",
       "49               Scrumptious Chicken Vegetable Stew          5           B   \n",
       "52                         Spinach and Pasta Shells          5           B   \n",
       "14                     Caribbean Sweet Potato Salad          5           C   \n",
       "21  Chickpea and Quinoa Salad with Lemon and Tahini          5           B   \n",
       "\n",
       "    who_score  \n",
       "57          4  \n",
       "23          3  \n",
       "0           2  \n",
       "41          6  \n",
       "35          6  \n",
       "28          3  \n",
       "49          5  \n",
       "52          6  \n",
       "14          2  \n",
       "21          5  "
      ]
     },
     "execution_count": 715,
     "metadata": {},
     "output_type": "execute_result"
    }
   ],
   "source": [
    "# Problem: The health ranking for Nutriscore and MTL is very different. Show top 10 recipes ordered by healthiness: \n",
    "rec = recipes[[\"recipe_name\", \"fsa_score\", \"nutri_score\", \"who_score\"]]\n",
    "rec.sort_values(by=['fsa_score']).head(10)"
   ]
  },
  {
   "cell_type": "code",
   "execution_count": 716,
   "id": "dominican-jersey",
   "metadata": {},
   "outputs": [
    {
     "data": {
      "text/html": [
       "<div>\n",
       "<style scoped>\n",
       "    .dataframe tbody tr th:only-of-type {\n",
       "        vertical-align: middle;\n",
       "    }\n",
       "\n",
       "    .dataframe tbody tr th {\n",
       "        vertical-align: top;\n",
       "    }\n",
       "\n",
       "    .dataframe thead th {\n",
       "        text-align: right;\n",
       "    }\n",
       "</style>\n",
       "<table border=\"1\" class=\"dataframe\">\n",
       "  <thead>\n",
       "    <tr style=\"text-align: right;\">\n",
       "      <th></th>\n",
       "      <th>recipe_name</th>\n",
       "      <th>fsa_score</th>\n",
       "      <th>nutri_score</th>\n",
       "      <th>who_score</th>\n",
       "    </tr>\n",
       "  </thead>\n",
       "  <tbody>\n",
       "    <tr>\n",
       "      <th>41</th>\n",
       "      <td>Pasta Chickpea Salad</td>\n",
       "      <td>5</td>\n",
       "      <td>A</td>\n",
       "      <td>6</td>\n",
       "    </tr>\n",
       "    <tr>\n",
       "      <th>23</th>\n",
       "      <td>Easy Chicken Rice Casserole</td>\n",
       "      <td>4</td>\n",
       "      <td>A</td>\n",
       "      <td>3</td>\n",
       "    </tr>\n",
       "    <tr>\n",
       "      <th>22</th>\n",
       "      <td>Chinese Chicken Salad</td>\n",
       "      <td>7</td>\n",
       "      <td>A</td>\n",
       "      <td>1</td>\n",
       "    </tr>\n",
       "    <tr>\n",
       "      <th>33</th>\n",
       "      <td>Hawaiian Chicken Salad</td>\n",
       "      <td>7</td>\n",
       "      <td>B</td>\n",
       "      <td>0</td>\n",
       "    </tr>\n",
       "    <tr>\n",
       "      <th>21</th>\n",
       "      <td>Chickpea and Quinoa Salad with Lemon and Tahini</td>\n",
       "      <td>5</td>\n",
       "      <td>B</td>\n",
       "      <td>5</td>\n",
       "    </tr>\n",
       "    <tr>\n",
       "      <th>52</th>\n",
       "      <td>Spinach and Pasta Shells</td>\n",
       "      <td>5</td>\n",
       "      <td>B</td>\n",
       "      <td>6</td>\n",
       "    </tr>\n",
       "    <tr>\n",
       "      <th>47</th>\n",
       "      <td>Restaurant Style Chicken Nachos</td>\n",
       "      <td>7</td>\n",
       "      <td>B</td>\n",
       "      <td>1</td>\n",
       "    </tr>\n",
       "    <tr>\n",
       "      <th>35</th>\n",
       "      <td>Lemon Pepper Pasta</td>\n",
       "      <td>5</td>\n",
       "      <td>B</td>\n",
       "      <td>6</td>\n",
       "    </tr>\n",
       "    <tr>\n",
       "      <th>49</th>\n",
       "      <td>Scrumptious Chicken Vegetable Stew</td>\n",
       "      <td>5</td>\n",
       "      <td>B</td>\n",
       "      <td>5</td>\n",
       "    </tr>\n",
       "    <tr>\n",
       "      <th>38</th>\n",
       "      <td>Onion Pasta</td>\n",
       "      <td>6</td>\n",
       "      <td>C</td>\n",
       "      <td>2</td>\n",
       "    </tr>\n",
       "  </tbody>\n",
       "</table>\n",
       "</div>"
      ],
      "text/plain": [
       "                                        recipe_name  fsa_score nutri_score  \\\n",
       "41                             Pasta Chickpea Salad          5           A   \n",
       "23                      Easy Chicken Rice Casserole          4           A   \n",
       "22                            Chinese Chicken Salad          7           A   \n",
       "33                           Hawaiian Chicken Salad          7           B   \n",
       "21  Chickpea and Quinoa Salad with Lemon and Tahini          5           B   \n",
       "52                         Spinach and Pasta Shells          5           B   \n",
       "47                  Restaurant Style Chicken Nachos          7           B   \n",
       "35                               Lemon Pepper Pasta          5           B   \n",
       "49               Scrumptious Chicken Vegetable Stew          5           B   \n",
       "38                                      Onion Pasta          6           C   \n",
       "\n",
       "    who_score  \n",
       "41          6  \n",
       "23          3  \n",
       "22          1  \n",
       "33          0  \n",
       "21          5  \n",
       "52          6  \n",
       "47          1  \n",
       "35          6  \n",
       "49          5  \n",
       "38          2  "
      ]
     },
     "execution_count": 716,
     "metadata": {},
     "output_type": "execute_result"
    }
   ],
   "source": [
    "# Top 10 recipes ordered by Nutriscore: \n",
    "rec.sort_values(by=['nutri_score']).head(10)"
   ]
  },
  {
   "cell_type": "code",
   "execution_count": 718,
   "id": "intensive-treasury",
   "metadata": {},
   "outputs": [],
   "source": [
    "# Get who score for different within-subjects variable\n",
    "s1v1_who = s1v1['who_score'].to_numpy()\n",
    "s1v2_who = s1v2['who_score'].to_numpy()\n",
    "s1v3_who = s1v3['who_score'].to_numpy()\n",
    "\n",
    "s2v1_who = s2v1['who_score'].to_numpy()\n",
    "s2v2_who = s2v2['who_score'].to_numpy()\n",
    "s2v3_who = s2v3['who_score'].to_numpy()\n",
    "\n",
    "s3v1_who = s3v1['who_score'].to_numpy()\n",
    "s3v2_who = s3v2['who_score'].to_numpy()\n",
    "s3v3_who = s3v3['who_score'].to_numpy()\n",
    "\n",
    "# Turn Nutriscore to numeric ( A=0, E=4)\n",
    "def label_name (row):\n",
    "    if row['nutri_score'] == 'A' :\n",
    "        return 0\n",
    "    if row['nutri_score'] == 'B' :\n",
    "        return 1\n",
    "    if row['nutri_score'] == 'C' :\n",
    "        return 2\n",
    "    if row['nutri_score'] == 'D' :\n",
    "        return 3\n",
    "    if row['nutri_score'] == 'E' :\n",
    "        return 4\n",
    "\n",
    "df['label_name'] = df.apply (lambda row: label_name(row), axis=1)"
   ]
  },
  {
   "cell_type": "code",
   "execution_count": null,
   "id": "yellow-roots",
   "metadata": {},
   "outputs": [],
   "source": [
    "# Compare Nutriscore and MTL"
   ]
  },
  {
   "cell_type": "code",
   "execution_count": 722,
   "id": "electrical-balance",
   "metadata": {},
   "outputs": [
    {
     "data": {
      "text/plain": [
       "Ttest_indResult(statistic=0.0701801072783086, pvalue=0.9440802209980264)"
      ]
     },
     "execution_count": 722,
     "metadata": {},
     "output_type": "execute_result"
    }
   ],
   "source": [
    "# Variant 1: Popular ranking\n",
    "stats.ttest_ind(s1v1_who, s2v1_who)"
   ]
  },
  {
   "cell_type": "code",
   "execution_count": 928,
   "id": "timely-police",
   "metadata": {},
   "outputs": [
    {
     "data": {
      "text/plain": [
       "Ttest_indResult(statistic=-0.8407823025149365, pvalue=0.4008965298108095)"
      ]
     },
     "execution_count": 928,
     "metadata": {},
     "output_type": "execute_result"
    }
   ],
   "source": [
    "# Variant 2: Random ranking\n",
    "stats.ttest_ind(s1v2_who, s2v2_who)"
   ]
  },
  {
   "cell_type": "code",
   "execution_count": 724,
   "id": "secondary-young",
   "metadata": {},
   "outputs": [
    {
     "data": {
      "text/plain": [
       "Ttest_indResult(statistic=0.8950367974384613, pvalue=0.37122168596721616)"
      ]
     },
     "execution_count": 724,
     "metadata": {},
     "output_type": "execute_result"
    }
   ],
   "source": [
    "# Variant 3: Health ranking\n",
    "stats.ttest_ind(s1v3_who, s2v3_who)"
   ]
  },
  {
   "cell_type": "code",
   "execution_count": 726,
   "id": "hungarian-organic",
   "metadata": {},
   "outputs": [
    {
     "name": "stdout",
     "output_type": "stream",
     "text": [
      "2.5439330543933054\n"
     ]
    }
   ],
   "source": [
    "print(s1v3_who.mean())"
   ]
  },
  {
   "cell_type": "code",
   "execution_count": 727,
   "id": "human-shell",
   "metadata": {},
   "outputs": [
    {
     "name": "stdout",
     "output_type": "stream",
     "text": [
      "2.409282700421941\n"
     ]
    }
   ],
   "source": [
    "print(s2v3_who.mean())"
   ]
  },
  {
   "cell_type": "markdown",
   "id": "necessary-diagram",
   "metadata": {},
   "source": [
    "* Using WHO score to compare Nutriscore and MTL there are not any significant differences in WHO score between the different conditions. "
   ]
  },
  {
   "cell_type": "code",
   "execution_count": null,
   "id": "optimum-federation",
   "metadata": {},
   "outputs": [],
   "source": []
  },
  {
   "cell_type": "markdown",
   "id": "solar-alexander",
   "metadata": {},
   "source": [
    "# PERSONAL FACTORS\n",
    "Does personal factors (goals, experience, nationality etc.) influence the results? "
   ]
  },
  {
   "cell_type": "code",
   "execution_count": null,
   "id": "sitting-travel",
   "metadata": {},
   "outputs": [],
   "source": [
    "# Create groups based on demographic questions\n",
    "demo1 = pd.read_csv(\"./Pro_1/demographics.csv\")\n",
    "demo2 = pd.read_csv(\"./Pro_2/demographics.csv\")\n",
    "demo3 = pd.read_csv(\"./Pro_3/demographics.csv\")\n",
    "md = pd.concat([demo1, demo2, demo3])\n",
    "\n",
    "# Get USER_ID for participants in different groups\n",
    "\n",
    "# Education \n",
    "e1 = md['user_id'].loc[md['education'] == 1].values\n",
    "e2 = md['user_id'].loc[md['education'] == 2].values\n",
    "e3 = md['user_id'].loc[md['education'] == 3].values\n",
    "e4 = md['user_id'].loc[md['education'] == 4].values\n",
    "e5 = md['user_id'].loc[md['education'] == 5].values\n",
    "e6 = md['user_id'].loc[md['education'] == 6].values\n",
    "\n",
    "# Nationality \n",
    "# American vs. europeans\n",
    "n1 = md['user_id'].loc[md['american'] == \"American\"].values\n",
    "n2 = md['user_id'].loc[md['european'] == \"European\"].values\n",
    "\n",
    "# Dietary goals\n",
    "g1 = md['user_id'].loc[md['goal'] == \"protein\"].values\n",
    "g2 = md['user_id'].loc[md['goal'] == \"salt\"].values\n",
    "g3 = md['user_id'].loc[md['goal'] == \"fruit\"].values\n",
    "g4 = md['user_id'].loc[md['goal'] == \"vegetables\"].values\n",
    "g5 = md['user_id'].loc[md['goal'] == \"lweight\"].values\n",
    "g6 = md['user_id'].loc[md['goal'] == \"gweight\"].values\n",
    "g7 = md['user_id'].loc[md['goal'] == \"none\"].values\n",
    "\n",
    "# Cooking experience\n",
    "c1 = md['user_id'].loc[md['experience'] == \"cverylow\"].values\n",
    "c2 = md['user_id'].loc[md['experience'] == \"clow\"].values\n",
    "c3 = md['user_id'].loc[md['experience'] == \"cmedium\"].values\n",
    "c4 = md['user_id'].loc[md['experience'] == \"chigh\"].values\n",
    "c5 = md['user_id'].loc[md['experience'] == \"cveryhigh\"].values\n",
    "\n",
    "# Eating habits\n",
    "h1 = md['user_id'].loc[md['eating_habits'] == \"vunhealthy\"].values\n",
    "h2 = md['user_id'].loc[md['eating_habits'] == \"unhealthy\"].values\n",
    "h3 = md['user_id'].loc[md['eating_habits'] == \"neutral\"].values\n",
    "h4 = md['user_id'].loc[md['eating_habits'] == \"healthy\"].values\n",
    "h5 = md['user_id'].loc[md['eating_habits'] == \"vhealthy\"].values\n",
    "\n",
    "# Restrictions"
   ]
  },
  {
   "cell_type": "markdown",
   "id": "fresh-melbourne",
   "metadata": {},
   "source": [
    "# RESTRICTIONS vs. NO RESTRICTIONS\n"
   ]
  },
  {
   "cell_type": "code",
   "execution_count": 384,
   "id": "massive-cinema",
   "metadata": {},
   "outputs": [
    {
     "name": "stdout",
     "output_type": "stream",
     "text": [
      "Participants with no restrictions: 575\n",
      "Participants with restrictions: 153\n"
     ]
    }
   ],
   "source": [
    "# Get user_id of all participants with no dietary restrictions \n",
    "# Restrictions \n",
    "md['restrictions'] = md['restrictions'].fillna(\"none\") # Convert NaN to none\n",
    "\n",
    "no_res_id = md['user_id'].loc[md['restrictions'] == \"none\"].values\n",
    "with_res_id = md['user_id'].loc[md['restrictions'] != \"none\"].values\n",
    "\n",
    "no_res = ms[ms['user_id'].isin(no_res_id)]\n",
    "res = ms[ms['user_id'].isin(with_res_id)]\n",
    "\n",
    "no_res_fsa = no_res['fsa_score'].to_numpy()\n",
    "res_fsa = res['fsa_score'].to_numpy()\n",
    "\n",
    "# Get conditions \n",
    "c1_res = res.loc[res['condition'] == 1]\n",
    "c2_res = res.loc[res['condition'] == 2]\n",
    "c3_res = res.loc[res['condition'] == 3]\n",
    "\n",
    "c1_no_res = no_res.loc[no_res['condition'] == 1]\n",
    "c2_no_res = no_res.loc[no_res['condition'] == 2]\n",
    "c3_no_res = no_res.loc[no_res['condition'] == 3]\n",
    "#no_res['fsa_score'][no_res['condition'] == 3].to_numpy()\n",
    "\n",
    "\n",
    "# Condition 1 variants FSA score\n",
    "c1v1_res_fsa = c1_res['fsa_score'][c1_res['variant'] == 1].to_numpy()\n",
    "c1v2_res_fsa = c1_res['fsa_score'][c1_res['variant'] == 2].to_numpy()\n",
    "c1v3_res_fsa = c1_res['fsa_score'][c1_res['variant'] == 3].to_numpy()\n",
    "\n",
    "c1v1_no_res_fsa = c1_no_res['fsa_score'][c1_no_res['variant'] == 1].to_numpy()\n",
    "c1v2_no_res_fsa = c1_no_res['fsa_score'][c1_no_res['variant'] == 2].to_numpy()\n",
    "c1v3_no_res_fsa = c1_no_res['fsa_score'][c1_no_res['variant'] == 3].to_numpy()\n",
    "\n",
    "# Condition 2 variants FSA score\n",
    "c2v1_res_fsa = c2_res['fsa_score'][c2_res['variant'] == 1].to_numpy()\n",
    "c2v2_res_fsa = c2_res['fsa_score'][c2_res['variant'] == 2].to_numpy()\n",
    "c2v3_res_fsa = c2_res['fsa_score'][c2_res['variant'] == 3].to_numpy()\n",
    "\n",
    "c2v1_no_res_fsa = c2_no_res['fsa_score'][c2_no_res['variant'] == 1].to_numpy()\n",
    "c2v2_no_res_fsa = c2_no_res['fsa_score'][c2_no_res['variant'] == 2].to_numpy()\n",
    "c2v3_no_res_fsa = c2_no_res['fsa_score'][c2_no_res['variant'] == 3].to_numpy()\n",
    "\n",
    "# Condition 3 variants FSA score \n",
    "c3v1_res_fsa = c3_res['fsa_score'][c3_res['variant'] == 1].to_numpy()\n",
    "c3v2_res_fsa = c3_res['fsa_score'][c3_res['variant'] == 2].to_numpy()\n",
    "c3v3_res_fsa = c3_res['fsa_score'][c3_res['variant'] == 3].to_numpy()\n",
    "\n",
    "c3v1_no_res_fsa = c3_no_res['fsa_score'][c3_no_res['variant'] == 1].to_numpy()\n",
    "c3v2_no_res_fsa = c3_no_res['fsa_score'][c3_no_res['variant'] == 2].to_numpy()\n",
    "c3v3_no_res_fsa = c3_no_res['fsa_score'][c3_no_res['variant'] == 3].to_numpy()\n",
    "\n",
    "\n",
    "print(\"Participants with no restrictions:\", len(no_res_id))\n",
    "print(\"Participants with restrictions:\", len(with_res_id))"
   ]
  },
  {
   "cell_type": "code",
   "execution_count": 360,
   "id": "hidden-tulsa",
   "metadata": {},
   "outputs": [
    {
     "data": {
      "text/plain": [
       "<matplotlib.lines.Line2D at 0x1746d0f6648>"
      ]
     },
     "execution_count": 360,
     "metadata": {},
     "output_type": "execute_result"
    },
    {
     "data": {
      "image/png": "[encoded data removed]",
      "text/plain": [
       "<Figure size 1440x720 with 1 Axes>"
      ]
     },
     "metadata": {},
     "output_type": "display_data"
    }
   ],
   "source": [
    "# Compare no restrictions vs. restrictions (overall)\n",
    "plt.figure()\n",
    "ax1 = sns.distplot(no_res_fsa)\n",
    "ax2 = sns.distplot(res_fsa)\n",
    "plt.axvline(np.mean(no_res_fsa), color='blue', linestyle='dashed', linewidth=5)    # No restrictions\n",
    "plt.axvline(np.mean(res_fsa), color='orange', linestyle='dashed', linewidth=5)  # Restrictions"
   ]
  },
  {
   "cell_type": "code",
   "execution_count": 361,
   "id": "prerequisite-storage",
   "metadata": {},
   "outputs": [
    {
     "data": {
      "text/plain": [
       "Ttest_indResult(statistic=1.8671791366319537, pvalue=0.062012188232495685)"
      ]
     },
     "execution_count": 361,
     "metadata": {},
     "output_type": "execute_result"
    }
   ],
   "source": [
    "# T-test compare FSA between restrictions and no restrictions for all conditions \n",
    "stats.ttest_ind(no_res_fsa, res_fsa)"
   ]
  },
  {
   "cell_type": "code",
   "execution_count": 372,
   "id": "interior-twelve",
   "metadata": {},
   "outputs": [
    {
     "name": "stdout",
     "output_type": "stream",
     "text": [
      "6.505287896592244\n",
      "6.370614035087719\n"
     ]
    }
   ],
   "source": [
    "print(no_res_fsa.mean())\n",
    "print(res_fsa.mean())"
   ]
  },
  {
   "cell_type": "markdown",
   "id": "induced-consultancy",
   "metadata": {},
   "source": [
    "* People with restrictions choose slightly healthier recipes overall. However result is not statisticaly significant."
   ]
  },
  {
   "cell_type": "markdown",
   "id": "dependent-repair",
   "metadata": {},
   "source": [
    "### T-test between conditions"
   ]
  },
  {
   "cell_type": "code",
   "execution_count": 381,
   "id": "careful-needle",
   "metadata": {},
   "outputs": [
    {
     "data": {
      "text/plain": [
       "Ttest_indResult(statistic=-1.0777517455914285, pvalue=0.28150701855644666)"
      ]
     },
     "execution_count": 381,
     "metadata": {},
     "output_type": "execute_result"
    }
   ],
   "source": [
    "# T-test between conditions 1\n",
    "stats.ttest_ind(c1_res['fsa_score'].to_numpy(), c1_no_res['fsa_score'].to_numpy())"
   ]
  },
  {
   "cell_type": "code",
   "execution_count": 382,
   "id": "falling-louisiana",
   "metadata": {},
   "outputs": [
    {
     "data": {
      "text/plain": [
       "Ttest_indResult(statistic=-0.49964600073346216, pvalue=0.6174759576160925)"
      ]
     },
     "execution_count": 382,
     "metadata": {},
     "output_type": "execute_result"
    }
   ],
   "source": [
    "# T-test between conditions 2\n",
    "stats.ttest_ind(c2_res['fsa_score'].to_numpy(), c2_no_res['fsa_score'].to_numpy())"
   ]
  },
  {
   "cell_type": "code",
   "execution_count": 383,
   "id": "voluntary-opening",
   "metadata": {},
   "outputs": [
    {
     "data": {
      "text/plain": [
       "Ttest_indResult(statistic=-1.371800507595901, pvalue=0.1705588546663843)"
      ]
     },
     "execution_count": 383,
     "metadata": {},
     "output_type": "execute_result"
    }
   ],
   "source": [
    "# T-test between conditions 3\n",
    "stats.ttest_ind(c3_res['fsa_score'].to_numpy(), c3_no_res['fsa_score'].to_numpy())"
   ]
  },
  {
   "cell_type": "markdown",
   "id": "lucky-thing",
   "metadata": {},
   "source": [
    "### T-test between variants in each condition restrictions vs no-restrictions"
   ]
  },
  {
   "cell_type": "code",
   "execution_count": 385,
   "id": "separate-africa",
   "metadata": {},
   "outputs": [
    {
     "data": {
      "text/plain": [
       "Ttest_indResult(statistic=-2.026235784942434, pvalue=0.04387527938946912)"
      ]
     },
     "execution_count": 385,
     "metadata": {},
     "output_type": "execute_result"
    }
   ],
   "source": [
    "# T-test between variants condition 1 variant 1\n",
    "stats.ttest_ind(c1v1_res_fsa, c1v1_no_res_fsa)"
   ]
  },
  {
   "cell_type": "code",
   "execution_count": 545,
   "id": "desperate-aluminum",
   "metadata": {},
   "outputs": [
    {
     "name": "stdout",
     "output_type": "stream",
     "text": [
      "DescribeResult(nobs=59, minmax=(4, 10), mean=6.084745762711864, variance=2.2168322618351843, skewness=1.0235337059131981, kurtosis=0.24624304460274837)\n",
      "DescribeResult(nobs=177, minmax=(4, 10), mean=6.502824858757062, variance=1.7741397021058034, skewness=0.47134143699497927, kurtosis=-0.2862699205590551)\n"
     ]
    }
   ],
   "source": [
    "print(stats.describe(c1v1_res_fsa))\n",
    "print(stats.describe(c1v1_no_res_fsa))"
   ]
  },
  {
   "cell_type": "markdown",
   "id": "deadly-overall",
   "metadata": {},
   "source": [
    "* People with restrictions choose healthier recipes in condition 1 Nutriscore with popular ranking"
   ]
  },
  {
   "cell_type": "code",
   "execution_count": 386,
   "id": "strong-privilege",
   "metadata": {},
   "outputs": [
    {
     "data": {
      "text/plain": [
       "Ttest_indResult(statistic=-1.800179558765509, pvalue=0.07310387322757261)"
      ]
     },
     "execution_count": 386,
     "metadata": {},
     "output_type": "execute_result"
    }
   ],
   "source": [
    "# T-test between variants condition 1 variant 2\n",
    "stats.ttest_ind(c1v2_res_fsa, c1v2_no_res_fsa)"
   ]
  },
  {
   "cell_type": "code",
   "execution_count": 387,
   "id": "appropriate-involvement",
   "metadata": {},
   "outputs": [
    {
     "data": {
      "text/plain": [
       "Ttest_indResult(statistic=1.7829050864554097, pvalue=0.07585517664934677)"
      ]
     },
     "execution_count": 387,
     "metadata": {},
     "output_type": "execute_result"
    }
   ],
   "source": [
    "# T-test between variants condition 1 variant 3\n",
    "stats.ttest_ind(c1v3_res_fsa, c1v3_no_res_fsa)"
   ]
  },
  {
   "cell_type": "code",
   "execution_count": 392,
   "id": "cardiac-parking",
   "metadata": {},
   "outputs": [
    {
     "data": {
      "text/plain": [
       "Ttest_indResult(statistic=-0.17262935322660364, pvalue=0.8630888762218873)"
      ]
     },
     "execution_count": 392,
     "metadata": {},
     "output_type": "execute_result"
    }
   ],
   "source": [
    "# T-test between variants condition 2 variant 1\n",
    "stats.ttest_ind(c2v1_res_fsa, c2v1_no_res_fsa)"
   ]
  },
  {
   "cell_type": "code",
   "execution_count": 393,
   "id": "ignored-fabric",
   "metadata": {},
   "outputs": [
    {
     "data": {
      "text/plain": [
       "Ttest_indResult(statistic=-0.17262935322660364, pvalue=0.8630888762218873)"
      ]
     },
     "execution_count": 393,
     "metadata": {},
     "output_type": "execute_result"
    }
   ],
   "source": [
    "# T-test between variants condition 2 variant 2\n",
    "stats.ttest_ind(c2v1_res_fsa, c2v1_no_res_fsa)"
   ]
  },
  {
   "cell_type": "code",
   "execution_count": 394,
   "id": "going-farmer",
   "metadata": {},
   "outputs": [
    {
     "data": {
      "text/plain": [
       "Ttest_indResult(statistic=-1.0819807863479929, pvalue=0.2803380264832358)"
      ]
     },
     "execution_count": 394,
     "metadata": {},
     "output_type": "execute_result"
    }
   ],
   "source": [
    "# T-test between variants condition 2 variant 3\n",
    "stats.ttest_ind(c2v3_res_fsa, c2v3_no_res_fsa)"
   ]
  },
  {
   "cell_type": "code",
   "execution_count": 395,
   "id": "boring-knitting",
   "metadata": {},
   "outputs": [
    {
     "data": {
      "text/plain": [
       "Ttest_indResult(statistic=0.7369272373511816, pvalue=0.46190167258060666)"
      ]
     },
     "execution_count": 395,
     "metadata": {},
     "output_type": "execute_result"
    }
   ],
   "source": [
    "# T-test between variants condition 3 variant 1\n",
    "stats.ttest_ind(c3v1_res_fsa, c3v1_no_res_fsa)"
   ]
  },
  {
   "cell_type": "code",
   "execution_count": 396,
   "id": "streaming-whale",
   "metadata": {},
   "outputs": [
    {
     "data": {
      "text/plain": [
       "Ttest_indResult(statistic=-1.1231776081321643, pvalue=0.2625130923790941)"
      ]
     },
     "execution_count": 396,
     "metadata": {},
     "output_type": "execute_result"
    }
   ],
   "source": [
    "# T-test between variants condition 3 variant 2\n",
    "stats.ttest_ind(c3v2_res_fsa, c3v2_no_res_fsa)"
   ]
  },
  {
   "cell_type": "code",
   "execution_count": 397,
   "id": "informative-vertical",
   "metadata": {},
   "outputs": [
    {
     "data": {
      "text/plain": [
       "Ttest_indResult(statistic=-2.102274457099907, pvalue=0.03658469374799311)"
      ]
     },
     "execution_count": 397,
     "metadata": {},
     "output_type": "execute_result"
    }
   ],
   "source": [
    "# T-test between variants condition 3 variant 3 \n",
    "stats.ttest_ind(c3v3_res_fsa, c3v3_no_res_fsa)"
   ]
  },
  {
   "cell_type": "markdown",
   "id": "younger-waste",
   "metadata": {},
   "source": [
    "* People with restrictions choose healthier recipes in condition 3 No-label with health ranking"
   ]
  },
  {
   "cell_type": "markdown",
   "id": "vocal-chosen",
   "metadata": {},
   "source": [
    "### Closer look at condition 1 Nutriscore "
   ]
  },
  {
   "cell_type": "code",
   "execution_count": 401,
   "id": "union-replication",
   "metadata": {},
   "outputs": [
    {
     "name": "stdout",
     "output_type": "stream",
     "text": [
      "6.084745762711864\n",
      "6.502824858757062\n"
     ]
    }
   ],
   "source": [
    "# V1: Popular ranking\n",
    "print(c1v1_res_fsa.mean())\n",
    "print(c1v1_no_res_fsa.mean())\n",
    "\n",
    "# pvalue=0.04387527938946912 (significant)\n",
    "# people with restrictions might be less influenced by popularity ranking since they have to inspect recipe moreclosely"
   ]
  },
  {
   "cell_type": "markdown",
   "id": "reliable-clarity",
   "metadata": {},
   "source": [
    "* pvalue=0.04387527938946912 (significant)\n",
    "* people with restrictions might be less influenced by popularity ranking since they have to inspect recipes more closely"
   ]
  },
  {
   "cell_type": "code",
   "execution_count": 402,
   "id": "prime-wagner",
   "metadata": {},
   "outputs": [
    {
     "name": "stdout",
     "output_type": "stream",
     "text": [
      "6.186440677966102\n",
      "6.538888888888889\n"
     ]
    }
   ],
   "source": [
    "# V2: Random ranking\n",
    "print(c1v2_res_fsa.mean())\n",
    "print(c1v2_no_res_fsa.mean())"
   ]
  },
  {
   "cell_type": "code",
   "execution_count": 404,
   "id": "systematic-compression",
   "metadata": {},
   "outputs": [
    {
     "name": "stdout",
     "output_type": "stream",
     "text": [
      "6.758064516129032\n",
      "6.3901098901098905\n"
     ]
    }
   ],
   "source": [
    "# V3: Health ranking\n",
    "print(c1v3_res_fsa.mean())\n",
    "print(c1v3_no_res_fsa.mean())\n",
    "\n",
    "# People without restrictions choose the healthies recipes with health ranking"
   ]
  },
  {
   "cell_type": "markdown",
   "id": "relative-nowhere",
   "metadata": {},
   "source": [
    "### Closer look at condition 3no-label, variant 3: health ranking"
   ]
  },
  {
   "cell_type": "code",
   "execution_count": 407,
   "id": "dietary-paint",
   "metadata": {},
   "outputs": [
    {
     "name": "stdout",
     "output_type": "stream",
     "text": [
      "6.333333333333333\n",
      "6.817258883248731\n"
     ]
    }
   ],
   "source": [
    "# V3: Health ranking\n",
    "print(c3v3_res_fsa.mean())\n",
    "print(c3v3_no_res_fsa.mean())"
   ]
  },
  {
   "cell_type": "markdown",
   "id": "patent-academy",
   "metadata": {},
   "source": [
    "* pvalue=0.03658469374799311 \n",
    "* People with restrictions choose healthier recipes than people without restrictions in the no-label condition with health ranking"
   ]
  },
  {
   "cell_type": "markdown",
   "id": "black-swedish",
   "metadata": {},
   "source": [
    "# VEGAN vs. NON VEGANS"
   ]
  },
  {
   "cell_type": "code",
   "execution_count": 409,
   "id": "invalid-baseline",
   "metadata": {},
   "outputs": [
    {
     "name": "stdout",
     "output_type": "stream",
     "text": [
      "Non vegan: 675\n",
      "Vegan: 53\n"
     ]
    }
   ],
   "source": [
    "# Get user_id of all non vegan participants \n",
    "no_veg_id = md['user_id'].loc[md['restrictions'] != \"vegan\"].values\n",
    "veg_id = md['user_id'].loc[md['restrictions'] == \"vegan\"].values\n",
    "\n",
    "no_veg = ms[ms['user_id'].isin(no_veg_id)]\n",
    "veg = ms[ms['user_id'].isin(veg_id)]\n",
    "\n",
    "no_veg_fsa = no_veg['fsa_score'].to_numpy()\n",
    "veg_fsa = veg['fsa_score'].to_numpy()\n",
    "\n",
    "\n",
    "# Get conditions \n",
    "c1_veg = veg.loc[veg['condition'] == 1]\n",
    "c2_veg = veg.loc[veg['condition'] == 2]\n",
    "c3_veg = veg.loc[veg['condition'] == 3]\n",
    "\n",
    "c1_no_veg = no_veg.loc[no_veg['condition'] == 1]\n",
    "c2_no_veg = no_veg.loc[no_veg['condition'] == 2]\n",
    "c3_no_veg = no_veg.loc[no_veg['condition'] == 3]\n",
    "#no_veg['fsa_score'][no_veg['condition'] == 3].to_numpy()\n",
    "\n",
    "\n",
    "# Condition 1 variants FSA score\n",
    "c1v1_veg_fsa = c1_veg['fsa_score'][c1_veg['variant'] == 1].to_numpy()\n",
    "c1v2_veg_fsa = c1_veg['fsa_score'][c1_veg['variant'] == 2].to_numpy()\n",
    "c1v3_veg_fsa = c1_veg['fsa_score'][c1_veg['variant'] == 3].to_numpy()\n",
    "\n",
    "c1v1_no_veg_fsa = c1_no_veg['fsa_score'][c1_no_veg['variant'] == 1].to_numpy()\n",
    "c1v2_no_veg_fsa = c1_no_veg['fsa_score'][c1_no_veg['variant'] == 2].to_numpy()\n",
    "c1v3_no_veg_fsa = c1_no_veg['fsa_score'][c1_no_veg['variant'] == 3].to_numpy()\n",
    "\n",
    "# Condition 2 variants FSA score\n",
    "c2v1_veg_fsa = c2_veg['fsa_score'][c2_veg['variant'] == 1].to_numpy()\n",
    "c2v2_veg_fsa = c2_veg['fsa_score'][c2_veg['variant'] == 2].to_numpy()\n",
    "c2v3_veg_fsa = c2_veg['fsa_score'][c2_veg['variant'] == 3].to_numpy()\n",
    "\n",
    "c2v1_no_veg_fsa = c2_no_veg['fsa_score'][c2_no_veg['variant'] == 1].to_numpy()\n",
    "c2v2_no_veg_fsa = c2_no_veg['fsa_score'][c2_no_veg['variant'] == 2].to_numpy()\n",
    "c2v3_no_veg_fsa = c2_no_veg['fsa_score'][c2_no_veg['variant'] == 3].to_numpy()\n",
    "\n",
    "# Condition 3 variants FSA score \n",
    "c3v1_veg_fsa = c3_veg['fsa_score'][c3_veg['variant'] == 1].to_numpy()\n",
    "c3v2_veg_fsa = c3_veg['fsa_score'][c3_veg['variant'] == 2].to_numpy()\n",
    "c3v3_veg_fsa = c3_veg['fsa_score'][c3_veg['variant'] == 3].to_numpy()\n",
    "\n",
    "c3v1_no_veg_fsa = c3_no_veg['fsa_score'][c3_no_veg['variant'] == 1].to_numpy()\n",
    "c3v2_no_veg_fsa = c3_no_veg['fsa_score'][c3_no_veg['variant'] == 2].to_numpy()\n",
    "c3v3_no_veg_fsa = c3_no_veg['fsa_score'][c3_no_veg['variant'] == 3].to_numpy()\n",
    "\n",
    "\n",
    "print(\"Non vegan:\", len(no_veg_id))\n",
    "print(\"Vegan:\", len(veg_id))"
   ]
  },
  {
   "cell_type": "code",
   "execution_count": 549,
   "id": "empirical-sucking",
   "metadata": {},
   "outputs": [
    {
     "name": "stdout",
     "output_type": "stream",
     "text": [
      "DescribeResult(nobs=161, minmax=(4, 10), mean=6.3602484472049685, variance=2.156909937888199, skewness=0.311723693415552, kurtosis=-0.7456826140236403)\n",
      "DescribeResult(nobs=1997, minmax=(4, 10), mean=6.486229344016024, variance=1.8501359253308822, skewness=0.30680189325252405, kurtosis=-0.5564887315711546)\n"
     ]
    }
   ],
   "source": [
    "print(stats.describe(veg_fsa))\n",
    "print(stats.describe(no_veg_fsa))"
   ]
  },
  {
   "cell_type": "code",
   "execution_count": 364,
   "id": "critical-transmission",
   "metadata": {},
   "outputs": [
    {
     "data": {
      "text/plain": [
       "Ttest_indResult(statistic=1.123630215346532, pvalue=0.2612950274003421)"
      ]
     },
     "execution_count": 364,
     "metadata": {},
     "output_type": "execute_result"
    }
   ],
   "source": [
    "stats.ttest_ind(no_veg_fsa, veg_fsa)"
   ]
  },
  {
   "cell_type": "markdown",
   "id": "funded-archive",
   "metadata": {},
   "source": [
    "* No difference in FSA for vegans vs non-vegans"
   ]
  },
  {
   "cell_type": "markdown",
   "id": "sporting-longitude",
   "metadata": {},
   "source": [
    "# Compare FSA-score Europeans vs. American "
   ]
  },
  {
   "cell_type": "code",
   "execution_count": 146,
   "id": "liberal-validation",
   "metadata": {},
   "outputs": [],
   "source": [
    "ame = ms[ms['user_id'].isin(n1)]\n",
    "eur = ms[ms['user_id'].isin(n2)]\n",
    "\n",
    "# Conditions\n",
    "c1_ame = ame.loc[ame['condition'] == 1]\n",
    "c2_ame = ame.loc[ame['condition'] == 2]\n",
    "c3_ame = ame.loc[ame['condition'] == 3]\n",
    "\n",
    "c1_eur = eur.loc[eur['condition'] == 1]\n",
    "c2_eur = eur.loc[eur['condition'] == 2]\n",
    "c3_eur = eur.loc[eur['condition'] == 3]\n",
    "\n",
    "# FSA score per condition \n",
    "c1_ame_fsa = c1_ame['fsa_score'].to_numpy()\n",
    "c2_ame_fsa = c2_ame['fsa_score'].to_numpy()\n",
    "c3_ame_fsa = c3_ame['fsa_score'].to_numpy()\n",
    "\n",
    "c1_eur_fsa = c1_eur['fsa_score'].to_numpy()\n",
    "c2_eur_fsa = c2_eur['fsa_score'].to_numpy()\n",
    "c3_eur_fsa = c3_eur['fsa_score'].to_numpy()\n",
    "\n",
    "# Get FSA score for different within-subjects variables\n",
    "# Condition 1 variants FSA score\n",
    "c1v1_ame_fsa = c1_ame['fsa_score'][c1_ame['variant'] == 1].to_numpy()\n",
    "c1v2_ame_fsa = c1_ame['fsa_score'][c1_ame['variant'] == 2].to_numpy()\n",
    "c1v3_ame_fsa = c1_ame['fsa_score'][c1_ame['variant'] == 3].to_numpy()\n",
    "\n",
    "c1v1_eur_fsa = c1_eur['fsa_score'][c1_eur['variant'] == 1].to_numpy()\n",
    "c1v2_eur_fsa = c1_eur['fsa_score'][c1_eur['variant'] == 2].to_numpy()\n",
    "c1v3_eur_fsa = c1_eur['fsa_score'][c1_eur['variant'] == 3].to_numpy()\n",
    "\n",
    "# Condition 2 variants FSA score\n",
    "c2v1_ame_fsa = c2_ame['fsa_score'][c2_ame['variant'] == 1].to_numpy()\n",
    "c2v2_ame_fsa = c2_ame['fsa_score'][c2_ame['variant'] == 2].to_numpy()\n",
    "c2v3_ame_fsa = c2_ame['fsa_score'][c2_ame['variant'] == 3].to_numpy()\n",
    "\n",
    "c2v1_eur_fsa = c2_eur['fsa_score'][c2_eur['variant'] == 1].to_numpy()\n",
    "c2v2_eur_fsa = c2_eur['fsa_score'][c2_eur['variant'] == 2].to_numpy()\n",
    "c2v3_eur_fsa = c2_eur['fsa_score'][c2_eur['variant'] == 3].to_numpy()\n",
    "\n",
    "# Condition 3 variants FSA score \n",
    "c3v1_ame_fsa = c3_ame['fsa_score'][c3_ame['variant'] == 1].to_numpy()\n",
    "c3v2_ame_fsa = c3_ame['fsa_score'][c3_ame['variant'] == 2].to_numpy()\n",
    "c3v3_ame_fsa = c3_ame['fsa_score'][c3_ame['variant'] == 3].to_numpy()\n",
    "\n",
    "c3v1_eur_fsa = c3_eur['fsa_score'][c3_eur['variant'] == 1].to_numpy()\n",
    "c3v2_eur_fsa = c3_eur['fsa_score'][c3_eur['variant'] == 2].to_numpy()\n",
    "c3v3_eur_fsa = c3_eur['fsa_score'][c3_eur['variant'] == 3].to_numpy()\n"
   ]
  },
  {
   "cell_type": "code",
   "execution_count": 550,
   "id": "desperate-medium",
   "metadata": {},
   "outputs": [
    {
     "name": "stdout",
     "output_type": "stream",
     "text": [
      "DescribeResult(nobs=1053, minmax=(4, 10), mean=6.528964862298196, variance=1.8919834331748149, skewness=0.3232844037227739, kurtosis=-0.607415031287661)\n",
      "DescribeResult(nobs=902, minmax=(4, 10), mean=6.433481152993348, variance=1.8707090667920099, skewness=0.2750017447498526, kurtosis=-0.5615323820091684)\n"
     ]
    }
   ],
   "source": [
    "ame_fsa = ame['fsa_score'].to_numpy()\n",
    "eur_fsa = eur['fsa_score'].to_numpy()\n",
    "print(stats.describe(ame_fsa))\n",
    "print(stats.describe(eur_fsa))"
   ]
  },
  {
   "cell_type": "code",
   "execution_count": 117,
   "id": "taken-consultation",
   "metadata": {},
   "outputs": [
    {
     "data": {
      "text/plain": [
       "F_onewayResult(statistic=2.3533589162055684, pvalue=0.1251753535076248)"
      ]
     },
     "execution_count": 117,
     "metadata": {},
     "output_type": "execute_result"
    }
   ],
   "source": [
    "f_oneway(ame_fsa, eur_fsa)"
   ]
  },
  {
   "cell_type": "markdown",
   "id": "proprietary-pocket",
   "metadata": {},
   "source": [
    "* No stat dif FSA score Americans vs. European"
   ]
  },
  {
   "cell_type": "markdown",
   "id": "economic-supplier",
   "metadata": {},
   "source": [
    "# Nationality: Compare FSA between conditions (American vs. European)"
   ]
  },
  {
   "cell_type": "code",
   "execution_count": 134,
   "id": "extreme-horse",
   "metadata": {},
   "outputs": [
    {
     "data": {
      "text/plain": [
       "F_onewayResult(statistic=0.07473236900445114, pvalue=0.7846496287347811)"
      ]
     },
     "execution_count": 134,
     "metadata": {},
     "output_type": "execute_result"
    }
   ],
   "source": [
    "f_oneway(c1_ame_fsa, c1_eur_fsa)"
   ]
  },
  {
   "cell_type": "code",
   "execution_count": 142,
   "id": "twenty-acquisition",
   "metadata": {},
   "outputs": [
    {
     "name": "stdout",
     "output_type": "stream",
     "text": [
      "6.462162162162162\n",
      "6.4335443037974684\n"
     ]
    }
   ],
   "source": [
    "print(c1_ame_fsa.mean())\n",
    "print( c1_eur_fsa.mean())"
   ]
  },
  {
   "cell_type": "code",
   "execution_count": 135,
   "id": "finite-pointer",
   "metadata": {},
   "outputs": [
    {
     "data": {
      "text/plain": [
       "F_onewayResult(statistic=3.2798939239696785, pvalue=0.07061497660278497)"
      ]
     },
     "execution_count": 135,
     "metadata": {},
     "output_type": "execute_result"
    }
   ],
   "source": [
    "f_oneway(c2_ame_fsa, c2_eur_fsa)"
   ]
  },
  {
   "cell_type": "code",
   "execution_count": 140,
   "id": "living-electron",
   "metadata": {},
   "outputs": [
    {
     "name": "stdout",
     "output_type": "stream",
     "text": [
      "6.44213649851632\n",
      "6.246527777777778\n"
     ]
    }
   ],
   "source": [
    "print(c2_ame_fsa.mean())\n",
    "print( c2_eur_fsa.mean())"
   ]
  },
  {
   "cell_type": "code",
   "execution_count": 139,
   "id": "arctic-scanner",
   "metadata": {},
   "outputs": [
    {
     "data": {
      "text/plain": [
       "6.246527777777778"
      ]
     },
     "execution_count": 139,
     "metadata": {},
     "output_type": "execute_result"
    }
   ],
   "source": [
    " c2_eur_fsa.mean()"
   ]
  },
  {
   "cell_type": "code",
   "execution_count": 136,
   "id": "humanitarian-ladder",
   "metadata": {},
   "outputs": [
    {
     "data": {
      "text/plain": [
       "F_onewayResult(statistic=0.41733513632126035, pvalue=0.5185006058583674)"
      ]
     },
     "execution_count": 136,
     "metadata": {},
     "output_type": "execute_result"
    }
   ],
   "source": [
    "f_oneway(c3_ame_fsa, c3_eur_fsa)"
   ]
  },
  {
   "cell_type": "code",
   "execution_count": 143,
   "id": "round-asian",
   "metadata": {},
   "outputs": [
    {
     "name": "stdout",
     "output_type": "stream",
     "text": [
      "6.684971098265896\n",
      "6.614093959731544\n"
     ]
    }
   ],
   "source": [
    "print(c3_ame_fsa.mean())\n",
    "print( c3_eur_fsa.mean())"
   ]
  },
  {
   "cell_type": "markdown",
   "id": "awful-dream",
   "metadata": {},
   "source": [
    "* Biggest difference is for the MTL label (condition 2), however not statistically significant difference. Europeans choose slightly healthier recipes overall. "
   ]
  },
  {
   "cell_type": "markdown",
   "id": "stylish-packing",
   "metadata": {},
   "source": [
    "## Compare FSA between within-subjects variables for each condition, grouped by American/ European"
   ]
  },
  {
   "cell_type": "markdown",
   "id": "marine-netherlands",
   "metadata": {},
   "source": [
    "#### Condition 1 variants"
   ]
  },
  {
   "cell_type": "code",
   "execution_count": 147,
   "id": "coordinated-entrepreneur",
   "metadata": {},
   "outputs": [
    {
     "data": {
      "text/plain": [
       "F_onewayResult(statistic=0.036898644162980686, pvalue=0.8478463574426364)"
      ]
     },
     "execution_count": 147,
     "metadata": {},
     "output_type": "execute_result"
    }
   ],
   "source": [
    "f_oneway(c1v1_ame_fsa, c1v1_eur_fsa)"
   ]
  },
  {
   "cell_type": "code",
   "execution_count": 148,
   "id": "wooden-creator",
   "metadata": {},
   "outputs": [
    {
     "data": {
      "text/plain": [
       "F_onewayResult(statistic=0.49467301412349546, pvalue=0.48257407708951705)"
      ]
     },
     "execution_count": 148,
     "metadata": {},
     "output_type": "execute_result"
    }
   ],
   "source": [
    "f_oneway(c1v2_ame_fsa, c1v2_eur_fsa)"
   ]
  },
  {
   "cell_type": "code",
   "execution_count": 149,
   "id": "infectious-toyota",
   "metadata": {},
   "outputs": [
    {
     "data": {
      "text/plain": [
       "F_onewayResult(statistic=0.8379963713854206, pvalue=0.360925044269753)"
      ]
     },
     "execution_count": 149,
     "metadata": {},
     "output_type": "execute_result"
    }
   ],
   "source": [
    "f_oneway(c1v3_ame_fsa, c1v3_eur_fsa)"
   ]
  },
  {
   "cell_type": "markdown",
   "id": "distant-bride",
   "metadata": {},
   "source": [
    "#### Condition 2 variants"
   ]
  },
  {
   "cell_type": "code",
   "execution_count": 152,
   "id": "checked-virtue",
   "metadata": {},
   "outputs": [
    {
     "data": {
      "text/plain": [
       "F_onewayResult(statistic=2.8479787645855223, pvalue=0.09300235042908193)"
      ]
     },
     "execution_count": 152,
     "metadata": {},
     "output_type": "execute_result"
    }
   ],
   "source": [
    "f_oneway(c2v1_ame_fsa, c2v1_eur_fsa)"
   ]
  },
  {
   "cell_type": "code",
   "execution_count": 153,
   "id": "impossible-mission",
   "metadata": {},
   "outputs": [
    {
     "data": {
      "text/plain": [
       "F_onewayResult(statistic=0.0031896646107806284, pvalue=0.9550162017287244)"
      ]
     },
     "execution_count": 153,
     "metadata": {},
     "output_type": "execute_result"
    }
   ],
   "source": [
    "f_oneway(c2v2_ame_fsa, c2v2_eur_fsa)"
   ]
  },
  {
   "cell_type": "code",
   "execution_count": 154,
   "id": "revolutionary-egypt",
   "metadata": {},
   "outputs": [
    {
     "data": {
      "text/plain": [
       "F_onewayResult(statistic=2.255987378381639, pvalue=0.13462984842733516)"
      ]
     },
     "execution_count": 154,
     "metadata": {},
     "output_type": "execute_result"
    }
   ],
   "source": [
    "f_oneway(c2v3_ame_fsa, c2v3_eur_fsa)"
   ]
  },
  {
   "cell_type": "markdown",
   "id": "characteristic-component",
   "metadata": {},
   "source": [
    "#### Condition 3 variants"
   ]
  },
  {
   "cell_type": "code",
   "execution_count": 155,
   "id": "worldwide-asset",
   "metadata": {},
   "outputs": [
    {
     "data": {
      "text/plain": [
       "F_onewayResult(statistic=0.6742185087368571, pvalue=0.4125070798359254)"
      ]
     },
     "execution_count": 155,
     "metadata": {},
     "output_type": "execute_result"
    }
   ],
   "source": [
    "f_oneway(c3v1_ame_fsa, c3v1_eur_fsa)"
   ]
  },
  {
   "cell_type": "code",
   "execution_count": 156,
   "id": "southeast-taste",
   "metadata": {},
   "outputs": [
    {
     "data": {
      "text/plain": [
       "F_onewayResult(statistic=0.003245366719902473, pvalue=0.9546245006664426)"
      ]
     },
     "execution_count": 156,
     "metadata": {},
     "output_type": "execute_result"
    }
   ],
   "source": [
    "f_oneway(c3v2_ame_fsa, c3v2_eur_fsa)"
   ]
  },
  {
   "cell_type": "code",
   "execution_count": 157,
   "id": "environmental-employment",
   "metadata": {},
   "outputs": [
    {
     "data": {
      "text/plain": [
       "F_onewayResult(statistic=0.043891444634178045, pvalue=0.8342540880404514)"
      ]
     },
     "execution_count": 157,
     "metadata": {},
     "output_type": "execute_result"
    }
   ],
   "source": [
    "f_oneway(c3v3_ame_fsa, c3v3_eur_fsa)"
   ]
  },
  {
   "cell_type": "markdown",
   "id": "suited-improvement",
   "metadata": {},
   "source": [
    "### Interpretation: \n",
    "* No significant difference when comparing Americans and Europeans with regards to different variants"
   ]
  },
  {
   "cell_type": "markdown",
   "id": "creative-calgary",
   "metadata": {},
   "source": [
    "# Education: "
   ]
  },
  {
   "cell_type": "code",
   "execution_count": null,
   "id": "banned-token",
   "metadata": {},
   "outputs": [],
   "source": [
    "# Educati.loc[less_high['condition'] == 1]\n",
    "lh2 = less_high.loc[less_high['condition'] == 2]\n",
    "lh3 = less_high.loc[less_high['condition'] == 3]on \n",
    "e1 = md['user_id'].loc[md['education'] == 1].values\n",
    "e2 = md['user_id'].loc[md['education'] == 2].values\n",
    "e3 = md['user_id'].loc[md['education'] == 3].values\n",
    "e4 = md['user_id'].loc[md['education'] == 4].values\n",
    "e5 = md['user_id'].loc[md['education'] == 5].values\n",
    "# Prefer not say: e6 = md['user_id'].loc[md['education'] == 6].values\n"
   ]
  },
  {
   "cell_type": "code",
   "execution_count": 167,
   "id": "generic-poland",
   "metadata": {},
   "outputs": [],
   "source": [
    "less_high = ms[ms['user_id'].isin(e1)]\n",
    "high = ms[ms['user_id'].isin(e2)]\n",
    "bachelor = ms[ms['user_id'].isin(e3)]\n",
    "master = ms[ms['user_id'].isin(e4)]\n",
    "doc = ms[ms['user_id'].isin(e5)]\n",
    "\n",
    "lh1 = less_high.loc[less_high['condition'] == 1]\n",
    "lh2 = less_high.loc[less_high['condition'] == 2]\n",
    "lh3 = less_high.loc[less_high['condition'] == 3]\n",
    "\n",
    "# Conditions\n",
    "c1_ame = ame.loc[ame['condition'] == 1]\n",
    "c2_ame = ame.loc[ame['condition'] == 2]\n",
    "c3_ame = ame.loc[ame['condition'] == 3]\n",
    "\n",
    "c1_eur = eur.loc[eur['condition'] == 1]\n",
    "c2_eur = eur.loc[eur['condition'] == 2]\n",
    "c3_eur = eur.loc[eur['condition'] == 3]\n",
    "\n",
    "# Conditions FSA\n",
    "c1_less_high = less_high['fsa_score'][less_high['condition'] == 1].to_numpy()\n",
    "c2_less_high = less_high['fsa_score'][less_high['condition'] == 2].to_numpy()\n",
    "c3_less_high = less_high['fsa_score'][less_high['condition'] == 3].to_numpy()\n",
    "\n",
    "c1_high = high['fsa_score'][high['condition'] == 1].to_numpy()\n",
    "c2_high = high['fsa_score'][high['condition'] == 2].to_numpy()\n",
    "c3_high = high['fsa_score'][high['condition'] == 3].to_numpy()\n",
    "\n",
    "c1_bachelor = bachelor['fsa_score'][bachelor['condition'] == 1].to_numpy()\n",
    "c2_bachelor = bachelor['fsa_score'][bachelor['condition'] == 2].to_numpy()\n",
    "c3_bachelor = bachelor['fsa_score'][bachelor['condition'] == 3].to_numpy()\n",
    "\n",
    "c1_master = master['fsa_score'][master['condition'] == 1].to_numpy()\n",
    "c2_master = master['fsa_score'][master['condition'] == 2].to_numpy()\n",
    "c3_master = master['fsa_score'][master['condition'] == 3].to_numpy()\n",
    "\n",
    "c1_doc = doc['fsa_score'][doc['condition'] == 1].to_numpy()\n",
    "c2_doc = doc['fsa_score'][doc['condition'] == 2].to_numpy()\n",
    "c3_doc = doc['fsa_score'][doc['condition'] == 3].to_numpy()\n",
    "\n",
    "# Get FSA score for different within-subjects variables\n",
    "# Condition 1 variants FSA score\n",
    "c1v1_lh_fsa = lh1['fsa_score'][lh1['variant'] == 1].to_numpy()\n",
    "c1v2_lh_fsa = lh1['fsa_score'][lh1['variant'] == 2].to_numpy()\n",
    "c1v3_lh_fsa = lh1['fsa_score'][lh1['variant'] == 3].to_numpy()\n",
    "\n",
    "# Condition 1 variants FSA score\n",
    "c1v1_lh_fsa = lh1['fsa_score'][lh1['variant'] == 1].to_numpy()\n",
    "c1v2_lh_fsa = lh1['fsa_score'][lh1['variant'] == 2].to_numpy()\n",
    "c1v3_lh_fsa = lh1['fsa_score'][lh1['variant'] == 3].to_numpy()\n",
    "\n",
    "# Condition 1 variants FSA score\n",
    "c1v1_lh_fsa = lh1['fsa_score'][lh1['variant'] == 1].to_numpy()\n",
    "c1v2_lh_fsa = lh1['fsa_score'][lh1['variant'] == 2].to_numpy()\n",
    "c1v3_lh_fsa = lh1['fsa_score'][lh1['variant'] == 3].to_numpy()\n",
    "\n",
    "\n"
   ]
  },
  {
   "cell_type": "code",
   "execution_count": null,
   "id": "afraid-victoria",
   "metadata": {},
   "outputs": [],
   "source": [
    "# Overall comparison"
   ]
  },
  {
   "cell_type": "code",
   "execution_count": 160,
   "id": "subsequent-challenge",
   "metadata": {},
   "outputs": [
    {
     "data": {
      "text/plain": [
       "F_onewayResult(statistic=1.1014118259709829, pvalue=0.3547866725323077)"
      ]
     },
     "execution_count": 160,
     "metadata": {},
     "output_type": "execute_result"
    }
   ],
   "source": [
    "f_oneway(c1_less_high, c1_high, c1_bachelor, c1_master, c1_doc)"
   ]
  },
  {
   "cell_type": "code",
   "execution_count": 161,
   "id": "statutory-publisher",
   "metadata": {},
   "outputs": [
    {
     "data": {
      "text/plain": [
       "F_onewayResult(statistic=0.5678167749385556, pvalue=0.6860833424770949)"
      ]
     },
     "execution_count": 161,
     "metadata": {},
     "output_type": "execute_result"
    }
   ],
   "source": [
    "f_oneway(c2_less_high, c2_high, c2_bachelor, c2_master, c2_doc)"
   ]
  },
  {
   "cell_type": "code",
   "execution_count": 162,
   "id": "personalized-brooks",
   "metadata": {},
   "outputs": [
    {
     "data": {
      "text/plain": [
       "F_onewayResult(statistic=0.18965442128783647, pvalue=0.9438204495244502)"
      ]
     },
     "execution_count": 162,
     "metadata": {},
     "output_type": "execute_result"
    }
   ],
   "source": [
    "f_oneway(c3_less_high, c3_high, c3_bachelor, c3_master, c3_doc)"
   ]
  },
  {
   "cell_type": "code",
   "execution_count": null,
   "id": "protective-voice",
   "metadata": {},
   "outputs": [],
   "source": [
    "### Condition 1 variants"
   ]
  },
  {
   "cell_type": "code",
   "execution_count": null,
   "id": "adverse-bargain",
   "metadata": {},
   "outputs": [],
   "source": [
    "stats.ttestf_oneway(c1v1_ame_fsa, c1v1_eur_fsa)_ind(c1v1_ame_fsa, c1v1_eur_fsa)"
   ]
  },
  {
   "cell_type": "code",
   "execution_count": null,
   "id": "celtic-therapy",
   "metadata": {},
   "outputs": [],
   "source": []
  },
  {
   "cell_type": "markdown",
   "id": "amber-cassette",
   "metadata": {},
   "source": [
    "### Interpretation: \n",
    "Not much difference in FSA score when comparing the different conditions and grouping by education. "
   ]
  },
  {
   "cell_type": "markdown",
   "id": "outside-stereo",
   "metadata": {},
   "source": [
    "# Dietary goals: "
   ]
  },
  {
   "cell_type": "markdown",
   "id": "wanted-experience",
   "metadata": {},
   "source": [
    "* Dietary goals\n",
    "* Eat more protein\n",
    "* Eat less salt\n",
    "* Eat more fruit\n",
    "* Eat more vegetables\n",
    "* Lose weight\n",
    "* Gain weight\n",
    "* No goals\n",
    "* other_text\n"
   ]
  },
  {
   "cell_type": "code",
   "execution_count": 206,
   "id": "hired-vanilla",
   "metadata": {},
   "outputs": [
    {
     "data": {
      "text/plain": [
       "<matplotlib.lines.Line2D at 0x1746a591c48>"
      ]
     },
     "execution_count": 206,
     "metadata": {},
     "output_type": "execute_result"
    },
    {
     "data": {
      "image/png": "[encoded data removed]",
      "text/plain": [
       "<Figure size 1440x720 with 1 Axes>"
      ]
     },
     "metadata": {},
     "output_type": "display_data"
    }
   ],
   "source": [
    "pr = ms[ms['user_id'].isin(g1)]\n",
    "sa = ms[ms['user_id'].isin(g1)]\n",
    "fr = ms[ms['user_id'].isin(g3)]\n",
    "vg = ms[ms['user_id'].isin(g4)]\n",
    "lwe = ms[ms['user_id'].isin(g5)]\n",
    "gwe = ms[ms['user_id'].isin(g6)]\n",
    "none = ms[ms['user_id'].isin(g7)]\n",
    "\n",
    "pr1 = pr.loc[pr['condition'] == 1]\n",
    "pr2 = pr.loc[pr['condition'] == 2]\n",
    "pr3 = pr.loc[pr['condition'] == 3]\n",
    "\n",
    "sa1 = sa.loc[sa['condition'] == 1]\n",
    "sa2 = sa.loc[sa['condition'] == 2]\n",
    "sa3 = sa.loc[sa['condition'] == 3]\n",
    "\n",
    "vg1 = vg.loc[vg['condition'] == 1]\n",
    "vg2 = vg.loc[vg['condition'] == 2]\n",
    "vg3 = vg.loc[vg['condition'] == 3]\n",
    "\n",
    "fr1 = fr.loc[fr['condition'] == 1]\n",
    "fr2 = fr.loc[fr['condition'] == 2]\n",
    "fr3 = fr.loc[fr['condition'] == 3]\n",
    "\n",
    "lwe1 = lwe.loc[lwe['condition'] == 1]\n",
    "lwe2 = lwe.loc[lwe['condition'] == 2]\n",
    "lwe3 = lwe.loc[lwe['condition'] == 3]\n",
    "\n",
    "gwe1 = gwe.loc[gwe['condition'] == 1]\n",
    "gwe2 = gwe.loc[gwe['condition'] == 2]\n",
    "gwe3 = gwe.loc[gwe['condition'] == 3]\n",
    "\n",
    "none1 = none.loc[none['condition'] == 1]\n",
    "none2 = none.loc[none['condition'] == 2]\n",
    "none3 = none.loc[none['condition'] == 3]\n",
    "\n",
    "\n",
    "# Get FSA score for each group \n",
    "pr_fsa = pr['fsa_score'].to_numpy()\n",
    "sa_fsa = sa['fsa_score'].to_numpy()\n",
    "fr_fsa = fr['fsa_score'].to_numpy()\n",
    "vg_fsa = vg['fsa_score'].to_numpy()\n",
    "lwe_fsa = lwe['fsa_score'].to_numpy()\n",
    "gwe_fsa = gwe['fsa_score'].to_numpy()\n",
    "none_fsa = none['fsa_score'].to_numpy()\n",
    "\n",
    "# Get FSA score for different within-subjects variables\n",
    "# Condition 1 variants FSA score\n",
    "# Condition 1 variants FSA score\n",
    "c1v1_pr_fsa = pr['fsa_score'][pr['variant'] == 1].to_numpy()\n",
    "c1v2_pr_fsa = pr['fsa_score'][pr['variant'] == 2].to_numpy()\n",
    "c1v3_pr_fsa = pr['fsa_score'][pr['variant'] == 3].to_numpy()\n",
    "\n",
    "# Condition 2 variants FSA score\n",
    "\n",
    "# Condition 3 variants FSA score\n",
    "\n",
    "\n",
    "# Compare FSA score\n",
    "plt.figure()\n",
    "ax1 = sns.distplot(pr_fsa)\n",
    "ax2 = sns.distplot(sa_fsa)\n",
    "ax3 = sns.distplot(fr_fsa)\n",
    "ax4 = sns.distplot(vg_fsa)\n",
    "ax5 = sns.distplot(lwe_fsa)\n",
    "ax6 = sns.distplot(gwe_fsa)\n",
    "ax7 = sns.distplot(none_fsa)\n",
    "\n",
    "\n",
    "plt.axvline(np.mean(pr_fsa), color='blue', linestyle='dashed', linewidth=5)\n",
    "plt.axvline(np.mean(sa_fsa), color='orange', linestyle='dashed', linewidth=5)\n",
    "plt.axvline(np.mean(fr_fsa), color='yellow', linestyle='dashed', linewidth=5)\n",
    "plt.axvline(np.mean(vg_fsa), color='green', linestyle='dashed', linewidth=5)\n",
    "plt.axvline(np.mean(lwe_fsa), color='red', linestyle='dashed', linewidth=5)\n",
    "plt.axvline(np.mean(gwe_fsa), color='black', linestyle='dashed', linewidth=5)\n",
    "plt.axvline(np.mean(none_fsa), color='violet', linestyle='dashed', linewidth=5)\n",
    "\n",
    "\n",
    "# Orange = Eat less salt\n",
    "# Yellow = Eat more fruit (least healhty, but also smallest group)"
   ]
  },
  {
   "cell_type": "code",
   "execution_count": 207,
   "id": "senior-cannon",
   "metadata": {},
   "outputs": [
    {
     "name": "stdout",
     "output_type": "stream",
     "text": [
      "86\n",
      "86\n",
      "15\n",
      "94\n",
      "449\n",
      "92\n",
      "572\n"
     ]
    }
   ],
   "source": [
    "print(len(pr))\n",
    "print(len(sa))\n",
    "print(len(fr))\n",
    "print(len(vg))\n",
    "print(len(lwe))\n",
    "print(len(gwe))\n",
    "print(len(none))"
   ]
  },
  {
   "cell_type": "code",
   "execution_count": 208,
   "id": "floppy-suspect",
   "metadata": {},
   "outputs": [
    {
     "data": {
      "text/plain": [
       "F_onewayResult(statistic=0.4761452327276852, pvalue=0.8261546856504182)"
      ]
     },
     "execution_count": 208,
     "metadata": {},
     "output_type": "execute_result"
    }
   ],
   "source": [
    "# Compare Condition 1 FSA\n",
    "f_oneway(pr1['fsa_score'].to_numpy(), sa1['fsa_score'].to_numpy(), vg1['fsa_score'].to_numpy(), fr1['fsa_score'].to_numpy(), lwe1['fsa_score'].to_numpy(), gwe1['fsa_score'].to_numpy(), none1['fsa_score'].to_numpy())"
   ]
  },
  {
   "cell_type": "code",
   "execution_count": 209,
   "id": "measured-values",
   "metadata": {},
   "outputs": [
    {
     "data": {
      "text/plain": [
       "F_onewayResult(statistic=1.1987913123153562, pvalue=0.30562497437625114)"
      ]
     },
     "execution_count": 209,
     "metadata": {},
     "output_type": "execute_result"
    }
   ],
   "source": [
    "# COmapre condition 2 FSA\n",
    "f_oneway(pr2['fsa_score'].to_numpy(), sa2['fsa_score'].to_numpy(), vg2['fsa_score'].to_numpy(), fr2['fsa_score'].to_numpy(), lwe2['fsa_score'].to_numpy(), gwe2['fsa_score'].to_numpy(), none2['fsa_score'].to_numpy())"
   ]
  },
  {
   "cell_type": "code",
   "execution_count": 210,
   "id": "handmade-times",
   "metadata": {},
   "outputs": [
    {
     "data": {
      "text/plain": [
       "F_onewayResult(statistic=0.35719662173911254, pvalue=0.9056470924424069)"
      ]
     },
     "execution_count": 210,
     "metadata": {},
     "output_type": "execute_result"
    }
   ],
   "source": [
    "# Compare condition 3 FSA\n",
    "f_oneway(pr3['fsa_score'].to_numpy(), sa3['fsa_score'].to_numpy(), vg3['fsa_score'].to_numpy(), fr3['fsa_score'].to_numpy(), lwe3['fsa_score'].to_numpy(), gwe3['fsa_score'].to_numpy(), none3['fsa_score'].to_numpy())"
   ]
  },
  {
   "cell_type": "markdown",
   "id": "minute-venice",
   "metadata": {},
   "source": [
    "# Cooking experience: "
   ]
  },
  {
   "cell_type": "code",
   "execution_count": 649,
   "id": "polish-wholesale",
   "metadata": {},
   "outputs": [],
   "source": [
    "# Cooking experience\n",
    "c1 = md['user_id'].loc[md['experience'] == \"cverylow\"].values\n",
    "c2 = md['user_id'].loc[md['experience'] == \"clow\"].values\n",
    "c3 = md['user_id'].loc[md['experience'] == \"cmedium\"].values\n",
    "c4 = md['user_id'].loc[md['experience'] == \"chigh\"].values\n",
    "c5 = md['user_id'].loc[md['experience'] == \"cveryhigh\"].values"
   ]
  },
  {
   "cell_type": "code",
   "execution_count": 650,
   "id": "humanitarian-costa",
   "metadata": {},
   "outputs": [],
   "source": [
    "pr = ms[ms['user_id'].isin(c1)]\n",
    "sa = ms[ms['user_id'].isin(c2)]\n",
    "fr = ms[ms['user_id'].isin(c3)]\n",
    "vg = ms[ms['user_id'].isin(c4)]\n",
    "lwe = ms[ms['user_id'].isin(c5)]\n",
    "\n",
    "\n",
    "pr1 = pr.loc[pr['condition'] == 1] # Very low\n",
    "pr2 = pr.loc[pr['condition'] == 2]\n",
    "pr3 = pr.loc[pr['condition'] == 3]\n",
    "\n",
    "sa1 = sa.loc[sa['condition'] == 1] # Low\n",
    "sa2 = sa.loc[sa['condition'] == 2]\n",
    "sa3 = sa.loc[sa['condition'] == 3]\n",
    "\n",
    "vg1 = vg.loc[vg['condition'] == 1] # Medium\n",
    "vg2 = vg.loc[vg['condition'] == 2]\n",
    "vg3 = vg.loc[vg['condition'] == 3]\n",
    "\n",
    "fr1 = fr.loc[fr['condition'] == 1] # High\n",
    "fr2 = fr.loc[fr['condition'] == 2]\n",
    "fr3 = fr.loc[fr['condition'] == 3]\n",
    "\n",
    "lwe1 = lwe.loc[lwe['condition'] == 1] # Very high\n",
    "lwe2 = lwe.loc[lwe['condition'] == 2]\n",
    "lwe3 = lwe.loc[lwe['condition'] == 3]\n",
    "\n",
    "# Condition 1 variants FSA score\n",
    "\n",
    "# Condition 2 variants FSA score\n",
    "\n",
    "# Condition 3 variants FSA score\n",
    "\n",
    "\n",
    "# Get FSA score for each group \n",
    "pr_fsa = pr['fsa_score'].to_numpy()\n",
    "sa_fsa = sa['fsa_score'].to_numpy()\n",
    "fr_fsa = fr['fsa_score'].to_numpy()\n",
    "vg_fsa = vg['fsa_score'].to_numpy()\n",
    "lwe_fsa = lwe['fsa_score'].to_numpy()\n",
    "gwe_fsa = gwe['fsa_score'].to_numpy()\n",
    "none_fsa = none['fsa_score'].to_numpy()"
   ]
  },
  {
   "cell_type": "code",
   "execution_count": null,
   "id": "binary-aluminum",
   "metadata": {},
   "outputs": [],
   "source": [
    "## Compare cooking experience within "
   ]
  },
  {
   "cell_type": "code",
   "execution_count": 651,
   "id": "warming-accreditation",
   "metadata": {},
   "outputs": [
    {
     "data": {
      "text/plain": [
       "F_onewayResult(statistic=2.208970599061608, pvalue=0.06647765613587168)"
      ]
     },
     "execution_count": 651,
     "metadata": {},
     "output_type": "execute_result"
    }
   ],
   "source": [
    "# Compare Condition 1 FSA\n",
    "f_oneway(pr1['fsa_score'].to_numpy(), sa1['fsa_score'].to_numpy(), vg1['fsa_score'].to_numpy(), fr1['fsa_score'].to_numpy(), lwe1['fsa_score'].to_numpy())"
   ]
  },
  {
   "cell_type": "code",
   "execution_count": 652,
   "id": "korean-papua",
   "metadata": {},
   "outputs": [
    {
     "data": {
      "text/plain": [
       "F_onewayResult(statistic=0.5250167624454278, pvalue=0.717387606821279)"
      ]
     },
     "execution_count": 652,
     "metadata": {},
     "output_type": "execute_result"
    }
   ],
   "source": [
    "# Compare condition 2 FSA\n",
    "f_oneway(pr2['fsa_score'].to_numpy(), sa2['fsa_score'].to_numpy(), vg2['fsa_score'].to_numpy(), fr2['fsa_score'].to_numpy(), lwe2['fsa_score'].to_numpy())"
   ]
  },
  {
   "cell_type": "code",
   "execution_count": 653,
   "id": "minimal-objective",
   "metadata": {},
   "outputs": [
    {
     "data": {
      "text/plain": [
       "F_onewayResult(statistic=0.5343464659428293, pvalue=0.7105458774714402)"
      ]
     },
     "execution_count": 653,
     "metadata": {},
     "output_type": "execute_result"
    }
   ],
   "source": [
    "f_oneway(pr3['fsa_score'].to_numpy(), sa3['fsa_score'].to_numpy(), vg3['fsa_score'].to_numpy(), fr3['fsa_score'].to_numpy(), lwe3['fsa_score'].to_numpy())"
   ]
  },
  {
   "cell_type": "code",
   "execution_count": 234,
   "id": "legal-twins",
   "metadata": {},
   "outputs": [
    {
     "data": {
      "text/plain": [
       "5.75"
      ]
     },
     "execution_count": 234,
     "metadata": {},
     "output_type": "execute_result"
    }
   ],
   "source": [
    "# Closer look at condition 1 \n",
    "# Ver low\n",
    "pr1['fsa_score'].to_numpy().mean()\n",
    "\n",
    "# Participants with lowest cooking experience choose the healtiest recipes in the Nutri score condition"
   ]
  },
  {
   "cell_type": "code",
   "execution_count": 643,
   "id": "complex-commodity",
   "metadata": {},
   "outputs": [
    {
     "name": "stdout",
     "output_type": "stream",
     "text": [
      "6.438095238095238\n",
      "6.441441441441442\n",
      "6.819277108433735\n"
     ]
    }
   ],
   "source": [
    "# Low\n",
    "print(sa1['fsa_score'].to_numpy().mean())\n",
    "print(sa2['fsa_score'].to_numpy().mean())\n",
    "print(sa3['fsa_score'].to_numpy().mean())\n"
   ]
  },
  {
   "cell_type": "code",
   "execution_count": 236,
   "id": "deluxe-conducting",
   "metadata": {},
   "outputs": [
    {
     "data": {
      "text/plain": [
       "6.564971751412429"
      ]
     },
     "execution_count": 236,
     "metadata": {},
     "output_type": "execute_result"
    }
   ],
   "source": [
    "# Medium \n",
    "vg1['fsa_score'].to_numpy().mean()"
   ]
  },
  {
   "cell_type": "code",
   "execution_count": 237,
   "id": "earned-restaurant",
   "metadata": {},
   "outputs": [
    {
     "data": {
      "text/plain": [
       "6.469387755102041"
      ]
     },
     "execution_count": 237,
     "metadata": {},
     "output_type": "execute_result"
    }
   ],
   "source": [
    "# High\n",
    "fr1['fsa_score'].to_numpy().mean()"
   ]
  },
  {
   "cell_type": "code",
   "execution_count": 220,
   "id": "rough-demonstration",
   "metadata": {},
   "outputs": [
    {
     "data": {
      "text/plain": [
       "6.261904761904762"
      ]
     },
     "execution_count": 220,
     "metadata": {},
     "output_type": "execute_result"
    }
   ],
   "source": [
    "# Very high\n",
    "lwe1['fsa_score'].to_numpy().mean()"
   ]
  },
  {
   "cell_type": "code",
   "execution_count": 245,
   "id": "pressed-consent",
   "metadata": {},
   "outputs": [
    {
     "data": {
      "text/plain": [
       "Ttest_indResult(statistic=-2.2388101875769726, pvalue=0.026592261993160133)"
      ]
     },
     "execution_count": 245,
     "metadata": {},
     "output_type": "execute_result"
    }
   ],
   "source": [
    "stats.ttest_ind(pr1['fsa_score'].to_numpy(),sa1['fsa_score'].to_numpy() )"
   ]
  },
  {
   "cell_type": "code",
   "execution_count": 246,
   "id": "gorgeous-reader",
   "metadata": {},
   "outputs": [
    {
     "data": {
      "text/plain": [
       "Ttest_indResult(statistic=-2.825059142761399, pvalue=0.005208739017764834)"
      ]
     },
     "execution_count": 246,
     "metadata": {},
     "output_type": "execute_result"
    }
   ],
   "source": [
    "stats.ttest_ind(pr1['fsa_score'].to_numpy(),vg1['fsa_score'].to_numpy() )"
   ]
  },
  {
   "cell_type": "code",
   "execution_count": 248,
   "id": "current-links",
   "metadata": {},
   "outputs": [
    {
     "data": {
      "text/plain": [
       "Ttest_indResult(statistic=-2.4429905937757073, pvalue=0.015039440219702828)"
      ]
     },
     "execution_count": 248,
     "metadata": {},
     "output_type": "execute_result"
    }
   ],
   "source": [
    "stats.ttest_ind(pr1['fsa_score'].to_numpy(),fr1['fsa_score'].to_numpy() )"
   ]
  },
  {
   "cell_type": "code",
   "execution_count": 249,
   "id": "clear-water",
   "metadata": {},
   "outputs": [
    {
     "data": {
      "text/plain": [
       "Ttest_indResult(statistic=-1.5216770732743936, pvalue=0.1330158086714692)"
      ]
     },
     "execution_count": 249,
     "metadata": {},
     "output_type": "execute_result"
    }
   ],
   "source": [
    "stats.ttest_ind(pr1['fsa_score'].to_numpy(),lwe1['fsa_score'].to_numpy() )"
   ]
  },
  {
   "cell_type": "markdown",
   "id": "minute-emperor",
   "metadata": {},
   "source": [
    "### Interpretation: \n",
    "* Participants with lowest cooking experience choose the healtiest recipes in the Nutri score condition\n",
    "* "
   ]
  },
  {
   "cell_type": "code",
   "execution_count": null,
   "id": "optical-sullivan",
   "metadata": {},
   "outputs": [],
   "source": []
  },
  {
   "cell_type": "markdown",
   "id": "incorporated-modeling",
   "metadata": {},
   "source": [
    "# Eating habits"
   ]
  },
  {
   "cell_type": "code",
   "execution_count": 262,
   "id": "fantastic-arthur",
   "metadata": {},
   "outputs": [],
   "source": [
    "# Eating habits\n",
    "h1 = md['user_id'].loc[md['eating_habits'] == \"vunhealthy\"].values\n",
    "h2 = md['user_id'].loc[md['eating_habits'] == \"unhealthy\"].values\n",
    "h3 = md['user_id'].loc[md['eating_habits'] == \"neutral\"].values\n",
    "h4 = md['user_id'].loc[md['eating_habits'] == \"healthy\"].values\n",
    "h5 = md['user_id'].loc[md['eating_habits'] == \"vhealhty\"].values"
   ]
  },
  {
   "cell_type": "code",
   "execution_count": 287,
   "id": "meaningful-local",
   "metadata": {},
   "outputs": [],
   "source": [
    "pr = ms[ms['user_id'].isin(h1)]\n",
    "sa = ms[ms['user_id'].isin(h2)]\n",
    "fr = ms[ms['user_id'].isin(h3)]\n",
    "vg = ms[ms['user_id'].isin(h4)]\n",
    "lwe = ms[ms['user_id'].isin(h5)]\n",
    "\n",
    "# Get all conditions \n",
    "pr1 = pr.loc[pr['condition'] == 1]\n",
    "pr2 = pr.loc[pr['condition'] == 2]\n",
    "pr3 = pr.loc[pr['condition'] == 3]\n",
    "\n",
    "sa1 = sa.loc[sa['condition'] == 1]\n",
    "sa2 = sa.loc[sa['condition'] == 2]\n",
    "sa3 = sa.loc[sa['condition'] == 3]\n",
    "\n",
    "vg1 = vg.loc[vg['condition'] == 1]\n",
    "vg2 = vg.loc[vg['condition'] == 2]\n",
    "vg3 = vg.loc[vg['condition'] == 3]\n",
    "\n",
    "fr1 = fr.loc[fr['condition'] == 1]\n",
    "fr2 = fr.loc[fr['condition'] == 2]\n",
    "fr3 = fr.loc[fr['condition'] == 3]\n",
    "\n",
    "lwe1 = lwe.loc[lwe['condition'] == 1]\n",
    "lwe2 = lwe.loc[lwe['condition'] == 2]\n",
    "lwe3 = lwe.loc[lwe['condition'] == 3]\n",
    "\n",
    "# Get FSA score for different within-subjects variables\n",
    "# Condition 1 variants FSA score\n",
    "c1v1_pr1_fsa = pr1['fsa_score'][pr1['variant'] == 1].to_numpy()\n",
    "c1v2_pr1_fsa = pr1['fsa_score'][pr1['variant'] == 2].to_numpy()\n",
    "c1v3_pr1_fsa = pr1['fsa_score'][pr1['variant'] == 3].to_numpy()\n",
    "\n",
    "c1v1_sa1_fsa = sa1['fsa_score'][sa1['variant'] == 1].to_numpy()\n",
    "c1v2_sa1_fsa = sa1['fsa_score'][sa1['variant'] == 2].to_numpy()\n",
    "c1v3_sa1_fsa = sa1['fsa_score'][sa1['variant'] == 3].to_numpy()\n",
    "\n",
    "c1v1_vg1_fsa = vg1['fsa_score'][vg1['variant'] == 1].to_numpy()\n",
    "c1v2_vg1_fsa = vg1['fsa_score'][vg1['variant'] == 2].to_numpy()\n",
    "c1v3_vg1_fsa = vg1['fsa_score'][vg1['variant'] == 3].to_numpy()\n",
    "\n",
    "c1v1_fr1_fsa = fr1['fsa_score'][fr1['variant'] == 1].to_numpy()\n",
    "c1v2_fr1_fsa = fr1['fsa_score'][fr1['variant'] == 2].to_numpy()\n",
    "c1v3_fr1_fsa = fr1['fsa_score'][fr1['variant'] == 3].to_numpy()\n",
    "\n",
    "c1v1_lwe1_fsa = lwe1['fsa_score'][lwe1['variant'] == 1].to_numpy()\n",
    "c1v2_lwe1_fsa = lwe1['fsa_score'][lwe1['variant'] == 2].to_numpy()\n",
    "c1v3_lwe1_fsa = lwe1['fsa_score'][lwe1['variant'] == 3].to_numpy()\n",
    "\n",
    "# Condition 2 variants FSA score\n",
    "c2v1_pr2_fsa = pr2['fsa_score'][pr2['variant'] == 1].to_numpy()\n",
    "c2v2_pr2_fsa = pr2['fsa_score'][pr2['variant'] == 2].to_numpy()\n",
    "c2v3_pr2_fsa = pr2['fsa_score'][pr2['variant'] == 3].to_numpy()\n",
    "\n",
    "c2v1_sa2_fsa = sa2['fsa_score'][sa2['variant'] == 1].to_numpy()\n",
    "c2v2_sa2_fsa = sa2['fsa_score'][sa2['variant'] == 2].to_numpy()\n",
    "c2v3_sa2_fsa = sa2['fsa_score'][sa2['variant'] == 3].to_numpy()\n",
    "\n",
    "c2v1_vg2_fsa = vg2['fsa_score'][vg2['variant'] == 1].to_numpy()\n",
    "c2v2_vg2_fsa = vg2['fsa_score'][vg2['variant'] == 2].to_numpy()\n",
    "c2v3_vg2_fsa = vg2['fsa_score'][vg2['variant'] == 3].to_numpy()\n",
    "\n",
    "c2v1_fr2_fsa = fr2['fsa_score'][fr2['variant'] == 1].to_numpy()\n",
    "c2v2_fr2_fsa = fr2['fsa_score'][fr2['variant'] == 2].to_numpy()\n",
    "c2v3_fr2_fsa = fr2['fsa_score'][fr2['variant'] == 3].to_numpy()\n",
    "\n",
    "c2v1_lwe2_fsa = lwe2['fsa_score'][lwe2['variant'] == 1].to_numpy()\n",
    "c2v2_lwe2_fsa = lwe2['fsa_score'][lwe2['variant'] == 2].to_numpy()\n",
    "c2v3_lwe2_fsa = lwe2['fsa_score'][lwe2['variant'] == 3].to_numpy()\n",
    "\n",
    "\n",
    "# Condition 3 variants FSA score \n",
    "c3v1_pr3_fsa = pr3['fsa_score'][pr3['variant'] == 1].to_numpy()\n",
    "c3v2_pr3_fsa = pr3['fsa_score'][pr3['variant'] == 2].to_numpy()\n",
    "c3v3_pr3_fsa = pr3['fsa_score'][pr3['variant'] == 3].to_numpy()\n",
    "\n",
    "c3v1_sa3_fsa = sa3['fsa_score'][sa3['variant'] == 1].to_numpy()\n",
    "c3v2_sa3_fsa = sa3['fsa_score'][sa3['variant'] == 2].to_numpy()\n",
    "c3v3_sa3_fsa = sa3['fsa_score'][sa3['variant'] == 3].to_numpy()\n",
    "\n",
    "c3v1_vg3_fsa = vg3['fsa_score'][vg3['variant'] == 1].to_numpy()\n",
    "c3v2_vg3_fsa = vg3['fsa_score'][vg3['variant'] == 2].to_numpy()\n",
    "c3v3_vg3_fsa = vg3['fsa_score'][vg3['variant'] == 3].to_numpy()\n",
    "\n",
    "c3v1_fr3_fsa = fr3['fsa_score'][fr3['variant'] == 1].to_numpy()\n",
    "c3v2_fr3_fsa = fr3['fsa_score'][fr3['variant'] == 2].to_numpy()\n",
    "c3v3_fr3_fsa = fr3['fsa_score'][fr3['variant'] == 3].to_numpy()\n",
    "\n",
    "c3v1_lwe3_fsa = lwe3['fsa_score'][lwe3['variant'] == 1].to_numpy()\n",
    "c3v2_lwe3_fsa = lwe3['fsa_score'][lwe3['variant'] == 2].to_numpy()\n",
    "c3v3_lwe3_fsa = lwe3['fsa_score'][lwe3['variant'] == 3].to_numpy()\n"
   ]
  },
  {
   "cell_type": "markdown",
   "id": "typical-housing",
   "metadata": {},
   "source": [
    "## Compare FSA between conditions "
   ]
  },
  {
   "cell_type": "code",
   "execution_count": 288,
   "id": "proved-diameter",
   "metadata": {},
   "outputs": [
    {
     "data": {
      "text/plain": [
       "F_onewayResult(statistic=0.10212051514971655, pvalue=0.9817387057783373)"
      ]
     },
     "execution_count": 288,
     "metadata": {},
     "output_type": "execute_result"
    }
   ],
   "source": [
    "# Compare Condition 1 FSA\n",
    "f_oneway(pr1['fsa_score'].to_numpy(), sa1['fsa_score'].to_numpy(), vg1['fsa_score'].to_numpy(), fr1['fsa_score'].to_numpy(), lwe1['fsa_score'].to_numpy())"
   ]
  },
  {
   "cell_type": "code",
   "execution_count": 289,
   "id": "dominant-russian",
   "metadata": {},
   "outputs": [
    {
     "data": {
      "text/plain": [
       "F_onewayResult(statistic=1.8827240887369743, pvalue=0.11161003531239228)"
      ]
     },
     "execution_count": 289,
     "metadata": {},
     "output_type": "execute_result"
    }
   ],
   "source": [
    "# Cond 2 FSA\n",
    "f_oneway(pr2['fsa_score'].to_numpy(), sa2['fsa_score'].to_numpy(), vg2['fsa_score'].to_numpy(), fr2['fsa_score'].to_numpy(), lwe2['fsa_score'].to_numpy())"
   ]
  },
  {
   "cell_type": "code",
   "execution_count": 290,
   "id": "operating-showcase",
   "metadata": {},
   "outputs": [
    {
     "data": {
      "text/plain": [
       "F_onewayResult(statistic=1.2816190709937862, pvalue=0.2756806844564364)"
      ]
     },
     "execution_count": 290,
     "metadata": {},
     "output_type": "execute_result"
    }
   ],
   "source": [
    "# COnd 3 FSA\n",
    "f_oneway(pr3['fsa_score'].to_numpy(), sa3['fsa_score'].to_numpy(), vg3['fsa_score'].to_numpy(), fr3['fsa_score'].to_numpy(), lwe3['fsa_score'].to_numpy())"
   ]
  },
  {
   "cell_type": "code",
   "execution_count": null,
   "id": "explicit-yugoslavia",
   "metadata": {},
   "outputs": [],
   "source": [
    "# Condition 2 closer look"
   ]
  },
  {
   "cell_type": "code",
   "execution_count": 267,
   "id": "monthly-happening",
   "metadata": {},
   "outputs": [
    {
     "data": {
      "text/plain": [
       "6.352941176470588"
      ]
     },
     "execution_count": 267,
     "metadata": {},
     "output_type": "execute_result"
    }
   ],
   "source": [
    "pr2['fsa_score'].to_numpy().mean()"
   ]
  },
  {
   "cell_type": "code",
   "execution_count": 269,
   "id": "warming-revision",
   "metadata": {},
   "outputs": [
    {
     "data": {
      "text/plain": [
       "6.441441441441442"
      ]
     },
     "execution_count": 269,
     "metadata": {},
     "output_type": "execute_result"
    }
   ],
   "source": [
    "sa2['fsa_score'].to_numpy().mean()"
   ]
  },
  {
   "cell_type": "code",
   "execution_count": 270,
   "id": "essential-police",
   "metadata": {},
   "outputs": [
    {
     "data": {
      "text/plain": [
       "6.181818181818182"
      ]
     },
     "execution_count": 270,
     "metadata": {},
     "output_type": "execute_result"
    }
   ],
   "source": [
    "vg2['fsa_score'].to_numpy().mean() # Neutral"
   ]
  },
  {
   "cell_type": "code",
   "execution_count": 271,
   "id": "religious-senegal",
   "metadata": {},
   "outputs": [
    {
     "data": {
      "text/plain": [
       "6.478102189781022"
      ]
     },
     "execution_count": 271,
     "metadata": {},
     "output_type": "execute_result"
    }
   ],
   "source": [
    "fr2['fsa_score'].to_numpy().mean() # Healthy"
   ]
  },
  {
   "cell_type": "code",
   "execution_count": 272,
   "id": "romantic-branch",
   "metadata": {},
   "outputs": [
    {
     "data": {
      "text/plain": [
       "6.358974358974359"
      ]
     },
     "execution_count": 272,
     "metadata": {},
     "output_type": "execute_result"
    }
   ],
   "source": [
    "lwe2['fsa_score'].to_numpy().mean()"
   ]
  },
  {
   "cell_type": "code",
   "execution_count": 275,
   "id": "protected-upper",
   "metadata": {},
   "outputs": [
    {
     "data": {
      "text/plain": [
       "Ttest_indResult(statistic=-2.6434683400172485, pvalue=0.008436841812230797)"
      ]
     },
     "execution_count": 275,
     "metadata": {},
     "output_type": "execute_result"
    }
   ],
   "source": [
    "# Difference between those with Neutral eating habits and healthy eating habits. \n",
    "stats.ttest_ind(vg2['fsa_score'].to_numpy(), fr2['fsa_score'].to_numpy())"
   ]
  },
  {
   "cell_type": "markdown",
   "id": "figured-aurora",
   "metadata": {},
   "source": [
    "## Compare variants within conditions based on group"
   ]
  },
  {
   "cell_type": "code",
   "execution_count": 291,
   "id": "eligible-master",
   "metadata": {},
   "outputs": [
    {
     "name": "stdout",
     "output_type": "stream",
     "text": [
      "F_onewayResult(statistic=0.11354402739591983, pvalue=0.9776687319180382)\n",
      "F_onewayResult(statistic=0.8920903280452316, pvalue=0.46933804066117324)\n",
      "F_onewayResult(statistic=1.2758272436801972, pvalue=0.28012646222650084)\n"
     ]
    }
   ],
   "source": [
    "# Compare variants in condition 1 \n",
    "print(f_oneway(c1v1_pr1_fsa, c1v1_sa1_fsa, c1v1_vg1_fsa, c1v1_fr1_fsa, c1v1_lwe1_fsa ))\n",
    "print(f_oneway(c1v2_pr1_fsa, c1v2_sa1_fsa, c1v2_vg1_fsa, c1v2_fr1_fsa, c1v2_lwe1_fsa ))\n",
    "print(f_oneway(c1v3_pr1_fsa, c1v3_sa1_fsa, c1v3_vg1_fsa, c1v3_fr1_fsa, c1v3_lwe1_fsa ))"
   ]
  },
  {
   "cell_type": "code",
   "execution_count": 297,
   "id": "powerful-bridges",
   "metadata": {},
   "outputs": [
    {
     "name": "stdout",
     "output_type": "stream",
     "text": [
      "F_onewayResult(statistic=2.670460841072331, pvalue=0.03291885617810335)\n",
      "F_onewayResult(statistic=0.23750364757600437, pvalue=0.9169691749260217)\n",
      "F_onewayResult(statistic=0.7357654448417507, pvalue=0.5683741035714385)\n"
     ]
    }
   ],
   "source": [
    "# Compare variants in condition 2\n",
    "print(f_oneway(c2v1_pr2_fsa, c2v1_sa2_fsa, c2v1_vg2_fsa, c2v1_fr2_fsa, c2v1_lwe2_fsa ))\n",
    "print(f_oneway(c2v2_pr2_fsa, c2v2_sa2_fsa, c2v2_vg2_fsa, c2v2_fr2_fsa, c2v2_lwe2_fsa ))\n",
    "print(f_oneway(c2v3_pr2_fsa, c2v3_sa2_fsa, c2v3_vg2_fsa, c2v3_fr2_fsa, c2v3_lwe2_fsa ))"
   ]
  },
  {
   "cell_type": "code",
   "execution_count": 456,
   "id": "chronic-desire",
   "metadata": {},
   "outputs": [
    {
     "name": "stdout",
     "output_type": "stream",
     "text": [
      "6.333333333333333\n",
      "6.324324324324325\n",
      "6.0212765957446805\n",
      "6.615384615384615\n",
      "6.538461538461538\n"
     ]
    }
   ],
   "source": [
    "print(c2v1_pr2_fsa.mean()) # Very unhealthy\n",
    "print(c2v1_sa2_fsa.mean()) # Unhealthy\n",
    "print(c2v1_vg2_fsa.mean()) # Healthy\n",
    "print(c2v1_fr2_fsa.mean()) # Neutral\n",
    "print(c2v1_lwe2_fsa.mean()) # Very healthy"
   ]
  },
  {
   "cell_type": "code",
   "execution_count": 295,
   "id": "technical-drain",
   "metadata": {},
   "outputs": [
    {
     "name": "stdout",
     "output_type": "stream",
     "text": [
      "F_onewayResult(statistic=0.39742875651256276, pvalue=0.8103902113288756)\n",
      "F_onewayResult(statistic=0.5455504108863636, pvalue=0.7024481268804733)\n",
      "F_onewayResult(statistic=1.0770686266418072, pvalue=0.3685216943514892)\n"
     ]
    }
   ],
   "source": [
    "# Compare variants in condition 3\n",
    "print(f_oneway(c3v1_pr3_fsa, c3v1_sa3_fsa, c3v1_vg3_fsa, c3v1_fr3_fsa, c3v1_lwe3_fsa ))\n",
    "print(f_oneway(c3v2_pr3_fsa, c3v2_sa3_fsa, c3v2_vg3_fsa, c3v2_fr3_fsa, c3v2_lwe3_fsa ))\n",
    "print(f_oneway(c3v3_pr3_fsa, c3v3_sa3_fsa, c3v3_vg3_fsa, c3v3_fr3_fsa, c3v3_lwe3_fsa ))"
   ]
  },
  {
   "cell_type": "markdown",
   "id": "unlike-saturn",
   "metadata": {},
   "source": [
    "# MTL → any nutrients that were especially influential across the 3 different choices of recipes?\n",
    "* Look at answers in end survey"
   ]
  },
  {
   "cell_type": "code",
   "execution_count": 39,
   "id": "hundred-emission",
   "metadata": {},
   "outputs": [],
   "source": [
    "# End survey\n",
    "e1 = pd.read_csv(\"./Pro_1/endsurvey.csv\")\n",
    "e2 = pd.read_csv(\"./Pro_2/endsurvey.csv\")\n",
    "e3 = pd.read_csv(\"./Pro_3/endsurvey.csv\")\n",
    "\n",
    "# Clean label_q3 column\n",
    "e1['label_q3'] = e1['label_q3'].str.strip('[]').astype(str)\n",
    "e1['label_q3'] = e1['label_q3'].str.replace('\"', '')\n",
    "e1['label_q3'] = e1['label_q3'].astype(str)\n",
    "\n",
    "e2['label_q3'] = e2['label_q3'].str.strip('[]').astype(str)\n",
    "e2['label_q3'] = e2['label_q3'].str.replace('\"', '')\n",
    "e2['label_q3'] = e2['label_q3'].astype(str)\n",
    "\n",
    "e3['label_q3'] = e3['label_q3'].str.strip('[]').astype(str)\n",
    "e3['label_q3'] = e3['label_q3'].str.replace('\"', '')\n",
    "e3['label_q3'] = e3['label_q3'].astype(str)\n",
    "\n",
    "# Get user_id\n",
    "#ame_end = e1[e1['user_id'].isin(n1)]\n",
    "#eur_end = e1[e1['user_id'].isin(n2)]"
   ]
  },
  {
   "cell_type": "code",
   "execution_count": 13,
   "id": "derived-visitor",
   "metadata": {},
   "outputs": [
    {
     "name": "stdout",
     "output_type": "stream",
     "text": [
      "<class 'pandas.core.frame.DataFrame'>\n",
      "RangeIndex: 243 entries, 0 to 242\n",
      "Data columns (total 7 columns):\n",
      " #   Column        Non-Null Count  Dtype \n",
      "---  ------        --------------  ----- \n",
      " 0   Unnamed: 0    243 non-null    int64 \n",
      " 1   user_id       243 non-null    int64 \n",
      " 2   condition     243 non-null    int64 \n",
      " 3   submitted_at  243 non-null    object\n",
      " 4   label_q1      243 non-null    int64 \n",
      " 5   label_q2      243 non-null    int64 \n",
      " 6   label_q3      243 non-null    object\n",
      "dtypes: int64(5), object(2)\n",
      "memory usage: 13.4+ KB\n"
     ]
    }
   ],
   "source": [
    "e1.info()"
   ]
  },
  {
   "cell_type": "code",
   "execution_count": 38,
   "id": "stuck-improvement",
   "metadata": {},
   "outputs": [
    {
     "ename": "TypeError",
     "evalue": "repl must be a string or callable",
     "output_type": "error",
     "traceback": [
      "\u001b[1;31m---------------------------------------------------------------------------\u001b[0m",
      "\u001b[1;31mTypeError\u001b[0m                                 Traceback (most recent call last)",
      "\u001b[1;32m<ipython-input-38-d9b531806660>\u001b[0m in \u001b[0;36m<module>\u001b[1;34m\u001b[0m\n\u001b[0;32m      1\u001b[0m \u001b[1;31m#e1['label_q3'] = e1['label_q3'].str.split(\",\",expand=True).replace(['image','ingredient','health','title','cal', 'rating', 'goals', 'numrating'],['Attractive images','A specific ingredient','Healthiness','Recipe title','Calories', 'High ratings', 'My health goals', 'Number of ratings'])\u001b[0m\u001b[1;33m\u001b[0m\u001b[1;33m\u001b[0m\u001b[1;33m\u001b[0m\u001b[0m\n\u001b[0;32m      2\u001b[0m \u001b[1;33m\u001b[0m\u001b[0m\n\u001b[1;32m----> 3\u001b[1;33m \u001b[0me1\u001b[0m\u001b[1;33m[\u001b[0m\u001b[1;34m'label_q3'\u001b[0m\u001b[1;33m]\u001b[0m \u001b[1;33m=\u001b[0m \u001b[0me1\u001b[0m\u001b[1;33m[\u001b[0m\u001b[1;34m'label_q3'\u001b[0m\u001b[1;33m]\u001b[0m\u001b[1;33m.\u001b[0m\u001b[0mstr\u001b[0m\u001b[1;33m.\u001b[0m\u001b[0mreplace\u001b[0m\u001b[1;33m(\u001b[0m\u001b[1;33m[\u001b[0m\u001b[1;34m'image'\u001b[0m\u001b[1;33m,\u001b[0m\u001b[1;34m'ingredient'\u001b[0m\u001b[1;33m,\u001b[0m\u001b[1;34m'health'\u001b[0m\u001b[1;33m,\u001b[0m\u001b[1;34m'title'\u001b[0m\u001b[1;33m,\u001b[0m\u001b[1;34m'cal'\u001b[0m\u001b[1;33m,\u001b[0m \u001b[1;34m'rating'\u001b[0m\u001b[1;33m,\u001b[0m \u001b[1;34m'goals'\u001b[0m\u001b[1;33m,\u001b[0m \u001b[1;34m'numrating'\u001b[0m\u001b[1;33m]\u001b[0m\u001b[1;33m,\u001b[0m\u001b[1;33m[\u001b[0m\u001b[1;34m'Attractive images'\u001b[0m\u001b[1;33m,\u001b[0m\u001b[1;34m'A specific ingredient'\u001b[0m\u001b[1;33m,\u001b[0m\u001b[1;34m'Healthiness'\u001b[0m\u001b[1;33m,\u001b[0m\u001b[1;34m'Recipe title'\u001b[0m\u001b[1;33m,\u001b[0m\u001b[1;34m'Calories'\u001b[0m\u001b[1;33m,\u001b[0m \u001b[1;34m'High ratings'\u001b[0m\u001b[1;33m,\u001b[0m \u001b[1;34m'My health goals'\u001b[0m\u001b[1;33m,\u001b[0m \u001b[1;34m'Number of ratings'\u001b[0m\u001b[1;33m]\u001b[0m\u001b[1;33m)\u001b[0m\u001b[1;33m\u001b[0m\u001b[1;33m\u001b[0m\u001b[0m\n\u001b[0m",
      "\u001b[1;32mC:\\ProgramData\\Anaconda3\\lib\\site-packages\\pandas\\core\\strings\\accessor.py\u001b[0m in \u001b[0;36mwrapper\u001b[1;34m(self, *args, **kwargs)\u001b[0m\n\u001b[0;32m     99\u001b[0m                 )\n\u001b[0;32m    100\u001b[0m                 \u001b[1;32mraise\u001b[0m \u001b[0mTypeError\u001b[0m\u001b[1;33m(\u001b[0m\u001b[0mmsg\u001b[0m\u001b[1;33m)\u001b[0m\u001b[1;33m\u001b[0m\u001b[1;33m\u001b[0m\u001b[0m\n\u001b[1;32m--> 101\u001b[1;33m             \u001b[1;32mreturn\u001b[0m \u001b[0mfunc\u001b[0m\u001b[1;33m(\u001b[0m\u001b[0mself\u001b[0m\u001b[1;33m,\u001b[0m \u001b[1;33m*\u001b[0m\u001b[0margs\u001b[0m\u001b[1;33m,\u001b[0m \u001b[1;33m**\u001b[0m\u001b[0mkwargs\u001b[0m\u001b[1;33m)\u001b[0m\u001b[1;33m\u001b[0m\u001b[1;33m\u001b[0m\u001b[0m\n\u001b[0m\u001b[0;32m    102\u001b[0m \u001b[1;33m\u001b[0m\u001b[0m\n\u001b[0;32m    103\u001b[0m         \u001b[0mwrapper\u001b[0m\u001b[1;33m.\u001b[0m\u001b[0m__name__\u001b[0m \u001b[1;33m=\u001b[0m \u001b[0mfunc_name\u001b[0m\u001b[1;33m\u001b[0m\u001b[1;33m\u001b[0m\u001b[0m\n",
      "\u001b[1;32mC:\\ProgramData\\Anaconda3\\lib\\site-packages\\pandas\\core\\strings\\accessor.py\u001b[0m in \u001b[0;36mreplace\u001b[1;34m(self, pat, repl, n, case, flags, regex)\u001b[0m\n\u001b[0;32m   1310\u001b[0m             \u001b[0mregex\u001b[0m \u001b[1;33m=\u001b[0m \u001b[1;32mTrue\u001b[0m\u001b[1;33m\u001b[0m\u001b[1;33m\u001b[0m\u001b[0m\n\u001b[0;32m   1311\u001b[0m         result = self._data.array._str_replace(\n\u001b[1;32m-> 1312\u001b[1;33m             \u001b[0mpat\u001b[0m\u001b[1;33m,\u001b[0m \u001b[0mrepl\u001b[0m\u001b[1;33m,\u001b[0m \u001b[0mn\u001b[0m\u001b[1;33m=\u001b[0m\u001b[0mn\u001b[0m\u001b[1;33m,\u001b[0m \u001b[0mcase\u001b[0m\u001b[1;33m=\u001b[0m\u001b[0mcase\u001b[0m\u001b[1;33m,\u001b[0m \u001b[0mflags\u001b[0m\u001b[1;33m=\u001b[0m\u001b[0mflags\u001b[0m\u001b[1;33m,\u001b[0m \u001b[0mregex\u001b[0m\u001b[1;33m=\u001b[0m\u001b[0mregex\u001b[0m\u001b[1;33m\u001b[0m\u001b[1;33m\u001b[0m\u001b[0m\n\u001b[0m\u001b[0;32m   1313\u001b[0m         )\n\u001b[0;32m   1314\u001b[0m         \u001b[1;32mreturn\u001b[0m \u001b[0mself\u001b[0m\u001b[1;33m.\u001b[0m\u001b[0m_wrap_result\u001b[0m\u001b[1;33m(\u001b[0m\u001b[0mresult\u001b[0m\u001b[1;33m)\u001b[0m\u001b[1;33m\u001b[0m\u001b[1;33m\u001b[0m\u001b[0m\n",
      "\u001b[1;32mC:\\ProgramData\\Anaconda3\\lib\\site-packages\\pandas\\core\\strings\\object_array.py\u001b[0m in \u001b[0;36m_str_replace\u001b[1;34m(self, pat, repl, n, case, flags, regex)\u001b[0m\n\u001b[0;32m    138\u001b[0m         \u001b[1;31m# Check whether repl is valid (GH 13438, GH 15055)\u001b[0m\u001b[1;33m\u001b[0m\u001b[1;33m\u001b[0m\u001b[1;33m\u001b[0m\u001b[0m\n\u001b[0;32m    139\u001b[0m         \u001b[1;32mif\u001b[0m \u001b[1;32mnot\u001b[0m \u001b[1;33m(\u001b[0m\u001b[0misinstance\u001b[0m\u001b[1;33m(\u001b[0m\u001b[0mrepl\u001b[0m\u001b[1;33m,\u001b[0m \u001b[0mstr\u001b[0m\u001b[1;33m)\u001b[0m \u001b[1;32mor\u001b[0m \u001b[0mcallable\u001b[0m\u001b[1;33m(\u001b[0m\u001b[0mrepl\u001b[0m\u001b[1;33m)\u001b[0m\u001b[1;33m)\u001b[0m\u001b[1;33m:\u001b[0m\u001b[1;33m\u001b[0m\u001b[1;33m\u001b[0m\u001b[0m\n\u001b[1;32m--> 140\u001b[1;33m             \u001b[1;32mraise\u001b[0m \u001b[0mTypeError\u001b[0m\u001b[1;33m(\u001b[0m\u001b[1;34m\"repl must be a string or callable\"\u001b[0m\u001b[1;33m)\u001b[0m\u001b[1;33m\u001b[0m\u001b[1;33m\u001b[0m\u001b[0m\n\u001b[0m\u001b[0;32m    141\u001b[0m \u001b[1;33m\u001b[0m\u001b[0m\n\u001b[0;32m    142\u001b[0m         \u001b[0mis_compiled_re\u001b[0m \u001b[1;33m=\u001b[0m \u001b[0mis_re\u001b[0m\u001b[1;33m(\u001b[0m\u001b[0mpat\u001b[0m\u001b[1;33m)\u001b[0m\u001b[1;33m\u001b[0m\u001b[1;33m\u001b[0m\u001b[0m\n",
      "\u001b[1;31mTypeError\u001b[0m: repl must be a string or callable"
     ]
    }
   ],
   "source": [
    "e1['label_q3'] = e1['label_q3'].str.split(\",\",expand=True).replace(['image','ingredient','health','title','cal', 'rating', 'goals', 'numrating'],['Attractive images','A specific ingredient','Healthiness','Recipe title','Calories', 'High ratings', 'My health goals', 'Number of ratings'])\n",
    "\n",
    "#e1['label_q3'] = e1['label_q3'].replace([1,2,3,4,5,6],['Less than high school','High school or equivalent','Bacherlor degree (e.g. BA, BSc)','Master degree (e.g. MA, MSc)', 'Doctorate (e.g. PhD)', 'Prefer not to say'])\n"
   ]
  },
  {
   "cell_type": "code",
   "execution_count": 47,
   "id": "crazy-lover",
   "metadata": {},
   "outputs": [
    {
     "data": {
      "text/plain": [
       "[Text(0.5, 0, 'Which factors influenced your recipe choices the most?'),\n",
       " Text(0, 0.5, 'Count')]"
      ]
     },
     "execution_count": 47,
     "metadata": {},
     "output_type": "execute_result"
    },
    {
     "data": {
      "image/png": "[encoded data removed]",
      "text/plain": [
       "<Figure size 720x360 with 1 Axes>"
      ]
     },
     "metadata": {},
     "output_type": "display_data"
    }
   ],
   "source": [
    "# Nutriscore\n",
    "plt.figure(figsize=(10,5))\n",
    "sns.set(font_scale=1.4)\n",
    "\n",
    "md['gender'] = md['gender'].replace(['male','female','other'], ['Male','Female','Other'])\n",
    "\n",
    "\n",
    "\n",
    "\n",
    "\n",
    "ax = e1['label_q3'].str.split(\",\",expand=True).stack().value_counts().nlargest(8).plot(kind='bar')\n",
    "ax.set(xlabel=\"Which factors influenced your recipe choices the most?\", ylabel = \"Count\")\n",
    "\n",
    "#plt.savefig('ns_endq3.png')\n"
   ]
  },
  {
   "cell_type": "code",
   "execution_count": 64,
   "id": "unlimited-survey",
   "metadata": {},
   "outputs": [
    {
     "data": {
      "image/png": "[encoded data removed]",
      "text/plain": [
       "<Figure size 1440x720 with 1 Axes>"
      ]
     },
     "metadata": {},
     "output_type": "display_data"
    }
   ],
   "source": [
    "# NUTRISCORE q3\n",
    "ns = {'Which factors influenced your recipe choices the most?':[\"Attractive image\",\"A specific ingredient\",\"Healthiness\",\"Recipe title\",\"Calories\",\"High ratings\",\"My health goals\",\"Number of ratings\"], 'Count':[176,102,101,90,47,45,42,29]}\n",
    "ns = pd.DataFrame(data=ns)\n",
    "#ns[\"Count\"].plot(kind=\"bar\")\n",
    "sns.barplot(data=ns, x='Which factors influenced your recipe choices the most?', y=\"Count\")\n",
    "plt.savefig('ns_endq3.png')\n"
   ]
  },
  {
   "cell_type": "code",
   "execution_count": 42,
   "id": "computational-serbia",
   "metadata": {},
   "outputs": [
    {
     "data": {
      "image/png": "[encoded data removed]",
      "text/plain": [
       "<Figure size 720x360 with 1 Axes>"
      ]
     },
     "metadata": {},
     "output_type": "display_data"
    }
   ],
   "source": [
    "# MTL \n",
    "sns.set(font_scale=1.4)\n",
    "plt.figure(figsize=(10,5))\n",
    "e2['label_q3'].str.split(\",\",expand=True).stack().value_counts().nlargest(8).plot(kind='bar')\n",
    "plt.savefig('mtl_endq3.png')\n"
   ]
  },
  {
   "cell_type": "code",
   "execution_count": 65,
   "id": "infrared-practice",
   "metadata": {},
   "outputs": [
    {
     "data": {
      "text/plain": [
       "image         171\n",
       "ingredient    108\n",
       "health         95\n",
       "title          88\n",
       "goals          48\n",
       "cal            46\n",
       "rating         42\n",
       "numrating      27\n",
       "dtype: int64"
      ]
     },
     "execution_count": 65,
     "metadata": {},
     "output_type": "execute_result"
    }
   ],
   "source": [
    "e2['label_q3'].str.split(\",\",expand=True).stack().value_counts().nlargest(8)"
   ]
  },
  {
   "cell_type": "code",
   "execution_count": 66,
   "id": "fatty-celebration",
   "metadata": {},
   "outputs": [
    {
     "data": {
      "image/png": "[encoded data removed]",
      "text/plain": [
       "<Figure size 1440x720 with 1 Axes>"
      ]
     },
     "metadata": {},
     "output_type": "display_data"
    }
   ],
   "source": [
    "# MTL\n",
    "ns = {'Which factors influenced your recipe choices the most?':[\"Attractive image\",\"A specific ingredient\",\"Healthiness\",\"Recipe title\",\"My health goals\",\"Calories\",\"High ratings\",\"Number of ratings\"], 'Count':[171,108,95,88,48,46,42,27]}\n",
    "ns = pd.DataFrame(data=ns)\n",
    "#ns[\"Count\"].plot(kind=\"bar\")\n",
    "sns.barplot(data=ns, x='Which factors influenced your recipe choices the most?', y=\"Count\")\n",
    "plt.savefig('mtl_endq3.png')"
   ]
  },
  {
   "cell_type": "code",
   "execution_count": 43,
   "id": "super-district",
   "metadata": {
    "scrolled": true
   },
   "outputs": [
    {
     "data": {
      "image/png": "[encoded data removed]",
      "text/plain": [
       "<Figure size 720x360 with 1 Axes>"
      ]
     },
     "metadata": {},
     "output_type": "display_data"
    }
   ],
   "source": [
    "# No-label\n",
    "sns.set(font_scale=1.4)\n",
    "plt.figure(figsize=(10,5))\n",
    "e3['label_q3'].str.split(\",\",expand=True).stack().value_counts().nlargest(8).plot(kind='bar')\n",
    "plt.savefig('no_endq3.png')\n"
   ]
  },
  {
   "cell_type": "code",
   "execution_count": 67,
   "id": "democratic-warrant",
   "metadata": {},
   "outputs": [
    {
     "data": {
      "text/plain": [
       "image         165\n",
       "title         116\n",
       "ingredient    112\n",
       "health         67\n",
       "cal            53\n",
       "goals          39\n",
       "rating         37\n",
       "numrating      22\n",
       "dtype: int64"
      ]
     },
     "execution_count": 67,
     "metadata": {},
     "output_type": "execute_result"
    }
   ],
   "source": [
    "e3['label_q3'].str.split(\",\",expand=True).stack().value_counts().nlargest(8)"
   ]
  },
  {
   "cell_type": "code",
   "execution_count": 68,
   "id": "limited-photography",
   "metadata": {},
   "outputs": [
    {
     "data": {
      "image/png": "[encoded data removed]",
      "text/plain": [
       "<Figure size 1440x720 with 1 Axes>"
      ]
     },
     "metadata": {},
     "output_type": "display_data"
    }
   ],
   "source": [
    "# NO LABEL\n",
    "ns = {'Which factors influenced your recipe choices the most?':[\"Attractive image\",\"Recipe title\",\"A specific ingredient\",\"Healthiness\",\"Calories\",\"My health goals\",\"High ratings\",\"Number of ratings\"], 'Count':[165,116,112,67,53,39,37,22]}\n",
    "ns = pd.DataFrame(data=ns)\n",
    "#ns[\"Count\"].plot(kind=\"bar\")\n",
    "sns.barplot(data=ns, x='Which factors influenced your recipe choices the most?', y=\"Count\")\n",
    "plt.savefig('no_endq3.png')"
   ]
  },
  {
   "cell_type": "markdown",
   "id": "deadly-romania",
   "metadata": {},
   "source": [
    "# Two-way ANOVA\n",
    "To examine RQ1, a two-way repeated measures ANOVA was conducted to compare the influence of labels and health re-ranking on the healthiness of recipes chosen across three different trials."
   ]
  },
  {
   "cell_type": "code",
   "execution_count": 784,
   "id": "virtual-therapy",
   "metadata": {},
   "outputs": [
    {
     "data": {
      "text/html": [
       "<div>\n",
       "<style scoped>\n",
       "    .dataframe tbody tr th:only-of-type {\n",
       "        vertical-align: middle;\n",
       "    }\n",
       "\n",
       "    .dataframe tbody tr th {\n",
       "        vertical-align: top;\n",
       "    }\n",
       "\n",
       "    .dataframe thead th {\n",
       "        text-align: right;\n",
       "    }\n",
       "</style>\n",
       "<table border=\"1\" class=\"dataframe\">\n",
       "  <thead>\n",
       "    <tr style=\"text-align: right;\">\n",
       "      <th></th>\n",
       "      <th>sum_sq</th>\n",
       "      <th>df</th>\n",
       "      <th>F</th>\n",
       "      <th>PR(&gt;F)</th>\n",
       "    </tr>\n",
       "  </thead>\n",
       "  <tbody>\n",
       "    <tr>\n",
       "      <th>C(condition)</th>\n",
       "      <td>31.515676</td>\n",
       "      <td>2.0</td>\n",
       "      <td>8.436106</td>\n",
       "      <td>0.000224</td>\n",
       "    </tr>\n",
       "    <tr>\n",
       "      <th>C(variant)</th>\n",
       "      <td>5.801339</td>\n",
       "      <td>2.0</td>\n",
       "      <td>1.552900</td>\n",
       "      <td>0.211874</td>\n",
       "    </tr>\n",
       "    <tr>\n",
       "      <th>C(condition):C(variant)</th>\n",
       "      <td>1.693526</td>\n",
       "      <td>4.0</td>\n",
       "      <td>0.226661</td>\n",
       "      <td>0.923572</td>\n",
       "    </tr>\n",
       "    <tr>\n",
       "      <th>Residual</th>\n",
       "      <td>3958.089062</td>\n",
       "      <td>2119.0</td>\n",
       "      <td>NaN</td>\n",
       "      <td>NaN</td>\n",
       "    </tr>\n",
       "  </tbody>\n",
       "</table>\n",
       "</div>"
      ],
      "text/plain": [
       "                              sum_sq      df         F    PR(>F)\n",
       "C(condition)               31.515676     2.0  8.436106  0.000224\n",
       "C(variant)                  5.801339     2.0  1.552900  0.211874\n",
       "C(condition):C(variant)     1.693526     4.0  0.226661  0.923572\n",
       "Residual                 3958.089062  2119.0       NaN       NaN"
      ]
     },
     "execution_count": 784,
     "metadata": {},
     "output_type": "execute_result"
    }
   ],
   "source": [
    "import statsmodels.api as sm\n",
    "from statsmodels.formula.api import ols\n",
    "\n",
    "#perform two-way ANOVA\n",
    "\n",
    "# Condition = Label\n",
    "# Variant = Ranking\n",
    "model = ols('fsa_score ~ C(condition) + C(variant) + C(condition):C(variant)', data=ms).fit()\n",
    "sm.stats.anova_lm(model, typ=2)"
   ]
  },
  {
   "cell_type": "markdown",
   "id": "arabic-course",
   "metadata": {},
   "source": [
    "* Since the p-values for label is less than .05, this means that label have a statistically significant effect on FSA score. The p-value for ranking is greater than .05, and ranking does not have a statistically significant effect on FSA score. \n",
    "\n",
    "* And since the p-value for the interaction effect (.923572) is not less than .05, this tells us that there is no significant interaction effect between label and ranking. "
   ]
  },
  {
   "cell_type": "markdown",
   "id": "adult-criminal",
   "metadata": {},
   "source": [
    "# Repeated Measure ANOVA"
   ]
  },
  {
   "cell_type": "code",
   "execution_count": 834,
   "id": "personalized-superintendent",
   "metadata": {},
   "outputs": [],
   "source": [
    "# Get data\n",
    "anova_df = ms[['fsa_score', 'variant', 'condition', 'user_id']]\n",
    "anova_df\n",
    "\n",
    "# Create a new column with names for each label\n",
    "def label_name (row):\n",
    "    if row['condition'] == 1 :\n",
    "        return 'Nutriscore'\n",
    "    if row['condition'] == 2 :\n",
    "        return 'MTL'\n",
    "    if row['condition'] == 3 :\n",
    "        return 'No-label'\n",
    "\n",
    "def rank_name (row):\n",
    "    if row['variant'] == 1 :\n",
    "        return 'Popular'\n",
    "    if row['variant'] == 2 :\n",
    "        return 'Random'\n",
    "    if row['variant'] == 3 :\n",
    "        return 'Health'\n",
    "\n",
    "anova_df['Label'] = anova_df.apply (lambda row: label_name(row), axis=1)\n",
    "anova_df['Rank'] = anova_df.apply (lambda row: rank_name(row), axis=1)"
   ]
  },
  {
   "cell_type": "code",
   "execution_count": 863,
   "id": "rolled-correspondence",
   "metadata": {},
   "outputs": [
    {
     "data": {
      "text/html": [
       "<div>\n",
       "<style scoped>\n",
       "    .dataframe tbody tr th:only-of-type {\n",
       "        vertical-align: middle;\n",
       "    }\n",
       "\n",
       "    .dataframe tbody tr th {\n",
       "        vertical-align: top;\n",
       "    }\n",
       "\n",
       "    .dataframe thead th {\n",
       "        text-align: right;\n",
       "    }\n",
       "</style>\n",
       "<table border=\"1\" class=\"dataframe\">\n",
       "  <thead>\n",
       "    <tr style=\"text-align: right;\">\n",
       "      <th></th>\n",
       "      <th>Source</th>\n",
       "      <th>SS</th>\n",
       "      <th>DF</th>\n",
       "      <th>MS</th>\n",
       "      <th>F</th>\n",
       "      <th>p-unc</th>\n",
       "      <th>np2</th>\n",
       "      <th>eps</th>\n",
       "    </tr>\n",
       "  </thead>\n",
       "  <tbody>\n",
       "    <tr>\n",
       "      <th>0</th>\n",
       "      <td>Rank</td>\n",
       "      <td>5.832846</td>\n",
       "      <td>2</td>\n",
       "      <td>2.916423</td>\n",
       "      <td>1.630498</td>\n",
       "      <td>0.196197</td>\n",
       "      <td>0.002285</td>\n",
       "      <td>0.997709</td>\n",
       "    </tr>\n",
       "    <tr>\n",
       "      <th>1</th>\n",
       "      <td>Error</td>\n",
       "      <td>2547.065686</td>\n",
       "      <td>1424</td>\n",
       "      <td>1.788670</td>\n",
       "      <td>NaN</td>\n",
       "      <td>NaN</td>\n",
       "      <td>NaN</td>\n",
       "      <td>NaN</td>\n",
       "    </tr>\n",
       "  </tbody>\n",
       "</table>\n",
       "</div>"
      ],
      "text/plain": [
       "  Source           SS    DF        MS         F     p-unc       np2       eps\n",
       "0   Rank     5.832846     2  2.916423  1.630498  0.196197  0.002285  0.997709\n",
       "1  Error  2547.065686  1424  1.788670       NaN       NaN       NaN       NaN"
      ]
     },
     "execution_count": 863,
     "metadata": {},
     "output_type": "execute_result"
    }
   ],
   "source": [
    "# Do RM ANOVA for each condition \n",
    "pg.rm_anova(data=anova_df, dv='fsa_score', within='Rank', subject='user_id', detailed=True)"
   ]
  },
  {
   "cell_type": "markdown",
   "id": "isolated-vintage",
   "metadata": {},
   "source": [
    "## Post-hoc tests corrected for multiple-comparisons"
   ]
  },
  {
   "cell_type": "code",
   "execution_count": 859,
   "id": "unavailable-arthritis",
   "metadata": {},
   "outputs": [
    {
     "name": "stdout",
     "output_type": "stream",
     "text": [
      "\n",
      "==============\n",
      "POST HOC TESTS\n",
      "==============\n",
      "\n",
      "Contrast    A        B        Paired    Parametric        T      dof  Tail         p-unc    p-corr  p-adjust      BF10    hedges\n",
      "----------  -------  -------  --------  ------------  -----  -------  ---------  -------  --------  ----------  ------  --------\n",
      "Rank        Health   Popular  True      True          1.397  691.000  two-sided    0.163     0.244  fdr_bh       0.113     0.074\n",
      "Rank        Health   Random   True      True          1.616  691.000  two-sided    0.107     0.244  fdr_bh       0.157     0.085\n",
      "Rank        Popular  Random   True      True          0.174  691.000  two-sided    0.862     0.862  fdr_bh       0.043     0.010\n",
      "\n"
     ]
    }
   ],
   "source": [
    "# Balance data \n",
    "g = anova_df[anova_df['user_id'].map(anova_df['user_id'].value_counts()) > 2]\n",
    "\n",
    "# FDR-corrected post hocs with Hedges'g effect size\n",
    "posthoc = pg.pairwise_ttests(data=g, dv='fsa_score', within='Rank', subject='user_id',\n",
    "                             parametric=True, padjust='fdr_bh', effsize='hedges')\n",
    "\n",
    "# Pretty printing of table\n",
    "pg.print_table(posthoc, floatfmt='.3f')"
   ]
  },
  {
   "cell_type": "code",
   "execution_count": 866,
   "id": "another-detective",
   "metadata": {},
   "outputs": [
    {
     "data": {
      "text/html": [
       "<div>\n",
       "<style scoped>\n",
       "    .dataframe tbody tr th:only-of-type {\n",
       "        vertical-align: middle;\n",
       "    }\n",
       "\n",
       "    .dataframe tbody tr th {\n",
       "        vertical-align: top;\n",
       "    }\n",
       "\n",
       "    .dataframe thead th {\n",
       "        text-align: right;\n",
       "    }\n",
       "</style>\n",
       "<table border=\"1\" class=\"dataframe\">\n",
       "  <thead>\n",
       "    <tr style=\"text-align: right;\">\n",
       "      <th></th>\n",
       "      <th>Subject</th>\n",
       "      <th>Gender</th>\n",
       "      <th>Region</th>\n",
       "      <th>Education</th>\n",
       "      <th>DesireToKill</th>\n",
       "      <th>Disgustingness</th>\n",
       "      <th>Frighteningness</th>\n",
       "    </tr>\n",
       "  </thead>\n",
       "  <tbody>\n",
       "    <tr>\n",
       "      <th>0</th>\n",
       "      <td>1</td>\n",
       "      <td>Female</td>\n",
       "      <td>North</td>\n",
       "      <td>some</td>\n",
       "      <td>10.0</td>\n",
       "      <td>High</td>\n",
       "      <td>High</td>\n",
       "    </tr>\n",
       "    <tr>\n",
       "      <th>1</th>\n",
       "      <td>1</td>\n",
       "      <td>Female</td>\n",
       "      <td>North</td>\n",
       "      <td>some</td>\n",
       "      <td>9.0</td>\n",
       "      <td>High</td>\n",
       "      <td>Low</td>\n",
       "    </tr>\n",
       "    <tr>\n",
       "      <th>2</th>\n",
       "      <td>1</td>\n",
       "      <td>Female</td>\n",
       "      <td>North</td>\n",
       "      <td>some</td>\n",
       "      <td>6.0</td>\n",
       "      <td>Low</td>\n",
       "      <td>High</td>\n",
       "    </tr>\n",
       "    <tr>\n",
       "      <th>3</th>\n",
       "      <td>1</td>\n",
       "      <td>Female</td>\n",
       "      <td>North</td>\n",
       "      <td>some</td>\n",
       "      <td>6.0</td>\n",
       "      <td>Low</td>\n",
       "      <td>Low</td>\n",
       "    </tr>\n",
       "    <tr>\n",
       "      <th>4</th>\n",
       "      <td>2</td>\n",
       "      <td>Female</td>\n",
       "      <td>North</td>\n",
       "      <td>advance</td>\n",
       "      <td>10.0</td>\n",
       "      <td>High</td>\n",
       "      <td>High</td>\n",
       "    </tr>\n",
       "    <tr>\n",
       "      <th>5</th>\n",
       "      <td>2</td>\n",
       "      <td>Female</td>\n",
       "      <td>North</td>\n",
       "      <td>advance</td>\n",
       "      <td>10.0</td>\n",
       "      <td>High</td>\n",
       "      <td>Low</td>\n",
       "    </tr>\n",
       "    <tr>\n",
       "      <th>6</th>\n",
       "      <td>2</td>\n",
       "      <td>Female</td>\n",
       "      <td>North</td>\n",
       "      <td>advance</td>\n",
       "      <td>NaN</td>\n",
       "      <td>Low</td>\n",
       "      <td>High</td>\n",
       "    </tr>\n",
       "    <tr>\n",
       "      <th>7</th>\n",
       "      <td>2</td>\n",
       "      <td>Female</td>\n",
       "      <td>North</td>\n",
       "      <td>advance</td>\n",
       "      <td>10.0</td>\n",
       "      <td>Low</td>\n",
       "      <td>Low</td>\n",
       "    </tr>\n",
       "    <tr>\n",
       "      <th>8</th>\n",
       "      <td>3</td>\n",
       "      <td>Female</td>\n",
       "      <td>Europe</td>\n",
       "      <td>college</td>\n",
       "      <td>10.0</td>\n",
       "      <td>High</td>\n",
       "      <td>High</td>\n",
       "    </tr>\n",
       "    <tr>\n",
       "      <th>9</th>\n",
       "      <td>3</td>\n",
       "      <td>Female</td>\n",
       "      <td>Europe</td>\n",
       "      <td>college</td>\n",
       "      <td>10.0</td>\n",
       "      <td>High</td>\n",
       "      <td>Low</td>\n",
       "    </tr>\n",
       "    <tr>\n",
       "      <th>10</th>\n",
       "      <td>3</td>\n",
       "      <td>Female</td>\n",
       "      <td>Europe</td>\n",
       "      <td>college</td>\n",
       "      <td>10.0</td>\n",
       "      <td>Low</td>\n",
       "      <td>High</td>\n",
       "    </tr>\n",
       "    <tr>\n",
       "      <th>11</th>\n",
       "      <td>3</td>\n",
       "      <td>Female</td>\n",
       "      <td>Europe</td>\n",
       "      <td>college</td>\n",
       "      <td>5.0</td>\n",
       "      <td>Low</td>\n",
       "      <td>Low</td>\n",
       "    </tr>\n",
       "    <tr>\n",
       "      <th>12</th>\n",
       "      <td>4</td>\n",
       "      <td>Female</td>\n",
       "      <td>North</td>\n",
       "      <td>college</td>\n",
       "      <td>9.0</td>\n",
       "      <td>High</td>\n",
       "      <td>High</td>\n",
       "    </tr>\n",
       "    <tr>\n",
       "      <th>13</th>\n",
       "      <td>4</td>\n",
       "      <td>Female</td>\n",
       "      <td>North</td>\n",
       "      <td>college</td>\n",
       "      <td>6.0</td>\n",
       "      <td>High</td>\n",
       "      <td>Low</td>\n",
       "    </tr>\n",
       "    <tr>\n",
       "      <th>14</th>\n",
       "      <td>4</td>\n",
       "      <td>Female</td>\n",
       "      <td>North</td>\n",
       "      <td>college</td>\n",
       "      <td>9.0</td>\n",
       "      <td>Low</td>\n",
       "      <td>High</td>\n",
       "    </tr>\n",
       "    <tr>\n",
       "      <th>15</th>\n",
       "      <td>4</td>\n",
       "      <td>Female</td>\n",
       "      <td>North</td>\n",
       "      <td>college</td>\n",
       "      <td>6.0</td>\n",
       "      <td>Low</td>\n",
       "      <td>Low</td>\n",
       "    </tr>\n",
       "    <tr>\n",
       "      <th>16</th>\n",
       "      <td>5</td>\n",
       "      <td>Female</td>\n",
       "      <td>North</td>\n",
       "      <td>some</td>\n",
       "      <td>8.5</td>\n",
       "      <td>High</td>\n",
       "      <td>High</td>\n",
       "    </tr>\n",
       "    <tr>\n",
       "      <th>17</th>\n",
       "      <td>5</td>\n",
       "      <td>Female</td>\n",
       "      <td>North</td>\n",
       "      <td>some</td>\n",
       "      <td>5.5</td>\n",
       "      <td>High</td>\n",
       "      <td>Low</td>\n",
       "    </tr>\n",
       "    <tr>\n",
       "      <th>18</th>\n",
       "      <td>5</td>\n",
       "      <td>Female</td>\n",
       "      <td>North</td>\n",
       "      <td>some</td>\n",
       "      <td>6.5</td>\n",
       "      <td>Low</td>\n",
       "      <td>High</td>\n",
       "    </tr>\n",
       "    <tr>\n",
       "      <th>19</th>\n",
       "      <td>5</td>\n",
       "      <td>Female</td>\n",
       "      <td>North</td>\n",
       "      <td>some</td>\n",
       "      <td>3.0</td>\n",
       "      <td>Low</td>\n",
       "      <td>Low</td>\n",
       "    </tr>\n",
       "    <tr>\n",
       "      <th>20</th>\n",
       "      <td>6</td>\n",
       "      <td>Female</td>\n",
       "      <td>Europe</td>\n",
       "      <td>some</td>\n",
       "      <td>3.0</td>\n",
       "      <td>High</td>\n",
       "      <td>High</td>\n",
       "    </tr>\n",
       "    <tr>\n",
       "      <th>21</th>\n",
       "      <td>6</td>\n",
       "      <td>Female</td>\n",
       "      <td>Europe</td>\n",
       "      <td>some</td>\n",
       "      <td>7.5</td>\n",
       "      <td>High</td>\n",
       "      <td>Low</td>\n",
       "    </tr>\n",
       "    <tr>\n",
       "      <th>22</th>\n",
       "      <td>6</td>\n",
       "      <td>Female</td>\n",
       "      <td>Europe</td>\n",
       "      <td>some</td>\n",
       "      <td>0.5</td>\n",
       "      <td>Low</td>\n",
       "      <td>High</td>\n",
       "    </tr>\n",
       "    <tr>\n",
       "      <th>23</th>\n",
       "      <td>6</td>\n",
       "      <td>Female</td>\n",
       "      <td>Europe</td>\n",
       "      <td>some</td>\n",
       "      <td>2.0</td>\n",
       "      <td>Low</td>\n",
       "      <td>Low</td>\n",
       "    </tr>\n",
       "    <tr>\n",
       "      <th>24</th>\n",
       "      <td>7</td>\n",
       "      <td>Female</td>\n",
       "      <td>North</td>\n",
       "      <td>some</td>\n",
       "      <td>10.0</td>\n",
       "      <td>High</td>\n",
       "      <td>High</td>\n",
       "    </tr>\n",
       "    <tr>\n",
       "      <th>25</th>\n",
       "      <td>7</td>\n",
       "      <td>Female</td>\n",
       "      <td>North</td>\n",
       "      <td>some</td>\n",
       "      <td>10.0</td>\n",
       "      <td>High</td>\n",
       "      <td>Low</td>\n",
       "    </tr>\n",
       "    <tr>\n",
       "      <th>26</th>\n",
       "      <td>7</td>\n",
       "      <td>Female</td>\n",
       "      <td>North</td>\n",
       "      <td>some</td>\n",
       "      <td>10.0</td>\n",
       "      <td>Low</td>\n",
       "      <td>High</td>\n",
       "    </tr>\n",
       "    <tr>\n",
       "      <th>27</th>\n",
       "      <td>7</td>\n",
       "      <td>Female</td>\n",
       "      <td>North</td>\n",
       "      <td>some</td>\n",
       "      <td>10.0</td>\n",
       "      <td>Low</td>\n",
       "      <td>Low</td>\n",
       "    </tr>\n",
       "    <tr>\n",
       "      <th>28</th>\n",
       "      <td>8</td>\n",
       "      <td>Female</td>\n",
       "      <td>North</td>\n",
       "      <td>high</td>\n",
       "      <td>10.0</td>\n",
       "      <td>High</td>\n",
       "      <td>High</td>\n",
       "    </tr>\n",
       "    <tr>\n",
       "      <th>29</th>\n",
       "      <td>8</td>\n",
       "      <td>Female</td>\n",
       "      <td>North</td>\n",
       "      <td>high</td>\n",
       "      <td>9.0</td>\n",
       "      <td>High</td>\n",
       "      <td>Low</td>\n",
       "    </tr>\n",
       "    <tr>\n",
       "      <th>30</th>\n",
       "      <td>8</td>\n",
       "      <td>Female</td>\n",
       "      <td>North</td>\n",
       "      <td>high</td>\n",
       "      <td>10.0</td>\n",
       "      <td>Low</td>\n",
       "      <td>High</td>\n",
       "    </tr>\n",
       "    <tr>\n",
       "      <th>31</th>\n",
       "      <td>8</td>\n",
       "      <td>Female</td>\n",
       "      <td>North</td>\n",
       "      <td>high</td>\n",
       "      <td>10.0</td>\n",
       "      <td>Low</td>\n",
       "      <td>Low</td>\n",
       "    </tr>\n",
       "    <tr>\n",
       "      <th>32</th>\n",
       "      <td>9</td>\n",
       "      <td>Female</td>\n",
       "      <td>North</td>\n",
       "      <td>high</td>\n",
       "      <td>10.0</td>\n",
       "      <td>High</td>\n",
       "      <td>High</td>\n",
       "    </tr>\n",
       "    <tr>\n",
       "      <th>33</th>\n",
       "      <td>9</td>\n",
       "      <td>Female</td>\n",
       "      <td>North</td>\n",
       "      <td>high</td>\n",
       "      <td>6.0</td>\n",
       "      <td>High</td>\n",
       "      <td>Low</td>\n",
       "    </tr>\n",
       "    <tr>\n",
       "      <th>34</th>\n",
       "      <td>9</td>\n",
       "      <td>Female</td>\n",
       "      <td>North</td>\n",
       "      <td>high</td>\n",
       "      <td>9.5</td>\n",
       "      <td>Low</td>\n",
       "      <td>High</td>\n",
       "    </tr>\n",
       "    <tr>\n",
       "      <th>35</th>\n",
       "      <td>9</td>\n",
       "      <td>Female</td>\n",
       "      <td>North</td>\n",
       "      <td>high</td>\n",
       "      <td>9.5</td>\n",
       "      <td>Low</td>\n",
       "      <td>Low</td>\n",
       "    </tr>\n",
       "    <tr>\n",
       "      <th>36</th>\n",
       "      <td>10</td>\n",
       "      <td>Female</td>\n",
       "      <td>Other</td>\n",
       "      <td>high</td>\n",
       "      <td>NaN</td>\n",
       "      <td>High</td>\n",
       "      <td>High</td>\n",
       "    </tr>\n",
       "    <tr>\n",
       "      <th>37</th>\n",
       "      <td>10</td>\n",
       "      <td>Female</td>\n",
       "      <td>Other</td>\n",
       "      <td>high</td>\n",
       "      <td>7.0</td>\n",
       "      <td>High</td>\n",
       "      <td>Low</td>\n",
       "    </tr>\n",
       "    <tr>\n",
       "      <th>38</th>\n",
       "      <td>10</td>\n",
       "      <td>Female</td>\n",
       "      <td>Other</td>\n",
       "      <td>high</td>\n",
       "      <td>10.0</td>\n",
       "      <td>Low</td>\n",
       "      <td>High</td>\n",
       "    </tr>\n",
       "    <tr>\n",
       "      <th>39</th>\n",
       "      <td>10</td>\n",
       "      <td>Female</td>\n",
       "      <td>Other</td>\n",
       "      <td>high</td>\n",
       "      <td>8.5</td>\n",
       "      <td>Low</td>\n",
       "      <td>Low</td>\n",
       "    </tr>\n",
       "    <tr>\n",
       "      <th>40</th>\n",
       "      <td>11</td>\n",
       "      <td>Male</td>\n",
       "      <td>North</td>\n",
       "      <td>some</td>\n",
       "      <td>0.0</td>\n",
       "      <td>High</td>\n",
       "      <td>High</td>\n",
       "    </tr>\n",
       "    <tr>\n",
       "      <th>41</th>\n",
       "      <td>11</td>\n",
       "      <td>Male</td>\n",
       "      <td>North</td>\n",
       "      <td>some</td>\n",
       "      <td>0.0</td>\n",
       "      <td>High</td>\n",
       "      <td>Low</td>\n",
       "    </tr>\n",
       "    <tr>\n",
       "      <th>42</th>\n",
       "      <td>11</td>\n",
       "      <td>Male</td>\n",
       "      <td>North</td>\n",
       "      <td>some</td>\n",
       "      <td>2.5</td>\n",
       "      <td>Low</td>\n",
       "      <td>High</td>\n",
       "    </tr>\n",
       "    <tr>\n",
       "      <th>43</th>\n",
       "      <td>11</td>\n",
       "      <td>Male</td>\n",
       "      <td>North</td>\n",
       "      <td>some</td>\n",
       "      <td>0.0</td>\n",
       "      <td>Low</td>\n",
       "      <td>Low</td>\n",
       "    </tr>\n",
       "    <tr>\n",
       "      <th>44</th>\n",
       "      <td>12</td>\n",
       "      <td>Male</td>\n",
       "      <td>North</td>\n",
       "      <td>some</td>\n",
       "      <td>10.0</td>\n",
       "      <td>High</td>\n",
       "      <td>High</td>\n",
       "    </tr>\n",
       "    <tr>\n",
       "      <th>45</th>\n",
       "      <td>12</td>\n",
       "      <td>Male</td>\n",
       "      <td>North</td>\n",
       "      <td>some</td>\n",
       "      <td>8.5</td>\n",
       "      <td>High</td>\n",
       "      <td>Low</td>\n",
       "    </tr>\n",
       "    <tr>\n",
       "      <th>46</th>\n",
       "      <td>12</td>\n",
       "      <td>Male</td>\n",
       "      <td>North</td>\n",
       "      <td>some</td>\n",
       "      <td>7.5</td>\n",
       "      <td>Low</td>\n",
       "      <td>High</td>\n",
       "    </tr>\n",
       "    <tr>\n",
       "      <th>47</th>\n",
       "      <td>12</td>\n",
       "      <td>Male</td>\n",
       "      <td>North</td>\n",
       "      <td>some</td>\n",
       "      <td>9.5</td>\n",
       "      <td>Low</td>\n",
       "      <td>Low</td>\n",
       "    </tr>\n",
       "    <tr>\n",
       "      <th>48</th>\n",
       "      <td>13</td>\n",
       "      <td>Female</td>\n",
       "      <td>North</td>\n",
       "      <td>less</td>\n",
       "      <td>8.5</td>\n",
       "      <td>High</td>\n",
       "      <td>High</td>\n",
       "    </tr>\n",
       "    <tr>\n",
       "      <th>49</th>\n",
       "      <td>13</td>\n",
       "      <td>Female</td>\n",
       "      <td>North</td>\n",
       "      <td>less</td>\n",
       "      <td>6.5</td>\n",
       "      <td>High</td>\n",
       "      <td>Low</td>\n",
       "    </tr>\n",
       "    <tr>\n",
       "      <th>50</th>\n",
       "      <td>13</td>\n",
       "      <td>Female</td>\n",
       "      <td>North</td>\n",
       "      <td>less</td>\n",
       "      <td>8.5</td>\n",
       "      <td>Low</td>\n",
       "      <td>High</td>\n",
       "    </tr>\n",
       "    <tr>\n",
       "      <th>51</th>\n",
       "      <td>13</td>\n",
       "      <td>Female</td>\n",
       "      <td>North</td>\n",
       "      <td>less</td>\n",
       "      <td>7.0</td>\n",
       "      <td>Low</td>\n",
       "      <td>Low</td>\n",
       "    </tr>\n",
       "    <tr>\n",
       "      <th>52</th>\n",
       "      <td>14</td>\n",
       "      <td>Female</td>\n",
       "      <td>North</td>\n",
       "      <td>some</td>\n",
       "      <td>8.5</td>\n",
       "      <td>High</td>\n",
       "      <td>High</td>\n",
       "    </tr>\n",
       "    <tr>\n",
       "      <th>53</th>\n",
       "      <td>14</td>\n",
       "      <td>Female</td>\n",
       "      <td>North</td>\n",
       "      <td>some</td>\n",
       "      <td>4.0</td>\n",
       "      <td>High</td>\n",
       "      <td>Low</td>\n",
       "    </tr>\n",
       "    <tr>\n",
       "      <th>54</th>\n",
       "      <td>14</td>\n",
       "      <td>Female</td>\n",
       "      <td>North</td>\n",
       "      <td>some</td>\n",
       "      <td>8.0</td>\n",
       "      <td>Low</td>\n",
       "      <td>High</td>\n",
       "    </tr>\n",
       "    <tr>\n",
       "      <th>55</th>\n",
       "      <td>14</td>\n",
       "      <td>Female</td>\n",
       "      <td>North</td>\n",
       "      <td>some</td>\n",
       "      <td>3.0</td>\n",
       "      <td>Low</td>\n",
       "      <td>Low</td>\n",
       "    </tr>\n",
       "    <tr>\n",
       "      <th>56</th>\n",
       "      <td>15</td>\n",
       "      <td>Male</td>\n",
       "      <td>North</td>\n",
       "      <td>some</td>\n",
       "      <td>7.0</td>\n",
       "      <td>High</td>\n",
       "      <td>High</td>\n",
       "    </tr>\n",
       "    <tr>\n",
       "      <th>57</th>\n",
       "      <td>15</td>\n",
       "      <td>Male</td>\n",
       "      <td>North</td>\n",
       "      <td>some</td>\n",
       "      <td>6.0</td>\n",
       "      <td>High</td>\n",
       "      <td>Low</td>\n",
       "    </tr>\n",
       "    <tr>\n",
       "      <th>58</th>\n",
       "      <td>15</td>\n",
       "      <td>Male</td>\n",
       "      <td>North</td>\n",
       "      <td>some</td>\n",
       "      <td>5.0</td>\n",
       "      <td>Low</td>\n",
       "      <td>High</td>\n",
       "    </tr>\n",
       "    <tr>\n",
       "      <th>59</th>\n",
       "      <td>15</td>\n",
       "      <td>Male</td>\n",
       "      <td>North</td>\n",
       "      <td>some</td>\n",
       "      <td>4.0</td>\n",
       "      <td>Low</td>\n",
       "      <td>Low</td>\n",
       "    </tr>\n",
       "    <tr>\n",
       "      <th>60</th>\n",
       "      <td>16</td>\n",
       "      <td>Male</td>\n",
       "      <td>North</td>\n",
       "      <td>high</td>\n",
       "      <td>9.0</td>\n",
       "      <td>High</td>\n",
       "      <td>High</td>\n",
       "    </tr>\n",
       "    <tr>\n",
       "      <th>61</th>\n",
       "      <td>16</td>\n",
       "      <td>Male</td>\n",
       "      <td>North</td>\n",
       "      <td>high</td>\n",
       "      <td>8.5</td>\n",
       "      <td>High</td>\n",
       "      <td>Low</td>\n",
       "    </tr>\n",
       "    <tr>\n",
       "      <th>62</th>\n",
       "      <td>16</td>\n",
       "      <td>Male</td>\n",
       "      <td>North</td>\n",
       "      <td>high</td>\n",
       "      <td>8.5</td>\n",
       "      <td>Low</td>\n",
       "      <td>High</td>\n",
       "    </tr>\n",
       "    <tr>\n",
       "      <th>63</th>\n",
       "      <td>16</td>\n",
       "      <td>Male</td>\n",
       "      <td>North</td>\n",
       "      <td>high</td>\n",
       "      <td>7.0</td>\n",
       "      <td>Low</td>\n",
       "      <td>Low</td>\n",
       "    </tr>\n",
       "    <tr>\n",
       "      <th>64</th>\n",
       "      <td>17</td>\n",
       "      <td>Male</td>\n",
       "      <td>North</td>\n",
       "      <td>some</td>\n",
       "      <td>10.0</td>\n",
       "      <td>High</td>\n",
       "      <td>High</td>\n",
       "    </tr>\n",
       "    <tr>\n",
       "      <th>65</th>\n",
       "      <td>17</td>\n",
       "      <td>Male</td>\n",
       "      <td>North</td>\n",
       "      <td>some</td>\n",
       "      <td>10.0</td>\n",
       "      <td>High</td>\n",
       "      <td>Low</td>\n",
       "    </tr>\n",
       "    <tr>\n",
       "      <th>66</th>\n",
       "      <td>17</td>\n",
       "      <td>Male</td>\n",
       "      <td>North</td>\n",
       "      <td>some</td>\n",
       "      <td>6.0</td>\n",
       "      <td>Low</td>\n",
       "      <td>High</td>\n",
       "    </tr>\n",
       "    <tr>\n",
       "      <th>67</th>\n",
       "      <td>17</td>\n",
       "      <td>Male</td>\n",
       "      <td>North</td>\n",
       "      <td>some</td>\n",
       "      <td>2.0</td>\n",
       "      <td>Low</td>\n",
       "      <td>Low</td>\n",
       "    </tr>\n",
       "    <tr>\n",
       "      <th>68</th>\n",
       "      <td>18</td>\n",
       "      <td>Female</td>\n",
       "      <td>North</td>\n",
       "      <td>high</td>\n",
       "      <td>10.0</td>\n",
       "      <td>High</td>\n",
       "      <td>High</td>\n",
       "    </tr>\n",
       "    <tr>\n",
       "      <th>69</th>\n",
       "      <td>18</td>\n",
       "      <td>Female</td>\n",
       "      <td>North</td>\n",
       "      <td>high</td>\n",
       "      <td>7.5</td>\n",
       "      <td>High</td>\n",
       "      <td>Low</td>\n",
       "    </tr>\n",
       "    <tr>\n",
       "      <th>70</th>\n",
       "      <td>18</td>\n",
       "      <td>Female</td>\n",
       "      <td>North</td>\n",
       "      <td>high</td>\n",
       "      <td>6.0</td>\n",
       "      <td>Low</td>\n",
       "      <td>High</td>\n",
       "    </tr>\n",
       "    <tr>\n",
       "      <th>71</th>\n",
       "      <td>18</td>\n",
       "      <td>Female</td>\n",
       "      <td>North</td>\n",
       "      <td>high</td>\n",
       "      <td>7.5</td>\n",
       "      <td>Low</td>\n",
       "      <td>Low</td>\n",
       "    </tr>\n",
       "    <tr>\n",
       "      <th>72</th>\n",
       "      <td>19</td>\n",
       "      <td>Female</td>\n",
       "      <td>North</td>\n",
       "      <td>some</td>\n",
       "      <td>10.0</td>\n",
       "      <td>High</td>\n",
       "      <td>High</td>\n",
       "    </tr>\n",
       "    <tr>\n",
       "      <th>73</th>\n",
       "      <td>19</td>\n",
       "      <td>Female</td>\n",
       "      <td>North</td>\n",
       "      <td>some</td>\n",
       "      <td>10.0</td>\n",
       "      <td>High</td>\n",
       "      <td>Low</td>\n",
       "    </tr>\n",
       "    <tr>\n",
       "      <th>74</th>\n",
       "      <td>19</td>\n",
       "      <td>Female</td>\n",
       "      <td>North</td>\n",
       "      <td>some</td>\n",
       "      <td>6.0</td>\n",
       "      <td>Low</td>\n",
       "      <td>High</td>\n",
       "    </tr>\n",
       "    <tr>\n",
       "      <th>75</th>\n",
       "      <td>19</td>\n",
       "      <td>Female</td>\n",
       "      <td>North</td>\n",
       "      <td>some</td>\n",
       "      <td>6.5</td>\n",
       "      <td>Low</td>\n",
       "      <td>Low</td>\n",
       "    </tr>\n",
       "    <tr>\n",
       "      <th>76</th>\n",
       "      <td>20</td>\n",
       "      <td>Female</td>\n",
       "      <td>North</td>\n",
       "      <td>some</td>\n",
       "      <td>9.5</td>\n",
       "      <td>High</td>\n",
       "      <td>High</td>\n",
       "    </tr>\n",
       "    <tr>\n",
       "      <th>77</th>\n",
       "      <td>20</td>\n",
       "      <td>Female</td>\n",
       "      <td>North</td>\n",
       "      <td>some</td>\n",
       "      <td>8.5</td>\n",
       "      <td>High</td>\n",
       "      <td>Low</td>\n",
       "    </tr>\n",
       "    <tr>\n",
       "      <th>78</th>\n",
       "      <td>20</td>\n",
       "      <td>Female</td>\n",
       "      <td>North</td>\n",
       "      <td>some</td>\n",
       "      <td>9.0</td>\n",
       "      <td>Low</td>\n",
       "      <td>High</td>\n",
       "    </tr>\n",
       "    <tr>\n",
       "      <th>79</th>\n",
       "      <td>20</td>\n",
       "      <td>Female</td>\n",
       "      <td>North</td>\n",
       "      <td>some</td>\n",
       "      <td>7.0</td>\n",
       "      <td>Low</td>\n",
       "      <td>Low</td>\n",
       "    </tr>\n",
       "    <tr>\n",
       "      <th>80</th>\n",
       "      <td>22</td>\n",
       "      <td>Female</td>\n",
       "      <td>North</td>\n",
       "      <td>some</td>\n",
       "      <td>9.5</td>\n",
       "      <td>High</td>\n",
       "      <td>High</td>\n",
       "    </tr>\n",
       "    <tr>\n",
       "      <th>81</th>\n",
       "      <td>22</td>\n",
       "      <td>Female</td>\n",
       "      <td>North</td>\n",
       "      <td>some</td>\n",
       "      <td>5.0</td>\n",
       "      <td>High</td>\n",
       "      <td>Low</td>\n",
       "    </tr>\n",
       "    <tr>\n",
       "      <th>82</th>\n",
       "      <td>22</td>\n",
       "      <td>Female</td>\n",
       "      <td>North</td>\n",
       "      <td>some</td>\n",
       "      <td>4.5</td>\n",
       "      <td>Low</td>\n",
       "      <td>High</td>\n",
       "    </tr>\n",
       "    <tr>\n",
       "      <th>83</th>\n",
       "      <td>22</td>\n",
       "      <td>Female</td>\n",
       "      <td>North</td>\n",
       "      <td>some</td>\n",
       "      <td>3.0</td>\n",
       "      <td>Low</td>\n",
       "      <td>Low</td>\n",
       "    </tr>\n",
       "    <tr>\n",
       "      <th>84</th>\n",
       "      <td>23</td>\n",
       "      <td>Female</td>\n",
       "      <td>Austral</td>\n",
       "      <td>some</td>\n",
       "      <td>7.5</td>\n",
       "      <td>High</td>\n",
       "      <td>High</td>\n",
       "    </tr>\n",
       "    <tr>\n",
       "      <th>85</th>\n",
       "      <td>23</td>\n",
       "      <td>Female</td>\n",
       "      <td>Austral</td>\n",
       "      <td>some</td>\n",
       "      <td>4.5</td>\n",
       "      <td>High</td>\n",
       "      <td>Low</td>\n",
       "    </tr>\n",
       "    <tr>\n",
       "      <th>86</th>\n",
       "      <td>23</td>\n",
       "      <td>Female</td>\n",
       "      <td>Austral</td>\n",
       "      <td>some</td>\n",
       "      <td>9.5</td>\n",
       "      <td>Low</td>\n",
       "      <td>High</td>\n",
       "    </tr>\n",
       "    <tr>\n",
       "      <th>87</th>\n",
       "      <td>23</td>\n",
       "      <td>Female</td>\n",
       "      <td>Austral</td>\n",
       "      <td>some</td>\n",
       "      <td>2.5</td>\n",
       "      <td>Low</td>\n",
       "      <td>Low</td>\n",
       "    </tr>\n",
       "    <tr>\n",
       "      <th>88</th>\n",
       "      <td>24</td>\n",
       "      <td>Female</td>\n",
       "      <td>North</td>\n",
       "      <td>less</td>\n",
       "      <td>10.0</td>\n",
       "      <td>High</td>\n",
       "      <td>High</td>\n",
       "    </tr>\n",
       "    <tr>\n",
       "      <th>89</th>\n",
       "      <td>24</td>\n",
       "      <td>Female</td>\n",
       "      <td>North</td>\n",
       "      <td>less</td>\n",
       "      <td>9.0</td>\n",
       "      <td>High</td>\n",
       "      <td>Low</td>\n",
       "    </tr>\n",
       "    <tr>\n",
       "      <th>90</th>\n",
       "      <td>24</td>\n",
       "      <td>Female</td>\n",
       "      <td>North</td>\n",
       "      <td>less</td>\n",
       "      <td>10.0</td>\n",
       "      <td>Low</td>\n",
       "      <td>High</td>\n",
       "    </tr>\n",
       "    <tr>\n",
       "      <th>91</th>\n",
       "      <td>24</td>\n",
       "      <td>Female</td>\n",
       "      <td>North</td>\n",
       "      <td>less</td>\n",
       "      <td>10.0</td>\n",
       "      <td>Low</td>\n",
       "      <td>Low</td>\n",
       "    </tr>\n",
       "    <tr>\n",
       "      <th>92</th>\n",
       "      <td>25</td>\n",
       "      <td>Male</td>\n",
       "      <td>Europe</td>\n",
       "      <td>high</td>\n",
       "      <td>1.5</td>\n",
       "      <td>High</td>\n",
       "      <td>High</td>\n",
       "    </tr>\n",
       "    <tr>\n",
       "      <th>93</th>\n",
       "      <td>25</td>\n",
       "      <td>Male</td>\n",
       "      <td>Europe</td>\n",
       "      <td>high</td>\n",
       "      <td>4.0</td>\n",
       "      <td>High</td>\n",
       "      <td>Low</td>\n",
       "    </tr>\n",
       "    <tr>\n",
       "      <th>94</th>\n",
       "      <td>25</td>\n",
       "      <td>Male</td>\n",
       "      <td>Europe</td>\n",
       "      <td>high</td>\n",
       "      <td>1.5</td>\n",
       "      <td>Low</td>\n",
       "      <td>High</td>\n",
       "    </tr>\n",
       "    <tr>\n",
       "      <th>95</th>\n",
       "      <td>25</td>\n",
       "      <td>Male</td>\n",
       "      <td>Europe</td>\n",
       "      <td>high</td>\n",
       "      <td>0.0</td>\n",
       "      <td>Low</td>\n",
       "      <td>Low</td>\n",
       "    </tr>\n",
       "    <tr>\n",
       "      <th>96</th>\n",
       "      <td>26</td>\n",
       "      <td>Female</td>\n",
       "      <td>Europe</td>\n",
       "      <td>some</td>\n",
       "      <td>5.5</td>\n",
       "      <td>High</td>\n",
       "      <td>High</td>\n",
       "    </tr>\n",
       "    <tr>\n",
       "      <th>97</th>\n",
       "      <td>26</td>\n",
       "      <td>Female</td>\n",
       "      <td>Europe</td>\n",
       "      <td>some</td>\n",
       "      <td>4.5</td>\n",
       "      <td>High</td>\n",
       "      <td>Low</td>\n",
       "    </tr>\n",
       "    <tr>\n",
       "      <th>98</th>\n",
       "      <td>26</td>\n",
       "      <td>Female</td>\n",
       "      <td>Europe</td>\n",
       "      <td>some</td>\n",
       "      <td>0.5</td>\n",
       "      <td>Low</td>\n",
       "      <td>High</td>\n",
       "    </tr>\n",
       "    <tr>\n",
       "      <th>99</th>\n",
       "      <td>26</td>\n",
       "      <td>Female</td>\n",
       "      <td>Europe</td>\n",
       "      <td>some</td>\n",
       "      <td>0.5</td>\n",
       "      <td>Low</td>\n",
       "      <td>Low</td>\n",
       "    </tr>\n",
       "    <tr>\n",
       "      <th>100</th>\n",
       "      <td>27</td>\n",
       "      <td>Female</td>\n",
       "      <td>North</td>\n",
       "      <td>less</td>\n",
       "      <td>10.0</td>\n",
       "      <td>High</td>\n",
       "      <td>High</td>\n",
       "    </tr>\n",
       "    <tr>\n",
       "      <th>101</th>\n",
       "      <td>27</td>\n",
       "      <td>Female</td>\n",
       "      <td>North</td>\n",
       "      <td>less</td>\n",
       "      <td>3.5</td>\n",
       "      <td>High</td>\n",
       "      <td>Low</td>\n",
       "    </tr>\n",
       "    <tr>\n",
       "      <th>102</th>\n",
       "      <td>27</td>\n",
       "      <td>Female</td>\n",
       "      <td>North</td>\n",
       "      <td>less</td>\n",
       "      <td>7.5</td>\n",
       "      <td>Low</td>\n",
       "      <td>High</td>\n",
       "    </tr>\n",
       "    <tr>\n",
       "      <th>103</th>\n",
       "      <td>27</td>\n",
       "      <td>Female</td>\n",
       "      <td>North</td>\n",
       "      <td>less</td>\n",
       "      <td>5.0</td>\n",
       "      <td>Low</td>\n",
       "      <td>Low</td>\n",
       "    </tr>\n",
       "    <tr>\n",
       "      <th>104</th>\n",
       "      <td>29</td>\n",
       "      <td>Female</td>\n",
       "      <td>Other</td>\n",
       "      <td>some</td>\n",
       "      <td>10.0</td>\n",
       "      <td>High</td>\n",
       "      <td>High</td>\n",
       "    </tr>\n",
       "    <tr>\n",
       "      <th>105</th>\n",
       "      <td>29</td>\n",
       "      <td>Female</td>\n",
       "      <td>Other</td>\n",
       "      <td>some</td>\n",
       "      <td>10.0</td>\n",
       "      <td>High</td>\n",
       "      <td>Low</td>\n",
       "    </tr>\n",
       "    <tr>\n",
       "      <th>106</th>\n",
       "      <td>29</td>\n",
       "      <td>Female</td>\n",
       "      <td>Other</td>\n",
       "      <td>some</td>\n",
       "      <td>5.0</td>\n",
       "      <td>Low</td>\n",
       "      <td>High</td>\n",
       "    </tr>\n",
       "    <tr>\n",
       "      <th>107</th>\n",
       "      <td>29</td>\n",
       "      <td>Female</td>\n",
       "      <td>Other</td>\n",
       "      <td>some</td>\n",
       "      <td>6.5</td>\n",
       "      <td>Low</td>\n",
       "      <td>Low</td>\n",
       "    </tr>\n",
       "    <tr>\n",
       "      <th>108</th>\n",
       "      <td>30</td>\n",
       "      <td>Female</td>\n",
       "      <td>North</td>\n",
       "      <td>some</td>\n",
       "      <td>8.0</td>\n",
       "      <td>High</td>\n",
       "      <td>High</td>\n",
       "    </tr>\n",
       "    <tr>\n",
       "      <th>109</th>\n",
       "      <td>30</td>\n",
       "      <td>Female</td>\n",
       "      <td>North</td>\n",
       "      <td>some</td>\n",
       "      <td>8.0</td>\n",
       "      <td>High</td>\n",
       "      <td>Low</td>\n",
       "    </tr>\n",
       "    <tr>\n",
       "      <th>110</th>\n",
       "      <td>30</td>\n",
       "      <td>Female</td>\n",
       "      <td>North</td>\n",
       "      <td>some</td>\n",
       "      <td>9.0</td>\n",
       "      <td>Low</td>\n",
       "      <td>High</td>\n",
       "    </tr>\n",
       "    <tr>\n",
       "      <th>111</th>\n",
       "      <td>30</td>\n",
       "      <td>Female</td>\n",
       "      <td>North</td>\n",
       "      <td>some</td>\n",
       "      <td>8.0</td>\n",
       "      <td>Low</td>\n",
       "      <td>Low</td>\n",
       "    </tr>\n",
       "    <tr>\n",
       "      <th>112</th>\n",
       "      <td>31</td>\n",
       "      <td>Female</td>\n",
       "      <td>North</td>\n",
       "      <td>some</td>\n",
       "      <td>6.0</td>\n",
       "      <td>High</td>\n",
       "      <td>High</td>\n",
       "    </tr>\n",
       "    <tr>\n",
       "      <th>113</th>\n",
       "      <td>31</td>\n",
       "      <td>Female</td>\n",
       "      <td>North</td>\n",
       "      <td>some</td>\n",
       "      <td>7.5</td>\n",
       "      <td>High</td>\n",
       "      <td>Low</td>\n",
       "    </tr>\n",
       "    <tr>\n",
       "      <th>114</th>\n",
       "      <td>31</td>\n",
       "      <td>Female</td>\n",
       "      <td>North</td>\n",
       "      <td>some</td>\n",
       "      <td>10.0</td>\n",
       "      <td>Low</td>\n",
       "      <td>High</td>\n",
       "    </tr>\n",
       "    <tr>\n",
       "      <th>115</th>\n",
       "      <td>31</td>\n",
       "      <td>Female</td>\n",
       "      <td>North</td>\n",
       "      <td>some</td>\n",
       "      <td>3.0</td>\n",
       "      <td>Low</td>\n",
       "      <td>Low</td>\n",
       "    </tr>\n",
       "    <tr>\n",
       "      <th>116</th>\n",
       "      <td>32</td>\n",
       "      <td>Male</td>\n",
       "      <td>Europe</td>\n",
       "      <td>some</td>\n",
       "      <td>10.0</td>\n",
       "      <td>High</td>\n",
       "      <td>High</td>\n",
       "    </tr>\n",
       "    <tr>\n",
       "      <th>117</th>\n",
       "      <td>32</td>\n",
       "      <td>Male</td>\n",
       "      <td>Europe</td>\n",
       "      <td>some</td>\n",
       "      <td>6.5</td>\n",
       "      <td>High</td>\n",
       "      <td>Low</td>\n",
       "    </tr>\n",
       "    <tr>\n",
       "      <th>118</th>\n",
       "      <td>32</td>\n",
       "      <td>Male</td>\n",
       "      <td>Europe</td>\n",
       "      <td>some</td>\n",
       "      <td>7.0</td>\n",
       "      <td>Low</td>\n",
       "      <td>High</td>\n",
       "    </tr>\n",
       "    <tr>\n",
       "      <th>119</th>\n",
       "      <td>32</td>\n",
       "      <td>Male</td>\n",
       "      <td>Europe</td>\n",
       "      <td>some</td>\n",
       "      <td>7.5</td>\n",
       "      <td>Low</td>\n",
       "      <td>Low</td>\n",
       "    </tr>\n",
       "    <tr>\n",
       "      <th>120</th>\n",
       "      <td>33</td>\n",
       "      <td>Male</td>\n",
       "      <td>North</td>\n",
       "      <td>some</td>\n",
       "      <td>4.0</td>\n",
       "      <td>High</td>\n",
       "      <td>High</td>\n",
       "    </tr>\n",
       "    <tr>\n",
       "      <th>121</th>\n",
       "      <td>33</td>\n",
       "      <td>Male</td>\n",
       "      <td>North</td>\n",
       "      <td>some</td>\n",
       "      <td>10.0</td>\n",
       "      <td>High</td>\n",
       "      <td>Low</td>\n",
       "    </tr>\n",
       "    <tr>\n",
       "      <th>122</th>\n",
       "      <td>33</td>\n",
       "      <td>Male</td>\n",
       "      <td>North</td>\n",
       "      <td>some</td>\n",
       "      <td>10.0</td>\n",
       "      <td>Low</td>\n",
       "      <td>High</td>\n",
       "    </tr>\n",
       "    <tr>\n",
       "      <th>123</th>\n",
       "      <td>33</td>\n",
       "      <td>Male</td>\n",
       "      <td>North</td>\n",
       "      <td>some</td>\n",
       "      <td>6.5</td>\n",
       "      <td>Low</td>\n",
       "      <td>Low</td>\n",
       "    </tr>\n",
       "    <tr>\n",
       "      <th>124</th>\n",
       "      <td>34</td>\n",
       "      <td>Male</td>\n",
       "      <td>Europe</td>\n",
       "      <td>college</td>\n",
       "      <td>6.0</td>\n",
       "      <td>High</td>\n",
       "      <td>High</td>\n",
       "    </tr>\n",
       "    <tr>\n",
       "      <th>125</th>\n",
       "      <td>34</td>\n",
       "      <td>Male</td>\n",
       "      <td>Europe</td>\n",
       "      <td>college</td>\n",
       "      <td>8.5</td>\n",
       "      <td>High</td>\n",
       "      <td>Low</td>\n",
       "    </tr>\n",
       "    <tr>\n",
       "      <th>126</th>\n",
       "      <td>34</td>\n",
       "      <td>Male</td>\n",
       "      <td>Europe</td>\n",
       "      <td>college</td>\n",
       "      <td>8.5</td>\n",
       "      <td>Low</td>\n",
       "      <td>High</td>\n",
       "    </tr>\n",
       "    <tr>\n",
       "      <th>127</th>\n",
       "      <td>34</td>\n",
       "      <td>Male</td>\n",
       "      <td>Europe</td>\n",
       "      <td>college</td>\n",
       "      <td>4.5</td>\n",
       "      <td>Low</td>\n",
       "      <td>Low</td>\n",
       "    </tr>\n",
       "    <tr>\n",
       "      <th>128</th>\n",
       "      <td>35</td>\n",
       "      <td>Male</td>\n",
       "      <td>North</td>\n",
       "      <td>some</td>\n",
       "      <td>4.0</td>\n",
       "      <td>High</td>\n",
       "      <td>High</td>\n",
       "    </tr>\n",
       "    <tr>\n",
       "      <th>129</th>\n",
       "      <td>35</td>\n",
       "      <td>Male</td>\n",
       "      <td>North</td>\n",
       "      <td>some</td>\n",
       "      <td>8.0</td>\n",
       "      <td>High</td>\n",
       "      <td>Low</td>\n",
       "    </tr>\n",
       "    <tr>\n",
       "      <th>130</th>\n",
       "      <td>35</td>\n",
       "      <td>Male</td>\n",
       "      <td>North</td>\n",
       "      <td>some</td>\n",
       "      <td>2.0</td>\n",
       "      <td>Low</td>\n",
       "      <td>High</td>\n",
       "    </tr>\n",
       "    <tr>\n",
       "      <th>131</th>\n",
       "      <td>35</td>\n",
       "      <td>Male</td>\n",
       "      <td>North</td>\n",
       "      <td>some</td>\n",
       "      <td>3.0</td>\n",
       "      <td>Low</td>\n",
       "      <td>Low</td>\n",
       "    </tr>\n",
       "    <tr>\n",
       "      <th>132</th>\n",
       "      <td>36</td>\n",
       "      <td>Male</td>\n",
       "      <td>North</td>\n",
       "      <td>some</td>\n",
       "      <td>4.5</td>\n",
       "      <td>High</td>\n",
       "      <td>High</td>\n",
       "    </tr>\n",
       "    <tr>\n",
       "      <th>133</th>\n",
       "      <td>36</td>\n",
       "      <td>Male</td>\n",
       "      <td>North</td>\n",
       "      <td>some</td>\n",
       "      <td>2.0</td>\n",
       "      <td>High</td>\n",
       "      <td>Low</td>\n",
       "    </tr>\n",
       "    <tr>\n",
       "      <th>134</th>\n",
       "      <td>36</td>\n",
       "      <td>Male</td>\n",
       "      <td>North</td>\n",
       "      <td>some</td>\n",
       "      <td>10.0</td>\n",
       "      <td>Low</td>\n",
       "      <td>High</td>\n",
       "    </tr>\n",
       "    <tr>\n",
       "      <th>135</th>\n",
       "      <td>36</td>\n",
       "      <td>Male</td>\n",
       "      <td>North</td>\n",
       "      <td>some</td>\n",
       "      <td>6.0</td>\n",
       "      <td>Low</td>\n",
       "      <td>Low</td>\n",
       "    </tr>\n",
       "    <tr>\n",
       "      <th>136</th>\n",
       "      <td>37</td>\n",
       "      <td>Female</td>\n",
       "      <td>North</td>\n",
       "      <td>some</td>\n",
       "      <td>10.0</td>\n",
       "      <td>High</td>\n",
       "      <td>High</td>\n",
       "    </tr>\n",
       "    <tr>\n",
       "      <th>137</th>\n",
       "      <td>37</td>\n",
       "      <td>Female</td>\n",
       "      <td>North</td>\n",
       "      <td>some</td>\n",
       "      <td>7.0</td>\n",
       "      <td>High</td>\n",
       "      <td>Low</td>\n",
       "    </tr>\n",
       "    <tr>\n",
       "      <th>138</th>\n",
       "      <td>37</td>\n",
       "      <td>Female</td>\n",
       "      <td>North</td>\n",
       "      <td>some</td>\n",
       "      <td>10.0</td>\n",
       "      <td>Low</td>\n",
       "      <td>High</td>\n",
       "    </tr>\n",
       "    <tr>\n",
       "      <th>139</th>\n",
       "      <td>37</td>\n",
       "      <td>Female</td>\n",
       "      <td>North</td>\n",
       "      <td>some</td>\n",
       "      <td>4.0</td>\n",
       "      <td>Low</td>\n",
       "      <td>Low</td>\n",
       "    </tr>\n",
       "    <tr>\n",
       "      <th>140</th>\n",
       "      <td>38</td>\n",
       "      <td>Female</td>\n",
       "      <td>North</td>\n",
       "      <td>some</td>\n",
       "      <td>10.0</td>\n",
       "      <td>High</td>\n",
       "      <td>High</td>\n",
       "    </tr>\n",
       "    <tr>\n",
       "      <th>141</th>\n",
       "      <td>38</td>\n",
       "      <td>Female</td>\n",
       "      <td>North</td>\n",
       "      <td>some</td>\n",
       "      <td>10.0</td>\n",
       "      <td>High</td>\n",
       "      <td>Low</td>\n",
       "    </tr>\n",
       "    <tr>\n",
       "      <th>142</th>\n",
       "      <td>38</td>\n",
       "      <td>Female</td>\n",
       "      <td>North</td>\n",
       "      <td>some</td>\n",
       "      <td>7.0</td>\n",
       "      <td>Low</td>\n",
       "      <td>High</td>\n",
       "    </tr>\n",
       "    <tr>\n",
       "      <th>143</th>\n",
       "      <td>38</td>\n",
       "      <td>Female</td>\n",
       "      <td>North</td>\n",
       "      <td>some</td>\n",
       "      <td>4.5</td>\n",
       "      <td>Low</td>\n",
       "      <td>Low</td>\n",
       "    </tr>\n",
       "    <tr>\n",
       "      <th>144</th>\n",
       "      <td>39</td>\n",
       "      <td>Male</td>\n",
       "      <td>North</td>\n",
       "      <td>some</td>\n",
       "      <td>9.0</td>\n",
       "      <td>High</td>\n",
       "      <td>High</td>\n",
       "    </tr>\n",
       "    <tr>\n",
       "      <th>145</th>\n",
       "      <td>39</td>\n",
       "      <td>Male</td>\n",
       "      <td>North</td>\n",
       "      <td>some</td>\n",
       "      <td>10.0</td>\n",
       "      <td>High</td>\n",
       "      <td>Low</td>\n",
       "    </tr>\n",
       "    <tr>\n",
       "      <th>146</th>\n",
       "      <td>39</td>\n",
       "      <td>Male</td>\n",
       "      <td>North</td>\n",
       "      <td>some</td>\n",
       "      <td>7.0</td>\n",
       "      <td>Low</td>\n",
       "      <td>High</td>\n",
       "    </tr>\n",
       "    <tr>\n",
       "      <th>147</th>\n",
       "      <td>39</td>\n",
       "      <td>Male</td>\n",
       "      <td>North</td>\n",
       "      <td>some</td>\n",
       "      <td>7.0</td>\n",
       "      <td>Low</td>\n",
       "      <td>Low</td>\n",
       "    </tr>\n",
       "    <tr>\n",
       "      <th>148</th>\n",
       "      <td>40</td>\n",
       "      <td>NaN</td>\n",
       "      <td>NaN</td>\n",
       "      <td>NaN</td>\n",
       "      <td>9.5</td>\n",
       "      <td>High</td>\n",
       "      <td>High</td>\n",
       "    </tr>\n",
       "    <tr>\n",
       "      <th>149</th>\n",
       "      <td>40</td>\n",
       "      <td>NaN</td>\n",
       "      <td>NaN</td>\n",
       "      <td>NaN</td>\n",
       "      <td>8.0</td>\n",
       "      <td>High</td>\n",
       "      <td>Low</td>\n",
       "    </tr>\n",
       "    <tr>\n",
       "      <th>150</th>\n",
       "      <td>40</td>\n",
       "      <td>NaN</td>\n",
       "      <td>NaN</td>\n",
       "      <td>NaN</td>\n",
       "      <td>8.5</td>\n",
       "      <td>Low</td>\n",
       "      <td>High</td>\n",
       "    </tr>\n",
       "    <tr>\n",
       "      <th>151</th>\n",
       "      <td>40</td>\n",
       "      <td>NaN</td>\n",
       "      <td>NaN</td>\n",
       "      <td>NaN</td>\n",
       "      <td>8.0</td>\n",
       "      <td>Low</td>\n",
       "      <td>Low</td>\n",
       "    </tr>\n",
       "    <tr>\n",
       "      <th>152</th>\n",
       "      <td>41</td>\n",
       "      <td>Female</td>\n",
       "      <td>North</td>\n",
       "      <td>some</td>\n",
       "      <td>7.5</td>\n",
       "      <td>High</td>\n",
       "      <td>High</td>\n",
       "    </tr>\n",
       "    <tr>\n",
       "      <th>153</th>\n",
       "      <td>41</td>\n",
       "      <td>Female</td>\n",
       "      <td>North</td>\n",
       "      <td>some</td>\n",
       "      <td>7.5</td>\n",
       "      <td>High</td>\n",
       "      <td>Low</td>\n",
       "    </tr>\n",
       "    <tr>\n",
       "      <th>154</th>\n",
       "      <td>41</td>\n",
       "      <td>Female</td>\n",
       "      <td>North</td>\n",
       "      <td>some</td>\n",
       "      <td>7.5</td>\n",
       "      <td>Low</td>\n",
       "      <td>High</td>\n",
       "    </tr>\n",
       "    <tr>\n",
       "      <th>155</th>\n",
       "      <td>41</td>\n",
       "      <td>Female</td>\n",
       "      <td>North</td>\n",
       "      <td>some</td>\n",
       "      <td>5.0</td>\n",
       "      <td>Low</td>\n",
       "      <td>Low</td>\n",
       "    </tr>\n",
       "    <tr>\n",
       "      <th>156</th>\n",
       "      <td>42</td>\n",
       "      <td>Female</td>\n",
       "      <td>North</td>\n",
       "      <td>high</td>\n",
       "      <td>9.5</td>\n",
       "      <td>High</td>\n",
       "      <td>High</td>\n",
       "    </tr>\n",
       "    <tr>\n",
       "      <th>157</th>\n",
       "      <td>42</td>\n",
       "      <td>Female</td>\n",
       "      <td>North</td>\n",
       "      <td>high</td>\n",
       "      <td>NaN</td>\n",
       "      <td>High</td>\n",
       "      <td>Low</td>\n",
       "    </tr>\n",
       "    <tr>\n",
       "      <th>158</th>\n",
       "      <td>42</td>\n",
       "      <td>Female</td>\n",
       "      <td>North</td>\n",
       "      <td>high</td>\n",
       "      <td>8.5</td>\n",
       "      <td>Low</td>\n",
       "      <td>High</td>\n",
       "    </tr>\n",
       "    <tr>\n",
       "      <th>159</th>\n",
       "      <td>42</td>\n",
       "      <td>Female</td>\n",
       "      <td>North</td>\n",
       "      <td>high</td>\n",
       "      <td>5.0</td>\n",
       "      <td>Low</td>\n",
       "      <td>Low</td>\n",
       "    </tr>\n",
       "    <tr>\n",
       "      <th>160</th>\n",
       "      <td>43</td>\n",
       "      <td>Female</td>\n",
       "      <td>North</td>\n",
       "      <td>some</td>\n",
       "      <td>5.5</td>\n",
       "      <td>High</td>\n",
       "      <td>High</td>\n",
       "    </tr>\n",
       "    <tr>\n",
       "      <th>161</th>\n",
       "      <td>43</td>\n",
       "      <td>Female</td>\n",
       "      <td>North</td>\n",
       "      <td>some</td>\n",
       "      <td>0.0</td>\n",
       "      <td>High</td>\n",
       "      <td>Low</td>\n",
       "    </tr>\n",
       "    <tr>\n",
       "      <th>162</th>\n",
       "      <td>43</td>\n",
       "      <td>Female</td>\n",
       "      <td>North</td>\n",
       "      <td>some</td>\n",
       "      <td>2.0</td>\n",
       "      <td>Low</td>\n",
       "      <td>High</td>\n",
       "    </tr>\n",
       "    <tr>\n",
       "      <th>163</th>\n",
       "      <td>43</td>\n",
       "      <td>Female</td>\n",
       "      <td>North</td>\n",
       "      <td>some</td>\n",
       "      <td>2.0</td>\n",
       "      <td>Low</td>\n",
       "      <td>Low</td>\n",
       "    </tr>\n",
       "    <tr>\n",
       "      <th>164</th>\n",
       "      <td>45</td>\n",
       "      <td>Male</td>\n",
       "      <td>North</td>\n",
       "      <td>partial</td>\n",
       "      <td>8.0</td>\n",
       "      <td>High</td>\n",
       "      <td>High</td>\n",
       "    </tr>\n",
       "    <tr>\n",
       "      <th>165</th>\n",
       "      <td>45</td>\n",
       "      <td>Male</td>\n",
       "      <td>North</td>\n",
       "      <td>partial</td>\n",
       "      <td>6.5</td>\n",
       "      <td>High</td>\n",
       "      <td>Low</td>\n",
       "    </tr>\n",
       "    <tr>\n",
       "      <th>166</th>\n",
       "      <td>45</td>\n",
       "      <td>Male</td>\n",
       "      <td>North</td>\n",
       "      <td>partial</td>\n",
       "      <td>7.0</td>\n",
       "      <td>Low</td>\n",
       "      <td>High</td>\n",
       "    </tr>\n",
       "    <tr>\n",
       "      <th>167</th>\n",
       "      <td>45</td>\n",
       "      <td>Male</td>\n",
       "      <td>North</td>\n",
       "      <td>partial</td>\n",
       "      <td>7.5</td>\n",
       "      <td>Low</td>\n",
       "      <td>Low</td>\n",
       "    </tr>\n",
       "    <tr>\n",
       "      <th>168</th>\n",
       "      <td>46</td>\n",
       "      <td>Female</td>\n",
       "      <td>North</td>\n",
       "      <td>less</td>\n",
       "      <td>10.0</td>\n",
       "      <td>High</td>\n",
       "      <td>High</td>\n",
       "    </tr>\n",
       "    <tr>\n",
       "      <th>169</th>\n",
       "      <td>46</td>\n",
       "      <td>Female</td>\n",
       "      <td>North</td>\n",
       "      <td>less</td>\n",
       "      <td>1.0</td>\n",
       "      <td>High</td>\n",
       "      <td>Low</td>\n",
       "    </tr>\n",
       "    <tr>\n",
       "      <th>170</th>\n",
       "      <td>46</td>\n",
       "      <td>Female</td>\n",
       "      <td>North</td>\n",
       "      <td>less</td>\n",
       "      <td>4.0</td>\n",
       "      <td>Low</td>\n",
       "      <td>High</td>\n",
       "    </tr>\n",
       "    <tr>\n",
       "      <th>171</th>\n",
       "      <td>46</td>\n",
       "      <td>Female</td>\n",
       "      <td>North</td>\n",
       "      <td>less</td>\n",
       "      <td>3.5</td>\n",
       "      <td>Low</td>\n",
       "      <td>Low</td>\n",
       "    </tr>\n",
       "    <tr>\n",
       "      <th>172</th>\n",
       "      <td>47</td>\n",
       "      <td>Female</td>\n",
       "      <td>North</td>\n",
       "      <td>advance</td>\n",
       "      <td>2.5</td>\n",
       "      <td>High</td>\n",
       "      <td>High</td>\n",
       "    </tr>\n",
       "    <tr>\n",
       "      <th>173</th>\n",
       "      <td>47</td>\n",
       "      <td>Female</td>\n",
       "      <td>North</td>\n",
       "      <td>advance</td>\n",
       "      <td>0.5</td>\n",
       "      <td>High</td>\n",
       "      <td>Low</td>\n",
       "    </tr>\n",
       "    <tr>\n",
       "      <th>174</th>\n",
       "      <td>47</td>\n",
       "      <td>Female</td>\n",
       "      <td>North</td>\n",
       "      <td>advance</td>\n",
       "      <td>7.5</td>\n",
       "      <td>Low</td>\n",
       "      <td>High</td>\n",
       "    </tr>\n",
       "    <tr>\n",
       "      <th>175</th>\n",
       "      <td>47</td>\n",
       "      <td>Female</td>\n",
       "      <td>North</td>\n",
       "      <td>advance</td>\n",
       "      <td>5.0</td>\n",
       "      <td>Low</td>\n",
       "      <td>Low</td>\n",
       "    </tr>\n",
       "    <tr>\n",
       "      <th>176</th>\n",
       "      <td>48</td>\n",
       "      <td>Male</td>\n",
       "      <td>North</td>\n",
       "      <td>some</td>\n",
       "      <td>5.5</td>\n",
       "      <td>High</td>\n",
       "      <td>High</td>\n",
       "    </tr>\n",
       "    <tr>\n",
       "      <th>177</th>\n",
       "      <td>48</td>\n",
       "      <td>Male</td>\n",
       "      <td>North</td>\n",
       "      <td>some</td>\n",
       "      <td>9.5</td>\n",
       "      <td>High</td>\n",
       "      <td>Low</td>\n",
       "    </tr>\n",
       "    <tr>\n",
       "      <th>178</th>\n",
       "      <td>48</td>\n",
       "      <td>Male</td>\n",
       "      <td>North</td>\n",
       "      <td>some</td>\n",
       "      <td>3.5</td>\n",
       "      <td>Low</td>\n",
       "      <td>High</td>\n",
       "    </tr>\n",
       "    <tr>\n",
       "      <th>179</th>\n",
       "      <td>48</td>\n",
       "      <td>Male</td>\n",
       "      <td>North</td>\n",
       "      <td>some</td>\n",
       "      <td>2.0</td>\n",
       "      <td>Low</td>\n",
       "      <td>Low</td>\n",
       "    </tr>\n",
       "    <tr>\n",
       "      <th>180</th>\n",
       "      <td>49</td>\n",
       "      <td>Male</td>\n",
       "      <td>North</td>\n",
       "      <td>some</td>\n",
       "      <td>9.5</td>\n",
       "      <td>High</td>\n",
       "      <td>High</td>\n",
       "    </tr>\n",
       "    <tr>\n",
       "      <th>181</th>\n",
       "      <td>49</td>\n",
       "      <td>Male</td>\n",
       "      <td>North</td>\n",
       "      <td>some</td>\n",
       "      <td>1.5</td>\n",
       "      <td>High</td>\n",
       "      <td>Low</td>\n",
       "    </tr>\n",
       "    <tr>\n",
       "      <th>182</th>\n",
       "      <td>49</td>\n",
       "      <td>Male</td>\n",
       "      <td>North</td>\n",
       "      <td>some</td>\n",
       "      <td>8.0</td>\n",
       "      <td>Low</td>\n",
       "      <td>High</td>\n",
       "    </tr>\n",
       "    <tr>\n",
       "      <th>183</th>\n",
       "      <td>49</td>\n",
       "      <td>Male</td>\n",
       "      <td>North</td>\n",
       "      <td>some</td>\n",
       "      <td>4.0</td>\n",
       "      <td>Low</td>\n",
       "      <td>Low</td>\n",
       "    </tr>\n",
       "    <tr>\n",
       "      <th>184</th>\n",
       "      <td>50</td>\n",
       "      <td>Female</td>\n",
       "      <td>North</td>\n",
       "      <td>some</td>\n",
       "      <td>3.5</td>\n",
       "      <td>High</td>\n",
       "      <td>High</td>\n",
       "    </tr>\n",
       "    <tr>\n",
       "      <th>185</th>\n",
       "      <td>50</td>\n",
       "      <td>Female</td>\n",
       "      <td>North</td>\n",
       "      <td>some</td>\n",
       "      <td>4.5</td>\n",
       "      <td>High</td>\n",
       "      <td>Low</td>\n",
       "    </tr>\n",
       "    <tr>\n",
       "      <th>186</th>\n",
       "      <td>50</td>\n",
       "      <td>Female</td>\n",
       "      <td>North</td>\n",
       "      <td>some</td>\n",
       "      <td>6.0</td>\n",
       "      <td>Low</td>\n",
       "      <td>High</td>\n",
       "    </tr>\n",
       "    <tr>\n",
       "      <th>187</th>\n",
       "      <td>50</td>\n",
       "      <td>Female</td>\n",
       "      <td>North</td>\n",
       "      <td>some</td>\n",
       "      <td>5.0</td>\n",
       "      <td>Low</td>\n",
       "      <td>Low</td>\n",
       "    </tr>\n",
       "    <tr>\n",
       "      <th>188</th>\n",
       "      <td>51</td>\n",
       "      <td>Female</td>\n",
       "      <td>North</td>\n",
       "      <td>some</td>\n",
       "      <td>9.0</td>\n",
       "      <td>High</td>\n",
       "      <td>High</td>\n",
       "    </tr>\n",
       "    <tr>\n",
       "      <th>189</th>\n",
       "      <td>51</td>\n",
       "      <td>Female</td>\n",
       "      <td>North</td>\n",
       "      <td>some</td>\n",
       "      <td>8.0</td>\n",
       "      <td>High</td>\n",
       "      <td>Low</td>\n",
       "    </tr>\n",
       "    <tr>\n",
       "      <th>190</th>\n",
       "      <td>51</td>\n",
       "      <td>Female</td>\n",
       "      <td>North</td>\n",
       "      <td>some</td>\n",
       "      <td>2.5</td>\n",
       "      <td>Low</td>\n",
       "      <td>High</td>\n",
       "    </tr>\n",
       "    <tr>\n",
       "      <th>191</th>\n",
       "      <td>51</td>\n",
       "      <td>Female</td>\n",
       "      <td>North</td>\n",
       "      <td>some</td>\n",
       "      <td>5.5</td>\n",
       "      <td>Low</td>\n",
       "      <td>Low</td>\n",
       "    </tr>\n",
       "    <tr>\n",
       "      <th>192</th>\n",
       "      <td>52</td>\n",
       "      <td>Female</td>\n",
       "      <td>North</td>\n",
       "      <td>less</td>\n",
       "      <td>10.0</td>\n",
       "      <td>High</td>\n",
       "      <td>High</td>\n",
       "    </tr>\n",
       "    <tr>\n",
       "      <th>193</th>\n",
       "      <td>52</td>\n",
       "      <td>Female</td>\n",
       "      <td>North</td>\n",
       "      <td>less</td>\n",
       "      <td>10.0</td>\n",
       "      <td>High</td>\n",
       "      <td>Low</td>\n",
       "    </tr>\n",
       "    <tr>\n",
       "      <th>194</th>\n",
       "      <td>52</td>\n",
       "      <td>Female</td>\n",
       "      <td>North</td>\n",
       "      <td>less</td>\n",
       "      <td>10.0</td>\n",
       "      <td>Low</td>\n",
       "      <td>High</td>\n",
       "    </tr>\n",
       "    <tr>\n",
       "      <th>195</th>\n",
       "      <td>52</td>\n",
       "      <td>Female</td>\n",
       "      <td>North</td>\n",
       "      <td>less</td>\n",
       "      <td>10.0</td>\n",
       "      <td>Low</td>\n",
       "      <td>Low</td>\n",
       "    </tr>\n",
       "    <tr>\n",
       "      <th>196</th>\n",
       "      <td>53</td>\n",
       "      <td>Female</td>\n",
       "      <td>North</td>\n",
       "      <td>some</td>\n",
       "      <td>9.0</td>\n",
       "      <td>High</td>\n",
       "      <td>High</td>\n",
       "    </tr>\n",
       "    <tr>\n",
       "      <th>197</th>\n",
       "      <td>53</td>\n",
       "      <td>Female</td>\n",
       "      <td>North</td>\n",
       "      <td>some</td>\n",
       "      <td>4.0</td>\n",
       "      <td>High</td>\n",
       "      <td>Low</td>\n",
       "    </tr>\n",
       "    <tr>\n",
       "      <th>198</th>\n",
       "      <td>53</td>\n",
       "      <td>Female</td>\n",
       "      <td>North</td>\n",
       "      <td>some</td>\n",
       "      <td>8.5</td>\n",
       "      <td>Low</td>\n",
       "      <td>High</td>\n",
       "    </tr>\n",
       "    <tr>\n",
       "      <th>199</th>\n",
       "      <td>53</td>\n",
       "      <td>Female</td>\n",
       "      <td>North</td>\n",
       "      <td>some</td>\n",
       "      <td>7.0</td>\n",
       "      <td>Low</td>\n",
       "      <td>Low</td>\n",
       "    </tr>\n",
       "    <tr>\n",
       "      <th>200</th>\n",
       "      <td>54</td>\n",
       "      <td>Female</td>\n",
       "      <td>Other</td>\n",
       "      <td>some</td>\n",
       "      <td>10.0</td>\n",
       "      <td>High</td>\n",
       "      <td>High</td>\n",
       "    </tr>\n",
       "    <tr>\n",
       "      <th>201</th>\n",
       "      <td>54</td>\n",
       "      <td>Female</td>\n",
       "      <td>Other</td>\n",
       "      <td>some</td>\n",
       "      <td>6.0</td>\n",
       "      <td>High</td>\n",
       "      <td>Low</td>\n",
       "    </tr>\n",
       "    <tr>\n",
       "      <th>202</th>\n",
       "      <td>54</td>\n",
       "      <td>Female</td>\n",
       "      <td>Other</td>\n",
       "      <td>some</td>\n",
       "      <td>10.0</td>\n",
       "      <td>Low</td>\n",
       "      <td>High</td>\n",
       "    </tr>\n",
       "    <tr>\n",
       "      <th>203</th>\n",
       "      <td>54</td>\n",
       "      <td>Female</td>\n",
       "      <td>Other</td>\n",
       "      <td>some</td>\n",
       "      <td>5.5</td>\n",
       "      <td>Low</td>\n",
       "      <td>Low</td>\n",
       "    </tr>\n",
       "    <tr>\n",
       "      <th>204</th>\n",
       "      <td>56</td>\n",
       "      <td>Female</td>\n",
       "      <td>North</td>\n",
       "      <td>some</td>\n",
       "      <td>10.0</td>\n",
       "      <td>High</td>\n",
       "      <td>High</td>\n",
       "    </tr>\n",
       "    <tr>\n",
       "      <th>205</th>\n",
       "      <td>56</td>\n",
       "      <td>Female</td>\n",
       "      <td>North</td>\n",
       "      <td>some</td>\n",
       "      <td>10.0</td>\n",
       "      <td>High</td>\n",
       "      <td>Low</td>\n",
       "    </tr>\n",
       "    <tr>\n",
       "      <th>206</th>\n",
       "      <td>56</td>\n",
       "      <td>Female</td>\n",
       "      <td>North</td>\n",
       "      <td>some</td>\n",
       "      <td>10.0</td>\n",
       "      <td>Low</td>\n",
       "      <td>High</td>\n",
       "    </tr>\n",
       "    <tr>\n",
       "      <th>207</th>\n",
       "      <td>56</td>\n",
       "      <td>Female</td>\n",
       "      <td>North</td>\n",
       "      <td>some</td>\n",
       "      <td>10.0</td>\n",
       "      <td>Low</td>\n",
       "      <td>Low</td>\n",
       "    </tr>\n",
       "    <tr>\n",
       "      <th>208</th>\n",
       "      <td>57</td>\n",
       "      <td>Female</td>\n",
       "      <td>South</td>\n",
       "      <td>some</td>\n",
       "      <td>10.0</td>\n",
       "      <td>High</td>\n",
       "      <td>High</td>\n",
       "    </tr>\n",
       "    <tr>\n",
       "      <th>209</th>\n",
       "      <td>57</td>\n",
       "      <td>Female</td>\n",
       "      <td>South</td>\n",
       "      <td>some</td>\n",
       "      <td>10.0</td>\n",
       "      <td>High</td>\n",
       "      <td>Low</td>\n",
       "    </tr>\n",
       "    <tr>\n",
       "      <th>210</th>\n",
       "      <td>57</td>\n",
       "      <td>Female</td>\n",
       "      <td>South</td>\n",
       "      <td>some</td>\n",
       "      <td>10.0</td>\n",
       "      <td>Low</td>\n",
       "      <td>High</td>\n",
       "    </tr>\n",
       "    <tr>\n",
       "      <th>211</th>\n",
       "      <td>57</td>\n",
       "      <td>Female</td>\n",
       "      <td>South</td>\n",
       "      <td>some</td>\n",
       "      <td>9.5</td>\n",
       "      <td>Low</td>\n",
       "      <td>Low</td>\n",
       "    </tr>\n",
       "    <tr>\n",
       "      <th>212</th>\n",
       "      <td>58</td>\n",
       "      <td>Male</td>\n",
       "      <td>North</td>\n",
       "      <td>some</td>\n",
       "      <td>6.0</td>\n",
       "      <td>High</td>\n",
       "      <td>High</td>\n",
       "    </tr>\n",
       "    <tr>\n",
       "      <th>213</th>\n",
       "      <td>58</td>\n",
       "      <td>Male</td>\n",
       "      <td>North</td>\n",
       "      <td>some</td>\n",
       "      <td>7.5</td>\n",
       "      <td>High</td>\n",
       "      <td>Low</td>\n",
       "    </tr>\n",
       "    <tr>\n",
       "      <th>214</th>\n",
       "      <td>58</td>\n",
       "      <td>Male</td>\n",
       "      <td>North</td>\n",
       "      <td>some</td>\n",
       "      <td>4.5</td>\n",
       "      <td>Low</td>\n",
       "      <td>High</td>\n",
       "    </tr>\n",
       "    <tr>\n",
       "      <th>215</th>\n",
       "      <td>58</td>\n",
       "      <td>Male</td>\n",
       "      <td>North</td>\n",
       "      <td>some</td>\n",
       "      <td>6.0</td>\n",
       "      <td>Low</td>\n",
       "      <td>Low</td>\n",
       "    </tr>\n",
       "    <tr>\n",
       "      <th>216</th>\n",
       "      <td>59</td>\n",
       "      <td>Female</td>\n",
       "      <td>North</td>\n",
       "      <td>less</td>\n",
       "      <td>8.5</td>\n",
       "      <td>High</td>\n",
       "      <td>High</td>\n",
       "    </tr>\n",
       "    <tr>\n",
       "      <th>217</th>\n",
       "      <td>59</td>\n",
       "      <td>Female</td>\n",
       "      <td>North</td>\n",
       "      <td>less</td>\n",
       "      <td>10.0</td>\n",
       "      <td>High</td>\n",
       "      <td>Low</td>\n",
       "    </tr>\n",
       "    <tr>\n",
       "      <th>218</th>\n",
       "      <td>59</td>\n",
       "      <td>Female</td>\n",
       "      <td>North</td>\n",
       "      <td>less</td>\n",
       "      <td>6.5</td>\n",
       "      <td>Low</td>\n",
       "      <td>High</td>\n",
       "    </tr>\n",
       "    <tr>\n",
       "      <th>219</th>\n",
       "      <td>59</td>\n",
       "      <td>Female</td>\n",
       "      <td>North</td>\n",
       "      <td>less</td>\n",
       "      <td>7.5</td>\n",
       "      <td>Low</td>\n",
       "      <td>Low</td>\n",
       "    </tr>\n",
       "    <tr>\n",
       "      <th>220</th>\n",
       "      <td>60</td>\n",
       "      <td>Male</td>\n",
       "      <td>North</td>\n",
       "      <td>less</td>\n",
       "      <td>8.0</td>\n",
       "      <td>High</td>\n",
       "      <td>High</td>\n",
       "    </tr>\n",
       "    <tr>\n",
       "      <th>221</th>\n",
       "      <td>60</td>\n",
       "      <td>Male</td>\n",
       "      <td>North</td>\n",
       "      <td>less</td>\n",
       "      <td>8.0</td>\n",
       "      <td>High</td>\n",
       "      <td>Low</td>\n",
       "    </tr>\n",
       "    <tr>\n",
       "      <th>222</th>\n",
       "      <td>60</td>\n",
       "      <td>Male</td>\n",
       "      <td>North</td>\n",
       "      <td>less</td>\n",
       "      <td>7.5</td>\n",
       "      <td>Low</td>\n",
       "      <td>High</td>\n",
       "    </tr>\n",
       "    <tr>\n",
       "      <th>223</th>\n",
       "      <td>60</td>\n",
       "      <td>Male</td>\n",
       "      <td>North</td>\n",
       "      <td>less</td>\n",
       "      <td>3.5</td>\n",
       "      <td>Low</td>\n",
       "      <td>Low</td>\n",
       "    </tr>\n",
       "    <tr>\n",
       "      <th>224</th>\n",
       "      <td>61</td>\n",
       "      <td>Female</td>\n",
       "      <td>North</td>\n",
       "      <td>college</td>\n",
       "      <td>7.5</td>\n",
       "      <td>High</td>\n",
       "      <td>High</td>\n",
       "    </tr>\n",
       "    <tr>\n",
       "      <th>225</th>\n",
       "      <td>61</td>\n",
       "      <td>Female</td>\n",
       "      <td>North</td>\n",
       "      <td>college</td>\n",
       "      <td>5.0</td>\n",
       "      <td>High</td>\n",
       "      <td>Low</td>\n",
       "    </tr>\n",
       "    <tr>\n",
       "      <th>226</th>\n",
       "      <td>61</td>\n",
       "      <td>Female</td>\n",
       "      <td>North</td>\n",
       "      <td>college</td>\n",
       "      <td>7.5</td>\n",
       "      <td>Low</td>\n",
       "      <td>High</td>\n",
       "    </tr>\n",
       "    <tr>\n",
       "      <th>227</th>\n",
       "      <td>61</td>\n",
       "      <td>Female</td>\n",
       "      <td>North</td>\n",
       "      <td>college</td>\n",
       "      <td>2.5</td>\n",
       "      <td>Low</td>\n",
       "      <td>Low</td>\n",
       "    </tr>\n",
       "    <tr>\n",
       "      <th>228</th>\n",
       "      <td>62</td>\n",
       "      <td>Male</td>\n",
       "      <td>North</td>\n",
       "      <td>less</td>\n",
       "      <td>8.0</td>\n",
       "      <td>High</td>\n",
       "      <td>High</td>\n",
       "    </tr>\n",
       "    <tr>\n",
       "      <th>229</th>\n",
       "      <td>62</td>\n",
       "      <td>Male</td>\n",
       "      <td>North</td>\n",
       "      <td>less</td>\n",
       "      <td>3.5</td>\n",
       "      <td>High</td>\n",
       "      <td>Low</td>\n",
       "    </tr>\n",
       "    <tr>\n",
       "      <th>230</th>\n",
       "      <td>62</td>\n",
       "      <td>Male</td>\n",
       "      <td>North</td>\n",
       "      <td>less</td>\n",
       "      <td>9.5</td>\n",
       "      <td>Low</td>\n",
       "      <td>High</td>\n",
       "    </tr>\n",
       "    <tr>\n",
       "      <th>231</th>\n",
       "      <td>62</td>\n",
       "      <td>Male</td>\n",
       "      <td>North</td>\n",
       "      <td>less</td>\n",
       "      <td>3.5</td>\n",
       "      <td>Low</td>\n",
       "      <td>Low</td>\n",
       "    </tr>\n",
       "    <tr>\n",
       "      <th>232</th>\n",
       "      <td>64</td>\n",
       "      <td>Female</td>\n",
       "      <td>Europe</td>\n",
       "      <td>some</td>\n",
       "      <td>5.0</td>\n",
       "      <td>High</td>\n",
       "      <td>High</td>\n",
       "    </tr>\n",
       "    <tr>\n",
       "      <th>233</th>\n",
       "      <td>64</td>\n",
       "      <td>Female</td>\n",
       "      <td>Europe</td>\n",
       "      <td>some</td>\n",
       "      <td>NaN</td>\n",
       "      <td>High</td>\n",
       "      <td>Low</td>\n",
       "    </tr>\n",
       "    <tr>\n",
       "      <th>234</th>\n",
       "      <td>64</td>\n",
       "      <td>Female</td>\n",
       "      <td>Europe</td>\n",
       "      <td>some</td>\n",
       "      <td>6.0</td>\n",
       "      <td>Low</td>\n",
       "      <td>High</td>\n",
       "    </tr>\n",
       "    <tr>\n",
       "      <th>235</th>\n",
       "      <td>64</td>\n",
       "      <td>Female</td>\n",
       "      <td>Europe</td>\n",
       "      <td>some</td>\n",
       "      <td>8.5</td>\n",
       "      <td>Low</td>\n",
       "      <td>Low</td>\n",
       "    </tr>\n",
       "    <tr>\n",
       "      <th>236</th>\n",
       "      <td>65</td>\n",
       "      <td>Female</td>\n",
       "      <td>North</td>\n",
       "      <td>less</td>\n",
       "      <td>2.5</td>\n",
       "      <td>High</td>\n",
       "      <td>High</td>\n",
       "    </tr>\n",
       "    <tr>\n",
       "      <th>237</th>\n",
       "      <td>65</td>\n",
       "      <td>Female</td>\n",
       "      <td>North</td>\n",
       "      <td>less</td>\n",
       "      <td>10.0</td>\n",
       "      <td>High</td>\n",
       "      <td>Low</td>\n",
       "    </tr>\n",
       "    <tr>\n",
       "      <th>238</th>\n",
       "      <td>65</td>\n",
       "      <td>Female</td>\n",
       "      <td>North</td>\n",
       "      <td>less</td>\n",
       "      <td>8.5</td>\n",
       "      <td>Low</td>\n",
       "      <td>High</td>\n",
       "    </tr>\n",
       "    <tr>\n",
       "      <th>239</th>\n",
       "      <td>65</td>\n",
       "      <td>Female</td>\n",
       "      <td>North</td>\n",
       "      <td>less</td>\n",
       "      <td>3.0</td>\n",
       "      <td>Low</td>\n",
       "      <td>Low</td>\n",
       "    </tr>\n",
       "    <tr>\n",
       "      <th>240</th>\n",
       "      <td>66</td>\n",
       "      <td>Male</td>\n",
       "      <td>North</td>\n",
       "      <td>less</td>\n",
       "      <td>8.5</td>\n",
       "      <td>High</td>\n",
       "      <td>High</td>\n",
       "    </tr>\n",
       "    <tr>\n",
       "      <th>241</th>\n",
       "      <td>66</td>\n",
       "      <td>Male</td>\n",
       "      <td>North</td>\n",
       "      <td>less</td>\n",
       "      <td>3.0</td>\n",
       "      <td>High</td>\n",
       "      <td>Low</td>\n",
       "    </tr>\n",
       "    <tr>\n",
       "      <th>242</th>\n",
       "      <td>66</td>\n",
       "      <td>Male</td>\n",
       "      <td>North</td>\n",
       "      <td>less</td>\n",
       "      <td>10.0</td>\n",
       "      <td>Low</td>\n",
       "      <td>High</td>\n",
       "    </tr>\n",
       "    <tr>\n",
       "      <th>243</th>\n",
       "      <td>66</td>\n",
       "      <td>Male</td>\n",
       "      <td>North</td>\n",
       "      <td>less</td>\n",
       "      <td>6.0</td>\n",
       "      <td>Low</td>\n",
       "      <td>Low</td>\n",
       "    </tr>\n",
       "    <tr>\n",
       "      <th>244</th>\n",
       "      <td>67</td>\n",
       "      <td>Male</td>\n",
       "      <td>North</td>\n",
       "      <td>high</td>\n",
       "      <td>9.5</td>\n",
       "      <td>High</td>\n",
       "      <td>High</td>\n",
       "    </tr>\n",
       "    <tr>\n",
       "      <th>245</th>\n",
       "      <td>67</td>\n",
       "      <td>Male</td>\n",
       "      <td>North</td>\n",
       "      <td>high</td>\n",
       "      <td>4.5</td>\n",
       "      <td>High</td>\n",
       "      <td>Low</td>\n",
       "    </tr>\n",
       "    <tr>\n",
       "      <th>246</th>\n",
       "      <td>67</td>\n",
       "      <td>Male</td>\n",
       "      <td>North</td>\n",
       "      <td>high</td>\n",
       "      <td>8.0</td>\n",
       "      <td>Low</td>\n",
       "      <td>High</td>\n",
       "    </tr>\n",
       "    <tr>\n",
       "      <th>247</th>\n",
       "      <td>67</td>\n",
       "      <td>Male</td>\n",
       "      <td>North</td>\n",
       "      <td>high</td>\n",
       "      <td>5.5</td>\n",
       "      <td>Low</td>\n",
       "      <td>Low</td>\n",
       "    </tr>\n",
       "    <tr>\n",
       "      <th>248</th>\n",
       "      <td>68</td>\n",
       "      <td>Male</td>\n",
       "      <td>North</td>\n",
       "      <td>high</td>\n",
       "      <td>7.0</td>\n",
       "      <td>High</td>\n",
       "      <td>High</td>\n",
       "    </tr>\n",
       "    <tr>\n",
       "      <th>249</th>\n",
       "      <td>68</td>\n",
       "      <td>Male</td>\n",
       "      <td>North</td>\n",
       "      <td>high</td>\n",
       "      <td>10.0</td>\n",
       "      <td>High</td>\n",
       "      <td>Low</td>\n",
       "    </tr>\n",
       "    <tr>\n",
       "      <th>250</th>\n",
       "      <td>68</td>\n",
       "      <td>Male</td>\n",
       "      <td>North</td>\n",
       "      <td>high</td>\n",
       "      <td>8.0</td>\n",
       "      <td>Low</td>\n",
       "      <td>High</td>\n",
       "    </tr>\n",
       "    <tr>\n",
       "      <th>251</th>\n",
       "      <td>68</td>\n",
       "      <td>Male</td>\n",
       "      <td>North</td>\n",
       "      <td>high</td>\n",
       "      <td>3.0</td>\n",
       "      <td>Low</td>\n",
       "      <td>Low</td>\n",
       "    </tr>\n",
       "    <tr>\n",
       "      <th>252</th>\n",
       "      <td>69</td>\n",
       "      <td>Male</td>\n",
       "      <td>North</td>\n",
       "      <td>college</td>\n",
       "      <td>6.0</td>\n",
       "      <td>High</td>\n",
       "      <td>High</td>\n",
       "    </tr>\n",
       "    <tr>\n",
       "      <th>253</th>\n",
       "      <td>69</td>\n",
       "      <td>Male</td>\n",
       "      <td>North</td>\n",
       "      <td>college</td>\n",
       "      <td>4.0</td>\n",
       "      <td>High</td>\n",
       "      <td>Low</td>\n",
       "    </tr>\n",
       "    <tr>\n",
       "      <th>254</th>\n",
       "      <td>69</td>\n",
       "      <td>Male</td>\n",
       "      <td>North</td>\n",
       "      <td>college</td>\n",
       "      <td>8.5</td>\n",
       "      <td>Low</td>\n",
       "      <td>High</td>\n",
       "    </tr>\n",
       "    <tr>\n",
       "      <th>255</th>\n",
       "      <td>69</td>\n",
       "      <td>Male</td>\n",
       "      <td>North</td>\n",
       "      <td>college</td>\n",
       "      <td>2.0</td>\n",
       "      <td>Low</td>\n",
       "      <td>Low</td>\n",
       "    </tr>\n",
       "    <tr>\n",
       "      <th>256</th>\n",
       "      <td>70</td>\n",
       "      <td>Female</td>\n",
       "      <td>North</td>\n",
       "      <td>less</td>\n",
       "      <td>10.0</td>\n",
       "      <td>High</td>\n",
       "      <td>High</td>\n",
       "    </tr>\n",
       "    <tr>\n",
       "      <th>257</th>\n",
       "      <td>70</td>\n",
       "      <td>Female</td>\n",
       "      <td>North</td>\n",
       "      <td>less</td>\n",
       "      <td>2.5</td>\n",
       "      <td>High</td>\n",
       "      <td>Low</td>\n",
       "    </tr>\n",
       "    <tr>\n",
       "      <th>258</th>\n",
       "      <td>70</td>\n",
       "      <td>Female</td>\n",
       "      <td>North</td>\n",
       "      <td>less</td>\n",
       "      <td>9.0</td>\n",
       "      <td>Low</td>\n",
       "      <td>High</td>\n",
       "    </tr>\n",
       "    <tr>\n",
       "      <th>259</th>\n",
       "      <td>70</td>\n",
       "      <td>Female</td>\n",
       "      <td>North</td>\n",
       "      <td>less</td>\n",
       "      <td>4.0</td>\n",
       "      <td>Low</td>\n",
       "      <td>Low</td>\n",
       "    </tr>\n",
       "    <tr>\n",
       "      <th>260</th>\n",
       "      <td>71</td>\n",
       "      <td>Female</td>\n",
       "      <td>North</td>\n",
       "      <td>less</td>\n",
       "      <td>10.0</td>\n",
       "      <td>High</td>\n",
       "      <td>High</td>\n",
       "    </tr>\n",
       "    <tr>\n",
       "      <th>261</th>\n",
       "      <td>71</td>\n",
       "      <td>Female</td>\n",
       "      <td>North</td>\n",
       "      <td>less</td>\n",
       "      <td>8.5</td>\n",
       "      <td>High</td>\n",
       "      <td>Low</td>\n",
       "    </tr>\n",
       "    <tr>\n",
       "      <th>262</th>\n",
       "      <td>71</td>\n",
       "      <td>Female</td>\n",
       "      <td>North</td>\n",
       "      <td>less</td>\n",
       "      <td>10.0</td>\n",
       "      <td>Low</td>\n",
       "      <td>High</td>\n",
       "    </tr>\n",
       "    <tr>\n",
       "      <th>263</th>\n",
       "      <td>71</td>\n",
       "      <td>Female</td>\n",
       "      <td>North</td>\n",
       "      <td>less</td>\n",
       "      <td>9.0</td>\n",
       "      <td>Low</td>\n",
       "      <td>Low</td>\n",
       "    </tr>\n",
       "    <tr>\n",
       "      <th>264</th>\n",
       "      <td>72</td>\n",
       "      <td>Female</td>\n",
       "      <td>North</td>\n",
       "      <td>some</td>\n",
       "      <td>10.0</td>\n",
       "      <td>High</td>\n",
       "      <td>High</td>\n",
       "    </tr>\n",
       "    <tr>\n",
       "      <th>265</th>\n",
       "      <td>72</td>\n",
       "      <td>Female</td>\n",
       "      <td>North</td>\n",
       "      <td>some</td>\n",
       "      <td>10.0</td>\n",
       "      <td>High</td>\n",
       "      <td>Low</td>\n",
       "    </tr>\n",
       "    <tr>\n",
       "      <th>266</th>\n",
       "      <td>72</td>\n",
       "      <td>Female</td>\n",
       "      <td>North</td>\n",
       "      <td>some</td>\n",
       "      <td>10.0</td>\n",
       "      <td>Low</td>\n",
       "      <td>High</td>\n",
       "    </tr>\n",
       "    <tr>\n",
       "      <th>267</th>\n",
       "      <td>72</td>\n",
       "      <td>Female</td>\n",
       "      <td>North</td>\n",
       "      <td>some</td>\n",
       "      <td>10.0</td>\n",
       "      <td>Low</td>\n",
       "      <td>Low</td>\n",
       "    </tr>\n",
       "    <tr>\n",
       "      <th>268</th>\n",
       "      <td>73</td>\n",
       "      <td>Female</td>\n",
       "      <td>North</td>\n",
       "      <td>some</td>\n",
       "      <td>5.5</td>\n",
       "      <td>High</td>\n",
       "      <td>High</td>\n",
       "    </tr>\n",
       "    <tr>\n",
       "      <th>269</th>\n",
       "      <td>73</td>\n",
       "      <td>Female</td>\n",
       "      <td>North</td>\n",
       "      <td>some</td>\n",
       "      <td>1.0</td>\n",
       "      <td>High</td>\n",
       "      <td>Low</td>\n",
       "    </tr>\n",
       "    <tr>\n",
       "      <th>270</th>\n",
       "      <td>73</td>\n",
       "      <td>Female</td>\n",
       "      <td>North</td>\n",
       "      <td>some</td>\n",
       "      <td>6.0</td>\n",
       "      <td>Low</td>\n",
       "      <td>High</td>\n",
       "    </tr>\n",
       "    <tr>\n",
       "      <th>271</th>\n",
       "      <td>73</td>\n",
       "      <td>Female</td>\n",
       "      <td>North</td>\n",
       "      <td>some</td>\n",
       "      <td>5.5</td>\n",
       "      <td>Low</td>\n",
       "      <td>Low</td>\n",
       "    </tr>\n",
       "    <tr>\n",
       "      <th>272</th>\n",
       "      <td>74</td>\n",
       "      <td>Male</td>\n",
       "      <td>North</td>\n",
       "      <td>less</td>\n",
       "      <td>9.0</td>\n",
       "      <td>High</td>\n",
       "      <td>High</td>\n",
       "    </tr>\n",
       "    <tr>\n",
       "      <th>273</th>\n",
       "      <td>74</td>\n",
       "      <td>Male</td>\n",
       "      <td>North</td>\n",
       "      <td>less</td>\n",
       "      <td>8.5</td>\n",
       "      <td>High</td>\n",
       "      <td>Low</td>\n",
       "    </tr>\n",
       "    <tr>\n",
       "      <th>274</th>\n",
       "      <td>74</td>\n",
       "      <td>Male</td>\n",
       "      <td>North</td>\n",
       "      <td>less</td>\n",
       "      <td>8.5</td>\n",
       "      <td>Low</td>\n",
       "      <td>High</td>\n",
       "    </tr>\n",
       "    <tr>\n",
       "      <th>275</th>\n",
       "      <td>74</td>\n",
       "      <td>Male</td>\n",
       "      <td>North</td>\n",
       "      <td>less</td>\n",
       "      <td>6.0</td>\n",
       "      <td>Low</td>\n",
       "      <td>Low</td>\n",
       "    </tr>\n",
       "    <tr>\n",
       "      <th>276</th>\n",
       "      <td>76</td>\n",
       "      <td>Female</td>\n",
       "      <td>North</td>\n",
       "      <td>some</td>\n",
       "      <td>9.0</td>\n",
       "      <td>High</td>\n",
       "      <td>High</td>\n",
       "    </tr>\n",
       "    <tr>\n",
       "      <th>277</th>\n",
       "      <td>76</td>\n",
       "      <td>Female</td>\n",
       "      <td>North</td>\n",
       "      <td>some</td>\n",
       "      <td>9.0</td>\n",
       "      <td>High</td>\n",
       "      <td>Low</td>\n",
       "    </tr>\n",
       "    <tr>\n",
       "      <th>278</th>\n",
       "      <td>76</td>\n",
       "      <td>Female</td>\n",
       "      <td>North</td>\n",
       "      <td>some</td>\n",
       "      <td>9.0</td>\n",
       "      <td>Low</td>\n",
       "      <td>High</td>\n",
       "    </tr>\n",
       "    <tr>\n",
       "      <th>279</th>\n",
       "      <td>76</td>\n",
       "      <td>Female</td>\n",
       "      <td>North</td>\n",
       "      <td>some</td>\n",
       "      <td>9.0</td>\n",
       "      <td>Low</td>\n",
       "      <td>Low</td>\n",
       "    </tr>\n",
       "    <tr>\n",
       "      <th>280</th>\n",
       "      <td>77</td>\n",
       "      <td>Female</td>\n",
       "      <td>North</td>\n",
       "      <td>some</td>\n",
       "      <td>6.0</td>\n",
       "      <td>High</td>\n",
       "      <td>High</td>\n",
       "    </tr>\n",
       "    <tr>\n",
       "      <th>281</th>\n",
       "      <td>77</td>\n",
       "      <td>Female</td>\n",
       "      <td>North</td>\n",
       "      <td>some</td>\n",
       "      <td>7.5</td>\n",
       "      <td>High</td>\n",
       "      <td>Low</td>\n",
       "    </tr>\n",
       "    <tr>\n",
       "      <th>282</th>\n",
       "      <td>77</td>\n",
       "      <td>Female</td>\n",
       "      <td>North</td>\n",
       "      <td>some</td>\n",
       "      <td>6.0</td>\n",
       "      <td>Low</td>\n",
       "      <td>High</td>\n",
       "    </tr>\n",
       "    <tr>\n",
       "      <th>283</th>\n",
       "      <td>77</td>\n",
       "      <td>Female</td>\n",
       "      <td>North</td>\n",
       "      <td>some</td>\n",
       "      <td>6.0</td>\n",
       "      <td>Low</td>\n",
       "      <td>Low</td>\n",
       "    </tr>\n",
       "    <tr>\n",
       "      <th>284</th>\n",
       "      <td>78</td>\n",
       "      <td>Female</td>\n",
       "      <td>North</td>\n",
       "      <td>less</td>\n",
       "      <td>5.5</td>\n",
       "      <td>High</td>\n",
       "      <td>High</td>\n",
       "    </tr>\n",
       "    <tr>\n",
       "      <th>285</th>\n",
       "      <td>78</td>\n",
       "      <td>Female</td>\n",
       "      <td>North</td>\n",
       "      <td>less</td>\n",
       "      <td>0.5</td>\n",
       "      <td>High</td>\n",
       "      <td>Low</td>\n",
       "    </tr>\n",
       "    <tr>\n",
       "      <th>286</th>\n",
       "      <td>78</td>\n",
       "      <td>Female</td>\n",
       "      <td>North</td>\n",
       "      <td>less</td>\n",
       "      <td>6.5</td>\n",
       "      <td>Low</td>\n",
       "      <td>High</td>\n",
       "    </tr>\n",
       "    <tr>\n",
       "      <th>287</th>\n",
       "      <td>78</td>\n",
       "      <td>Female</td>\n",
       "      <td>North</td>\n",
       "      <td>less</td>\n",
       "      <td>5.0</td>\n",
       "      <td>Low</td>\n",
       "      <td>Low</td>\n",
       "    </tr>\n",
       "    <tr>\n",
       "      <th>288</th>\n",
       "      <td>79</td>\n",
       "      <td>Male</td>\n",
       "      <td>North</td>\n",
       "      <td>less</td>\n",
       "      <td>7.0</td>\n",
       "      <td>High</td>\n",
       "      <td>High</td>\n",
       "    </tr>\n",
       "    <tr>\n",
       "      <th>289</th>\n",
       "      <td>79</td>\n",
       "      <td>Male</td>\n",
       "      <td>North</td>\n",
       "      <td>less</td>\n",
       "      <td>9.0</td>\n",
       "      <td>High</td>\n",
       "      <td>Low</td>\n",
       "    </tr>\n",
       "    <tr>\n",
       "      <th>290</th>\n",
       "      <td>79</td>\n",
       "      <td>Male</td>\n",
       "      <td>North</td>\n",
       "      <td>less</td>\n",
       "      <td>8.0</td>\n",
       "      <td>Low</td>\n",
       "      <td>High</td>\n",
       "    </tr>\n",
       "    <tr>\n",
       "      <th>291</th>\n",
       "      <td>79</td>\n",
       "      <td>Male</td>\n",
       "      <td>North</td>\n",
       "      <td>less</td>\n",
       "      <td>6.0</td>\n",
       "      <td>Low</td>\n",
       "      <td>Low</td>\n",
       "    </tr>\n",
       "    <tr>\n",
       "      <th>292</th>\n",
       "      <td>80</td>\n",
       "      <td>Female</td>\n",
       "      <td>North</td>\n",
       "      <td>less</td>\n",
       "      <td>9.5</td>\n",
       "      <td>High</td>\n",
       "      <td>High</td>\n",
       "    </tr>\n",
       "    <tr>\n",
       "      <th>293</th>\n",
       "      <td>80</td>\n",
       "      <td>Female</td>\n",
       "      <td>North</td>\n",
       "      <td>less</td>\n",
       "      <td>9.0</td>\n",
       "      <td>High</td>\n",
       "      <td>Low</td>\n",
       "    </tr>\n",
       "    <tr>\n",
       "      <th>294</th>\n",
       "      <td>80</td>\n",
       "      <td>Female</td>\n",
       "      <td>North</td>\n",
       "      <td>less</td>\n",
       "      <td>NaN</td>\n",
       "      <td>Low</td>\n",
       "      <td>High</td>\n",
       "    </tr>\n",
       "    <tr>\n",
       "      <th>295</th>\n",
       "      <td>80</td>\n",
       "      <td>Female</td>\n",
       "      <td>North</td>\n",
       "      <td>less</td>\n",
       "      <td>1.5</td>\n",
       "      <td>Low</td>\n",
       "      <td>Low</td>\n",
       "    </tr>\n",
       "    <tr>\n",
       "      <th>296</th>\n",
       "      <td>81</td>\n",
       "      <td>Male</td>\n",
       "      <td>North</td>\n",
       "      <td>high</td>\n",
       "      <td>5.5</td>\n",
       "      <td>High</td>\n",
       "      <td>High</td>\n",
       "    </tr>\n",
       "    <tr>\n",
       "      <th>297</th>\n",
       "      <td>81</td>\n",
       "      <td>Male</td>\n",
       "      <td>North</td>\n",
       "      <td>high</td>\n",
       "      <td>10.0</td>\n",
       "      <td>High</td>\n",
       "      <td>Low</td>\n",
       "    </tr>\n",
       "    <tr>\n",
       "      <th>298</th>\n",
       "      <td>81</td>\n",
       "      <td>Male</td>\n",
       "      <td>North</td>\n",
       "      <td>high</td>\n",
       "      <td>4.0</td>\n",
       "      <td>Low</td>\n",
       "      <td>High</td>\n",
       "    </tr>\n",
       "    <tr>\n",
       "      <th>299</th>\n",
       "      <td>81</td>\n",
       "      <td>Male</td>\n",
       "      <td>North</td>\n",
       "      <td>high</td>\n",
       "      <td>5.5</td>\n",
       "      <td>Low</td>\n",
       "      <td>Low</td>\n",
       "    </tr>\n",
       "    <tr>\n",
       "      <th>300</th>\n",
       "      <td>82</td>\n",
       "      <td>Female</td>\n",
       "      <td>North</td>\n",
       "      <td>high</td>\n",
       "      <td>8.5</td>\n",
       "      <td>High</td>\n",
       "      <td>High</td>\n",
       "    </tr>\n",
       "    <tr>\n",
       "      <th>301</th>\n",
       "      <td>82</td>\n",
       "      <td>Female</td>\n",
       "      <td>North</td>\n",
       "      <td>high</td>\n",
       "      <td>9.5</td>\n",
       "      <td>High</td>\n",
       "      <td>Low</td>\n",
       "    </tr>\n",
       "    <tr>\n",
       "      <th>302</th>\n",
       "      <td>82</td>\n",
       "      <td>Female</td>\n",
       "      <td>North</td>\n",
       "      <td>high</td>\n",
       "      <td>9.5</td>\n",
       "      <td>Low</td>\n",
       "      <td>High</td>\n",
       "    </tr>\n",
       "    <tr>\n",
       "      <th>303</th>\n",
       "      <td>82</td>\n",
       "      <td>Female</td>\n",
       "      <td>North</td>\n",
       "      <td>high</td>\n",
       "      <td>9.5</td>\n",
       "      <td>Low</td>\n",
       "      <td>Low</td>\n",
       "    </tr>\n",
       "    <tr>\n",
       "      <th>304</th>\n",
       "      <td>83</td>\n",
       "      <td>Female</td>\n",
       "      <td>North</td>\n",
       "      <td>high</td>\n",
       "      <td>10.0</td>\n",
       "      <td>High</td>\n",
       "      <td>High</td>\n",
       "    </tr>\n",
       "    <tr>\n",
       "      <th>305</th>\n",
       "      <td>83</td>\n",
       "      <td>Female</td>\n",
       "      <td>North</td>\n",
       "      <td>high</td>\n",
       "      <td>8.5</td>\n",
       "      <td>High</td>\n",
       "      <td>Low</td>\n",
       "    </tr>\n",
       "    <tr>\n",
       "      <th>306</th>\n",
       "      <td>83</td>\n",
       "      <td>Female</td>\n",
       "      <td>North</td>\n",
       "      <td>high</td>\n",
       "      <td>8.0</td>\n",
       "      <td>Low</td>\n",
       "      <td>High</td>\n",
       "    </tr>\n",
       "    <tr>\n",
       "      <th>307</th>\n",
       "      <td>83</td>\n",
       "      <td>Female</td>\n",
       "      <td>North</td>\n",
       "      <td>high</td>\n",
       "      <td>8.0</td>\n",
       "      <td>Low</td>\n",
       "      <td>Low</td>\n",
       "    </tr>\n",
       "    <tr>\n",
       "      <th>308</th>\n",
       "      <td>84</td>\n",
       "      <td>Female</td>\n",
       "      <td>North</td>\n",
       "      <td>some</td>\n",
       "      <td>5.0</td>\n",
       "      <td>High</td>\n",
       "      <td>High</td>\n",
       "    </tr>\n",
       "    <tr>\n",
       "      <th>309</th>\n",
       "      <td>84</td>\n",
       "      <td>Female</td>\n",
       "      <td>North</td>\n",
       "      <td>some</td>\n",
       "      <td>0.0</td>\n",
       "      <td>High</td>\n",
       "      <td>Low</td>\n",
       "    </tr>\n",
       "    <tr>\n",
       "      <th>310</th>\n",
       "      <td>84</td>\n",
       "      <td>Female</td>\n",
       "      <td>North</td>\n",
       "      <td>some</td>\n",
       "      <td>5.0</td>\n",
       "      <td>Low</td>\n",
       "      <td>High</td>\n",
       "    </tr>\n",
       "    <tr>\n",
       "      <th>311</th>\n",
       "      <td>84</td>\n",
       "      <td>Female</td>\n",
       "      <td>North</td>\n",
       "      <td>some</td>\n",
       "      <td>0.0</td>\n",
       "      <td>Low</td>\n",
       "      <td>Low</td>\n",
       "    </tr>\n",
       "    <tr>\n",
       "      <th>312</th>\n",
       "      <td>85</td>\n",
       "      <td>Female</td>\n",
       "      <td>North</td>\n",
       "      <td>high</td>\n",
       "      <td>7.0</td>\n",
       "      <td>High</td>\n",
       "      <td>High</td>\n",
       "    </tr>\n",
       "    <tr>\n",
       "      <th>313</th>\n",
       "      <td>85</td>\n",
       "      <td>Female</td>\n",
       "      <td>North</td>\n",
       "      <td>high</td>\n",
       "      <td>0.5</td>\n",
       "      <td>High</td>\n",
       "      <td>Low</td>\n",
       "    </tr>\n",
       "    <tr>\n",
       "      <th>314</th>\n",
       "      <td>85</td>\n",
       "      <td>Female</td>\n",
       "      <td>North</td>\n",
       "      <td>high</td>\n",
       "      <td>3.0</td>\n",
       "      <td>Low</td>\n",
       "      <td>High</td>\n",
       "    </tr>\n",
       "    <tr>\n",
       "      <th>315</th>\n",
       "      <td>85</td>\n",
       "      <td>Female</td>\n",
       "      <td>North</td>\n",
       "      <td>high</td>\n",
       "      <td>3.0</td>\n",
       "      <td>Low</td>\n",
       "      <td>Low</td>\n",
       "    </tr>\n",
       "    <tr>\n",
       "      <th>316</th>\n",
       "      <td>86</td>\n",
       "      <td>Male</td>\n",
       "      <td>North</td>\n",
       "      <td>less</td>\n",
       "      <td>7.5</td>\n",
       "      <td>High</td>\n",
       "      <td>High</td>\n",
       "    </tr>\n",
       "    <tr>\n",
       "      <th>317</th>\n",
       "      <td>86</td>\n",
       "      <td>Male</td>\n",
       "      <td>North</td>\n",
       "      <td>less</td>\n",
       "      <td>8.5</td>\n",
       "      <td>High</td>\n",
       "      <td>Low</td>\n",
       "    </tr>\n",
       "    <tr>\n",
       "      <th>318</th>\n",
       "      <td>86</td>\n",
       "      <td>Male</td>\n",
       "      <td>North</td>\n",
       "      <td>less</td>\n",
       "      <td>7.0</td>\n",
       "      <td>Low</td>\n",
       "      <td>High</td>\n",
       "    </tr>\n",
       "    <tr>\n",
       "      <th>319</th>\n",
       "      <td>86</td>\n",
       "      <td>Male</td>\n",
       "      <td>North</td>\n",
       "      <td>less</td>\n",
       "      <td>7.0</td>\n",
       "      <td>Low</td>\n",
       "      <td>Low</td>\n",
       "    </tr>\n",
       "    <tr>\n",
       "      <th>320</th>\n",
       "      <td>87</td>\n",
       "      <td>Female</td>\n",
       "      <td>North</td>\n",
       "      <td>partial</td>\n",
       "      <td>5.5</td>\n",
       "      <td>High</td>\n",
       "      <td>High</td>\n",
       "    </tr>\n",
       "    <tr>\n",
       "      <th>321</th>\n",
       "      <td>87</td>\n",
       "      <td>Female</td>\n",
       "      <td>North</td>\n",
       "      <td>partial</td>\n",
       "      <td>3.5</td>\n",
       "      <td>High</td>\n",
       "      <td>Low</td>\n",
       "    </tr>\n",
       "    <tr>\n",
       "      <th>322</th>\n",
       "      <td>87</td>\n",
       "      <td>Female</td>\n",
       "      <td>North</td>\n",
       "      <td>partial</td>\n",
       "      <td>4.0</td>\n",
       "      <td>Low</td>\n",
       "      <td>High</td>\n",
       "    </tr>\n",
       "    <tr>\n",
       "      <th>323</th>\n",
       "      <td>87</td>\n",
       "      <td>Female</td>\n",
       "      <td>North</td>\n",
       "      <td>partial</td>\n",
       "      <td>5.0</td>\n",
       "      <td>Low</td>\n",
       "      <td>Low</td>\n",
       "    </tr>\n",
       "    <tr>\n",
       "      <th>324</th>\n",
       "      <td>88</td>\n",
       "      <td>Female</td>\n",
       "      <td>North</td>\n",
       "      <td>high</td>\n",
       "      <td>10.0</td>\n",
       "      <td>High</td>\n",
       "      <td>High</td>\n",
       "    </tr>\n",
       "    <tr>\n",
       "      <th>325</th>\n",
       "      <td>88</td>\n",
       "      <td>Female</td>\n",
       "      <td>North</td>\n",
       "      <td>high</td>\n",
       "      <td>10.0</td>\n",
       "      <td>High</td>\n",
       "      <td>Low</td>\n",
       "    </tr>\n",
       "    <tr>\n",
       "      <th>326</th>\n",
       "      <td>88</td>\n",
       "      <td>Female</td>\n",
       "      <td>North</td>\n",
       "      <td>high</td>\n",
       "      <td>10.0</td>\n",
       "      <td>Low</td>\n",
       "      <td>High</td>\n",
       "    </tr>\n",
       "    <tr>\n",
       "      <th>327</th>\n",
       "      <td>88</td>\n",
       "      <td>Female</td>\n",
       "      <td>North</td>\n",
       "      <td>high</td>\n",
       "      <td>10.0</td>\n",
       "      <td>Low</td>\n",
       "      <td>Low</td>\n",
       "    </tr>\n",
       "    <tr>\n",
       "      <th>328</th>\n",
       "      <td>89</td>\n",
       "      <td>Male</td>\n",
       "      <td>North</td>\n",
       "      <td>less</td>\n",
       "      <td>10.0</td>\n",
       "      <td>High</td>\n",
       "      <td>High</td>\n",
       "    </tr>\n",
       "    <tr>\n",
       "      <th>329</th>\n",
       "      <td>89</td>\n",
       "      <td>Male</td>\n",
       "      <td>North</td>\n",
       "      <td>less</td>\n",
       "      <td>9.5</td>\n",
       "      <td>High</td>\n",
       "      <td>Low</td>\n",
       "    </tr>\n",
       "    <tr>\n",
       "      <th>330</th>\n",
       "      <td>89</td>\n",
       "      <td>Male</td>\n",
       "      <td>North</td>\n",
       "      <td>less</td>\n",
       "      <td>8.0</td>\n",
       "      <td>Low</td>\n",
       "      <td>High</td>\n",
       "    </tr>\n",
       "    <tr>\n",
       "      <th>331</th>\n",
       "      <td>89</td>\n",
       "      <td>Male</td>\n",
       "      <td>North</td>\n",
       "      <td>less</td>\n",
       "      <td>7.5</td>\n",
       "      <td>Low</td>\n",
       "      <td>Low</td>\n",
       "    </tr>\n",
       "    <tr>\n",
       "      <th>332</th>\n",
       "      <td>90</td>\n",
       "      <td>Male</td>\n",
       "      <td>North</td>\n",
       "      <td>less</td>\n",
       "      <td>6.5</td>\n",
       "      <td>High</td>\n",
       "      <td>High</td>\n",
       "    </tr>\n",
       "    <tr>\n",
       "      <th>333</th>\n",
       "      <td>90</td>\n",
       "      <td>Male</td>\n",
       "      <td>North</td>\n",
       "      <td>less</td>\n",
       "      <td>4.5</td>\n",
       "      <td>High</td>\n",
       "      <td>Low</td>\n",
       "    </tr>\n",
       "    <tr>\n",
       "      <th>334</th>\n",
       "      <td>90</td>\n",
       "      <td>Male</td>\n",
       "      <td>North</td>\n",
       "      <td>less</td>\n",
       "      <td>8.0</td>\n",
       "      <td>Low</td>\n",
       "      <td>High</td>\n",
       "    </tr>\n",
       "    <tr>\n",
       "      <th>335</th>\n",
       "      <td>90</td>\n",
       "      <td>Male</td>\n",
       "      <td>North</td>\n",
       "      <td>less</td>\n",
       "      <td>6.0</td>\n",
       "      <td>Low</td>\n",
       "      <td>Low</td>\n",
       "    </tr>\n",
       "    <tr>\n",
       "      <th>336</th>\n",
       "      <td>91</td>\n",
       "      <td>Female</td>\n",
       "      <td>Other</td>\n",
       "      <td>some</td>\n",
       "      <td>8.0</td>\n",
       "      <td>High</td>\n",
       "      <td>High</td>\n",
       "    </tr>\n",
       "    <tr>\n",
       "      <th>337</th>\n",
       "      <td>91</td>\n",
       "      <td>Female</td>\n",
       "      <td>Other</td>\n",
       "      <td>some</td>\n",
       "      <td>8.5</td>\n",
       "      <td>High</td>\n",
       "      <td>Low</td>\n",
       "    </tr>\n",
       "    <tr>\n",
       "      <th>338</th>\n",
       "      <td>91</td>\n",
       "      <td>Female</td>\n",
       "      <td>Other</td>\n",
       "      <td>some</td>\n",
       "      <td>7.5</td>\n",
       "      <td>Low</td>\n",
       "      <td>High</td>\n",
       "    </tr>\n",
       "    <tr>\n",
       "      <th>339</th>\n",
       "      <td>91</td>\n",
       "      <td>Female</td>\n",
       "      <td>Other</td>\n",
       "      <td>some</td>\n",
       "      <td>7.0</td>\n",
       "      <td>Low</td>\n",
       "      <td>Low</td>\n",
       "    </tr>\n",
       "    <tr>\n",
       "      <th>340</th>\n",
       "      <td>92</td>\n",
       "      <td>Female</td>\n",
       "      <td>Europe</td>\n",
       "      <td>less</td>\n",
       "      <td>8.5</td>\n",
       "      <td>High</td>\n",
       "      <td>High</td>\n",
       "    </tr>\n",
       "    <tr>\n",
       "      <th>341</th>\n",
       "      <td>92</td>\n",
       "      <td>Female</td>\n",
       "      <td>Europe</td>\n",
       "      <td>less</td>\n",
       "      <td>4.0</td>\n",
       "      <td>High</td>\n",
       "      <td>Low</td>\n",
       "    </tr>\n",
       "    <tr>\n",
       "      <th>342</th>\n",
       "      <td>92</td>\n",
       "      <td>Female</td>\n",
       "      <td>Europe</td>\n",
       "      <td>less</td>\n",
       "      <td>9.5</td>\n",
       "      <td>Low</td>\n",
       "      <td>High</td>\n",
       "    </tr>\n",
       "    <tr>\n",
       "      <th>343</th>\n",
       "      <td>92</td>\n",
       "      <td>Female</td>\n",
       "      <td>Europe</td>\n",
       "      <td>less</td>\n",
       "      <td>6.5</td>\n",
       "      <td>Low</td>\n",
       "      <td>Low</td>\n",
       "    </tr>\n",
       "    <tr>\n",
       "      <th>344</th>\n",
       "      <td>93</td>\n",
       "      <td>Female</td>\n",
       "      <td>North</td>\n",
       "      <td>less</td>\n",
       "      <td>10.0</td>\n",
       "      <td>High</td>\n",
       "      <td>High</td>\n",
       "    </tr>\n",
       "    <tr>\n",
       "      <th>345</th>\n",
       "      <td>93</td>\n",
       "      <td>Female</td>\n",
       "      <td>North</td>\n",
       "      <td>less</td>\n",
       "      <td>10.0</td>\n",
       "      <td>High</td>\n",
       "      <td>Low</td>\n",
       "    </tr>\n",
       "    <tr>\n",
       "      <th>346</th>\n",
       "      <td>93</td>\n",
       "      <td>Female</td>\n",
       "      <td>North</td>\n",
       "      <td>less</td>\n",
       "      <td>10.0</td>\n",
       "      <td>Low</td>\n",
       "      <td>High</td>\n",
       "    </tr>\n",
       "    <tr>\n",
       "      <th>347</th>\n",
       "      <td>93</td>\n",
       "      <td>Female</td>\n",
       "      <td>North</td>\n",
       "      <td>less</td>\n",
       "      <td>6.5</td>\n",
       "      <td>Low</td>\n",
       "      <td>Low</td>\n",
       "    </tr>\n",
       "    <tr>\n",
       "      <th>348</th>\n",
       "      <td>95</td>\n",
       "      <td>Female</td>\n",
       "      <td>North</td>\n",
       "      <td>less</td>\n",
       "      <td>2.0</td>\n",
       "      <td>High</td>\n",
       "      <td>High</td>\n",
       "    </tr>\n",
       "    <tr>\n",
       "      <th>349</th>\n",
       "      <td>95</td>\n",
       "      <td>Female</td>\n",
       "      <td>North</td>\n",
       "      <td>less</td>\n",
       "      <td>2.0</td>\n",
       "      <td>High</td>\n",
       "      <td>Low</td>\n",
       "    </tr>\n",
       "    <tr>\n",
       "      <th>350</th>\n",
       "      <td>95</td>\n",
       "      <td>Female</td>\n",
       "      <td>North</td>\n",
       "      <td>less</td>\n",
       "      <td>4.0</td>\n",
       "      <td>Low</td>\n",
       "      <td>High</td>\n",
       "    </tr>\n",
       "    <tr>\n",
       "      <th>351</th>\n",
       "      <td>95</td>\n",
       "      <td>Female</td>\n",
       "      <td>North</td>\n",
       "      <td>less</td>\n",
       "      <td>3.0</td>\n",
       "      <td>Low</td>\n",
       "      <td>Low</td>\n",
       "    </tr>\n",
       "    <tr>\n",
       "      <th>352</th>\n",
       "      <td>96</td>\n",
       "      <td>Male</td>\n",
       "      <td>North</td>\n",
       "      <td>high</td>\n",
       "      <td>10.0</td>\n",
       "      <td>High</td>\n",
       "      <td>High</td>\n",
       "    </tr>\n",
       "    <tr>\n",
       "      <th>353</th>\n",
       "      <td>96</td>\n",
       "      <td>Male</td>\n",
       "      <td>North</td>\n",
       "      <td>high</td>\n",
       "      <td>10.0</td>\n",
       "      <td>High</td>\n",
       "      <td>Low</td>\n",
       "    </tr>\n",
       "    <tr>\n",
       "      <th>354</th>\n",
       "      <td>96</td>\n",
       "      <td>Male</td>\n",
       "      <td>North</td>\n",
       "      <td>high</td>\n",
       "      <td>10.0</td>\n",
       "      <td>Low</td>\n",
       "      <td>High</td>\n",
       "    </tr>\n",
       "    <tr>\n",
       "      <th>355</th>\n",
       "      <td>96</td>\n",
       "      <td>Male</td>\n",
       "      <td>North</td>\n",
       "      <td>high</td>\n",
       "      <td>10.0</td>\n",
       "      <td>Low</td>\n",
       "      <td>Low</td>\n",
       "    </tr>\n",
       "    <tr>\n",
       "      <th>356</th>\n",
       "      <td>97</td>\n",
       "      <td>Female</td>\n",
       "      <td>North</td>\n",
       "      <td>NaN</td>\n",
       "      <td>10.0</td>\n",
       "      <td>High</td>\n",
       "      <td>High</td>\n",
       "    </tr>\n",
       "    <tr>\n",
       "      <th>357</th>\n",
       "      <td>97</td>\n",
       "      <td>Female</td>\n",
       "      <td>North</td>\n",
       "      <td>NaN</td>\n",
       "      <td>8.5</td>\n",
       "      <td>High</td>\n",
       "      <td>Low</td>\n",
       "    </tr>\n",
       "    <tr>\n",
       "      <th>358</th>\n",
       "      <td>97</td>\n",
       "      <td>Female</td>\n",
       "      <td>North</td>\n",
       "      <td>NaN</td>\n",
       "      <td>10.0</td>\n",
       "      <td>Low</td>\n",
       "      <td>High</td>\n",
       "    </tr>\n",
       "    <tr>\n",
       "      <th>359</th>\n",
       "      <td>97</td>\n",
       "      <td>Female</td>\n",
       "      <td>North</td>\n",
       "      <td>NaN</td>\n",
       "      <td>8.5</td>\n",
       "      <td>Low</td>\n",
       "      <td>Low</td>\n",
       "    </tr>\n",
       "    <tr>\n",
       "      <th>360</th>\n",
       "      <td>98</td>\n",
       "      <td>Female</td>\n",
       "      <td>North</td>\n",
       "      <td>some</td>\n",
       "      <td>10.0</td>\n",
       "      <td>High</td>\n",
       "      <td>High</td>\n",
       "    </tr>\n",
       "    <tr>\n",
       "      <th>361</th>\n",
       "      <td>98</td>\n",
       "      <td>Female</td>\n",
       "      <td>North</td>\n",
       "      <td>some</td>\n",
       "      <td>8.5</td>\n",
       "      <td>High</td>\n",
       "      <td>Low</td>\n",
       "    </tr>\n",
       "    <tr>\n",
       "      <th>362</th>\n",
       "      <td>98</td>\n",
       "      <td>Female</td>\n",
       "      <td>North</td>\n",
       "      <td>some</td>\n",
       "      <td>10.0</td>\n",
       "      <td>Low</td>\n",
       "      <td>High</td>\n",
       "    </tr>\n",
       "    <tr>\n",
       "      <th>363</th>\n",
       "      <td>98</td>\n",
       "      <td>Female</td>\n",
       "      <td>North</td>\n",
       "      <td>some</td>\n",
       "      <td>1.5</td>\n",
       "      <td>Low</td>\n",
       "      <td>Low</td>\n",
       "    </tr>\n",
       "    <tr>\n",
       "      <th>364</th>\n",
       "      <td>99</td>\n",
       "      <td>Female</td>\n",
       "      <td>North</td>\n",
       "      <td>some</td>\n",
       "      <td>10.0</td>\n",
       "      <td>High</td>\n",
       "      <td>High</td>\n",
       "    </tr>\n",
       "    <tr>\n",
       "      <th>365</th>\n",
       "      <td>99</td>\n",
       "      <td>Female</td>\n",
       "      <td>North</td>\n",
       "      <td>some</td>\n",
       "      <td>10.0</td>\n",
       "      <td>High</td>\n",
       "      <td>Low</td>\n",
       "    </tr>\n",
       "    <tr>\n",
       "      <th>366</th>\n",
       "      <td>99</td>\n",
       "      <td>Female</td>\n",
       "      <td>North</td>\n",
       "      <td>some</td>\n",
       "      <td>10.0</td>\n",
       "      <td>Low</td>\n",
       "      <td>High</td>\n",
       "    </tr>\n",
       "    <tr>\n",
       "      <th>367</th>\n",
       "      <td>99</td>\n",
       "      <td>Female</td>\n",
       "      <td>North</td>\n",
       "      <td>some</td>\n",
       "      <td>9.0</td>\n",
       "      <td>Low</td>\n",
       "      <td>Low</td>\n",
       "    </tr>\n",
       "    <tr>\n",
       "      <th>368</th>\n",
       "      <td>100</td>\n",
       "      <td>Female</td>\n",
       "      <td>Europe</td>\n",
       "      <td>some</td>\n",
       "      <td>3.0</td>\n",
       "      <td>High</td>\n",
       "      <td>High</td>\n",
       "    </tr>\n",
       "    <tr>\n",
       "      <th>369</th>\n",
       "      <td>100</td>\n",
       "      <td>Female</td>\n",
       "      <td>Europe</td>\n",
       "      <td>some</td>\n",
       "      <td>2.0</td>\n",
       "      <td>High</td>\n",
       "      <td>Low</td>\n",
       "    </tr>\n",
       "    <tr>\n",
       "      <th>370</th>\n",
       "      <td>100</td>\n",
       "      <td>Female</td>\n",
       "      <td>Europe</td>\n",
       "      <td>some</td>\n",
       "      <td>5.5</td>\n",
       "      <td>Low</td>\n",
       "      <td>High</td>\n",
       "    </tr>\n",
       "    <tr>\n",
       "      <th>371</th>\n",
       "      <td>100</td>\n",
       "      <td>Female</td>\n",
       "      <td>Europe</td>\n",
       "      <td>some</td>\n",
       "      <td>5.5</td>\n",
       "      <td>Low</td>\n",
       "      <td>Low</td>\n",
       "    </tr>\n",
       "  </tbody>\n",
       "</table>\n",
       "</div>"
      ],
      "text/plain": [
       "     Subject  Gender   Region Education  DesireToKill Disgustingness  \\\n",
       "0          1  Female    North      some          10.0           High   \n",
       "1          1  Female    North      some           9.0           High   \n",
       "2          1  Female    North      some           6.0            Low   \n",
       "3          1  Female    North      some           6.0            Low   \n",
       "4          2  Female    North   advance          10.0           High   \n",
       "5          2  Female    North   advance          10.0           High   \n",
       "6          2  Female    North   advance           NaN            Low   \n",
       "7          2  Female    North   advance          10.0            Low   \n",
       "8          3  Female   Europe   college          10.0           High   \n",
       "9          3  Female   Europe   college          10.0           High   \n",
       "10         3  Female   Europe   college          10.0            Low   \n",
       "11         3  Female   Europe   college           5.0            Low   \n",
       "12         4  Female    North   college           9.0           High   \n",
       "13         4  Female    North   college           6.0           High   \n",
       "14         4  Female    North   college           9.0            Low   \n",
       "15         4  Female    North   college           6.0            Low   \n",
       "16         5  Female    North      some           8.5           High   \n",
       "17         5  Female    North      some           5.5           High   \n",
       "18         5  Female    North      some           6.5            Low   \n",
       "19         5  Female    North      some           3.0            Low   \n",
       "20         6  Female   Europe      some           3.0           High   \n",
       "21         6  Female   Europe      some           7.5           High   \n",
       "22         6  Female   Europe      some           0.5            Low   \n",
       "23         6  Female   Europe      some           2.0            Low   \n",
       "24         7  Female    North      some          10.0           High   \n",
       "25         7  Female    North      some          10.0           High   \n",
       "26         7  Female    North      some          10.0            Low   \n",
       "27         7  Female    North      some          10.0            Low   \n",
       "28         8  Female    North      high          10.0           High   \n",
       "29         8  Female    North      high           9.0           High   \n",
       "30         8  Female    North      high          10.0            Low   \n",
       "31         8  Female    North      high          10.0            Low   \n",
       "32         9  Female    North      high          10.0           High   \n",
       "33         9  Female    North      high           6.0           High   \n",
       "34         9  Female    North      high           9.5            Low   \n",
       "35         9  Female    North      high           9.5            Low   \n",
       "36        10  Female    Other      high           NaN           High   \n",
       "37        10  Female    Other      high           7.0           High   \n",
       "38        10  Female    Other      high          10.0            Low   \n",
       "39        10  Female    Other      high           8.5            Low   \n",
       "40        11    Male    North      some           0.0           High   \n",
       "41        11    Male    North      some           0.0           High   \n",
       "42        11    Male    North      some           2.5            Low   \n",
       "43        11    Male    North      some           0.0            Low   \n",
       "44        12    Male    North      some          10.0           High   \n",
       "45        12    Male    North      some           8.5           High   \n",
       "46        12    Male    North      some           7.5            Low   \n",
       "47        12    Male    North      some           9.5            Low   \n",
       "48        13  Female    North      less           8.5           High   \n",
       "49        13  Female    North      less           6.5           High   \n",
       "50        13  Female    North      less           8.5            Low   \n",
       "51        13  Female    North      less           7.0            Low   \n",
       "52        14  Female    North      some           8.5           High   \n",
       "53        14  Female    North      some           4.0           High   \n",
       "54        14  Female    North      some           8.0            Low   \n",
       "55        14  Female    North      some           3.0            Low   \n",
       "56        15    Male    North      some           7.0           High   \n",
       "57        15    Male    North      some           6.0           High   \n",
       "58        15    Male    North      some           5.0            Low   \n",
       "59        15    Male    North      some           4.0            Low   \n",
       "60        16    Male    North      high           9.0           High   \n",
       "61        16    Male    North      high           8.5           High   \n",
       "62        16    Male    North      high           8.5            Low   \n",
       "63        16    Male    North      high           7.0            Low   \n",
       "64        17    Male    North      some          10.0           High   \n",
       "65        17    Male    North      some          10.0           High   \n",
       "66        17    Male    North      some           6.0            Low   \n",
       "67        17    Male    North      some           2.0            Low   \n",
       "68        18  Female    North      high          10.0           High   \n",
       "69        18  Female    North      high           7.5           High   \n",
       "70        18  Female    North      high           6.0            Low   \n",
       "71        18  Female    North      high           7.5            Low   \n",
       "72        19  Female    North      some          10.0           High   \n",
       "73        19  Female    North      some          10.0           High   \n",
       "74        19  Female    North      some           6.0            Low   \n",
       "75        19  Female    North      some           6.5            Low   \n",
       "76        20  Female    North      some           9.5           High   \n",
       "77        20  Female    North      some           8.5           High   \n",
       "78        20  Female    North      some           9.0            Low   \n",
       "79        20  Female    North      some           7.0            Low   \n",
       "80        22  Female    North      some           9.5           High   \n",
       "81        22  Female    North      some           5.0           High   \n",
       "82        22  Female    North      some           4.5            Low   \n",
       "83        22  Female    North      some           3.0            Low   \n",
       "84        23  Female  Austral      some           7.5           High   \n",
       "85        23  Female  Austral      some           4.5           High   \n",
       "86        23  Female  Austral      some           9.5            Low   \n",
       "87        23  Female  Austral      some           2.5            Low   \n",
       "88        24  Female    North      less          10.0           High   \n",
       "89        24  Female    North      less           9.0           High   \n",
       "90        24  Female    North      less          10.0            Low   \n",
       "91        24  Female    North      less          10.0            Low   \n",
       "92        25    Male   Europe      high           1.5           High   \n",
       "93        25    Male   Europe      high           4.0           High   \n",
       "94        25    Male   Europe      high           1.5            Low   \n",
       "95        25    Male   Europe      high           0.0            Low   \n",
       "96        26  Female   Europe      some           5.5           High   \n",
       "97        26  Female   Europe      some           4.5           High   \n",
       "98        26  Female   Europe      some           0.5            Low   \n",
       "99        26  Female   Europe      some           0.5            Low   \n",
       "100       27  Female    North      less          10.0           High   \n",
       "101       27  Female    North      less           3.5           High   \n",
       "102       27  Female    North      less           7.5            Low   \n",
       "103       27  Female    North      less           5.0            Low   \n",
       "104       29  Female    Other      some          10.0           High   \n",
       "105       29  Female    Other      some          10.0           High   \n",
       "106       29  Female    Other      some           5.0            Low   \n",
       "107       29  Female    Other      some           6.5            Low   \n",
       "108       30  Female    North      some           8.0           High   \n",
       "109       30  Female    North      some           8.0           High   \n",
       "110       30  Female    North      some           9.0            Low   \n",
       "111       30  Female    North      some           8.0            Low   \n",
       "112       31  Female    North      some           6.0           High   \n",
       "113       31  Female    North      some           7.5           High   \n",
       "114       31  Female    North      some          10.0            Low   \n",
       "115       31  Female    North      some           3.0            Low   \n",
       "116       32    Male   Europe      some          10.0           High   \n",
       "117       32    Male   Europe      some           6.5           High   \n",
       "118       32    Male   Europe      some           7.0            Low   \n",
       "119       32    Male   Europe      some           7.5            Low   \n",
       "120       33    Male    North      some           4.0           High   \n",
       "121       33    Male    North      some          10.0           High   \n",
       "122       33    Male    North      some          10.0            Low   \n",
       "123       33    Male    North      some           6.5            Low   \n",
       "124       34    Male   Europe   college           6.0           High   \n",
       "125       34    Male   Europe   college           8.5           High   \n",
       "126       34    Male   Europe   college           8.5            Low   \n",
       "127       34    Male   Europe   college           4.5            Low   \n",
       "128       35    Male    North      some           4.0           High   \n",
       "129       35    Male    North      some           8.0           High   \n",
       "130       35    Male    North      some           2.0            Low   \n",
       "131       35    Male    North      some           3.0            Low   \n",
       "132       36    Male    North      some           4.5           High   \n",
       "133       36    Male    North      some           2.0           High   \n",
       "134       36    Male    North      some          10.0            Low   \n",
       "135       36    Male    North      some           6.0            Low   \n",
       "136       37  Female    North      some          10.0           High   \n",
       "137       37  Female    North      some           7.0           High   \n",
       "138       37  Female    North      some          10.0            Low   \n",
       "139       37  Female    North      some           4.0            Low   \n",
       "140       38  Female    North      some          10.0           High   \n",
       "141       38  Female    North      some          10.0           High   \n",
       "142       38  Female    North      some           7.0            Low   \n",
       "143       38  Female    North      some           4.5            Low   \n",
       "144       39    Male    North      some           9.0           High   \n",
       "145       39    Male    North      some          10.0           High   \n",
       "146       39    Male    North      some           7.0            Low   \n",
       "147       39    Male    North      some           7.0            Low   \n",
       "148       40     NaN      NaN       NaN           9.5           High   \n",
       "149       40     NaN      NaN       NaN           8.0           High   \n",
       "150       40     NaN      NaN       NaN           8.5            Low   \n",
       "151       40     NaN      NaN       NaN           8.0            Low   \n",
       "152       41  Female    North      some           7.5           High   \n",
       "153       41  Female    North      some           7.5           High   \n",
       "154       41  Female    North      some           7.5            Low   \n",
       "155       41  Female    North      some           5.0            Low   \n",
       "156       42  Female    North      high           9.5           High   \n",
       "157       42  Female    North      high           NaN           High   \n",
       "158       42  Female    North      high           8.5            Low   \n",
       "159       42  Female    North      high           5.0            Low   \n",
       "160       43  Female    North      some           5.5           High   \n",
       "161       43  Female    North      some           0.0           High   \n",
       "162       43  Female    North      some           2.0            Low   \n",
       "163       43  Female    North      some           2.0            Low   \n",
       "164       45    Male    North   partial           8.0           High   \n",
       "165       45    Male    North   partial           6.5           High   \n",
       "166       45    Male    North   partial           7.0            Low   \n",
       "167       45    Male    North   partial           7.5            Low   \n",
       "168       46  Female    North      less          10.0           High   \n",
       "169       46  Female    North      less           1.0           High   \n",
       "170       46  Female    North      less           4.0            Low   \n",
       "171       46  Female    North      less           3.5            Low   \n",
       "172       47  Female    North   advance           2.5           High   \n",
       "173       47  Female    North   advance           0.5           High   \n",
       "174       47  Female    North   advance           7.5            Low   \n",
       "175       47  Female    North   advance           5.0            Low   \n",
       "176       48    Male    North      some           5.5           High   \n",
       "177       48    Male    North      some           9.5           High   \n",
       "178       48    Male    North      some           3.5            Low   \n",
       "179       48    Male    North      some           2.0            Low   \n",
       "180       49    Male    North      some           9.5           High   \n",
       "181       49    Male    North      some           1.5           High   \n",
       "182       49    Male    North      some           8.0            Low   \n",
       "183       49    Male    North      some           4.0            Low   \n",
       "184       50  Female    North      some           3.5           High   \n",
       "185       50  Female    North      some           4.5           High   \n",
       "186       50  Female    North      some           6.0            Low   \n",
       "187       50  Female    North      some           5.0            Low   \n",
       "188       51  Female    North      some           9.0           High   \n",
       "189       51  Female    North      some           8.0           High   \n",
       "190       51  Female    North      some           2.5            Low   \n",
       "191       51  Female    North      some           5.5            Low   \n",
       "192       52  Female    North      less          10.0           High   \n",
       "193       52  Female    North      less          10.0           High   \n",
       "194       52  Female    North      less          10.0            Low   \n",
       "195       52  Female    North      less          10.0            Low   \n",
       "196       53  Female    North      some           9.0           High   \n",
       "197       53  Female    North      some           4.0           High   \n",
       "198       53  Female    North      some           8.5            Low   \n",
       "199       53  Female    North      some           7.0            Low   \n",
       "200       54  Female    Other      some          10.0           High   \n",
       "201       54  Female    Other      some           6.0           High   \n",
       "202       54  Female    Other      some          10.0            Low   \n",
       "203       54  Female    Other      some           5.5            Low   \n",
       "204       56  Female    North      some          10.0           High   \n",
       "205       56  Female    North      some          10.0           High   \n",
       "206       56  Female    North      some          10.0            Low   \n",
       "207       56  Female    North      some          10.0            Low   \n",
       "208       57  Female    South      some          10.0           High   \n",
       "209       57  Female    South      some          10.0           High   \n",
       "210       57  Female    South      some          10.0            Low   \n",
       "211       57  Female    South      some           9.5            Low   \n",
       "212       58    Male    North      some           6.0           High   \n",
       "213       58    Male    North      some           7.5           High   \n",
       "214       58    Male    North      some           4.5            Low   \n",
       "215       58    Male    North      some           6.0            Low   \n",
       "216       59  Female    North      less           8.5           High   \n",
       "217       59  Female    North      less          10.0           High   \n",
       "218       59  Female    North      less           6.5            Low   \n",
       "219       59  Female    North      less           7.5            Low   \n",
       "220       60    Male    North      less           8.0           High   \n",
       "221       60    Male    North      less           8.0           High   \n",
       "222       60    Male    North      less           7.5            Low   \n",
       "223       60    Male    North      less           3.5            Low   \n",
       "224       61  Female    North   college           7.5           High   \n",
       "225       61  Female    North   college           5.0           High   \n",
       "226       61  Female    North   college           7.5            Low   \n",
       "227       61  Female    North   college           2.5            Low   \n",
       "228       62    Male    North      less           8.0           High   \n",
       "229       62    Male    North      less           3.5           High   \n",
       "230       62    Male    North      less           9.5            Low   \n",
       "231       62    Male    North      less           3.5            Low   \n",
       "232       64  Female   Europe      some           5.0           High   \n",
       "233       64  Female   Europe      some           NaN           High   \n",
       "234       64  Female   Europe      some           6.0            Low   \n",
       "235       64  Female   Europe      some           8.5            Low   \n",
       "236       65  Female    North      less           2.5           High   \n",
       "237       65  Female    North      less          10.0           High   \n",
       "238       65  Female    North      less           8.5            Low   \n",
       "239       65  Female    North      less           3.0            Low   \n",
       "240       66    Male    North      less           8.5           High   \n",
       "241       66    Male    North      less           3.0           High   \n",
       "242       66    Male    North      less          10.0            Low   \n",
       "243       66    Male    North      less           6.0            Low   \n",
       "244       67    Male    North      high           9.5           High   \n",
       "245       67    Male    North      high           4.5           High   \n",
       "246       67    Male    North      high           8.0            Low   \n",
       "247       67    Male    North      high           5.5            Low   \n",
       "248       68    Male    North      high           7.0           High   \n",
       "249       68    Male    North      high          10.0           High   \n",
       "250       68    Male    North      high           8.0            Low   \n",
       "251       68    Male    North      high           3.0            Low   \n",
       "252       69    Male    North   college           6.0           High   \n",
       "253       69    Male    North   college           4.0           High   \n",
       "254       69    Male    North   college           8.5            Low   \n",
       "255       69    Male    North   college           2.0            Low   \n",
       "256       70  Female    North      less          10.0           High   \n",
       "257       70  Female    North      less           2.5           High   \n",
       "258       70  Female    North      less           9.0            Low   \n",
       "259       70  Female    North      less           4.0            Low   \n",
       "260       71  Female    North      less          10.0           High   \n",
       "261       71  Female    North      less           8.5           High   \n",
       "262       71  Female    North      less          10.0            Low   \n",
       "263       71  Female    North      less           9.0            Low   \n",
       "264       72  Female    North      some          10.0           High   \n",
       "265       72  Female    North      some          10.0           High   \n",
       "266       72  Female    North      some          10.0            Low   \n",
       "267       72  Female    North      some          10.0            Low   \n",
       "268       73  Female    North      some           5.5           High   \n",
       "269       73  Female    North      some           1.0           High   \n",
       "270       73  Female    North      some           6.0            Low   \n",
       "271       73  Female    North      some           5.5            Low   \n",
       "272       74    Male    North      less           9.0           High   \n",
       "273       74    Male    North      less           8.5           High   \n",
       "274       74    Male    North      less           8.5            Low   \n",
       "275       74    Male    North      less           6.0            Low   \n",
       "276       76  Female    North      some           9.0           High   \n",
       "277       76  Female    North      some           9.0           High   \n",
       "278       76  Female    North      some           9.0            Low   \n",
       "279       76  Female    North      some           9.0            Low   \n",
       "280       77  Female    North      some           6.0           High   \n",
       "281       77  Female    North      some           7.5           High   \n",
       "282       77  Female    North      some           6.0            Low   \n",
       "283       77  Female    North      some           6.0            Low   \n",
       "284       78  Female    North      less           5.5           High   \n",
       "285       78  Female    North      less           0.5           High   \n",
       "286       78  Female    North      less           6.5            Low   \n",
       "287       78  Female    North      less           5.0            Low   \n",
       "288       79    Male    North      less           7.0           High   \n",
       "289       79    Male    North      less           9.0           High   \n",
       "290       79    Male    North      less           8.0            Low   \n",
       "291       79    Male    North      less           6.0            Low   \n",
       "292       80  Female    North      less           9.5           High   \n",
       "293       80  Female    North      less           9.0           High   \n",
       "294       80  Female    North      less           NaN            Low   \n",
       "295       80  Female    North      less           1.5            Low   \n",
       "296       81    Male    North      high           5.5           High   \n",
       "297       81    Male    North      high          10.0           High   \n",
       "298       81    Male    North      high           4.0            Low   \n",
       "299       81    Male    North      high           5.5            Low   \n",
       "300       82  Female    North      high           8.5           High   \n",
       "301       82  Female    North      high           9.5           High   \n",
       "302       82  Female    North      high           9.5            Low   \n",
       "303       82  Female    North      high           9.5            Low   \n",
       "304       83  Female    North      high          10.0           High   \n",
       "305       83  Female    North      high           8.5           High   \n",
       "306       83  Female    North      high           8.0            Low   \n",
       "307       83  Female    North      high           8.0            Low   \n",
       "308       84  Female    North      some           5.0           High   \n",
       "309       84  Female    North      some           0.0           High   \n",
       "310       84  Female    North      some           5.0            Low   \n",
       "311       84  Female    North      some           0.0            Low   \n",
       "312       85  Female    North      high           7.0           High   \n",
       "313       85  Female    North      high           0.5           High   \n",
       "314       85  Female    North      high           3.0            Low   \n",
       "315       85  Female    North      high           3.0            Low   \n",
       "316       86    Male    North      less           7.5           High   \n",
       "317       86    Male    North      less           8.5           High   \n",
       "318       86    Male    North      less           7.0            Low   \n",
       "319       86    Male    North      less           7.0            Low   \n",
       "320       87  Female    North   partial           5.5           High   \n",
       "321       87  Female    North   partial           3.5           High   \n",
       "322       87  Female    North   partial           4.0            Low   \n",
       "323       87  Female    North   partial           5.0            Low   \n",
       "324       88  Female    North      high          10.0           High   \n",
       "325       88  Female    North      high          10.0           High   \n",
       "326       88  Female    North      high          10.0            Low   \n",
       "327       88  Female    North      high          10.0            Low   \n",
       "328       89    Male    North      less          10.0           High   \n",
       "329       89    Male    North      less           9.5           High   \n",
       "330       89    Male    North      less           8.0            Low   \n",
       "331       89    Male    North      less           7.5            Low   \n",
       "332       90    Male    North      less           6.5           High   \n",
       "333       90    Male    North      less           4.5           High   \n",
       "334       90    Male    North      less           8.0            Low   \n",
       "335       90    Male    North      less           6.0            Low   \n",
       "336       91  Female    Other      some           8.0           High   \n",
       "337       91  Female    Other      some           8.5           High   \n",
       "338       91  Female    Other      some           7.5            Low   \n",
       "339       91  Female    Other      some           7.0            Low   \n",
       "340       92  Female   Europe      less           8.5           High   \n",
       "341       92  Female   Europe      less           4.0           High   \n",
       "342       92  Female   Europe      less           9.5            Low   \n",
       "343       92  Female   Europe      less           6.5            Low   \n",
       "344       93  Female    North      less          10.0           High   \n",
       "345       93  Female    North      less          10.0           High   \n",
       "346       93  Female    North      less          10.0            Low   \n",
       "347       93  Female    North      less           6.5            Low   \n",
       "348       95  Female    North      less           2.0           High   \n",
       "349       95  Female    North      less           2.0           High   \n",
       "350       95  Female    North      less           4.0            Low   \n",
       "351       95  Female    North      less           3.0            Low   \n",
       "352       96    Male    North      high          10.0           High   \n",
       "353       96    Male    North      high          10.0           High   \n",
       "354       96    Male    North      high          10.0            Low   \n",
       "355       96    Male    North      high          10.0            Low   \n",
       "356       97  Female    North       NaN          10.0           High   \n",
       "357       97  Female    North       NaN           8.5           High   \n",
       "358       97  Female    North       NaN          10.0            Low   \n",
       "359       97  Female    North       NaN           8.5            Low   \n",
       "360       98  Female    North      some          10.0           High   \n",
       "361       98  Female    North      some           8.5           High   \n",
       "362       98  Female    North      some          10.0            Low   \n",
       "363       98  Female    North      some           1.5            Low   \n",
       "364       99  Female    North      some          10.0           High   \n",
       "365       99  Female    North      some          10.0           High   \n",
       "366       99  Female    North      some          10.0            Low   \n",
       "367       99  Female    North      some           9.0            Low   \n",
       "368      100  Female   Europe      some           3.0           High   \n",
       "369      100  Female   Europe      some           2.0           High   \n",
       "370      100  Female   Europe      some           5.5            Low   \n",
       "371      100  Female   Europe      some           5.5            Low   \n",
       "\n",
       "    Frighteningness  \n",
       "0              High  \n",
       "1               Low  \n",
       "2              High  \n",
       "3               Low  \n",
       "4              High  \n",
       "5               Low  \n",
       "6              High  \n",
       "7               Low  \n",
       "8              High  \n",
       "9               Low  \n",
       "10             High  \n",
       "11              Low  \n",
       "12             High  \n",
       "13              Low  \n",
       "14             High  \n",
       "15              Low  \n",
       "16             High  \n",
       "17              Low  \n",
       "18             High  \n",
       "19              Low  \n",
       "20             High  \n",
       "21              Low  \n",
       "22             High  \n",
       "23              Low  \n",
       "24             High  \n",
       "25              Low  \n",
       "26             High  \n",
       "27              Low  \n",
       "28             High  \n",
       "29              Low  \n",
       "30             High  \n",
       "31              Low  \n",
       "32             High  \n",
       "33              Low  \n",
       "34             High  \n",
       "35              Low  \n",
       "36             High  \n",
       "37              Low  \n",
       "38             High  \n",
       "39              Low  \n",
       "40             High  \n",
       "41              Low  \n",
       "42             High  \n",
       "43              Low  \n",
       "44             High  \n",
       "45              Low  \n",
       "46             High  \n",
       "47              Low  \n",
       "48             High  \n",
       "49              Low  \n",
       "50             High  \n",
       "51              Low  \n",
       "52             High  \n",
       "53              Low  \n",
       "54             High  \n",
       "55              Low  \n",
       "56             High  \n",
       "57              Low  \n",
       "58             High  \n",
       "59              Low  \n",
       "60             High  \n",
       "61              Low  \n",
       "62             High  \n",
       "63              Low  \n",
       "64             High  \n",
       "65              Low  \n",
       "66             High  \n",
       "67              Low  \n",
       "68             High  \n",
       "69              Low  \n",
       "70             High  \n",
       "71              Low  \n",
       "72             High  \n",
       "73              Low  \n",
       "74             High  \n",
       "75              Low  \n",
       "76             High  \n",
       "77              Low  \n",
       "78             High  \n",
       "79              Low  \n",
       "80             High  \n",
       "81              Low  \n",
       "82             High  \n",
       "83              Low  \n",
       "84             High  \n",
       "85              Low  \n",
       "86             High  \n",
       "87              Low  \n",
       "88             High  \n",
       "89              Low  \n",
       "90             High  \n",
       "91              Low  \n",
       "92             High  \n",
       "93              Low  \n",
       "94             High  \n",
       "95              Low  \n",
       "96             High  \n",
       "97              Low  \n",
       "98             High  \n",
       "99              Low  \n",
       "100            High  \n",
       "101             Low  \n",
       "102            High  \n",
       "103             Low  \n",
       "104            High  \n",
       "105             Low  \n",
       "106            High  \n",
       "107             Low  \n",
       "108            High  \n",
       "109             Low  \n",
       "110            High  \n",
       "111             Low  \n",
       "112            High  \n",
       "113             Low  \n",
       "114            High  \n",
       "115             Low  \n",
       "116            High  \n",
       "117             Low  \n",
       "118            High  \n",
       "119             Low  \n",
       "120            High  \n",
       "121             Low  \n",
       "122            High  \n",
       "123             Low  \n",
       "124            High  \n",
       "125             Low  \n",
       "126            High  \n",
       "127             Low  \n",
       "128            High  \n",
       "129             Low  \n",
       "130            High  \n",
       "131             Low  \n",
       "132            High  \n",
       "133             Low  \n",
       "134            High  \n",
       "135             Low  \n",
       "136            High  \n",
       "137             Low  \n",
       "138            High  \n",
       "139             Low  \n",
       "140            High  \n",
       "141             Low  \n",
       "142            High  \n",
       "143             Low  \n",
       "144            High  \n",
       "145             Low  \n",
       "146            High  \n",
       "147             Low  \n",
       "148            High  \n",
       "149             Low  \n",
       "150            High  \n",
       "151             Low  \n",
       "152            High  \n",
       "153             Low  \n",
       "154            High  \n",
       "155             Low  \n",
       "156            High  \n",
       "157             Low  \n",
       "158            High  \n",
       "159             Low  \n",
       "160            High  \n",
       "161             Low  \n",
       "162            High  \n",
       "163             Low  \n",
       "164            High  \n",
       "165             Low  \n",
       "166            High  \n",
       "167             Low  \n",
       "168            High  \n",
       "169             Low  \n",
       "170            High  \n",
       "171             Low  \n",
       "172            High  \n",
       "173             Low  \n",
       "174            High  \n",
       "175             Low  \n",
       "176            High  \n",
       "177             Low  \n",
       "178            High  \n",
       "179             Low  \n",
       "180            High  \n",
       "181             Low  \n",
       "182            High  \n",
       "183             Low  \n",
       "184            High  \n",
       "185             Low  \n",
       "186            High  \n",
       "187             Low  \n",
       "188            High  \n",
       "189             Low  \n",
       "190            High  \n",
       "191             Low  \n",
       "192            High  \n",
       "193             Low  \n",
       "194            High  \n",
       "195             Low  \n",
       "196            High  \n",
       "197             Low  \n",
       "198            High  \n",
       "199             Low  \n",
       "200            High  \n",
       "201             Low  \n",
       "202            High  \n",
       "203             Low  \n",
       "204            High  \n",
       "205             Low  \n",
       "206            High  \n",
       "207             Low  \n",
       "208            High  \n",
       "209             Low  \n",
       "210            High  \n",
       "211             Low  \n",
       "212            High  \n",
       "213             Low  \n",
       "214            High  \n",
       "215             Low  \n",
       "216            High  \n",
       "217             Low  \n",
       "218            High  \n",
       "219             Low  \n",
       "220            High  \n",
       "221             Low  \n",
       "222            High  \n",
       "223             Low  \n",
       "224            High  \n",
       "225             Low  \n",
       "226            High  \n",
       "227             Low  \n",
       "228            High  \n",
       "229             Low  \n",
       "230            High  \n",
       "231             Low  \n",
       "232            High  \n",
       "233             Low  \n",
       "234            High  \n",
       "235             Low  \n",
       "236            High  \n",
       "237             Low  \n",
       "238            High  \n",
       "239             Low  \n",
       "240            High  \n",
       "241             Low  \n",
       "242            High  \n",
       "243             Low  \n",
       "244            High  \n",
       "245             Low  \n",
       "246            High  \n",
       "247             Low  \n",
       "248            High  \n",
       "249             Low  \n",
       "250            High  \n",
       "251             Low  \n",
       "252            High  \n",
       "253             Low  \n",
       "254            High  \n",
       "255             Low  \n",
       "256            High  \n",
       "257             Low  \n",
       "258            High  \n",
       "259             Low  \n",
       "260            High  \n",
       "261             Low  \n",
       "262            High  \n",
       "263             Low  \n",
       "264            High  \n",
       "265             Low  \n",
       "266            High  \n",
       "267             Low  \n",
       "268            High  \n",
       "269             Low  \n",
       "270            High  \n",
       "271             Low  \n",
       "272            High  \n",
       "273             Low  \n",
       "274            High  \n",
       "275             Low  \n",
       "276            High  \n",
       "277             Low  \n",
       "278            High  \n",
       "279             Low  \n",
       "280            High  \n",
       "281             Low  \n",
       "282            High  \n",
       "283             Low  \n",
       "284            High  \n",
       "285             Low  \n",
       "286            High  \n",
       "287             Low  \n",
       "288            High  \n",
       "289             Low  \n",
       "290            High  \n",
       "291             Low  \n",
       "292            High  \n",
       "293             Low  \n",
       "294            High  \n",
       "295             Low  \n",
       "296            High  \n",
       "297             Low  \n",
       "298            High  \n",
       "299             Low  \n",
       "300            High  \n",
       "301             Low  \n",
       "302            High  \n",
       "303             Low  \n",
       "304            High  \n",
       "305             Low  \n",
       "306            High  \n",
       "307             Low  \n",
       "308            High  \n",
       "309             Low  \n",
       "310            High  \n",
       "311             Low  \n",
       "312            High  \n",
       "313             Low  \n",
       "314            High  \n",
       "315             Low  \n",
       "316            High  \n",
       "317             Low  \n",
       "318            High  \n",
       "319             Low  \n",
       "320            High  \n",
       "321             Low  \n",
       "322            High  \n",
       "323             Low  \n",
       "324            High  \n",
       "325             Low  \n",
       "326            High  \n",
       "327             Low  \n",
       "328            High  \n",
       "329             Low  \n",
       "330            High  \n",
       "331             Low  \n",
       "332            High  \n",
       "333             Low  \n",
       "334            High  \n",
       "335             Low  \n",
       "336            High  \n",
       "337             Low  \n",
       "338            High  \n",
       "339             Low  \n",
       "340            High  \n",
       "341             Low  \n",
       "342            High  \n",
       "343             Low  \n",
       "344            High  \n",
       "345             Low  \n",
       "346            High  \n",
       "347             Low  \n",
       "348            High  \n",
       "349             Low  \n",
       "350            High  \n",
       "351             Low  \n",
       "352            High  \n",
       "353             Low  \n",
       "354            High  \n",
       "355             Low  \n",
       "356            High  \n",
       "357             Low  \n",
       "358            High  \n",
       "359             Low  \n",
       "360            High  \n",
       "361             Low  \n",
       "362            High  \n",
       "363             Low  \n",
       "364            High  \n",
       "365             Low  \n",
       "366            High  \n",
       "367             Low  \n",
       "368            High  \n",
       "369             Low  \n",
       "370            High  \n",
       "371             Low  "
      ]
     },
     "execution_count": 866,
     "metadata": {},
     "output_type": "execute_result"
    }
   ],
   "source": [
    "df = pg.read_dataset('rm_anova')\n",
    "df"
   ]
  },
  {
   "cell_type": "code",
   "execution_count": null,
   "id": "biological-fiber",
   "metadata": {},
   "outputs": [],
   "source": []
  }
 ],
 "metadata": {
  "kernelspec": {
   "display_name": "Python 3",
   "language": "python",
   "name": "python3"
  },
  "language_info": {
   "codemirror_mode": {
    "name": "ipython",
    "version": 3
   },
   "file_extension": ".py",
   "mimetype": "text/x-python",
   "name": "python",
   "nbconvert_exporter": "python",
   "pygments_lexer": "ipython3",
   "version": "3.7.9"
  }
 },
 "nbformat": 4,
 "nbformat_minor": 5
}
