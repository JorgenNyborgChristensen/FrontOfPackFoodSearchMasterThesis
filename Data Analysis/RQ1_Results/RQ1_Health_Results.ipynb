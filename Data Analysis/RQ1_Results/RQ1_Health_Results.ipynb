{
 "cells": [
  {
   "cell_type": "code",
   "execution_count": 2,
   "id": "copyrighted-poland",
   "metadata": {},
   "outputs": [],
   "source": [
    "import matplotlib.pyplot as plt\n",
    "import numpy as np\n",
    "import pandas as pd\n",
    "import seaborn as sns\n",
    "import warnings\n",
    "from pylab import rcParams\n",
    "from scipy import stats\n",
    "\n",
    "from scipy.stats import f_oneway\n",
    "from scipy.stats import ttest_ind\n",
    "import statsmodels.api as sm\n",
    "from statsmodels.formula.api import ols\n",
    "\n",
    "import pingouin as pg\n",
    "\n",
    "pd.set_option('display.max_columns', 1000)\n",
    "pd.set_option('display.max_rows', 1000)"
   ]
  },
  {
   "cell_type": "code",
   "execution_count": 3,
   "id": "desperate-laundry",
   "metadata": {},
   "outputs": [],
   "source": [
    "# Plots\n",
    "%matplotlib inline\n",
    "warnings.filterwarnings(\"ignore\")\n",
    "rcParams['figure.figsize'] = 20,10\n",
    "rcParams['font.size'] = 30\n",
    "sns.set()\n",
    "np.random.seed(8)"
   ]
  },
  {
   "cell_type": "markdown",
   "id": "historic-bishop",
   "metadata": {},
   "source": [
    "## Import processed data"
   ]
  },
  {
   "cell_type": "code",
   "execution_count": 29,
   "id": "genuine-concept",
   "metadata": {},
   "outputs": [],
   "source": [
    "# Selected recipes\n",
    "s1 = pd.read_csv(\"./Pro_1/selectedrecipes.csv\")\n",
    "s2 = pd.read_csv(\"./Pro_2/selectedrecipes.csv\")\n",
    "s3 = pd.read_csv(\"./Pro_3/selectedrecipes.csv\")\n",
    "\n",
    "# Create groups based on demographic questions\n",
    "demo1 = pd.read_csv(\"./Pro_1/demographics.csv\")\n",
    "demo2 = pd.read_csv(\"./Pro_2/demographics.csv\")\n",
    "demo3 = pd.read_csv(\"./Pro_3/demographics.csv\")\n",
    "md = pd.concat([demo1, demo2, demo3])\n",
    "\n",
    "# Recipes\n",
    "recipes = pd.read_csv(\"recipes_correct_fsa.csv\")\n",
    "\n",
    "# Add all data to one DF\n",
    "ms = pd.concat([s1, s2, s3])\n",
    "# Balance data (remove where user_id only selected 2 recipes)\n",
    "ms = ms[ms['user_id'].map(ms['user_id'].value_counts()) > 2]\n"
   ]
  },
  {
   "cell_type": "code",
   "execution_count": 30,
   "id": "conventional-documentary",
   "metadata": {},
   "outputs": [],
   "source": [
    "# End survey\n",
    "e1 = pd.read_csv(\"./Pro_1/endsurvey.csv\")\n",
    "e2 = pd.read_csv(\"./Pro_2/endsurvey.csv\")\n",
    "e3 = pd.read_csv(\"./Pro_3/endsurvey.csv\")\n",
    "\n",
    "# Clean label_q3 column\n",
    "e1['label_q3'] = e1['label_q3'].str.strip('[]').astype(str)\n",
    "e1['label_q3'] = e1['label_q3'].str.replace('\"', '')\n",
    "e1['label_q3'] = e1['label_q3'].astype(str)\n",
    "\n",
    "e2['label_q3'] = e2['label_q3'].str.strip('[]').astype(str)\n",
    "e2['label_q3'] = e2['label_q3'].str.replace('\"', '')\n",
    "e2['label_q3'] = e2['label_q3'].astype(str)\n",
    "\n",
    "e3['label_q3'] = e3['label_q3'].str.strip('[]').astype(str)\n",
    "e3['label_q3'] = e3['label_q3'].str.replace('\"', '')\n",
    "e3['label_q3'] = e3['label_q3'].astype(str)"
   ]
  },
  {
   "cell_type": "code",
   "execution_count": 6,
   "id": "rubber-alexandria",
   "metadata": {},
   "outputs": [],
   "source": [
    "# Calculate mean FSA score for each condition\n",
    "s1_fsa = s1[\"fsa_score\"].mean()\n",
    "s2_fsa = s2[\"fsa_score\"].mean()\n",
    "s3_fsa = s3[\"fsa_score\"].mean()\n",
    "s1_fsa = s1['fsa_score'].to_numpy()\n",
    "s2_fsa = s2['fsa_score'].to_numpy()\n",
    "s3_fsa = s3['fsa_score'].to_numpy()"
   ]
  },
  {
   "cell_type": "code",
   "execution_count": 31,
   "id": "north-progress",
   "metadata": {},
   "outputs": [],
   "source": [
    "# Get FSA score for different within-subjects variable EXCLUDE VEGANS\n",
    "no_veg_id = md['user_id'].loc[md['restrictions'] != \"vegan\"].values\n",
    "\n",
    "s1_no_veg = s1[s1['user_id'].isin(no_veg_id)]\n",
    "s2_no_veg = s2[s2['user_id'].isin(no_veg_id)]\n",
    "s3_no_veg = s3[s3['user_id'].isin(no_veg_id)]\n",
    "\n",
    "# Add all data to one DF\n",
    "ms_no_veg = pd.concat([s1_no_veg, s2_no_veg, s3_no_veg])\n",
    "df_no_veg = ms_no_veg[['user_id', 'fsa_score', 'variant', 'condition', 'who_score', 'nutri_score']]\n"
   ]
  },
  {
   "cell_type": "code",
   "execution_count": 42,
   "id": "regional-ticket",
   "metadata": {},
   "outputs": [
    {
     "data": {
      "text/plain": [
       "53"
      ]
     },
     "execution_count": 42,
     "metadata": {},
     "output_type": "execute_result"
    }
   ],
   "source": [
    "# Number of vegans\n",
    "len(md)-len(no_veg_id)"
   ]
  },
  {
   "cell_type": "code",
   "execution_count": 39,
   "id": "regional-viking",
   "metadata": {},
   "outputs": [],
   "source": [
    "# Get FSA score for different within-subjects variable EXCLUDE ALLERGIES\n",
    "no_allerg_id = md['user_id'].loc[md['restrictions'] != \"allergies\"].values\n",
    "\n",
    "s1_no_allerg = s1[s1['user_id'].isin(no_allerg_id)]\n",
    "s2_no_allerg = s2[s2['user_id'].isin(no_allerg_id)]\n",
    "s3_no_allerg = s3[s3['user_id'].isin(no_allerg_id)]\n",
    "\n",
    "# Add all data to one DF\n",
    "ms_no_allerg = pd.concat([s1_no_allerg, s2_no_allerg, s3_no_allerg])\n",
    "df_no_allerg = ms_no_allerg[['user_id', 'fsa_score', 'variant', 'condition', 'who_score', 'nutri_score']]\n"
   ]
  },
  {
   "cell_type": "code",
   "execution_count": 41,
   "id": "expensive-board",
   "metadata": {},
   "outputs": [
    {
     "data": {
      "text/plain": [
       "5"
      ]
     },
     "execution_count": 41,
     "metadata": {},
     "output_type": "execute_result"
    }
   ],
   "source": [
    "# Number of allergies\n",
    "len(md) -len(no_allerg_id)"
   ]
  },
  {
   "cell_type": "code",
   "execution_count": 9,
   "id": "sitting-effort",
   "metadata": {},
   "outputs": [],
   "source": [
    "anova_df = ms[['user_id', 'fsa_score', 'variant', 'condition', 'who_score', 'nutri_score']]\n",
    "\n",
    "# Create a new column with names for each label\n",
    "def label_name (row):\n",
    "    if row['condition'] == 1 :\n",
    "        return 'Nutriscore'\n",
    "    if row['condition'] == 2 :\n",
    "        return 'MTL'\n",
    "    if row['condition'] == 3 :\n",
    "        return 'No-label'\n",
    "\n",
    "def rank_name (row):\n",
    "    if row['variant'] == 1 :\n",
    "        return 'Popular'\n",
    "    if row['variant'] == 2 :\n",
    "        return 'Random'\n",
    "    if row['variant'] == 3 :\n",
    "        return 'Health'\n",
    "\n",
    "def numeric_nutriscore (row):\n",
    "    if row['nutri_score'] == 'A' :\n",
    "        return 1\n",
    "    if row['nutri_score'] == 'B' :\n",
    "        return 2\n",
    "    if row['nutri_score'] == 'C' :\n",
    "        return 3\n",
    "    if row['nutri_score'] == 'D' :\n",
    "        return 4\n",
    "    if row['nutri_score'] == 'E' :\n",
    "        return 5\n",
    "\n",
    "anova_df['Label'] = anova_df.apply(lambda row: label_name(row), axis=1)\n",
    "anova_df['Rank'] = anova_df.apply(lambda row: rank_name(row), axis=1)\n",
    "anova_df['num_nutriscore'] = anova_df.apply(lambda row: numeric_nutriscore(row), axis=1)\n",
    "ms['Label'] = ms.apply(lambda row: label_name(row), axis=1)\n",
    "ms['Rank'] = ms.apply(lambda row: rank_name(row), axis=1)\n",
    "ms['num_nutriscore'] = ms.apply(lambda row: numeric_nutriscore(row), axis=1)"
   ]
  },
  {
   "cell_type": "code",
   "execution_count": 23,
   "id": "according-publication",
   "metadata": {},
   "outputs": [],
   "source": [
    "# Divide dataset by cooking experience (Low, Medium, High)\n",
    "c1 = md['user_id'].loc[md['experience'] == \"cverylow\"].values\n",
    "c2 = md['user_id'].loc[md['experience'] == \"clow\"].values\n",
    "c3 = md['user_id'].loc[md['experience'] == \"cmedium\"].values\n",
    "c4 = md['user_id'].loc[md['experience'] == \"chigh\"].values\n",
    "c5 = md['user_id'].loc[md['experience'] == \"cveryhigh\"].values\n",
    "\n",
    "low = np.concatenate((c1, c2))\n",
    "medium = c3\n",
    "high = np.concatenate((c4, c5))\n",
    "\n",
    "low_cooking = ms[ms['user_id'].isin(low)]\n",
    "medium_cooking = ms[ms['user_id'].isin(medium)]\n",
    "high_cooking = ms[ms['user_id'].isin(high)]\n",
    "\n",
    "low_cooking['cooking_experience']='Low'\n",
    "medium_cooking['cooking_experience']='Medium'\n",
    "high_cooking['cooking_experience']='High'\n",
    "\n",
    "cooking = pd.concat([low_cooking, medium_cooking, high_cooking])\n",
    "\n",
    "cooking.to_csv('cooking.csv', index = False)\n"
   ]
  },
  {
   "cell_type": "code",
   "execution_count": 19,
   "id": "announced-moderator",
   "metadata": {},
   "outputs": [
    {
     "data": {
      "text/plain": [
       "2061"
      ]
     },
     "execution_count": 19,
     "metadata": {},
     "output_type": "execute_result"
    }
   ],
   "source": [
    "len(low_cooking)+len(medium_cooking)+len(high_cooking)"
   ]
  },
  {
   "cell_type": "code",
   "execution_count": 28,
   "id": "impossible-gasoline",
   "metadata": {},
   "outputs": [],
   "source": [
    "e1 = md['user_id'].loc[md['education'] == 1].values\n",
    "e2 = md['user_id'].loc[md['education'] == 2].values\n",
    "e3 = md['user_id'].loc[md['education'] == 3].values\n",
    "e4 = md['user_id'].loc[md['education'] == 4].values\n",
    "e5 = md['user_id'].loc[md['education'] == 5].values\n",
    "# Prefer not say: e6 = md['user_id'].loc[md['education'] == 6].values\n",
    "\n",
    "less_high = ms[ms['user_id'].isin(e1)] # \n",
    "high = ms[ms['user_id'].isin(e2)]\n",
    "bachelor = ms[ms['user_id'].isin(e3)]\n",
    "master = ms[ms['user_id'].isin(e4)]\n",
    "doc = ms[ms['user_id'].isin(e5)]\n",
    "\n",
    "low = np.concatenate((e1,e2))\n",
    "medium = e3\n",
    "high = np.concatenate((e4,e5))\n",
    "\n",
    "low_edu = ms[ms['user_id'].isin(low)]\n",
    "bach_edu = ms[ms['user_id'].isin(medium)]\n",
    "high_edu = ms[ms['user_id'].isin(high)]\n",
    "\n",
    "\n",
    "low_edu['education']='low_edu'\n",
    "bach_edu['education']='bach_edu'\n",
    "high_edu['education']='high_edu'\n",
    "\n",
    "education = pd.concat([low_edu,bach_edu, high_edu])\n",
    "\n",
    "education.to_csv('education.csv', index = False)\n"
   ]
  },
  {
   "cell_type": "code",
   "execution_count": 26,
   "id": "adjustable-storage",
   "metadata": {},
   "outputs": [],
   "source": [
    "# Eating habits\n",
    "h1 = md['user_id'].loc[md['eating_habits'] == \"vunhealthy\"].values\n",
    "h2 = md['user_id'].loc[md['eating_habits'] == \"unhealthy\"].values\n",
    "h3 = md['user_id'].loc[md['eating_habits'] == \"neutral\"].values\n",
    "h4 = md['user_id'].loc[md['eating_habits'] == \"healthy\"].values\n",
    "h5 = md['user_id'].loc[md['eating_habits'] == \"vhealhty\"].values\n",
    "\n",
    "pr = ms[ms['user_id'].isin(h1)]\n",
    "sa = ms[ms['user_id'].isin(h2)]\n",
    "fr = ms[ms['user_id'].isin(h3)]\n",
    "vg = ms[ms['user_id'].isin(h4)]\n",
    "lwe = ms[ms['user_id'].isin(h5)]\n",
    "\n",
    "\n",
    "unhealthy = np.concatenate((h1, h2))\n",
    "neutral = h3\n",
    "healthy = np.concatenate((h4,h5))\n",
    "\n",
    "unhealthy = ms[ms['user_id'].isin(unhealthy)]\n",
    "neutral = ms[ms['user_id'].isin(neutral)]\n",
    "healthy = ms[ms['user_id'].isin(healthy)]\n",
    "\n",
    "\n",
    "unhealthy['eating_habits']='Unhealthy'\n",
    "neutral['eating_habits']='Neutral'\n",
    "healthy['eating_habits']='Healthy'\n",
    "\n",
    "health = pd.concat([unhealthy, neutral, healthy])\n",
    "\n",
    "health.to_csv('health.csv', index = False)\n",
    "\n"
   ]
  },
  {
   "cell_type": "code",
   "execution_count": 27,
   "id": "compliant-treaty",
   "metadata": {},
   "outputs": [],
   "source": [
    "# Dietary goals\n",
    "\"\"\"\n",
    "6. Do you have any dietary goals? *\n",
    " Eat more protein\n",
    "\n",
    " Eat less salt\n",
    "\n",
    " Eat more fruit\n",
    "\n",
    " Eat more vegetables\n",
    "\n",
    " Lose weight\n",
    "\n",
    " Gain weight\n",
    "\n",
    " No goals\n",
    " \"\"\"\n",
    "g1 = md['user_id'].loc[md['goal'] == \"protein\"].values\n",
    "g2 = md['user_id'].loc[md['goal'] == \"salt\"].values\n",
    "g3 = md['user_id'].loc[md['goal'] == \"fruit\"].values\n",
    "g4 = md['user_id'].loc[md['goal'] == \"vegetables\"].values\n",
    "g5 = md['user_id'].loc[md['goal'] == \"lweight\"].values\n",
    "g6 = md['user_id'].loc[md['goal'] == \"gweight\"].values\n",
    "g7 = md['user_id'].loc[md['goal'] == \"none\"].values\n",
    "\n",
    "pr = ms[ms['user_id'].isin(g1)]\n",
    "sa = ms[ms['user_id'].isin(g1)]\n",
    "fr = ms[ms['user_id'].isin(g3)]\n",
    "vg = ms[ms['user_id'].isin(g4)]\n",
    "lwe = ms[ms['user_id'].isin(g5)]\n",
    "gwe = ms[ms['user_id'].isin(g6)]\n",
    "none = ms[ms['user_id'].isin(g7)]\n",
    "\n",
    "more = np.concatenate((g1, g3,g4,g6)) \n",
    "no_goal = g7\n",
    "reduce = np.concatenate((g2,g5))\n",
    "\n",
    "more = ms[ms['user_id'].isin(more)]\n",
    "no_goal = ms[ms['user_id'].isin(no_goal)]\n",
    "reduce = ms[ms['user_id'].isin(reduce)]\n",
    "\n",
    "more['goal']='More'\n",
    "no_goal['goal']='No_goal'\n",
    "reduce['goal']='Reduce'\n",
    "\n",
    "goal = pd.concat([more, no_goal, reduce])\n",
    "\n",
    "goal.to_csv('goal.csv', index = False)\n",
    "\n"
   ]
  },
  {
   "cell_type": "code",
   "execution_count": 473,
   "id": "linear-metadata",
   "metadata": {},
   "outputs": [],
   "source": [
    "def eta_squared(aov):\n",
    "    aov['eta_sq'] = 'NaN'\n",
    "    aov['eta_sq'] = aov[:-1]['sum_sq']/sum(aov['sum_sq'])\n",
    "    return aov\n",
    "\n",
    "def omega_squared(aov):\n",
    "    mse = aov['sum_sq'][-1]/aov['df'][-1]\n",
    "    aov['omega_sq'] = 'NaN'\n",
    "    aov['omega_sq'] = (aov[:-1]['sum_sq']-(aov[:-1]['df']*mse))/(sum(aov['sum_sq'])+mse)\n",
    "    return aov"
   ]
  },
  {
   "cell_type": "markdown",
   "id": "possible-matthew",
   "metadata": {},
   "source": [
    "# Describe the data "
   ]
  },
  {
   "cell_type": "code",
   "execution_count": 27,
   "id": "enabling-chamber",
   "metadata": {},
   "outputs": [
    {
     "name": "stdout",
     "output_type": "stream",
     "text": [
      "Nutriscore: DescribeResult(nobs=707, minmax=(4, 10), mean=6.463932107496464, variance=1.8949437234294049, skewness=0.37679249507326007, kurtosis=-0.5197643618416139) \n",
      "\n",
      "MTL: DescribeResult(nobs=717, minmax=(4, 10), mean=6.338912133891213, variance=1.8081625020453005, skewness=0.36373432715542725, kurtosis=-0.48916295304367496) \n",
      "\n",
      "No-label: DescribeResult(nobs=708, minmax=(4, 10), mean=6.6341807909604515, variance=1.9154919729261066, skewness=0.19642257255473458, kurtosis=-0.6794028336858853) \n",
      "\n"
     ]
    }
   ],
   "source": [
    "# Get mean FSA score for different conditions\n",
    "print(\"Nutriscore:\", stats.describe(s1_fsa), \"\\n\")\n",
    "print(\"MTL:\", stats.describe(s2_fsa), \"\\n\")\n",
    "print(\"No-label:\", stats.describe(s3_fsa), \"\\n\")"
   ]
  },
  {
   "cell_type": "code",
   "execution_count": 442,
   "id": "governmental-recording",
   "metadata": {},
   "outputs": [
    {
     "name": "stdout",
     "output_type": "stream",
     "text": [
      "\\begin{tabular}{r}\n",
      "\\toprule\n",
      " fsa\\_score \\\\\n",
      "  6.351931 \\\\\n",
      "\\midrule\n",
      "  6.644928 \\\\\n",
      "  6.453102 \\\\\n",
      "\\bottomrule\n",
      "\\end{tabular}\n",
      "\n"
     ]
    }
   ],
   "source": [
    "mean_df = anova_df[['Label','fsa_score']]\n",
    "print(mean_df.groupby('Label').mean().to_latex(index=False))"
   ]
  },
  {
   "cell_type": "markdown",
   "id": "heard-pressing",
   "metadata": {},
   "source": [
    "### Condtition 1: Nutriscore FSA for different variants (Popular, random, health)"
   ]
  },
  {
   "cell_type": "code",
   "execution_count": 79,
   "id": "decimal-major",
   "metadata": {},
   "outputs": [
    {
     "data": {
      "text/html": [
       "<div>\n",
       "<style scoped>\n",
       "    .dataframe tbody tr th:only-of-type {\n",
       "        vertical-align: middle;\n",
       "    }\n",
       "\n",
       "    .dataframe tbody tr th {\n",
       "        vertical-align: top;\n",
       "    }\n",
       "\n",
       "    .dataframe thead th {\n",
       "        text-align: right;\n",
       "    }\n",
       "</style>\n",
       "<table border=\"1\" class=\"dataframe\">\n",
       "  <thead>\n",
       "    <tr style=\"text-align: right;\">\n",
       "      <th></th>\n",
       "      <th>user_id</th>\n",
       "      <th>fsa_score</th>\n",
       "      <th>variant</th>\n",
       "      <th>condition</th>\n",
       "      <th>who_score</th>\n",
       "      <th>num_nutriscore</th>\n",
       "      <th>combined_score</th>\n",
       "    </tr>\n",
       "  </thead>\n",
       "  <tbody>\n",
       "    <tr>\n",
       "      <th>count</th>\n",
       "      <td>6.930000e+02</td>\n",
       "      <td>693.000000</td>\n",
       "      <td>693.000000</td>\n",
       "      <td>693.0</td>\n",
       "      <td>693.000000</td>\n",
       "      <td>693.000000</td>\n",
       "      <td>693.000000</td>\n",
       "    </tr>\n",
       "    <tr>\n",
       "      <th>mean</th>\n",
       "      <td>8.011309e+11</td>\n",
       "      <td>6.453102</td>\n",
       "      <td>2.000000</td>\n",
       "      <td>1.0</td>\n",
       "      <td>3.180375</td>\n",
       "      <td>3.226551</td>\n",
       "      <td>9.679654</td>\n",
       "    </tr>\n",
       "    <tr>\n",
       "      <th>std</th>\n",
       "      <td>4.552867e+11</td>\n",
       "      <td>1.367313</td>\n",
       "      <td>0.817086</td>\n",
       "      <td>0.0</td>\n",
       "      <td>1.617486</td>\n",
       "      <td>1.128603</td>\n",
       "      <td>2.308843</td>\n",
       "    </tr>\n",
       "    <tr>\n",
       "      <th>min</th>\n",
       "      <td>3.194292e+09</td>\n",
       "      <td>4.000000</td>\n",
       "      <td>1.000000</td>\n",
       "      <td>1.0</td>\n",
       "      <td>1.000000</td>\n",
       "      <td>1.000000</td>\n",
       "      <td>5.000000</td>\n",
       "    </tr>\n",
       "    <tr>\n",
       "      <th>25%</th>\n",
       "      <td>4.425301e+11</td>\n",
       "      <td>5.000000</td>\n",
       "      <td>1.000000</td>\n",
       "      <td>1.0</td>\n",
       "      <td>2.000000</td>\n",
       "      <td>3.000000</td>\n",
       "      <td>8.000000</td>\n",
       "    </tr>\n",
       "    <tr>\n",
       "      <th>50%</th>\n",
       "      <td>7.544220e+11</td>\n",
       "      <td>6.000000</td>\n",
       "      <td>2.000000</td>\n",
       "      <td>1.0</td>\n",
       "      <td>3.000000</td>\n",
       "      <td>3.000000</td>\n",
       "      <td>9.000000</td>\n",
       "    </tr>\n",
       "    <tr>\n",
       "      <th>75%</th>\n",
       "      <td>1.163002e+12</td>\n",
       "      <td>7.000000</td>\n",
       "      <td>3.000000</td>\n",
       "      <td>1.0</td>\n",
       "      <td>4.000000</td>\n",
       "      <td>4.000000</td>\n",
       "      <td>11.000000</td>\n",
       "    </tr>\n",
       "    <tr>\n",
       "      <th>max</th>\n",
       "      <td>1.608333e+12</td>\n",
       "      <td>10.000000</td>\n",
       "      <td>3.000000</td>\n",
       "      <td>1.0</td>\n",
       "      <td>7.000000</td>\n",
       "      <td>5.000000</td>\n",
       "      <td>15.000000</td>\n",
       "    </tr>\n",
       "  </tbody>\n",
       "</table>\n",
       "</div>"
      ],
      "text/plain": [
       "            user_id   fsa_score     variant  condition   who_score  \\\n",
       "count  6.930000e+02  693.000000  693.000000      693.0  693.000000   \n",
       "mean   8.011309e+11    6.453102    2.000000        1.0    3.180375   \n",
       "std    4.552867e+11    1.367313    0.817086        0.0    1.617486   \n",
       "min    3.194292e+09    4.000000    1.000000        1.0    1.000000   \n",
       "25%    4.425301e+11    5.000000    1.000000        1.0    2.000000   \n",
       "50%    7.544220e+11    6.000000    2.000000        1.0    3.000000   \n",
       "75%    1.163002e+12    7.000000    3.000000        1.0    4.000000   \n",
       "max    1.608333e+12   10.000000    3.000000        1.0    7.000000   \n",
       "\n",
       "       num_nutriscore  combined_score  \n",
       "count      693.000000      693.000000  \n",
       "mean         3.226551        9.679654  \n",
       "std          1.128603        2.308843  \n",
       "min          1.000000        5.000000  \n",
       "25%          3.000000        8.000000  \n",
       "50%          3.000000        9.000000  \n",
       "75%          4.000000       11.000000  \n",
       "max          5.000000       15.000000  "
      ]
     },
     "execution_count": 79,
     "metadata": {},
     "output_type": "execute_result"
    }
   ],
   "source": [
    "anova_df.loc[anova_df['condition'] == 1].describe()"
   ]
  },
  {
   "cell_type": "code",
   "execution_count": 98,
   "id": "olive-taylor",
   "metadata": {},
   "outputs": [
    {
     "data": {
      "text/html": [
       "<div>\n",
       "<style scoped>\n",
       "    .dataframe tbody tr th:only-of-type {\n",
       "        vertical-align: middle;\n",
       "    }\n",
       "\n",
       "    .dataframe tbody tr th {\n",
       "        vertical-align: top;\n",
       "    }\n",
       "\n",
       "    .dataframe thead th {\n",
       "        text-align: right;\n",
       "    }\n",
       "</style>\n",
       "<table border=\"1\" class=\"dataframe\">\n",
       "  <thead>\n",
       "    <tr style=\"text-align: right;\">\n",
       "      <th></th>\n",
       "      <th>user_id</th>\n",
       "      <th>fsa_score</th>\n",
       "      <th>variant</th>\n",
       "      <th>condition</th>\n",
       "      <th>who_score</th>\n",
       "      <th>num_nutriscore</th>\n",
       "      <th>combined_score</th>\n",
       "    </tr>\n",
       "  </thead>\n",
       "  <tbody>\n",
       "    <tr>\n",
       "      <th>count</th>\n",
       "      <td>2.310000e+02</td>\n",
       "      <td>231.000000</td>\n",
       "      <td>231.0</td>\n",
       "      <td>231.0</td>\n",
       "      <td>231.000000</td>\n",
       "      <td>231.000000</td>\n",
       "      <td>231.000000</td>\n",
       "    </tr>\n",
       "    <tr>\n",
       "      <th>mean</th>\n",
       "      <td>8.011309e+11</td>\n",
       "      <td>6.389610</td>\n",
       "      <td>1.0</td>\n",
       "      <td>1.0</td>\n",
       "      <td>3.251082</td>\n",
       "      <td>3.142857</td>\n",
       "      <td>9.532468</td>\n",
       "    </tr>\n",
       "    <tr>\n",
       "      <th>std</th>\n",
       "      <td>4.559461e+11</td>\n",
       "      <td>1.384597</td>\n",
       "      <td>0.0</td>\n",
       "      <td>0.0</td>\n",
       "      <td>1.630467</td>\n",
       "      <td>1.111767</td>\n",
       "      <td>2.289396</td>\n",
       "    </tr>\n",
       "    <tr>\n",
       "      <th>min</th>\n",
       "      <td>3.194292e+09</td>\n",
       "      <td>4.000000</td>\n",
       "      <td>1.0</td>\n",
       "      <td>1.0</td>\n",
       "      <td>1.000000</td>\n",
       "      <td>1.000000</td>\n",
       "      <td>5.000000</td>\n",
       "    </tr>\n",
       "    <tr>\n",
       "      <th>25%</th>\n",
       "      <td>4.443676e+11</td>\n",
       "      <td>5.000000</td>\n",
       "      <td>1.0</td>\n",
       "      <td>1.0</td>\n",
       "      <td>2.000000</td>\n",
       "      <td>2.500000</td>\n",
       "      <td>8.000000</td>\n",
       "    </tr>\n",
       "    <tr>\n",
       "      <th>50%</th>\n",
       "      <td>7.544220e+11</td>\n",
       "      <td>6.000000</td>\n",
       "      <td>1.0</td>\n",
       "      <td>1.0</td>\n",
       "      <td>2.000000</td>\n",
       "      <td>3.000000</td>\n",
       "      <td>9.000000</td>\n",
       "    </tr>\n",
       "    <tr>\n",
       "      <th>75%</th>\n",
       "      <td>1.160981e+12</td>\n",
       "      <td>7.000000</td>\n",
       "      <td>1.0</td>\n",
       "      <td>1.0</td>\n",
       "      <td>4.000000</td>\n",
       "      <td>4.000000</td>\n",
       "      <td>11.000000</td>\n",
       "    </tr>\n",
       "    <tr>\n",
       "      <th>max</th>\n",
       "      <td>1.608333e+12</td>\n",
       "      <td>10.000000</td>\n",
       "      <td>1.0</td>\n",
       "      <td>1.0</td>\n",
       "      <td>7.000000</td>\n",
       "      <td>5.000000</td>\n",
       "      <td>15.000000</td>\n",
       "    </tr>\n",
       "  </tbody>\n",
       "</table>\n",
       "</div>"
      ],
      "text/plain": [
       "            user_id   fsa_score  variant  condition   who_score  \\\n",
       "count  2.310000e+02  231.000000    231.0      231.0  231.000000   \n",
       "mean   8.011309e+11    6.389610      1.0        1.0    3.251082   \n",
       "std    4.559461e+11    1.384597      0.0        0.0    1.630467   \n",
       "min    3.194292e+09    4.000000      1.0        1.0    1.000000   \n",
       "25%    4.443676e+11    5.000000      1.0        1.0    2.000000   \n",
       "50%    7.544220e+11    6.000000      1.0        1.0    2.000000   \n",
       "75%    1.160981e+12    7.000000      1.0        1.0    4.000000   \n",
       "max    1.608333e+12   10.000000      1.0        1.0    7.000000   \n",
       "\n",
       "       num_nutriscore  combined_score  \n",
       "count      231.000000      231.000000  \n",
       "mean         3.142857        9.532468  \n",
       "std          1.111767        2.289396  \n",
       "min          1.000000        5.000000  \n",
       "25%          2.500000        8.000000  \n",
       "50%          3.000000        9.000000  \n",
       "75%          4.000000       11.000000  \n",
       "max          5.000000       15.000000  "
      ]
     },
     "execution_count": 98,
     "metadata": {},
     "output_type": "execute_result"
    }
   ],
   "source": [
    "# Variant 1: Popular ranking\n",
    "anova_df[(anova_df['condition'] == 1)&(anova_df['variant'] == 1)].describe()"
   ]
  },
  {
   "cell_type": "code",
   "execution_count": 99,
   "id": "smoking-luxury",
   "metadata": {},
   "outputs": [
    {
     "data": {
      "text/html": [
       "<div>\n",
       "<style scoped>\n",
       "    .dataframe tbody tr th:only-of-type {\n",
       "        vertical-align: middle;\n",
       "    }\n",
       "\n",
       "    .dataframe tbody tr th {\n",
       "        vertical-align: top;\n",
       "    }\n",
       "\n",
       "    .dataframe thead th {\n",
       "        text-align: right;\n",
       "    }\n",
       "</style>\n",
       "<table border=\"1\" class=\"dataframe\">\n",
       "  <thead>\n",
       "    <tr style=\"text-align: right;\">\n",
       "      <th></th>\n",
       "      <th>user_id</th>\n",
       "      <th>fsa_score</th>\n",
       "      <th>variant</th>\n",
       "      <th>condition</th>\n",
       "      <th>who_score</th>\n",
       "      <th>num_nutriscore</th>\n",
       "      <th>combined_score</th>\n",
       "    </tr>\n",
       "  </thead>\n",
       "  <tbody>\n",
       "    <tr>\n",
       "      <th>count</th>\n",
       "      <td>2.310000e+02</td>\n",
       "      <td>231.000000</td>\n",
       "      <td>231.0</td>\n",
       "      <td>231.0</td>\n",
       "      <td>231.000000</td>\n",
       "      <td>231.000000</td>\n",
       "      <td>231.000000</td>\n",
       "    </tr>\n",
       "    <tr>\n",
       "      <th>mean</th>\n",
       "      <td>8.011309e+11</td>\n",
       "      <td>6.471861</td>\n",
       "      <td>2.0</td>\n",
       "      <td>1.0</td>\n",
       "      <td>3.043290</td>\n",
       "      <td>3.242424</td>\n",
       "      <td>9.714286</td>\n",
       "    </tr>\n",
       "    <tr>\n",
       "      <th>std</th>\n",
       "      <td>4.559461e+11</td>\n",
       "      <td>1.318047</td>\n",
       "      <td>0.0</td>\n",
       "      <td>0.0</td>\n",
       "      <td>1.568116</td>\n",
       "      <td>1.142888</td>\n",
       "      <td>2.246875</td>\n",
       "    </tr>\n",
       "    <tr>\n",
       "      <th>min</th>\n",
       "      <td>3.194292e+09</td>\n",
       "      <td>4.000000</td>\n",
       "      <td>2.0</td>\n",
       "      <td>1.0</td>\n",
       "      <td>1.000000</td>\n",
       "      <td>1.000000</td>\n",
       "      <td>5.000000</td>\n",
       "    </tr>\n",
       "    <tr>\n",
       "      <th>25%</th>\n",
       "      <td>4.443676e+11</td>\n",
       "      <td>5.500000</td>\n",
       "      <td>2.0</td>\n",
       "      <td>1.0</td>\n",
       "      <td>2.000000</td>\n",
       "      <td>3.000000</td>\n",
       "      <td>9.000000</td>\n",
       "    </tr>\n",
       "    <tr>\n",
       "      <th>50%</th>\n",
       "      <td>7.544220e+11</td>\n",
       "      <td>6.000000</td>\n",
       "      <td>2.0</td>\n",
       "      <td>1.0</td>\n",
       "      <td>2.000000</td>\n",
       "      <td>3.000000</td>\n",
       "      <td>9.000000</td>\n",
       "    </tr>\n",
       "    <tr>\n",
       "      <th>75%</th>\n",
       "      <td>1.160981e+12</td>\n",
       "      <td>7.500000</td>\n",
       "      <td>2.0</td>\n",
       "      <td>1.0</td>\n",
       "      <td>4.000000</td>\n",
       "      <td>4.000000</td>\n",
       "      <td>11.500000</td>\n",
       "    </tr>\n",
       "    <tr>\n",
       "      <th>max</th>\n",
       "      <td>1.608333e+12</td>\n",
       "      <td>10.000000</td>\n",
       "      <td>2.0</td>\n",
       "      <td>1.0</td>\n",
       "      <td>7.000000</td>\n",
       "      <td>5.000000</td>\n",
       "      <td>15.000000</td>\n",
       "    </tr>\n",
       "  </tbody>\n",
       "</table>\n",
       "</div>"
      ],
      "text/plain": [
       "            user_id   fsa_score  variant  condition   who_score  \\\n",
       "count  2.310000e+02  231.000000    231.0      231.0  231.000000   \n",
       "mean   8.011309e+11    6.471861      2.0        1.0    3.043290   \n",
       "std    4.559461e+11    1.318047      0.0        0.0    1.568116   \n",
       "min    3.194292e+09    4.000000      2.0        1.0    1.000000   \n",
       "25%    4.443676e+11    5.500000      2.0        1.0    2.000000   \n",
       "50%    7.544220e+11    6.000000      2.0        1.0    2.000000   \n",
       "75%    1.160981e+12    7.500000      2.0        1.0    4.000000   \n",
       "max    1.608333e+12   10.000000      2.0        1.0    7.000000   \n",
       "\n",
       "       num_nutriscore  combined_score  \n",
       "count      231.000000      231.000000  \n",
       "mean         3.242424        9.714286  \n",
       "std          1.142888        2.246875  \n",
       "min          1.000000        5.000000  \n",
       "25%          3.000000        9.000000  \n",
       "50%          3.000000        9.000000  \n",
       "75%          4.000000       11.500000  \n",
       "max          5.000000       15.000000  "
      ]
     },
     "execution_count": 99,
     "metadata": {},
     "output_type": "execute_result"
    }
   ],
   "source": [
    "# Variant 2: Random ranking\n",
    "anova_df[(anova_df['condition'] == 1)&(anova_df['variant'] == 2)].describe()"
   ]
  },
  {
   "cell_type": "code",
   "execution_count": 100,
   "id": "touched-yeast",
   "metadata": {},
   "outputs": [
    {
     "data": {
      "text/html": [
       "<div>\n",
       "<style scoped>\n",
       "    .dataframe tbody tr th:only-of-type {\n",
       "        vertical-align: middle;\n",
       "    }\n",
       "\n",
       "    .dataframe tbody tr th {\n",
       "        vertical-align: top;\n",
       "    }\n",
       "\n",
       "    .dataframe thead th {\n",
       "        text-align: right;\n",
       "    }\n",
       "</style>\n",
       "<table border=\"1\" class=\"dataframe\">\n",
       "  <thead>\n",
       "    <tr style=\"text-align: right;\">\n",
       "      <th></th>\n",
       "      <th>user_id</th>\n",
       "      <th>fsa_score</th>\n",
       "      <th>variant</th>\n",
       "      <th>condition</th>\n",
       "      <th>who_score</th>\n",
       "      <th>num_nutriscore</th>\n",
       "      <th>combined_score</th>\n",
       "    </tr>\n",
       "  </thead>\n",
       "  <tbody>\n",
       "    <tr>\n",
       "      <th>count</th>\n",
       "      <td>2.310000e+02</td>\n",
       "      <td>231.000000</td>\n",
       "      <td>231.0</td>\n",
       "      <td>231.0</td>\n",
       "      <td>231.000000</td>\n",
       "      <td>231.000000</td>\n",
       "      <td>231.000000</td>\n",
       "    </tr>\n",
       "    <tr>\n",
       "      <th>mean</th>\n",
       "      <td>8.011309e+11</td>\n",
       "      <td>6.497835</td>\n",
       "      <td>3.0</td>\n",
       "      <td>1.0</td>\n",
       "      <td>3.246753</td>\n",
       "      <td>3.294372</td>\n",
       "      <td>9.792208</td>\n",
       "    </tr>\n",
       "    <tr>\n",
       "      <th>std</th>\n",
       "      <td>4.559461e+11</td>\n",
       "      <td>1.401473</td>\n",
       "      <td>0.0</td>\n",
       "      <td>0.0</td>\n",
       "      <td>1.651001</td>\n",
       "      <td>1.130569</td>\n",
       "      <td>2.390221</td>\n",
       "    </tr>\n",
       "    <tr>\n",
       "      <th>min</th>\n",
       "      <td>3.194292e+09</td>\n",
       "      <td>4.000000</td>\n",
       "      <td>3.0</td>\n",
       "      <td>1.0</td>\n",
       "      <td>1.000000</td>\n",
       "      <td>1.000000</td>\n",
       "      <td>5.000000</td>\n",
       "    </tr>\n",
       "    <tr>\n",
       "      <th>25%</th>\n",
       "      <td>4.443676e+11</td>\n",
       "      <td>5.000000</td>\n",
       "      <td>3.0</td>\n",
       "      <td>1.0</td>\n",
       "      <td>2.000000</td>\n",
       "      <td>3.000000</td>\n",
       "      <td>8.000000</td>\n",
       "    </tr>\n",
       "    <tr>\n",
       "      <th>50%</th>\n",
       "      <td>7.544220e+11</td>\n",
       "      <td>6.000000</td>\n",
       "      <td>3.0</td>\n",
       "      <td>1.0</td>\n",
       "      <td>3.000000</td>\n",
       "      <td>3.000000</td>\n",
       "      <td>9.000000</td>\n",
       "    </tr>\n",
       "    <tr>\n",
       "      <th>75%</th>\n",
       "      <td>1.160981e+12</td>\n",
       "      <td>8.000000</td>\n",
       "      <td>3.0</td>\n",
       "      <td>1.0</td>\n",
       "      <td>4.000000</td>\n",
       "      <td>4.000000</td>\n",
       "      <td>12.000000</td>\n",
       "    </tr>\n",
       "    <tr>\n",
       "      <th>max</th>\n",
       "      <td>1.608333e+12</td>\n",
       "      <td>10.000000</td>\n",
       "      <td>3.0</td>\n",
       "      <td>1.0</td>\n",
       "      <td>7.000000</td>\n",
       "      <td>5.000000</td>\n",
       "      <td>15.000000</td>\n",
       "    </tr>\n",
       "  </tbody>\n",
       "</table>\n",
       "</div>"
      ],
      "text/plain": [
       "            user_id   fsa_score  variant  condition   who_score  \\\n",
       "count  2.310000e+02  231.000000    231.0      231.0  231.000000   \n",
       "mean   8.011309e+11    6.497835      3.0        1.0    3.246753   \n",
       "std    4.559461e+11    1.401473      0.0        0.0    1.651001   \n",
       "min    3.194292e+09    4.000000      3.0        1.0    1.000000   \n",
       "25%    4.443676e+11    5.000000      3.0        1.0    2.000000   \n",
       "50%    7.544220e+11    6.000000      3.0        1.0    3.000000   \n",
       "75%    1.160981e+12    8.000000      3.0        1.0    4.000000   \n",
       "max    1.608333e+12   10.000000      3.0        1.0    7.000000   \n",
       "\n",
       "       num_nutriscore  combined_score  \n",
       "count      231.000000      231.000000  \n",
       "mean         3.294372        9.792208  \n",
       "std          1.130569        2.390221  \n",
       "min          1.000000        5.000000  \n",
       "25%          3.000000        8.000000  \n",
       "50%          3.000000        9.000000  \n",
       "75%          4.000000       12.000000  \n",
       "max          5.000000       15.000000  "
      ]
     },
     "execution_count": 100,
     "metadata": {},
     "output_type": "execute_result"
    }
   ],
   "source": [
    "# Variant 3: Health ranking\n",
    "anova_df[(anova_df['condition'] == 1)&(anova_df['variant'] == 3)].describe()"
   ]
  },
  {
   "cell_type": "markdown",
   "id": "geological-compound",
   "metadata": {},
   "source": [
    "### Condition 2: MTL FSA for different variants (Popular, random, health)"
   ]
  },
  {
   "cell_type": "code",
   "execution_count": 80,
   "id": "welsh-remains",
   "metadata": {},
   "outputs": [
    {
     "data": {
      "text/html": [
       "<div>\n",
       "<style scoped>\n",
       "    .dataframe tbody tr th:only-of-type {\n",
       "        vertical-align: middle;\n",
       "    }\n",
       "\n",
       "    .dataframe tbody tr th {\n",
       "        vertical-align: top;\n",
       "    }\n",
       "\n",
       "    .dataframe thead th {\n",
       "        text-align: right;\n",
       "    }\n",
       "</style>\n",
       "<table border=\"1\" class=\"dataframe\">\n",
       "  <thead>\n",
       "    <tr style=\"text-align: right;\">\n",
       "      <th></th>\n",
       "      <th>user_id</th>\n",
       "      <th>fsa_score</th>\n",
       "      <th>variant</th>\n",
       "      <th>condition</th>\n",
       "      <th>who_score</th>\n",
       "      <th>num_nutriscore</th>\n",
       "      <th>combined_score</th>\n",
       "    </tr>\n",
       "  </thead>\n",
       "  <tbody>\n",
       "    <tr>\n",
       "      <th>count</th>\n",
       "      <td>6.990000e+02</td>\n",
       "      <td>699.000000</td>\n",
       "      <td>699.000000</td>\n",
       "      <td>699.0</td>\n",
       "      <td>699.000000</td>\n",
       "      <td>699.000000</td>\n",
       "      <td>699.000000</td>\n",
       "    </tr>\n",
       "    <tr>\n",
       "      <th>mean</th>\n",
       "      <td>8.011176e+11</td>\n",
       "      <td>6.351931</td>\n",
       "      <td>2.000000</td>\n",
       "      <td>2.0</td>\n",
       "      <td>3.114449</td>\n",
       "      <td>3.394850</td>\n",
       "      <td>9.746781</td>\n",
       "    </tr>\n",
       "    <tr>\n",
       "      <th>std</th>\n",
       "      <td>4.571528e+11</td>\n",
       "      <td>1.346451</td>\n",
       "      <td>0.817081</td>\n",
       "      <td>0.0</td>\n",
       "      <td>1.515367</td>\n",
       "      <td>1.000731</td>\n",
       "      <td>2.196044</td>\n",
       "    </tr>\n",
       "    <tr>\n",
       "      <th>min</th>\n",
       "      <td>6.885896e+09</td>\n",
       "      <td>4.000000</td>\n",
       "      <td>1.000000</td>\n",
       "      <td>2.0</td>\n",
       "      <td>1.000000</td>\n",
       "      <td>1.000000</td>\n",
       "      <td>5.000000</td>\n",
       "    </tr>\n",
       "    <tr>\n",
       "      <th>25%</th>\n",
       "      <td>4.296362e+11</td>\n",
       "      <td>5.000000</td>\n",
       "      <td>1.000000</td>\n",
       "      <td>2.0</td>\n",
       "      <td>2.000000</td>\n",
       "      <td>3.000000</td>\n",
       "      <td>9.000000</td>\n",
       "    </tr>\n",
       "    <tr>\n",
       "      <th>50%</th>\n",
       "      <td>7.797267e+11</td>\n",
       "      <td>6.000000</td>\n",
       "      <td>2.000000</td>\n",
       "      <td>2.0</td>\n",
       "      <td>3.000000</td>\n",
       "      <td>3.000000</td>\n",
       "      <td>9.000000</td>\n",
       "    </tr>\n",
       "    <tr>\n",
       "      <th>75%</th>\n",
       "      <td>1.202506e+12</td>\n",
       "      <td>7.000000</td>\n",
       "      <td>3.000000</td>\n",
       "      <td>2.0</td>\n",
       "      <td>4.000000</td>\n",
       "      <td>4.000000</td>\n",
       "      <td>11.000000</td>\n",
       "    </tr>\n",
       "    <tr>\n",
       "      <th>max</th>\n",
       "      <td>1.613553e+12</td>\n",
       "      <td>10.000000</td>\n",
       "      <td>3.000000</td>\n",
       "      <td>2.0</td>\n",
       "      <td>7.000000</td>\n",
       "      <td>5.000000</td>\n",
       "      <td>15.000000</td>\n",
       "    </tr>\n",
       "  </tbody>\n",
       "</table>\n",
       "</div>"
      ],
      "text/plain": [
       "            user_id   fsa_score     variant  condition   who_score  \\\n",
       "count  6.990000e+02  699.000000  699.000000      699.0  699.000000   \n",
       "mean   8.011176e+11    6.351931    2.000000        2.0    3.114449   \n",
       "std    4.571528e+11    1.346451    0.817081        0.0    1.515367   \n",
       "min    6.885896e+09    4.000000    1.000000        2.0    1.000000   \n",
       "25%    4.296362e+11    5.000000    1.000000        2.0    2.000000   \n",
       "50%    7.797267e+11    6.000000    2.000000        2.0    3.000000   \n",
       "75%    1.202506e+12    7.000000    3.000000        2.0    4.000000   \n",
       "max    1.613553e+12   10.000000    3.000000        2.0    7.000000   \n",
       "\n",
       "       num_nutriscore  combined_score  \n",
       "count      699.000000      699.000000  \n",
       "mean         3.394850        9.746781  \n",
       "std          1.000731        2.196044  \n",
       "min          1.000000        5.000000  \n",
       "25%          3.000000        9.000000  \n",
       "50%          3.000000        9.000000  \n",
       "75%          4.000000       11.000000  \n",
       "max          5.000000       15.000000  "
      ]
     },
     "execution_count": 80,
     "metadata": {},
     "output_type": "execute_result"
    }
   ],
   "source": [
    "anova_df.loc[anova_df['condition'] == 2].describe()"
   ]
  },
  {
   "cell_type": "code",
   "execution_count": 97,
   "id": "reliable-blocking",
   "metadata": {},
   "outputs": [
    {
     "data": {
      "text/html": [
       "<div>\n",
       "<style scoped>\n",
       "    .dataframe tbody tr th:only-of-type {\n",
       "        vertical-align: middle;\n",
       "    }\n",
       "\n",
       "    .dataframe tbody tr th {\n",
       "        vertical-align: top;\n",
       "    }\n",
       "\n",
       "    .dataframe thead th {\n",
       "        text-align: right;\n",
       "    }\n",
       "</style>\n",
       "<table border=\"1\" class=\"dataframe\">\n",
       "  <thead>\n",
       "    <tr style=\"text-align: right;\">\n",
       "      <th></th>\n",
       "      <th>user_id</th>\n",
       "      <th>fsa_score</th>\n",
       "      <th>variant</th>\n",
       "      <th>condition</th>\n",
       "      <th>who_score</th>\n",
       "      <th>num_nutriscore</th>\n",
       "      <th>combined_score</th>\n",
       "    </tr>\n",
       "  </thead>\n",
       "  <tbody>\n",
       "    <tr>\n",
       "      <th>count</th>\n",
       "      <td>2.330000e+02</td>\n",
       "      <td>233.000000</td>\n",
       "      <td>233.0</td>\n",
       "      <td>233.0</td>\n",
       "      <td>233.000000</td>\n",
       "      <td>233.000000</td>\n",
       "      <td>233.000000</td>\n",
       "    </tr>\n",
       "    <tr>\n",
       "      <th>mean</th>\n",
       "      <td>8.011176e+11</td>\n",
       "      <td>6.317597</td>\n",
       "      <td>1.0</td>\n",
       "      <td>2.0</td>\n",
       "      <td>3.188841</td>\n",
       "      <td>3.326180</td>\n",
       "      <td>9.643777</td>\n",
       "    </tr>\n",
       "    <tr>\n",
       "      <th>std</th>\n",
       "      <td>4.578092e+11</td>\n",
       "      <td>1.273906</td>\n",
       "      <td>0.0</td>\n",
       "      <td>0.0</td>\n",
       "      <td>1.613108</td>\n",
       "      <td>1.040578</td>\n",
       "      <td>2.155020</td>\n",
       "    </tr>\n",
       "    <tr>\n",
       "      <th>min</th>\n",
       "      <td>6.885896e+09</td>\n",
       "      <td>4.000000</td>\n",
       "      <td>1.0</td>\n",
       "      <td>2.0</td>\n",
       "      <td>1.000000</td>\n",
       "      <td>1.000000</td>\n",
       "      <td>5.000000</td>\n",
       "    </tr>\n",
       "    <tr>\n",
       "      <th>25%</th>\n",
       "      <td>4.296362e+11</td>\n",
       "      <td>5.000000</td>\n",
       "      <td>1.0</td>\n",
       "      <td>2.0</td>\n",
       "      <td>2.000000</td>\n",
       "      <td>3.000000</td>\n",
       "      <td>9.000000</td>\n",
       "    </tr>\n",
       "    <tr>\n",
       "      <th>50%</th>\n",
       "      <td>7.797267e+11</td>\n",
       "      <td>6.000000</td>\n",
       "      <td>1.0</td>\n",
       "      <td>2.0</td>\n",
       "      <td>2.000000</td>\n",
       "      <td>3.000000</td>\n",
       "      <td>9.000000</td>\n",
       "    </tr>\n",
       "    <tr>\n",
       "      <th>75%</th>\n",
       "      <td>1.202506e+12</td>\n",
       "      <td>7.000000</td>\n",
       "      <td>1.0</td>\n",
       "      <td>2.0</td>\n",
       "      <td>4.000000</td>\n",
       "      <td>4.000000</td>\n",
       "      <td>11.000000</td>\n",
       "    </tr>\n",
       "    <tr>\n",
       "      <th>max</th>\n",
       "      <td>1.613553e+12</td>\n",
       "      <td>10.000000</td>\n",
       "      <td>1.0</td>\n",
       "      <td>2.0</td>\n",
       "      <td>7.000000</td>\n",
       "      <td>5.000000</td>\n",
       "      <td>15.000000</td>\n",
       "    </tr>\n",
       "  </tbody>\n",
       "</table>\n",
       "</div>"
      ],
      "text/plain": [
       "            user_id   fsa_score  variant  condition   who_score  \\\n",
       "count  2.330000e+02  233.000000    233.0      233.0  233.000000   \n",
       "mean   8.011176e+11    6.317597      1.0        2.0    3.188841   \n",
       "std    4.578092e+11    1.273906      0.0        0.0    1.613108   \n",
       "min    6.885896e+09    4.000000      1.0        2.0    1.000000   \n",
       "25%    4.296362e+11    5.000000      1.0        2.0    2.000000   \n",
       "50%    7.797267e+11    6.000000      1.0        2.0    2.000000   \n",
       "75%    1.202506e+12    7.000000      1.0        2.0    4.000000   \n",
       "max    1.613553e+12   10.000000      1.0        2.0    7.000000   \n",
       "\n",
       "       num_nutriscore  combined_score  \n",
       "count      233.000000      233.000000  \n",
       "mean         3.326180        9.643777  \n",
       "std          1.040578        2.155020  \n",
       "min          1.000000        5.000000  \n",
       "25%          3.000000        9.000000  \n",
       "50%          3.000000        9.000000  \n",
       "75%          4.000000       11.000000  \n",
       "max          5.000000       15.000000  "
      ]
     },
     "execution_count": 97,
     "metadata": {},
     "output_type": "execute_result"
    }
   ],
   "source": [
    "# Variant 1: Popular ranking\n",
    "anova_df[(anova_df['condition'] == 2)&(anova_df['variant'] == 1)].describe()"
   ]
  },
  {
   "cell_type": "code",
   "execution_count": 96,
   "id": "focused-vancouver",
   "metadata": {},
   "outputs": [
    {
     "data": {
      "text/html": [
       "<div>\n",
       "<style scoped>\n",
       "    .dataframe tbody tr th:only-of-type {\n",
       "        vertical-align: middle;\n",
       "    }\n",
       "\n",
       "    .dataframe tbody tr th {\n",
       "        vertical-align: top;\n",
       "    }\n",
       "\n",
       "    .dataframe thead th {\n",
       "        text-align: right;\n",
       "    }\n",
       "</style>\n",
       "<table border=\"1\" class=\"dataframe\">\n",
       "  <thead>\n",
       "    <tr style=\"text-align: right;\">\n",
       "      <th></th>\n",
       "      <th>user_id</th>\n",
       "      <th>fsa_score</th>\n",
       "      <th>variant</th>\n",
       "      <th>condition</th>\n",
       "      <th>who_score</th>\n",
       "      <th>num_nutriscore</th>\n",
       "      <th>combined_score</th>\n",
       "    </tr>\n",
       "  </thead>\n",
       "  <tbody>\n",
       "    <tr>\n",
       "      <th>count</th>\n",
       "      <td>2.330000e+02</td>\n",
       "      <td>233.000000</td>\n",
       "      <td>233.0</td>\n",
       "      <td>233.0</td>\n",
       "      <td>233.000000</td>\n",
       "      <td>233.000000</td>\n",
       "      <td>233.000000</td>\n",
       "    </tr>\n",
       "    <tr>\n",
       "      <th>mean</th>\n",
       "      <td>8.011176e+11</td>\n",
       "      <td>6.304721</td>\n",
       "      <td>2.0</td>\n",
       "      <td>2.0</td>\n",
       "      <td>3.051502</td>\n",
       "      <td>3.416309</td>\n",
       "      <td>9.721030</td>\n",
       "    </tr>\n",
       "    <tr>\n",
       "      <th>std</th>\n",
       "      <td>4.578092e+11</td>\n",
       "      <td>1.344473</td>\n",
       "      <td>0.0</td>\n",
       "      <td>0.0</td>\n",
       "      <td>1.431454</td>\n",
       "      <td>0.948270</td>\n",
       "      <td>2.142415</td>\n",
       "    </tr>\n",
       "    <tr>\n",
       "      <th>min</th>\n",
       "      <td>6.885896e+09</td>\n",
       "      <td>4.000000</td>\n",
       "      <td>2.0</td>\n",
       "      <td>2.0</td>\n",
       "      <td>1.000000</td>\n",
       "      <td>1.000000</td>\n",
       "      <td>5.000000</td>\n",
       "    </tr>\n",
       "    <tr>\n",
       "      <th>25%</th>\n",
       "      <td>4.296362e+11</td>\n",
       "      <td>5.000000</td>\n",
       "      <td>2.0</td>\n",
       "      <td>2.0</td>\n",
       "      <td>2.000000</td>\n",
       "      <td>3.000000</td>\n",
       "      <td>9.000000</td>\n",
       "    </tr>\n",
       "    <tr>\n",
       "      <th>50%</th>\n",
       "      <td>7.797267e+11</td>\n",
       "      <td>6.000000</td>\n",
       "      <td>2.0</td>\n",
       "      <td>2.0</td>\n",
       "      <td>3.000000</td>\n",
       "      <td>3.000000</td>\n",
       "      <td>9.000000</td>\n",
       "    </tr>\n",
       "    <tr>\n",
       "      <th>75%</th>\n",
       "      <td>1.202506e+12</td>\n",
       "      <td>7.000000</td>\n",
       "      <td>2.0</td>\n",
       "      <td>2.0</td>\n",
       "      <td>4.000000</td>\n",
       "      <td>4.000000</td>\n",
       "      <td>11.000000</td>\n",
       "    </tr>\n",
       "    <tr>\n",
       "      <th>max</th>\n",
       "      <td>1.613553e+12</td>\n",
       "      <td>10.000000</td>\n",
       "      <td>2.0</td>\n",
       "      <td>2.0</td>\n",
       "      <td>7.000000</td>\n",
       "      <td>5.000000</td>\n",
       "      <td>15.000000</td>\n",
       "    </tr>\n",
       "  </tbody>\n",
       "</table>\n",
       "</div>"
      ],
      "text/plain": [
       "            user_id   fsa_score  variant  condition   who_score  \\\n",
       "count  2.330000e+02  233.000000    233.0      233.0  233.000000   \n",
       "mean   8.011176e+11    6.304721      2.0        2.0    3.051502   \n",
       "std    4.578092e+11    1.344473      0.0        0.0    1.431454   \n",
       "min    6.885896e+09    4.000000      2.0        2.0    1.000000   \n",
       "25%    4.296362e+11    5.000000      2.0        2.0    2.000000   \n",
       "50%    7.797267e+11    6.000000      2.0        2.0    3.000000   \n",
       "75%    1.202506e+12    7.000000      2.0        2.0    4.000000   \n",
       "max    1.613553e+12   10.000000      2.0        2.0    7.000000   \n",
       "\n",
       "       num_nutriscore  combined_score  \n",
       "count      233.000000      233.000000  \n",
       "mean         3.416309        9.721030  \n",
       "std          0.948270        2.142415  \n",
       "min          1.000000        5.000000  \n",
       "25%          3.000000        9.000000  \n",
       "50%          3.000000        9.000000  \n",
       "75%          4.000000       11.000000  \n",
       "max          5.000000       15.000000  "
      ]
     },
     "execution_count": 96,
     "metadata": {},
     "output_type": "execute_result"
    }
   ],
   "source": [
    "# Variant 2: Random ranking\n",
    "anova_df[(anova_df['condition'] == 2)&(anova_df['variant'] == 2)].describe()"
   ]
  },
  {
   "cell_type": "code",
   "execution_count": 95,
   "id": "pharmaceutical-disposition",
   "metadata": {},
   "outputs": [
    {
     "data": {
      "text/html": [
       "<div>\n",
       "<style scoped>\n",
       "    .dataframe tbody tr th:only-of-type {\n",
       "        vertical-align: middle;\n",
       "    }\n",
       "\n",
       "    .dataframe tbody tr th {\n",
       "        vertical-align: top;\n",
       "    }\n",
       "\n",
       "    .dataframe thead th {\n",
       "        text-align: right;\n",
       "    }\n",
       "</style>\n",
       "<table border=\"1\" class=\"dataframe\">\n",
       "  <thead>\n",
       "    <tr style=\"text-align: right;\">\n",
       "      <th></th>\n",
       "      <th>user_id</th>\n",
       "      <th>fsa_score</th>\n",
       "      <th>variant</th>\n",
       "      <th>condition</th>\n",
       "      <th>who_score</th>\n",
       "      <th>num_nutriscore</th>\n",
       "      <th>combined_score</th>\n",
       "    </tr>\n",
       "  </thead>\n",
       "  <tbody>\n",
       "    <tr>\n",
       "      <th>count</th>\n",
       "      <td>2.330000e+02</td>\n",
       "      <td>233.000000</td>\n",
       "      <td>233.0</td>\n",
       "      <td>233.0</td>\n",
       "      <td>233.000000</td>\n",
       "      <td>233.000000</td>\n",
       "      <td>233.000000</td>\n",
       "    </tr>\n",
       "    <tr>\n",
       "      <th>mean</th>\n",
       "      <td>8.011176e+11</td>\n",
       "      <td>6.433476</td>\n",
       "      <td>3.0</td>\n",
       "      <td>2.0</td>\n",
       "      <td>3.103004</td>\n",
       "      <td>3.442060</td>\n",
       "      <td>9.875536</td>\n",
       "    </tr>\n",
       "    <tr>\n",
       "      <th>std</th>\n",
       "      <td>4.578092e+11</td>\n",
       "      <td>1.419110</td>\n",
       "      <td>0.0</td>\n",
       "      <td>0.0</td>\n",
       "      <td>1.499322</td>\n",
       "      <td>1.011715</td>\n",
       "      <td>2.290715</td>\n",
       "    </tr>\n",
       "    <tr>\n",
       "      <th>min</th>\n",
       "      <td>6.885896e+09</td>\n",
       "      <td>4.000000</td>\n",
       "      <td>3.0</td>\n",
       "      <td>2.0</td>\n",
       "      <td>1.000000</td>\n",
       "      <td>1.000000</td>\n",
       "      <td>5.000000</td>\n",
       "    </tr>\n",
       "    <tr>\n",
       "      <th>25%</th>\n",
       "      <td>4.296362e+11</td>\n",
       "      <td>5.000000</td>\n",
       "      <td>3.0</td>\n",
       "      <td>2.0</td>\n",
       "      <td>2.000000</td>\n",
       "      <td>3.000000</td>\n",
       "      <td>9.000000</td>\n",
       "    </tr>\n",
       "    <tr>\n",
       "      <th>50%</th>\n",
       "      <td>7.797267e+11</td>\n",
       "      <td>6.000000</td>\n",
       "      <td>3.0</td>\n",
       "      <td>2.0</td>\n",
       "      <td>3.000000</td>\n",
       "      <td>3.000000</td>\n",
       "      <td>9.000000</td>\n",
       "    </tr>\n",
       "    <tr>\n",
       "      <th>75%</th>\n",
       "      <td>1.202506e+12</td>\n",
       "      <td>8.000000</td>\n",
       "      <td>3.0</td>\n",
       "      <td>2.0</td>\n",
       "      <td>4.000000</td>\n",
       "      <td>4.000000</td>\n",
       "      <td>12.000000</td>\n",
       "    </tr>\n",
       "    <tr>\n",
       "      <th>max</th>\n",
       "      <td>1.613553e+12</td>\n",
       "      <td>10.000000</td>\n",
       "      <td>3.0</td>\n",
       "      <td>2.0</td>\n",
       "      <td>7.000000</td>\n",
       "      <td>5.000000</td>\n",
       "      <td>15.000000</td>\n",
       "    </tr>\n",
       "  </tbody>\n",
       "</table>\n",
       "</div>"
      ],
      "text/plain": [
       "            user_id   fsa_score  variant  condition   who_score  \\\n",
       "count  2.330000e+02  233.000000    233.0      233.0  233.000000   \n",
       "mean   8.011176e+11    6.433476      3.0        2.0    3.103004   \n",
       "std    4.578092e+11    1.419110      0.0        0.0    1.499322   \n",
       "min    6.885896e+09    4.000000      3.0        2.0    1.000000   \n",
       "25%    4.296362e+11    5.000000      3.0        2.0    2.000000   \n",
       "50%    7.797267e+11    6.000000      3.0        2.0    3.000000   \n",
       "75%    1.202506e+12    8.000000      3.0        2.0    4.000000   \n",
       "max    1.613553e+12   10.000000      3.0        2.0    7.000000   \n",
       "\n",
       "       num_nutriscore  combined_score  \n",
       "count      233.000000      233.000000  \n",
       "mean         3.442060        9.875536  \n",
       "std          1.011715        2.290715  \n",
       "min          1.000000        5.000000  \n",
       "25%          3.000000        9.000000  \n",
       "50%          3.000000        9.000000  \n",
       "75%          4.000000       12.000000  \n",
       "max          5.000000       15.000000  "
      ]
     },
     "execution_count": 95,
     "metadata": {},
     "output_type": "execute_result"
    }
   ],
   "source": [
    "# Variant 3: Health ranking\n",
    "anova_df[(anova_df['condition'] == 2)&(anova_df['variant'] == 3)].describe()"
   ]
  },
  {
   "cell_type": "markdown",
   "id": "cognitive-kernel",
   "metadata": {},
   "source": [
    "### Condition 3: No-label FSA for different variants (Popular, random, health)"
   ]
  },
  {
   "cell_type": "code",
   "execution_count": 82,
   "id": "classical-maple",
   "metadata": {},
   "outputs": [
    {
     "data": {
      "text/html": [
       "<div>\n",
       "<style scoped>\n",
       "    .dataframe tbody tr th:only-of-type {\n",
       "        vertical-align: middle;\n",
       "    }\n",
       "\n",
       "    .dataframe tbody tr th {\n",
       "        vertical-align: top;\n",
       "    }\n",
       "\n",
       "    .dataframe thead th {\n",
       "        text-align: right;\n",
       "    }\n",
       "</style>\n",
       "<table border=\"1\" class=\"dataframe\">\n",
       "  <thead>\n",
       "    <tr style=\"text-align: right;\">\n",
       "      <th></th>\n",
       "      <th>user_id</th>\n",
       "      <th>fsa_score</th>\n",
       "      <th>variant</th>\n",
       "      <th>condition</th>\n",
       "      <th>who_score</th>\n",
       "      <th>num_nutriscore</th>\n",
       "      <th>combined_score</th>\n",
       "    </tr>\n",
       "  </thead>\n",
       "  <tbody>\n",
       "    <tr>\n",
       "      <th>count</th>\n",
       "      <td>6.900000e+02</td>\n",
       "      <td>690.000000</td>\n",
       "      <td>690.000000</td>\n",
       "      <td>690.0</td>\n",
       "      <td>690.000000</td>\n",
       "      <td>690.000000</td>\n",
       "      <td>690.000000</td>\n",
       "    </tr>\n",
       "    <tr>\n",
       "      <th>mean</th>\n",
       "      <td>7.899519e+11</td>\n",
       "      <td>6.644928</td>\n",
       "      <td>2.000000</td>\n",
       "      <td>3.0</td>\n",
       "      <td>2.836232</td>\n",
       "      <td>3.572464</td>\n",
       "      <td>10.217391</td>\n",
       "    </tr>\n",
       "    <tr>\n",
       "      <th>std</th>\n",
       "      <td>4.802112e+11</td>\n",
       "      <td>1.377829</td>\n",
       "      <td>0.817089</td>\n",
       "      <td>0.0</td>\n",
       "      <td>1.277524</td>\n",
       "      <td>0.943142</td>\n",
       "      <td>2.153537</td>\n",
       "    </tr>\n",
       "    <tr>\n",
       "      <th>min</th>\n",
       "      <td>3.275450e+09</td>\n",
       "      <td>4.000000</td>\n",
       "      <td>1.000000</td>\n",
       "      <td>3.0</td>\n",
       "      <td>1.000000</td>\n",
       "      <td>1.000000</td>\n",
       "      <td>5.000000</td>\n",
       "    </tr>\n",
       "    <tr>\n",
       "      <th>25%</th>\n",
       "      <td>3.847030e+11</td>\n",
       "      <td>6.000000</td>\n",
       "      <td>1.000000</td>\n",
       "      <td>3.0</td>\n",
       "      <td>2.000000</td>\n",
       "      <td>3.000000</td>\n",
       "      <td>9.000000</td>\n",
       "    </tr>\n",
       "    <tr>\n",
       "      <th>50%</th>\n",
       "      <td>7.791701e+11</td>\n",
       "      <td>6.000000</td>\n",
       "      <td>2.000000</td>\n",
       "      <td>3.0</td>\n",
       "      <td>2.000000</td>\n",
       "      <td>4.000000</td>\n",
       "      <td>10.000000</td>\n",
       "    </tr>\n",
       "    <tr>\n",
       "      <th>75%</th>\n",
       "      <td>1.224616e+12</td>\n",
       "      <td>8.000000</td>\n",
       "      <td>3.000000</td>\n",
       "      <td>3.0</td>\n",
       "      <td>3.000000</td>\n",
       "      <td>4.000000</td>\n",
       "      <td>12.000000</td>\n",
       "    </tr>\n",
       "    <tr>\n",
       "      <th>max</th>\n",
       "      <td>1.614694e+12</td>\n",
       "      <td>10.000000</td>\n",
       "      <td>3.000000</td>\n",
       "      <td>3.0</td>\n",
       "      <td>7.000000</td>\n",
       "      <td>5.000000</td>\n",
       "      <td>15.000000</td>\n",
       "    </tr>\n",
       "  </tbody>\n",
       "</table>\n",
       "</div>"
      ],
      "text/plain": [
       "            user_id   fsa_score     variant  condition   who_score  \\\n",
       "count  6.900000e+02  690.000000  690.000000      690.0  690.000000   \n",
       "mean   7.899519e+11    6.644928    2.000000        3.0    2.836232   \n",
       "std    4.802112e+11    1.377829    0.817089        0.0    1.277524   \n",
       "min    3.275450e+09    4.000000    1.000000        3.0    1.000000   \n",
       "25%    3.847030e+11    6.000000    1.000000        3.0    2.000000   \n",
       "50%    7.791701e+11    6.000000    2.000000        3.0    2.000000   \n",
       "75%    1.224616e+12    8.000000    3.000000        3.0    3.000000   \n",
       "max    1.614694e+12   10.000000    3.000000        3.0    7.000000   \n",
       "\n",
       "       num_nutriscore  combined_score  \n",
       "count      690.000000      690.000000  \n",
       "mean         3.572464       10.217391  \n",
       "std          0.943142        2.153537  \n",
       "min          1.000000        5.000000  \n",
       "25%          3.000000        9.000000  \n",
       "50%          4.000000       10.000000  \n",
       "75%          4.000000       12.000000  \n",
       "max          5.000000       15.000000  "
      ]
     },
     "execution_count": 82,
     "metadata": {},
     "output_type": "execute_result"
    }
   ],
   "source": [
    "anova_df.loc[anova_df['condition'] == 3].describe()"
   ]
  },
  {
   "cell_type": "code",
   "execution_count": 94,
   "id": "static-valley",
   "metadata": {},
   "outputs": [
    {
     "data": {
      "text/html": [
       "<div>\n",
       "<style scoped>\n",
       "    .dataframe tbody tr th:only-of-type {\n",
       "        vertical-align: middle;\n",
       "    }\n",
       "\n",
       "    .dataframe tbody tr th {\n",
       "        vertical-align: top;\n",
       "    }\n",
       "\n",
       "    .dataframe thead th {\n",
       "        text-align: right;\n",
       "    }\n",
       "</style>\n",
       "<table border=\"1\" class=\"dataframe\">\n",
       "  <thead>\n",
       "    <tr style=\"text-align: right;\">\n",
       "      <th></th>\n",
       "      <th>user_id</th>\n",
       "      <th>fsa_score</th>\n",
       "      <th>variant</th>\n",
       "      <th>condition</th>\n",
       "      <th>who_score</th>\n",
       "      <th>num_nutriscore</th>\n",
       "      <th>combined_score</th>\n",
       "    </tr>\n",
       "  </thead>\n",
       "  <tbody>\n",
       "    <tr>\n",
       "      <th>count</th>\n",
       "      <td>2.300000e+02</td>\n",
       "      <td>230.000000</td>\n",
       "      <td>230.0</td>\n",
       "      <td>230.0</td>\n",
       "      <td>230.000000</td>\n",
       "      <td>230.000000</td>\n",
       "      <td>230.000000</td>\n",
       "    </tr>\n",
       "    <tr>\n",
       "      <th>mean</th>\n",
       "      <td>7.899519e+11</td>\n",
       "      <td>6.630435</td>\n",
       "      <td>1.0</td>\n",
       "      <td>3.0</td>\n",
       "      <td>2.908696</td>\n",
       "      <td>3.473913</td>\n",
       "      <td>10.104348</td>\n",
       "    </tr>\n",
       "    <tr>\n",
       "      <th>std</th>\n",
       "      <td>4.809097e+11</td>\n",
       "      <td>1.419741</td>\n",
       "      <td>0.0</td>\n",
       "      <td>0.0</td>\n",
       "      <td>1.365646</td>\n",
       "      <td>1.022335</td>\n",
       "      <td>2.254056</td>\n",
       "    </tr>\n",
       "    <tr>\n",
       "      <th>min</th>\n",
       "      <td>3.275450e+09</td>\n",
       "      <td>4.000000</td>\n",
       "      <td>1.0</td>\n",
       "      <td>3.0</td>\n",
       "      <td>1.000000</td>\n",
       "      <td>1.000000</td>\n",
       "      <td>5.000000</td>\n",
       "    </tr>\n",
       "    <tr>\n",
       "      <th>25%</th>\n",
       "      <td>3.859921e+11</td>\n",
       "      <td>6.000000</td>\n",
       "      <td>1.0</td>\n",
       "      <td>3.0</td>\n",
       "      <td>2.000000</td>\n",
       "      <td>3.000000</td>\n",
       "      <td>9.000000</td>\n",
       "    </tr>\n",
       "    <tr>\n",
       "      <th>50%</th>\n",
       "      <td>7.791701e+11</td>\n",
       "      <td>6.000000</td>\n",
       "      <td>1.0</td>\n",
       "      <td>3.0</td>\n",
       "      <td>2.000000</td>\n",
       "      <td>4.000000</td>\n",
       "      <td>9.000000</td>\n",
       "    </tr>\n",
       "    <tr>\n",
       "      <th>75%</th>\n",
       "      <td>1.223061e+12</td>\n",
       "      <td>8.000000</td>\n",
       "      <td>1.0</td>\n",
       "      <td>3.0</td>\n",
       "      <td>3.000000</td>\n",
       "      <td>4.000000</td>\n",
       "      <td>12.000000</td>\n",
       "    </tr>\n",
       "    <tr>\n",
       "      <th>max</th>\n",
       "      <td>1.614694e+12</td>\n",
       "      <td>10.000000</td>\n",
       "      <td>1.0</td>\n",
       "      <td>3.0</td>\n",
       "      <td>7.000000</td>\n",
       "      <td>5.000000</td>\n",
       "      <td>15.000000</td>\n",
       "    </tr>\n",
       "  </tbody>\n",
       "</table>\n",
       "</div>"
      ],
      "text/plain": [
       "            user_id   fsa_score  variant  condition   who_score  \\\n",
       "count  2.300000e+02  230.000000    230.0      230.0  230.000000   \n",
       "mean   7.899519e+11    6.630435      1.0        3.0    2.908696   \n",
       "std    4.809097e+11    1.419741      0.0        0.0    1.365646   \n",
       "min    3.275450e+09    4.000000      1.0        3.0    1.000000   \n",
       "25%    3.859921e+11    6.000000      1.0        3.0    2.000000   \n",
       "50%    7.791701e+11    6.000000      1.0        3.0    2.000000   \n",
       "75%    1.223061e+12    8.000000      1.0        3.0    3.000000   \n",
       "max    1.614694e+12   10.000000      1.0        3.0    7.000000   \n",
       "\n",
       "       num_nutriscore  combined_score  \n",
       "count      230.000000      230.000000  \n",
       "mean         3.473913       10.104348  \n",
       "std          1.022335        2.254056  \n",
       "min          1.000000        5.000000  \n",
       "25%          3.000000        9.000000  \n",
       "50%          4.000000        9.000000  \n",
       "75%          4.000000       12.000000  \n",
       "max          5.000000       15.000000  "
      ]
     },
     "execution_count": 94,
     "metadata": {},
     "output_type": "execute_result"
    }
   ],
   "source": [
    "# Variant 1: Popular ranking\n",
    "anova_df[(anova_df['condition'] == 3)&(anova_df['variant'] == 1)].describe()"
   ]
  },
  {
   "cell_type": "code",
   "execution_count": 93,
   "id": "overall-shaft",
   "metadata": {},
   "outputs": [
    {
     "data": {
      "text/html": [
       "<div>\n",
       "<style scoped>\n",
       "    .dataframe tbody tr th:only-of-type {\n",
       "        vertical-align: middle;\n",
       "    }\n",
       "\n",
       "    .dataframe tbody tr th {\n",
       "        vertical-align: top;\n",
       "    }\n",
       "\n",
       "    .dataframe thead th {\n",
       "        text-align: right;\n",
       "    }\n",
       "</style>\n",
       "<table border=\"1\" class=\"dataframe\">\n",
       "  <thead>\n",
       "    <tr style=\"text-align: right;\">\n",
       "      <th></th>\n",
       "      <th>user_id</th>\n",
       "      <th>fsa_score</th>\n",
       "      <th>variant</th>\n",
       "      <th>condition</th>\n",
       "      <th>who_score</th>\n",
       "      <th>num_nutriscore</th>\n",
       "      <th>combined_score</th>\n",
       "    </tr>\n",
       "  </thead>\n",
       "  <tbody>\n",
       "    <tr>\n",
       "      <th>count</th>\n",
       "      <td>2.300000e+02</td>\n",
       "      <td>230.00000</td>\n",
       "      <td>230.0</td>\n",
       "      <td>230.0</td>\n",
       "      <td>230.000000</td>\n",
       "      <td>230.000000</td>\n",
       "      <td>230.000000</td>\n",
       "    </tr>\n",
       "    <tr>\n",
       "      <th>mean</th>\n",
       "      <td>7.899519e+11</td>\n",
       "      <td>6.56087</td>\n",
       "      <td>2.0</td>\n",
       "      <td>3.0</td>\n",
       "      <td>2.800000</td>\n",
       "      <td>3.634783</td>\n",
       "      <td>10.195652</td>\n",
       "    </tr>\n",
       "    <tr>\n",
       "      <th>std</th>\n",
       "      <td>4.809097e+11</td>\n",
       "      <td>1.34886</td>\n",
       "      <td>0.0</td>\n",
       "      <td>0.0</td>\n",
       "      <td>1.201891</td>\n",
       "      <td>0.844509</td>\n",
       "      <td>2.049812</td>\n",
       "    </tr>\n",
       "    <tr>\n",
       "      <th>min</th>\n",
       "      <td>3.275450e+09</td>\n",
       "      <td>4.00000</td>\n",
       "      <td>2.0</td>\n",
       "      <td>3.0</td>\n",
       "      <td>1.000000</td>\n",
       "      <td>1.000000</td>\n",
       "      <td>5.000000</td>\n",
       "    </tr>\n",
       "    <tr>\n",
       "      <th>25%</th>\n",
       "      <td>3.859921e+11</td>\n",
       "      <td>6.00000</td>\n",
       "      <td>2.0</td>\n",
       "      <td>3.0</td>\n",
       "      <td>2.000000</td>\n",
       "      <td>3.000000</td>\n",
       "      <td>9.000000</td>\n",
       "    </tr>\n",
       "    <tr>\n",
       "      <th>50%</th>\n",
       "      <td>7.791701e+11</td>\n",
       "      <td>6.00000</td>\n",
       "      <td>2.0</td>\n",
       "      <td>3.0</td>\n",
       "      <td>2.000000</td>\n",
       "      <td>4.000000</td>\n",
       "      <td>9.000000</td>\n",
       "    </tr>\n",
       "    <tr>\n",
       "      <th>75%</th>\n",
       "      <td>1.223061e+12</td>\n",
       "      <td>8.00000</td>\n",
       "      <td>2.0</td>\n",
       "      <td>3.0</td>\n",
       "      <td>3.000000</td>\n",
       "      <td>4.000000</td>\n",
       "      <td>12.000000</td>\n",
       "    </tr>\n",
       "    <tr>\n",
       "      <th>max</th>\n",
       "      <td>1.614694e+12</td>\n",
       "      <td>10.00000</td>\n",
       "      <td>2.0</td>\n",
       "      <td>3.0</td>\n",
       "      <td>6.000000</td>\n",
       "      <td>5.000000</td>\n",
       "      <td>15.000000</td>\n",
       "    </tr>\n",
       "  </tbody>\n",
       "</table>\n",
       "</div>"
      ],
      "text/plain": [
       "            user_id  fsa_score  variant  condition   who_score  \\\n",
       "count  2.300000e+02  230.00000    230.0      230.0  230.000000   \n",
       "mean   7.899519e+11    6.56087      2.0        3.0    2.800000   \n",
       "std    4.809097e+11    1.34886      0.0        0.0    1.201891   \n",
       "min    3.275450e+09    4.00000      2.0        3.0    1.000000   \n",
       "25%    3.859921e+11    6.00000      2.0        3.0    2.000000   \n",
       "50%    7.791701e+11    6.00000      2.0        3.0    2.000000   \n",
       "75%    1.223061e+12    8.00000      2.0        3.0    3.000000   \n",
       "max    1.614694e+12   10.00000      2.0        3.0    6.000000   \n",
       "\n",
       "       num_nutriscore  combined_score  \n",
       "count      230.000000      230.000000  \n",
       "mean         3.634783       10.195652  \n",
       "std          0.844509        2.049812  \n",
       "min          1.000000        5.000000  \n",
       "25%          3.000000        9.000000  \n",
       "50%          4.000000        9.000000  \n",
       "75%          4.000000       12.000000  \n",
       "max          5.000000       15.000000  "
      ]
     },
     "execution_count": 93,
     "metadata": {},
     "output_type": "execute_result"
    }
   ],
   "source": [
    "# Variant 2: Random ranking\n",
    "anova_df[(anova_df['condition'] == 3)&(anova_df['variant'] == 2)].describe()"
   ]
  },
  {
   "cell_type": "code",
   "execution_count": 92,
   "id": "certified-findings",
   "metadata": {},
   "outputs": [
    {
     "data": {
      "text/html": [
       "<div>\n",
       "<style scoped>\n",
       "    .dataframe tbody tr th:only-of-type {\n",
       "        vertical-align: middle;\n",
       "    }\n",
       "\n",
       "    .dataframe tbody tr th {\n",
       "        vertical-align: top;\n",
       "    }\n",
       "\n",
       "    .dataframe thead th {\n",
       "        text-align: right;\n",
       "    }\n",
       "</style>\n",
       "<table border=\"1\" class=\"dataframe\">\n",
       "  <thead>\n",
       "    <tr style=\"text-align: right;\">\n",
       "      <th></th>\n",
       "      <th>user_id</th>\n",
       "      <th>fsa_score</th>\n",
       "      <th>variant</th>\n",
       "      <th>condition</th>\n",
       "      <th>who_score</th>\n",
       "      <th>num_nutriscore</th>\n",
       "      <th>combined_score</th>\n",
       "    </tr>\n",
       "  </thead>\n",
       "  <tbody>\n",
       "    <tr>\n",
       "      <th>count</th>\n",
       "      <td>2.300000e+02</td>\n",
       "      <td>230.000000</td>\n",
       "      <td>230.0</td>\n",
       "      <td>230.0</td>\n",
       "      <td>230.000000</td>\n",
       "      <td>230.000000</td>\n",
       "      <td>230.000000</td>\n",
       "    </tr>\n",
       "    <tr>\n",
       "      <th>mean</th>\n",
       "      <td>7.899519e+11</td>\n",
       "      <td>6.743478</td>\n",
       "      <td>3.0</td>\n",
       "      <td>3.0</td>\n",
       "      <td>2.800000</td>\n",
       "      <td>3.608696</td>\n",
       "      <td>10.352174</td>\n",
       "    </tr>\n",
       "    <tr>\n",
       "      <th>std</th>\n",
       "      <td>4.809097e+11</td>\n",
       "      <td>1.363698</td>\n",
       "      <td>0.0</td>\n",
       "      <td>0.0</td>\n",
       "      <td>1.262146</td>\n",
       "      <td>0.950253</td>\n",
       "      <td>2.153979</td>\n",
       "    </tr>\n",
       "    <tr>\n",
       "      <th>min</th>\n",
       "      <td>3.275450e+09</td>\n",
       "      <td>4.000000</td>\n",
       "      <td>3.0</td>\n",
       "      <td>3.0</td>\n",
       "      <td>1.000000</td>\n",
       "      <td>1.000000</td>\n",
       "      <td>6.000000</td>\n",
       "    </tr>\n",
       "    <tr>\n",
       "      <th>25%</th>\n",
       "      <td>3.859921e+11</td>\n",
       "      <td>6.000000</td>\n",
       "      <td>3.0</td>\n",
       "      <td>3.0</td>\n",
       "      <td>2.000000</td>\n",
       "      <td>3.000000</td>\n",
       "      <td>9.000000</td>\n",
       "    </tr>\n",
       "    <tr>\n",
       "      <th>50%</th>\n",
       "      <td>7.791701e+11</td>\n",
       "      <td>7.000000</td>\n",
       "      <td>3.0</td>\n",
       "      <td>3.0</td>\n",
       "      <td>2.000000</td>\n",
       "      <td>4.000000</td>\n",
       "      <td>10.000000</td>\n",
       "    </tr>\n",
       "    <tr>\n",
       "      <th>75%</th>\n",
       "      <td>1.223061e+12</td>\n",
       "      <td>8.000000</td>\n",
       "      <td>3.0</td>\n",
       "      <td>3.0</td>\n",
       "      <td>3.000000</td>\n",
       "      <td>4.000000</td>\n",
       "      <td>12.000000</td>\n",
       "    </tr>\n",
       "    <tr>\n",
       "      <th>max</th>\n",
       "      <td>1.614694e+12</td>\n",
       "      <td>10.000000</td>\n",
       "      <td>3.0</td>\n",
       "      <td>3.0</td>\n",
       "      <td>7.000000</td>\n",
       "      <td>5.000000</td>\n",
       "      <td>15.000000</td>\n",
       "    </tr>\n",
       "  </tbody>\n",
       "</table>\n",
       "</div>"
      ],
      "text/plain": [
       "            user_id   fsa_score  variant  condition   who_score  \\\n",
       "count  2.300000e+02  230.000000    230.0      230.0  230.000000   \n",
       "mean   7.899519e+11    6.743478      3.0        3.0    2.800000   \n",
       "std    4.809097e+11    1.363698      0.0        0.0    1.262146   \n",
       "min    3.275450e+09    4.000000      3.0        3.0    1.000000   \n",
       "25%    3.859921e+11    6.000000      3.0        3.0    2.000000   \n",
       "50%    7.791701e+11    7.000000      3.0        3.0    2.000000   \n",
       "75%    1.223061e+12    8.000000      3.0        3.0    3.000000   \n",
       "max    1.614694e+12   10.000000      3.0        3.0    7.000000   \n",
       "\n",
       "       num_nutriscore  combined_score  \n",
       "count      230.000000      230.000000  \n",
       "mean         3.608696       10.352174  \n",
       "std          0.950253        2.153979  \n",
       "min          1.000000        6.000000  \n",
       "25%          3.000000        9.000000  \n",
       "50%          4.000000       10.000000  \n",
       "75%          4.000000       12.000000  \n",
       "max          5.000000       15.000000  "
      ]
     },
     "execution_count": 92,
     "metadata": {},
     "output_type": "execute_result"
    }
   ],
   "source": [
    "# Variant 3: Health ranking\n",
    "anova_df[(anova_df['condition'] == 3)&(anova_df['variant'] == 3)].describe()"
   ]
  },
  {
   "cell_type": "code",
   "execution_count": 67,
   "id": "quiet-resolution",
   "metadata": {},
   "outputs": [
    {
     "data": {
      "text/plain": [
       "<matplotlib.lines.Line2D at 0x1769487d3c8>"
      ]
     },
     "execution_count": 67,
     "metadata": {},
     "output_type": "execute_result"
    },
    {
     "data": {
      "image/png": "[encoded data removed]",
      "text/plain": [
       "<Figure size 1440x720 with 1 Axes>"
      ]
     },
     "metadata": {},
     "output_type": "display_data"
    }
   ],
   "source": [
    "# Compare all conditions --> Plot FSA score distribution \n",
    "plt.figure()\n",
    "ax1 = sns.distplot(s1_fsa)\n",
    "ax2 = sns.distplot(s2_fsa)\n",
    "ax3 = sns.distplot(s3_fsa)\n",
    "plt.axvline(np.mean(s1_fsa), color='blue', linestyle='dashed', linewidth=5)    # Nutri-score\n",
    "plt.axvline(np.mean(s2_fsa), color='orange', linestyle='dashed', linewidth=5)  # MTL\n",
    "plt.axvline(np.mean(s3_fsa), color='green', linestyle='dashed', linewidth=5)   # No-label"
   ]
  },
  {
   "cell_type": "markdown",
   "id": "operating-pakistan",
   "metadata": {},
   "source": [
    "* In the MTL condition participants choose the healthiest recipes overall \n",
    "* As expected participants in the No-label condition choose the least healthy recipes"
   ]
  },
  {
   "cell_type": "code",
   "execution_count": 434,
   "id": "generic-imagination",
   "metadata": {},
   "outputs": [
    {
     "data": {
      "text/plain": [
       "0       6\n",
       "1       6\n",
       "2       6\n",
       "3       6\n",
       "4       6\n",
       "       ..\n",
       "702    10\n",
       "703    10\n",
       "704    10\n",
       "705    10\n",
       "707    10\n",
       "Name: fsa_score, Length: 2082, dtype: int64"
      ]
     },
     "execution_count": 434,
     "metadata": {},
     "output_type": "execute_result"
    }
   ],
   "source": [
    "anova_df['fsa_score']"
   ]
  },
  {
   "cell_type": "code",
   "execution_count": 427,
   "id": "sorted-model",
   "metadata": {},
   "outputs": [
    {
     "data": {
      "image/png": "[encoded data removed]",
      "text/plain": [
       "<Figure size 1440x720 with 1 Axes>"
      ]
     },
     "metadata": {},
     "output_type": "display_data"
    }
   ],
   "source": [
    "sns.pointplot(data=anova_df, x='Rank', y='fsa_score', hue='Label', dodge=True, capsize=.1, ci=61)\n",
    "#plt.ylim(1, 7)\n",
    "_ = plt.title('FSA scores for different variants')"
   ]
  },
  {
   "cell_type": "code",
   "execution_count": 430,
   "id": "optimum-latvia",
   "metadata": {},
   "outputs": [
    {
     "ename": "SyntaxError",
     "evalue": "positional argument follows keyword argument (<ipython-input-430-8353999d73f3>, line 6)",
     "output_type": "error",
     "traceback": [
      "\u001b[1;36m  File \u001b[1;32m\"<ipython-input-430-8353999d73f3>\"\u001b[1;36m, line \u001b[1;32m6\u001b[0m\n\u001b[1;33m    plt.errorbar(x='Rank', y='fsa_score', e, linestyle='None', marker='^')\u001b[0m\n\u001b[1;37m                                         ^\u001b[0m\n\u001b[1;31mSyntaxError\u001b[0m\u001b[1;31m:\u001b[0m positional argument follows keyword argument\n"
     ]
    }
   ],
   "source": [
    "# Calculate the standard error of \n",
    "# the mean of all the rows in dataframe\n",
    "df_sem = df_anova[['Label','Rank', 'fsa_score']]\n",
    "e = df_sem.sem(axis = 1, skipna = False)\n",
    "x = df\n",
    "plt.errorbar(x='Rank', y='fsa_score', e, linestyle='None', marker='^')\n",
    "\n",
    "plt.show()"
   ]
  },
  {
   "cell_type": "code",
   "execution_count": 47,
   "id": "daily-missile",
   "metadata": {},
   "outputs": [
    {
     "data": {
      "image/png": "[encoded data removed]",
      "text/plain": [
       "<Figure size 1440x720 with 1 Axes>"
      ]
     },
     "metadata": {},
     "output_type": "display_data"
    }
   ],
   "source": [
    "sns.pointplot(data=anova_df, x='Rank', y='who_score', hue='Label', dodge=True, capsize=.1, ci='sd')\n",
    "_ = plt.title('WHO scores for different variants')"
   ]
  },
  {
   "cell_type": "code",
   "execution_count": 51,
   "id": "employed-lingerie",
   "metadata": {},
   "outputs": [
    {
     "data": {
      "image/png": "[encoded data removed]",
      "text/plain": [
       "<Figure size 1440x720 with 1 Axes>"
      ]
     },
     "metadata": {},
     "output_type": "display_data"
    }
   ],
   "source": [
    "# NUMERIC NUTRISCORE: 1 = A, 5 = E\n",
    "sns.pointplot(data=anova_df, x='Rank', y='num_nutriscore', hue='Label', dodge=True, capsize=.1, ci='sd')\n",
    "_ = plt.title('Nutriscore scores for different variants')"
   ]
  },
  {
   "cell_type": "code",
   "execution_count": 425,
   "id": "opposed-campbell",
   "metadata": {},
   "outputs": [
    {
     "data": {
      "image/png": "[encoded data removed]",
      "text/plain": [
       "<Figure size 1440x720 with 1 Axes>"
      ]
     },
     "metadata": {},
     "output_type": "display_data"
    }
   ],
   "source": [
    "# Combine nutriscore and FSA score  NUTRISCORE: 1 = A, 5 = E\n",
    "anova_df[\"combined_score\"] = anova_df[\"num_nutriscore\"] + anova_df[\"fsa_score\"]\n",
    "\n",
    "sns.pointplot(data=anova_df, x='Rank', y='combined_score', hue='Label', dodge=True, capsize=.1)\n",
    "_ = plt.title('Nutriscore scores for different variants')"
   ]
  },
  {
   "cell_type": "markdown",
   "id": "ordered-mayor",
   "metadata": {},
   "source": [
    "* "
   ]
  },
  {
   "cell_type": "markdown",
   "id": "figured-registration",
   "metadata": {},
   "source": [
    "# RQ1: To what extent can front-of-pack nutrition labels be used to nudge users towards healthier recipes online? \n",
    "Summary of findings: \n",
    "1. Labels work \n",
    "2. MTL is the superior label as compared to Nutriscore in Popular, Health and Random ranking scenarios. \n",
    "3. No significant difference when comparing Americans and Europeans with regards to different variants"
   ]
  },
  {
   "cell_type": "markdown",
   "id": "incorrect-diagram",
   "metadata": {},
   "source": [
    "## Two-way mixed ANOVA"
   ]
  },
  {
   "cell_type": "code",
   "execution_count": 323,
   "id": "directed-inspector",
   "metadata": {},
   "outputs": [
    {
     "data": {
      "text/html": [
       "<div>\n",
       "<style scoped>\n",
       "    .dataframe tbody tr th:only-of-type {\n",
       "        vertical-align: middle;\n",
       "    }\n",
       "\n",
       "    .dataframe tbody tr th {\n",
       "        vertical-align: top;\n",
       "    }\n",
       "\n",
       "    .dataframe thead th {\n",
       "        text-align: right;\n",
       "    }\n",
       "</style>\n",
       "<table border=\"1\" class=\"dataframe\">\n",
       "  <thead>\n",
       "    <tr style=\"text-align: right;\">\n",
       "      <th></th>\n",
       "      <th>Source</th>\n",
       "      <th>SS</th>\n",
       "      <th>DF1</th>\n",
       "      <th>DF2</th>\n",
       "      <th>MS</th>\n",
       "      <th>F</th>\n",
       "      <th>p-unc</th>\n",
       "      <th>np2</th>\n",
       "      <th>eps</th>\n",
       "    </tr>\n",
       "  </thead>\n",
       "  <tbody>\n",
       "    <tr>\n",
       "      <th>0</th>\n",
       "      <td>Label</td>\n",
       "      <td>30.719553</td>\n",
       "      <td>2</td>\n",
       "      <td>691</td>\n",
       "      <td>15.359776</td>\n",
       "      <td>8.280076</td>\n",
       "      <td>0.000280</td>\n",
       "      <td>0.023405</td>\n",
       "      <td>NaN</td>\n",
       "    </tr>\n",
       "    <tr>\n",
       "      <th>1</th>\n",
       "      <td>Rank</td>\n",
       "      <td>5.844380</td>\n",
       "      <td>2</td>\n",
       "      <td>1382</td>\n",
       "      <td>2.922190</td>\n",
       "      <td>1.566750</td>\n",
       "      <td>0.209093</td>\n",
       "      <td>0.002262</td>\n",
       "      <td>0.998024</td>\n",
       "    </tr>\n",
       "    <tr>\n",
       "      <th>2</th>\n",
       "      <td>Interaction</td>\n",
       "      <td>1.880961</td>\n",
       "      <td>4</td>\n",
       "      <td>1382</td>\n",
       "      <td>0.470240</td>\n",
       "      <td>0.252122</td>\n",
       "      <td>0.908451</td>\n",
       "      <td>0.000729</td>\n",
       "      <td>NaN</td>\n",
       "    </tr>\n",
       "  </tbody>\n",
       "</table>\n",
       "</div>"
      ],
      "text/plain": [
       "        Source         SS  DF1   DF2         MS         F     p-unc       np2  \\\n",
       "0        Label  30.719553    2   691  15.359776  8.280076  0.000280  0.023405   \n",
       "1         Rank   5.844380    2  1382   2.922190  1.566750  0.209093  0.002262   \n",
       "2  Interaction   1.880961    4  1382   0.470240  0.252122  0.908451  0.000729   \n",
       "\n",
       "        eps  \n",
       "0       NaN  \n",
       "1  0.998024  \n",
       "2       NaN  "
      ]
     },
     "execution_count": 323,
     "metadata": {},
     "output_type": "execute_result"
    }
   ],
   "source": [
    "aov = pg.mixed_anova(dv='fsa_score', between='Label', within='Rank', subject='user_id', data=anova_df)\n",
    "aov"
   ]
  },
  {
   "cell_type": "markdown",
   "id": "contemporary-defeat",
   "metadata": {},
   "source": [
    "* Since the p-values for label is less than .05, this means that label have a statistically significant effect on FSA score. The p-value for ranking is greater than .05, and ranking does not have a statistically significant effect on FSA score. \n",
    "\n",
    "* And since the p-value for the interaction effect (.908451) is not less than .05, this tells us that there is no significant interaction effect between label and ranking. "
   ]
  },
  {
   "cell_type": "code",
   "execution_count": 422,
   "id": "frank-hunter",
   "metadata": {},
   "outputs": [
    {
     "data": {
      "text/plain": [
       "694"
      ]
     },
     "execution_count": 422,
     "metadata": {},
     "output_type": "execute_result"
    }
   ],
   "source": [
    "len(anova_df['user_id'].unique())"
   ]
  },
  {
   "cell_type": "code",
   "execution_count": 450,
   "id": "artificial-tutorial",
   "metadata": {},
   "outputs": [
    {
     "data": {
      "text/html": [
       "<div>\n",
       "<style scoped>\n",
       "    .dataframe tbody tr th:only-of-type {\n",
       "        vertical-align: middle;\n",
       "    }\n",
       "\n",
       "    .dataframe tbody tr th {\n",
       "        vertical-align: top;\n",
       "    }\n",
       "\n",
       "    .dataframe thead th {\n",
       "        text-align: right;\n",
       "    }\n",
       "</style>\n",
       "<table border=\"1\" class=\"dataframe\">\n",
       "  <thead>\n",
       "    <tr style=\"text-align: right;\">\n",
       "      <th></th>\n",
       "      <th>Source</th>\n",
       "      <th>SS</th>\n",
       "      <th>DF1</th>\n",
       "      <th>DF2</th>\n",
       "      <th>MS</th>\n",
       "      <th>F</th>\n",
       "      <th>p-unc</th>\n",
       "      <th>p-GG-corr</th>\n",
       "      <th>np2</th>\n",
       "      <th>eps</th>\n",
       "      <th>sphericity</th>\n",
       "      <th>W-spher</th>\n",
       "      <th>p-spher</th>\n",
       "    </tr>\n",
       "  </thead>\n",
       "  <tbody>\n",
       "    <tr>\n",
       "      <th>0</th>\n",
       "      <td>Label</td>\n",
       "      <td>46.143310</td>\n",
       "      <td>2</td>\n",
       "      <td>691</td>\n",
       "      <td>23.071655</td>\n",
       "      <td>11.604756</td>\n",
       "      <td>0.000011</td>\n",
       "      <td>NaN</td>\n",
       "      <td>0.032497</td>\n",
       "      <td>NaN</td>\n",
       "      <td>NaN</td>\n",
       "      <td>NaN</td>\n",
       "      <td>NaN</td>\n",
       "    </tr>\n",
       "    <tr>\n",
       "      <th>1</th>\n",
       "      <td>Rank</td>\n",
       "      <td>7.983670</td>\n",
       "      <td>2</td>\n",
       "      <td>1382</td>\n",
       "      <td>3.991835</td>\n",
       "      <td>1.749433</td>\n",
       "      <td>0.174257</td>\n",
       "      <td>0.174037</td>\n",
       "      <td>0.002525</td>\n",
       "      <td>0.988983</td>\n",
       "      <td>False</td>\n",
       "      <td>0.98886</td>\n",
       "      <td>0.020732</td>\n",
       "    </tr>\n",
       "    <tr>\n",
       "      <th>2</th>\n",
       "      <td>Interaction</td>\n",
       "      <td>2.584838</td>\n",
       "      <td>4</td>\n",
       "      <td>1382</td>\n",
       "      <td>0.646209</td>\n",
       "      <td>0.283203</td>\n",
       "      <td>0.888975</td>\n",
       "      <td>NaN</td>\n",
       "      <td>0.000819</td>\n",
       "      <td>NaN</td>\n",
       "      <td>NaN</td>\n",
       "      <td>NaN</td>\n",
       "      <td>NaN</td>\n",
       "    </tr>\n",
       "  </tbody>\n",
       "</table>\n",
       "</div>"
      ],
      "text/plain": [
       "        Source         SS  DF1   DF2         MS          F     p-unc  \\\n",
       "0        Label  46.143310    2   691  23.071655  11.604756  0.000011   \n",
       "1         Rank   7.983670    2  1382   3.991835   1.749433  0.174257   \n",
       "2  Interaction   2.584838    4  1382   0.646209   0.283203  0.888975   \n",
       "\n",
       "   p-GG-corr       np2       eps sphericity  W-spher   p-spher  \n",
       "0        NaN  0.032497       NaN        NaN      NaN       NaN  \n",
       "1   0.174037  0.002525  0.988983      False  0.98886  0.020732  \n",
       "2        NaN  0.000819       NaN        NaN      NaN       NaN  "
      ]
     },
     "execution_count": 450,
     "metadata": {},
     "output_type": "execute_result"
    }
   ],
   "source": [
    "aov = pg.mixed_anova(dv='who_score', between='Label', within='Rank', subject='user_id', data=anova_df)\n",
    "aov"
   ]
  },
  {
   "cell_type": "markdown",
   "id": "faced-murder",
   "metadata": {},
   "source": [
    "# One-way ANOVA (compare conditions - between variable)\n",
    "* The one-way ANOVA tests the null hypothesis that two or more groups have the same population mean. The test is applied to samples from two or more groups, possibly with differing sizes.\n",
    "* https://docs.scipy.org/doc/scipy/reference/generated/scipy.stats.f_oneway.html\n",
    "\n",
    "\n",
    "* We used one-way ANOVA to determine if there is a difference in FSA score between the different conditions. This can be interpreted as which condition made it easiest for the participant to make the healthiest choices. \n",
    "* FSA score = dependent variable"
   ]
  },
  {
   "cell_type": "code",
   "execution_count": 400,
   "id": "rocky-criticism",
   "metadata": {},
   "outputs": [
    {
     "data": {
      "text/html": [
       "<div>\n",
       "<style scoped>\n",
       "    .dataframe tbody tr th:only-of-type {\n",
       "        vertical-align: middle;\n",
       "    }\n",
       "\n",
       "    .dataframe tbody tr th {\n",
       "        vertical-align: top;\n",
       "    }\n",
       "\n",
       "    .dataframe thead th {\n",
       "        text-align: right;\n",
       "    }\n",
       "</style>\n",
       "<table border=\"1\" class=\"dataframe\">\n",
       "  <thead>\n",
       "    <tr style=\"text-align: right;\">\n",
       "      <th></th>\n",
       "      <th>W</th>\n",
       "      <th>pval</th>\n",
       "      <th>equal_var</th>\n",
       "    </tr>\n",
       "  </thead>\n",
       "  <tbody>\n",
       "    <tr>\n",
       "      <th>levene</th>\n",
       "      <td>2.529177</td>\n",
       "      <td>0.07997</td>\n",
       "      <td>True</td>\n",
       "    </tr>\n",
       "  </tbody>\n",
       "</table>\n",
       "</div>"
      ],
      "text/plain": [
       "               W     pval  equal_var\n",
       "levene  2.529177  0.07997       True"
      ]
     },
     "execution_count": 400,
     "metadata": {},
     "output_type": "execute_result"
    }
   ],
   "source": [
    "# 1. This is a between subject design, so the first step is to test for equality of variances\n",
    "pg.homoscedasticity(data=anova_df, dv='fsa_score', group='condition')"
   ]
  },
  {
   "cell_type": "code",
   "execution_count": 403,
   "id": "statistical-addiction",
   "metadata": {},
   "outputs": [
    {
     "data": {
      "text/html": [
       "<div>\n",
       "<style scoped>\n",
       "    .dataframe tbody tr th:only-of-type {\n",
       "        vertical-align: middle;\n",
       "    }\n",
       "\n",
       "    .dataframe tbody tr th {\n",
       "        vertical-align: top;\n",
       "    }\n",
       "\n",
       "    .dataframe thead th {\n",
       "        text-align: right;\n",
       "    }\n",
       "</style>\n",
       "<table border=\"1\" class=\"dataframe\">\n",
       "  <thead>\n",
       "    <tr style=\"text-align: right;\">\n",
       "      <th></th>\n",
       "      <th>Source</th>\n",
       "      <th>ddof1</th>\n",
       "      <th>ddof2</th>\n",
       "      <th>F</th>\n",
       "      <th>p-unc</th>\n",
       "      <th>np2</th>\n",
       "    </tr>\n",
       "  </thead>\n",
       "  <tbody>\n",
       "    <tr>\n",
       "      <th>0</th>\n",
       "      <td>variant</td>\n",
       "      <td>2</td>\n",
       "      <td>2079</td>\n",
       "      <td>1.560941</td>\n",
       "      <td>0.210184</td>\n",
       "      <td>0.001499</td>\n",
       "    </tr>\n",
       "  </tbody>\n",
       "</table>\n",
       "</div>"
      ],
      "text/plain": [
       "    Source  ddof1  ddof2         F     p-unc       np2\n",
       "0  variant      2   2079  1.560941  0.210184  0.001499"
      ]
     },
     "execution_count": 403,
     "metadata": {},
     "output_type": "execute_result"
    }
   ],
   "source": [
    "# 2. If the groups have equal variances, we can use a regular one-way ANOVA\n",
    "pg.anova(data=anova_df, dv='fsa_score', between='variant')"
   ]
  },
  {
   "cell_type": "code",
   "execution_count": null,
   "id": "annoying-serum",
   "metadata": {},
   "outputs": [],
   "source": []
  },
  {
   "cell_type": "code",
   "execution_count": 402,
   "id": "roman-consideration",
   "metadata": {},
   "outputs": [
    {
     "data": {
      "text/html": [
       "<div>\n",
       "<style scoped>\n",
       "    .dataframe tbody tr th:only-of-type {\n",
       "        vertical-align: middle;\n",
       "    }\n",
       "\n",
       "    .dataframe tbody tr th {\n",
       "        vertical-align: top;\n",
       "    }\n",
       "\n",
       "    .dataframe thead th {\n",
       "        text-align: right;\n",
       "    }\n",
       "</style>\n",
       "<table border=\"1\" class=\"dataframe\">\n",
       "  <thead>\n",
       "    <tr style=\"text-align: right;\">\n",
       "      <th></th>\n",
       "      <th>Source</th>\n",
       "      <th>ddof1</th>\n",
       "      <th>ddof2</th>\n",
       "      <th>F</th>\n",
       "      <th>p-unc</th>\n",
       "      <th>np2</th>\n",
       "    </tr>\n",
       "  </thead>\n",
       "  <tbody>\n",
       "    <tr>\n",
       "      <th>0</th>\n",
       "      <td>variant</td>\n",
       "      <td>2</td>\n",
       "      <td>2096</td>\n",
       "      <td>1.512229</td>\n",
       "      <td>0.220658</td>\n",
       "      <td>0.001441</td>\n",
       "    </tr>\n",
       "  </tbody>\n",
       "</table>\n",
       "</div>"
      ],
      "text/plain": [
       "    Source  ddof1  ddof2         F     p-unc       np2\n",
       "0  variant      2   2096  1.512229  0.220658  0.001441"
      ]
     },
     "execution_count": 402,
     "metadata": {},
     "output_type": "execute_result"
    }
   ],
   "source": [
    "### Remove vegans \n",
    "pg.anova(data=df_no_allerg, dv='fsa_score', between='condition\n",
    "         ')"
   ]
  },
  {
   "cell_type": "code",
   "execution_count": 364,
   "id": "lightweight-pharmacy",
   "metadata": {},
   "outputs": [
    {
     "data": {
      "text/html": [
       "<div>\n",
       "<style scoped>\n",
       "    .dataframe tbody tr th:only-of-type {\n",
       "        vertical-align: middle;\n",
       "    }\n",
       "\n",
       "    .dataframe tbody tr th {\n",
       "        vertical-align: top;\n",
       "    }\n",
       "\n",
       "    .dataframe thead th {\n",
       "        text-align: right;\n",
       "    }\n",
       "</style>\n",
       "<table border=\"1\" class=\"dataframe\">\n",
       "  <thead>\n",
       "    <tr style=\"text-align: right;\">\n",
       "      <th></th>\n",
       "      <th>Source</th>\n",
       "      <th>ddof1</th>\n",
       "      <th>ddof2</th>\n",
       "      <th>F</th>\n",
       "      <th>p-unc</th>\n",
       "      <th>np2</th>\n",
       "    </tr>\n",
       "  </thead>\n",
       "  <tbody>\n",
       "    <tr>\n",
       "      <th>0</th>\n",
       "      <td>condition</td>\n",
       "      <td>2</td>\n",
       "      <td>1956</td>\n",
       "      <td>7.988418</td>\n",
       "      <td>0.000351</td>\n",
       "      <td>0.008102</td>\n",
       "    </tr>\n",
       "  </tbody>\n",
       "</table>\n",
       "</div>"
      ],
      "text/plain": [
       "      Source  ddof1  ddof2         F     p-unc       np2\n",
       "0  condition      2   1956  7.988418  0.000351  0.008102"
      ]
     },
     "execution_count": 364,
     "metadata": {},
     "output_type": "execute_result"
    }
   ],
   "source": [
    "### Remove people with alergies \n",
    "pg.anova(data=df_no_veg, dv='fsa_score', between='condition')"
   ]
  },
  {
   "cell_type": "code",
   "execution_count": 53,
   "id": "digital-shield",
   "metadata": {},
   "outputs": [
    {
     "data": {
      "text/html": [
       "<div>\n",
       "<style scoped>\n",
       "    .dataframe tbody tr th:only-of-type {\n",
       "        vertical-align: middle;\n",
       "    }\n",
       "\n",
       "    .dataframe tbody tr th {\n",
       "        vertical-align: top;\n",
       "    }\n",
       "\n",
       "    .dataframe thead th {\n",
       "        text-align: right;\n",
       "    }\n",
       "</style>\n",
       "<table border=\"1\" class=\"dataframe\">\n",
       "  <thead>\n",
       "    <tr style=\"text-align: right;\">\n",
       "      <th></th>\n",
       "      <th>A</th>\n",
       "      <th>B</th>\n",
       "      <th>mean(A)</th>\n",
       "      <th>mean(B)</th>\n",
       "      <th>diff</th>\n",
       "      <th>se</th>\n",
       "      <th>T</th>\n",
       "      <th>p-tukey</th>\n",
       "      <th>hedges</th>\n",
       "    </tr>\n",
       "  </thead>\n",
       "  <tbody>\n",
       "    <tr>\n",
       "      <th>0</th>\n",
       "      <td>MTL</td>\n",
       "      <td>No-label</td>\n",
       "      <td>6.338912</td>\n",
       "      <td>6.634181</td>\n",
       "      <td>-0.295269</td>\n",
       "      <td>0.072502</td>\n",
       "      <td>-4.072543</td>\n",
       "      <td>0.001000</td>\n",
       "      <td>-0.215659</td>\n",
       "    </tr>\n",
       "    <tr>\n",
       "      <th>1</th>\n",
       "      <td>MTL</td>\n",
       "      <td>Nutriscore</td>\n",
       "      <td>6.338912</td>\n",
       "      <td>6.463932</td>\n",
       "      <td>-0.125020</td>\n",
       "      <td>0.072528</td>\n",
       "      <td>-1.723746</td>\n",
       "      <td>0.196700</td>\n",
       "      <td>-0.091312</td>\n",
       "    </tr>\n",
       "    <tr>\n",
       "      <th>2</th>\n",
       "      <td>No-label</td>\n",
       "      <td>Nutriscore</td>\n",
       "      <td>6.634181</td>\n",
       "      <td>6.463932</td>\n",
       "      <td>0.170249</td>\n",
       "      <td>0.072757</td>\n",
       "      <td>2.339976</td>\n",
       "      <td>0.050685</td>\n",
       "      <td>0.124346</td>\n",
       "    </tr>\n",
       "  </tbody>\n",
       "</table>\n",
       "</div>"
      ],
      "text/plain": [
       "          A           B   mean(A)   mean(B)      diff        se         T  \\\n",
       "0       MTL    No-label  6.338912  6.634181 -0.295269  0.072502 -4.072543   \n",
       "1       MTL  Nutriscore  6.338912  6.463932 -0.125020  0.072528 -1.723746   \n",
       "2  No-label  Nutriscore  6.634181  6.463932  0.170249  0.072757  2.339976   \n",
       "\n",
       "    p-tukey    hedges  \n",
       "0  0.001000 -0.215659  \n",
       "1  0.196700 -0.091312  \n",
       "2  0.050685  0.124346  "
      ]
     },
     "execution_count": 53,
     "metadata": {},
     "output_type": "execute_result"
    }
   ],
   "source": [
    "# 3. If there is a main effect, we can proceed to post-hoc Tukey test\n",
    "pg.pairwise_tukey(data=anova_df, dv='fsa_score', between='Label')"
   ]
  },
  {
   "cell_type": "code",
   "execution_count": 405,
   "id": "behavioral-grace",
   "metadata": {},
   "outputs": [
    {
     "data": {
      "text/html": [
       "<div>\n",
       "<style scoped>\n",
       "    .dataframe tbody tr th:only-of-type {\n",
       "        vertical-align: middle;\n",
       "    }\n",
       "\n",
       "    .dataframe tbody tr th {\n",
       "        vertical-align: top;\n",
       "    }\n",
       "\n",
       "    .dataframe thead th {\n",
       "        text-align: right;\n",
       "    }\n",
       "</style>\n",
       "<table border=\"1\" class=\"dataframe\">\n",
       "  <thead>\n",
       "    <tr style=\"text-align: right;\">\n",
       "      <th></th>\n",
       "      <th>Source</th>\n",
       "      <th>ddof1</th>\n",
       "      <th>ddof2</th>\n",
       "      <th>F</th>\n",
       "      <th>p-unc</th>\n",
       "      <th>np2</th>\n",
       "    </tr>\n",
       "  </thead>\n",
       "  <tbody>\n",
       "    <tr>\n",
       "      <th>0</th>\n",
       "      <td>variant</td>\n",
       "      <td>2</td>\n",
       "      <td>2079</td>\n",
       "      <td>1.560941</td>\n",
       "      <td>0.210184</td>\n",
       "      <td>0.001499</td>\n",
       "    </tr>\n",
       "  </tbody>\n",
       "</table>\n",
       "</div>"
      ],
      "text/plain": [
       "    Source  ddof1  ddof2         F     p-unc       np2\n",
       "0  variant      2   2079  1.560941  0.210184  0.001499"
      ]
     },
     "execution_count": 405,
     "metadata": {},
     "output_type": "execute_result"
    }
   ],
   "source": [
    "# 2. If the groups have equal variances, we can use a regular one-way ANOVA\n",
    "pg.anova(data=anova_df, dv='fsa_score', between='variant')"
   ]
  },
  {
   "cell_type": "code",
   "execution_count": 410,
   "id": "collective-malawi",
   "metadata": {},
   "outputs": [
    {
     "data": {
      "text/html": [
       "<div>\n",
       "<style scoped>\n",
       "    .dataframe tbody tr th:only-of-type {\n",
       "        vertical-align: middle;\n",
       "    }\n",
       "\n",
       "    .dataframe tbody tr th {\n",
       "        vertical-align: top;\n",
       "    }\n",
       "\n",
       "    .dataframe thead th {\n",
       "        text-align: right;\n",
       "    }\n",
       "</style>\n",
       "<table border=\"1\" class=\"dataframe\">\n",
       "  <thead>\n",
       "    <tr style=\"text-align: right;\">\n",
       "      <th></th>\n",
       "      <th>A</th>\n",
       "      <th>B</th>\n",
       "      <th>mean(A)</th>\n",
       "      <th>mean(B)</th>\n",
       "      <th>diff</th>\n",
       "      <th>se</th>\n",
       "      <th>T</th>\n",
       "      <th>p-tukey</th>\n",
       "      <th>hedges</th>\n",
       "    </tr>\n",
       "  </thead>\n",
       "  <tbody>\n",
       "    <tr>\n",
       "      <th>0</th>\n",
       "      <td>Health</td>\n",
       "      <td>Popular</td>\n",
       "      <td>3.050432</td>\n",
       "      <td>3.116715</td>\n",
       "      <td>-0.066282</td>\n",
       "      <td>0.079643</td>\n",
       "      <td>-0.832242</td>\n",
       "      <td>0.667530</td>\n",
       "      <td>-0.044653</td>\n",
       "    </tr>\n",
       "    <tr>\n",
       "      <th>1</th>\n",
       "      <td>Health</td>\n",
       "      <td>Random</td>\n",
       "      <td>3.050432</td>\n",
       "      <td>2.965418</td>\n",
       "      <td>0.085014</td>\n",
       "      <td>0.079643</td>\n",
       "      <td>1.067441</td>\n",
       "      <td>0.532977</td>\n",
       "      <td>0.057272</td>\n",
       "    </tr>\n",
       "    <tr>\n",
       "      <th>2</th>\n",
       "      <td>Popular</td>\n",
       "      <td>Random</td>\n",
       "      <td>3.116715</td>\n",
       "      <td>2.965418</td>\n",
       "      <td>0.151297</td>\n",
       "      <td>0.079643</td>\n",
       "      <td>1.899683</td>\n",
       "      <td>0.139036</td>\n",
       "      <td>0.101925</td>\n",
       "    </tr>\n",
       "  </tbody>\n",
       "</table>\n",
       "</div>"
      ],
      "text/plain": [
       "         A        B   mean(A)   mean(B)      diff        se         T  \\\n",
       "0   Health  Popular  3.050432  3.116715 -0.066282  0.079643 -0.832242   \n",
       "1   Health   Random  3.050432  2.965418  0.085014  0.079643  1.067441   \n",
       "2  Popular   Random  3.116715  2.965418  0.151297  0.079643  1.899683   \n",
       "\n",
       "    p-tukey    hedges  \n",
       "0  0.667530 -0.044653  \n",
       "1  0.532977  0.057272  \n",
       "2  0.139036  0.101925  "
      ]
     },
     "execution_count": 410,
     "metadata": {},
     "output_type": "execute_result"
    }
   ],
   "source": [
    "# 3. If there is a main effect, we can proceed to post-hoc Tukey test\n",
    "pg.pairwise_tukey(data=anova_df, dv='who_score', between='Rank')"
   ]
  },
  {
   "cell_type": "code",
   "execution_count": 412,
   "id": "absent-easter",
   "metadata": {},
   "outputs": [
    {
     "data": {
      "text/html": [
       "<div>\n",
       "<style scoped>\n",
       "    .dataframe tbody tr th:only-of-type {\n",
       "        vertical-align: middle;\n",
       "    }\n",
       "\n",
       "    .dataframe tbody tr th {\n",
       "        vertical-align: top;\n",
       "    }\n",
       "\n",
       "    .dataframe thead th {\n",
       "        text-align: right;\n",
       "    }\n",
       "</style>\n",
       "<table border=\"1\" class=\"dataframe\">\n",
       "  <thead>\n",
       "    <tr style=\"text-align: right;\">\n",
       "      <th></th>\n",
       "      <th>A</th>\n",
       "      <th>B</th>\n",
       "      <th>mean(A)</th>\n",
       "      <th>mean(B)</th>\n",
       "      <th>diff</th>\n",
       "      <th>se</th>\n",
       "      <th>T</th>\n",
       "      <th>p-tukey</th>\n",
       "      <th>hedges</th>\n",
       "    </tr>\n",
       "  </thead>\n",
       "  <tbody>\n",
       "    <tr>\n",
       "      <th>0</th>\n",
       "      <td>Health</td>\n",
       "      <td>Popular</td>\n",
       "      <td>6.557637</td>\n",
       "      <td>6.445245</td>\n",
       "      <td>0.112392</td>\n",
       "      <td>0.073451</td>\n",
       "      <td>1.530167</td>\n",
       "      <td>0.277407</td>\n",
       "      <td>0.082099</td>\n",
       "    </tr>\n",
       "    <tr>\n",
       "      <th>1</th>\n",
       "      <td>Health</td>\n",
       "      <td>Random</td>\n",
       "      <td>6.557637</td>\n",
       "      <td>6.445245</td>\n",
       "      <td>0.112392</td>\n",
       "      <td>0.073451</td>\n",
       "      <td>1.530167</td>\n",
       "      <td>0.277407</td>\n",
       "      <td>0.082099</td>\n",
       "    </tr>\n",
       "    <tr>\n",
       "      <th>2</th>\n",
       "      <td>Popular</td>\n",
       "      <td>Random</td>\n",
       "      <td>6.445245</td>\n",
       "      <td>6.445245</td>\n",
       "      <td>0.000000</td>\n",
       "      <td>0.073451</td>\n",
       "      <td>0.000000</td>\n",
       "      <td>0.900000</td>\n",
       "      <td>0.000000</td>\n",
       "    </tr>\n",
       "  </tbody>\n",
       "</table>\n",
       "</div>"
      ],
      "text/plain": [
       "         A        B   mean(A)   mean(B)      diff        se         T  \\\n",
       "0   Health  Popular  6.557637  6.445245  0.112392  0.073451  1.530167   \n",
       "1   Health   Random  6.557637  6.445245  0.112392  0.073451  1.530167   \n",
       "2  Popular   Random  6.445245  6.445245  0.000000  0.073451  0.000000   \n",
       "\n",
       "    p-tukey    hedges  \n",
       "0  0.277407  0.082099  \n",
       "1  0.277407  0.082099  \n",
       "2  0.900000  0.000000  "
      ]
     },
     "execution_count": 412,
     "metadata": {},
     "output_type": "execute_result"
    }
   ],
   "source": [
    "# 3. If there is a main effect, we can proceed to post-hoc Tukey test\n",
    "pg.pairwise_tukey(data=anova_df, dv='fsa_score', between='Rank')"
   ]
  },
  {
   "cell_type": "code",
   "execution_count": null,
   "id": "creative-custom",
   "metadata": {},
   "outputs": [],
   "source": [
    "* "
   ]
  },
  {
   "cell_type": "markdown",
   "id": "burning-stream",
   "metadata": {},
   "source": [
    "# Repeated Measure ANOVA - For each condition\n",
    "* An ANOVA with repeated measures is used to compare three or more group means where the participants are the same in each group. This usually occurs in two situations: (1) when participants are measured multiple times to see changes to an intervention; or (2) when participants are subjected to more than one condition/trial and the response to each of these conditions wants to be compared.\n",
    "    * https://statistics.laerd.com/spss-tutorials/one-way-anova-repeated-measures-using-spss-statistics.php\n",
    "    \n",
    "* "
   ]
  },
  {
   "cell_type": "markdown",
   "id": "severe-wonder",
   "metadata": {},
   "source": [
    "### Condition 1: Nutriscore RM ANOVA"
   ]
  },
  {
   "cell_type": "code",
   "execution_count": 301,
   "id": "leading-major",
   "metadata": {},
   "outputs": [
    {
     "name": "stdout",
     "output_type": "stream",
     "text": [
      "\n",
      "=============\n",
      "ANOVA SUMMARY\n",
      "=============\n",
      "\n",
      "Source         SS    DF     MS        F    p-unc      np2      eps\n",
      "--------  -------  ----  -----  -------  -------  -------  -------\n",
      "Rank        1.475     2  0.737    0.387    0.679    0.002    0.986\n",
      "Error     876.525   460  1.905  nan      nan      nan      nan\n",
      "\n",
      "\n",
      "==============\n",
      "POST HOC TESTS\n",
      "==============\n",
      "\n",
      "Contrast    A        B        Paired    Parametric         T      dof  Tail         p-unc    p-corr  p-adjust      BF10    hedges\n",
      "----------  -------  -------  --------  ------------  ------  -------  ---------  -------  --------  ----------  ------  --------\n",
      "Rank        Health   Popular  True      True           0.808  230.000  two-sided    0.420     0.791  fdr_bh       0.102     0.078\n",
      "Rank        Health   Random   True      True           0.215  230.000  two-sided    0.830     0.830  fdr_bh       0.075     0.019\n",
      "Rank        Popular  Random   True      True          -0.633  230.000  two-sided    0.527     0.791  fdr_bh       0.090    -0.061\n",
      "\n"
     ]
    }
   ],
   "source": [
    "# Get data\n",
    "s1_df = s1[['fsa_score', 'variant', 'condition', 'user_id']]\n",
    "s1_df['Label'] = s1_df.apply (lambda row: label_name(row), axis=1)\n",
    "s1_df['Rank'] = s1_df.apply (lambda row: rank_name(row), axis=1)\n",
    "# Balance data \n",
    "s1_df = s1_df[s1_df['user_id'].map(s1_df['user_id'].value_counts()) > 2]\n",
    "\n",
    "# Do RM ANOVA for each condition \n",
    "pg.print_table(pg.rm_anova(data=s1_df, dv='fsa_score', within='Rank', subject='user_id', detailed=True))\n",
    "\n",
    "# FDR-corrected post hocs with Hedges'g effect size\n",
    "posthoc = pg.pairwise_ttests(data=s1_df, dv='fsa_score', within='Rank', subject='user_id',\n",
    "                             parametric=True, padjust='fdr_bh', effsize='hedges')\n",
    "pg.print_table(posthoc, floatfmt='.3f')"
   ]
  },
  {
   "cell_type": "markdown",
   "id": "dutch-hammer",
   "metadata": {},
   "source": [
    "### Condition 2: MTL RM ANOVA"
   ]
  },
  {
   "cell_type": "code",
   "execution_count": 300,
   "id": "alert-graph",
   "metadata": {},
   "outputs": [
    {
     "name": "stdout",
     "output_type": "stream",
     "text": [
      "\n",
      "=============\n",
      "ANOVA SUMMARY\n",
      "=============\n",
      "\n",
      "Source         SS    DF     MS        F    p-unc      np2      eps\n",
      "--------  -------  ----  -----  -------  -------  -------  -------\n",
      "Rank        2.343     2  1.172    0.642    0.527    0.003    0.998\n",
      "Error     846.990   464  1.825  nan      nan      nan      nan\n",
      "\n",
      "\n",
      "==============\n",
      "POST HOC TESTS\n",
      "==============\n",
      "\n",
      "Contrast    A        B        Paired    Parametric        T      dof  Tail         p-unc    p-corr  p-adjust      BF10    hedges\n",
      "----------  -------  -------  --------  ------------  -----  -------  ---------  -------  --------  ----------  ------  --------\n",
      "Rank        Health   Popular  True      True          0.942  232.000  two-sided    0.347     0.521  fdr_bh       0.114     0.086\n",
      "Rank        Health   Random   True      True          1.006  232.000  two-sided    0.316     0.521  fdr_bh       0.121     0.093\n",
      "Rank        Popular  Random   True      True          0.103  232.000  two-sided    0.918     0.918  fdr_bh       0.074     0.010\n",
      "\n"
     ]
    }
   ],
   "source": [
    "# Get data\n",
    "s2_df = s2[['fsa_score', 'variant', 'condition', 'user_id']]\n",
    "s2_df['Label'] = s2_df.apply (lambda row: label_name(row), axis=1)\n",
    "s2_df['Rank'] = s2_df.apply (lambda row: rank_name(row), axis=1)\n",
    "# Balance data \n",
    "s2_df = s2_df[s2_df['user_id'].map(s2_df['user_id'].value_counts()) > 2]\n",
    "\n",
    "# Do RM ANOVA for each condition \n",
    "pg.print_table(pg.rm_anova(data=s2_df, dv='fsa_score', within='Rank', subject='user_id', detailed=True))\n",
    "\n",
    "# FDR-corrected post hocs with Hedges'g effect size\n",
    "posthoc = pg.pairwise_ttests(data=s2_df, dv='fsa_score', within='Rank', subject='user_id',\n",
    "                             parametric=True, padjust='fdr_bh', effsize='hedges')\n",
    "pg.print_table(posthoc, floatfmt='.3f')"
   ]
  },
  {
   "cell_type": "markdown",
   "id": "synthetic-chester",
   "metadata": {},
   "source": [
    "### Condition 3: No-label RM ANOVA"
   ]
  },
  {
   "cell_type": "code",
   "execution_count": 299,
   "id": "lonely-solomon",
   "metadata": {},
   "outputs": [
    {
     "name": "stdout",
     "output_type": "stream",
     "text": [
      "\n",
      "=============\n",
      "ANOVA SUMMARY\n",
      "=============\n",
      "\n",
      "Source         SS    DF     MS        F    p-unc      np2      eps\n",
      "--------  -------  ----  -----  -------  -------  -------  -------\n",
      "Rank        3.907     2  1.954    1.048    0.352    0.005    0.989\n",
      "Error     854.093   458  1.865  nan      nan      nan      nan\n",
      "\n",
      "\n",
      "==============\n",
      "POST HOC TESTS\n",
      "==============\n",
      "\n",
      "Contrast    A        B        Paired    Parametric        T      dof  Tail         p-unc    p-corr  p-adjust      BF10    hedges\n",
      "----------  -------  -------  --------  ------------  -----  -------  ---------  -------  --------  ----------  ------  --------\n",
      "Rank        Health   Popular  True      True          0.914  229.000  two-sided    0.361     0.542  fdr_bh       0.111     0.081\n",
      "Rank        Health   Random   True      True          1.469  229.000  two-sided    0.143     0.430  fdr_bh       0.213     0.134\n",
      "Rank        Popular  Random   True      True          0.520  229.000  two-sided    0.604     0.604  fdr_bh       0.084     0.050\n",
      "\n"
     ]
    }
   ],
   "source": [
    "# Get data\n",
    "s3_df = s3[['fsa_score', 'variant', 'condition', 'user_id']]\n",
    "s3_df['Label'] = s3_df.apply (lambda row: label_name(row), axis=1)\n",
    "s3_df['Rank'] = s3_df.apply (lambda row: rank_name(row), axis=1)\n",
    "# Balance data \n",
    "s3_df = s3_df[s3_df['user_id'].map(s3_df['user_id'].value_counts()) > 2]\n",
    "\n",
    "# Do RM ANOVA for each condition \n",
    "pg.print_table(pg.rm_anova(data=s3_df, dv='fsa_score', within='Rank', subject='user_id', detailed=True))\n",
    "\n",
    "# FDR-corrected post hocs with Hedges'g effect size\n",
    "posthoc = pg.pairwise_ttests(data=s3_df, dv='fsa_score', within='Rank', subject='user_id',\n",
    "                             parametric=True, padjust='fdr_bh', effsize='hedges')\n",
    "pg.print_table(posthoc, floatfmt='.3f')"
   ]
  },
  {
   "cell_type": "code",
   "execution_count": null,
   "id": "decimal-factory",
   "metadata": {},
   "outputs": [],
   "source": []
  },
  {
   "cell_type": "markdown",
   "id": "burning-walnut",
   "metadata": {},
   "source": [
    "# Pairwise T-test (compare different variants and conditions)\n",
    "* https://pingouin-stats.org/generated/pingouin.pairwise_ttests.html\n",
    "\n",
    "**Warning:**\n",
    "Note that Pingouin gives slightly different T and p-values compared to JASP posthoc tests for 2-way factorial design, because Pingouin does not pool the standard error for each factor, but rather calculate each pairwise T-test completely independent of others."
   ]
  },
  {
   "cell_type": "code",
   "execution_count": 448,
   "id": "finite-complaint",
   "metadata": {},
   "outputs": [
    {
     "data": {
      "text/html": [
       "<div>\n",
       "<style scoped>\n",
       "    .dataframe tbody tr th:only-of-type {\n",
       "        vertical-align: middle;\n",
       "    }\n",
       "\n",
       "    .dataframe tbody tr th {\n",
       "        vertical-align: top;\n",
       "    }\n",
       "\n",
       "    .dataframe thead th {\n",
       "        text-align: right;\n",
       "    }\n",
       "</style>\n",
       "<table border=\"1\" class=\"dataframe\">\n",
       "  <thead>\n",
       "    <tr style=\"text-align: right;\">\n",
       "      <th></th>\n",
       "      <th>Contrast</th>\n",
       "      <th>Rank</th>\n",
       "      <th>A</th>\n",
       "      <th>B</th>\n",
       "      <th>Paired</th>\n",
       "      <th>Parametric</th>\n",
       "      <th>T</th>\n",
       "      <th>dof</th>\n",
       "      <th>Tail</th>\n",
       "      <th>p-unc</th>\n",
       "      <th>p-corr</th>\n",
       "      <th>p-adjust</th>\n",
       "      <th>BF10</th>\n",
       "      <th>hedges</th>\n",
       "    </tr>\n",
       "  </thead>\n",
       "  <tbody>\n",
       "    <tr>\n",
       "      <th>0</th>\n",
       "      <td>Rank</td>\n",
       "      <td>-</td>\n",
       "      <td>Health</td>\n",
       "      <td>Popular</td>\n",
       "      <td>True</td>\n",
       "      <td>True</td>\n",
       "      <td>1.535340</td>\n",
       "      <td>693.000000</td>\n",
       "      <td>two-sided</td>\n",
       "      <td>0.125157</td>\n",
       "      <td>0.375470</td>\n",
       "      <td>bonf</td>\n",
       "      <td>0.138</td>\n",
       "      <td>0.081259</td>\n",
       "    </tr>\n",
       "    <tr>\n",
       "      <th>1</th>\n",
       "      <td>Rank</td>\n",
       "      <td>-</td>\n",
       "      <td>Health</td>\n",
       "      <td>Random</td>\n",
       "      <td>True</td>\n",
       "      <td>True</td>\n",
       "      <td>1.564760</td>\n",
       "      <td>693.000000</td>\n",
       "      <td>two-sided</td>\n",
       "      <td>0.118096</td>\n",
       "      <td>0.354287</td>\n",
       "      <td>bonf</td>\n",
       "      <td>0.144</td>\n",
       "      <td>0.082006</td>\n",
       "    </tr>\n",
       "    <tr>\n",
       "      <th>2</th>\n",
       "      <td>Rank</td>\n",
       "      <td>-</td>\n",
       "      <td>Popular</td>\n",
       "      <td>Random</td>\n",
       "      <td>True</td>\n",
       "      <td>True</td>\n",
       "      <td>0.000000</td>\n",
       "      <td>693.000000</td>\n",
       "      <td>two-sided</td>\n",
       "      <td>1.000000</td>\n",
       "      <td>1.000000</td>\n",
       "      <td>bonf</td>\n",
       "      <td>0.043</td>\n",
       "      <td>0.000000</td>\n",
       "    </tr>\n",
       "    <tr>\n",
       "      <th>3</th>\n",
       "      <td>Label</td>\n",
       "      <td>-</td>\n",
       "      <td>MTL</td>\n",
       "      <td>No-label</td>\n",
       "      <td>False</td>\n",
       "      <td>True</td>\n",
       "      <td>-3.982098</td>\n",
       "      <td>459.420859</td>\n",
       "      <td>two-sided</td>\n",
       "      <td>0.000079</td>\n",
       "      <td>0.000238</td>\n",
       "      <td>bonf</td>\n",
       "      <td>202.872</td>\n",
       "      <td>-0.369642</td>\n",
       "    </tr>\n",
       "    <tr>\n",
       "      <th>4</th>\n",
       "      <td>Label</td>\n",
       "      <td>-</td>\n",
       "      <td>MTL</td>\n",
       "      <td>Nutriscore</td>\n",
       "      <td>False</td>\n",
       "      <td>True</td>\n",
       "      <td>-1.406507</td>\n",
       "      <td>461.927492</td>\n",
       "      <td>two-sided</td>\n",
       "      <td>0.160246</td>\n",
       "      <td>0.480738</td>\n",
       "      <td>bonf</td>\n",
       "      <td>0.269</td>\n",
       "      <td>-0.130382</td>\n",
       "    </tr>\n",
       "    <tr>\n",
       "      <th>5</th>\n",
       "      <td>Label</td>\n",
       "      <td>-</td>\n",
       "      <td>No-label</td>\n",
       "      <td>Nutriscore</td>\n",
       "      <td>False</td>\n",
       "      <td>True</td>\n",
       "      <td>2.596931</td>\n",
       "      <td>458.025874</td>\n",
       "      <td>two-sided</td>\n",
       "      <td>0.009709</td>\n",
       "      <td>0.029126</td>\n",
       "      <td>bonf</td>\n",
       "      <td>2.67</td>\n",
       "      <td>0.241529</td>\n",
       "    </tr>\n",
       "    <tr>\n",
       "      <th>6</th>\n",
       "      <td>Rank * Label</td>\n",
       "      <td>Health</td>\n",
       "      <td>MTL</td>\n",
       "      <td>No-label</td>\n",
       "      <td>False</td>\n",
       "      <td>True</td>\n",
       "      <td>-2.396802</td>\n",
       "      <td>460.668368</td>\n",
       "      <td>two-sided</td>\n",
       "      <td>0.016936</td>\n",
       "      <td>0.152428</td>\n",
       "      <td>bonf</td>\n",
       "      <td>1.651</td>\n",
       "      <td>-0.222362</td>\n",
       "    </tr>\n",
       "    <tr>\n",
       "      <th>7</th>\n",
       "      <td>Rank * Label</td>\n",
       "      <td>Health</td>\n",
       "      <td>MTL</td>\n",
       "      <td>Nutriscore</td>\n",
       "      <td>False</td>\n",
       "      <td>True</td>\n",
       "      <td>-0.491506</td>\n",
       "      <td>461.993091</td>\n",
       "      <td>two-sided</td>\n",
       "      <td>0.623302</td>\n",
       "      <td>1.000000</td>\n",
       "      <td>bonf</td>\n",
       "      <td>0.116</td>\n",
       "      <td>-0.045559</td>\n",
       "    </tr>\n",
       "    <tr>\n",
       "      <th>8</th>\n",
       "      <td>Rank * Label</td>\n",
       "      <td>Health</td>\n",
       "      <td>No-label</td>\n",
       "      <td>Nutriscore</td>\n",
       "      <td>False</td>\n",
       "      <td>True</td>\n",
       "      <td>1.907233</td>\n",
       "      <td>458.757948</td>\n",
       "      <td>two-sided</td>\n",
       "      <td>0.057115</td>\n",
       "      <td>0.514032</td>\n",
       "      <td>bonf</td>\n",
       "      <td>0.6</td>\n",
       "      <td>0.177357</td>\n",
       "    </tr>\n",
       "    <tr>\n",
       "      <th>9</th>\n",
       "      <td>Rank * Label</td>\n",
       "      <td>Popular</td>\n",
       "      <td>MTL</td>\n",
       "      <td>No-label</td>\n",
       "      <td>False</td>\n",
       "      <td>True</td>\n",
       "      <td>-2.494441</td>\n",
       "      <td>454.361548</td>\n",
       "      <td>two-sided</td>\n",
       "      <td>0.012970</td>\n",
       "      <td>0.116728</td>\n",
       "      <td>bonf</td>\n",
       "      <td>2.076</td>\n",
       "      <td>-0.231643</td>\n",
       "    </tr>\n",
       "    <tr>\n",
       "      <th>10</th>\n",
       "      <td>Rank * Label</td>\n",
       "      <td>Popular</td>\n",
       "      <td>MTL</td>\n",
       "      <td>Nutriscore</td>\n",
       "      <td>False</td>\n",
       "      <td>True</td>\n",
       "      <td>-0.582881</td>\n",
       "      <td>458.144299</td>\n",
       "      <td>two-sided</td>\n",
       "      <td>0.560260</td>\n",
       "      <td>1.000000</td>\n",
       "      <td>bonf</td>\n",
       "      <td>0.122</td>\n",
       "      <td>-0.054051</td>\n",
       "    </tr>\n",
       "    <tr>\n",
       "      <th>11</th>\n",
       "      <td>Rank * Label</td>\n",
       "      <td>Popular</td>\n",
       "      <td>No-label</td>\n",
       "      <td>Nutriscore</td>\n",
       "      <td>False</td>\n",
       "      <td>True</td>\n",
       "      <td>1.843630</td>\n",
       "      <td>458.603433</td>\n",
       "      <td>two-sided</td>\n",
       "      <td>0.065882</td>\n",
       "      <td>0.592939</td>\n",
       "      <td>bonf</td>\n",
       "      <td>0.535</td>\n",
       "      <td>0.171462</td>\n",
       "    </tr>\n",
       "    <tr>\n",
       "      <th>12</th>\n",
       "      <td>Rank * Label</td>\n",
       "      <td>Random</td>\n",
       "      <td>MTL</td>\n",
       "      <td>No-label</td>\n",
       "      <td>False</td>\n",
       "      <td>True</td>\n",
       "      <td>-2.046342</td>\n",
       "      <td>460.878375</td>\n",
       "      <td>two-sided</td>\n",
       "      <td>0.041290</td>\n",
       "      <td>0.371607</td>\n",
       "      <td>bonf</td>\n",
       "      <td>0.781</td>\n",
       "      <td>-0.189902</td>\n",
       "    </tr>\n",
       "    <tr>\n",
       "      <th>13</th>\n",
       "      <td>Rank * Label</td>\n",
       "      <td>Random</td>\n",
       "      <td>MTL</td>\n",
       "      <td>Nutriscore</td>\n",
       "      <td>False</td>\n",
       "      <td>True</td>\n",
       "      <td>-1.352200</td>\n",
       "      <td>461.941948</td>\n",
       "      <td>two-sided</td>\n",
       "      <td>0.176973</td>\n",
       "      <td>1.000000</td>\n",
       "      <td>bonf</td>\n",
       "      <td>0.25</td>\n",
       "      <td>-0.125335</td>\n",
       "    </tr>\n",
       "    <tr>\n",
       "      <th>14</th>\n",
       "      <td>Rank * Label</td>\n",
       "      <td>Random</td>\n",
       "      <td>No-label</td>\n",
       "      <td>Nutriscore</td>\n",
       "      <td>False</td>\n",
       "      <td>True</td>\n",
       "      <td>0.716525</td>\n",
       "      <td>458.654378</td>\n",
       "      <td>two-sided</td>\n",
       "      <td>0.474032</td>\n",
       "      <td>1.000000</td>\n",
       "      <td>bonf</td>\n",
       "      <td>0.133</td>\n",
       "      <td>0.066638</td>\n",
       "    </tr>\n",
       "  </tbody>\n",
       "</table>\n",
       "</div>"
      ],
      "text/plain": [
       "        Contrast     Rank         A           B Paired  Parametric         T  \\\n",
       "0           Rank        -    Health     Popular   True        True  1.535340   \n",
       "1           Rank        -    Health      Random   True        True  1.564760   \n",
       "2           Rank        -   Popular      Random   True        True  0.000000   \n",
       "3          Label        -       MTL    No-label  False        True -3.982098   \n",
       "4          Label        -       MTL  Nutriscore  False        True -1.406507   \n",
       "5          Label        -  No-label  Nutriscore  False        True  2.596931   \n",
       "6   Rank * Label   Health       MTL    No-label  False        True -2.396802   \n",
       "7   Rank * Label   Health       MTL  Nutriscore  False        True -0.491506   \n",
       "8   Rank * Label   Health  No-label  Nutriscore  False        True  1.907233   \n",
       "9   Rank * Label  Popular       MTL    No-label  False        True -2.494441   \n",
       "10  Rank * Label  Popular       MTL  Nutriscore  False        True -0.582881   \n",
       "11  Rank * Label  Popular  No-label  Nutriscore  False        True  1.843630   \n",
       "12  Rank * Label   Random       MTL    No-label  False        True -2.046342   \n",
       "13  Rank * Label   Random       MTL  Nutriscore  False        True -1.352200   \n",
       "14  Rank * Label   Random  No-label  Nutriscore  False        True  0.716525   \n",
       "\n",
       "           dof       Tail     p-unc    p-corr p-adjust     BF10    hedges  \n",
       "0   693.000000  two-sided  0.125157  0.375470     bonf    0.138  0.081259  \n",
       "1   693.000000  two-sided  0.118096  0.354287     bonf    0.144  0.082006  \n",
       "2   693.000000  two-sided  1.000000  1.000000     bonf    0.043  0.000000  \n",
       "3   459.420859  two-sided  0.000079  0.000238     bonf  202.872 -0.369642  \n",
       "4   461.927492  two-sided  0.160246  0.480738     bonf    0.269 -0.130382  \n",
       "5   458.025874  two-sided  0.009709  0.029126     bonf     2.67  0.241529  \n",
       "6   460.668368  two-sided  0.016936  0.152428     bonf    1.651 -0.222362  \n",
       "7   461.993091  two-sided  0.623302  1.000000     bonf    0.116 -0.045559  \n",
       "8   458.757948  two-sided  0.057115  0.514032     bonf      0.6  0.177357  \n",
       "9   454.361548  two-sided  0.012970  0.116728     bonf    2.076 -0.231643  \n",
       "10  458.144299  two-sided  0.560260  1.000000     bonf    0.122 -0.054051  \n",
       "11  458.603433  two-sided  0.065882  0.592939     bonf    0.535  0.171462  \n",
       "12  460.878375  two-sided  0.041290  0.371607     bonf    0.781 -0.189902  \n",
       "13  461.941948  two-sided  0.176973  1.000000     bonf     0.25 -0.125335  \n",
       "14  458.654378  two-sided  0.474032  1.000000     bonf    0.133  0.066638  "
      ]
     },
     "execution_count": 448,
     "metadata": {},
     "output_type": "execute_result"
    }
   ],
   "source": [
    "# Balance data (remove where user_id only selected 2 recipes)\n",
    "anova_df = anova_df[anova_df['user_id'].map(anova_df['user_id'].value_counts()) > 2]\n",
    "\n",
    "pg.pairwise_ttests(data=anova_df, dv='fsa_score', between='Label', within='Rank', subject='user_id', padjust='bonf')"
   ]
  },
  {
   "cell_type": "markdown",
   "id": "mathematical-signature",
   "metadata": {},
   "source": [
    "## Conditions"
   ]
  },
  {
   "cell_type": "markdown",
   "id": "prospective-australian",
   "metadata": {},
   "source": [
    "### Nutriscore - MTL\n",
    "* There is no statistically significantly difference in the dependent variable (FSA score) between Nutriscore and MTL(p.160246)\t\n",
    "* We expected the MTL label to perform better for people with higher food knowledge/trying to avoid certain nutrients\n",
    "* We expected Nutriscore to perform better for people with lower food knowledge, because it makes it easier to determine the healthiness of a recipe without any prior knowledge of spcefic nutrients. "
   ]
  },
  {
   "cell_type": "markdown",
   "id": "alone-response",
   "metadata": {},
   "source": [
    "###  Nutriscore - No label\n",
    "* As expected there is a statistically significantly difference in the dependent variable FSA score between Nutriscore and No-label (.009709). \n",
    "* Nutriscore FSA mean=6.463932107496464\n",
    "* No-label FSA mean=6.644928\n",
    "* Overall participants chose healthier recipes in the Nutriscore condition."
   ]
  },
  {
   "cell_type": "markdown",
   "id": "ranking-railway",
   "metadata": {},
   "source": [
    "###  MTL - No label\n",
    "* As expected there is a statistically significantly difference (p 0.000079) in the dependent variable FSA score between MTL and No-label (.009709). \n",
    "* MTL FSA mean=6.351931\n",
    "* No-label FSA mean=6.644928\n",
    "* The difference is greater than between Nutriscore and No-label, indicating that MTL is the superior label. However in the Nutriscore condition recipes were ranked by Nutriscore and not FSA score, this might cause the comparison to not be 100% accurate. "
   ]
  },
  {
   "cell_type": "markdown",
   "id": "parallel-sense",
   "metadata": {},
   "source": [
    "## Variants\n",
    "* Compare the different rankings to see if there are any significant differences in ranking overall"
   ]
  },
  {
   "cell_type": "markdown",
   "id": "vulnerable-humidity",
   "metadata": {},
   "source": [
    "### Overall compare different rankings (Popular, Random, Health)\n",
    "* No significant difference in FSA score when looking only at the ranking. \n",
    "* Need to look at ranking in combination with labels -->"
   ]
  },
  {
   "cell_type": "markdown",
   "id": "scientific-wright",
   "metadata": {},
   "source": [
    "### Variant 1: Popular ranking compare between conditions"
   ]
  },
  {
   "cell_type": "code",
   "execution_count": 119,
   "id": "sharp-chain",
   "metadata": {},
   "outputs": [
    {
     "data": {
      "text/plain": [
       "F_onewayResult(statistic=3.349442899515842, pvalue=0.03567477156959914)"
      ]
     },
     "execution_count": 119,
     "metadata": {},
     "output_type": "execute_result"
    }
   ],
   "source": [
    "f_oneway(anova_df['fsa_score'][(anova_df['condition'] == 1)&(anova_df['variant'] == 1)], anova_df['fsa_score'][(anova_df['condition'] == 2)&(anova_df['variant'] == 1)], anova_df['fsa_score'][(anova_df['condition'] == 3)&(anova_df['variant'] == 1)])"
   ]
  },
  {
   "cell_type": "markdown",
   "id": "unable-strand",
   "metadata": {},
   "source": [
    "* There is a significant difference in FSA score between the different conditions when looking at the within-subjects variable \"Popular ranking\".\n",
    "* Participants in the No-label condition choose less healthier recipes. \n",
    "* Participants in the MTL condition choose the healthiest recipes.\n",
    "* This indicates that adding a health label might be beneficial since a lot of recipe sites rank recipes by popularity. \n",
    "* **Should also look at if the most popular recipes are healther than the less popular recipes**"
   ]
  },
  {
   "cell_type": "markdown",
   "id": "green-combat",
   "metadata": {},
   "source": [
    "#### Cond 1 - Cond 2 popular ranking FSA\n",
    "* As expected there is no significant difference between MTL and Nutriscore with popular ranking."
   ]
  },
  {
   "cell_type": "markdown",
   "id": "deluxe-saying",
   "metadata": {},
   "source": [
    "#### Cond 1 - Cond 3 popular ranking FSA\n",
    "* There is a difference between Nutriscore and No-label, but it is not statistically significant. "
   ]
  },
  {
   "cell_type": "markdown",
   "id": "iraqi-account",
   "metadata": {},
   "source": [
    "#### Cond 2 - Cond 3 popular ranking FSA\n",
    "* The biggest difference is between MTL and No-label, indicating that MTL is more effective than nutriscore in a popular ranking scenario. "
   ]
  },
  {
   "cell_type": "markdown",
   "id": "mighty-harvard",
   "metadata": {},
   "source": [
    "### Variant 2: Random ranking compare between conditions"
   ]
  },
  {
   "cell_type": "code",
   "execution_count": 117,
   "id": "widespread-night",
   "metadata": {},
   "outputs": [
    {
     "data": {
      "text/plain": [
       "F_onewayResult(statistic=2.192147847819569, pvalue=0.11245268837243182)"
      ]
     },
     "execution_count": 117,
     "metadata": {},
     "output_type": "execute_result"
    }
   ],
   "source": [
    "# One-way ANOVA\n",
    "f_oneway(anova_df['fsa_score'][(anova_df['condition'] == 1)&(anova_df['variant'] == 2)], anova_df['fsa_score'][(anova_df['condition'] == 2)&(anova_df['variant'] == 2)], anova_df['fsa_score'][(anova_df['condition'] == 3)&(anova_df['variant'] == 2)])"
   ]
  },
  {
   "cell_type": "markdown",
   "id": "dimensional-worst",
   "metadata": {},
   "source": [
    "* No significant difference between conditions in a random ranking scenario. "
   ]
  },
  {
   "cell_type": "markdown",
   "id": "trained-adjustment",
   "metadata": {},
   "source": [
    "#### Cond 1 - Cond 2 random ranking FSA\n",
    "* No significant difference between Nutriscore and MTL."
   ]
  },
  {
   "cell_type": "markdown",
   "id": "multiple-crest",
   "metadata": {},
   "source": [
    "#### Cond 1 - Cond 3 random ranking FSA\n",
    "* No significant difference between Nutriscore and No-label.\n",
    "* Would expect the Nutriscore label to make it easier for participants to select healthier recipes in a random ranking scenario. \n",
    "* However using nutriscore without ranking might lessen the effect of the nutriscore label. In a health ranking scenario the differences in healthiness becomes more apparent, and seeing the recipes become increasingly more unhealthy might make you more health aware.."
   ]
  },
  {
   "cell_type": "markdown",
   "id": "prime-offense",
   "metadata": {},
   "source": [
    "#### Cond 2 - Cond 3 random ranking FSA\n",
    "* There is a significant difference in FSA score between MTL and No-label in the random ranking scenario. \n",
    "* This might be because there is more information to be considered in the MTL label vs. the Nutriscore label?? Maybe there is an advantage in having more information to consider -- Colour + HIGH, MED, LOW + Amount of sugar/fat/satfat/salt? For some reason its easier to ignore the nutriscore in a random ranking scenario, while there is more information in the MTL label making it more natural to consider this information as well"
   ]
  },
  {
   "cell_type": "markdown",
   "id": "alternative-essence",
   "metadata": {},
   "source": [
    "### Variant 3: Health ranking compare between conditions"
   ]
  },
  {
   "cell_type": "code",
   "execution_count": 120,
   "id": "arctic-voltage",
   "metadata": {},
   "outputs": [
    {
     "data": {
      "text/plain": [
       "F_onewayResult(statistic=3.175784649561375, pvalue=0.042371563748917866)"
      ]
     },
     "execution_count": 120,
     "metadata": {},
     "output_type": "execute_result"
    }
   ],
   "source": [
    "# One-way ANOVA\n",
    "f_oneway(anova_df['fsa_score'][(anova_df['condition'] == 1)&(anova_df['variant'] == 3)], anova_df['fsa_score'][(anova_df['condition'] == 2)&(anova_df['variant'] == 3)], anova_df['fsa_score'][(anova_df['condition'] == 3)&(anova_df['variant'] == 3)])"
   ]
  },
  {
   "cell_type": "markdown",
   "id": "talented-engine",
   "metadata": {},
   "source": [
    "* Significant difference between conditions in a health ranking scenario."
   ]
  },
  {
   "cell_type": "markdown",
   "id": "experienced-notice",
   "metadata": {},
   "source": [
    "#### Cond 1 - Cond 2 health ranking FSA\n",
    "* No significant difference between MTL and nutriscore in a health ranking scenario"
   ]
  },
  {
   "cell_type": "markdown",
   "id": "invisible-tissue",
   "metadata": {},
   "source": [
    "#### Cond 1 - Cond 3 health ranking FSA\n",
    "* There is a significant difference between Nutriscore and No-label in the health ranking scenario"
   ]
  },
  {
   "cell_type": "markdown",
   "id": "conceptual-approach",
   "metadata": {},
   "source": [
    "#### Cond 2 - Cond 3 health ranking FSA\n",
    "* There is a significant difference between MTL and No-label in the health ranking scenario (p 0.016936) \n",
    "* The biggest difference is between MTL and No-label, indicating that MTL is more effective than nutriscore in a health ranking scenario. However MTL was ranked by FSA score, and Nutriscore condition was ranked by Nutriscore.\n",
    "* Participants in the No-label condition choose the least healthy recipes in the health ranking condition! And the most healthy recipes in the random condition."
   ]
  },
  {
   "cell_type": "markdown",
   "id": "everyday-aside",
   "metadata": {},
   "source": [
    "# Which label is the best? Nutriscore or MTL? \n",
    "* As we have already seen MTL is the superior lable in Health, random and popular ranking\n",
    "* **We need to look closer at this because in the Health ranking scenario the recipes are ordered slightly different because MTL is ranked by FSA (4-12), while Nutriscore is ranked by the nutriscore (A-E)**\n",
    "\n",
    "#### Problem: Nutriscore and MTL is calulated differently. How to account for this difference when comparing them? \n",
    "* Use WHO score\n",
    "\n",
    "## Comparing MTL and Nutriscroe using WHO health score\n",
    "* We need to have the same score to compare the two conditions to figure out which label works best (if any).\n",
    "* A recipe or meal plan with a WHO score of 7 is interpreted as being very healthy whereas a score of 0 is seen as very unhealthy \n",
    "* FSA score: range from 4 (very healthy recipe) to 12 (very unhealthy recipe)"
   ]
  },
  {
   "cell_type": "code",
   "execution_count": 125,
   "id": "deadly-basic",
   "metadata": {},
   "outputs": [
    {
     "data": {
      "text/html": [
       "<th style=\"text-align:center\"><td style=\"vertical-align:top\"><h2>MTL top 10</h2><table style=\"display:inline\" border=\"1\" class=\"dataframe\">\n",
       "  <thead>\n",
       "    <tr style=\"text-align: right;\">\n",
       "      <th></th>\n",
       "      <th>recipe_name</th>\n",
       "      <th>fsa_score</th>\n",
       "      <th>nutri_score</th>\n",
       "      <th>who_score</th>\n",
       "    </tr>\n",
       "  </thead>\n",
       "  <tbody>\n",
       "    <tr>\n",
       "      <th>57</th>\n",
       "      <td>Tomato and Garlic Pasta</td>\n",
       "      <td>4</td>\n",
       "      <td>C</td>\n",
       "      <td>5</td>\n",
       "    </tr>\n",
       "    <tr>\n",
       "      <th>23</th>\n",
       "      <td>Easy Chicken Rice Casserole</td>\n",
       "      <td>4</td>\n",
       "      <td>A</td>\n",
       "      <td>4</td>\n",
       "    </tr>\n",
       "    <tr>\n",
       "      <th>0</th>\n",
       "      <td>Amazing Brown Rice Salad</td>\n",
       "      <td>5</td>\n",
       "      <td>C</td>\n",
       "      <td>3</td>\n",
       "    </tr>\n",
       "    <tr>\n",
       "      <th>41</th>\n",
       "      <td>Pasta Chickpea Salad</td>\n",
       "      <td>5</td>\n",
       "      <td>A</td>\n",
       "      <td>7</td>\n",
       "    </tr>\n",
       "    <tr>\n",
       "      <th>35</th>\n",
       "      <td>Lemon Pepper Pasta</td>\n",
       "      <td>5</td>\n",
       "      <td>B</td>\n",
       "      <td>6</td>\n",
       "    </tr>\n",
       "    <tr>\n",
       "      <th>28</th>\n",
       "      <td>Fruit Salad in Seconds</td>\n",
       "      <td>5</td>\n",
       "      <td>D</td>\n",
       "      <td>3</td>\n",
       "    </tr>\n",
       "    <tr>\n",
       "      <th>49</th>\n",
       "      <td>Scrumptious Chicken Vegetable style=\"display:inline\" Stew</td>\n",
       "      <td>5</td>\n",
       "      <td>B</td>\n",
       "      <td>5</td>\n",
       "    </tr>\n",
       "    <tr>\n",
       "      <th>52</th>\n",
       "      <td>Spinach and Pasta Shells</td>\n",
       "      <td>5</td>\n",
       "      <td>B</td>\n",
       "      <td>6</td>\n",
       "    </tr>\n",
       "    <tr>\n",
       "      <th>14</th>\n",
       "      <td>Caribbean Sweet Potato Salad</td>\n",
       "      <td>5</td>\n",
       "      <td>C</td>\n",
       "      <td>3</td>\n",
       "    </tr>\n",
       "    <tr>\n",
       "      <th>21</th>\n",
       "      <td>Chickpea and Quinoa Salad with Lemon and Tahini</td>\n",
       "      <td>5</td>\n",
       "      <td>B</td>\n",
       "      <td>5</td>\n",
       "    </tr>\n",
       "  </tbody>\n",
       "</table style=\"display:inline\"></td></th><th style=\"text-align:center\"><td style=\"vertical-align:top\"><h2>Nutriscore top 10</h2><table style=\"display:inline\" border=\"1\" class=\"dataframe\">\n",
       "  <thead>\n",
       "    <tr style=\"text-align: right;\">\n",
       "      <th></th>\n",
       "      <th>recipe_name</th>\n",
       "      <th>fsa_score</th>\n",
       "      <th>nutri_score</th>\n",
       "      <th>who_score</th>\n",
       "    </tr>\n",
       "  </thead>\n",
       "  <tbody>\n",
       "    <tr>\n",
       "      <th>41</th>\n",
       "      <td>Pasta Chickpea Salad</td>\n",
       "      <td>5</td>\n",
       "      <td>A</td>\n",
       "      <td>7</td>\n",
       "    </tr>\n",
       "    <tr>\n",
       "      <th>23</th>\n",
       "      <td>Easy Chicken Rice Casserole</td>\n",
       "      <td>4</td>\n",
       "      <td>A</td>\n",
       "      <td>4</td>\n",
       "    </tr>\n",
       "    <tr>\n",
       "      <th>22</th>\n",
       "      <td>Chinese Chicken Salad</td>\n",
       "      <td>7</td>\n",
       "      <td>A</td>\n",
       "      <td>2</td>\n",
       "    </tr>\n",
       "    <tr>\n",
       "      <th>33</th>\n",
       "      <td>Hawaiian Chicken Salad</td>\n",
       "      <td>7</td>\n",
       "      <td>B</td>\n",
       "      <td>1</td>\n",
       "    </tr>\n",
       "    <tr>\n",
       "      <th>21</th>\n",
       "      <td>Chickpea and Quinoa Salad with Lemon and Tahini</td>\n",
       "      <td>5</td>\n",
       "      <td>B</td>\n",
       "      <td>5</td>\n",
       "    </tr>\n",
       "    <tr>\n",
       "      <th>52</th>\n",
       "      <td>Spinach and Pasta Shells</td>\n",
       "      <td>5</td>\n",
       "      <td>B</td>\n",
       "      <td>6</td>\n",
       "    </tr>\n",
       "    <tr>\n",
       "      <th>47</th>\n",
       "      <td>Restaurant Style Chicken Nachos</td>\n",
       "      <td>7</td>\n",
       "      <td>B</td>\n",
       "      <td>2</td>\n",
       "    </tr>\n",
       "    <tr>\n",
       "      <th>35</th>\n",
       "      <td>Lemon Pepper Pasta</td>\n",
       "      <td>5</td>\n",
       "      <td>B</td>\n",
       "      <td>6</td>\n",
       "    </tr>\n",
       "    <tr>\n",
       "      <th>49</th>\n",
       "      <td>Scrumptious Chicken Vegetable style=\"display:inline\" Stew</td>\n",
       "      <td>5</td>\n",
       "      <td>B</td>\n",
       "      <td>5</td>\n",
       "    </tr>\n",
       "    <tr>\n",
       "      <th>38</th>\n",
       "      <td>Onion Pasta</td>\n",
       "      <td>6</td>\n",
       "      <td>C</td>\n",
       "      <td>2</td>\n",
       "    </tr>\n",
       "  </tbody>\n",
       "</table style=\"display:inline\"></td></th>"
      ]
     },
     "metadata": {},
     "output_type": "display_data"
    }
   ],
   "source": [
    "# Problem: The health ranking for Nutriscore and MTL is very different. Show top 10 recipes ordered by healthiness: \n",
    "from IPython.display import display_html\n",
    "from itertools import chain,cycle\n",
    "def display_side_by_side(*args,titles=cycle([''])):\n",
    "    html_str=''\n",
    "    for df,title in zip(args, chain(titles,cycle(['</br>'])) ):\n",
    "        html_str+='<th style=\"text-align:center\"><td style=\"vertical-align:top\">'\n",
    "        html_str+=f'<h2>{title}</h2>'\n",
    "        html_str+=df.to_html().replace('table','table style=\"display:inline\"')\n",
    "        html_str+='</td></th>'\n",
    "    display_html(html_str,raw=True)\n",
    "  \n",
    "display_side_by_side(rec.sort_values(by=['fsa_score']).head(10),rec.sort_values(by=['nutri_score']).head(10), titles=['MTL top 10','Nutriscore top 10'])"
   ]
  },
  {
   "cell_type": "code",
   "execution_count": 449,
   "id": "boxed-pierce",
   "metadata": {},
   "outputs": [
    {
     "data": {
      "text/html": [
       "<div>\n",
       "<style scoped>\n",
       "    .dataframe tbody tr th:only-of-type {\n",
       "        vertical-align: middle;\n",
       "    }\n",
       "\n",
       "    .dataframe tbody tr th {\n",
       "        vertical-align: top;\n",
       "    }\n",
       "\n",
       "    .dataframe thead th {\n",
       "        text-align: right;\n",
       "    }\n",
       "</style>\n",
       "<table border=\"1\" class=\"dataframe\">\n",
       "  <thead>\n",
       "    <tr style=\"text-align: right;\">\n",
       "      <th></th>\n",
       "      <th>Contrast</th>\n",
       "      <th>Rank</th>\n",
       "      <th>A</th>\n",
       "      <th>B</th>\n",
       "      <th>Paired</th>\n",
       "      <th>Parametric</th>\n",
       "      <th>T</th>\n",
       "      <th>dof</th>\n",
       "      <th>Tail</th>\n",
       "      <th>p-unc</th>\n",
       "      <th>p-corr</th>\n",
       "      <th>p-adjust</th>\n",
       "      <th>BF10</th>\n",
       "      <th>hedges</th>\n",
       "    </tr>\n",
       "  </thead>\n",
       "  <tbody>\n",
       "    <tr>\n",
       "      <th>0</th>\n",
       "      <td>Rank</td>\n",
       "      <td>-</td>\n",
       "      <td>Health</td>\n",
       "      <td>Popular</td>\n",
       "      <td>True</td>\n",
       "      <td>True</td>\n",
       "      <td>-0.785678</td>\n",
       "      <td>693.000000</td>\n",
       "      <td>two-sided</td>\n",
       "      <td>0.432325</td>\n",
       "      <td>1.000000</td>\n",
       "      <td>bonf</td>\n",
       "      <td>0.058</td>\n",
       "      <td>-0.043634</td>\n",
       "    </tr>\n",
       "    <tr>\n",
       "      <th>1</th>\n",
       "      <td>Rank</td>\n",
       "      <td>-</td>\n",
       "      <td>Health</td>\n",
       "      <td>Random</td>\n",
       "      <td>True</td>\n",
       "      <td>True</td>\n",
       "      <td>1.104378</td>\n",
       "      <td>693.000000</td>\n",
       "      <td>two-sided</td>\n",
       "      <td>0.269813</td>\n",
       "      <td>0.809438</td>\n",
       "      <td>bonf</td>\n",
       "      <td>0.078</td>\n",
       "      <td>0.058555</td>\n",
       "    </tr>\n",
       "    <tr>\n",
       "      <th>2</th>\n",
       "      <td>Rank</td>\n",
       "      <td>-</td>\n",
       "      <td>Popular</td>\n",
       "      <td>Random</td>\n",
       "      <td>True</td>\n",
       "      <td>True</td>\n",
       "      <td>1.856235</td>\n",
       "      <td>693.000000</td>\n",
       "      <td>two-sided</td>\n",
       "      <td>0.063844</td>\n",
       "      <td>0.191533</td>\n",
       "      <td>bonf</td>\n",
       "      <td>0.236</td>\n",
       "      <td>0.102125</td>\n",
       "    </tr>\n",
       "    <tr>\n",
       "      <th>3</th>\n",
       "      <td>Label</td>\n",
       "      <td>-</td>\n",
       "      <td>MTL</td>\n",
       "      <td>No-label</td>\n",
       "      <td>False</td>\n",
       "      <td>True</td>\n",
       "      <td>3.824457</td>\n",
       "      <td>445.409460</td>\n",
       "      <td>two-sided</td>\n",
       "      <td>0.000150</td>\n",
       "      <td>0.000449</td>\n",
       "      <td>bonf</td>\n",
       "      <td>113.495</td>\n",
       "      <td>0.354444</td>\n",
       "    </tr>\n",
       "    <tr>\n",
       "      <th>4</th>\n",
       "      <td>Label</td>\n",
       "      <td>-</td>\n",
       "      <td>MTL</td>\n",
       "      <td>Nutriscore</td>\n",
       "      <td>False</td>\n",
       "      <td>True</td>\n",
       "      <td>-0.820958</td>\n",
       "      <td>461.715837</td>\n",
       "      <td>two-sided</td>\n",
       "      <td>0.412094</td>\n",
       "      <td>1.000000</td>\n",
       "      <td>bonf</td>\n",
       "      <td>0.143</td>\n",
       "      <td>-0.076106</td>\n",
       "    </tr>\n",
       "    <tr>\n",
       "      <th>5</th>\n",
       "      <td>Label</td>\n",
       "      <td>-</td>\n",
       "      <td>No-label</td>\n",
       "      <td>Nutriscore</td>\n",
       "      <td>False</td>\n",
       "      <td>True</td>\n",
       "      <td>-4.672751</td>\n",
       "      <td>439.427128</td>\n",
       "      <td>two-sided</td>\n",
       "      <td>0.000004</td>\n",
       "      <td>0.000012</td>\n",
       "      <td>bonf</td>\n",
       "      <td>3345.283</td>\n",
       "      <td>-0.434349</td>\n",
       "    </tr>\n",
       "    <tr>\n",
       "      <th>6</th>\n",
       "      <td>Rank * Label</td>\n",
       "      <td>Health</td>\n",
       "      <td>MTL</td>\n",
       "      <td>No-label</td>\n",
       "      <td>False</td>\n",
       "      <td>True</td>\n",
       "      <td>2.353609</td>\n",
       "      <td>449.811427</td>\n",
       "      <td>two-sided</td>\n",
       "      <td>0.019022</td>\n",
       "      <td>0.171194</td>\n",
       "      <td>bonf</td>\n",
       "      <td>1.496</td>\n",
       "      <td>0.218170</td>\n",
       "    </tr>\n",
       "    <tr>\n",
       "      <th>7</th>\n",
       "      <td>Rank * Label</td>\n",
       "      <td>Health</td>\n",
       "      <td>MTL</td>\n",
       "      <td>Nutriscore</td>\n",
       "      <td>False</td>\n",
       "      <td>True</td>\n",
       "      <td>-0.981549</td>\n",
       "      <td>456.993204</td>\n",
       "      <td>two-sided</td>\n",
       "      <td>0.326842</td>\n",
       "      <td>1.000000</td>\n",
       "      <td>bonf</td>\n",
       "      <td>0.164</td>\n",
       "      <td>-0.091025</td>\n",
       "    </tr>\n",
       "    <tr>\n",
       "      <th>8</th>\n",
       "      <td>Rank * Label</td>\n",
       "      <td>Health</td>\n",
       "      <td>No-label</td>\n",
       "      <td>Nutriscore</td>\n",
       "      <td>False</td>\n",
       "      <td>True</td>\n",
       "      <td>-3.264700</td>\n",
       "      <td>430.334578</td>\n",
       "      <td>two-sided</td>\n",
       "      <td>0.001183</td>\n",
       "      <td>0.010650</td>\n",
       "      <td>bonf</td>\n",
       "      <td>17.31</td>\n",
       "      <td>-0.303435</td>\n",
       "    </tr>\n",
       "    <tr>\n",
       "      <th>9</th>\n",
       "      <td>Rank * Label</td>\n",
       "      <td>Popular</td>\n",
       "      <td>MTL</td>\n",
       "      <td>No-label</td>\n",
       "      <td>False</td>\n",
       "      <td>True</td>\n",
       "      <td>2.017759</td>\n",
       "      <td>450.563055</td>\n",
       "      <td>two-sided</td>\n",
       "      <td>0.044209</td>\n",
       "      <td>0.397878</td>\n",
       "      <td>bonf</td>\n",
       "      <td>0.738</td>\n",
       "      <td>0.187045</td>\n",
       "    </tr>\n",
       "    <tr>\n",
       "      <th>10</th>\n",
       "      <td>Rank * Label</td>\n",
       "      <td>Popular</td>\n",
       "      <td>MTL</td>\n",
       "      <td>Nutriscore</td>\n",
       "      <td>False</td>\n",
       "      <td>True</td>\n",
       "      <td>-0.413325</td>\n",
       "      <td>461.827218</td>\n",
       "      <td>two-sided</td>\n",
       "      <td>0.679560</td>\n",
       "      <td>1.000000</td>\n",
       "      <td>bonf</td>\n",
       "      <td>0.112</td>\n",
       "      <td>-0.038316</td>\n",
       "    </tr>\n",
       "    <tr>\n",
       "      <th>11</th>\n",
       "      <td>Rank * Label</td>\n",
       "      <td>Popular</td>\n",
       "      <td>No-label</td>\n",
       "      <td>Nutriscore</td>\n",
       "      <td>False</td>\n",
       "      <td>True</td>\n",
       "      <td>-2.444560</td>\n",
       "      <td>445.941253</td>\n",
       "      <td>two-sided</td>\n",
       "      <td>0.014889</td>\n",
       "      <td>0.134002</td>\n",
       "      <td>bonf</td>\n",
       "      <td>1.847</td>\n",
       "      <td>-0.227251</td>\n",
       "    </tr>\n",
       "    <tr>\n",
       "      <th>12</th>\n",
       "      <td>Rank * Label</td>\n",
       "      <td>Random</td>\n",
       "      <td>MTL</td>\n",
       "      <td>No-label</td>\n",
       "      <td>False</td>\n",
       "      <td>True</td>\n",
       "      <td>2.048401</td>\n",
       "      <td>449.459405</td>\n",
       "      <td>two-sided</td>\n",
       "      <td>0.041101</td>\n",
       "      <td>0.369910</td>\n",
       "      <td>bonf</td>\n",
       "      <td>0.784</td>\n",
       "      <td>0.189875</td>\n",
       "    </tr>\n",
       "    <tr>\n",
       "      <th>13</th>\n",
       "      <td>Rank * Label</td>\n",
       "      <td>Random</td>\n",
       "      <td>MTL</td>\n",
       "      <td>Nutriscore</td>\n",
       "      <td>False</td>\n",
       "      <td>True</td>\n",
       "      <td>0.058900</td>\n",
       "      <td>457.467744</td>\n",
       "      <td>two-sided</td>\n",
       "      <td>0.953058</td>\n",
       "      <td>1.000000</td>\n",
       "      <td>bonf</td>\n",
       "      <td>0.103</td>\n",
       "      <td>0.005462</td>\n",
       "    </tr>\n",
       "    <tr>\n",
       "      <th>14</th>\n",
       "      <td>Rank * Label</td>\n",
       "      <td>Random</td>\n",
       "      <td>No-label</td>\n",
       "      <td>Nutriscore</td>\n",
       "      <td>False</td>\n",
       "      <td>True</td>\n",
       "      <td>-1.870047</td>\n",
       "      <td>430.835877</td>\n",
       "      <td>two-sided</td>\n",
       "      <td>0.062155</td>\n",
       "      <td>0.559397</td>\n",
       "      <td>bonf</td>\n",
       "      <td>0.561</td>\n",
       "      <td>-0.173811</td>\n",
       "    </tr>\n",
       "  </tbody>\n",
       "</table>\n",
       "</div>"
      ],
      "text/plain": [
       "        Contrast     Rank         A           B Paired  Parametric         T  \\\n",
       "0           Rank        -    Health     Popular   True        True -0.785678   \n",
       "1           Rank        -    Health      Random   True        True  1.104378   \n",
       "2           Rank        -   Popular      Random   True        True  1.856235   \n",
       "3          Label        -       MTL    No-label  False        True  3.824457   \n",
       "4          Label        -       MTL  Nutriscore  False        True -0.820958   \n",
       "5          Label        -  No-label  Nutriscore  False        True -4.672751   \n",
       "6   Rank * Label   Health       MTL    No-label  False        True  2.353609   \n",
       "7   Rank * Label   Health       MTL  Nutriscore  False        True -0.981549   \n",
       "8   Rank * Label   Health  No-label  Nutriscore  False        True -3.264700   \n",
       "9   Rank * Label  Popular       MTL    No-label  False        True  2.017759   \n",
       "10  Rank * Label  Popular       MTL  Nutriscore  False        True -0.413325   \n",
       "11  Rank * Label  Popular  No-label  Nutriscore  False        True -2.444560   \n",
       "12  Rank * Label   Random       MTL    No-label  False        True  2.048401   \n",
       "13  Rank * Label   Random       MTL  Nutriscore  False        True  0.058900   \n",
       "14  Rank * Label   Random  No-label  Nutriscore  False        True -1.870047   \n",
       "\n",
       "           dof       Tail     p-unc    p-corr p-adjust      BF10    hedges  \n",
       "0   693.000000  two-sided  0.432325  1.000000     bonf     0.058 -0.043634  \n",
       "1   693.000000  two-sided  0.269813  0.809438     bonf     0.078  0.058555  \n",
       "2   693.000000  two-sided  0.063844  0.191533     bonf     0.236  0.102125  \n",
       "3   445.409460  two-sided  0.000150  0.000449     bonf   113.495  0.354444  \n",
       "4   461.715837  two-sided  0.412094  1.000000     bonf     0.143 -0.076106  \n",
       "5   439.427128  two-sided  0.000004  0.000012     bonf  3345.283 -0.434349  \n",
       "6   449.811427  two-sided  0.019022  0.171194     bonf     1.496  0.218170  \n",
       "7   456.993204  two-sided  0.326842  1.000000     bonf     0.164 -0.091025  \n",
       "8   430.334578  two-sided  0.001183  0.010650     bonf     17.31 -0.303435  \n",
       "9   450.563055  two-sided  0.044209  0.397878     bonf     0.738  0.187045  \n",
       "10  461.827218  two-sided  0.679560  1.000000     bonf     0.112 -0.038316  \n",
       "11  445.941253  two-sided  0.014889  0.134002     bonf     1.847 -0.227251  \n",
       "12  449.459405  two-sided  0.041101  0.369910     bonf     0.784  0.189875  \n",
       "13  457.467744  two-sided  0.953058  1.000000     bonf     0.103  0.005462  \n",
       "14  430.835877  two-sided  0.062155  0.559397     bonf     0.561 -0.173811  "
      ]
     },
     "execution_count": 449,
     "metadata": {},
     "output_type": "execute_result"
    }
   ],
   "source": [
    "pg.pairwise_ttests(data=anova_df, dv='who_score', between='Label', within='Rank', subject='user_id',padjust='bonf' )"
   ]
  },
  {
   "cell_type": "markdown",
   "id": "successful-ridge",
   "metadata": {},
   "source": [
    "1. Popular\tMTL\tNutriscore = 0.679560\n",
    "2. Random\tMTL\tNutriscore = 0.953058\n",
    "3. Health\tMTL\tNutriscore = 0.326842\n",
    "* Using WHO score to compare Nutriscore and MTL there are not any significant differences in WHO score between the different conditions. "
   ]
  },
  {
   "cell_type": "code",
   "execution_count": null,
   "id": "institutional-lawyer",
   "metadata": {},
   "outputs": [],
   "source": []
  },
  {
   "cell_type": "markdown",
   "id": "ignored-folder",
   "metadata": {},
   "source": [
    "## Compare MTL - Nutriscore: Look at cooking experience \n",
    "* Some research sugests that MTL works best for high food knowledge and Nutriscore works best for lower food knowledge.\n",
    "* Use cooking experience as a gauge for food knowledge: "
   ]
  },
  {
   "cell_type": "markdown",
   "id": "interesting-actress",
   "metadata": {},
   "source": [
    "### Low cooking experience (Very low, Low)"
   ]
  },
  {
   "cell_type": "code",
   "execution_count": 474,
   "id": "portuguese-token",
   "metadata": {},
   "outputs": [
    {
     "data": {
      "text/html": [
       "<div>\n",
       "<style scoped>\n",
       "    .dataframe tbody tr th:only-of-type {\n",
       "        vertical-align: middle;\n",
       "    }\n",
       "\n",
       "    .dataframe tbody tr th {\n",
       "        vertical-align: top;\n",
       "    }\n",
       "\n",
       "    .dataframe thead th {\n",
       "        text-align: right;\n",
       "    }\n",
       "</style>\n",
       "<table border=\"1\" class=\"dataframe\">\n",
       "  <thead>\n",
       "    <tr style=\"text-align: right;\">\n",
       "      <th></th>\n",
       "      <th>Contrast</th>\n",
       "      <th>Rank</th>\n",
       "      <th>A</th>\n",
       "      <th>B</th>\n",
       "      <th>Paired</th>\n",
       "      <th>Parametric</th>\n",
       "      <th>T</th>\n",
       "      <th>dof</th>\n",
       "      <th>Tail</th>\n",
       "      <th>p-unc</th>\n",
       "      <th>BF10</th>\n",
       "      <th>hedges</th>\n",
       "    </tr>\n",
       "  </thead>\n",
       "  <tbody>\n",
       "    <tr>\n",
       "      <th>0</th>\n",
       "      <td>Rank</td>\n",
       "      <td>-</td>\n",
       "      <td>Health</td>\n",
       "      <td>Popular</td>\n",
       "      <td>True</td>\n",
       "      <td>True</td>\n",
       "      <td>-1.133395</td>\n",
       "      <td>143.000000</td>\n",
       "      <td>two-sided</td>\n",
       "      <td>0.258945</td>\n",
       "      <td>0.174</td>\n",
       "      <td>-0.133307</td>\n",
       "    </tr>\n",
       "    <tr>\n",
       "      <th>1</th>\n",
       "      <td>Rank</td>\n",
       "      <td>-</td>\n",
       "      <td>Health</td>\n",
       "      <td>Random</td>\n",
       "      <td>True</td>\n",
       "      <td>True</td>\n",
       "      <td>0.039178</td>\n",
       "      <td>143.000000</td>\n",
       "      <td>two-sided</td>\n",
       "      <td>0.968803</td>\n",
       "      <td>0.093</td>\n",
       "      <td>0.004648</td>\n",
       "    </tr>\n",
       "    <tr>\n",
       "      <th>2</th>\n",
       "      <td>Rank</td>\n",
       "      <td>-</td>\n",
       "      <td>Popular</td>\n",
       "      <td>Random</td>\n",
       "      <td>True</td>\n",
       "      <td>True</td>\n",
       "      <td>1.075967</td>\n",
       "      <td>143.000000</td>\n",
       "      <td>two-sided</td>\n",
       "      <td>0.283754</td>\n",
       "      <td>0.163</td>\n",
       "      <td>0.133674</td>\n",
       "    </tr>\n",
       "    <tr>\n",
       "      <th>3</th>\n",
       "      <td>Label</td>\n",
       "      <td>-</td>\n",
       "      <td>MTL</td>\n",
       "      <td>No-label</td>\n",
       "      <td>False</td>\n",
       "      <td>True</td>\n",
       "      <td>1.272278</td>\n",
       "      <td>79.029169</td>\n",
       "      <td>two-sided</td>\n",
       "      <td>0.207005</td>\n",
       "      <td>0.454</td>\n",
       "      <td>0.256636</td>\n",
       "    </tr>\n",
       "    <tr>\n",
       "      <th>4</th>\n",
       "      <td>Label</td>\n",
       "      <td>-</td>\n",
       "      <td>MTL</td>\n",
       "      <td>Nutriscore</td>\n",
       "      <td>False</td>\n",
       "      <td>True</td>\n",
       "      <td>-2.544880</td>\n",
       "      <td>97.376783</td>\n",
       "      <td>two-sided</td>\n",
       "      <td>0.012502</td>\n",
       "      <td>3.523</td>\n",
       "      <td>-0.490749</td>\n",
       "    </tr>\n",
       "    <tr>\n",
       "      <th>5</th>\n",
       "      <td>Label</td>\n",
       "      <td>-</td>\n",
       "      <td>No-label</td>\n",
       "      <td>Nutriscore</td>\n",
       "      <td>False</td>\n",
       "      <td>True</td>\n",
       "      <td>-3.567467</td>\n",
       "      <td>80.499997</td>\n",
       "      <td>two-sided</td>\n",
       "      <td>0.000611</td>\n",
       "      <td>46.198</td>\n",
       "      <td>-0.749068</td>\n",
       "    </tr>\n",
       "    <tr>\n",
       "      <th>6</th>\n",
       "      <td>Rank * Label</td>\n",
       "      <td>Health</td>\n",
       "      <td>MTL</td>\n",
       "      <td>No-label</td>\n",
       "      <td>False</td>\n",
       "      <td>True</td>\n",
       "      <td>0.323279</td>\n",
       "      <td>69.834864</td>\n",
       "      <td>two-sided</td>\n",
       "      <td>0.747450</td>\n",
       "      <td>0.234</td>\n",
       "      <td>0.068133</td>\n",
       "    </tr>\n",
       "    <tr>\n",
       "      <th>7</th>\n",
       "      <td>Rank * Label</td>\n",
       "      <td>Health</td>\n",
       "      <td>MTL</td>\n",
       "      <td>Nutriscore</td>\n",
       "      <td>False</td>\n",
       "      <td>True</td>\n",
       "      <td>-1.846404</td>\n",
       "      <td>88.732985</td>\n",
       "      <td>two-sided</td>\n",
       "      <td>0.068167</td>\n",
       "      <td>0.925</td>\n",
       "      <td>-0.361668</td>\n",
       "    </tr>\n",
       "    <tr>\n",
       "      <th>8</th>\n",
       "      <td>Rank * Label</td>\n",
       "      <td>Health</td>\n",
       "      <td>No-label</td>\n",
       "      <td>Nutriscore</td>\n",
       "      <td>False</td>\n",
       "      <td>True</td>\n",
       "      <td>-1.938836</td>\n",
       "      <td>80.401223</td>\n",
       "      <td>two-sided</td>\n",
       "      <td>0.056030</td>\n",
       "      <td>1.168</td>\n",
       "      <td>-0.407613</td>\n",
       "    </tr>\n",
       "    <tr>\n",
       "      <th>9</th>\n",
       "      <td>Rank * Label</td>\n",
       "      <td>Popular</td>\n",
       "      <td>MTL</td>\n",
       "      <td>No-label</td>\n",
       "      <td>False</td>\n",
       "      <td>True</td>\n",
       "      <td>2.603295</td>\n",
       "      <td>91.518975</td>\n",
       "      <td>two-sided</td>\n",
       "      <td>0.010772</td>\n",
       "      <td>4.136</td>\n",
       "      <td>0.461319</td>\n",
       "    </tr>\n",
       "    <tr>\n",
       "      <th>10</th>\n",
       "      <td>Rank * Label</td>\n",
       "      <td>Popular</td>\n",
       "      <td>MTL</td>\n",
       "      <td>Nutriscore</td>\n",
       "      <td>False</td>\n",
       "      <td>True</td>\n",
       "      <td>-0.865254</td>\n",
       "      <td>105.565446</td>\n",
       "      <td>two-sided</td>\n",
       "      <td>0.388862</td>\n",
       "      <td>0.284</td>\n",
       "      <td>-0.163575</td>\n",
       "    </tr>\n",
       "    <tr>\n",
       "      <th>11</th>\n",
       "      <td>Rank * Label</td>\n",
       "      <td>Popular</td>\n",
       "      <td>No-label</td>\n",
       "      <td>Nutriscore</td>\n",
       "      <td>False</td>\n",
       "      <td>True</td>\n",
       "      <td>-3.550130</td>\n",
       "      <td>75.724219</td>\n",
       "      <td>two-sided</td>\n",
       "      <td>0.000666</td>\n",
       "      <td>43.996</td>\n",
       "      <td>-0.705979</td>\n",
       "    </tr>\n",
       "    <tr>\n",
       "      <th>12</th>\n",
       "      <td>Rank * Label</td>\n",
       "      <td>Random</td>\n",
       "      <td>MTL</td>\n",
       "      <td>No-label</td>\n",
       "      <td>False</td>\n",
       "      <td>True</td>\n",
       "      <td>-0.750707</td>\n",
       "      <td>66.382257</td>\n",
       "      <td>two-sided</td>\n",
       "      <td>0.455482</td>\n",
       "      <td>0.286</td>\n",
       "      <td>-0.160957</td>\n",
       "    </tr>\n",
       "    <tr>\n",
       "      <th>13</th>\n",
       "      <td>Rank * Label</td>\n",
       "      <td>Random</td>\n",
       "      <td>MTL</td>\n",
       "      <td>Nutriscore</td>\n",
       "      <td>False</td>\n",
       "      <td>True</td>\n",
       "      <td>-1.424385</td>\n",
       "      <td>88.595260</td>\n",
       "      <td>two-sided</td>\n",
       "      <td>0.157848</td>\n",
       "      <td>0.502</td>\n",
       "      <td>-0.279071</td>\n",
       "    </tr>\n",
       "    <tr>\n",
       "      <th>14</th>\n",
       "      <td>Rank * Label</td>\n",
       "      <td>Random</td>\n",
       "      <td>No-label</td>\n",
       "      <td>Nutriscore</td>\n",
       "      <td>False</td>\n",
       "      <td>True</td>\n",
       "      <td>-0.610059</td>\n",
       "      <td>79.343389</td>\n",
       "      <td>two-sided</td>\n",
       "      <td>0.543566</td>\n",
       "      <td>0.273</td>\n",
       "      <td>-0.129529</td>\n",
       "    </tr>\n",
       "  </tbody>\n",
       "</table>\n",
       "</div>"
      ],
      "text/plain": [
       "        Contrast     Rank         A           B Paired  Parametric         T  \\\n",
       "0           Rank        -    Health     Popular   True        True -1.133395   \n",
       "1           Rank        -    Health      Random   True        True  0.039178   \n",
       "2           Rank        -   Popular      Random   True        True  1.075967   \n",
       "3          Label        -       MTL    No-label  False        True  1.272278   \n",
       "4          Label        -       MTL  Nutriscore  False        True -2.544880   \n",
       "5          Label        -  No-label  Nutriscore  False        True -3.567467   \n",
       "6   Rank * Label   Health       MTL    No-label  False        True  0.323279   \n",
       "7   Rank * Label   Health       MTL  Nutriscore  False        True -1.846404   \n",
       "8   Rank * Label   Health  No-label  Nutriscore  False        True -1.938836   \n",
       "9   Rank * Label  Popular       MTL    No-label  False        True  2.603295   \n",
       "10  Rank * Label  Popular       MTL  Nutriscore  False        True -0.865254   \n",
       "11  Rank * Label  Popular  No-label  Nutriscore  False        True -3.550130   \n",
       "12  Rank * Label   Random       MTL    No-label  False        True -0.750707   \n",
       "13  Rank * Label   Random       MTL  Nutriscore  False        True -1.424385   \n",
       "14  Rank * Label   Random  No-label  Nutriscore  False        True -0.610059   \n",
       "\n",
       "           dof       Tail     p-unc    BF10    hedges  \n",
       "0   143.000000  two-sided  0.258945   0.174 -0.133307  \n",
       "1   143.000000  two-sided  0.968803   0.093  0.004648  \n",
       "2   143.000000  two-sided  0.283754   0.163  0.133674  \n",
       "3    79.029169  two-sided  0.207005   0.454  0.256636  \n",
       "4    97.376783  two-sided  0.012502   3.523 -0.490749  \n",
       "5    80.499997  two-sided  0.000611  46.198 -0.749068  \n",
       "6    69.834864  two-sided  0.747450   0.234  0.068133  \n",
       "7    88.732985  two-sided  0.068167   0.925 -0.361668  \n",
       "8    80.401223  two-sided  0.056030   1.168 -0.407613  \n",
       "9    91.518975  two-sided  0.010772   4.136  0.461319  \n",
       "10  105.565446  two-sided  0.388862   0.284 -0.163575  \n",
       "11   75.724219  two-sided  0.000666  43.996 -0.705979  \n",
       "12   66.382257  two-sided  0.455482   0.286 -0.160957  \n",
       "13   88.595260  two-sided  0.157848   0.502 -0.279071  \n",
       "14   79.343389  two-sided  0.543566   0.273 -0.129529  "
      ]
     },
     "execution_count": 474,
     "metadata": {},
     "output_type": "execute_result"
    }
   ],
   "source": [
    "pg.pairwise_ttests(data=low_cooking, dv='who_score', between='Label', within='Rank', subject='user_id')"
   ]
  },
  {
   "cell_type": "code",
   "execution_count": null,
   "id": "former-communication",
   "metadata": {},
   "outputs": [],
   "source": []
  },
  {
   "cell_type": "code",
   "execution_count": 165,
   "id": "extreme-place",
   "metadata": {},
   "outputs": [
    {
     "data": {
      "text/html": [
       "<div>\n",
       "<style scoped>\n",
       "    .dataframe tbody tr th:only-of-type {\n",
       "        vertical-align: middle;\n",
       "    }\n",
       "\n",
       "    .dataframe tbody tr th {\n",
       "        vertical-align: top;\n",
       "    }\n",
       "\n",
       "    .dataframe thead th {\n",
       "        text-align: right;\n",
       "    }\n",
       "</style>\n",
       "<table border=\"1\" class=\"dataframe\">\n",
       "  <thead>\n",
       "    <tr style=\"text-align: right;\">\n",
       "      <th></th>\n",
       "      <th>Contrast</th>\n",
       "      <th>Rank</th>\n",
       "      <th>A</th>\n",
       "      <th>B</th>\n",
       "      <th>Paired</th>\n",
       "      <th>Parametric</th>\n",
       "      <th>T</th>\n",
       "      <th>dof</th>\n",
       "      <th>Tail</th>\n",
       "      <th>p-unc</th>\n",
       "      <th>BF10</th>\n",
       "      <th>hedges</th>\n",
       "    </tr>\n",
       "  </thead>\n",
       "  <tbody>\n",
       "    <tr>\n",
       "      <th>0</th>\n",
       "      <td>Rank</td>\n",
       "      <td>-</td>\n",
       "      <td>Health</td>\n",
       "      <td>Popular</td>\n",
       "      <td>True</td>\n",
       "      <td>True</td>\n",
       "      <td>0.558052</td>\n",
       "      <td>355.000000</td>\n",
       "      <td>two-sided</td>\n",
       "      <td>0.577160</td>\n",
       "      <td>0.069</td>\n",
       "      <td>0.044377</td>\n",
       "    </tr>\n",
       "    <tr>\n",
       "      <th>1</th>\n",
       "      <td>Rank</td>\n",
       "      <td>-</td>\n",
       "      <td>Health</td>\n",
       "      <td>Random</td>\n",
       "      <td>True</td>\n",
       "      <td>True</td>\n",
       "      <td>1.344561</td>\n",
       "      <td>355.000000</td>\n",
       "      <td>two-sided</td>\n",
       "      <td>0.179625</td>\n",
       "      <td>0.145</td>\n",
       "      <td>0.096869</td>\n",
       "    </tr>\n",
       "    <tr>\n",
       "      <th>2</th>\n",
       "      <td>Rank</td>\n",
       "      <td>-</td>\n",
       "      <td>Popular</td>\n",
       "      <td>Random</td>\n",
       "      <td>True</td>\n",
       "      <td>True</td>\n",
       "      <td>0.651514</td>\n",
       "      <td>355.000000</td>\n",
       "      <td>two-sided</td>\n",
       "      <td>0.515137</td>\n",
       "      <td>0.073</td>\n",
       "      <td>0.049489</td>\n",
       "    </tr>\n",
       "    <tr>\n",
       "      <th>3</th>\n",
       "      <td>Label</td>\n",
       "      <td>-</td>\n",
       "      <td>MTL</td>\n",
       "      <td>No-label</td>\n",
       "      <td>False</td>\n",
       "      <td>True</td>\n",
       "      <td>4.303010</td>\n",
       "      <td>219.419990</td>\n",
       "      <td>two-sided</td>\n",
       "      <td>0.000025</td>\n",
       "      <td>705.137</td>\n",
       "      <td>0.552182</td>\n",
       "    </tr>\n",
       "    <tr>\n",
       "      <th>4</th>\n",
       "      <td>Label</td>\n",
       "      <td>-</td>\n",
       "      <td>MTL</td>\n",
       "      <td>Nutriscore</td>\n",
       "      <td>False</td>\n",
       "      <td>True</td>\n",
       "      <td>0.404344</td>\n",
       "      <td>226.825073</td>\n",
       "      <td>two-sided</td>\n",
       "      <td>0.686341</td>\n",
       "      <td>0.156</td>\n",
       "      <td>0.053196</td>\n",
       "    </tr>\n",
       "    <tr>\n",
       "      <th>5</th>\n",
       "      <td>Label</td>\n",
       "      <td>-</td>\n",
       "      <td>No-label</td>\n",
       "      <td>Nutriscore</td>\n",
       "      <td>False</td>\n",
       "      <td>True</td>\n",
       "      <td>-3.874166</td>\n",
       "      <td>207.483444</td>\n",
       "      <td>two-sided</td>\n",
       "      <td>0.000143</td>\n",
       "      <td>145.777</td>\n",
       "      <td>-0.511173</td>\n",
       "    </tr>\n",
       "    <tr>\n",
       "      <th>6</th>\n",
       "      <td>Rank * Label</td>\n",
       "      <td>Health</td>\n",
       "      <td>MTL</td>\n",
       "      <td>No-label</td>\n",
       "      <td>False</td>\n",
       "      <td>True</td>\n",
       "      <td>2.901487</td>\n",
       "      <td>220.148033</td>\n",
       "      <td>two-sided</td>\n",
       "      <td>0.004091</td>\n",
       "      <td>7.167</td>\n",
       "      <td>0.372263</td>\n",
       "    </tr>\n",
       "    <tr>\n",
       "      <th>7</th>\n",
       "      <td>Rank * Label</td>\n",
       "      <td>Health</td>\n",
       "      <td>MTL</td>\n",
       "      <td>Nutriscore</td>\n",
       "      <td>False</td>\n",
       "      <td>True</td>\n",
       "      <td>0.306384</td>\n",
       "      <td>226.037204</td>\n",
       "      <td>two-sided</td>\n",
       "      <td>0.759594</td>\n",
       "      <td>0.151</td>\n",
       "      <td>0.040368</td>\n",
       "    </tr>\n",
       "    <tr>\n",
       "      <th>8</th>\n",
       "      <td>Rank * Label</td>\n",
       "      <td>Health</td>\n",
       "      <td>No-label</td>\n",
       "      <td>Nutriscore</td>\n",
       "      <td>False</td>\n",
       "      <td>True</td>\n",
       "      <td>-2.505867</td>\n",
       "      <td>203.600339</td>\n",
       "      <td>two-sided</td>\n",
       "      <td>0.012998</td>\n",
       "      <td>2.694</td>\n",
       "      <td>-0.331340</td>\n",
       "    </tr>\n",
       "    <tr>\n",
       "      <th>9</th>\n",
       "      <td>Rank * Label</td>\n",
       "      <td>Popular</td>\n",
       "      <td>MTL</td>\n",
       "      <td>No-label</td>\n",
       "      <td>False</td>\n",
       "      <td>True</td>\n",
       "      <td>1.233307</td>\n",
       "      <td>239.258999</td>\n",
       "      <td>two-sided</td>\n",
       "      <td>0.218671</td>\n",
       "      <td>0.287</td>\n",
       "      <td>0.157253</td>\n",
       "    </tr>\n",
       "    <tr>\n",
       "      <th>10</th>\n",
       "      <td>Rank * Label</td>\n",
       "      <td>Popular</td>\n",
       "      <td>MTL</td>\n",
       "      <td>Nutriscore</td>\n",
       "      <td>False</td>\n",
       "      <td>True</td>\n",
       "      <td>-0.632628</td>\n",
       "      <td>221.640054</td>\n",
       "      <td>two-sided</td>\n",
       "      <td>0.527629</td>\n",
       "      <td>0.175</td>\n",
       "      <td>-0.083651</td>\n",
       "    </tr>\n",
       "    <tr>\n",
       "      <th>11</th>\n",
       "      <td>Rank * Label</td>\n",
       "      <td>Popular</td>\n",
       "      <td>No-label</td>\n",
       "      <td>Nutriscore</td>\n",
       "      <td>False</td>\n",
       "      <td>True</td>\n",
       "      <td>-1.814333</td>\n",
       "      <td>216.304065</td>\n",
       "      <td>two-sided</td>\n",
       "      <td>0.071012</td>\n",
       "      <td>0.67</td>\n",
       "      <td>-0.238147</td>\n",
       "    </tr>\n",
       "    <tr>\n",
       "      <th>12</th>\n",
       "      <td>Rank * Label</td>\n",
       "      <td>Random</td>\n",
       "      <td>MTL</td>\n",
       "      <td>No-label</td>\n",
       "      <td>False</td>\n",
       "      <td>True</td>\n",
       "      <td>3.259809</td>\n",
       "      <td>216.396809</td>\n",
       "      <td>two-sided</td>\n",
       "      <td>0.001295</td>\n",
       "      <td>19.794</td>\n",
       "      <td>0.418626</td>\n",
       "    </tr>\n",
       "    <tr>\n",
       "      <th>13</th>\n",
       "      <td>Rank * Label</td>\n",
       "      <td>Random</td>\n",
       "      <td>MTL</td>\n",
       "      <td>Nutriscore</td>\n",
       "      <td>False</td>\n",
       "      <td>True</td>\n",
       "      <td>1.028952</td>\n",
       "      <td>221.971961</td>\n",
       "      <td>two-sided</td>\n",
       "      <td>0.304622</td>\n",
       "      <td>0.238</td>\n",
       "      <td>0.136030</td>\n",
       "    </tr>\n",
       "    <tr>\n",
       "      <th>14</th>\n",
       "      <td>Rank * Label</td>\n",
       "      <td>Random</td>\n",
       "      <td>No-label</td>\n",
       "      <td>Nutriscore</td>\n",
       "      <td>False</td>\n",
       "      <td>True</td>\n",
       "      <td>-1.856940</td>\n",
       "      <td>188.980118</td>\n",
       "      <td>two-sided</td>\n",
       "      <td>0.064876</td>\n",
       "      <td>0.721</td>\n",
       "      <td>-0.247410</td>\n",
       "    </tr>\n",
       "  </tbody>\n",
       "</table>\n",
       "</div>"
      ],
      "text/plain": [
       "        Contrast     Rank         A           B Paired  Parametric         T  \\\n",
       "0           Rank        -    Health     Popular   True        True  0.558052   \n",
       "1           Rank        -    Health      Random   True        True  1.344561   \n",
       "2           Rank        -   Popular      Random   True        True  0.651514   \n",
       "3          Label        -       MTL    No-label  False        True  4.303010   \n",
       "4          Label        -       MTL  Nutriscore  False        True  0.404344   \n",
       "5          Label        -  No-label  Nutriscore  False        True -3.874166   \n",
       "6   Rank * Label   Health       MTL    No-label  False        True  2.901487   \n",
       "7   Rank * Label   Health       MTL  Nutriscore  False        True  0.306384   \n",
       "8   Rank * Label   Health  No-label  Nutriscore  False        True -2.505867   \n",
       "9   Rank * Label  Popular       MTL    No-label  False        True  1.233307   \n",
       "10  Rank * Label  Popular       MTL  Nutriscore  False        True -0.632628   \n",
       "11  Rank * Label  Popular  No-label  Nutriscore  False        True -1.814333   \n",
       "12  Rank * Label   Random       MTL    No-label  False        True  3.259809   \n",
       "13  Rank * Label   Random       MTL  Nutriscore  False        True  1.028952   \n",
       "14  Rank * Label   Random  No-label  Nutriscore  False        True -1.856940   \n",
       "\n",
       "           dof       Tail     p-unc     BF10    hedges  \n",
       "0   355.000000  two-sided  0.577160    0.069  0.044377  \n",
       "1   355.000000  two-sided  0.179625    0.145  0.096869  \n",
       "2   355.000000  two-sided  0.515137    0.073  0.049489  \n",
       "3   219.419990  two-sided  0.000025  705.137  0.552182  \n",
       "4   226.825073  two-sided  0.686341    0.156  0.053196  \n",
       "5   207.483444  two-sided  0.000143  145.777 -0.511173  \n",
       "6   220.148033  two-sided  0.004091    7.167  0.372263  \n",
       "7   226.037204  two-sided  0.759594    0.151  0.040368  \n",
       "8   203.600339  two-sided  0.012998    2.694 -0.331340  \n",
       "9   239.258999  two-sided  0.218671    0.287  0.157253  \n",
       "10  221.640054  two-sided  0.527629    0.175 -0.083651  \n",
       "11  216.304065  two-sided  0.071012     0.67 -0.238147  \n",
       "12  216.396809  two-sided  0.001295   19.794  0.418626  \n",
       "13  221.971961  two-sided  0.304622    0.238  0.136030  \n",
       "14  188.980118  two-sided  0.064876    0.721 -0.247410  "
      ]
     },
     "execution_count": 165,
     "metadata": {},
     "output_type": "execute_result"
    }
   ],
   "source": [
    "pg.pairwise_ttests(data=medium_cooking, dv='who_score', between='Label', within='Rank', subject='user_id')"
   ]
  },
  {
   "cell_type": "code",
   "execution_count": null,
   "id": "emotional-enlargement",
   "metadata": {},
   "outputs": [],
   "source": []
  },
  {
   "cell_type": "code",
   "execution_count": 166,
   "id": "addressed-narrow",
   "metadata": {},
   "outputs": [
    {
     "data": {
      "text/html": [
       "<div>\n",
       "<style scoped>\n",
       "    .dataframe tbody tr th:only-of-type {\n",
       "        vertical-align: middle;\n",
       "    }\n",
       "\n",
       "    .dataframe tbody tr th {\n",
       "        vertical-align: top;\n",
       "    }\n",
       "\n",
       "    .dataframe thead th {\n",
       "        text-align: right;\n",
       "    }\n",
       "</style>\n",
       "<table border=\"1\" class=\"dataframe\">\n",
       "  <thead>\n",
       "    <tr style=\"text-align: right;\">\n",
       "      <th></th>\n",
       "      <th>Contrast</th>\n",
       "      <th>Rank</th>\n",
       "      <th>A</th>\n",
       "      <th>B</th>\n",
       "      <th>Paired</th>\n",
       "      <th>Parametric</th>\n",
       "      <th>T</th>\n",
       "      <th>dof</th>\n",
       "      <th>Tail</th>\n",
       "      <th>p-unc</th>\n",
       "      <th>BF10</th>\n",
       "      <th>hedges</th>\n",
       "    </tr>\n",
       "  </thead>\n",
       "  <tbody>\n",
       "    <tr>\n",
       "      <th>0</th>\n",
       "      <td>Rank</td>\n",
       "      <td>-</td>\n",
       "      <td>Health</td>\n",
       "      <td>Popular</td>\n",
       "      <td>True</td>\n",
       "      <td>True</td>\n",
       "      <td>-0.967076</td>\n",
       "      <td>186.000000</td>\n",
       "      <td>two-sided</td>\n",
       "      <td>0.334762</td>\n",
       "      <td>0.129</td>\n",
       "      <td>-0.100462</td>\n",
       "    </tr>\n",
       "    <tr>\n",
       "      <th>1</th>\n",
       "      <td>Rank</td>\n",
       "      <td>-</td>\n",
       "      <td>Health</td>\n",
       "      <td>Random</td>\n",
       "      <td>True</td>\n",
       "      <td>True</td>\n",
       "      <td>0.424930</td>\n",
       "      <td>186.000000</td>\n",
       "      <td>two-sided</td>\n",
       "      <td>0.671379</td>\n",
       "      <td>0.089</td>\n",
       "      <td>0.044678</td>\n",
       "    </tr>\n",
       "    <tr>\n",
       "      <th>2</th>\n",
       "      <td>Rank</td>\n",
       "      <td>-</td>\n",
       "      <td>Popular</td>\n",
       "      <td>Random</td>\n",
       "      <td>True</td>\n",
       "      <td>True</td>\n",
       "      <td>1.489367</td>\n",
       "      <td>186.000000</td>\n",
       "      <td>two-sided</td>\n",
       "      <td>0.138084</td>\n",
       "      <td>0.242</td>\n",
       "      <td>0.154998</td>\n",
       "    </tr>\n",
       "    <tr>\n",
       "      <th>3</th>\n",
       "      <td>Label</td>\n",
       "      <td>-</td>\n",
       "      <td>MTL</td>\n",
       "      <td>No-label</td>\n",
       "      <td>False</td>\n",
       "      <td>True</td>\n",
       "      <td>0.238460</td>\n",
       "      <td>101.838873</td>\n",
       "      <td>two-sided</td>\n",
       "      <td>0.812004</td>\n",
       "      <td>0.204</td>\n",
       "      <td>0.044692</td>\n",
       "    </tr>\n",
       "    <tr>\n",
       "      <th>4</th>\n",
       "      <td>Label</td>\n",
       "      <td>-</td>\n",
       "      <td>MTL</td>\n",
       "      <td>Nutriscore</td>\n",
       "      <td>False</td>\n",
       "      <td>True</td>\n",
       "      <td>-0.247128</td>\n",
       "      <td>110.676131</td>\n",
       "      <td>two-sided</td>\n",
       "      <td>0.805267</td>\n",
       "      <td>0.202</td>\n",
       "      <td>-0.044832</td>\n",
       "    </tr>\n",
       "    <tr>\n",
       "      <th>5</th>\n",
       "      <td>Label</td>\n",
       "      <td>-</td>\n",
       "      <td>No-label</td>\n",
       "      <td>Nutriscore</td>\n",
       "      <td>False</td>\n",
       "      <td>True</td>\n",
       "      <td>-0.524457</td>\n",
       "      <td>133.564028</td>\n",
       "      <td>two-sided</td>\n",
       "      <td>0.600830</td>\n",
       "      <td>0.208</td>\n",
       "      <td>-0.088848</td>\n",
       "    </tr>\n",
       "    <tr>\n",
       "      <th>6</th>\n",
       "      <td>Rank * Label</td>\n",
       "      <td>Health</td>\n",
       "      <td>MTL</td>\n",
       "      <td>No-label</td>\n",
       "      <td>False</td>\n",
       "      <td>True</td>\n",
       "      <td>0.035349</td>\n",
       "      <td>102.891148</td>\n",
       "      <td>two-sided</td>\n",
       "      <td>0.971870</td>\n",
       "      <td>0.199</td>\n",
       "      <td>0.006609</td>\n",
       "    </tr>\n",
       "    <tr>\n",
       "      <th>7</th>\n",
       "      <td>Rank * Label</td>\n",
       "      <td>Health</td>\n",
       "      <td>MTL</td>\n",
       "      <td>Nutriscore</td>\n",
       "      <td>False</td>\n",
       "      <td>True</td>\n",
       "      <td>-1.067444</td>\n",
       "      <td>116.020693</td>\n",
       "      <td>two-sided</td>\n",
       "      <td>0.287988</td>\n",
       "      <td>0.329</td>\n",
       "      <td>-0.189708</td>\n",
       "    </tr>\n",
       "    <tr>\n",
       "      <th>8</th>\n",
       "      <td>Rank * Label</td>\n",
       "      <td>Health</td>\n",
       "      <td>No-label</td>\n",
       "      <td>Nutriscore</td>\n",
       "      <td>False</td>\n",
       "      <td>True</td>\n",
       "      <td>-1.195123</td>\n",
       "      <td>129.388297</td>\n",
       "      <td>two-sided</td>\n",
       "      <td>0.234225</td>\n",
       "      <td>0.351</td>\n",
       "      <td>-0.202003</td>\n",
       "    </tr>\n",
       "    <tr>\n",
       "      <th>9</th>\n",
       "      <td>Rank * Label</td>\n",
       "      <td>Popular</td>\n",
       "      <td>MTL</td>\n",
       "      <td>No-label</td>\n",
       "      <td>False</td>\n",
       "      <td>True</td>\n",
       "      <td>0.189286</td>\n",
       "      <td>102.086961</td>\n",
       "      <td>two-sided</td>\n",
       "      <td>0.850245</td>\n",
       "      <td>0.202</td>\n",
       "      <td>0.035456</td>\n",
       "    </tr>\n",
       "    <tr>\n",
       "      <th>10</th>\n",
       "      <td>Rank * Label</td>\n",
       "      <td>Popular</td>\n",
       "      <td>MTL</td>\n",
       "      <td>Nutriscore</td>\n",
       "      <td>False</td>\n",
       "      <td>True</td>\n",
       "      <td>0.577327</td>\n",
       "      <td>105.617869</td>\n",
       "      <td>two-sided</td>\n",
       "      <td>0.564947</td>\n",
       "      <td>0.229</td>\n",
       "      <td>0.106243</td>\n",
       "    </tr>\n",
       "    <tr>\n",
       "      <th>11</th>\n",
       "      <td>Rank * Label</td>\n",
       "      <td>Popular</td>\n",
       "      <td>No-label</td>\n",
       "      <td>Nutriscore</td>\n",
       "      <td>False</td>\n",
       "      <td>True</td>\n",
       "      <td>0.436437</td>\n",
       "      <td>134.969519</td>\n",
       "      <td>two-sided</td>\n",
       "      <td>0.663217</td>\n",
       "      <td>0.2</td>\n",
       "      <td>0.074081</td>\n",
       "    </tr>\n",
       "    <tr>\n",
       "      <th>12</th>\n",
       "      <td>Rank * Label</td>\n",
       "      <td>Random</td>\n",
       "      <td>MTL</td>\n",
       "      <td>No-label</td>\n",
       "      <td>False</td>\n",
       "      <td>True</td>\n",
       "      <td>0.176312</td>\n",
       "      <td>101.271814</td>\n",
       "      <td>two-sided</td>\n",
       "      <td>0.860401</td>\n",
       "      <td>0.201</td>\n",
       "      <td>0.033088</td>\n",
       "    </tr>\n",
       "    <tr>\n",
       "      <th>13</th>\n",
       "      <td>Rank * Label</td>\n",
       "      <td>Random</td>\n",
       "      <td>MTL</td>\n",
       "      <td>Nutriscore</td>\n",
       "      <td>False</td>\n",
       "      <td>True</td>\n",
       "      <td>0.159118</td>\n",
       "      <td>101.715034</td>\n",
       "      <td>two-sided</td>\n",
       "      <td>0.873891</td>\n",
       "      <td>0.199</td>\n",
       "      <td>0.029574</td>\n",
       "    </tr>\n",
       "    <tr>\n",
       "      <th>14</th>\n",
       "      <td>Rank * Label</td>\n",
       "      <td>Random</td>\n",
       "      <td>No-label</td>\n",
       "      <td>Nutriscore</td>\n",
       "      <td>False</td>\n",
       "      <td>True</td>\n",
       "      <td>-0.020140</td>\n",
       "      <td>134.868673</td>\n",
       "      <td>two-sided</td>\n",
       "      <td>0.983962</td>\n",
       "      <td>0.183</td>\n",
       "      <td>-0.003422</td>\n",
       "    </tr>\n",
       "  </tbody>\n",
       "</table>\n",
       "</div>"
      ],
      "text/plain": [
       "        Contrast     Rank         A           B Paired  Parametric         T  \\\n",
       "0           Rank        -    Health     Popular   True        True -0.967076   \n",
       "1           Rank        -    Health      Random   True        True  0.424930   \n",
       "2           Rank        -   Popular      Random   True        True  1.489367   \n",
       "3          Label        -       MTL    No-label  False        True  0.238460   \n",
       "4          Label        -       MTL  Nutriscore  False        True -0.247128   \n",
       "5          Label        -  No-label  Nutriscore  False        True -0.524457   \n",
       "6   Rank * Label   Health       MTL    No-label  False        True  0.035349   \n",
       "7   Rank * Label   Health       MTL  Nutriscore  False        True -1.067444   \n",
       "8   Rank * Label   Health  No-label  Nutriscore  False        True -1.195123   \n",
       "9   Rank * Label  Popular       MTL    No-label  False        True  0.189286   \n",
       "10  Rank * Label  Popular       MTL  Nutriscore  False        True  0.577327   \n",
       "11  Rank * Label  Popular  No-label  Nutriscore  False        True  0.436437   \n",
       "12  Rank * Label   Random       MTL    No-label  False        True  0.176312   \n",
       "13  Rank * Label   Random       MTL  Nutriscore  False        True  0.159118   \n",
       "14  Rank * Label   Random  No-label  Nutriscore  False        True -0.020140   \n",
       "\n",
       "           dof       Tail     p-unc   BF10    hedges  \n",
       "0   186.000000  two-sided  0.334762  0.129 -0.100462  \n",
       "1   186.000000  two-sided  0.671379  0.089  0.044678  \n",
       "2   186.000000  two-sided  0.138084  0.242  0.154998  \n",
       "3   101.838873  two-sided  0.812004  0.204  0.044692  \n",
       "4   110.676131  two-sided  0.805267  0.202 -0.044832  \n",
       "5   133.564028  two-sided  0.600830  0.208 -0.088848  \n",
       "6   102.891148  two-sided  0.971870  0.199  0.006609  \n",
       "7   116.020693  two-sided  0.287988  0.329 -0.189708  \n",
       "8   129.388297  two-sided  0.234225  0.351 -0.202003  \n",
       "9   102.086961  two-sided  0.850245  0.202  0.035456  \n",
       "10  105.617869  two-sided  0.564947  0.229  0.106243  \n",
       "11  134.969519  two-sided  0.663217    0.2  0.074081  \n",
       "12  101.271814  two-sided  0.860401  0.201  0.033088  \n",
       "13  101.715034  two-sided  0.873891  0.199  0.029574  \n",
       "14  134.868673  two-sided  0.983962  0.183 -0.003422  "
      ]
     },
     "execution_count": 166,
     "metadata": {},
     "output_type": "execute_result"
    }
   ],
   "source": [
    "pg.pairwise_ttests(data=high_cooking, dv='who_score', between='Label', within='Rank', subject='user_id')"
   ]
  },
  {
   "cell_type": "markdown",
   "id": "annual-cannon",
   "metadata": {},
   "source": [
    "### T-test -Low cooking experience\n",
    "* Any difference between Nutriscore and MTL for participants with low cooking eperience? "
   ]
  },
  {
   "cell_type": "code",
   "execution_count": 179,
   "id": "sound-noise",
   "metadata": {},
   "outputs": [
    {
     "data": {
      "text/plain": [
       "Ttest_indResult(statistic=0.8586507188889744, pvalue=0.39243496022873636)"
      ]
     },
     "execution_count": 179,
     "metadata": {},
     "output_type": "execute_result"
    }
   ],
   "source": [
    "# Variant 1\n",
    "ttest_ind(low_cooking['who_score'][(low_cooking['condition'] == 1)&(low_cooking['variant'] == 1)],low_cooking['who_score'][(low_cooking['condition'] == 2)&(low_cooking['variant'] == 1)])"
   ]
  },
  {
   "cell_type": "code",
   "execution_count": 180,
   "id": "activated-crystal",
   "metadata": {},
   "outputs": [
    {
     "data": {
      "text/plain": [
       "Ttest_indResult(statistic=1.4649221237915206, pvalue=0.14584723607943795)"
      ]
     },
     "execution_count": 180,
     "metadata": {},
     "output_type": "execute_result"
    }
   ],
   "source": [
    "# Variant 2\n",
    "ttest_ind(low_cooking['who_score'][(low_cooking['condition'] == 1)&(low_cooking['variant'] == 2)],low_cooking['who_score'][(low_cooking['condition'] == 2)&(low_cooking['variant'] == 2)])"
   ]
  },
  {
   "cell_type": "code",
   "execution_count": 181,
   "id": "premier-blackjack",
   "metadata": {},
   "outputs": [
    {
     "data": {
      "text/plain": [
       "Ttest_indResult(statistic=1.8985005967230093, pvalue=0.06029922715544506)"
      ]
     },
     "execution_count": 181,
     "metadata": {},
     "output_type": "execute_result"
    }
   ],
   "source": [
    "# Variant 3\n",
    "ttest_ind(low_cooking['who_score'][(low_cooking['condition'] == 1)&(low_cooking['variant'] == 3)],low_cooking['who_score'][(low_cooking['condition'] == 2)&(low_cooking['variant'] == 3)])"
   ]
  },
  {
   "cell_type": "code",
   "execution_count": 196,
   "id": "persistent-limit",
   "metadata": {},
   "outputs": [
    {
     "data": {
      "text/plain": [
       "3.3877551020408165"
      ]
     },
     "execution_count": 196,
     "metadata": {},
     "output_type": "execute_result"
    }
   ],
   "source": [
    "low_cooking['who_score'][(low_cooking['condition'] == 1)&(low_cooking['variant'] == 3)].mean()"
   ]
  },
  {
   "cell_type": "code",
   "execution_count": 195,
   "id": "respected-wireless",
   "metadata": {},
   "outputs": [
    {
     "data": {
      "text/plain": [
       "2.8524590163934427"
      ]
     },
     "execution_count": 195,
     "metadata": {},
     "output_type": "execute_result"
    }
   ],
   "source": [
    "low_cooking['who_score'][(low_cooking['condition'] == 2)&(low_cooking['variant'] == 3)].mean()"
   ]
  },
  {
   "cell_type": "markdown",
   "id": "comparable-matthew",
   "metadata": {},
   "source": [
    "### T-test - High cooking experience\n",
    "* Any difference between Nutriscore and MTL for participants with medium cooking eperience? "
   ]
  },
  {
   "cell_type": "code",
   "execution_count": 182,
   "id": "tough-playlist",
   "metadata": {},
   "outputs": [
    {
     "data": {
      "text/plain": [
       "Ttest_indResult(statistic=0.6345481709292609, pvalue=0.5263621310065123)"
      ]
     },
     "execution_count": 182,
     "metadata": {},
     "output_type": "execute_result"
    }
   ],
   "source": [
    "# Variant 1\n",
    "ttest_ind(medium_cooking['who_score'][(medium_cooking['condition'] == 1)&(medium_cooking['variant'] == 1)],medium_cooking['who_score'][(medium_cooking['condition'] == 2)&(medium_cooking['variant'] == 1)])"
   ]
  },
  {
   "cell_type": "code",
   "execution_count": 183,
   "id": "retired-puppy",
   "metadata": {},
   "outputs": [
    {
     "data": {
      "text/plain": [
       "Ttest_indResult(statistic=-1.0318705707260354, pvalue=0.3032308766292216)"
      ]
     },
     "execution_count": 183,
     "metadata": {},
     "output_type": "execute_result"
    }
   ],
   "source": [
    "# Variant 2\n",
    "ttest_ind(medium_cooking['who_score'][(medium_cooking['condition'] == 1)&(medium_cooking['variant'] == 2)],medium_cooking['who_score'][(medium_cooking['condition'] == 2)&(medium_cooking['variant'] == 2)])"
   ]
  },
  {
   "cell_type": "code",
   "execution_count": 184,
   "id": "continuous-association",
   "metadata": {},
   "outputs": [
    {
     "data": {
      "text/plain": [
       "Ttest_indResult(statistic=-0.30621819474333883, pvalue=0.7597191866494653)"
      ]
     },
     "execution_count": 184,
     "metadata": {},
     "output_type": "execute_result"
    }
   ],
   "source": [
    "# Variant 3\n",
    "ttest_ind(medium_cooking['who_score'][(medium_cooking['condition'] == 1)&(medium_cooking['variant'] == 3)],medium_cooking['who_score'][(medium_cooking['condition'] == 2)&(medium_cooking['variant'] == 3)])"
   ]
  },
  {
   "cell_type": "markdown",
   "id": "organizational-situation",
   "metadata": {},
   "source": [
    "### T-test - High cooking experience\n",
    "* Any difference between Nutriscore and MTL for participants with medium cooking eperience? "
   ]
  },
  {
   "cell_type": "code",
   "execution_count": 185,
   "id": "quiet-venue",
   "metadata": {},
   "outputs": [
    {
     "data": {
      "text/plain": [
       "Ttest_indResult(statistic=-0.5774554324372112, pvalue=0.5647320291393084)"
      ]
     },
     "execution_count": 185,
     "metadata": {},
     "output_type": "execute_result"
    }
   ],
   "source": [
    "# Variant 1\n",
    "ttest_ind(high_cooking['who_score'][(high_cooking['condition'] == 1)&(high_cooking['variant'] == 1)],high_cooking['who_score'][(high_cooking['condition'] == 2)&(high_cooking['variant'] == 1)])"
   ]
  },
  {
   "cell_type": "code",
   "execution_count": 186,
   "id": "constitutional-baseline",
   "metadata": {},
   "outputs": [
    {
     "data": {
      "text/plain": [
       "Ttest_indResult(statistic=-0.16074308177442156, pvalue=0.8725706248206697)"
      ]
     },
     "execution_count": 186,
     "metadata": {},
     "output_type": "execute_result"
    }
   ],
   "source": [
    "# Variant 2\n",
    "ttest_ind(high_cooking['who_score'][(high_cooking['condition'] == 1)&(high_cooking['variant'] == 2)],high_cooking['who_score'][(high_cooking['condition'] == 2)&(high_cooking['variant'] == 2)])"
   ]
  },
  {
   "cell_type": "code",
   "execution_count": 187,
   "id": "ultimate-macedonia",
   "metadata": {},
   "outputs": [
    {
     "data": {
      "text/plain": [
       "Ttest_indResult(statistic=1.0311069640788015, pvalue=0.3045994453217519)"
      ]
     },
     "execution_count": 187,
     "metadata": {},
     "output_type": "execute_result"
    }
   ],
   "source": [
    "# Variant 3\n",
    "ttest_ind(high_cooking['who_score'][(high_cooking['condition'] == 1)&(high_cooking['variant'] == 3)],high_cooking['who_score'][(high_cooking['condition'] == 2)&(high_cooking['variant'] == 3)])"
   ]
  },
  {
   "cell_type": "markdown",
   "id": "chubby-constitution",
   "metadata": {},
   "source": [
    "* No statistically significant differences when comparing variants between Nutriscore and MTL for participants with different cooking experience. \n",
    "* The largest difference was for participants with low cooking experience (pvalue=0.06029922715544506) in the Health ranking variant. According to the WHO score people in the MTL condition choose the healthiest recipes (mean WHO 2.852). In the Nutriscore condition (mean WHO 3.387) for participants in the healht ranking variant. However this difference was not statistically significant. When looking at FSA score for the same participants, Nutriscore performed best. \n",
    "* A bit hard to say which label is performing best beacuse it depends on which health score is used. \n"
   ]
  },
  {
   "cell_type": "markdown",
   "id": "joined-muslim",
   "metadata": {},
   "source": [
    "## Does education level influence which label is the best?"
   ]
  },
  {
   "cell_type": "markdown",
   "id": "nearby-liberal",
   "metadata": {},
   "source": [
    "## T-test -Low education\n",
    "* Any difference between Nutriscore and MTL for participants with low education?"
   ]
  },
  {
   "cell_type": "code",
   "execution_count": 478,
   "id": "unlikely-ecology",
   "metadata": {},
   "outputs": [
    {
     "data": {
      "text/plain": [
       "Ttest_indResult(statistic=-0.144375169894708, pvalue=0.8853859161842936)"
      ]
     },
     "execution_count": 478,
     "metadata": {},
     "output_type": "execute_result"
    }
   ],
   "source": [
    "# Variant 1\n",
    "ttest_ind(low_edu['who_score'][(low_edu['condition'] == 1)&(low_edu['variant'] == 1)],low_edu['who_score'][(low_edu['condition'] == 2)&(low_edu['variant'] == 1)])"
   ]
  },
  {
   "cell_type": "code",
   "execution_count": 479,
   "id": "corporate-father",
   "metadata": {},
   "outputs": [
    {
     "data": {
      "text/plain": [
       "Ttest_indResult(statistic=-1.2757207553556789, pvalue=0.2039032243498454)"
      ]
     },
     "execution_count": 479,
     "metadata": {},
     "output_type": "execute_result"
    }
   ],
   "source": [
    "# Variant 2\n",
    "ttest_ind(low_edu['who_score'][(low_edu['condition'] == 1)&(low_edu['variant'] == 2)],low_edu['who_score'][(low_edu['condition'] == 2)&(low_edu['variant'] == 2)])"
   ]
  },
  {
   "cell_type": "code",
   "execution_count": 480,
   "id": "proprietary-vancouver",
   "metadata": {},
   "outputs": [
    {
     "data": {
      "text/plain": [
       "Ttest_indResult(statistic=1.3506333116805376, pvalue=0.17872006099493826)"
      ]
     },
     "execution_count": 480,
     "metadata": {},
     "output_type": "execute_result"
    }
   ],
   "source": [
    "# Variant 3\n",
    "ttest_ind(low_edu['who_score'][(low_edu['condition'] == 1)&(low_edu['variant'] == 3)],low_edu['who_score'][(low_edu['condition'] == 2)&(low_edu['variant'] == 3)])"
   ]
  },
  {
   "cell_type": "markdown",
   "id": "desirable-detector",
   "metadata": {},
   "source": [
    "## T-test - Bachelor education\n",
    "* Any difference between Nutriscore and MTL for participants with medium (bachelor) education?"
   ]
  },
  {
   "cell_type": "code",
   "execution_count": 481,
   "id": "remarkable-fraud",
   "metadata": {},
   "outputs": [
    {
     "data": {
      "text/plain": [
       "Ttest_indResult(statistic=1.5674197458232526, pvalue=0.11860535019176006)"
      ]
     },
     "execution_count": 481,
     "metadata": {},
     "output_type": "execute_result"
    }
   ],
   "source": [
    "# Variant 1\n",
    "ttest_ind(bach_edu['who_score'][(bach_edu['condition'] == 1)&(bach_edu['variant'] == 1)],bach_edu['who_score'][(bach_edu['condition'] == 2)&(bach_edu['variant'] == 1)])"
   ]
  },
  {
   "cell_type": "code",
   "execution_count": 482,
   "id": "smart-eight",
   "metadata": {},
   "outputs": [
    {
     "data": {
      "text/plain": [
       "Ttest_indResult(statistic=0.5559554946201346, pvalue=0.5788658202030796)"
      ]
     },
     "execution_count": 482,
     "metadata": {},
     "output_type": "execute_result"
    }
   ],
   "source": [
    "# Variant 2\n",
    "ttest_ind(bach_edu['who_score'][(bach_edu['condition'] == 1)&(bach_edu['variant'] == 2)],bach_edu['who_score'][(bach_edu['condition'] == 2)&(bach_edu['variant'] == 2)])"
   ]
  },
  {
   "cell_type": "code",
   "execution_count": 483,
   "id": "expired-technique",
   "metadata": {},
   "outputs": [
    {
     "data": {
      "text/plain": [
       "Ttest_indResult(statistic=-0.13687972663686562, pvalue=0.8912642462934025)"
      ]
     },
     "execution_count": 483,
     "metadata": {},
     "output_type": "execute_result"
    }
   ],
   "source": [
    "# Variant 3\n",
    "ttest_ind(bach_edu['who_score'][(bach_edu['condition'] == 1)&(bach_edu['variant'] == 3)],bach_edu['who_score'][(bach_edu['condition'] == 2)&(bach_edu['variant'] == 3)])\n"
   ]
  },
  {
   "cell_type": "markdown",
   "id": "raised-entrepreneur",
   "metadata": {},
   "source": [
    "## T-test - High education\n",
    "* Any difference between Nutriscore and MTL for participants with high education?\n"
   ]
  },
  {
   "cell_type": "code",
   "execution_count": 484,
   "id": "representative-chinese",
   "metadata": {},
   "outputs": [
    {
     "data": {
      "text/plain": [
       "Ttest_indResult(statistic=-1.0097402360497045, pvalue=0.3152680929690913)"
      ]
     },
     "execution_count": 484,
     "metadata": {},
     "output_type": "execute_result"
    }
   ],
   "source": [
    "# Variant 1\n",
    "ttest_ind(high_edu['who_score'][(high_edu['condition'] == 1)&(high_edu['variant'] == 1)],high_edu['who_score'][(high_edu['condition'] == 2)&(high_edu['variant'] == 1)])\n"
   ]
  },
  {
   "cell_type": "code",
   "execution_count": 485,
   "id": "crude-naples",
   "metadata": {},
   "outputs": [
    {
     "data": {
      "text/plain": [
       "Ttest_indResult(statistic=0.3200172830371746, pvalue=0.7496808736044447)"
      ]
     },
     "execution_count": 485,
     "metadata": {},
     "output_type": "execute_result"
    }
   ],
   "source": [
    "# Variant 2\n",
    "ttest_ind(high_edu['who_score'][(high_edu['condition'] == 1)&(high_edu['variant'] == 2)],high_edu['who_score'][(high_edu['condition'] == 2)&(high_edu['variant'] == 2)])\n"
   ]
  },
  {
   "cell_type": "code",
   "execution_count": 486,
   "id": "invalid-outside",
   "metadata": {},
   "outputs": [
    {
     "data": {
      "text/plain": [
       "Ttest_indResult(statistic=1.0138150560349755, pvalue=0.31332988306190684)"
      ]
     },
     "execution_count": 486,
     "metadata": {},
     "output_type": "execute_result"
    }
   ],
   "source": [
    "# Variant 3\n",
    "ttest_ind(high_edu['who_score'][(high_edu['condition'] == 1)&(high_edu['variant'] == 3)],high_edu['who_score'][(high_edu['condition'] == 2)&(high_edu['variant'] == 3)])\n"
   ]
  },
  {
   "cell_type": "markdown",
   "id": "freelance-huntington",
   "metadata": {},
   "source": [
    "* No statistically significant differences when comparing variants between Nutriscore and MTL for participants with different  education level "
   ]
  },
  {
   "cell_type": "markdown",
   "id": "sufficient-queen",
   "metadata": {},
   "source": [
    "## Does eating habits influence which label is the best? \n",
    "* unhealthy\n",
    "* neutral \n",
    "* healthy "
   ]
  },
  {
   "cell_type": "markdown",
   "id": "fitting-fantasy",
   "metadata": {},
   "source": [
    "## T-test - Unhealthy eating habits\n",
    "* Any difference between Nutriscore and MTL for participants with low education?"
   ]
  },
  {
   "cell_type": "code",
   "execution_count": 487,
   "id": "unauthorized-winning",
   "metadata": {},
   "outputs": [
    {
     "data": {
      "text/plain": [
       "Ttest_indResult(statistic=0.4544176303767627, pvalue=0.6508407307934942)"
      ]
     },
     "execution_count": 487,
     "metadata": {},
     "output_type": "execute_result"
    }
   ],
   "source": [
    "# Variant 1\n",
    "ttest_ind(unhealthy['who_score'][(unhealthy['condition'] == 1)&(unhealthy['variant'] == 1)],unhealthy['who_score'][(unhealthy['condition'] == 2)&(unhealthy['variant'] == 1)])"
   ]
  },
  {
   "cell_type": "code",
   "execution_count": 488,
   "id": "changed-instruction",
   "metadata": {},
   "outputs": [
    {
     "data": {
      "text/plain": [
       "Ttest_indResult(statistic=-0.5205904475688712, pvalue=0.6041856339865985)"
      ]
     },
     "execution_count": 488,
     "metadata": {},
     "output_type": "execute_result"
    }
   ],
   "source": [
    "# Variant 2\n",
    "ttest_ind(unhealthy['who_score'][(unhealthy['condition'] == 1)&(unhealthy['variant'] == 2)],unhealthy['who_score'][(unhealthy['condition'] == 2)&(unhealthy['variant'] == 2)])"
   ]
  },
  {
   "cell_type": "code",
   "execution_count": 489,
   "id": "equivalent-relations",
   "metadata": {},
   "outputs": [
    {
     "data": {
      "text/plain": [
       "Ttest_indResult(statistic=1.676747560022176, pvalue=0.09775552479595306)"
      ]
     },
     "execution_count": 489,
     "metadata": {},
     "output_type": "execute_result"
    }
   ],
   "source": [
    "# Variant 3\n",
    "ttest_ind(unhealthy['who_score'][(unhealthy['condition'] == 1)&(unhealthy['variant'] == 3)],unhealthy['who_score'][(unhealthy['condition'] == 2)&(unhealthy['variant'] == 3)])"
   ]
  },
  {
   "cell_type": "markdown",
   "id": "later-bibliography",
   "metadata": {},
   "source": [
    "## T-test - Neutral eating habits\n",
    "* Any difference between Nutriscore and MTL for participants with medium (bachelor) education?"
   ]
  },
  {
   "cell_type": "code",
   "execution_count": 490,
   "id": "exposed-cruise",
   "metadata": {},
   "outputs": [
    {
     "data": {
      "text/plain": [
       "Ttest_indResult(statistic=-0.5437097658404807, pvalue=0.5873452462945339)"
      ]
     },
     "execution_count": 490,
     "metadata": {},
     "output_type": "execute_result"
    }
   ],
   "source": [
    "# Variant 1\n",
    "ttest_ind(neutral['who_score'][(neutral['condition'] == 1)&(neutral['variant'] == 1)],neutral['who_score'][(neutral['condition'] == 2)&(neutral['variant'] == 1)])"
   ]
  },
  {
   "cell_type": "code",
   "execution_count": 491,
   "id": "gentle-tennessee",
   "metadata": {},
   "outputs": [
    {
     "data": {
      "text/plain": [
       "Ttest_indResult(statistic=-0.7414815948025685, pvalue=0.4594126897699451)"
      ]
     },
     "execution_count": 491,
     "metadata": {},
     "output_type": "execute_result"
    }
   ],
   "source": [
    "# Variant 2\n",
    "ttest_ind(neutral['who_score'][(neutral['condition'] == 1)&(neutral['variant'] == 2)],neutral['who_score'][(neutral['condition'] == 2)&(neutral['variant'] == 2)])"
   ]
  },
  {
   "cell_type": "code",
   "execution_count": 492,
   "id": "recorded-banana",
   "metadata": {},
   "outputs": [
    {
     "data": {
      "text/plain": [
       "Ttest_indResult(statistic=1.5594642211332796, pvalue=0.1207246232058842)"
      ]
     },
     "execution_count": 492,
     "metadata": {},
     "output_type": "execute_result"
    }
   ],
   "source": [
    "# Variant 3\n",
    "ttest_ind(neutral['who_score'][(neutral['condition'] == 1)&(neutral['variant'] == 3)],neutral['who_score'][(neutral['condition'] == 2)&(neutral['variant'] == 3)])\n"
   ]
  },
  {
   "cell_type": "markdown",
   "id": "appropriate-threshold",
   "metadata": {},
   "source": [
    "## T-test - Healthy eating habits\n",
    "* Any difference between Nutriscore and MTL for participants with high education?"
   ]
  },
  {
   "cell_type": "code",
   "execution_count": 493,
   "id": "aggregate-shareware",
   "metadata": {},
   "outputs": [
    {
     "data": {
      "text/plain": [
       "Ttest_indResult(statistic=1.01443502820392, pvalue=0.31156520250594855)"
      ]
     },
     "execution_count": 493,
     "metadata": {},
     "output_type": "execute_result"
    }
   ],
   "source": [
    "# Variant 1\n",
    "ttest_ind(healthy['who_score'][(healthy['condition'] == 1)&(healthy['variant'] == 1)],healthy['who_score'][(healthy['condition'] == 2)&(healthy['variant'] == 1)])"
   ]
  },
  {
   "cell_type": "code",
   "execution_count": 494,
   "id": "involved-pregnancy",
   "metadata": {},
   "outputs": [
    {
     "data": {
      "text/plain": [
       "Ttest_indResult(statistic=0.7871514155029009, pvalue=0.4320979163088313)"
      ]
     },
     "execution_count": 494,
     "metadata": {},
     "output_type": "execute_result"
    }
   ],
   "source": [
    "# Variant 2\n",
    "ttest_ind(healthy['who_score'][(healthy['condition'] == 1)&(healthy['variant'] == 2)],healthy['who_score'][(healthy['condition'] == 2)&(healthy['variant'] == 2)])\n"
   ]
  },
  {
   "cell_type": "code",
   "execution_count": 495,
   "id": "charming-gospel",
   "metadata": {},
   "outputs": [
    {
     "data": {
      "text/plain": [
       "Ttest_indResult(statistic=-0.847167100236789, pvalue=0.39788513184992136)"
      ]
     },
     "execution_count": 495,
     "metadata": {},
     "output_type": "execute_result"
    }
   ],
   "source": [
    "# Variant 3\n",
    "ttest_ind(healthy['who_score'][(healthy['condition'] == 1)&(healthy['variant'] == 3)],healthy['who_score'][(healthy['condition'] == 2)&(healthy['variant'] == 3)])\n"
   ]
  },
  {
   "cell_type": "markdown",
   "id": "worse-flight",
   "metadata": {},
   "source": [
    "* No statistically significant differences when comparing variants between Nutriscore and MTL for participants with different  self reported eating habits (unhealthy, neutral, healthy)"
   ]
  },
  {
   "cell_type": "markdown",
   "id": "sorted-advisory",
   "metadata": {},
   "source": [
    "## Does goals influence which label is the best? \n",
    "* "
   ]
  },
  {
   "cell_type": "markdown",
   "id": "collaborative-watson",
   "metadata": {},
   "source": [
    "## T-test - Unhealthy eating habits\n",
    "* Any difference between Nutriscore and MTL for participants with low education?"
   ]
  },
  {
   "cell_type": "code",
   "execution_count": 496,
   "id": "auburn-newark",
   "metadata": {},
   "outputs": [
    {
     "data": {
      "text/plain": [
       "Ttest_indResult(statistic=0.4544176303767627, pvalue=0.6508407307934942)"
      ]
     },
     "execution_count": 496,
     "metadata": {},
     "output_type": "execute_result"
    }
   ],
   "source": [
    "# Variant 1\n",
    "ttest_ind(unhealthy['who_score'][(unhealthy['condition'] == 1)&(unhealthy['variant'] == 1)],unhealthy['who_score'][(unhealthy['condition'] == 2)&(unhealthy['variant'] == 1)])"
   ]
  },
  {
   "cell_type": "code",
   "execution_count": 497,
   "id": "allied-invite",
   "metadata": {},
   "outputs": [
    {
     "data": {
      "text/plain": [
       "Ttest_indResult(statistic=-0.5205904475688712, pvalue=0.6041856339865985)"
      ]
     },
     "execution_count": 497,
     "metadata": {},
     "output_type": "execute_result"
    }
   ],
   "source": [
    "# Variant 2\n",
    "ttest_ind(unhealthy['who_score'][(unhealthy['condition'] == 1)&(unhealthy['variant'] == 2)],unhealthy['who_score'][(unhealthy['condition'] == 2)&(unhealthy['variant'] == 2)])"
   ]
  },
  {
   "cell_type": "code",
   "execution_count": 498,
   "id": "intellectual-rider",
   "metadata": {},
   "outputs": [
    {
     "data": {
      "text/plain": [
       "Ttest_indResult(statistic=1.676747560022176, pvalue=0.09775552479595306)"
      ]
     },
     "execution_count": 498,
     "metadata": {},
     "output_type": "execute_result"
    }
   ],
   "source": [
    "# Variant 3\n",
    "ttest_ind(unhealthy['who_score'][(unhealthy['condition'] == 1)&(unhealthy['variant'] == 3)],unhealthy['who_score'][(unhealthy['condition'] == 2)&(unhealthy['variant'] == 3)])"
   ]
  },
  {
   "cell_type": "markdown",
   "id": "recreational-capture",
   "metadata": {},
   "source": [
    "## T-test - Neutral eating habits\n",
    "* Any difference between Nutriscore and MTL for participants with medium (bachelor) education?"
   ]
  },
  {
   "cell_type": "code",
   "execution_count": 499,
   "id": "accredited-registrar",
   "metadata": {},
   "outputs": [
    {
     "data": {
      "text/plain": [
       "Ttest_indResult(statistic=-0.5437097658404807, pvalue=0.5873452462945339)"
      ]
     },
     "execution_count": 499,
     "metadata": {},
     "output_type": "execute_result"
    }
   ],
   "source": [
    "# Variant 1\n",
    "ttest_ind(neutral['who_score'][(neutral['condition'] == 1)&(neutral['variant'] == 1)],neutral['who_score'][(neutral['condition'] == 2)&(neutral['variant'] == 1)])"
   ]
  },
  {
   "cell_type": "code",
   "execution_count": 500,
   "id": "hourly-seven",
   "metadata": {},
   "outputs": [
    {
     "data": {
      "text/plain": [
       "Ttest_indResult(statistic=-0.7414815948025685, pvalue=0.4594126897699451)"
      ]
     },
     "execution_count": 500,
     "metadata": {},
     "output_type": "execute_result"
    }
   ],
   "source": [
    "# Variant 2\n",
    "ttest_ind(neutral['who_score'][(neutral['condition'] == 1)&(neutral['variant'] == 2)],neutral['who_score'][(neutral['condition'] == 2)&(neutral['variant'] == 2)])"
   ]
  },
  {
   "cell_type": "code",
   "execution_count": 501,
   "id": "floppy-payment",
   "metadata": {},
   "outputs": [
    {
     "data": {
      "text/plain": [
       "Ttest_indResult(statistic=1.5594642211332796, pvalue=0.1207246232058842)"
      ]
     },
     "execution_count": 501,
     "metadata": {},
     "output_type": "execute_result"
    }
   ],
   "source": [
    "# Variant 3\n",
    "ttest_ind(neutral['who_score'][(neutral['condition'] == 1)&(neutral['variant'] == 3)],neutral['who_score'][(neutral['condition'] == 2)&(neutral['variant'] == 3)])\n"
   ]
  },
  {
   "cell_type": "markdown",
   "id": "crazy-anime",
   "metadata": {},
   "source": [
    "## T-test - Healthy eating habits\n",
    "* Any difference between Nutriscore and MTL for participants with high education?"
   ]
  },
  {
   "cell_type": "code",
   "execution_count": 502,
   "id": "critical-blackjack",
   "metadata": {},
   "outputs": [
    {
     "data": {
      "text/plain": [
       "Ttest_indResult(statistic=1.01443502820392, pvalue=0.31156520250594855)"
      ]
     },
     "execution_count": 502,
     "metadata": {},
     "output_type": "execute_result"
    }
   ],
   "source": [
    "# Variant 1\n",
    "ttest_ind(healthy['who_score'][(healthy['condition'] == 1)&(healthy['variant'] == 1)],healthy['who_score'][(healthy['condition'] == 2)&(healthy['variant'] == 1)])"
   ]
  },
  {
   "cell_type": "code",
   "execution_count": 503,
   "id": "nonprofit-congo",
   "metadata": {},
   "outputs": [
    {
     "data": {
      "text/plain": [
       "Ttest_indResult(statistic=0.7871514155029009, pvalue=0.4320979163088313)"
      ]
     },
     "execution_count": 503,
     "metadata": {},
     "output_type": "execute_result"
    }
   ],
   "source": [
    "# Variant 2\n",
    "ttest_ind(healthy['who_score'][(healthy['condition'] == 1)&(healthy['variant'] == 2)],healthy['who_score'][(healthy['condition'] == 2)&(healthy['variant'] == 2)])\n"
   ]
  },
  {
   "cell_type": "code",
   "execution_count": 235,
   "id": "spread-absolute",
   "metadata": {},
   "outputs": [
    {
     "data": {
      "text/plain": [
       "Ttest_indResult(statistic=-0.847167100236789, pvalue=0.39788513184992136)"
      ]
     },
     "execution_count": 235,
     "metadata": {},
     "output_type": "execute_result"
    }
   ],
   "source": [
    "# Variant 3\n",
    "ttest_ind(healthy['who_score'][(healthy['condition'] == 1)&(healthy['variant'] == 3)],healthy['who_score'][(healthy['condition'] == 2)&(healthy['variant'] == 3)])\n"
   ]
  },
  {
   "cell_type": "markdown",
   "id": "sixth-ottawa",
   "metadata": {},
   "source": [
    "* No statistically significant differences when comparing variants between Nutriscore and MTL for participants with different  self reported eating habits (unhealthy, neutral, healthy)"
   ]
  },
  {
   "cell_type": "markdown",
   "id": "outer-monitoring",
   "metadata": {},
   "source": [
    "## Compare MTL and Nutriscore -- Look at end survey answers"
   ]
  },
  {
   "cell_type": "markdown",
   "id": "square-chile",
   "metadata": {},
   "source": [
    "### 1. It was easy to judge the healthiness of the recipes"
   ]
  },
  {
   "cell_type": "code",
   "execution_count": 250,
   "id": "forced-grade",
   "metadata": {},
   "outputs": [
    {
     "name": "stdout",
     "output_type": "stream",
     "text": [
      "0.7448559670781894\n",
      "0.9385245901639344\n",
      "0.5186721991701245\n"
     ]
    }
   ],
   "source": [
    "print(e1['label_q1'].mean())\n",
    "print(e2['label_q1'].mean())\n",
    "print(e3['label_q1'].mean())"
   ]
  },
  {
   "cell_type": "markdown",
   "id": "hindu-sister",
   "metadata": {},
   "source": [
    "* "
   ]
  },
  {
   "cell_type": "markdown",
   "id": "acoustic-chicken",
   "metadata": {},
   "source": [
    "### 2. The information provided was sufficient for me to make a decision"
   ]
  },
  {
   "cell_type": "code",
   "execution_count": 251,
   "id": "injured-haven",
   "metadata": {},
   "outputs": [
    {
     "name": "stdout",
     "output_type": "stream",
     "text": [
      "0.7448559670781894\n",
      "0.9385245901639344\n",
      "0.5186721991701245\n"
     ]
    }
   ],
   "source": [
    "print(e1['label_q2'].mean())\n",
    "print(e2['label_q2'].mean())\n",
    "print(e3['label_q2'].mean())"
   ]
  },
  {
   "cell_type": "code",
   "execution_count": null,
   "id": "unlike-retail",
   "metadata": {},
   "outputs": [],
   "source": [
    "* "
   ]
  },
  {
   "cell_type": "markdown",
   "id": "polyphonic-session",
   "metadata": {},
   "source": [
    "### 3. Which factors influenced your recipe choices the most?"
   ]
  },
  {
   "cell_type": "code",
   "execution_count": 258,
   "id": "collective-foundation",
   "metadata": {},
   "outputs": [
    {
     "name": "stdout",
     "output_type": "stream",
     "text": [
      "AxesSubplot(0.125,0.125;0.775x0.755)\n"
     ]
    },
    {
     "data": {
      "image/png": "[encoded data removed]",
      "text/plain": [
       "<Figure size 1440x720 with 1 Axes>"
      ]
     },
     "metadata": {},
     "output_type": "display_data"
    }
   ],
   "source": [
    "# Nutriscore\n",
    "print(e1['label_q3'].str.split(\",\",expand=True).stack().value_counts().nlargest(8).plot.bar())\n",
    "#print(e1['label_q3'].str.split(\",\",expand=True).stack().value_counts().nlargest(8))"
   ]
  },
  {
   "cell_type": "code",
   "execution_count": 257,
   "id": "domestic-funds",
   "metadata": {},
   "outputs": [
    {
     "name": "stdout",
     "output_type": "stream",
     "text": [
      "AxesSubplot(0.125,0.125;0.775x0.755)\n"
     ]
    },
    {
     "data": {
      "image/png": "[encoded data removed]",
      "text/plain": [
       "<Figure size 1440x720 with 1 Axes>"
      ]
     },
     "metadata": {},
     "output_type": "display_data"
    }
   ],
   "source": [
    "# MTL\n",
    "print(e2['label_q3'].str.split(\",\",expand=True).stack().value_counts().nlargest(8).plot.bar())\n",
    "#print(e2['label_q3'].str.split(\",\",expand=True).stack().value_counts().nlargest(8))"
   ]
  },
  {
   "cell_type": "code",
   "execution_count": 256,
   "id": "young-horizontal",
   "metadata": {},
   "outputs": [
    {
     "name": "stdout",
     "output_type": "stream",
     "text": [
      "AxesSubplot(0.125,0.125;0.775x0.755)\n"
     ]
    },
    {
     "data": {
      "image/png": "[encoded data removed]",
      "text/plain": [
       "<Figure size 1440x720 with 1 Axes>"
      ]
     },
     "metadata": {},
     "output_type": "display_data"
    }
   ],
   "source": [
    "# No-label\n",
    "print(e3['label_q3'].str.split(\",\",expand=True).stack().value_counts().nlargest(8).plot.bar())\n",
    "#print(e3['label_q3'].str.split(\",\",expand=True).stack().value_counts().nlargest(8))"
   ]
  },
  {
   "cell_type": "code",
   "execution_count": 264,
   "id": "swedish-number",
   "metadata": {},
   "outputs": [
    {
     "name": "stdout",
     "output_type": "stream",
     "text": [
      "Nutriscore\n",
      " image         176\n",
      "ingredient    102\n",
      "health        101\n",
      "title          90\n",
      "cal            47\n",
      "rating         45\n",
      "goals          42\n",
      "numrating      29\n",
      "dtype: int64\n",
      "MTL\n",
      " image         171\n",
      "ingredient    108\n",
      "health         95\n",
      "title          88\n",
      "goals          48\n",
      "cal            46\n",
      "rating         42\n",
      "numrating      27\n",
      "dtype: int64\n",
      "No-label\n",
      " image         165\n",
      "title         116\n",
      "ingredient    112\n",
      "health         67\n",
      "cal            53\n",
      "goals          39\n",
      "rating         37\n",
      "numrating      22\n",
      "dtype: int64\n"
     ]
    }
   ],
   "source": [
    "print(\"Nutriscore\\n\", e1['label_q3'].str.split(\",\",expand=True).stack().value_counts().nlargest(8))\n",
    "print(\"MTL\\n\", e2['label_q3'].str.split(\",\",expand=True).stack().value_counts().nlargest(8))\n",
    "print(\"No-label\\n\", e3['label_q3'].str.split(\",\",expand=True).stack().value_counts().nlargest(8))"
   ]
  },
  {
   "cell_type": "markdown",
   "id": "after-service",
   "metadata": {},
   "source": [
    "* "
   ]
  },
  {
   "cell_type": "markdown",
   "id": "defensive-bernard",
   "metadata": {},
   "source": [
    "# PERSONAL FACTORS"
   ]
  },
  {
   "cell_type": "markdown",
   "id": "dated-sapphire",
   "metadata": {},
   "source": [
    "## Cooking experience "
   ]
  },
  {
   "cell_type": "markdown",
   "id": "intensive-bowling",
   "metadata": {},
   "source": [
    "### One-way ANOVA to check if cooking experience affected the FSA score for different variant within the different conditions. "
   ]
  },
  {
   "cell_type": "code",
   "execution_count": 451,
   "id": "upset-belize",
   "metadata": {},
   "outputs": [
    {
     "data": {
      "text/plain": [
       "F_onewayResult(statistic=0.06772606231353655, pvalue=0.9345185205253687)"
      ]
     },
     "execution_count": 451,
     "metadata": {},
     "output_type": "execute_result"
    }
   ],
   "source": [
    "# One-way ANOVA\n",
    "f_oneway(low_cooking['fsa_score'], medium_cooking['fsa_score'],high_cooking['fsa_score'])"
   ]
  },
  {
   "cell_type": "code",
   "execution_count": 12,
   "id": "closing-segment",
   "metadata": {},
   "outputs": [
    {
     "data": {
      "text/plain": [
       "F_onewayResult(statistic=0.06772606231353655, pvalue=0.9345185205253687)"
      ]
     },
     "execution_count": 12,
     "metadata": {},
     "output_type": "execute_result"
    }
   ],
   "source": [
    "import scipy.stats as stats\n",
    "\n",
    "stats.f_oneway(low_cooking['fsa_score'], medium_cooking['fsa_score'],high_cooking['fsa_score'])"
   ]
  },
  {
   "cell_type": "markdown",
   "id": "acting-lebanon",
   "metadata": {},
   "source": [
    "####  Condition 1: Variants"
   ]
  },
  {
   "cell_type": "code",
   "execution_count": 452,
   "id": "sunrise-receiver",
   "metadata": {},
   "outputs": [
    {
     "data": {
      "text/plain": [
       "F_onewayResult(statistic=0.9462263497986607, pvalue=0.3897356355065783)"
      ]
     },
     "execution_count": 452,
     "metadata": {},
     "output_type": "execute_result"
    }
   ],
   "source": [
    "# One-way ANOVA Compare variant 1: fsa -- cooking experience\n",
    "f_oneway(low_cooking['fsa_score'][(low_cooking['condition'] == 1)&(low_cooking['variant'] == 1)], medium_cooking['fsa_score'][(medium_cooking['condition'] == 1)&(medium_cooking['variant'] == 1)],high_cooking['fsa_score'][(high_cooking['condition'] == 1)&(high_cooking['variant'] == 1)])"
   ]
  },
  {
   "cell_type": "code",
   "execution_count": 453,
   "id": "competitive-season",
   "metadata": {},
   "outputs": [
    {
     "data": {
      "text/plain": [
       "F_onewayResult(statistic=0.6708575517867373, pvalue=0.5122850721262476)"
      ]
     },
     "execution_count": 453,
     "metadata": {},
     "output_type": "execute_result"
    }
   ],
   "source": [
    "# One-way ANOVA Compare variant 2: fsa -- cooking experience\n",
    "f_oneway(low_cooking['fsa_score'][(low_cooking['condition'] == 1)&(low_cooking['variant'] == 2)], medium_cooking['fsa_score'][(medium_cooking['condition'] == 1)&(medium_cooking['variant'] == 2)],high_cooking['fsa_score'][(high_cooking['condition'] == 1)&(high_cooking['variant'] == 2)])"
   ]
  },
  {
   "cell_type": "code",
   "execution_count": 454,
   "id": "backed-mortgage",
   "metadata": {},
   "outputs": [
    {
     "data": {
      "text/plain": [
       "F_onewayResult(statistic=0.5911703781902876, pvalue=0.5545327741817698)"
      ]
     },
     "execution_count": 454,
     "metadata": {},
     "output_type": "execute_result"
    }
   ],
   "source": [
    "# One-way ANOVA Compare variant 3: fsa -- cooking experience\n",
    "f_oneway(low_cooking['fsa_score'][(low_cooking['condition'] == 1)&(low_cooking['variant'] == 3)], medium_cooking['fsa_score'][(medium_cooking['condition'] == 1)&(medium_cooking['variant'] == 3)],high_cooking['fsa_score'][(high_cooking['condition'] == 1)&(high_cooking['variant'] == 3)])"
   ]
  },
  {
   "cell_type": "markdown",
   "id": "casual-snowboard",
   "metadata": {},
   "source": [
    "* No statistical differences between participants with Low, Medium or High cooking experience with Nutriscore"
   ]
  },
  {
   "cell_type": "markdown",
   "id": "overhead-basis",
   "metadata": {},
   "source": [
    "####  Condition 2: Variants"
   ]
  },
  {
   "cell_type": "code",
   "execution_count": 455,
   "id": "spoken-admission",
   "metadata": {},
   "outputs": [
    {
     "data": {
      "text/plain": [
       "F_onewayResult(statistic=2.63051479442231, pvalue=0.07423683013874392)"
      ]
     },
     "execution_count": 455,
     "metadata": {},
     "output_type": "execute_result"
    }
   ],
   "source": [
    "# One-way ANOVA Compare variant 1: fsa -- cooking experience\n",
    "f_oneway(low_cooking['fsa_score'][(low_cooking['condition'] == 2)&(low_cooking['variant'] == 1)], medium_cooking['fsa_score'][(medium_cooking['condition'] == 2)&(medium_cooking['variant'] == 1)],high_cooking['fsa_score'][(high_cooking['condition'] == 2)&(high_cooking['variant'] == 1)])"
   ]
  },
  {
   "cell_type": "code",
   "execution_count": 456,
   "id": "official-resource",
   "metadata": {},
   "outputs": [
    {
     "data": {
      "text/plain": [
       "F_onewayResult(statistic=2.032366652337374, pvalue=0.1334024346116056)"
      ]
     },
     "execution_count": 456,
     "metadata": {},
     "output_type": "execute_result"
    }
   ],
   "source": [
    "# One-way ANOVA Compare variant 1: fsa -- cooking experience\n",
    "f_oneway(low_cooking['fsa_score'][(low_cooking['condition'] == 2)&(low_cooking['variant'] == 2)], medium_cooking['fsa_score'][(medium_cooking['condition'] == 2)&(medium_cooking['variant'] == 2)],high_cooking['fsa_score'][(high_cooking['condition'] == 2)&(high_cooking['variant'] == 2)])"
   ]
  },
  {
   "cell_type": "code",
   "execution_count": 457,
   "id": "fresh-compound",
   "metadata": {},
   "outputs": [
    {
     "data": {
      "text/plain": [
       "F_onewayResult(statistic=2.4669448672608505, pvalue=0.08711577016921662)"
      ]
     },
     "execution_count": 457,
     "metadata": {},
     "output_type": "execute_result"
    }
   ],
   "source": [
    "# One-way ANOVA Compare variant 1: fsa -- cooking experience\n",
    "f_oneway(low_cooking['fsa_score'][(low_cooking['condition'] == 2)&(low_cooking['variant'] == 3)], medium_cooking['fsa_score'][(medium_cooking['condition'] == 2)&(medium_cooking['variant'] == 3)],high_cooking['fsa_score'][(high_cooking['condition'] == 2)&(high_cooking['variant'] == 3)])"
   ]
  },
  {
   "cell_type": "markdown",
   "id": "freelance-clone",
   "metadata": {},
   "source": [
    "* "
   ]
  },
  {
   "cell_type": "markdown",
   "id": "attractive-timber",
   "metadata": {},
   "source": [
    "#### Condition 3: Variant"
   ]
  },
  {
   "cell_type": "code",
   "execution_count": 458,
   "id": "demonstrated-financing",
   "metadata": {},
   "outputs": [
    {
     "data": {
      "text/plain": [
       "F_onewayResult(statistic=0.049318968757184785, pvalue=0.9518877494125018)"
      ]
     },
     "execution_count": 458,
     "metadata": {},
     "output_type": "execute_result"
    }
   ],
   "source": [
    "# One-way ANOVA Compare variant 1: fsa -- cooking experience\n",
    "f_oneway(low_cooking['fsa_score'][(low_cooking['condition'] == 3)&(low_cooking['variant'] == 1)], medium_cooking['fsa_score'][(medium_cooking['condition'] == 3)&(medium_cooking['variant'] == 1)],high_cooking['fsa_score'][(high_cooking['condition'] == 3)&(high_cooking['variant'] == 1)])"
   ]
  },
  {
   "cell_type": "code",
   "execution_count": 459,
   "id": "confident-balance",
   "metadata": {},
   "outputs": [
    {
     "data": {
      "text/plain": [
       "F_onewayResult(statistic=1.4496413411878597, pvalue=0.2368375099923825)"
      ]
     },
     "execution_count": 459,
     "metadata": {},
     "output_type": "execute_result"
    }
   ],
   "source": [
    "# One-way ANOVA Compare variant 2: fsa -- cooking experience\n",
    "f_oneway(low_cooking['fsa_score'][(low_cooking['condition'] == 3)&(low_cooking['variant'] == 2)], medium_cooking['fsa_score'][(medium_cooking['condition'] == 3)&(medium_cooking['variant'] == 2)],high_cooking['fsa_score'][(high_cooking['condition'] == 3)&(high_cooking['variant'] == 2)])"
   ]
  },
  {
   "cell_type": "code",
   "execution_count": 460,
   "id": "manufactured-addiction",
   "metadata": {},
   "outputs": [
    {
     "data": {
      "text/plain": [
       "F_onewayResult(statistic=0.050944845228358654, pvalue=0.9503420432144184)"
      ]
     },
     "execution_count": 460,
     "metadata": {},
     "output_type": "execute_result"
    }
   ],
   "source": [
    "# One-way ANOVA Compare variant 2: fsa -- cooking experience\n",
    "f_oneway(low_cooking['fsa_score'][(low_cooking['condition'] == 3)&(low_cooking['variant'] == 3)], medium_cooking['fsa_score'][(medium_cooking['condition'] == 3)&(medium_cooking['variant'] == 3)],high_cooking['fsa_score'][(high_cooking['condition'] == 3)&(high_cooking['variant'] == 3)])"
   ]
  },
  {
   "cell_type": "markdown",
   "id": "uniform-artist",
   "metadata": {},
   "source": [
    "* No statistical differences between participants with Low, Medium or High cooking experience with No-label"
   ]
  },
  {
   "cell_type": "markdown",
   "id": "subjective-celtic",
   "metadata": {},
   "source": [
    "## Education\n",
    "low_edu\n",
    "bach_edu\n",
    "high_edu "
   ]
  },
  {
   "cell_type": "markdown",
   "id": "final-riverside",
   "metadata": {},
   "source": [
    "### One-way ANOVA to check if cooking experience affected the FSA score for different variant within the different conditions. "
   ]
  },
  {
   "cell_type": "code",
   "execution_count": 278,
   "id": "racial-condition",
   "metadata": {},
   "outputs": [
    {
     "data": {
      "text/plain": [
       "F_onewayResult(statistic=1.721711077891976, pvalue=0.1790196633389674)"
      ]
     },
     "execution_count": 278,
     "metadata": {},
     "output_type": "execute_result"
    }
   ],
   "source": [
    "# One-way ANOVA\n",
    "f_oneway(low_edu['fsa_score'], bach_edu['fsa_score'],high_edu['fsa_score'])"
   ]
  },
  {
   "cell_type": "markdown",
   "id": "elegant-eagle",
   "metadata": {},
   "source": [
    "####  Condition 1: Variants"
   ]
  },
  {
   "cell_type": "code",
   "execution_count": 279,
   "id": "better-funds",
   "metadata": {},
   "outputs": [
    {
     "data": {
      "text/plain": [
       "F_onewayResult(statistic=1.7658746690643075, pvalue=0.17339919780049312)"
      ]
     },
     "execution_count": 279,
     "metadata": {},
     "output_type": "execute_result"
    }
   ],
   "source": [
    "# One-way ANOVA Compare variant 1: fsa -- cooking experience\n",
    "f_oneway(low_edu['fsa_score'][(low_edu['condition'] == 1)&(low_edu['variant'] == 1)], bach_edu['fsa_score'][(bach_edu['condition'] == 1)&(bach_edu['variant'] == 1)],high_edu['fsa_score'][(high_edu['condition'] == 1)&(high_edu['variant'] == 1)])"
   ]
  },
  {
   "cell_type": "code",
   "execution_count": 280,
   "id": "fatal-librarian",
   "metadata": {},
   "outputs": [
    {
     "data": {
      "text/plain": [
       "F_onewayResult(statistic=1.1958872114531065, pvalue=0.30435037415267435)"
      ]
     },
     "execution_count": 280,
     "metadata": {},
     "output_type": "execute_result"
    }
   ],
   "source": [
    "# One-way ANOVA Compare variant 2: fsa -- cooking experience\n",
    "f_oneway(low_edu['fsa_score'][(low_edu['condition'] == 1)&(low_edu['variant'] == 2)], bach_edu['fsa_score'][(bach_edu['condition'] == 1)&(bach_edu['variant'] == 2)],high_edu['fsa_score'][(high_edu['condition'] == 1)&(high_edu['variant'] == 2)])"
   ]
  },
  {
   "cell_type": "code",
   "execution_count": 281,
   "id": "adaptive-classic",
   "metadata": {},
   "outputs": [
    {
     "data": {
      "text/plain": [
       "F_onewayResult(statistic=2.0798954375653764, pvalue=0.1273389740806354)"
      ]
     },
     "execution_count": 281,
     "metadata": {},
     "output_type": "execute_result"
    }
   ],
   "source": [
    "# One-way ANOVA Compare variant 3: fsa -- cooking experience\n",
    "f_oneway(low_edu['fsa_score'][(low_edu['condition'] == 1)&(low_edu['variant'] == 3)], bach_edu['fsa_score'][(bach_edu['condition'] == 1)&(bach_edu['variant'] == 3)],high_edu['fsa_score'][(high_edu['condition'] == 1)&(high_edu['variant'] == 3)])"
   ]
  },
  {
   "cell_type": "markdown",
   "id": "bearing-kenya",
   "metadata": {},
   "source": [
    "* No statistical differences between participants with Low, Medium or High cooking experience with Nutriscore"
   ]
  },
  {
   "cell_type": "markdown",
   "id": "endangered-bahamas",
   "metadata": {},
   "source": [
    "####  Condition 2: Variants"
   ]
  },
  {
   "cell_type": "code",
   "execution_count": 282,
   "id": "final-acoustic",
   "metadata": {},
   "outputs": [
    {
     "data": {
      "text/plain": [
       "F_onewayResult(statistic=2.1053760059945823, pvalue=0.12418250756811688)"
      ]
     },
     "execution_count": 282,
     "metadata": {},
     "output_type": "execute_result"
    }
   ],
   "source": [
    "# One-way ANOVA Compare variant 1: fsa -- cooking experience\n",
    "f_oneway(low_edu['fsa_score'][(low_edu['condition'] == 2)&(low_edu['variant'] == 1)], bach_edu['fsa_score'][(bach_edu['condition'] == 2)&(bach_edu['variant'] == 1)],high_edu['fsa_score'][(high_edu['condition'] == 2)&(high_edu['variant'] == 1)])"
   ]
  },
  {
   "cell_type": "code",
   "execution_count": 283,
   "id": "rough-supplier",
   "metadata": {},
   "outputs": [
    {
     "data": {
      "text/plain": [
       "F_onewayResult(statistic=0.009983728938211237, pvalue=0.9900663796744424)"
      ]
     },
     "execution_count": 283,
     "metadata": {},
     "output_type": "execute_result"
    }
   ],
   "source": [
    "# One-way ANOVA Compare variant 1: fsa -- cooking experience\n",
    "f_oneway(low_edu['fsa_score'][(low_edu['condition'] == 2)&(low_edu['variant'] == 2)], bach_edu['fsa_score'][(bach_edu['condition'] == 2)&(bach_edu['variant'] == 2)],high_edu['fsa_score'][(high_edu['condition'] == 2)&(high_edu['variant'] == 2)])"
   ]
  },
  {
   "cell_type": "code",
   "execution_count": 284,
   "id": "quiet-adolescent",
   "metadata": {},
   "outputs": [
    {
     "data": {
      "text/plain": [
       "F_onewayResult(statistic=0.7023071445694904, pvalue=0.4965189206141365)"
      ]
     },
     "execution_count": 284,
     "metadata": {},
     "output_type": "execute_result"
    }
   ],
   "source": [
    "# One-way ANOVA Compare variant 1: fsa -- cooking experience\n",
    "f_oneway(low_edu['fsa_score'][(low_edu['condition'] == 2)&(low_edu['variant'] == 3)], bach_edu['fsa_score'][(bach_edu['condition'] == 2)&(bach_edu['variant'] == 3)],high_edu['fsa_score'][(high_edu['condition'] == 2)&(high_edu['variant'] == 3)])"
   ]
  },
  {
   "cell_type": "markdown",
   "id": "electronic-affiliate",
   "metadata": {},
   "source": [
    "* No SS"
   ]
  },
  {
   "cell_type": "markdown",
   "id": "powerful-compatibility",
   "metadata": {},
   "source": [
    "#### Condition 3: Variant"
   ]
  },
  {
   "cell_type": "code",
   "execution_count": 285,
   "id": "eligible-shareware",
   "metadata": {},
   "outputs": [
    {
     "data": {
      "text/plain": [
       "F_onewayResult(statistic=0.7019444640454016, pvalue=0.49672221548601714)"
      ]
     },
     "execution_count": 285,
     "metadata": {},
     "output_type": "execute_result"
    }
   ],
   "source": [
    "# One-way ANOVA Compare variant 1: fsa -- cooking experience\n",
    "f_oneway(low_edu['fsa_score'][(low_edu['condition'] == 3)&(low_edu['variant'] == 1)], bach_edu['fsa_score'][(bach_edu['condition'] == 3)&(bach_edu['variant'] == 1)],high_edu['fsa_score'][(high_edu['condition'] == 3)&(high_edu['variant'] == 1)])"
   ]
  },
  {
   "cell_type": "code",
   "execution_count": 286,
   "id": "personalized-capitol",
   "metadata": {},
   "outputs": [
    {
     "data": {
      "text/plain": [
       "F_onewayResult(statistic=0.7832129833859697, pvalue=0.4581996091125138)"
      ]
     },
     "execution_count": 286,
     "metadata": {},
     "output_type": "execute_result"
    }
   ],
   "source": [
    "# One-way ANOVA Compare variant 2: fsa -- cooking experience\n",
    "f_oneway(low_edu['fsa_score'][(low_edu['condition'] == 3)&(low_edu['variant'] == 2)], bach_edu['fsa_score'][(bach_edu['condition'] == 3)&(bach_edu['variant'] == 2)],high_edu['fsa_score'][(high_edu['condition'] == 3)&(high_edu['variant'] == 2)])"
   ]
  },
  {
   "cell_type": "code",
   "execution_count": 287,
   "id": "metallic-poison",
   "metadata": {},
   "outputs": [
    {
     "data": {
      "text/plain": [
       "F_onewayResult(statistic=2.5031794693417324, pvalue=0.08414212166598463)"
      ]
     },
     "execution_count": 287,
     "metadata": {},
     "output_type": "execute_result"
    }
   ],
   "source": [
    "# One-way ANOVA Compare variant 2: fsa -- cooking experience\n",
    "f_oneway(low_edu['fsa_score'][(low_edu['condition'] == 3)&(low_edu['variant'] == 3)], bach_edu['fsa_score'][(bach_edu['condition'] == 3)&(bach_edu['variant'] == 3)],high_edu['fsa_score'][(high_edu['condition'] == 3)&(high_edu['variant'] == 3)])"
   ]
  },
  {
   "cell_type": "markdown",
   "id": "activated-classic",
   "metadata": {},
   "source": [
    "* No statistical differences between participants with Low, Medium or High education with No-label"
   ]
  },
  {
   "cell_type": "markdown",
   "id": "lyric-orbit",
   "metadata": {},
   "source": [
    "## Goals\n",
    "* Would expect people with lose weight, or eat healthier to ...\n",
    "\n",
    "* Put participants with different goals into groups: \n",
    "    * more (participants who want to eat more protein, fruit, vegetables or gain weight)\n",
    "    * no_goal\n",
    "    * reduce (participants who want to reduce their intake of food/nutrient, in this case lose weight/ eat less salt)"
   ]
  },
  {
   "cell_type": "code",
   "execution_count": 461,
   "id": "available-guidance",
   "metadata": {},
   "outputs": [],
   "source": [
    "more = ms[ms['user_id'].isin(more)]\n",
    "no_goal = ms[ms['user_id'].isin(no_goal)]\n",
    "reduce = ms[ms['user_id'].isin(reduce)]"
   ]
  },
  {
   "cell_type": "markdown",
   "id": "likely-fitting",
   "metadata": {},
   "source": [
    "### One-way ANOVA to check if goals affected the FSA score for different variant within the different conditions. "
   ]
  },
  {
   "cell_type": "code",
   "execution_count": 462,
   "id": "trained-retro",
   "metadata": {},
   "outputs": [
    {
     "data": {
      "text/plain": [
       "F_onewayResult(statistic=nan, pvalue=nan)"
      ]
     },
     "execution_count": 462,
     "metadata": {},
     "output_type": "execute_result"
    }
   ],
   "source": [
    "# One-way ANOVA\n",
    "f_oneway(more['fsa_score'], no_goal['fsa_score'],reduce['fsa_score'])"
   ]
  },
  {
   "cell_type": "markdown",
   "id": "dirty-woman",
   "metadata": {},
   "source": [
    "####  Condition 1: Variants"
   ]
  },
  {
   "cell_type": "code",
   "execution_count": 349,
   "id": "generic-monaco",
   "metadata": {},
   "outputs": [
    {
     "data": {
      "text/plain": [
       "F_onewayResult(statistic=1.4098290755117537, pvalue=0.2479217545845923)"
      ]
     },
     "execution_count": 349,
     "metadata": {},
     "output_type": "execute_result"
    }
   ],
   "source": [
    "# One-way ANOVA Compare variant 1: fsa -- goal\n",
    "f_oneway(more['fsa_score'][(more['condition'] == 1)&(more['variant'] == 1)], no_goal['fsa_score'][(no_goal['condition'] == 1)&(no_goal['variant'] == 1)],reduce['fsa_score'][(reduce['condition'] == 1)&(reduce['variant'] == 1)])"
   ]
  },
  {
   "cell_type": "code",
   "execution_count": 350,
   "id": "inner-reunion",
   "metadata": {},
   "outputs": [
    {
     "data": {
      "text/plain": [
       "F_onewayResult(statistic=0.5315169654412201, pvalue=0.5889942129371795)"
      ]
     },
     "execution_count": 350,
     "metadata": {},
     "output_type": "execute_result"
    }
   ],
   "source": [
    "# One-way ANOVA Compare variant 2: fsa -- goal\n",
    "f_oneway(more['fsa_score'][(more['condition'] == 1)&(more['variant'] == 2)], no_goal['fsa_score'][(no_goal['condition'] == 1)&(no_goal['variant'] == 2)],reduce['fsa_score'][(reduce['condition'] == 1)&(reduce['variant'] == 2)])"
   ]
  },
  {
   "cell_type": "code",
   "execution_count": 351,
   "id": "racial-illness",
   "metadata": {},
   "outputs": [
    {
     "data": {
      "text/plain": [
       "F_onewayResult(statistic=2.351636798045147, pvalue=0.09928295408477635)"
      ]
     },
     "execution_count": 351,
     "metadata": {},
     "output_type": "execute_result"
    }
   ],
   "source": [
    "# One-way ANOVA Compare variant 3: fsa -- goal\n",
    "f_oneway(more['fsa_score'][(more['condition'] == 1)&(more['variant'] == 3)], no_goal['fsa_score'][(no_goal['condition'] == 1)&(no_goal['variant'] == 3)],reduce['fsa_score'][(reduce['condition'] == 1)&(reduce['variant'] == 3)])"
   ]
  },
  {
   "cell_type": "markdown",
   "id": "confused-method",
   "metadata": {},
   "source": [
    "* No statistical differences between participants with Low, Medium or High goal with Nutriscore"
   ]
  },
  {
   "cell_type": "markdown",
   "id": "liked-archives",
   "metadata": {},
   "source": [
    "####  Condition 2: Variants"
   ]
  },
  {
   "cell_type": "code",
   "execution_count": 352,
   "id": "liable-transition",
   "metadata": {},
   "outputs": [
    {
     "data": {
      "text/plain": [
       "F_onewayResult(statistic=3.198687583198422, pvalue=0.04375266613207514)"
      ]
     },
     "execution_count": 352,
     "metadata": {},
     "output_type": "execute_result"
    }
   ],
   "source": [
    "# One-way ANOVA Compare variant 1: fsa -- goal\n",
    "f_oneway(more['fsa_score'][(more['condition'] == 2)&(more['variant'] == 1)], no_goal['fsa_score'][(no_goal['condition'] == 2)&(no_goal['variant'] == 1)],reduce['fsa_score'][(reduce['condition'] == 2)&(reduce['variant'] == 1)])"
   ]
  },
  {
   "cell_type": "code",
   "execution_count": 353,
   "id": "compact-hundred",
   "metadata": {},
   "outputs": [
    {
     "data": {
      "text/plain": [
       "F_onewayResult(statistic=0.05806613902557674, pvalue=0.9436097736921513)"
      ]
     },
     "execution_count": 353,
     "metadata": {},
     "output_type": "execute_result"
    }
   ],
   "source": [
    "# One-way ANOVA Compare variant 1: fsa -- goal\n",
    "f_oneway(more['fsa_score'][(more['condition'] == 2)&(more['variant'] == 2)], no_goal['fsa_score'][(no_goal['condition'] == 2)&(no_goal['variant'] == 2)],reduce['fsa_score'][(reduce['condition'] == 2)&(reduce['variant'] == 2)])"
   ]
  },
  {
   "cell_type": "code",
   "execution_count": 354,
   "id": "aware-catering",
   "metadata": {},
   "outputs": [
    {
     "data": {
      "text/plain": [
       "F_onewayResult(statistic=0.5189637442835437, pvalue=0.596253463430595)"
      ]
     },
     "execution_count": 354,
     "metadata": {},
     "output_type": "execute_result"
    }
   ],
   "source": [
    "# One-way ANOVA Compare variant 1: fsa -- goal\n",
    "f_oneway(more['fsa_score'][(more['condition'] == 2)&(more['variant'] == 3)], no_goal['fsa_score'][(no_goal['condition'] == 2)&(no_goal['variant'] == 3)],reduce['fsa_score'][(reduce['condition'] == 2)&(reduce['variant'] == 3)])"
   ]
  },
  {
   "cell_type": "code",
   "execution_count": 360,
   "id": "severe-malawi",
   "metadata": {},
   "outputs": [
    {
     "name": "stdout",
     "output_type": "stream",
     "text": [
      "5.870967741935484\n",
      "6.571428571428571\n",
      "6.271186440677966\n"
     ]
    }
   ],
   "source": [
    "m = more['fsa_score'][(more['condition'] == 2)&(more['variant'] == 1)]\n",
    "n = no_goal['fsa_score'][(no_goal['condition'] == 2)&(no_goal['variant'] == 1)]\n",
    "r = reduce['fsa_score'][(reduce['condition'] == 2)&(reduce['variant'] == 1)]\n",
    "print(m.mean())\n",
    "print(n.mean())\n",
    "print(r.mean())"
   ]
  },
  {
   "cell_type": "markdown",
   "id": "continued-barrel",
   "metadata": {},
   "source": [
    "* Significant statistical difference in Condition 2 MTL Variant 1 Popular ranking (pvalue=0.04375266613207514). \n",
    "* The differene is largest between More goals (participants who want to eat more protein, fruit, vegetables or gain weight) and no goal. "
   ]
  },
  {
   "cell_type": "markdown",
   "id": "blond-single",
   "metadata": {},
   "source": [
    "#### Condition 3: Variant"
   ]
  },
  {
   "cell_type": "code",
   "execution_count": 355,
   "id": "tracked-general",
   "metadata": {},
   "outputs": [
    {
     "data": {
      "text/plain": [
       "F_onewayResult(statistic=0.40746597064660434, pvalue=0.6661094983939156)"
      ]
     },
     "execution_count": 355,
     "metadata": {},
     "output_type": "execute_result"
    }
   ],
   "source": [
    "# One-way ANOVA Compare variant 1: fsa -- goal\n",
    "f_oneway(more['fsa_score'][(more['condition'] == 3)&(more['variant'] == 1)], no_goal['fsa_score'][(no_goal['condition'] == 3)&(no_goal['variant'] == 1)],reduce['fsa_score'][(reduce['condition'] == 3)&(reduce['variant'] == 1)])"
   ]
  },
  {
   "cell_type": "code",
   "execution_count": 356,
   "id": "loving-aspect",
   "metadata": {},
   "outputs": [
    {
     "data": {
      "text/plain": [
       "F_onewayResult(statistic=1.9873598531267693, pvalue=0.14085079425758637)"
      ]
     },
     "execution_count": 356,
     "metadata": {},
     "output_type": "execute_result"
    }
   ],
   "source": [
    "# One-way ANOVA Compare variant 2: fsa -- goal\n",
    "f_oneway(more['fsa_score'][(more['condition'] == 3)&(more['variant'] == 2)], no_goal['fsa_score'][(no_goal['condition'] == 3)&(no_goal['variant'] == 2)],reduce['fsa_score'][(reduce['condition'] == 3)&(reduce['variant'] == 2)])"
   ]
  },
  {
   "cell_type": "code",
   "execution_count": 357,
   "id": "friendly-italic",
   "metadata": {},
   "outputs": [
    {
     "data": {
      "text/plain": [
       "F_onewayResult(statistic=0.46401638057510175, pvalue=0.6297032019292872)"
      ]
     },
     "execution_count": 357,
     "metadata": {},
     "output_type": "execute_result"
    }
   ],
   "source": [
    "# One-way ANOVA Compare variant 2: fsa -- goal\n",
    "f_oneway(more['fsa_score'][(more['condition'] == 3)&(more['variant'] == 3)], no_goal['fsa_score'][(no_goal['condition'] == 3)&(no_goal['variant'] == 3)],reduce['fsa_score'][(reduce['condition'] == 3)&(reduce['variant'] == 3)])"
   ]
  },
  {
   "cell_type": "markdown",
   "id": "solid-sport",
   "metadata": {},
   "source": [
    "* No statistical differences between participants with Low, Medium or High education with No-label"
   ]
  },
  {
   "cell_type": "code",
   "execution_count": null,
   "id": "spanish-bidding",
   "metadata": {},
   "outputs": [],
   "source": []
  },
  {
   "cell_type": "markdown",
   "id": "noble-eight",
   "metadata": {},
   "source": [
    "# Americans vs. Europeans\n",
    "* Biggest difference is for the MTL label (condition 2) (pvalue=0.07061497660278497), however not statistically significant difference. Europeans choose slightly healthier recipes overall. \n",
    "* mean FSA Americans MTL 6.44213649851632\n",
    "* mean FSA Europeans MTL 6.246527777777778"
   ]
  },
  {
   "cell_type": "code",
   "execution_count": null,
   "id": "weird-somewhere",
   "metadata": {},
   "outputs": [],
   "source": []
  },
  {
   "cell_type": "code",
   "execution_count": null,
   "id": "permanent-coach",
   "metadata": {},
   "outputs": [],
   "source": []
  },
  {
   "cell_type": "code",
   "execution_count": null,
   "id": "elder-transparency",
   "metadata": {},
   "outputs": [],
   "source": []
  },
  {
   "cell_type": "code",
   "execution_count": null,
   "id": "weird-breakfast",
   "metadata": {},
   "outputs": [],
   "source": []
  },
  {
   "cell_type": "code",
   "execution_count": null,
   "id": "ahead-atmosphere",
   "metadata": {},
   "outputs": [],
   "source": []
  },
  {
   "cell_type": "code",
   "execution_count": null,
   "id": "progressive-convenience",
   "metadata": {},
   "outputs": [],
   "source": []
  },
  {
   "cell_type": "markdown",
   "id": "ordered-anthony",
   "metadata": {},
   "source": [
    "# Discarded"
   ]
  },
  {
   "cell_type": "code",
   "execution_count": 389,
   "id": "plain-dynamics",
   "metadata": {},
   "outputs": [
    {
     "data": {
      "text/html": [
       "<div>\n",
       "<style scoped>\n",
       "    .dataframe tbody tr th:only-of-type {\n",
       "        vertical-align: middle;\n",
       "    }\n",
       "\n",
       "    .dataframe tbody tr th {\n",
       "        vertical-align: top;\n",
       "    }\n",
       "\n",
       "    .dataframe thead th {\n",
       "        text-align: right;\n",
       "    }\n",
       "</style>\n",
       "<table border=\"1\" class=\"dataframe\">\n",
       "  <thead>\n",
       "    <tr style=\"text-align: right;\">\n",
       "      <th></th>\n",
       "      <th>sum_sq</th>\n",
       "      <th>df</th>\n",
       "      <th>F</th>\n",
       "      <th>PR(&gt;F)</th>\n",
       "      <th>eta_sq</th>\n",
       "      <th>omega_sq</th>\n",
       "    </tr>\n",
       "  </thead>\n",
       "  <tbody>\n",
       "    <tr>\n",
       "      <th>C(Label)</th>\n",
       "      <td>30.719553</td>\n",
       "      <td>2.0</td>\n",
       "      <td>8.250129</td>\n",
       "      <td>0.000270</td>\n",
       "      <td>0.007881</td>\n",
       "      <td>0.006923</td>\n",
       "    </tr>\n",
       "    <tr>\n",
       "      <th>C(Rank)</th>\n",
       "      <td>5.844380</td>\n",
       "      <td>2.0</td>\n",
       "      <td>1.569583</td>\n",
       "      <td>0.208379</td>\n",
       "      <td>0.001499</td>\n",
       "      <td>0.000544</td>\n",
       "    </tr>\n",
       "    <tr>\n",
       "      <th>C(Label):C(Rank)</th>\n",
       "      <td>1.880961</td>\n",
       "      <td>4.0</td>\n",
       "      <td>0.252578</td>\n",
       "      <td>0.908192</td>\n",
       "      <td>0.000483</td>\n",
       "      <td>-0.001427</td>\n",
       "    </tr>\n",
       "    <tr>\n",
       "      <th>Residual</th>\n",
       "      <td>3859.432627</td>\n",
       "      <td>2073.0</td>\n",
       "      <td>NaN</td>\n",
       "      <td>NaN</td>\n",
       "      <td>NaN</td>\n",
       "      <td>NaN</td>\n",
       "    </tr>\n",
       "  </tbody>\n",
       "</table>\n",
       "</div>"
      ],
      "text/plain": [
       "                       sum_sq      df         F    PR(>F)    eta_sq  omega_sq\n",
       "C(Label)            30.719553     2.0  8.250129  0.000270  0.007881  0.006923\n",
       "C(Rank)              5.844380     2.0  1.569583  0.208379  0.001499  0.000544\n",
       "C(Label):C(Rank)     1.880961     4.0  0.252578  0.908192  0.000483 -0.001427\n",
       "Residual          3859.432627  2073.0       NaN       NaN       NaN       NaN"
      ]
     },
     "execution_count": 389,
     "metadata": {},
     "output_type": "execute_result"
    }
   ],
   "source": [
    "#perform two-way ANOVA statsmodel\n",
    "\n",
    "# Condition = Label\n",
    "# Variant = Ranking\n",
    "model = ols('fsa_score ~ C(Label) + C(Rank) + C(Label):C(Rank)', data=anova_df).fit()\n",
    "aov_table = sm.stats.anova_lm(model, typ=2)\n",
    "eta_squared(aov_table)\n",
    "omega_squared(aov_table)\n",
    "aov_table\n",
    "\n"
   ]
  },
  {
   "cell_type": "markdown",
   "id": "color-maple",
   "metadata": {},
   "source": [
    "## Two-way ANOVA\n",
    "To examine RQ1, a two-way repeated measures ANOVA was conducted to compare the influence of labels and ranking on the healthiness of recipes chosen across three different trials.\n",
    "* No-label and Random ranking as baseline\n"
   ]
  },
  {
   "cell_type": "code",
   "execution_count": 321,
   "id": "wired-receipt",
   "metadata": {},
   "outputs": [
    {
     "data": {
      "text/html": [
       "<div>\n",
       "<style scoped>\n",
       "    .dataframe tbody tr th:only-of-type {\n",
       "        vertical-align: middle;\n",
       "    }\n",
       "\n",
       "    .dataframe tbody tr th {\n",
       "        vertical-align: top;\n",
       "    }\n",
       "\n",
       "    .dataframe thead th {\n",
       "        text-align: right;\n",
       "    }\n",
       "</style>\n",
       "<table border=\"1\" class=\"dataframe\">\n",
       "  <thead>\n",
       "    <tr style=\"text-align: right;\">\n",
       "      <th></th>\n",
       "      <th>sum_sq</th>\n",
       "      <th>df</th>\n",
       "      <th>F</th>\n",
       "      <th>PR(&gt;F)</th>\n",
       "      <th>eta_sq</th>\n",
       "      <th>omega_sq</th>\n",
       "    </tr>\n",
       "  </thead>\n",
       "  <tbody>\n",
       "    <tr>\n",
       "      <th>C(Label, Treatment(reference=\"No-label\"))</th>\n",
       "      <td>647.691855</td>\n",
       "      <td>2.0</td>\n",
       "      <td>173.945933</td>\n",
       "      <td>1.461113e-70</td>\n",
       "      <td>0.032981</td>\n",
       "      <td>0.032788</td>\n",
       "    </tr>\n",
       "    <tr>\n",
       "      <th>C(Rank, Treatment(reference=\"Random\"))</th>\n",
       "      <td>2771.896045</td>\n",
       "      <td>2.0</td>\n",
       "      <td>744.428140</td>\n",
       "      <td>2.200881e-244</td>\n",
       "      <td>0.141147</td>\n",
       "      <td>0.140944</td>\n",
       "    </tr>\n",
       "    <tr>\n",
       "      <th>C(Label):C(Rank)</th>\n",
       "      <td>12359.390176</td>\n",
       "      <td>8.0</td>\n",
       "      <td>829.818082</td>\n",
       "      <td>0.000000e+00</td>\n",
       "      <td>0.629348</td>\n",
       "      <td>0.628530</td>\n",
       "    </tr>\n",
       "    <tr>\n",
       "      <th>Residual</th>\n",
       "      <td>3859.432627</td>\n",
       "      <td>2073.0</td>\n",
       "      <td>NaN</td>\n",
       "      <td>NaN</td>\n",
       "      <td>NaN</td>\n",
       "      <td>NaN</td>\n",
       "    </tr>\n",
       "  </tbody>\n",
       "</table>\n",
       "</div>"
      ],
      "text/plain": [
       "                                                 sum_sq      df           F  \\\n",
       "C(Label, Treatment(reference=\"No-label\"))    647.691855     2.0  173.945933   \n",
       "C(Rank, Treatment(reference=\"Random\"))      2771.896045     2.0  744.428140   \n",
       "C(Label):C(Rank)                           12359.390176     8.0  829.818082   \n",
       "Residual                                    3859.432627  2073.0         NaN   \n",
       "\n",
       "                                                  PR(>F)    eta_sq  omega_sq  \n",
       "C(Label, Treatment(reference=\"No-label\"))   1.461113e-70  0.032981  0.032788  \n",
       "C(Rank, Treatment(reference=\"Random\"))     2.200881e-244  0.141147  0.140944  \n",
       "C(Label):C(Rank)                            0.000000e+00  0.629348  0.628530  \n",
       "Residual                                             NaN       NaN       NaN  "
      ]
     },
     "execution_count": 321,
     "metadata": {},
     "output_type": "execute_result"
    }
   ],
   "source": [
    "#perform two-way ANOVA\n",
    "\n",
    "# Condition = Label\n",
    "# Variant = Ranking\n",
    "model = ols('fsa_score ~ C(Label, Treatment(reference=\"No-label\")) + C(Rank, Treatment(reference=\"Random\")) + C(Label):C(Rank)', data=anova_df).fit()\n",
    "aov_table = sm.stats.anova_lm(model, typ=2)\n",
    "eta_squared(aov_table)\n",
    "omega_squared(aov_table)\n",
    "aov_table\n",
    "\n",
    "print(model.summary())"
   ]
  },
  {
   "cell_type": "code",
   "execution_count": 74,
   "id": "miniature-rabbit",
   "metadata": {},
   "outputs": [
    {
     "name": "stdout",
     "output_type": "stream",
     "text": [
      "                            OLS Regression Results                            \n",
      "==============================================================================\n",
      "Dep. Variable:              fsa_score   R-squared:                       0.010\n",
      "Model:                            OLS   Adj. R-squared:                  0.006\n",
      "Method:                 Least Squares   F-statistic:                     2.581\n",
      "Date:                Wed, 28 Apr 2021   Prob (F-statistic):            0.00836\n",
      "Time:                        11:08:31   Log-Likelihood:                -3596.7\n",
      "No. Observations:                2082   AIC:                             7211.\n",
      "Df Residuals:                    2073   BIC:                             7262.\n",
      "Df Model:                           8                                         \n",
      "Covariance Type:            nonrobust                                         \n",
      "===========================================================================================================================\n",
      "                                                              coef    std err          t      P>|t|      [0.025      0.975]\n",
      "---------------------------------------------------------------------------------------------------------------------------\n",
      "Intercept                                                   4.0731      0.024    170.838      0.000       4.026       4.120\n",
      "C(Label, Treatment(reference=\"No-label\"))[T.MTL]            0.6565      0.051     12.764      0.000       0.556       0.757\n",
      "C(Label, Treatment(reference=\"No-label\"))[T.Nutriscore]     0.5682      0.040     14.055      0.000       0.489       0.648\n",
      "C(Rank, Treatment(reference=\"Random\"))[T.Health]            1.7039      0.069     24.790      0.000       1.569       1.839\n",
      "C(Rank, Treatment(reference=\"Random\"))[T.Popular]           0.7940      0.042     18.811      0.000       0.711       0.877\n",
      "C(Rank)[T.Popular]                                          0.7940      0.042     18.811      0.000       0.711       0.877\n",
      "C(Rank)[T.Random]                                           1.5752      0.069     22.917      0.000       1.440       1.710\n",
      "C(Label)[T.No-label]:C(Rank)[Health]                        0.9665      0.106      9.101      0.000       0.758       1.175\n",
      "C(Label)[T.Nutriscore]:C(Rank)[Health]                      0.1526      0.104      1.465      0.143      -0.052       0.357\n",
      "C(Label)[T.No-label]:C(Rank)[Popular]                       0.9693      0.108      8.964      0.000       0.757       1.181\n",
      "C(Label)[T.Nutriscore]:C(Rank)[Popular]                     0.1603      0.105      1.531      0.126      -0.045       0.365\n",
      "C(Label)[T.No-label]:C(Rank)[Random]                        0.9126      0.106      8.594      0.000       0.704       1.121\n",
      "C(Label)[T.Nutriscore]:C(Rank)[Random]                      0.2554      0.104      2.452      0.014       0.051       0.460\n",
      "==============================================================================\n",
      "Omnibus:                       83.826   Durbin-Watson:                   0.210\n",
      "Prob(Omnibus):                  0.000   Jarque-Bera (JB):               59.510\n",
      "Skew:                           0.308   Prob(JB):                     1.20e-13\n",
      "Kurtosis:                       2.446   Cond. No.                     4.50e+16\n",
      "==============================================================================\n",
      "\n",
      "Notes:\n",
      "[1] Standard Errors assume that the covariance matrix of the errors is correctly specified.\n",
      "[2] The smallest eigenvalue is 1.83e-30. This might indicate that there are\n",
      "strong multicollinearity problems or that the design matrix is singular.\n"
     ]
    }
   ],
   "source": [
    "print(model.summary())\n",
    "\n",
    "# Alain: Is it correct to set No-label and Random as baseline for this model? "
   ]
  },
  {
   "cell_type": "code",
   "execution_count": 16,
   "id": "naughty-frank",
   "metadata": {},
   "outputs": [
    {
     "data": {
      "text/plain": [
       "Intercept                                                   0.000000e+00\n",
       "C(Label, Treatment(reference=\"No-label\"))[T.MTL]            5.244134e-36\n",
       "C(Label, Treatment(reference=\"No-label\"))[T.Nutriscore]     1.957808e-45\n",
       "C(Rank, Treatment(reference=\"Random\"))[T.Health]           2.405369e-121\n",
       "C(Rank, Treatment(reference=\"Random\"))[T.Popular]           2.721303e-74\n",
       "C(Rank)[T.Popular]                                          2.721303e-74\n",
       "C(Rank)[T.Random]                                          3.480910e-105\n",
       "C(Label)[T.No-label]:C(Rank)[Health]                        2.557556e-19\n",
       "C(Label)[T.Nutriscore]:C(Rank)[Health]                      1.334047e-01\n",
       "C(Label)[T.No-label]:C(Rank)[Popular]                       4.147792e-19\n",
       "C(Label)[T.Nutriscore]:C(Rank)[Popular]                     1.029329e-01\n",
       "C(Label)[T.No-label]:C(Rank)[Random]                        6.369317e-18\n",
       "C(Label)[T.Nutriscore]:C(Rank)[Random]                      1.301306e-02\n",
       "dtype: float64"
      ]
     },
     "execution_count": 16,
     "metadata": {},
     "output_type": "execute_result"
    }
   ],
   "source": [
    "# estimate the p-values\n",
    "model.pvalues"
   ]
  },
  {
   "cell_type": "code",
   "execution_count": null,
   "id": "fiscal-knitting",
   "metadata": {},
   "outputs": [],
   "source": [
    "from statsmodels.stats.multicomp import pairwise_tukeyhsd\n",
    "tukey = pairwise_tukeyhsd(endog=df['score'],\n",
    "                          groups=df['group'],\n",
    "                          alpha=0.05)"
   ]
  },
  {
   "cell_type": "code",
   "execution_count": null,
   "id": "chicken-addiction",
   "metadata": {},
   "outputs": [],
   "source": []
  }
 ],
 "metadata": {
  "kernelspec": {
   "display_name": "Python 3",
   "language": "python",
   "name": "python3"
  },
  "language_info": {
   "codemirror_mode": {
    "name": "ipython",
    "version": 3
   },
   "file_extension": ".py",
   "mimetype": "text/x-python",
   "name": "python",
   "nbconvert_exporter": "python",
   "pygments_lexer": "ipython3",
   "version": "3.7.9"
  }
 },
 "nbformat": 4,
 "nbformat_minor": 5
}
