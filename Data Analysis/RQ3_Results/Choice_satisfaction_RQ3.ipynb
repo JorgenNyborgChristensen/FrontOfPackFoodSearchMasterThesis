{
 "cells": [
  {
   "cell_type": "code",
   "execution_count": 30,
   "id": "trained-collect",
   "metadata": {},
   "outputs": [],
   "source": [
    "import matplotlib.pyplot as plt\n",
    "import numpy as np\n",
    "import pandas as pd\n",
    "import seaborn as sns\n",
    "import warnings\n",
    "from pylab import rcParams\n",
    "from scipy import stats\n",
    "\n",
    "from scipy.stats import f_oneway\n",
    "from scipy.stats import ttest_ind\n",
    "import statsmodels.api as sm\n",
    "from statsmodels.formula.api import ols\n",
    "pd.set_option('display.max_columns', 1000)\n",
    "pd.set_option('display.max_rows', 1000)"
   ]
  },
  {
   "cell_type": "code",
   "execution_count": 31,
   "id": "governing-skiing",
   "metadata": {},
   "outputs": [],
   "source": [
    "%matplotlib inline\n",
    "warnings.filterwarnings(\"ignore\")\n",
    "rcParams['figure.figsize'] = 20,10\n",
    "rcParams['font.size'] = 30\n",
    "sns.set()\n",
    "np.random.seed(8)"
   ]
  },
  {
   "cell_type": "code",
   "execution_count": 32,
   "id": "perfect-slide",
   "metadata": {},
   "outputs": [],
   "source": [
    "# Selected recipes\n",
    "s1 = pd.read_csv(\"./Pro_1/selectedrecipes.csv\")\n",
    "s2 = pd.read_csv(\"./Pro_2/selectedrecipes.csv\")\n",
    "s3 = pd.read_csv(\"./Pro_3/selectedrecipes.csv\")"
   ]
  },
  {
   "cell_type": "code",
   "execution_count": 33,
   "id": "painted-necklace",
   "metadata": {},
   "outputs": [
    {
     "name": "stdout",
     "output_type": "stream",
     "text": [
      "[0.50433008 0.70619774 0.50442374]\n",
      "Factor Loadings \n",
      "               Factor 1\n",
      "choice_sat_q1 -0.988183\n",
      "choice_sat_q2  0.106579\n",
      "choice_sat_q3 -0.636765\n"
     ]
    }
   ],
   "source": [
    "from factor_analyzer import FactorAnalyzer\n",
    "from factor_analyzer.factor_analyzer import calculate_kmo\n",
    "\n",
    "choice_sat = ms[[\"choice_sat_q1\",\"choice_sat_q2\", \"choice_sat_q3\"]]\n",
    "\n",
    "kmo_all,kmo_model=calculate_kmo(choice_sat)\n",
    "\n",
    "fa = FactorAnalyzer(1)\n",
    "fa.fit(choice_sat)\n",
    "\n",
    "loadings = pd.DataFrame(fa.loadings_, columns=['Factor 1'], index=choice_sat.columns)\n",
    "print(kmo_all)\n",
    "print('Factor Loadings \\n%s' %loadings)\n"
   ]
  },
  {
   "cell_type": "code",
   "execution_count": 23,
   "id": "professional-amateur",
   "metadata": {},
   "outputs": [],
   "source": [
    "# Calculate mean for choice satisfaction for each participant\n",
    "choice_sat = s1.loc[: , \"choice_sat_q1\":\"choice_sat_q3\"]\n",
    "s1['choice_sat_mean'] = choice_sat.mean(axis=1)\n",
    "\n",
    "choice_dif2 = s2.loc[: , \"choice_sat_q1\":\"choice_sat_q3\"] \n",
    "s2['choice_sat_mean'] = choice_dif2.mean(axis=1)\n",
    "\n",
    "choice_dif3 = s3.loc[: , \"choice_sat_q1\":\"choice_sat_q3\"] \n",
    "s3['choice_sat_mean'] = choice_dif3.mean(axis=1)"
   ]
  },
  {
   "cell_type": "code",
   "execution_count": 5,
   "id": "attached-stopping",
   "metadata": {},
   "outputs": [],
   "source": [
    "# Demographic\n",
    "demo1 = pd.read_csv(\"./Pro_1/demographics.csv\")\n",
    "demo2 = pd.read_csv(\"./Pro_2/demographics.csv\")\n",
    "demo3 = pd.read_csv(\"./Pro_3/demographics.csv\")\n",
    "md = pd.concat([demo1, demo2, demo3])\n",
    "\n",
    "# Add all data to one DF\n",
    "ms = pd.concat([s1, s2, s3])"
   ]
  },
  {
   "cell_type": "code",
   "execution_count": 6,
   "id": "framed-affair",
   "metadata": {},
   "outputs": [],
   "source": [
    "s1_sat = s1['choice_sat_mean'].to_numpy()\n",
    "s2_sat = s2['choice_sat_mean'].to_numpy()\n",
    "s3_sat = s3['choice_sat_mean'].to_numpy()"
   ]
  },
  {
   "cell_type": "code",
   "execution_count": 7,
   "id": "asian-freight",
   "metadata": {},
   "outputs": [],
   "source": [
    "shown1 = s1\n",
    "shown2 = s2\n",
    "shown3 = s3 \n",
    "\n",
    "# Condition 1 variants\n",
    "s1v1 = shown1.loc[shown1['variant'] == 1]\n",
    "s1v2 = shown1.loc[shown1['variant'] == 2] \n",
    "s1v3 = shown1.loc[shown1['variant'] == 3]\n",
    "\n",
    "# Condition 2 variants\n",
    "s2v1 = shown2.loc[shown2['variant'] == 1]\n",
    "s2v2 = shown2.loc[shown2['variant'] == 2]\n",
    "s2v3 = shown2.loc[shown2['variant'] == 3]\n",
    "\n",
    "# Condition 3 variants\n",
    "s3v1 = shown3.loc[shown3['variant'] == 1]\n",
    "s3v2 = shown3.loc[shown3['variant'] == 2]\n",
    "s3v3 = shown3.loc[shown3['variant'] == 3]"
   ]
  },
  {
   "cell_type": "code",
   "execution_count": 8,
   "id": "differential-tournament",
   "metadata": {},
   "outputs": [],
   "source": [
    "# Take the mean of the 3 choice difficulty questions for each participant\n",
    "h1 = s1v3['choice_sat_mean'].to_numpy()\n",
    "h2 = s2v3['choice_sat_mean'].to_numpy()\n",
    "h3 = s3v3['choice_sat_mean'].to_numpy()\n",
    "\n",
    "r1 = s1v2['choice_sat_mean'].to_numpy()\n",
    "r2 = s2v2['choice_sat_mean'].to_numpy()\n",
    "r3 = s3v2['choice_sat_mean'].to_numpy()\n",
    "\n",
    "p1 = s1v1['choice_sat_mean'].to_numpy()\n",
    "p2 = s2v1['choice_sat_mean'].to_numpy()\n",
    "p3 = s3v1['choice_sat_mean'].to_numpy()"
   ]
  },
  {
   "cell_type": "code",
   "execution_count": 9,
   "id": "presidential-equation",
   "metadata": {},
   "outputs": [],
   "source": [
    "# EXCLUDE VEGANS\n",
    "no_veg_id = md['user_id'].loc[md['restrictions'] != \"vegan\"].values\n",
    "\n",
    "s1_no_veg = s1[s1['user_id'].isin(no_veg_id)]\n",
    "s2_no_veg = s2[s2['user_id'].isin(no_veg_id)]\n",
    "s3_no_veg = s3[s3['user_id'].isin(no_veg_id)]\n",
    "\n",
    "s1_fsa_no_veg = s1_no_veg['choice_sat_mean'].to_numpy()\n",
    "s2_fsa_no_veg = s2_no_veg['choice_sat_mean'].to_numpy()\n",
    "s3_fsa_no_veg = s3_no_veg['choice_sat_mean'].to_numpy()\n",
    "\n",
    "# Condition 1 variants \n",
    "s1v1_no_veg = s1_no_veg.loc[s1_no_veg['variant'] == 1]\n",
    "s1v2_no_veg = s1_no_veg.loc[s1_no_veg['variant'] == 2]\n",
    "s1v3_no_veg = s1_no_veg.loc[s1_no_veg['variant'] == 3]\n",
    "\n",
    "# Condition 2 variants\n",
    "s2v1_no_veg = s2_no_veg.loc[s2_no_veg['variant'] == 1]\n",
    "s2v2_no_veg = s2_no_veg.loc[s2_no_veg['variant'] == 2]\n",
    "s2v3_no_veg = s2_no_veg.loc[s2_no_veg['variant'] == 3]\n",
    "\n",
    "# Condition 3 variants\n",
    "s3v1_no_veg = s3_no_veg.loc[s3_no_veg['variant'] == 1]\n",
    "s3v2_no_veg = s3_no_veg.loc[s3_no_veg['variant'] == 2]\n",
    "s3v3_no_veg = s3_no_veg.loc[s3_no_veg['variant'] == 3]\n",
    "\n",
    "# Choice difficulty for each variant\n",
    "s1v1_fsa_no_veg = s1v1_no_veg['choice_sat_mean'].to_numpy()\n",
    "s1v2_fsa_no_veg = s1v2_no_veg['choice_sat_mean'].to_numpy()\n",
    "s1v3_fsa_no_veg = s1v3_no_veg['choice_sat_mean'].to_numpy()\n",
    "\n",
    "s2v1_fsa_no_veg = s2v1_no_veg['choice_sat_mean'].to_numpy()\n",
    "s2v2_fsa_no_veg = s2v2_no_veg['choice_sat_mean'].to_numpy()\n",
    "s2v3_fsa_no_veg = s2v3_no_veg['choice_sat_mean'].to_numpy()\n",
    "\n",
    "s3v1_fsa_no_veg = s3v1_no_veg['choice_sat_mean'].to_numpy()\n",
    "s3v2_fsa_no_veg = s3v2_no_veg['choice_sat_mean'].to_numpy()\n",
    "s3v3_fsa_no_veg = s3v3_no_veg['choice_sat_mean'].to_numpy()"
   ]
  },
  {
   "cell_type": "code",
   "execution_count": 10,
   "id": "sharp-hypothetical",
   "metadata": {},
   "outputs": [],
   "source": [
    "# EXCLUDE ALLERGIES\n",
    "no_allerg_id = md['user_id'].loc[md['restrictions'] != \"allergies\"].values\n",
    "\n",
    "s1_no_allerg = s1[s1['user_id'].isin(no_allerg_id)]\n",
    "s2_no_allerg = s2[s2['user_id'].isin(no_allerg_id)]\n",
    "s3_no_allerg = s3[s3['user_id'].isin(no_allerg_id)]\n",
    "\n",
    "s1_fsa_no_allerg = s1_no_allerg['choice_sat_mean'].to_numpy()\n",
    "s2_fsa_no_allerg = s2_no_allerg['choice_sat_mean'].to_numpy()\n",
    "s3_fsa_no_allerg = s3_no_allerg['choice_sat_mean'].to_numpy()\n",
    "\n",
    "# Condition 1 variants \n",
    "s1v1_no_allerg = s1_no_allerg.loc[s1_no_allerg['variant'] == 1]\n",
    "s1v2_no_allerg = s1_no_allerg.loc[s1_no_allerg['variant'] == 2]\n",
    "s1v3_no_allerg = s1_no_allerg.loc[s1_no_allerg['variant'] == 3]\n",
    "\n",
    "# Condition 2 variants\n",
    "s2v1_no_allerg = s2_no_allerg.loc[s2_no_allerg['variant'] == 1]\n",
    "s2v2_no_allerg = s2_no_allerg.loc[s2_no_allerg['variant'] == 2]\n",
    "s2v3_no_allerg = s2_no_allerg.loc[s2_no_allerg['variant'] == 3]\n",
    "\n",
    "# Condition 3 variants\n",
    "s3v1_no_allerg = s3_no_allerg.loc[s3_no_allerg['variant'] == 1]\n",
    "s3v2_no_allerg = s3_no_allerg.loc[s3_no_allerg['variant'] == 2]\n",
    "s3v3_no_allerg = s3_no_allerg.loc[s3_no_allerg['variant'] == 3]\n",
    "\n",
    "# Chice difficulty for each variant\n",
    "s1v1_fsa_no_allerg = s1v1_no_allerg['choice_sat_mean'].to_numpy()\n",
    "s1v2_fsa_no_allerg = s1v2_no_allerg['choice_sat_mean'].to_numpy()\n",
    "s1v3_fsa_no_allerg = s1v3_no_allerg['choice_sat_mean'].to_numpy()\n",
    "\n",
    "s2v1_fsa_no_allerg = s2v1_no_allerg['choice_sat_mean'].to_numpy()\n",
    "s2v2_fsa_no_allerg = s2v2_no_allerg['choice_sat_mean'].to_numpy()\n",
    "s2v3_fsa_no_allerg = s2v3_no_allerg['choice_sat_mean'].to_numpy()\n",
    "\n",
    "s3v1_fsa_no_allerg = s3v1_no_allerg['choice_sat_mean'].to_numpy()\n",
    "s3v2_fsa_no_allerg = s3v2_no_allerg['choice_sat_mean'].to_numpy()\n",
    "s3v3_fsa_no_allerg = s3v3_no_allerg['choice_sat_mean'].to_numpy()"
   ]
  },
  {
   "cell_type": "code",
   "execution_count": 11,
   "id": "concerned-macintosh",
   "metadata": {},
   "outputs": [
    {
     "data": {
      "text/plain": [
       "<matplotlib.lines.Line2D at 0x1f6c843b3c8>"
      ]
     },
     "execution_count": 11,
     "metadata": {},
     "output_type": "execute_result"
    },
    {
     "data": {
      "image/png": "[encoded data removed]",
      "text/plain": [
       "<Figure size 1440x720 with 1 Axes>"
      ]
     },
     "metadata": {},
     "output_type": "display_data"
    }
   ],
   "source": [
    "# Compare\n",
    "plt.figure()\n",
    "ax1 = sns.distplot(s1['choice_sat_mean'])\n",
    "ax2 = sns.distplot(s2['choice_sat_mean'])\n",
    "ax3 = sns.distplot(s3['choice_sat_mean'])\n",
    "plt.axvline(np.mean(s1['choice_sat_mean']), color='blue', linestyle='dashed', linewidth=5)    # Nutri-score health rank\n",
    "plt.axvline(np.mean(s2['choice_sat_mean']), color='orange', linestyle='dashed', linewidth=5)  # MTL health rank\n",
    "plt.axvline(np.mean(s3['choice_sat_mean']), color='green', linestyle='dashed', linewidth=5)   # No-label health rank"
   ]
  },
  {
   "cell_type": "markdown",
   "id": "periodic-going",
   "metadata": {},
   "source": [
    "# RQ3: To what extent can front-of-pack nutrition labels influence choice satisfaction? \n",
    "\n",
    "Summary: \n",
    "* Statistically significant difference in choice satisfaction between Nutri-score and No-label\n",
    "\n",
    "* In the nutriscore condition there is a large difference in choice satisfaction between random ranking and health ranking.\n",
    "* Why is choice satisfaction highest with random ranking and lowest with health ranking ?\n",
    "    * Do people choose healthiest recipe despite the fact that they dont really like them? If so, how often is the first 5 recipes choosen in the health ranking condition\n",
    "\n",
    "* In the MTL condition choice satisfaction is not affected by the ranking of the recipes, and choice satisfaction is stable across the different variants\n",
    "\n",
    "Ranking: \n",
    "* For popular ranking the difference is largest between Nutriscore and no-label.\n",
    "* For random ranking there is a large difference between Nutriscore and No-label\n",
    "* For health ranking there is not a significant difference in choice satisfaction between the conditions."
   ]
  },
  {
   "cell_type": "markdown",
   "id": "generous-regression",
   "metadata": {},
   "source": [
    "## Compare choice satisfaction between conditions"
   ]
  },
  {
   "cell_type": "markdown",
   "id": "figured-interpretation",
   "metadata": {},
   "source": [
    "* h1 = Nutriscore\n",
    "* h2 = MTL \n",
    "* h3 = no label\n",
    "\n",
    "Strongly disagree = -2\n",
    "Disagree = -1\n",
    "Neither disagree/agree = 0\n",
    "Agree = 1\n",
    "Strongly agree = 2"
   ]
  },
  {
   "cell_type": "code",
   "execution_count": 22,
   "id": "traditional-short",
   "metadata": {},
   "outputs": [
    {
     "data": {
      "text/plain": [
       "F_onewayResult(statistic=4.033105912010284, pvalue=0.017854508410878697)"
      ]
     },
     "execution_count": 22,
     "metadata": {},
     "output_type": "execute_result"
    }
   ],
   "source": [
    "f_oneway(s1_sat, s2_sat, s3_sat)"
   ]
  },
  {
   "cell_type": "code",
   "execution_count": 25,
   "id": "pleasant-nursing",
   "metadata": {},
   "outputs": [
    {
     "data": {
      "text/plain": [
       "F_onewayResult(statistic=4.033105912010284, pvalue=0.017854508410878697)"
      ]
     },
     "execution_count": 25,
     "metadata": {},
     "output_type": "execute_result"
    }
   ],
   "source": [
    "# Without vegetarians \n",
    "f_oneway(s1_no_veg[\"choice_sat_mean\"], s2_no_veg[\"choice_sat_mean\"], s3_no_veg[\"choice_sat_mean\"])"
   ]
  },
  {
   "cell_type": "code",
   "execution_count": 26,
   "id": "gothic-tracy",
   "metadata": {},
   "outputs": [
    {
     "data": {
      "text/plain": [
       "F_onewayResult(statistic=4.033105912010284, pvalue=0.017854508410878697)"
      ]
     },
     "execution_count": 26,
     "metadata": {},
     "output_type": "execute_result"
    }
   ],
   "source": [
    "# Without allergies \n",
    "f_oneway(s1_no_allerg[\"choice_sat_mean\"], s2_no_allerg[\"choice_sat_mean\"], s3_no_allerg[\"choice_sat_mean\"])"
   ]
  },
  {
   "cell_type": "code",
   "execution_count": null,
   "id": "instructional-metro",
   "metadata": {},
   "outputs": [],
   "source": [
    "# Compare averages for each condition"
   ]
  },
  {
   "cell_type": "code",
   "execution_count": 106,
   "id": "departmental-glucose",
   "metadata": {},
   "outputs": [
    {
     "data": {
      "text/plain": [
       "0.48910523875753364"
      ]
     },
     "execution_count": 106,
     "metadata": {},
     "output_type": "execute_result"
    }
   ],
   "source": [
    "s1_sat.mean() # Overall choice satisfaction is highest in the Nutriscore condition"
   ]
  },
  {
   "cell_type": "code",
   "execution_count": 107,
   "id": "crude-aluminum",
   "metadata": {},
   "outputs": [
    {
     "data": {
      "text/plain": [
       "0.45667125171939477"
      ]
     },
     "execution_count": 107,
     "metadata": {},
     "output_type": "execute_result"
    }
   ],
   "source": [
    "s2_sat.mean()"
   ]
  },
  {
   "cell_type": "code",
   "execution_count": 108,
   "id": "honest-salad",
   "metadata": {},
   "outputs": [
    {
     "data": {
      "text/plain": [
       "0.41104868913857673"
      ]
     },
     "execution_count": 108,
     "metadata": {},
     "output_type": "execute_result"
    }
   ],
   "source": [
    "s3_sat.mean()"
   ]
  },
  {
   "cell_type": "markdown",
   "id": "special-worship",
   "metadata": {},
   "source": [
    "### T-test Nutriscore - MTL"
   ]
  },
  {
   "cell_type": "code",
   "execution_count": 25,
   "id": "particular-emergency",
   "metadata": {},
   "outputs": [
    {
     "data": {
      "text/plain": [
       "Ttest_indResult(statistic=1.023201281225648, pvalue=0.30638406825685033)"
      ]
     },
     "execution_count": 25,
     "metadata": {},
     "output_type": "execute_result"
    }
   ],
   "source": [
    "stats.ttest_ind(s1_sat, s2_sat)"
   ]
  },
  {
   "cell_type": "code",
   "execution_count": 38,
   "id": "biological-franchise",
   "metadata": {},
   "outputs": [
    {
     "data": {
      "text/plain": [
       "Ttest_indResult(statistic=1.3047090655284854, pvalue=0.19221952086941382)"
      ]
     },
     "execution_count": 38,
     "metadata": {},
     "output_type": "execute_result"
    }
   ],
   "source": [
    "# Without vegetarians \n",
    "stats.ttest_ind(s1_no_veg[\"fsa_score\"], s2_no_veg[\"fsa_score\"])"
   ]
  },
  {
   "cell_type": "code",
   "execution_count": 39,
   "id": "played-sound",
   "metadata": {},
   "outputs": [
    {
     "data": {
      "text/plain": [
       "Ttest_indResult(statistic=1.3319912649967725, pvalue=0.1830745668157754)"
      ]
     },
     "execution_count": 39,
     "metadata": {},
     "output_type": "execute_result"
    }
   ],
   "source": [
    "# Without allergies \n",
    "stats.ttest_ind(s1_no_allerg[\"fsa_score\"], s2_no_allerg[\"fsa_score\"])"
   ]
  },
  {
   "cell_type": "markdown",
   "id": "neutral-ozone",
   "metadata": {},
   "source": [
    "### T-test Nutriscore - No-label"
   ]
  },
  {
   "cell_type": "code",
   "execution_count": 28,
   "id": "seasonal-scholar",
   "metadata": {},
   "outputs": [
    {
     "data": {
      "text/plain": [
       "Ttest_indResult(statistic=2.424149632162128, pvalue=0.015467684099373514)"
      ]
     },
     "execution_count": 28,
     "metadata": {},
     "output_type": "execute_result"
    }
   ],
   "source": [
    "stats.ttest_ind(s1_sat, s3_sat)"
   ]
  },
  {
   "cell_type": "code",
   "execution_count": 40,
   "id": "separate-circuit",
   "metadata": {},
   "outputs": [
    {
     "data": {
      "text/plain": [
       "Ttest_indResult(statistic=-2.5497390265036204, pvalue=0.010893018418846977)"
      ]
     },
     "execution_count": 40,
     "metadata": {},
     "output_type": "execute_result"
    }
   ],
   "source": [
    "# Without vegetarians \n",
    "stats.ttest_ind(s1_no_veg[\"fsa_score\"], s3_no_veg[\"fsa_score\"])"
   ]
  },
  {
   "cell_type": "code",
   "execution_count": 41,
   "id": "reliable-lucas",
   "metadata": {},
   "outputs": [
    {
     "data": {
      "text/plain": [
       "Ttest_indResult(statistic=-2.6516625752904215, pvalue=0.008098990809798813)"
      ]
     },
     "execution_count": 41,
     "metadata": {},
     "output_type": "execute_result"
    }
   ],
   "source": [
    "# Without allergies \n",
    "stats.ttest_ind(s1_no_allerg[\"fsa_score\"], s3_no_allerg[\"fsa_score\"])"
   ]
  },
  {
   "cell_type": "markdown",
   "id": "square-shadow",
   "metadata": {},
   "source": [
    "  * **Statistically significant difference in choice satisfaction between Nutri-score and No-label**"
   ]
  },
  {
   "cell_type": "markdown",
   "id": "important-hands",
   "metadata": {},
   "source": [
    "### T-test MTL - No-label"
   ]
  },
  {
   "cell_type": "code",
   "execution_count": 44,
   "id": "sensitive-narrative",
   "metadata": {},
   "outputs": [
    {
     "data": {
      "text/plain": [
       "Ttest_indResult(statistic=1.4908161860108375, pvalue=0.13622922651604646)"
      ]
     },
     "execution_count": 44,
     "metadata": {},
     "output_type": "execute_result"
    }
   ],
   "source": [
    "stats.ttest_ind(s2_sat, s3_sat)"
   ]
  },
  {
   "cell_type": "code",
   "execution_count": 45,
   "id": "spare-responsibility",
   "metadata": {},
   "outputs": [
    {
     "data": {
      "text/plain": [
       "Ttest_indResult(statistic=-3.9372440708010745, pvalue=8.66145378054762e-05)"
      ]
     },
     "execution_count": 45,
     "metadata": {},
     "output_type": "execute_result"
    }
   ],
   "source": [
    "# Without vegetarians \n",
    "stats.ttest_ind(s2_no_veg[\"fsa_score\"], s3_no_veg[\"fsa_score\"])"
   ]
  },
  {
   "cell_type": "code",
   "execution_count": 46,
   "id": "handmade-railway",
   "metadata": {},
   "outputs": [
    {
     "data": {
      "text/plain": [
       "Ttest_indResult(statistic=-4.004024415714614, pvalue=6.547538649877777e-05)"
      ]
     },
     "execution_count": 46,
     "metadata": {},
     "output_type": "execute_result"
    }
   ],
   "source": [
    "# Without allergies \n",
    "stats.ttest_ind(s2_no_allerg[\"fsa_score\"], s3_no_allerg[\"fsa_score\"])"
   ]
  },
  {
   "cell_type": "markdown",
   "id": "dress-chile",
   "metadata": {},
   "source": [
    "# How is choice satisfaction affected by the ranking in the different conditions? "
   ]
  },
  {
   "cell_type": "markdown",
   "id": "plastic-gates",
   "metadata": {},
   "source": [
    "## Nutriscore ranking"
   ]
  },
  {
   "cell_type": "code",
   "execution_count": 67,
   "id": "blocked-builder",
   "metadata": {},
   "outputs": [
    {
     "data": {
      "text/plain": [
       "F_onewayResult(statistic=2.8807532325155987, pvalue=0.056742906900509864)"
      ]
     },
     "execution_count": 67,
     "metadata": {},
     "output_type": "execute_result"
    }
   ],
   "source": [
    "f_oneway(p1, r1, h1)"
   ]
  },
  {
   "cell_type": "code",
   "execution_count": 68,
   "id": "intensive-introduction",
   "metadata": {},
   "outputs": [
    {
     "data": {
      "text/plain": [
       "F_onewayResult(statistic=3.1225249617159734, pvalue=0.04471968128686364)"
      ]
     },
     "execution_count": 68,
     "metadata": {},
     "output_type": "execute_result"
    }
   ],
   "source": [
    "# Exclude vegans\n",
    "f_oneway(s1v1_no_veg[\"choice_sat_mean\"], s1v2_no_veg[\"choice_sat_mean\"], s1v3_no_veg[\"choice_sat_mean\"])"
   ]
  },
  {
   "cell_type": "code",
   "execution_count": 69,
   "id": "yellow-realtor",
   "metadata": {},
   "outputs": [
    {
     "data": {
      "text/plain": [
       "F_onewayResult(statistic=3.051110421416676, pvalue=0.04792713641423172)"
      ]
     },
     "execution_count": 69,
     "metadata": {},
     "output_type": "execute_result"
    }
   ],
   "source": [
    "# Exclude vegans\n",
    "f_oneway(s1v1_no_allerg[\"choice_sat_mean\"], s1v2_no_allerg[\"choice_sat_mean\"], s1v3_no_allerg[\"choice_sat_mean\"])"
   ]
  },
  {
   "cell_type": "code",
   "execution_count": 80,
   "id": "compressed-honolulu",
   "metadata": {},
   "outputs": [
    {
     "name": "stdout",
     "output_type": "stream",
     "text": [
      "0.4774011299435028\n",
      "0.4444444444444443\n",
      "0.4786324786324785\n"
     ]
    }
   ],
   "source": [
    "# Popular ranking\n",
    "print(p1.mean())\n",
    "print(s1v1_no_veg[\"choice_sat_mean\"].mean())\n",
    "print(s1v1_no_allerg[\"choice_sat_mean\"].mean())"
   ]
  },
  {
   "cell_type": "code",
   "execution_count": 82,
   "id": "allied-november",
   "metadata": {},
   "outputs": [
    {
     "name": "stdout",
     "output_type": "stream",
     "text": [
      "0.5634588563458854\n",
      "0.539906103286385\n",
      "0.5654008438818567\n"
     ]
    }
   ],
   "source": [
    " # Random ranking\n",
    "print(r1.mean())\n",
    "print(s1v2_no_veg[\"choice_sat_mean\"].mean())\n",
    "print(s1v2_no_allerg[\"choice_sat_mean\"].mean())"
   ]
  },
  {
   "cell_type": "code",
   "execution_count": 83,
   "id": "opening-convergence",
   "metadata": {},
   "outputs": [
    {
     "name": "stdout",
     "output_type": "stream",
     "text": [
      "0.4275956284153006\n",
      "0.397553516819572\n",
      "0.42424242424242437\n"
     ]
    }
   ],
   "source": [
    "# Health ranking \n",
    "print(h1.mean())\n",
    "print(s1v3_no_veg[\"choice_sat_mean\"].mean())\n",
    "print(s1v3_no_allerg[\"choice_sat_mean\"].mean())"
   ]
  },
  {
   "cell_type": "code",
   "execution_count": 66,
   "id": "japanese-sensitivity",
   "metadata": {},
   "outputs": [
    {
     "data": {
      "text/plain": [
       "Ttest_indResult(statistic=2.3032991289909557, pvalue=0.021687703867190516)"
      ]
     },
     "execution_count": 66,
     "metadata": {},
     "output_type": "execute_result"
    }
   ],
   "source": [
    "# Compare random ranking and health ranking in nutriscore condition\n",
    "stats.ttest_ind(r1, h1)"
   ]
  },
  {
   "cell_type": "markdown",
   "id": "acknowledged-implementation",
   "metadata": {},
   "source": [
    "* **In the nutriscore condition there is a large difference in choice satisfaction between random ranking and health ranking.**\n",
    "* **Why is choice satisfaction highest with random ranking and lowest with health ranking ?**\n",
    "    * Do people choose healthiest recipe despite the fact that they dont really like them? If so, how often is the first 5 recipes choosen in the health ranking condition"
   ]
  },
  {
   "cell_type": "markdown",
   "id": "resident-owner",
   "metadata": {},
   "source": [
    "## MTL ranking\n"
   ]
  },
  {
   "cell_type": "code",
   "execution_count": 111,
   "id": "distinct-installation",
   "metadata": {},
   "outputs": [
    {
     "data": {
      "text/plain": [
       "F_onewayResult(statistic=0.008584307942902365, pvalue=0.9914525329349658)"
      ]
     },
     "execution_count": 111,
     "metadata": {},
     "output_type": "execute_result"
    }
   ],
   "source": [
    "f_oneway(p2, r2, h2)"
   ]
  },
  {
   "cell_type": "code",
   "execution_count": 126,
   "id": "bulgarian-sally",
   "metadata": {},
   "outputs": [
    {
     "name": "stdout",
     "output_type": "stream",
     "text": [
      "Popular ranking:\n",
      "0.4536652835408022\n",
      "0.45575221238938035\n",
      "0.4541666666666665\n",
      "Random ranking:\n",
      "0.45592286501377416\n",
      "0.47514619883040915\n",
      "0.45643153526970925\n",
      "Health ranking:\n",
      "0.4603825136612022\n",
      "0.4749262536873152\n",
      "0.4609053497942383\n"
     ]
    }
   ],
   "source": [
    "# Popular ranking\n",
    "print(\"Popular ranking:\")\n",
    "print(p2.mean())\n",
    "print(s2v1_no_veg[\"choice_sat_mean\"].mean())\n",
    "print(s2v1_no_allerg[\"choice_sat_mean\"].mean())\n",
    "\n",
    "# Random ranking\n",
    "print(\"Random ranking:\")\n",
    "print(r2.mean())\n",
    "print(s2v2_no_veg[\"choice_sat_mean\"].mean())\n",
    "print(s2v2_no_allerg[\"choice_sat_mean\"].mean())\n",
    "\n",
    "# Health ranking \n",
    "print(\"Health ranking:\")\n",
    "print(h2.mean())\n",
    "print(s2v3_no_veg[\"choice_sat_mean\"].mean())\n",
    "print(s2v3_no_allerg[\"choice_sat_mean\"].mean())"
   ]
  },
  {
   "cell_type": "markdown",
   "id": "operating-brief",
   "metadata": {},
   "source": [
    "* **In the MTL condition choice satisfaction is not affected by the ranking of the recipes, and choice satisfaction is stable across the different variants**"
   ]
  },
  {
   "cell_type": "markdown",
   "id": "clinical-portable",
   "metadata": {},
   "source": [
    "## Closer look at No-label"
   ]
  },
  {
   "cell_type": "code",
   "execution_count": 112,
   "id": "painted-australian",
   "metadata": {},
   "outputs": [
    {
     "data": {
      "text/plain": [
       "F_onewayResult(statistic=0.3410816786393414, pvalue=0.7111174320545375)"
      ]
     },
     "execution_count": 112,
     "metadata": {},
     "output_type": "execute_result"
    }
   ],
   "source": [
    "f_oneway(p3, r3, h3)"
   ]
  },
  {
   "cell_type": "code",
   "execution_count": 75,
   "id": "common-grass",
   "metadata": {},
   "outputs": [
    {
     "data": {
      "text/plain": [
       "0.38537271448663857"
      ]
     },
     "execution_count": 75,
     "metadata": {},
     "output_type": "execute_result"
    }
   ],
   "source": [
    "p3.mean() # Popular ranking"
   ]
  },
  {
   "cell_type": "code",
   "execution_count": 76,
   "id": "uniform-christian",
   "metadata": {},
   "outputs": [
    {
     "data": {
      "text/plain": [
       "0.4223163841807909"
      ]
     },
     "execution_count": 76,
     "metadata": {},
     "output_type": "execute_result"
    }
   ],
   "source": [
    "r3.mean() # Random ranking"
   ]
  },
  {
   "cell_type": "code",
   "execution_count": 77,
   "id": "packed-brake",
   "metadata": {},
   "outputs": [
    {
     "data": {
      "text/plain": [
       "0.42538354253835425"
      ]
     },
     "execution_count": 77,
     "metadata": {},
     "output_type": "execute_result"
    }
   ],
   "source": [
    "h3.mean() # Health ranking "
   ]
  },
  {
   "cell_type": "code",
   "execution_count": 114,
   "id": "latin-indonesia",
   "metadata": {},
   "outputs": [
    {
     "data": {
      "text/plain": [
       "Ttest_indResult(statistic=-0.05445025409380078, pvalue=0.956599431573917)"
      ]
     },
     "execution_count": 114,
     "metadata": {},
     "output_type": "execute_result"
    }
   ],
   "source": [
    "# Compare random ranking and health ranking in no label condition\n",
    "stats.ttest_ind(r3, h3)"
   ]
  },
  {
   "cell_type": "markdown",
   "id": "stunning-berlin",
   "metadata": {},
   "source": [
    "# Choice satisfaction and within-subjects variables "
   ]
  },
  {
   "cell_type": "markdown",
   "id": "linear-fruit",
   "metadata": {},
   "source": [
    "## Popular ranking "
   ]
  },
  {
   "cell_type": "code",
   "execution_count": 90,
   "id": "adverse-cabinet",
   "metadata": {},
   "outputs": [],
   "source": [
    "# P1 = Condition 1 Nutriscore Popularity ranking\n",
    "# P2 = Condition 2 MTL Popularity ranking\n",
    "# P3 = Condition 3 No-label Popularity ranking"
   ]
  },
  {
   "cell_type": "code",
   "execution_count": 89,
   "id": "prescription-wedding",
   "metadata": {},
   "outputs": [
    {
     "data": {
      "text/plain": [
       "F_onewayResult(statistic=1.851517153875477, pvalue=0.15775496745597245)"
      ]
     },
     "execution_count": 89,
     "metadata": {},
     "output_type": "execute_result"
    }
   ],
   "source": [
    "f_oneway(p1, p2, p3)"
   ]
  },
  {
   "cell_type": "code",
   "execution_count": 91,
   "id": "moral-mountain",
   "metadata": {},
   "outputs": [
    {
     "data": {
      "text/plain": [
       "F_onewayResult(statistic=1.012192125590663, pvalue=0.36398658336027057)"
      ]
     },
     "execution_count": 91,
     "metadata": {},
     "output_type": "execute_result"
    }
   ],
   "source": [
    "# Without vegetarians \n",
    "f_oneway(s1v1_fsa_no_veg, s2v1_fsa_no_veg, s3v1_fsa_no_veg)"
   ]
  },
  {
   "cell_type": "code",
   "execution_count": 92,
   "id": "surface-monitor",
   "metadata": {},
   "outputs": [
    {
     "data": {
      "text/plain": [
       "F_onewayResult(statistic=1.9765902190566387, pvalue=0.13930675248364346)"
      ]
     },
     "execution_count": 92,
     "metadata": {},
     "output_type": "execute_result"
    }
   ],
   "source": [
    "# Without allergies \n",
    "f_oneway(s1v1_fsa_no_allerg, s2v1_fsa_no_allerg, s3v1_fsa_no_allerg)"
   ]
  },
  {
   "cell_type": "code",
   "execution_count": 129,
   "id": "exact-powder",
   "metadata": {},
   "outputs": [
    {
     "name": "stdout",
     "output_type": "stream",
     "text": [
      "Popular ranking Nutriscore:\n",
      "0.4774011299435028\n",
      "0.4444444444444443\n",
      "0.4786324786324785\n",
      "Popular ranking MTL:\n",
      "0.4536652835408022\n",
      "0.45575221238938035\n",
      "0.4541666666666665\n",
      "Popular ranking No-label:\n",
      "0.38537271448663857\n",
      "0.3881481481481483\n",
      "0.38297872340425554\n"
     ]
    }
   ],
   "source": [
    "# Nutriscore with popular ranking\n",
    "print(\"Popular ranking Nutriscore:\")\n",
    "print(p1.mean())\n",
    "print(s1v1_no_veg[\"choice_sat_mean\"].mean())\n",
    "print(s1v1_no_allerg[\"choice_sat_mean\"].mean())\n",
    "\n",
    "# MTL with popular ranking\n",
    "print(\"Popular ranking MTL:\")\n",
    "print(p2.mean())\n",
    "print(s2v1_no_veg[\"choice_sat_mean\"].mean())\n",
    "print(s2v1_no_allerg[\"choice_sat_mean\"].mean())\n",
    "\n",
    "# No-label with popular ranking\n",
    "print(\"Popular ranking No-label:\")\n",
    "print(p3.mean())\n",
    "print(s3v1_no_veg[\"choice_sat_mean\"].mean())\n",
    "print(s3v1_no_allerg[\"choice_sat_mean\"].mean())"
   ]
  },
  {
   "cell_type": "code",
   "execution_count": 96,
   "id": "noticed-humor",
   "metadata": {},
   "outputs": [
    {
     "data": {
      "text/plain": [
       "Ttest_indResult(statistic=0.47524599118187494, pvalue=0.6348301047540295)"
      ]
     },
     "execution_count": 96,
     "metadata": {},
     "output_type": "execute_result"
    }
   ],
   "source": [
    "stats.ttest_ind(p1, p2)"
   ]
  },
  {
   "cell_type": "code",
   "execution_count": 116,
   "id": "ancient-forward",
   "metadata": {},
   "outputs": [
    {
     "data": {
      "text/plain": [
       "Ttest_indResult(statistic=1.7898744065175658, pvalue=0.07411636871265238)"
      ]
     },
     "execution_count": 116,
     "metadata": {},
     "output_type": "execute_result"
    }
   ],
   "source": [
    "stats.ttest_ind(p1, p3)"
   ]
  },
  {
   "cell_type": "code",
   "execution_count": 98,
   "id": "otherwise-force",
   "metadata": {},
   "outputs": [
    {
     "data": {
      "text/plain": [
       "Ttest_indResult(statistic=1.4466348971949798, pvalue=0.14865737553894853)"
      ]
     },
     "execution_count": 98,
     "metadata": {},
     "output_type": "execute_result"
    }
   ],
   "source": [
    "stats.ttest_ind(p2, p3)"
   ]
  },
  {
   "cell_type": "markdown",
   "id": "practical-drilling",
   "metadata": {},
   "source": [
    "* **For popular ranking the difference is largest between Nutriscore and no-label.**"
   ]
  },
  {
   "cell_type": "markdown",
   "id": "sealed-continent",
   "metadata": {},
   "source": [
    "## Random ranking"
   ]
  },
  {
   "cell_type": "code",
   "execution_count": 99,
   "id": "absent-patio",
   "metadata": {},
   "outputs": [
    {
     "data": {
      "text/plain": [
       "F_onewayResult(statistic=3.523730065345153, pvalue=0.030003136329968785)"
      ]
     },
     "execution_count": 99,
     "metadata": {},
     "output_type": "execute_result"
    }
   ],
   "source": [
    "f_oneway(r1, r2, r3)"
   ]
  },
  {
   "cell_type": "code",
   "execution_count": 100,
   "id": "caroline-carpet",
   "metadata": {},
   "outputs": [
    {
     "data": {
      "text/plain": [
       "F_onewayResult(statistic=1.5395481125954593, pvalue=0.21524490613511163)"
      ]
     },
     "execution_count": 100,
     "metadata": {},
     "output_type": "execute_result"
    }
   ],
   "source": [
    "# Without vegetarians \n",
    "f_oneway(s1v2_fsa_no_veg, s2v2_fsa_no_veg, s3v2_fsa_no_veg)"
   ]
  },
  {
   "cell_type": "code",
   "execution_count": 101,
   "id": "champion-exposure",
   "metadata": {},
   "outputs": [
    {
     "data": {
      "text/plain": [
       "F_onewayResult(statistic=3.7672360613510083, pvalue=0.023579921035301727)"
      ]
     },
     "execution_count": 101,
     "metadata": {},
     "output_type": "execute_result"
    }
   ],
   "source": [
    "# Without allergies \n",
    "f_oneway(s1v2_fsa_no_allerg, s2v2_fsa_no_allerg, s3v2_fsa_no_allerg)"
   ]
  },
  {
   "cell_type": "code",
   "execution_count": 130,
   "id": "revolutionary-georgia",
   "metadata": {},
   "outputs": [
    {
     "name": "stdout",
     "output_type": "stream",
     "text": [
      "Random ranking Nutriscore:\n",
      "0.5634588563458854\n",
      "0.539906103286385\n",
      "0.5654008438818567\n",
      "Random ranking MTL:\n",
      "0.45592286501377416\n",
      "0.47514619883040915\n",
      "0.45643153526970925\n",
      "Random ranking No-label:\n",
      "0.4223163841807909\n",
      "0.44345238095238093\n",
      "0.4173789173789174\n"
     ]
    }
   ],
   "source": [
    "# Nutriscore with Random ranking\n",
    "print(\"Random ranking Nutriscore:\")\n",
    "print(r1.mean())\n",
    "print(s1v2_no_veg[\"choice_sat_mean\"].mean())\n",
    "print(s1v2_no_allerg[\"choice_sat_mean\"].mean())\n",
    "\n",
    "# MTL with Random ranking\n",
    "print(\"Random ranking MTL:\")\n",
    "print(r2.mean())\n",
    "print(s2v2_no_veg[\"choice_sat_mean\"].mean())\n",
    "print(s2v2_no_allerg[\"choice_sat_mean\"].mean())\n",
    "\n",
    "# No-label with Random ranking\n",
    "print(\"Random ranking No-label:\")\n",
    "print(r3.mean())\n",
    "print(s3v2_no_veg[\"choice_sat_mean\"].mean())\n",
    "print(s3v2_no_allerg[\"choice_sat_mean\"].mean())"
   ]
  },
  {
   "cell_type": "code",
   "execution_count": 105,
   "id": "international-objective",
   "metadata": {},
   "outputs": [
    {
     "data": {
      "text/plain": [
       "Ttest_indResult(statistic=1.9494496608578429, pvalue=0.05182494905558879)"
      ]
     },
     "execution_count": 105,
     "metadata": {},
     "output_type": "execute_result"
    }
   ],
   "source": [
    "stats.ttest_ind(r1, r2)"
   ]
  },
  {
   "cell_type": "code",
   "execution_count": 119,
   "id": "reserved-digest",
   "metadata": {},
   "outputs": [
    {
     "data": {
      "text/plain": [
       "Ttest_indResult(statistic=0.6129932585583191, pvalue=0.5401735617310095)"
      ]
     },
     "execution_count": 119,
     "metadata": {},
     "output_type": "execute_result"
    }
   ],
   "source": [
    "stats.ttest_ind(r2, r3)"
   ]
  },
  {
   "cell_type": "code",
   "execution_count": 118,
   "id": "searching-advocacy",
   "metadata": {},
   "outputs": [
    {
     "data": {
      "text/plain": [
       "Ttest_indResult(statistic=2.503071547168604, pvalue=0.012648177302144441)"
      ]
     },
     "execution_count": 118,
     "metadata": {},
     "output_type": "execute_result"
    }
   ],
   "source": [
    "stats.ttest_ind(r1, r3)"
   ]
  },
  {
   "cell_type": "markdown",
   "id": "scientific-segment",
   "metadata": {},
   "source": [
    "* **For random ranking there is a large difference between Nutriscore and No-label**"
   ]
  },
  {
   "cell_type": "markdown",
   "id": "inappropriate-craps",
   "metadata": {},
   "source": [
    "## Health ranking"
   ]
  },
  {
   "cell_type": "code",
   "execution_count": 174,
   "id": "crude-albert",
   "metadata": {},
   "outputs": [
    {
     "data": {
      "text/plain": [
       "F_onewayResult(statistic=0.2277252229214692, pvalue=0.7964000652972383)"
      ]
     },
     "execution_count": 174,
     "metadata": {},
     "output_type": "execute_result"
    }
   ],
   "source": [
    "f_oneway(h1, h2, h3)"
   ]
  },
  {
   "cell_type": "code",
   "execution_count": 122,
   "id": "devoted-ordinary",
   "metadata": {},
   "outputs": [
    {
     "data": {
      "text/plain": [
       "F_onewayResult(statistic=0.8442691070408364, pvalue=0.43032960080581295)"
      ]
     },
     "execution_count": 122,
     "metadata": {},
     "output_type": "execute_result"
    }
   ],
   "source": [
    "# Without vegetarians \n",
    "f_oneway(s1v3_fsa_no_veg, s2v3_fsa_no_veg, s3v3_fsa_no_veg)"
   ]
  },
  {
   "cell_type": "code",
   "execution_count": null,
   "id": "impaired-canada",
   "metadata": {},
   "outputs": [],
   "source": [
    "# Without allergies \n",
    "f_oneway(s1v2_fsa_no_allerg, s2v2_fsa_no_allerg, s3v2_fsa_no_allerg)"
   ]
  },
  {
   "cell_type": "code",
   "execution_count": 133,
   "id": "fifth-biology",
   "metadata": {},
   "outputs": [
    {
     "name": "stdout",
     "output_type": "stream",
     "text": [
      "Health ranking Nutriscore:\n",
      "0.4275956284153006\n",
      "0.397553516819572\n",
      "0.42424242424242437\n",
      "Health ranking MTL:\n",
      "0.4603825136612022\n",
      "0.4749262536873152\n",
      "0.4609053497942383\n",
      "Health ranking No-label:\n",
      "0.42538354253835425\n",
      "0.4361233480176217\n",
      "0.4317862165963436\n"
     ]
    }
   ],
   "source": [
    "# Nutriscore with Health ranking\n",
    "print(\"Health ranking Nutriscore:\")\n",
    "print(h1.mean())\n",
    "print(s1v3_no_veg[\"choice_sat_mean\"].mean())\n",
    "print(s1v3_no_allerg[\"choice_sat_mean\"].mean())\n",
    "\n",
    "# MTL with Health ranking\n",
    "print(\"Health ranking MTL:\")\n",
    "print(h2.mean())\n",
    "print(s2v3_no_veg[\"choice_sat_mean\"].mean())\n",
    "print(s2v3_no_allerg[\"choice_sat_mean\"].mean())\n",
    "\n",
    "# No-label with Health ranking\n",
    "print(\"Health ranking No-label:\")\n",
    "print(h3.mean())\n",
    "print(s3v3_no_veg[\"choice_sat_mean\"].mean())\n",
    "print(s3v3_no_allerg[\"choice_sat_mean\"].mean())"
   ]
  },
  {
   "cell_type": "code",
   "execution_count": 134,
   "id": "physical-choir",
   "metadata": {},
   "outputs": [
    {
     "data": {
      "text/plain": [
       "Ttest_indResult(statistic=-0.5566874723500002, pvalue=0.5779972215611981)"
      ]
     },
     "execution_count": 134,
     "metadata": {},
     "output_type": "execute_result"
    }
   ],
   "source": [
    "stats.ttest_ind(h1, h2)"
   ]
  },
  {
   "cell_type": "code",
   "execution_count": 135,
   "id": "skilled-forwarding",
   "metadata": {},
   "outputs": [
    {
     "data": {
      "text/plain": [
       "Ttest_indResult(statistic=0.6181865204051018, pvalue=0.5367449917266105)"
      ]
     },
     "execution_count": 135,
     "metadata": {},
     "output_type": "execute_result"
    }
   ],
   "source": [
    "stats.ttest_ind(h2, h3)"
   ]
  },
  {
   "cell_type": "code",
   "execution_count": 136,
   "id": "deadly-reader",
   "metadata": {},
   "outputs": [
    {
     "data": {
      "text/plain": [
       "Ttest_indResult(statistic=0.03753586636642424, pvalue=0.9700733161118344)"
      ]
     },
     "execution_count": 136,
     "metadata": {},
     "output_type": "execute_result"
    }
   ],
   "source": [
    "stats.ttest_ind(h1, h3)"
   ]
  },
  {
   "cell_type": "markdown",
   "id": "fuzzy-audience",
   "metadata": {},
   "source": [
    "* **For health ranking there is not a significant difference in choice satisfaction for the variants between conditions.**"
   ]
  },
  {
   "cell_type": "markdown",
   "id": "equivalent-hepatitis",
   "metadata": {},
   "source": [
    "# Personal factors"
   ]
  },
  {
   "cell_type": "code",
   "execution_count": null,
   "id": "retained-biodiversity",
   "metadata": {},
   "outputs": [],
   "source": [
    "## Cooking Experience"
   ]
  },
  {
   "cell_type": "code",
   "execution_count": null,
   "id": "perfect-species",
   "metadata": {},
   "outputs": [],
   "source": [
    "## American vs. Europeans"
   ]
  },
  {
   "cell_type": "code",
   "execution_count": null,
   "id": "demanding-bahrain",
   "metadata": {},
   "outputs": [],
   "source": [
    "## "
   ]
  },
  {
   "cell_type": "markdown",
   "id": "fixed-modification",
   "metadata": {},
   "source": [
    "# Repeated measure ANOVA\n",
    "* https://crumplab.github.io/statistics/repeated-measures-anova.html\n",
    "* https://www.statology.org/repeated-measures-anova-python/"
   ]
  },
  {
   "cell_type": "code",
   "execution_count": null,
   "id": "identical-light",
   "metadata": {},
   "outputs": [],
   "source": []
  },
  {
   "cell_type": "code",
   "execution_count": 19,
   "id": "informal-roberts",
   "metadata": {},
   "outputs": [
    {
     "name": "stdout",
     "output_type": "stream",
     "text": [
      "                Anova\n",
      "======================================\n",
      "        F Value Num DF  Den DF  Pr > F\n",
      "--------------------------------------\n",
      "variant  4.5166 2.0000 476.0000 0.0114\n",
      "======================================\n",
      "\n"
     ]
    }
   ],
   "source": [
    "from statsmodels.stats.anova import AnovaRM\n",
    "\n",
    "#perform the repeated measures ANOVA Nutriscore\n",
    "print(AnovaRM(data=s1, depvar='choice_sat_mean', subject='user_id', within=['variant'], aggregate_func=np.mean).fit())"
   ]
  },
  {
   "cell_type": "code",
   "execution_count": 20,
   "id": "coupled-criminal",
   "metadata": {},
   "outputs": [
    {
     "name": "stdout",
     "output_type": "stream",
     "text": [
      "                Anova\n",
      "======================================\n",
      "        F Value Num DF  Den DF  Pr > F\n",
      "--------------------------------------\n",
      "variant  0.0379 2.0000 469.0000 0.9628\n",
      "======================================\n",
      "\n"
     ]
    }
   ],
   "source": [
    "#perform the repeated measures ANOVA MTL\n",
    "print(AnovaRM(data=s2, depvar='choice_sat_mean', subject='user_id', within=['variant'], aggregate_func=np.mean).fit())"
   ]
  },
  {
   "cell_type": "code",
   "execution_count": 24,
   "id": "static-cotton",
   "metadata": {},
   "outputs": [
    {
     "name": "stdout",
     "output_type": "stream",
     "text": [
      "                Anova\n",
      "======================================\n",
      "        F Value Num DF  Den DF  Pr > F\n",
      "--------------------------------------\n",
      "variant  0.3914 2.0000 476.0000 0.6763\n",
      "======================================\n",
      "\n"
     ]
    }
   ],
   "source": [
    "#perform the repeated measures ANOVA No-label\n",
    "print(AnovaRM(data=s3, depvar='choice_sat_mean', subject='user_id', within=['variant'], aggregate_func=np.mean).fit())"
   ]
  },
  {
   "cell_type": "code",
   "execution_count": null,
   "id": "fifth-cherry",
   "metadata": {},
   "outputs": [],
   "source": []
  }
 ],
 "metadata": {
  "kernelspec": {
   "display_name": "Python 3",
   "language": "python",
   "name": "python3"
  },
  "language_info": {
   "codemirror_mode": {
    "name": "ipython",
    "version": 3
   },
   "file_extension": ".py",
   "mimetype": "text/x-python",
   "name": "python",
   "nbconvert_exporter": "python",
   "pygments_lexer": "ipython3",
   "version": "3.7.9"
  }
 },
 "nbformat": 4,
 "nbformat_minor": 5
}
