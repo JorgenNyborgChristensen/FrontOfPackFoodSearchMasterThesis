{
 "cells": [
  {
   "cell_type": "code",
   "execution_count": 17,
   "id": "determined-finger",
   "metadata": {},
   "outputs": [],
   "source": [
    "import matplotlib.pyplot as plt\n",
    "import numpy as np\n",
    "import pandas as pd\n",
    "import seaborn as sns\n",
    "import warnings\n",
    "from pylab import rcParams\n",
    "from scipy import stats\n",
    "\n",
    "import pingouin as pg\n",
    "\n",
    "from factor_analyzer import FactorAnalyzer\n",
    "from factor_analyzer.factor_analyzer import calculate_kmo\n",
    "\n",
    "from scipy.stats import f_oneway\n",
    "from scipy.stats import ttest_ind\n",
    "import statsmodels.api as sm\n",
    "from statsmodels.formula.api import ols\n",
    "pd.set_option('display.max_columns', 1000)\n",
    "pd.set_option('display.max_rows', 1000)"
   ]
  },
  {
   "cell_type": "code",
   "execution_count": 18,
   "id": "interesting-trash",
   "metadata": {},
   "outputs": [],
   "source": [
    "%matplotlib inline\n",
    "warnings.filterwarnings(\"ignore\")\n",
    "rcParams['figure.figsize'] = 20,10\n",
    "rcParams['font.size'] = 30\n",
    "sns.set()\n",
    "np.random.seed(8)"
   ]
  },
  {
   "cell_type": "code",
   "execution_count": 19,
   "id": "synthetic-attribute",
   "metadata": {},
   "outputs": [],
   "source": [
    "# Selected recipes\n",
    "s1 = pd.read_csv(\"./Pro_1/selectedrecipes.csv\")\n",
    "s2 = pd.read_csv(\"./Pro_2/selectedrecipes.csv\")\n",
    "s3 = pd.read_csv(\"./Pro_3/selectedrecipes.csv\")\n",
    "\n",
    "\n",
    "# Demographic\n",
    "demo1 = pd.read_csv(\"./Pro_1/demographics.csv\")\n",
    "demo2 = pd.read_csv(\"./Pro_2/demographics.csv\")\n",
    "demo3 = pd.read_csv(\"./Pro_3/demographics.csv\")\n",
    "md = pd.concat([demo1, demo2, demo3])"
   ]
  },
  {
   "cell_type": "code",
   "execution_count": 20,
   "id": "broken-convergence",
   "metadata": {},
   "outputs": [],
   "source": [
    "# Calculate mean for choice satisfaction for each participant\n",
    "choice_sat = s1.loc[: , \"choice_sat_q1\":\"choice_sat_q3\"]\n",
    "s1['choice_sat_mean'] = choice_sat.mean(axis=1)\n",
    "\n",
    "choice_dif2 = s2.loc[: , \"choice_sat_q1\":\"choice_sat_q3\"] \n",
    "s2['choice_sat_mean'] = choice_dif2.mean(axis=1)\n",
    "\n",
    "choice_dif3 = s3.loc[: , \"choice_sat_q1\":\"choice_sat_q3\"] \n",
    "s3['choice_sat_mean'] = choice_dif3.mean(axis=1)"
   ]
  },
  {
   "cell_type": "code",
   "execution_count": 21,
   "id": "present-resort",
   "metadata": {},
   "outputs": [],
   "source": [
    "# Add all data to one DF\n",
    "ms = pd.concat([s1, s2, s3])\n",
    "\n",
    "# Balance data (remove where user_id only selected 2 recipes)\n",
    "ms = ms[ms['user_id'].map(ms['user_id'].value_counts()) > 2]"
   ]
  },
  {
   "cell_type": "code",
   "execution_count": 22,
   "id": "departmental-uniform",
   "metadata": {},
   "outputs": [],
   "source": [
    "# Create a new column with names for each label\n",
    "def label_name (row):\n",
    "    if row['condition'] == 1 :\n",
    "        return 'Nutriscore'\n",
    "    if row['condition'] == 2 :\n",
    "        return 'MTL'\n",
    "    if row['condition'] == 3 :\n",
    "        return 'No-label'\n",
    "\n",
    "def rank_name (row):\n",
    "    if row['variant'] == 1 :\n",
    "        return 'Popular'\n",
    "    if row['variant'] == 2 :\n",
    "        return 'Random'\n",
    "    if row['variant'] == 3 :\n",
    "        return 'Health'\n",
    "\n",
    "def numeric_nutriscore (row):\n",
    "    if row['nutri_score'] == 'A' :\n",
    "        return 1\n",
    "    if row['nutri_score'] == 'B' :\n",
    "        return 2\n",
    "    if row['nutri_score'] == 'C' :\n",
    "        return 3\n",
    "    if row['nutri_score'] == 'D' :\n",
    "        return 4\n",
    "    if row['nutri_score'] == 'E' :\n",
    "        return 5\n",
    "\n",
    "\n",
    "ms['Label'] = ms.apply(lambda row: label_name(row), axis=1)\n",
    "ms['Rank'] = ms.apply(lambda row: rank_name(row), axis=1)\n",
    "ms['num_nutriscore'] = ms.apply(lambda row: numeric_nutriscore(row), axis=1)"
   ]
  },
  {
   "cell_type": "code",
   "execution_count": 24,
   "id": "systematic-houston",
   "metadata": {},
   "outputs": [],
   "source": [
    "ms.to_csv(\"ms_choice_sat.csv\")"
   ]
  },
  {
   "cell_type": "markdown",
   "id": "stainless-sound",
   "metadata": {},
   "source": [
    "# Factoral analysis\n",
    "* Determine if we can use the mean of the 3 choice satisfaction questions\n",
    "\n",
    "http://www.let.rug.nl/nerbonne/teach/rema-stats-meth-seminar/student-papers/MHof-QuestionnaireEvaluation-2012-Cronbach-FactAnalysis.pdf"
   ]
  },
  {
   "cell_type": "code",
   "execution_count": 8,
   "id": "tamil-wealth",
   "metadata": {},
   "outputs": [
    {
     "name": "stdout",
     "output_type": "stream",
     "text": [
      "[0.71804461 0.66000349 0.73525222]\n",
      "0.7003136740267455\n",
      "Factor Loadings \n",
      "               Factor 1\n",
      "choice_sat_q1 -0.730872\n",
      "choice_sat_q2 -0.859774\n",
      "choice_sat_q3 -0.709326\n",
      "\\begin{tabular}{r}\n",
      "\\toprule\n",
      " Factor 1 \\\\\n",
      "\\midrule\n",
      "-0.730872 \\\\\n",
      "-0.859774 \\\\\n",
      "-0.709326 \\\\\n",
      "\\bottomrule\n",
      "\\end{tabular}\n",
      "\n"
     ]
    }
   ],
   "source": [
    "choice_sat = ms[[\"choice_sat_q1\",\"choice_sat_q2\", \"choice_sat_q3\"]]\n",
    "\n",
    "kmo_all,kmo_model=calculate_kmo(choice_sat)\n",
    "\n",
    "fa = FactorAnalyzer(1)\n",
    "fa.fit(choice_sat)\n",
    "\n",
    "loadings = pd.DataFrame(fa.loadings_, columns=['Factor 1'], index=choice_sat.columns)\n",
    "print(kmo_all)\n",
    "print(kmo_model)\n",
    "print('Factor Loadings \\n%s' %loadings)\n",
    "\n",
    "loadings = pd.DataFrame(loadings)\n",
    "loadings\n",
    "print(loadings.to_latex(index=False))"
   ]
  },
  {
   "cell_type": "markdown",
   "id": "subtle-microphone",
   "metadata": {},
   "source": [
    "## Cronbach’s Alpha\n",
    "http://www.let.rug.nl/nerbonne/teach/rema-stats-meth-seminar/student-papers/MHof-QuestionnaireEvaluation-2012-Cronbach-FactAnalysis.pdf"
   ]
  },
  {
   "cell_type": "code",
   "execution_count": 45,
   "id": "missing-turner",
   "metadata": {},
   "outputs": [
    {
     "data": {
      "text/plain": [
       "(0.8059620045840863, array([0.791, 0.82 ]))"
      ]
     },
     "execution_count": 45,
     "metadata": {},
     "output_type": "execute_result"
    }
   ],
   "source": [
    "# Choice satisfaction questions\n",
    "choice_sat = ms[[\"choice_sat_q1\",\"choice_sat_q2\", \"choice_sat_q3\"]]\n",
    "pg.cronbach_alpha(data=choice_sat)"
   ]
  },
  {
   "cell_type": "markdown",
   "id": "happy-oakland",
   "metadata": {},
   "source": [
    "* The alpha coefficient for the four items is .805, suggesting that the items have relatively high internal consistency.  (Note that a reliability coefficient of .70 or higher is considered “acceptable” in most social science research situations.)\n",
    "    * https://stats.idre.ucla.edu/spss/faq/what-does-cronbachs-alpha-mean/"
   ]
  },
  {
   "cell_type": "markdown",
   "id": "funded-mileage",
   "metadata": {},
   "source": [
    "* We used "
   ]
  },
  {
   "cell_type": "code",
   "execution_count": null,
   "id": "oriental-tuition",
   "metadata": {},
   "outputs": [],
   "source": [
    "# Compare responses from Prolific and Mturk"
   ]
  }
 ],
 "metadata": {
  "kernelspec": {
   "display_name": "Python 3",
   "language": "python",
   "name": "python3"
  },
  "language_info": {
   "codemirror_mode": {
    "name": "ipython",
    "version": 3
   },
   "file_extension": ".py",
   "mimetype": "text/x-python",
   "name": "python",
   "nbconvert_exporter": "python",
   "pygments_lexer": "ipython3",
   "version": "3.7.9"
  }
 },
 "nbformat": 4,
 "nbformat_minor": 5
}
